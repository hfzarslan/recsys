{
 "cells": [
  {
   "cell_type": "code",
   "execution_count": 60,
   "metadata": {},
   "outputs": [],
   "source": [
    "# import Libraries\n",
    "%matplotlib inline\n",
    "import matplotlib.pyplot as plt\n",
    "import numpy as np\n",
    "import pandas as pd\n",
    "import random\n",
    "import scipy.sparse as sp\n",
    "from scipy.special import expit\n",
    "from sklearn.feature_extraction import DictVectorizer\n",
    "import pickle\n",
    "import csv\n",
    "import copy\n",
    "import itertools\n",
    "from lightfm import LightFM\n",
    "import lightfm.evaluation\n",
    "import helper_functions\n",
    "from lightfm.evaluation import auc_score, reciprocal_rank,precision_at_k\n",
    "from scipy.sparse import coo_matrix # for constructing sparse matrix\n",
    "# timing\n",
    "import time"
   ]
  },
  {
   "cell_type": "code",
   "execution_count": 61,
   "metadata": {},
   "outputs": [],
   "source": [
    "# data folder path\n",
    "PATH_TO_DATA = 'data/'\n",
    "# read csv files\n",
    "# dec_df = pd.read_csv(PATH_TO_DATA + '2019-Dec.csv')\n",
    "nov_df = pd.read_csv(PATH_TO_DATA + '2019-Nov.csv')\n",
    "oct_df = pd.read_csv(PATH_TO_DATA + '2019-Oct.csv')"
   ]
  },
  {
   "cell_type": "code",
   "execution_count": 62,
   "metadata": {},
   "outputs": [],
   "source": [
    "# filtering purchase data only \n",
    "# dec_df = dec_df.loc[dec_df['event_type'] == 'purchase']\n",
    "nov_df = nov_df.loc[nov_df['event_type'] == 'purchase']\n",
    "oct_df = oct_df.loc[oct_df['event_type'] == 'purchase']"
   ]
  },
  {
   "cell_type": "code",
   "execution_count": 63,
   "metadata": {},
   "outputs": [
    {
     "data": {
      "text/plain": [
       "(1065266, 9)"
      ]
     },
     "execution_count": 63,
     "metadata": {},
     "output_type": "execute_result"
    }
   ],
   "source": [
    "# concate 2 month data\n",
    "Final_data = pd.concat([oct_df, nov_df], ignore_index=True)\n",
    "Final_data.shape"
   ]
  },
  {
   "cell_type": "code",
   "execution_count": 64,
   "metadata": {},
   "outputs": [
    {
     "data": {
      "text/html": [
       "<div>\n",
       "<style scoped>\n",
       "    .dataframe tbody tr th:only-of-type {\n",
       "        vertical-align: middle;\n",
       "    }\n",
       "\n",
       "    .dataframe tbody tr th {\n",
       "        vertical-align: top;\n",
       "    }\n",
       "\n",
       "    .dataframe thead th {\n",
       "        text-align: right;\n",
       "    }\n",
       "</style>\n",
       "<table border=\"1\" class=\"dataframe\">\n",
       "  <thead>\n",
       "    <tr style=\"text-align: right;\">\n",
       "      <th></th>\n",
       "      <th>event_time</th>\n",
       "      <th>event_type</th>\n",
       "      <th>product_id</th>\n",
       "      <th>category_id</th>\n",
       "      <th>category_code</th>\n",
       "      <th>brand</th>\n",
       "      <th>price</th>\n",
       "      <th>user_id</th>\n",
       "      <th>user_session</th>\n",
       "    </tr>\n",
       "  </thead>\n",
       "  <tbody>\n",
       "    <tr>\n",
       "      <th>0</th>\n",
       "      <td>2019-10-01 00:02:14 UTC</td>\n",
       "      <td>purchase</td>\n",
       "      <td>1004856</td>\n",
       "      <td>2053013555631882655</td>\n",
       "      <td>electronics.smartphone</td>\n",
       "      <td>samsung</td>\n",
       "      <td>130.76</td>\n",
       "      <td>543272936</td>\n",
       "      <td>8187d148-3c41-46d4-b0c0-9c08cd9dc564</td>\n",
       "    </tr>\n",
       "    <tr>\n",
       "      <th>1</th>\n",
       "      <td>2019-10-01 00:04:37 UTC</td>\n",
       "      <td>purchase</td>\n",
       "      <td>1002532</td>\n",
       "      <td>2053013555631882655</td>\n",
       "      <td>electronics.smartphone</td>\n",
       "      <td>apple</td>\n",
       "      <td>642.69</td>\n",
       "      <td>551377651</td>\n",
       "      <td>3c80f0d6-e9ec-4181-8c5c-837a30be2d68</td>\n",
       "    </tr>\n",
       "    <tr>\n",
       "      <th>2</th>\n",
       "      <td>2019-10-01 00:06:02 UTC</td>\n",
       "      <td>purchase</td>\n",
       "      <td>5100816</td>\n",
       "      <td>2053013553375346967</td>\n",
       "      <td>NaN</td>\n",
       "      <td>xiaomi</td>\n",
       "      <td>29.51</td>\n",
       "      <td>514591159</td>\n",
       "      <td>0e5dfc4b-2a55-43e6-8c05-97e1f07fbb56</td>\n",
       "    </tr>\n",
       "    <tr>\n",
       "      <th>3</th>\n",
       "      <td>2019-10-01 00:07:07 UTC</td>\n",
       "      <td>purchase</td>\n",
       "      <td>13800054</td>\n",
       "      <td>2053013557418656265</td>\n",
       "      <td>furniture.bathroom.toilet</td>\n",
       "      <td>santeri</td>\n",
       "      <td>54.42</td>\n",
       "      <td>555332717</td>\n",
       "      <td>1dea3ee2-2ded-42e8-8e7a-4e2ad6ae942f</td>\n",
       "    </tr>\n",
       "    <tr>\n",
       "      <th>4</th>\n",
       "      <td>2019-10-01 00:09:26 UTC</td>\n",
       "      <td>purchase</td>\n",
       "      <td>4804055</td>\n",
       "      <td>2053013554658804075</td>\n",
       "      <td>electronics.audio.headphone</td>\n",
       "      <td>apple</td>\n",
       "      <td>189.91</td>\n",
       "      <td>524601178</td>\n",
       "      <td>2af9b570-0942-4dcd-8f25-4d84fba82553</td>\n",
       "    </tr>\n",
       "  </tbody>\n",
       "</table>\n",
       "</div>"
      ],
      "text/plain": [
       "                event_time event_type  product_id          category_id  \\\n",
       "0  2019-10-01 00:02:14 UTC   purchase     1004856  2053013555631882655   \n",
       "1  2019-10-01 00:04:37 UTC   purchase     1002532  2053013555631882655   \n",
       "2  2019-10-01 00:06:02 UTC   purchase     5100816  2053013553375346967   \n",
       "3  2019-10-01 00:07:07 UTC   purchase    13800054  2053013557418656265   \n",
       "4  2019-10-01 00:09:26 UTC   purchase     4804055  2053013554658804075   \n",
       "\n",
       "                 category_code    brand   price    user_id  \\\n",
       "0       electronics.smartphone  samsung  130.76  543272936   \n",
       "1       electronics.smartphone    apple  642.69  551377651   \n",
       "2                          NaN   xiaomi   29.51  514591159   \n",
       "3    furniture.bathroom.toilet  santeri   54.42  555332717   \n",
       "4  electronics.audio.headphone    apple  189.91  524601178   \n",
       "\n",
       "                           user_session  \n",
       "0  8187d148-3c41-46d4-b0c0-9c08cd9dc564  \n",
       "1  3c80f0d6-e9ec-4181-8c5c-837a30be2d68  \n",
       "2  0e5dfc4b-2a55-43e6-8c05-97e1f07fbb56  \n",
       "3  1dea3ee2-2ded-42e8-8e7a-4e2ad6ae942f  \n",
       "4  2af9b570-0942-4dcd-8f25-4d84fba82553  "
      ]
     },
     "execution_count": 64,
     "metadata": {},
     "output_type": "execute_result"
    }
   ],
   "source": [
    "# drop dublicate if any \n",
    "Final_data.drop_duplicates(inplace=True)\n",
    "# final data\n",
    "Final_data.head()"
   ]
  },
  {
   "cell_type": "code",
   "execution_count": 65,
   "metadata": {},
   "outputs": [
    {
     "name": "stdout",
     "output_type": "stream",
     "text": [
      "Starting interactions info\n",
      "Number of rows: 378642\n",
      "Number of cols: 71122\n",
      "Sparsity: 0.004%\n",
      "Ending interactions info\n",
      "Number of rows: 56150\n",
      "Number of columns: 21245\n",
      "Sparsity: 0.047%\n"
     ]
    }
   ],
   "source": [
    "# Threshold data to only include users and models with min 4 products.\n",
    "threshold_data_interations = helper_functions.threshold_interactions_df(Final_data, 'user_id', 'product_id', 4, 4)"
   ]
  },
  {
   "cell_type": "code",
   "execution_count": 66,
   "metadata": {},
   "outputs": [
    {
     "data": {
      "text/html": [
       "<div>\n",
       "<style scoped>\n",
       "    .dataframe tbody tr th:only-of-type {\n",
       "        vertical-align: middle;\n",
       "    }\n",
       "\n",
       "    .dataframe tbody tr th {\n",
       "        vertical-align: top;\n",
       "    }\n",
       "\n",
       "    .dataframe thead th {\n",
       "        text-align: right;\n",
       "    }\n",
       "</style>\n",
       "<table border=\"1\" class=\"dataframe\">\n",
       "  <thead>\n",
       "    <tr style=\"text-align: right;\">\n",
       "      <th></th>\n",
       "      <th>event_time</th>\n",
       "      <th>event_type</th>\n",
       "      <th>product_id</th>\n",
       "      <th>category_id</th>\n",
       "      <th>category_code</th>\n",
       "      <th>brand</th>\n",
       "      <th>price</th>\n",
       "      <th>user_id</th>\n",
       "      <th>user_session</th>\n",
       "    </tr>\n",
       "  </thead>\n",
       "  <tbody>\n",
       "    <tr>\n",
       "      <th>0</th>\n",
       "      <td>2019-10-01 00:02:14 UTC</td>\n",
       "      <td>purchase</td>\n",
       "      <td>1004856</td>\n",
       "      <td>2053013555631882655</td>\n",
       "      <td>electronics.smartphone</td>\n",
       "      <td>samsung</td>\n",
       "      <td>130.76</td>\n",
       "      <td>543272936</td>\n",
       "      <td>8187d148-3c41-46d4-b0c0-9c08cd9dc564</td>\n",
       "    </tr>\n",
       "    <tr>\n",
       "      <th>1</th>\n",
       "      <td>2019-10-01 00:04:37 UTC</td>\n",
       "      <td>purchase</td>\n",
       "      <td>1002532</td>\n",
       "      <td>2053013555631882655</td>\n",
       "      <td>electronics.smartphone</td>\n",
       "      <td>apple</td>\n",
       "      <td>642.69</td>\n",
       "      <td>551377651</td>\n",
       "      <td>3c80f0d6-e9ec-4181-8c5c-837a30be2d68</td>\n",
       "    </tr>\n",
       "    <tr>\n",
       "      <th>5</th>\n",
       "      <td>2019-10-01 00:09:54 UTC</td>\n",
       "      <td>purchase</td>\n",
       "      <td>4804056</td>\n",
       "      <td>2053013554658804075</td>\n",
       "      <td>electronics.audio.headphone</td>\n",
       "      <td>apple</td>\n",
       "      <td>161.98</td>\n",
       "      <td>551377651</td>\n",
       "      <td>3c80f0d6-e9ec-4181-8c5c-837a30be2d68</td>\n",
       "    </tr>\n",
       "    <tr>\n",
       "      <th>8</th>\n",
       "      <td>2019-10-01 00:12:14 UTC</td>\n",
       "      <td>purchase</td>\n",
       "      <td>4802036</td>\n",
       "      <td>2053013554658804075</td>\n",
       "      <td>electronics.audio.headphone</td>\n",
       "      <td>apple</td>\n",
       "      <td>171.56</td>\n",
       "      <td>533624186</td>\n",
       "      <td>e5ac3caa-e6d5-4d6b-ae06-2c18cd9ca683</td>\n",
       "    </tr>\n",
       "    <tr>\n",
       "      <th>10</th>\n",
       "      <td>2019-10-01 02:19:10 UTC</td>\n",
       "      <td>purchase</td>\n",
       "      <td>1004246</td>\n",
       "      <td>2053013555631882655</td>\n",
       "      <td>electronics.smartphone</td>\n",
       "      <td>apple</td>\n",
       "      <td>736.18</td>\n",
       "      <td>515246296</td>\n",
       "      <td>b7dbae4f-cad3-463e-89ce-41990cf48dea</td>\n",
       "    </tr>\n",
       "  </tbody>\n",
       "</table>\n",
       "</div>"
      ],
      "text/plain": [
       "                 event_time event_type  product_id          category_id  \\\n",
       "0   2019-10-01 00:02:14 UTC   purchase     1004856  2053013555631882655   \n",
       "1   2019-10-01 00:04:37 UTC   purchase     1002532  2053013555631882655   \n",
       "5   2019-10-01 00:09:54 UTC   purchase     4804056  2053013554658804075   \n",
       "8   2019-10-01 00:12:14 UTC   purchase     4802036  2053013554658804075   \n",
       "10  2019-10-01 02:19:10 UTC   purchase     1004246  2053013555631882655   \n",
       "\n",
       "                  category_code    brand   price    user_id  \\\n",
       "0        electronics.smartphone  samsung  130.76  543272936   \n",
       "1        electronics.smartphone    apple  642.69  551377651   \n",
       "5   electronics.audio.headphone    apple  161.98  551377651   \n",
       "8   electronics.audio.headphone    apple  171.56  533624186   \n",
       "10       electronics.smartphone    apple  736.18  515246296   \n",
       "\n",
       "                            user_session  \n",
       "0   8187d148-3c41-46d4-b0c0-9c08cd9dc564  \n",
       "1   3c80f0d6-e9ec-4181-8c5c-837a30be2d68  \n",
       "5   3c80f0d6-e9ec-4181-8c5c-837a30be2d68  \n",
       "8   e5ac3caa-e6d5-4d6b-ae06-2c18cd9ca683  \n",
       "10  b7dbae4f-cad3-463e-89ce-41990cf48dea  "
      ]
     },
     "execution_count": 66,
     "metadata": {},
     "output_type": "execute_result"
    }
   ],
   "source": [
    "# threshold data\n",
    "threshold_data_interations.head()"
   ]
  },
  {
   "cell_type": "code",
   "execution_count": 67,
   "metadata": {},
   "outputs": [],
   "source": [
    "# getting unique items and users list, this will use when we recommend products to certain user\n",
    "items = helper_functions.get_item_list(threshold_data_interations, \"product_id\")\n",
    "users_list = helper_functions.get_user_list(threshold_data_interations, \"user_id\")"
   ]
  },
  {
   "cell_type": "code",
   "execution_count": 68,
   "metadata": {},
   "outputs": [
    {
     "data": {
      "text/plain": [
       "<56150x21245 sparse matrix of type '<class 'numpy.float64'>'\n",
       "\twith 410712 stored elements in Compressed Sparse Row format>"
      ]
     },
     "execution_count": 68,
     "metadata": {},
     "output_type": "execute_result"
    }
   ],
   "source": [
    "# Go from dataframe to interaction matrix\n",
    "# Also, build index to ID mappers.\n",
    "interations, uid_to_idx, idx_to_uid,\\\n",
    "mid_to_idx, idx_to_mid = helper_functions.df_to_matrix(threshold_data_interations, 'user_id', 'product_id')\n",
    "\n",
    "interations"
   ]
  },
  {
   "cell_type": "code",
   "execution_count": 69,
   "metadata": {},
   "outputs": [],
   "source": [
    "# train test split\n",
    "train, test, user_index = helper_functions.train_test_split(interations, 4, fraction=0.2)"
   ]
  },
  {
   "cell_type": "code",
   "execution_count": 70,
   "metadata": {},
   "outputs": [],
   "source": [
    "# getting dict of product and category \n",
    "feat_dlist = [{} for _ in idx_to_mid]\n",
    "for idx, row in threshold_data_interations.iterrows():\n",
    "    feat_key = '{}'.format(row.category_id)\n",
    "    idx = mid_to_idx.get(row.product_id)\n",
    "    if idx is not None:\n",
    "        feat_dlist[idx][feat_key] = 1"
   ]
  },
  {
   "cell_type": "code",
   "execution_count": 71,
   "metadata": {},
   "outputs": [
    {
     "data": {
      "text/plain": [
       "{'2053013554658804075': 1}"
      ]
     },
     "execution_count": 71,
     "metadata": {},
     "output_type": "execute_result"
    }
   ],
   "source": [
    "feat_dlist[7]"
   ]
  },
  {
   "cell_type": "code",
   "execution_count": 72,
   "metadata": {},
   "outputs": [],
   "source": [
    "# sparse matrix for product and catgories\n",
    "dv = DictVectorizer()\n",
    "item_features = dv.fit_transform(feat_dlist)"
   ]
  },
  {
   "cell_type": "code",
   "execution_count": 73,
   "metadata": {},
   "outputs": [
    {
     "data": {
      "text/plain": [
       "<21245x752 sparse matrix of type '<class 'numpy.float64'>'\n",
       "\twith 21278 stored elements in Compressed Sparse Row format>"
      ]
     },
     "execution_count": 73,
     "metadata": {},
     "output_type": "execute_result"
    }
   ],
   "source": [
    "item_features"
   ]
  },
  {
   "cell_type": "code",
   "execution_count": 74,
   "metadata": {},
   "outputs": [],
   "source": [
    "# initialising model with warp loss function\n",
    "model_without_features = LightFM(loss = \"warp\")"
   ]
  },
  {
   "cell_type": "markdown",
   "metadata": {},
   "source": [
    "## Experiment 1 using only Interation Matrix"
   ]
  },
  {
   "cell_type": "code",
   "execution_count": 75,
   "metadata": {},
   "outputs": [
    {
     "name": "stdout",
     "output_type": "stream",
     "text": [
      "time taken = 17.65 seconds\n"
     ]
    }
   ],
   "source": [
    "# fitting into user to product interaction matrix only / pure collaborative filtering factor\n",
    "\n",
    "start = time.time()\n",
    "\n",
    "\n",
    "model_without_features.fit(train,\n",
    "          user_features=None, \n",
    "          item_features=None, \n",
    "          sample_weight=None, \n",
    "          epochs=40, \n",
    "          num_threads=4,\n",
    "          verbose=False)\n",
    "\n",
    "\n",
    "end = time.time()\n",
    "print(\"time taken = {0:.{1}f} seconds\".format(end - start, 2))"
   ]
  },
  {
   "cell_type": "code",
   "execution_count": 76,
   "metadata": {},
   "outputs": [
    {
     "name": "stdout",
     "output_type": "stream",
     "text": [
      "time taken = 8.77 seconds\n"
     ]
    }
   ],
   "source": [
    "# auc metric score (ranging from 0 to 1)\n",
    "\n",
    "start = time.time()\n",
    "\n",
    "# AUC Score\n",
    "auc_without_features = auc_score(model = model_without_features, \n",
    "                        test_interactions = test,\n",
    "                        num_threads = 4, check_intersections = False)\n",
    "\n",
    "end = time.time()\n",
    "print(\"time taken = {0:.{1}f} seconds\".format(end - start, 2))"
   ]
  },
  {
   "cell_type": "code",
   "execution_count": 77,
   "metadata": {},
   "outputs": [
    {
     "name": "stdout",
     "output_type": "stream",
     "text": [
      "average AUC without adding item-feature interaction = 0.89\n"
     ]
    }
   ],
   "source": [
    "print(\"average AUC without adding item-feature interaction = {0:.{1}f}\".format(auc_without_features.mean(), 2))"
   ]
  },
  {
   "cell_type": "markdown",
   "metadata": {},
   "source": [
    "## Experiment 2 with Item Features"
   ]
  },
  {
   "cell_type": "code",
   "execution_count": 78,
   "metadata": {},
   "outputs": [],
   "source": [
    "# initialising model with warp loss function\n",
    "model_with_features = LightFM(loss = \"warp\")"
   ]
  },
  {
   "cell_type": "code",
   "execution_count": 79,
   "metadata": {},
   "outputs": [
    {
     "name": "stdout",
     "output_type": "stream",
     "text": [
      "time taken = 16.12 seconds\n"
     ]
    }
   ],
   "source": [
    "# fitting the model with hybrid collaborative filtering + content based (product + features)\n",
    "start = time.time()\n",
    "\n",
    "\n",
    "# fitting the model\n",
    "model_with_features.fit(train,\n",
    "          user_features=None, \n",
    "          item_features=item_features, \n",
    "          sample_weight=None, \n",
    "          epochs=40, \n",
    "          num_threads=4,\n",
    "          verbose=False)\n",
    "\n",
    "\n",
    "end = time.time()\n",
    "print(\"time taken = {0:.{1}f} seconds\".format(end - start, 2))"
   ]
  },
  {
   "cell_type": "code",
   "execution_count": 80,
   "metadata": {},
   "outputs": [
    {
     "name": "stdout",
     "output_type": "stream",
     "text": [
      "time taken = 11.54 seconds\n"
     ]
    }
   ],
   "source": [
    "start = time.time()\n",
    "# AUC Score\n",
    "auc_with_features = auc_score(model = model_with_features, \n",
    "                        test_interactions = test,\n",
    "                        train_interactions = train, \n",
    "                        item_features = item_features,\n",
    "                        num_threads = 4, check_intersections=False)\n",
    "\n",
    "end = time.time()\n",
    "print(\"time taken = {0:.{1}f} seconds\".format(end - start, 2))\n",
    "\n",
    "\n",
    "\n",
    "# model, test_interactions, train_interactions=None, \n",
    "# user_features=None, item_features=None, preserve_rows=False, num_threads=1, check_intersections=True"
   ]
  },
  {
   "cell_type": "code",
   "execution_count": 81,
   "metadata": {},
   "outputs": [
    {
     "name": "stdout",
     "output_type": "stream",
     "text": [
      "average AUC with adding item-feature interaction = 0.89\n"
     ]
    }
   ],
   "source": [
    "print(\"average AUC with adding item-feature interaction = {0:.{1}f}\".format(auc_with_features.mean(), 2))"
   ]
  },
  {
   "cell_type": "markdown",
   "metadata": {},
   "source": [
    "### Requesting Products / Items Recommendation\n",
    "\n",
    "we need to combine the training and the test set and retrain everything"
   ]
  },
  {
   "cell_type": "code",
   "execution_count": 82,
   "metadata": {},
   "outputs": [],
   "source": [
    "def combined_train_test(train, test):\n",
    "    \"\"\"\n",
    "    \n",
    "    test set is the more recent rating/number_of_order of users.\n",
    "    train set is the previous rating/number_of_order of users.\n",
    "    non-zero value in the test set will replace the elements in \n",
    "    the train set matrices\n",
    "\n",
    "    \"\"\"\n",
    "    # initialising train dict\n",
    "    train_dict = {}\n",
    "    for train_row, train_col, train_data in zip(train.row, train.col, train.data):\n",
    "        train_dict[(train_row, train_col)] = train_data\n",
    "        \n",
    "    # replacing with the test set\n",
    "    \n",
    "    for test_row, test_col, test_data in zip(test.row, test.col, test.data):\n",
    "        train_dict[(test_row, test_col)] = max(test_data, train_dict.get((test_row, test_col), 0))\n",
    "        \n",
    "    \n",
    "    # converting to the row\n",
    "    row_element = []\n",
    "    col_element = []\n",
    "    data_element = []\n",
    "    for row, col in train_dict:\n",
    "        row_element.append(row)\n",
    "        col_element.append(col)\n",
    "        data_element.append(train_dict[(row, col)])\n",
    "        \n",
    "    # converting to np array\n",
    "    \n",
    "    row_element = np.array(row_element)\n",
    "    col_element = np.array(col_element)\n",
    "    data_element = np.array(data_element)\n",
    "    \n",
    "    return coo_matrix((data_element, (row_element, col_element)), shape = (train.shape[0], train.shape[1]))"
   ]
  },
  {
   "cell_type": "code",
   "execution_count": 83,
   "metadata": {},
   "outputs": [],
   "source": [
    "user_to_product_interaction = combined_train_test(train.tocoo(), test.tocoo())"
   ]
  },
  {
   "cell_type": "code",
   "execution_count": 84,
   "metadata": {},
   "outputs": [
    {
     "data": {
      "text/plain": [
       "<56150x21245 sparse matrix of type '<class 'numpy.float64'>'\n",
       "\twith 410712 stored elements in COOrdinate format>"
      ]
     },
     "execution_count": 84,
     "metadata": {},
     "output_type": "execute_result"
    }
   ],
   "source": [
    "user_to_product_interaction"
   ]
  },
  {
   "cell_type": "code",
   "execution_count": 85,
   "metadata": {},
   "outputs": [
    {
     "name": "stdout",
     "output_type": "stream",
     "text": [
      "time taken = 19.34 seconds\n"
     ]
    }
   ],
   "source": [
    "# retraining the final model with combined dataset\n",
    "\n",
    "final_model = LightFM(loss = \"warp\")\n",
    "\n",
    "# fitting to combined dataset with pure collaborative filtering result\n",
    "\n",
    "start = time.time()\n",
    "\n",
    "\n",
    "final_model.fit(user_to_product_interaction,\n",
    "          user_features=None, \n",
    "          item_features=None, \n",
    "          sample_weight=None, \n",
    "          epochs=40, \n",
    "          num_threads=4,\n",
    "          verbose=False)\n",
    "\n",
    "\n",
    "end = time.time()\n",
    "print(\"time taken = {0:.{1}f} seconds\".format(end - start, 2))"
   ]
  },
  {
   "cell_type": "code",
   "execution_count": 86,
   "metadata": {},
   "outputs": [],
   "source": [
    "class recommendation_sampling:\n",
    "    \n",
    "    def __init__(self, model, items = items, user_to_product_interaction_matrix = user_to_product_interaction, \n",
    "                user2index_map = uid_to_idx):\n",
    "        \n",
    "        self.user_to_product_interaction_matrix = user_to_product_interaction_matrix\n",
    "        self.model = model\n",
    "        self.items = items\n",
    "        self.user2index_map = user2index_map\n",
    "    \n",
    "    def recommendation_for_user(self, user):\n",
    "        \n",
    "        # getting the userindex\n",
    "        \n",
    "        userindex = self.user2index_map.get(user, None)\n",
    "        \n",
    "        if userindex == None:\n",
    "            return None\n",
    "        \n",
    "        users = [userindex]\n",
    "        print(users)\n",
    "        # products already bought\n",
    "        \n",
    "        known_positives = self.items[self.user_to_product_interaction_matrix.tocsr()[userindex].indices]\n",
    "        \n",
    "        # scores from model prediction\n",
    "        scores = self.model.predict(user_ids = users[0], item_ids = np.arange(self.user_to_product_interaction_matrix.shape[1]))\n",
    "        \n",
    "        # top items\n",
    "        \n",
    "        top_items = self.items[np.argsort(-scores)]\n",
    "        \n",
    "        # printing out the result\n",
    "        print(\"User ID: %s\" % user)\n",
    "        print(\"     Known positives Products:\")\n",
    "        \n",
    "        for x in known_positives[:5]:\n",
    "            print(\"                  %s\" % x)\n",
    "            \n",
    "            \n",
    "        print(\"     Recommended Products:\")\n",
    "        \n",
    "        for x in top_items[:5]:\n",
    "            print(\"                  %s\" % x)"
   ]
  },
  {
   "cell_type": "code",
   "execution_count": 87,
   "metadata": {},
   "outputs": [],
   "source": [
    "# giving recommendations\n",
    "recom = recommendation_sampling(model = final_model)"
   ]
  },
  {
   "cell_type": "markdown",
   "metadata": {},
   "source": [
    "### Recommend Products to Single User"
   ]
  },
  {
   "cell_type": "code",
   "execution_count": 88,
   "metadata": {},
   "outputs": [
    {
     "name": "stdout",
     "output_type": "stream",
     "text": [
      "[25260]\n",
      "User ID: 513631154\n",
      "     Known positives Products:\n",
      "                  1005105\n",
      "                  1004249\n",
      "                  1005115\n",
      "                  4803780\n",
      "     Recommended Products:\n",
      "                  1005115\n",
      "                  1005105\n",
      "                  1004249\n",
      "                  4804056\n",
      "                  1004237\n"
     ]
    }
   ],
   "source": [
    "recom.recommendation_for_user(random.choice(users_list))"
   ]
  },
  {
   "cell_type": "markdown",
   "metadata": {},
   "source": [
    "### Recommend Products to Multiple Users "
   ]
  },
  {
   "cell_type": "code",
   "execution_count": 89,
   "metadata": {},
   "outputs": [],
   "source": [
    "def sample_recommendation(model, data, uid_to_idx, items, user_ids):\n",
    "\n",
    "\n",
    "    n_users, n_items = data.shape\n",
    "\n",
    "    for user_id in user_ids:\n",
    "        userindex = uid_to_idx.get(user_id, None)\n",
    "        if userindex == None:\n",
    "            continue\n",
    "        users = [userindex]\n",
    "        known_positives = items[data.tocsr()[userindex].indices]\n",
    "\n",
    "        scores = model.predict(users[0], item_ids = np.arange(data.shape[1]))\n",
    "        top_items = items[np.argsort(-scores)]\n",
    "\n",
    "        print(\"User ID: %s\" % user_id)\n",
    "        print(\"     Known positives Product:\")\n",
    "\n",
    "        for x in known_positives[:5]:\n",
    "            print(\"        %s\" % x)\n",
    "\n",
    "        print(\"     Recommended Product:\")\n",
    "\n",
    "        for x in top_items[:5]:\n",
    "            print(\"        %s\" % x)"
   ]
  },
  {
   "cell_type": "code",
   "execution_count": 90,
   "metadata": {},
   "outputs": [
    {
     "name": "stdout",
     "output_type": "stream",
     "text": [
      "User ID: 515385233\n",
      "     Known positives Product:\n",
      "        1004856\n",
      "        1004750\n",
      "        1004833\n",
      "        1004781\n",
      "     Recommended Product:\n",
      "        1004856\n",
      "        1004767\n",
      "        1004833\n",
      "        1004870\n",
      "        1004836\n",
      "User ID: 510530201\n",
      "     Known positives Product:\n",
      "        5833318\n",
      "        5833334\n",
      "        5833319\n",
      "        5848909\n",
      "        5877612\n",
      "     Recommended Product:\n",
      "        5833330\n",
      "        5833326\n",
      "        5809910\n",
      "        5833325\n",
      "        5761411\n",
      "User ID: 513320540\n",
      "     Known positives Product:\n",
      "        1004246\n",
      "        12703015\n",
      "        1003304\n",
      "     Recommended Product:\n",
      "        1004767\n",
      "        1004856\n",
      "        1005115\n",
      "        1004870\n",
      "        1004833\n"
     ]
    }
   ],
   "source": [
    "user_list = [random.choice(users_list),random.choice(users_list), random.choice(users_list)]\n",
    "sample_recommendation(final_model, user_to_product_interaction, uid_to_idx, items, user_list)"
   ]
  },
  {
   "cell_type": "code",
   "execution_count": null,
   "metadata": {},
   "outputs": [],
   "source": []
  }
 ],
 "metadata": {
  "kernelspec": {
   "display_name": "Python 3",
   "language": "python",
   "name": "python3"
  },
  "language_info": {
   "codemirror_mode": {
    "name": "ipython",
    "version": 3
   },
   "file_extension": ".py",
   "mimetype": "text/x-python",
   "name": "python",
   "nbconvert_exporter": "python",
   "pygments_lexer": "ipython3",
   "version": "3.8.5"
  }
 },
 "nbformat": 4,
 "nbformat_minor": 4
}
