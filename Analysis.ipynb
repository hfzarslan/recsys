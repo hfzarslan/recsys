{
 "cells": [
  {
   "cell_type": "code",
   "execution_count": 45,
   "metadata": {},
   "outputs": [],
   "source": [
    "#import library\n",
    "import pandas as pd\n",
    "import numpy as np\n",
    "\n",
    "import pickle\n",
    "\n",
    "import matplotlib.pyplot as plt\n",
    "import seaborn as sns\n",
    "sns.set_style('whitegrid')\n",
    "%matplotlib inline\n",
    "\n",
    "from sklearn.cluster import KMeans\n",
    "from sklearn import preprocessing\n",
    "from collections import Counter\n",
    "import scipy.sparse as sparse\n",
    "\n",
    "\n",
    "\n",
    "from scipy.special import expit\n",
    "# import csv\n",
    "# import copy\n",
    "# import itertools\n",
    "# from lightfm import LightFM\n",
    "# import lightfm.evaluation\n",
    "\n",
    "# import helper_functions"
   ]
  },
  {
   "cell_type": "code",
   "execution_count": 46,
   "metadata": {},
   "outputs": [],
   "source": [
    "# data folder path\n",
    "PATH_TO_DATA = 'data/'"
   ]
  },
  {
   "cell_type": "code",
   "execution_count": 47,
   "metadata": {},
   "outputs": [],
   "source": [
    "# read csv files\n",
    "# dec_df = pd.read_csv(PATH_TO_DATA + '2019-Dec.csv')\n",
    "nov_df = pd.read_csv(PATH_TO_DATA + '2019-Nov.csv')\n",
    "oct_df = pd.read_csv(PATH_TO_DATA + '2019-Oct.csv')"
   ]
  },
  {
   "cell_type": "code",
   "execution_count": 48,
   "metadata": {},
   "outputs": [],
   "source": [
    "# filtering purchase data only \n",
    "# dec_df = dec_df.loc[dec_df['event_type'] != 'purchase']\n",
    "nov_df = nov_df.loc[nov_df['event_type'] == 'purchase']\n",
    "oct_df = oct_df.loc[oct_df['event_type'] == 'purchase']"
   ]
  },
  {
   "cell_type": "code",
   "execution_count": 49,
   "metadata": {},
   "outputs": [
    {
     "name": "stdout",
     "output_type": "stream",
     "text": [
      "oct data shape (742849, 9)\n",
      "nov data shape (322417, 9)\n"
     ]
    }
   ],
   "source": [
    "# shape of data\n",
    "print(\"oct data shape\", oct_df.shape)\n",
    "print(\"nov data shape\", nov_df.shape)\n",
    "# print(\"dec data shape\", dec_df.shape)"
   ]
  },
  {
   "cell_type": "code",
   "execution_count": 50,
   "metadata": {},
   "outputs": [
    {
     "data": {
      "text/plain": [
       "(1065266, 9)"
      ]
     },
     "execution_count": 50,
     "metadata": {},
     "output_type": "execute_result"
    }
   ],
   "source": [
    "# concate 2 month data\n",
    "Final_data = pd.concat([oct_df, nov_df], ignore_index=True)\n",
    "Final_data.shape"
   ]
  },
  {
   "cell_type": "markdown",
   "metadata": {},
   "source": [
    "## RFMV Analysis"
   ]
  },
  {
   "cell_type": "code",
   "execution_count": 52,
   "metadata": {},
   "outputs": [],
   "source": [
    "## standardize transaction date into pandas datetime index\n",
    "Final_data['Date'] = pd.DatetimeIndex(Final_data['event_time'], dayfirst=True).date"
   ]
  },
  {
   "cell_type": "code",
   "execution_count": 53,
   "metadata": {},
   "outputs": [
    {
     "name": "stdout",
     "output_type": "stream",
     "text": [
      "2020-01-01\n"
     ]
    }
   ],
   "source": [
    "import datetime as dt\n",
    "\n",
    "now = dt.date(2020, 1, 1) # just take the max date from the index + 1\n",
    "print(now)"
   ]
  },
  {
   "cell_type": "code",
   "execution_count": 54,
   "metadata": {},
   "outputs": [],
   "source": [
    "def rfmv_analysis(Final_data, now):\n",
    "    # calculating RECENCY\n",
    "    recency_df = Final_data.groupby('user_id').Date.max().reset_index()\n",
    "    recency_df.columns = ['user_id','Last Purchase']\n",
    "    recency_df['Recency'] = recency_df['Last Purchase'].apply(lambda x: (now - x).days)\n",
    "    recency_df = recency_df[['user_id', 'Recency']]\n",
    "    \n",
    "    # calculating FREQUENCY\n",
    "    frequency_df = Final_data.groupby('user_id')['Date'].count().reset_index()\n",
    "    frequency_df.columns = ['user_id','Frequency']\n",
    "    \n",
    "    # monitory\n",
    "    Monitory_data = Final_data.groupby(['user_id', 'product_id', 'price']).agg({'product_id': 'count'}).rename(columns={'product_id': 'purchase_count'}).reset_index().sort_values(by='user_id')\n",
    "    Monitory_data = Monitory_data.drop_duplicates(subset=['product_id', 'user_id', 'purchase_count', 'price'])\n",
    "    ### calculate total net sales from quantity and based price (minus Tax, as it may be different from city to city)\n",
    "    Monitory_data['Net Sales'] = Monitory_data['purchase_count'] * Monitory_data['price']\n",
    "    monetary_df = Monitory_data.groupby('user_id')['Net Sales'].sum().reset_index()\n",
    "    monetary_df.columns = ['user_id','Monetary']\n",
    "    \n",
    "    # calculating VARIETY \n",
    "    variety_df = Monitory_data.groupby('user_id')['product_id'].nunique().reset_index()\n",
    "    variety_df.columns = ['user_id','Variety']\n",
    "    rfmv = recency_df.copy()\n",
    "\n",
    "    rfmv = rfmv.merge(frequency_df, on='user_id')\n",
    "    rfmv = rfmv.merge(monetary_df, on='user_id')\n",
    "    rfmv = rfmv.merge(variety_df, on='user_id')\n",
    "    \n",
    "    return rfmv\n",
    "    "
   ]
  },
  {
   "cell_type": "code",
   "execution_count": 55,
   "metadata": {},
   "outputs": [],
   "source": [
    "rfmv = rfmv_analysis(Final_data, now)"
   ]
  },
  {
   "cell_type": "code",
   "execution_count": 56,
   "metadata": {},
   "outputs": [
    {
     "data": {
      "text/html": [
       "<div>\n",
       "<style scoped>\n",
       "    .dataframe tbody tr th:only-of-type {\n",
       "        vertical-align: middle;\n",
       "    }\n",
       "\n",
       "    .dataframe tbody tr th {\n",
       "        vertical-align: top;\n",
       "    }\n",
       "\n",
       "    .dataframe thead th {\n",
       "        text-align: right;\n",
       "    }\n",
       "</style>\n",
       "<table border=\"1\" class=\"dataframe\">\n",
       "  <thead>\n",
       "    <tr style=\"text-align: right;\">\n",
       "      <th></th>\n",
       "      <th>user_id</th>\n",
       "      <th>Recency</th>\n",
       "      <th>Frequency</th>\n",
       "      <th>Monetary</th>\n",
       "      <th>Variety</th>\n",
       "    </tr>\n",
       "  </thead>\n",
       "  <tbody>\n",
       "    <tr>\n",
       "      <th>0</th>\n",
       "      <td>9794320</td>\n",
       "      <td>37</td>\n",
       "      <td>4</td>\n",
       "      <td>12.68</td>\n",
       "      <td>4</td>\n",
       "    </tr>\n",
       "    <tr>\n",
       "      <th>1</th>\n",
       "      <td>10079204</td>\n",
       "      <td>204</td>\n",
       "      <td>2</td>\n",
       "      <td>25.81</td>\n",
       "      <td>2</td>\n",
       "    </tr>\n",
       "    <tr>\n",
       "      <th>2</th>\n",
       "      <td>10280338</td>\n",
       "      <td>41</td>\n",
       "      <td>16</td>\n",
       "      <td>54.83</td>\n",
       "      <td>15</td>\n",
       "    </tr>\n",
       "    <tr>\n",
       "      <th>3</th>\n",
       "      <td>15781728</td>\n",
       "      <td>46</td>\n",
       "      <td>2</td>\n",
       "      <td>20.31</td>\n",
       "      <td>2</td>\n",
       "    </tr>\n",
       "    <tr>\n",
       "      <th>4</th>\n",
       "      <td>19762782</td>\n",
       "      <td>82</td>\n",
       "      <td>8</td>\n",
       "      <td>80.29</td>\n",
       "      <td>8</td>\n",
       "    </tr>\n",
       "  </tbody>\n",
       "</table>\n",
       "</div>"
      ],
      "text/plain": [
       "    user_id  Recency  Frequency  Monetary  Variety\n",
       "0   9794320       37          4     12.68        4\n",
       "1  10079204      204          2     25.81        2\n",
       "2  10280338       41         16     54.83       15\n",
       "3  15781728       46          2     20.31        2\n",
       "4  19762782       82          8     80.29        8"
      ]
     },
     "execution_count": 56,
     "metadata": {},
     "output_type": "execute_result"
    }
   ],
   "source": [
    "rfmv.head()"
   ]
  },
  {
   "cell_type": "code",
   "execution_count": 57,
   "metadata": {},
   "outputs": [
    {
     "data": {
      "text/plain": [
       "{'Recency': {0.25: 64.0, 0.5: 72.0, 0.75: 80.0},\n",
       " 'Frequency': {0.25: 1.0, 0.5: 1.0, 0.75: 2.0},\n",
       " 'Monetary': {0.25: 79.66, 0.5: 213.06, 0.75: 540.27},\n",
       " 'Variety': {0.25: 1.0, 0.5: 1.0, 0.75: 2.0}}"
      ]
     },
     "execution_count": 57,
     "metadata": {},
     "output_type": "execute_result"
    }
   ],
   "source": [
    "### we take the 25%, 50%, and 75% quantile for each of R, F, M, and V and store them into dictionary data type\n",
    "rfmv_quantiles = rfmv.iloc[:, 1:].quantile(q = [0.25, 0.5, 0.75]).to_dict()\n",
    "rfmv_quantiles"
   ]
  },
  {
   "cell_type": "code",
   "execution_count": 58,
   "metadata": {},
   "outputs": [],
   "source": [
    "## create a function that returns a score--0 to 4 based on the quartile ranking\n",
    "## these score can be easily interpreted by the K-Mean algorithm instead of the actual value of RFMB\n",
    "\n",
    "### recency score: the lower the recency, the higher the score \n",
    "def RecencyScore(i, col, df):\n",
    "    if i <= df[col][0.25]:\n",
    "        return 4\n",
    "    elif i <= df[col][0.50]:\n",
    "        return 3\n",
    "    elif i <= df[col][0.75]: \n",
    "        return 2\n",
    "    else:\n",
    "        return 1\n",
    "    \n",
    "# F, M, V: In contrast to Recency, the higher the quantile value, the higher the score    \n",
    "def FMVScore(i, col, df):\n",
    "    if i <= df[col][0.25]:\n",
    "        return 1\n",
    "    elif i <= df[col][0.50]:\n",
    "        return 2\n",
    "    elif i <= df[col][0.75]: \n",
    "        return 3    \n",
    "    else:\n",
    "        return 4"
   ]
  },
  {
   "cell_type": "code",
   "execution_count": 59,
   "metadata": {},
   "outputs": [],
   "source": [
    "rfmv2 = rfmv.copy()\n",
    "\n",
    "rfmv2['R_q'] = rfmv2['Recency'].apply(RecencyScore, args=('Recency', rfmv_quantiles ))\n",
    "rfmv2['F_q'] = rfmv2['Frequency'].apply(FMVScore, args=('Frequency', rfmv_quantiles ))\n",
    "rfmv2['M_q'] = rfmv2['Monetary'].apply(FMVScore, args=('Monetary', rfmv_quantiles ))\n",
    "rfmv2['V_q'] = rfmv2['Variety'].apply(FMVScore, args=('Variety', rfmv_quantiles ))\n",
    "\n",
    "rfmv2 = rfmv2[['user_id', 'R_q', 'F_q', 'M_q', 'V_q',]]\n",
    "\n",
    "# # Sum total scores of each component\n",
    "\n",
    "rfmv2['Total_Score'] = rfmv2['R_q'] + rfmv2['F_q'] + rfmv2['M_q'] + rfmv2['V_q']\n",
    "\n",
    "rfmv2 = rfmv2[['user_id', 'Total_Score']]\n",
    "\n",
    "# IMPORTANT: set index to customer number\n",
    "rfmv2.index = rfmv2['user_id']\n",
    "rfmv2 = rfmv2.drop('user_id', 1)"
   ]
  },
  {
   "cell_type": "code",
   "execution_count": 60,
   "metadata": {},
   "outputs": [
    {
     "data": {
      "image/png": "[encoded data removed]",
      "text/plain": [
       "<Figure size 432x288 with 1 Axes>"
      ]
     },
     "metadata": {
      "needs_background": "light"
     },
     "output_type": "display_data"
    }
   ],
   "source": [
    "# We use elbow method to find the optimal number of clusters\n",
    "\n",
    "wcss = []\n",
    "for i in range(2,10):\n",
    "    kmeans = KMeans(n_clusters=i, \n",
    "                    init='k-means++')\n",
    "    kmeans.fit(rfmv2)\n",
    "    wcss.append(kmeans.inertia_)\n",
    "    \n",
    "# Plot the graph for Elbow Method\n",
    "plt.plot(range(2,10), wcss)\n",
    "plt.title('Elbow graph')\n",
    "plt.xlabel('Cluster number')\n",
    "plt.ylabel('WCSS')\n",
    "plt.show()\n"
   ]
  },
  {
   "cell_type": "code",
   "execution_count": 61,
   "metadata": {},
   "outputs": [],
   "source": [
    "# Apply KMean clustering using the optimal number with the \"elbow\" on the graph above\n",
    "kmeans = KMeans(n_clusters=4, \n",
    "                init='random', \n",
    "                random_state=None)\n",
    "\n",
    "clusters = kmeans.fit_predict(rfmv2)\n",
    "\n",
    "### add the cluster result to the original rfmv dataframe\n",
    "rfmv['Clusters'] = clusters"
   ]
  },
  {
   "cell_type": "code",
   "execution_count": 62,
   "metadata": {},
   "outputs": [
    {
     "data": {
      "text/html": [
       "<div>\n",
       "<style scoped>\n",
       "    .dataframe tbody tr th:only-of-type {\n",
       "        vertical-align: middle;\n",
       "    }\n",
       "\n",
       "    .dataframe tbody tr th {\n",
       "        vertical-align: top;\n",
       "    }\n",
       "\n",
       "    .dataframe thead th {\n",
       "        text-align: right;\n",
       "    }\n",
       "</style>\n",
       "<table border=\"1\" class=\"dataframe\">\n",
       "  <thead>\n",
       "    <tr style=\"text-align: right;\">\n",
       "      <th></th>\n",
       "      <th>user_id</th>\n",
       "      <th>Recency</th>\n",
       "      <th>Frequency</th>\n",
       "      <th>Monetary</th>\n",
       "      <th>Variety</th>\n",
       "      <th>Clusters</th>\n",
       "    </tr>\n",
       "  </thead>\n",
       "  <tbody>\n",
       "    <tr>\n",
       "      <th>0</th>\n",
       "      <td>9794320</td>\n",
       "      <td>37</td>\n",
       "      <td>4</td>\n",
       "      <td>12.68</td>\n",
       "      <td>4</td>\n",
       "      <td>3</td>\n",
       "    </tr>\n",
       "    <tr>\n",
       "      <th>1</th>\n",
       "      <td>10079204</td>\n",
       "      <td>204</td>\n",
       "      <td>2</td>\n",
       "      <td>25.81</td>\n",
       "      <td>2</td>\n",
       "      <td>0</td>\n",
       "    </tr>\n",
       "    <tr>\n",
       "      <th>2</th>\n",
       "      <td>10280338</td>\n",
       "      <td>41</td>\n",
       "      <td>16</td>\n",
       "      <td>54.83</td>\n",
       "      <td>15</td>\n",
       "      <td>3</td>\n",
       "    </tr>\n",
       "    <tr>\n",
       "      <th>3</th>\n",
       "      <td>15781728</td>\n",
       "      <td>46</td>\n",
       "      <td>2</td>\n",
       "      <td>20.31</td>\n",
       "      <td>2</td>\n",
       "      <td>2</td>\n",
       "    </tr>\n",
       "    <tr>\n",
       "      <th>4</th>\n",
       "      <td>19762782</td>\n",
       "      <td>82</td>\n",
       "      <td>8</td>\n",
       "      <td>80.29</td>\n",
       "      <td>8</td>\n",
       "      <td>2</td>\n",
       "    </tr>\n",
       "  </tbody>\n",
       "</table>\n",
       "</div>"
      ],
      "text/plain": [
       "    user_id  Recency  Frequency  Monetary  Variety  Clusters\n",
       "0   9794320       37          4     12.68        4         3\n",
       "1  10079204      204          2     25.81        2         0\n",
       "2  10280338       41         16     54.83       15         3\n",
       "3  15781728       46          2     20.31        2         2\n",
       "4  19762782       82          8     80.29        8         2"
      ]
     },
     "execution_count": 62,
     "metadata": {},
     "output_type": "execute_result"
    }
   ],
   "source": [
    "rfmv.head(5)"
   ]
  },
  {
   "cell_type": "code",
   "execution_count": 63,
   "metadata": {},
   "outputs": [
    {
     "data": {
      "text/plain": [
       "Counter({3: 83426, 0: 120881, 2: 64179, 1: 110156})"
      ]
     },
     "execution_count": 63,
     "metadata": {},
     "output_type": "execute_result"
    }
   ],
   "source": [
    "### counter is a nice function to see how many counts belong to each unique value\n",
    "### in this case we want to know how may members allocated in each cluster\n",
    "\n",
    "Counter(clusters)"
   ]
  },
  {
   "cell_type": "code",
   "execution_count": 64,
   "metadata": {},
   "outputs": [
    {
     "data": {
      "text/plain": [
       "<matplotlib.legend.Legend at 0x7fd7a32738d0>"
      ]
     },
     "execution_count": 64,
     "metadata": {},
     "output_type": "execute_result"
    },
    {
     "data": {
      "image/png": "[encoded data removed]",
      "text/plain": [
       "<Figure size 864x576 with 1 Axes>"
      ]
     },
     "metadata": {
      "needs_background": "light"
     },
     "output_type": "display_data"
    }
   ],
   "source": [
    "## optional: plot the two components with their respective RFMV to see the shape of the clusters\n",
    "## optional: you can try to plot other RFMV components too\n",
    "\n",
    "fig, ax = plt.subplots(figsize=(12,8))\n",
    "\n",
    "var1 = 'Recency'\n",
    "var2 = 'Frequency'\n",
    "temp = rfmv.copy()\n",
    "\n",
    "c1 = temp[temp.Clusters == 0]\n",
    "c2 = temp[temp.Clusters == 1]\n",
    "c3 = temp[temp.Clusters == 2]\n",
    "c4 = temp[temp.Clusters == 3]\n",
    "\n",
    "# Visualization of the clusters\n",
    "plt.scatter(c1[var1], c1[var2], c = 'b', label = 'Cluster 1', s=8)\n",
    "plt.scatter(c2[var1], c2[var2], c = 'r', label = 'Cluster 2', s=8)\n",
    "plt.scatter(c3[var1], c3[var2], c = 'g', label = 'Cluster 3', s=8)\n",
    "plt.scatter(c4[var1], c4[var2], c = 'k', label = 'Cluster 4', s=8)\n",
    "\n",
    "plt.title('Clusters of customers', size=20)\n",
    "plt.xlabel(var1, size=20)\n",
    "plt.ylabel(var2, size=20)\n",
    "plt.legend(fontsize=20)"
   ]
  },
  {
   "cell_type": "code",
   "execution_count": 65,
   "metadata": {},
   "outputs": [
    {
     "data": {
      "text/html": [
       "<div>\n",
       "<style scoped>\n",
       "    .dataframe tbody tr th:only-of-type {\n",
       "        vertical-align: middle;\n",
       "    }\n",
       "\n",
       "    .dataframe tbody tr th {\n",
       "        vertical-align: top;\n",
       "    }\n",
       "\n",
       "    .dataframe thead th {\n",
       "        text-align: right;\n",
       "    }\n",
       "</style>\n",
       "<table border=\"1\" class=\"dataframe\">\n",
       "  <thead>\n",
       "    <tr style=\"text-align: right;\">\n",
       "      <th></th>\n",
       "      <th>user_id</th>\n",
       "      <th>Recency</th>\n",
       "      <th>Frequency</th>\n",
       "      <th>Monetary</th>\n",
       "      <th>Variety</th>\n",
       "      <th>Clusters</th>\n",
       "    </tr>\n",
       "  </thead>\n",
       "  <tbody>\n",
       "    <tr>\n",
       "      <th>0</th>\n",
       "      <td>9794320</td>\n",
       "      <td>37</td>\n",
       "      <td>4</td>\n",
       "      <td>12.68</td>\n",
       "      <td>4</td>\n",
       "      <td>3</td>\n",
       "    </tr>\n",
       "    <tr>\n",
       "      <th>1</th>\n",
       "      <td>10079204</td>\n",
       "      <td>204</td>\n",
       "      <td>2</td>\n",
       "      <td>25.81</td>\n",
       "      <td>2</td>\n",
       "      <td>0</td>\n",
       "    </tr>\n",
       "    <tr>\n",
       "      <th>2</th>\n",
       "      <td>10280338</td>\n",
       "      <td>41</td>\n",
       "      <td>16</td>\n",
       "      <td>54.83</td>\n",
       "      <td>15</td>\n",
       "      <td>3</td>\n",
       "    </tr>\n",
       "    <tr>\n",
       "      <th>3</th>\n",
       "      <td>15781728</td>\n",
       "      <td>46</td>\n",
       "      <td>2</td>\n",
       "      <td>20.31</td>\n",
       "      <td>2</td>\n",
       "      <td>2</td>\n",
       "    </tr>\n",
       "    <tr>\n",
       "      <th>4</th>\n",
       "      <td>19762782</td>\n",
       "      <td>82</td>\n",
       "      <td>8</td>\n",
       "      <td>80.29</td>\n",
       "      <td>8</td>\n",
       "      <td>2</td>\n",
       "    </tr>\n",
       "    <tr>\n",
       "      <th>...</th>\n",
       "      <td>...</td>\n",
       "      <td>...</td>\n",
       "      <td>...</td>\n",
       "      <td>...</td>\n",
       "      <td>...</td>\n",
       "      <td>...</td>\n",
       "    </tr>\n",
       "    <tr>\n",
       "      <th>378637</th>\n",
       "      <td>579906406</td>\n",
       "      <td>32</td>\n",
       "      <td>2</td>\n",
       "      <td>9.68</td>\n",
       "      <td>2</td>\n",
       "      <td>2</td>\n",
       "    </tr>\n",
       "    <tr>\n",
       "      <th>378638</th>\n",
       "      <td>579916096</td>\n",
       "      <td>32</td>\n",
       "      <td>4</td>\n",
       "      <td>9.42</td>\n",
       "      <td>4</td>\n",
       "      <td>3</td>\n",
       "    </tr>\n",
       "    <tr>\n",
       "      <th>378639</th>\n",
       "      <td>579924768</td>\n",
       "      <td>32</td>\n",
       "      <td>3</td>\n",
       "      <td>8.54</td>\n",
       "      <td>3</td>\n",
       "      <td>3</td>\n",
       "    </tr>\n",
       "    <tr>\n",
       "      <th>378640</th>\n",
       "      <td>579925377</td>\n",
       "      <td>32</td>\n",
       "      <td>6</td>\n",
       "      <td>38.23</td>\n",
       "      <td>6</td>\n",
       "      <td>3</td>\n",
       "    </tr>\n",
       "    <tr>\n",
       "      <th>378641</th>\n",
       "      <td>579944216</td>\n",
       "      <td>32</td>\n",
       "      <td>1</td>\n",
       "      <td>8.65</td>\n",
       "      <td>1</td>\n",
       "      <td>0</td>\n",
       "    </tr>\n",
       "  </tbody>\n",
       "</table>\n",
       "<p>378642 rows × 6 columns</p>\n",
       "</div>"
      ],
      "text/plain": [
       "          user_id  Recency  Frequency  Monetary  Variety  Clusters\n",
       "0         9794320       37          4     12.68        4         3\n",
       "1        10079204      204          2     25.81        2         0\n",
       "2        10280338       41         16     54.83       15         3\n",
       "3        15781728       46          2     20.31        2         2\n",
       "4        19762782       82          8     80.29        8         2\n",
       "...           ...      ...        ...       ...      ...       ...\n",
       "378637  579906406       32          2      9.68        2         2\n",
       "378638  579916096       32          4      9.42        4         3\n",
       "378639  579924768       32          3      8.54        3         3\n",
       "378640  579925377       32          6     38.23        6         3\n",
       "378641  579944216       32          1      8.65        1         0\n",
       "\n",
       "[378642 rows x 6 columns]"
      ]
     },
     "execution_count": 65,
     "metadata": {},
     "output_type": "execute_result"
    }
   ],
   "source": [
    "temp"
   ]
  },
  {
   "cell_type": "code",
   "execution_count": null,
   "metadata": {},
   "outputs": [],
   "source": []
  },
  {
   "cell_type": "code",
   "execution_count": null,
   "metadata": {},
   "outputs": [],
   "source": []
  }
 ],
 "metadata": {
  "kernelspec": {
   "display_name": "Python 3",
   "language": "python",
   "name": "python3"
  },
  "language_info": {
   "codemirror_mode": {
    "name": "ipython",
    "version": 3
   },
   "file_extension": ".py",
   "mimetype": "text/x-python",
   "name": "python",
   "nbconvert_exporter": "python",
   "pygments_lexer": "ipython3",
   "version": "3.8.5"
  }
 },
 "nbformat": 4,
 "nbformat_minor": 4
}
