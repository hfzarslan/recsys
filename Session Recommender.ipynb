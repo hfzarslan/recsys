{
 "cells": [
  {
   "cell_type": "code",
   "execution_count": 22,
   "metadata": {},
   "outputs": [],
   "source": [
    "import pandas as pd\n",
    "import numpy as np\n",
    "import datetime as dt\n",
    "from datetime import datetime, timezone\n",
    "from sklearn import preprocessing\n",
    "import helper_functions\n",
    "\n",
    "import hashlib\n",
    "import json\n",
    "import os\n",
    "import shutil\n",
    "import sys\n",
    "\n",
    "import numpy as np\n",
    "\n",
    "from sklearn.model_selection import ParameterSampler\n",
    "\n",
    "from spotlight.cross_validation import user_based_train_test_split\n",
    "from spotlight.sequence.implicit import ImplicitSequenceModel\n",
    "from spotlight.sequence.representations import CNNNet\n",
    "from spotlight.evaluation import sequence_mrr_score\n",
    "\n",
    "\n",
    "CUDA = (os.environ.get('CUDA') is not None or\n",
    "        shutil.which('nvidia-smi') is not None)\n",
    "\n",
    "NUM_SAMPLES = 100\n",
    "\n",
    "LEARNING_RATES = [1e-3, 1e-2, 5 * 1e-2, 1e-1]\n",
    "LOSSES = ['bpr', 'hinge', 'adaptive_hinge', 'pointwise']\n",
    "BATCH_SIZE = [8, 16, 32, 256]\n",
    "EMBEDDING_DIM = [8, 16, 32, 64, 128, 256]\n",
    "N_ITER = list(range(5, 20))\n",
    "L2 = [1e-6, 1e-5, 1e-4, 1e-3, 1e-2, 0.0]\n"
   ]
  },
  {
   "cell_type": "markdown",
   "metadata": {},
   "source": [
    "## Data Prepration"
   ]
  },
  {
   "cell_type": "code",
   "execution_count": 23,
   "metadata": {},
   "outputs": [],
   "source": [
    "# df = pd.read_csv('Final_Data.csv')"
   ]
  },
  {
   "cell_type": "code",
   "execution_count": 24,
   "metadata": {},
   "outputs": [],
   "source": [
    "# df.rename(columns = {'event_time':'Time', 'product_id': 'item_id', 'category_id': 'category'}, inplace = True) "
   ]
  },
  {
   "cell_type": "code",
   "execution_count": 25,
   "metadata": {},
   "outputs": [],
   "source": [
    "# Final_Data = df[['user_id', 'item_id', 'Time', 'category']]"
   ]
  },
  {
   "cell_type": "code",
   "execution_count": 26,
   "metadata": {},
   "outputs": [],
   "source": [
    "# Final_Data['timestamp'] = Final_Data.Time.apply(lambda x: dt.datetime.strptime(x, '%Y-%m-%d %H:%M:%S UTC').replace(tzinfo=timezone.utc).timestamp()) #This is not UTC. It does not really matter.\n"
   ]
  },
  {
   "cell_type": "code",
   "execution_count": 27,
   "metadata": {},
   "outputs": [],
   "source": [
    "# del(Final_Data['Time'])"
   ]
  },
  {
   "cell_type": "code",
   "execution_count": 28,
   "metadata": {},
   "outputs": [],
   "source": [
    "# Final_Data.to_csv('Final_Data.csv', index=False)"
   ]
  },
  {
   "cell_type": "code",
   "execution_count": 29,
   "metadata": {},
   "outputs": [],
   "source": [
    "data = pd.read_csv('Final_Data.csv')"
   ]
  },
  {
   "cell_type": "code",
   "execution_count": 30,
   "metadata": {},
   "outputs": [],
   "source": [
    "Final_Data = data[['user_id','item_id','timestamp']]"
   ]
  },
  {
   "cell_type": "code",
   "execution_count": 31,
   "metadata": {},
   "outputs": [
    {
     "name": "stdout",
     "output_type": "stream",
     "text": [
      "Starting interactions info\n",
      "Number of rows: 681451\n",
      "Number of cols: 47690\n",
      "Sparsity: 0.023%\n",
      "Ending interactions info\n",
      "Number of rows: 203125\n",
      "Number of columns: 41513\n",
      "Sparsity: 0.082%\n"
     ]
    }
   ],
   "source": [
    "# Threshold data to only include users and models with min 4 products.\n",
    "threshold_data= helper_functions.threshold_interactions_df(Final_Data, 'user_id', 'item_id', 4, 4)"
   ]
  },
  {
   "cell_type": "code",
   "execution_count": 32,
   "metadata": {},
   "outputs": [
    {
     "data": {
      "text/html": [
       "<div>\n",
       "<style scoped>\n",
       "    .dataframe tbody tr th:only-of-type {\n",
       "        vertical-align: middle;\n",
       "    }\n",
       "\n",
       "    .dataframe tbody tr th {\n",
       "        vertical-align: top;\n",
       "    }\n",
       "\n",
       "    .dataframe thead th {\n",
       "        text-align: right;\n",
       "    }\n",
       "</style>\n",
       "<table border=\"1\" class=\"dataframe\">\n",
       "  <thead>\n",
       "    <tr style=\"text-align: right;\">\n",
       "      <th></th>\n",
       "      <th>user_id</th>\n",
       "      <th>item_id</th>\n",
       "      <th>timestamp</th>\n",
       "    </tr>\n",
       "  </thead>\n",
       "  <tbody>\n",
       "    <tr>\n",
       "      <th>0</th>\n",
       "      <td>576802932</td>\n",
       "      <td>5712790</td>\n",
       "      <td>1.575158e+09</td>\n",
       "    </tr>\n",
       "    <tr>\n",
       "      <th>1</th>\n",
       "      <td>412120092</td>\n",
       "      <td>5764655</td>\n",
       "      <td>1.575158e+09</td>\n",
       "    </tr>\n",
       "    <tr>\n",
       "      <th>2</th>\n",
       "      <td>494077766</td>\n",
       "      <td>4958</td>\n",
       "      <td>1.575158e+09</td>\n",
       "    </tr>\n",
       "    <tr>\n",
       "      <th>3</th>\n",
       "      <td>348405118</td>\n",
       "      <td>5848413</td>\n",
       "      <td>1.575158e+09</td>\n",
       "    </tr>\n",
       "    <tr>\n",
       "      <th>4</th>\n",
       "      <td>576005683</td>\n",
       "      <td>5824148</td>\n",
       "      <td>1.575158e+09</td>\n",
       "    </tr>\n",
       "  </tbody>\n",
       "</table>\n",
       "</div>"
      ],
      "text/plain": [
       "     user_id  item_id     timestamp\n",
       "0  576802932  5712790  1.575158e+09\n",
       "1  412120092  5764655  1.575158e+09\n",
       "2  494077766     4958  1.575158e+09\n",
       "3  348405118  5848413  1.575158e+09\n",
       "4  576005683  5824148  1.575158e+09"
      ]
     },
     "execution_count": 32,
     "metadata": {},
     "output_type": "execute_result"
    }
   ],
   "source": [
    "threshold_data.head()"
   ]
  },
  {
   "cell_type": "code",
   "execution_count": 33,
   "metadata": {},
   "outputs": [],
   "source": [
    "le_usr = preprocessing.LabelEncoder() # user encoder\n",
    "le_itm = preprocessing.LabelEncoder() # item encoder"
   ]
  },
  {
   "cell_type": "code",
   "execution_count": 34,
   "metadata": {},
   "outputs": [],
   "source": [
    "# shift item_ids with +1 (but not user_ids):\n",
    "item_ids = (le_itm.fit_transform(threshold_data['item_id'])+1).astype('int32')\n",
    "user_ids = (le_usr.fit_transform(threshold_data['user_id'])).astype('int32')"
   ]
  },
  {
   "cell_type": "code",
   "execution_count": 35,
   "metadata": {},
   "outputs": [
    {
     "data": {
      "text/plain": [
       "array([149348,  18113,  45906, ...,  20503,  30858,  20503], dtype=int32)"
      ]
     },
     "execution_count": 35,
     "metadata": {},
     "output_type": "execute_result"
    }
   ],
   "source": [
    "user_ids"
   ]
  },
  {
   "cell_type": "code",
   "execution_count": 36,
   "metadata": {},
   "outputs": [],
   "source": [
    "from spotlight.interactions import Interactions\n",
    "implicit_interactions = Interactions(user_ids, item_ids, timestamps=threshold_data.timestamp)\n",
    "\n",
    "from spotlight.cross_validation import user_based_train_test_split, random_train_test_split\n",
    "train, test = user_based_train_test_split(implicit_interactions, 0.3)"
   ]
  },
  {
   "cell_type": "code",
   "execution_count": 37,
   "metadata": {},
   "outputs": [
    {
     "name": "stdout",
     "output_type": "stream",
     "text": [
      "Epoch 0: loss 0.12694355212466227\n",
      "Epoch 1: loss 0.06387347555191246\n",
      "Epoch 2: loss 0.05390962021601681\n",
      "Epoch 3: loss 0.04904808868647963\n",
      "Epoch 4: loss 0.046175982906101684\n",
      "Epoch 5: loss 0.044368601968859334\n",
      "Epoch 6: loss 0.043098615105381724\n",
      "Epoch 7: loss 0.042138821685437075\n",
      "Epoch 8: loss 0.041179562718960984\n",
      "Epoch 9: loss 0.04069027460975382\n",
      "Epoch 10: loss 0.04014982555878559\n",
      "Epoch 11: loss 0.039571156083748456\n",
      "Epoch 12: loss 0.03925112645633191\n",
      "Epoch 13: loss 0.03908930134792806\n",
      "Epoch 14: loss 0.03876662801954661\n",
      "Epoch 15: loss 0.038450171428207995\n",
      "Epoch 16: loss 0.03824082280019509\n",
      "Epoch 17: loss 0.03811528391860279\n",
      "Epoch 18: loss 0.037944146804686114\n",
      "Epoch 19: loss 0.037683549091820416\n",
      "Epoch 20: loss 0.037481536064035106\n",
      "Epoch 21: loss 0.037418507529211414\n",
      "Epoch 22: loss 0.03732553334433617\n",
      "Epoch 23: loss 0.03727703265699138\n",
      "Epoch 24: loss 0.03718482616209995\n",
      "Epoch 25: loss 0.036969433778647295\n",
      "Epoch 26: loss 0.03702512338946049\n",
      "Epoch 27: loss 0.036905153674591115\n",
      "Epoch 28: loss 0.036757708843116625\n",
      "Epoch 29: loss 0.03658815240880235\n",
      "Epoch 30: loss 0.03654407028409093\n",
      "Epoch 31: loss 0.03651883261454586\n",
      "Epoch 32: loss 0.03636861555086276\n",
      "Epoch 33: loss 0.03630835599167361\n",
      "Epoch 34: loss 0.03630583427389063\n",
      "Epoch 35: loss 0.036328604454462676\n",
      "Epoch 36: loss 0.036225567210462176\n",
      "Epoch 37: loss 0.03614582349358593\n",
      "Epoch 38: loss 0.03610847772979776\n",
      "Epoch 39: loss 0.035939727512719816\n"
     ]
    }
   ],
   "source": [
    "sequential_interaction = train.to_sequence()\n",
    "implicit_sequence_model = ImplicitSequenceModel(use_cuda=False, n_iter=40, loss='bpr', representation='pooling', batch_size = 256)\n",
    "implicit_sequence_model.fit(sequential_interaction, verbose=True)"
   ]
  },
  {
   "cell_type": "markdown",
   "metadata": {},
   "source": [
    "#### Ground Truth"
   ]
  },
  {
   "cell_type": "code",
   "execution_count": 53,
   "metadata": {},
   "outputs": [
    {
     "data": {
      "text/html": [
       "<div>\n",
       "<style scoped>\n",
       "    .dataframe tbody tr th:only-of-type {\n",
       "        vertical-align: middle;\n",
       "    }\n",
       "\n",
       "    .dataframe tbody tr th {\n",
       "        vertical-align: top;\n",
       "    }\n",
       "\n",
       "    .dataframe thead th {\n",
       "        text-align: right;\n",
       "    }\n",
       "</style>\n",
       "<table border=\"1\" class=\"dataframe\">\n",
       "  <thead>\n",
       "    <tr style=\"text-align: right;\">\n",
       "      <th></th>\n",
       "      <th>user_id</th>\n",
       "      <th>item_id</th>\n",
       "      <th>timestamp</th>\n",
       "    </tr>\n",
       "  </thead>\n",
       "  <tbody>\n",
       "    <tr>\n",
       "      <th>4709875</th>\n",
       "      <td>5493470</td>\n",
       "      <td>5745712</td>\n",
       "      <td>1.573495e+09</td>\n",
       "    </tr>\n",
       "    <tr>\n",
       "      <th>4709923</th>\n",
       "      <td>5493470</td>\n",
       "      <td>5745712</td>\n",
       "      <td>1.573495e+09</td>\n",
       "    </tr>\n",
       "    <tr>\n",
       "      <th>4710005</th>\n",
       "      <td>5493470</td>\n",
       "      <td>49674</td>\n",
       "      <td>1.573495e+09</td>\n",
       "    </tr>\n",
       "    <tr>\n",
       "      <th>4710061</th>\n",
       "      <td>5493470</td>\n",
       "      <td>49674</td>\n",
       "      <td>1.573495e+09</td>\n",
       "    </tr>\n",
       "    <tr>\n",
       "      <th>4710102</th>\n",
       "      <td>5493470</td>\n",
       "      <td>5587748</td>\n",
       "      <td>1.573495e+09</td>\n",
       "    </tr>\n",
       "    <tr>\n",
       "      <th>4710500</th>\n",
       "      <td>5493470</td>\n",
       "      <td>4590</td>\n",
       "      <td>1.573496e+09</td>\n",
       "    </tr>\n",
       "    <tr>\n",
       "      <th>4710537</th>\n",
       "      <td>5493470</td>\n",
       "      <td>4590</td>\n",
       "      <td>1.573496e+09</td>\n",
       "    </tr>\n",
       "    <tr>\n",
       "      <th>4710624</th>\n",
       "      <td>5493470</td>\n",
       "      <td>5815680</td>\n",
       "      <td>1.573496e+09</td>\n",
       "    </tr>\n",
       "    <tr>\n",
       "      <th>4710729</th>\n",
       "      <td>5493470</td>\n",
       "      <td>34763</td>\n",
       "      <td>1.573496e+09</td>\n",
       "    </tr>\n",
       "    <tr>\n",
       "      <th>4710739</th>\n",
       "      <td>5493470</td>\n",
       "      <td>31589</td>\n",
       "      <td>1.573496e+09</td>\n",
       "    </tr>\n",
       "  </tbody>\n",
       "</table>\n",
       "</div>"
      ],
      "text/plain": [
       "         user_id  item_id     timestamp\n",
       "4709875  5493470  5745712  1.573495e+09\n",
       "4709923  5493470  5745712  1.573495e+09\n",
       "4710005  5493470    49674  1.573495e+09\n",
       "4710061  5493470    49674  1.573495e+09\n",
       "4710102  5493470  5587748  1.573495e+09\n",
       "4710500  5493470     4590  1.573496e+09\n",
       "4710537  5493470     4590  1.573496e+09\n",
       "4710624  5493470  5815680  1.573496e+09\n",
       "4710729  5493470    34763  1.573496e+09\n",
       "4710739  5493470    31589  1.573496e+09"
      ]
     },
     "execution_count": 53,
     "metadata": {},
     "output_type": "execute_result"
    }
   ],
   "source": [
    "threshold_data[threshold_data['user_id'] == le_usr.inverse_transform([3])[0]]"
   ]
  },
  {
   "cell_type": "markdown",
   "metadata": {},
   "source": [
    "#### Prediction"
   ]
  },
  {
   "cell_type": "code",
   "execution_count": 58,
   "metadata": {},
   "outputs": [
    {
     "name": "stdout",
     "output_type": "stream",
     "text": [
      "[5809161    3776    4203 5809162    7890]\n",
      "[105.83562  105.34837  104.38099  100.691154 100.09545 ]\n"
     ]
    }
   ],
   "source": [
    "predictions = implicit_sequence_model.predict([2, 3, 4, 5])\n",
    "item_ids= (-predictions).argsort()[:5] # last 10 items\n",
    "print(le_itm.inverse_transform(item_ids))\n",
    "print(predictions[item_ids])"
   ]
  },
  {
   "cell_type": "code",
   "execution_count": null,
   "metadata": {},
   "outputs": [],
   "source": []
  },
  {
   "cell_type": "code",
   "execution_count": null,
   "metadata": {},
   "outputs": [],
   "source": []
  }
 ],
 "metadata": {
  "kernelspec": {
   "display_name": "Python 3",
   "language": "python",
   "name": "python3"
  },
  "language_info": {
   "codemirror_mode": {
    "name": "ipython",
    "version": 3
   },
   "file_extension": ".py",
   "mimetype": "text/x-python",
   "name": "python",
   "nbconvert_exporter": "python",
   "pygments_lexer": "ipython3",
   "version": "3.8.5"
  }
 },
 "nbformat": 4,
 "nbformat_minor": 4
}
