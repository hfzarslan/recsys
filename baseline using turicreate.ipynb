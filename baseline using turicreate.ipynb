{
 "cells": [
  {
   "cell_type": "code",
   "execution_count": 2,
   "metadata": {},
   "outputs": [],
   "source": [
    "%load_ext autoreload\n",
    "%autoreload 2\n",
    "\n",
    "import pandas as pd\n",
    "import numpy as np\n",
    "import time\n",
    "import turicreate as tc\n",
    "from sklearn.model_selection import train_test_split\n",
    "from sklearn.preprocessing import MinMaxScaler\n",
    "import sys\n",
    "sys.path.append(\"..\")\n",
    "import data_layer\n",
    "import helper_functions"
   ]
  },
  {
   "cell_type": "code",
   "execution_count": 3,
   "metadata": {},
   "outputs": [],
   "source": [
    "# data folder path\n",
    "PATH_TO_DATA = 'data/'\n",
    "# read csv files\n",
    "# dec_df = pd.read_csv(PATH_TO_DATA + '2019-Dec.csv')\n",
    "nov_df = pd.read_csv(PATH_TO_DATA + '2019-Nov.csv')\n",
    "oct_df = pd.read_csv(PATH_TO_DATA + '2019-Oct.csv')"
   ]
  },
  {
   "cell_type": "code",
   "execution_count": 4,
   "metadata": {},
   "outputs": [],
   "source": [
    "# filtering purchase data only \n",
    "# dec_df = dec_df.loc[dec_df['event_type'] == 'purchase']\n",
    "nov_df = nov_df.loc[nov_df['event_type'] == 'purchase']\n",
    "oct_df = oct_df.loc[oct_df['event_type'] == 'purchase']"
   ]
  },
  {
   "cell_type": "code",
   "execution_count": 5,
   "metadata": {},
   "outputs": [
    {
     "data": {
      "text/plain": [
       "(1065266, 9)"
      ]
     },
     "execution_count": 5,
     "metadata": {},
     "output_type": "execute_result"
    }
   ],
   "source": [
    "# concate 2 month data\n",
    "Final_data = pd.concat([oct_df, nov_df], ignore_index=True)\n",
    "Final_data.shape"
   ]
  },
  {
   "cell_type": "code",
   "execution_count": 6,
   "metadata": {},
   "outputs": [
    {
     "data": {
      "text/html": [
       "<div>\n",
       "<style scoped>\n",
       "    .dataframe tbody tr th:only-of-type {\n",
       "        vertical-align: middle;\n",
       "    }\n",
       "\n",
       "    .dataframe tbody tr th {\n",
       "        vertical-align: top;\n",
       "    }\n",
       "\n",
       "    .dataframe thead th {\n",
       "        text-align: right;\n",
       "    }\n",
       "</style>\n",
       "<table border=\"1\" class=\"dataframe\">\n",
       "  <thead>\n",
       "    <tr style=\"text-align: right;\">\n",
       "      <th></th>\n",
       "      <th>event_time</th>\n",
       "      <th>event_type</th>\n",
       "      <th>product_id</th>\n",
       "      <th>category_id</th>\n",
       "      <th>category_code</th>\n",
       "      <th>brand</th>\n",
       "      <th>price</th>\n",
       "      <th>user_id</th>\n",
       "      <th>user_session</th>\n",
       "    </tr>\n",
       "  </thead>\n",
       "  <tbody>\n",
       "    <tr>\n",
       "      <th>0</th>\n",
       "      <td>2019-10-01 00:02:14 UTC</td>\n",
       "      <td>purchase</td>\n",
       "      <td>1004856</td>\n",
       "      <td>2053013555631882655</td>\n",
       "      <td>electronics.smartphone</td>\n",
       "      <td>samsung</td>\n",
       "      <td>130.76</td>\n",
       "      <td>543272936</td>\n",
       "      <td>8187d148-3c41-46d4-b0c0-9c08cd9dc564</td>\n",
       "    </tr>\n",
       "    <tr>\n",
       "      <th>1</th>\n",
       "      <td>2019-10-01 00:04:37 UTC</td>\n",
       "      <td>purchase</td>\n",
       "      <td>1002532</td>\n",
       "      <td>2053013555631882655</td>\n",
       "      <td>electronics.smartphone</td>\n",
       "      <td>apple</td>\n",
       "      <td>642.69</td>\n",
       "      <td>551377651</td>\n",
       "      <td>3c80f0d6-e9ec-4181-8c5c-837a30be2d68</td>\n",
       "    </tr>\n",
       "    <tr>\n",
       "      <th>2</th>\n",
       "      <td>2019-10-01 00:06:02 UTC</td>\n",
       "      <td>purchase</td>\n",
       "      <td>5100816</td>\n",
       "      <td>2053013553375346967</td>\n",
       "      <td>NaN</td>\n",
       "      <td>xiaomi</td>\n",
       "      <td>29.51</td>\n",
       "      <td>514591159</td>\n",
       "      <td>0e5dfc4b-2a55-43e6-8c05-97e1f07fbb56</td>\n",
       "    </tr>\n",
       "    <tr>\n",
       "      <th>3</th>\n",
       "      <td>2019-10-01 00:07:07 UTC</td>\n",
       "      <td>purchase</td>\n",
       "      <td>13800054</td>\n",
       "      <td>2053013557418656265</td>\n",
       "      <td>furniture.bathroom.toilet</td>\n",
       "      <td>santeri</td>\n",
       "      <td>54.42</td>\n",
       "      <td>555332717</td>\n",
       "      <td>1dea3ee2-2ded-42e8-8e7a-4e2ad6ae942f</td>\n",
       "    </tr>\n",
       "    <tr>\n",
       "      <th>4</th>\n",
       "      <td>2019-10-01 00:09:26 UTC</td>\n",
       "      <td>purchase</td>\n",
       "      <td>4804055</td>\n",
       "      <td>2053013554658804075</td>\n",
       "      <td>electronics.audio.headphone</td>\n",
       "      <td>apple</td>\n",
       "      <td>189.91</td>\n",
       "      <td>524601178</td>\n",
       "      <td>2af9b570-0942-4dcd-8f25-4d84fba82553</td>\n",
       "    </tr>\n",
       "  </tbody>\n",
       "</table>\n",
       "</div>"
      ],
      "text/plain": [
       "                event_time event_type  product_id          category_id  \\\n",
       "0  2019-10-01 00:02:14 UTC   purchase     1004856  2053013555631882655   \n",
       "1  2019-10-01 00:04:37 UTC   purchase     1002532  2053013555631882655   \n",
       "2  2019-10-01 00:06:02 UTC   purchase     5100816  2053013553375346967   \n",
       "3  2019-10-01 00:07:07 UTC   purchase    13800054  2053013557418656265   \n",
       "4  2019-10-01 00:09:26 UTC   purchase     4804055  2053013554658804075   \n",
       "\n",
       "                 category_code    brand   price    user_id  \\\n",
       "0       electronics.smartphone  samsung  130.76  543272936   \n",
       "1       electronics.smartphone    apple  642.69  551377651   \n",
       "2                          NaN   xiaomi   29.51  514591159   \n",
       "3    furniture.bathroom.toilet  santeri   54.42  555332717   \n",
       "4  electronics.audio.headphone    apple  189.91  524601178   \n",
       "\n",
       "                           user_session  \n",
       "0  8187d148-3c41-46d4-b0c0-9c08cd9dc564  \n",
       "1  3c80f0d6-e9ec-4181-8c5c-837a30be2d68  \n",
       "2  0e5dfc4b-2a55-43e6-8c05-97e1f07fbb56  \n",
       "3  1dea3ee2-2ded-42e8-8e7a-4e2ad6ae942f  \n",
       "4  2af9b570-0942-4dcd-8f25-4d84fba82553  "
      ]
     },
     "execution_count": 6,
     "metadata": {},
     "output_type": "execute_result"
    }
   ],
   "source": [
    "# drop dublicate if any \n",
    "Final_data.drop_duplicates(inplace=True)\n",
    "# final data\n",
    "Final_data.head()"
   ]
  },
  {
   "cell_type": "code",
   "execution_count": 7,
   "metadata": {},
   "outputs": [
    {
     "name": "stdout",
     "output_type": "stream",
     "text": [
      "Starting interactions info\n",
      "Number of rows: 378642\n",
      "Number of cols: 71122\n",
      "Sparsity: 0.004%\n",
      "Ending interactions info\n",
      "Number of rows: 56150\n",
      "Number of columns: 21245\n",
      "Sparsity: 0.047%\n"
     ]
    }
   ],
   "source": [
    "# Threshold data to only include users and models with min 4 products.\n",
    "threshold_data_interations = helper_functions.threshold_interactions_df(Final_data, 'user_id', 'product_id', 4, 4)"
   ]
  },
  {
   "cell_type": "code",
   "execution_count": 8,
   "metadata": {},
   "outputs": [],
   "source": [
    "data = threshold_data_interations[['product_id', 'user_id']]"
   ]
  },
  {
   "cell_type": "code",
   "execution_count": 9,
   "metadata": {},
   "outputs": [],
   "source": [
    "data = threshold_data_interations[['product_id', 'user_id']].groupby(['user_id', 'product_id']).agg({'product_id': 'count'}).rename(columns={'product_id': 'purchase_count'}) \\\n",
    "    .reset_index().sort_values(by='user_id')"
   ]
  },
  {
   "cell_type": "code",
   "execution_count": 15,
   "metadata": {},
   "outputs": [],
   "source": [
    "# getting unique items and users list, this will use when we recommend products to certain user\n",
    "items = helper_functions.get_item_list(threshold_data_interations, \"product_id\")\n",
    "users_list = helper_functions.get_user_list(threshold_data_interations, \"user_id\")"
   ]
  },
  {
   "cell_type": "code",
   "execution_count": 16,
   "metadata": {},
   "outputs": [
    {
     "data": {
      "text/plain": [
       "<56150x21245 sparse matrix of type '<class 'numpy.float64'>'\n",
       "\twith 410712 stored elements in Compressed Sparse Row format>"
      ]
     },
     "execution_count": 16,
     "metadata": {},
     "output_type": "execute_result"
    }
   ],
   "source": [
    "# Go from dataframe to interaction matrix\n",
    "# Also, build index to ID mappers.\n",
    "interations, uid_to_idx, idx_to_uid,\\\n",
    "mid_to_idx, idx_to_mid = helper_functions.df_to_matrix(threshold_data_interations, 'user_id', 'product_id')\n",
    "\n",
    "interations"
   ]
  },
  {
   "cell_type": "code",
   "execution_count": 17,
   "metadata": {},
   "outputs": [],
   "source": [
    "# train test split\n",
    "# train, test, user_index = helper_functions.train_test_split(interations, 4, fraction=0.2)"
   ]
  },
  {
   "cell_type": "code",
   "execution_count": 40,
   "metadata": {},
   "outputs": [
    {
     "name": "stdout",
     "output_type": "stream",
     "text": [
      "(328569, 3) (82143, 3)\n"
     ]
    }
   ],
   "source": [
    "train, test = train_test_split(data, test_size = .2)\n",
    "print(train.shape, test.shape)"
   ]
  },
  {
   "cell_type": "code",
   "execution_count": 41,
   "metadata": {},
   "outputs": [],
   "source": [
    "# Using turicreate library, we convert dataframe to SFrame - this will be useful in the modeling part\n",
    "\n",
    "train_data = tc.SFrame(train)\n",
    "test_data = tc.SFrame(test)"
   ]
  },
  {
   "cell_type": "code",
   "execution_count": 43,
   "metadata": {},
   "outputs": [
    {
     "data": {
      "text/html": [
       "<div style=\"max-height:1000px;max-width:1500px;overflow:auto;\"><table frame=\"box\" rules=\"cols\">\n",
       "    <tr>\n",
       "        <th style=\"padding-left: 1em; padding-right: 1em; text-align: center\">user_id</th>\n",
       "        <th style=\"padding-left: 1em; padding-right: 1em; text-align: center\">product_id</th>\n",
       "        <th style=\"padding-left: 1em; padding-right: 1em; text-align: center\">purchase_count</th>\n",
       "    </tr>\n",
       "    <tr>\n",
       "        <td style=\"padding-left: 1em; padding-right: 1em; text-align: center; vertical-align: top\">564745688</td>\n",
       "        <td style=\"padding-left: 1em; padding-right: 1em; text-align: center; vertical-align: top\">5858981</td>\n",
       "        <td style=\"padding-left: 1em; padding-right: 1em; text-align: center; vertical-align: top\">1</td>\n",
       "    </tr>\n",
       "    <tr>\n",
       "        <td style=\"padding-left: 1em; padding-right: 1em; text-align: center; vertical-align: top\">520620948</td>\n",
       "        <td style=\"padding-left: 1em; padding-right: 1em; text-align: center; vertical-align: top\">1005159</td>\n",
       "        <td style=\"padding-left: 1em; padding-right: 1em; text-align: center; vertical-align: top\">3</td>\n",
       "    </tr>\n",
       "    <tr>\n",
       "        <td style=\"padding-left: 1em; padding-right: 1em; text-align: center; vertical-align: top\">578149517</td>\n",
       "        <td style=\"padding-left: 1em; padding-right: 1em; text-align: center; vertical-align: top\">5774072</td>\n",
       "        <td style=\"padding-left: 1em; padding-right: 1em; text-align: center; vertical-align: top\">1</td>\n",
       "    </tr>\n",
       "    <tr>\n",
       "        <td style=\"padding-left: 1em; padding-right: 1em; text-align: center; vertical-align: top\">579491283</td>\n",
       "        <td style=\"padding-left: 1em; padding-right: 1em; text-align: center; vertical-align: top\">5877382</td>\n",
       "        <td style=\"padding-left: 1em; padding-right: 1em; text-align: center; vertical-align: top\">1</td>\n",
       "    </tr>\n",
       "    <tr>\n",
       "        <td style=\"padding-left: 1em; padding-right: 1em; text-align: center; vertical-align: top\">537390974</td>\n",
       "        <td style=\"padding-left: 1em; padding-right: 1em; text-align: center; vertical-align: top\">1004833</td>\n",
       "        <td style=\"padding-left: 1em; padding-right: 1em; text-align: center; vertical-align: top\">1</td>\n",
       "    </tr>\n",
       "    <tr>\n",
       "        <td style=\"padding-left: 1em; padding-right: 1em; text-align: center; vertical-align: top\">540507047</td>\n",
       "        <td style=\"padding-left: 1em; padding-right: 1em; text-align: center; vertical-align: top\">5760783</td>\n",
       "        <td style=\"padding-left: 1em; padding-right: 1em; text-align: center; vertical-align: top\">1</td>\n",
       "    </tr>\n",
       "    <tr>\n",
       "        <td style=\"padding-left: 1em; padding-right: 1em; text-align: center; vertical-align: top\">565781552</td>\n",
       "        <td style=\"padding-left: 1em; padding-right: 1em; text-align: center; vertical-align: top\">5731119</td>\n",
       "        <td style=\"padding-left: 1em; padding-right: 1em; text-align: center; vertical-align: top\">1</td>\n",
       "    </tr>\n",
       "    <tr>\n",
       "        <td style=\"padding-left: 1em; padding-right: 1em; text-align: center; vertical-align: top\">522130011</td>\n",
       "        <td style=\"padding-left: 1em; padding-right: 1em; text-align: center; vertical-align: top\">5736325</td>\n",
       "        <td style=\"padding-left: 1em; padding-right: 1em; text-align: center; vertical-align: top\">1</td>\n",
       "    </tr>\n",
       "    <tr>\n",
       "        <td style=\"padding-left: 1em; padding-right: 1em; text-align: center; vertical-align: top\">569211045</td>\n",
       "        <td style=\"padding-left: 1em; padding-right: 1em; text-align: center; vertical-align: top\">5655257</td>\n",
       "        <td style=\"padding-left: 1em; padding-right: 1em; text-align: center; vertical-align: top\">1</td>\n",
       "    </tr>\n",
       "    <tr>\n",
       "        <td style=\"padding-left: 1em; padding-right: 1em; text-align: center; vertical-align: top\">203257482</td>\n",
       "        <td style=\"padding-left: 1em; padding-right: 1em; text-align: center; vertical-align: top\">5859090</td>\n",
       "        <td style=\"padding-left: 1em; padding-right: 1em; text-align: center; vertical-align: top\">1</td>\n",
       "    </tr>\n",
       "</table>\n",
       "[82143 rows x 3 columns]<br/>Note: Only the head of the SFrame is printed.<br/>You can use print_rows(num_rows=m, num_columns=n) to print more rows and columns.\n",
       "</div>"
      ],
      "text/plain": [
       "Columns:\n",
       "\tuser_id\tint\n",
       "\tproduct_id\tint\n",
       "\tpurchase_count\tint\n",
       "\n",
       "Rows: 82143\n",
       "\n",
       "Data:\n",
       "+-----------+------------+----------------+\n",
       "|  user_id  | product_id | purchase_count |\n",
       "+-----------+------------+----------------+\n",
       "| 564745688 |  5858981   |       1        |\n",
       "| 520620948 |  1005159   |       3        |\n",
       "| 578149517 |  5774072   |       1        |\n",
       "| 579491283 |  5877382   |       1        |\n",
       "| 537390974 |  1004833   |       1        |\n",
       "| 540507047 |  5760783   |       1        |\n",
       "| 565781552 |  5731119   |       1        |\n",
       "| 522130011 |  5736325   |       1        |\n",
       "| 569211045 |  5655257   |       1        |\n",
       "| 203257482 |  5859090   |       1        |\n",
       "+-----------+------------+----------------+\n",
       "[82143 rows x 3 columns]\n",
       "Note: Only the head of the SFrame is printed.\n",
       "You can use print_rows(num_rows=m, num_columns=n) to print more rows and columns."
      ]
     },
     "execution_count": 43,
     "metadata": {},
     "output_type": "execute_result"
    }
   ],
   "source": [
    "test_data"
   ]
  },
  {
   "cell_type": "code",
   "execution_count": 44,
   "metadata": {},
   "outputs": [],
   "source": [
    "# variables to define field names\n",
    "user_id = 'user_id'\n",
    "item_id = 'product_id'\n",
    "target = 'purchase_count'\n",
    "users_to_recommend = list(threshold_data_interations[user_id])\n",
    "n_rec = 10 # number of items to recommend\n",
    "n_display = 30"
   ]
  },
  {
   "cell_type": "code",
   "execution_count": 45,
   "metadata": {},
   "outputs": [
    {
     "data": {
      "text/html": [
       "<pre>Preparing data set.</pre>"
      ],
      "text/plain": [
       "Preparing data set."
      ]
     },
     "metadata": {},
     "output_type": "display_data"
    },
    {
     "data": {
      "text/html": [
       "<pre>    Data has 328569 observations with 55108 users and 21062 items.</pre>"
      ],
      "text/plain": [
       "    Data has 328569 observations with 55108 users and 21062 items."
      ]
     },
     "metadata": {},
     "output_type": "display_data"
    },
    {
     "data": {
      "text/html": [
       "<pre>    Data prepared in: 0.258267s</pre>"
      ],
      "text/plain": [
       "    Data prepared in: 0.258267s"
      ]
     },
     "metadata": {},
     "output_type": "display_data"
    },
    {
     "data": {
      "text/html": [
       "<pre>328569 observations to process; with 21062 unique items.</pre>"
      ],
      "text/plain": [
       "328569 observations to process; with 21062 unique items."
      ]
     },
     "metadata": {},
     "output_type": "display_data"
    }
   ],
   "source": [
    "popularity_model = tc.popularity_recommender.create(train_data, \n",
    "                                                    user_id=user_id, \n",
    "                                                    item_id=item_id, \n",
    "                                                    target=target)"
   ]
  },
  {
   "cell_type": "code",
   "execution_count": 47,
   "metadata": {},
   "outputs": [
    {
     "data": {
      "text/html": [
       "<pre>recommendations finished on 1000/556591 queries. users per second: 23160.5</pre>"
      ],
      "text/plain": [
       "recommendations finished on 1000/556591 queries. users per second: 23160.5"
      ]
     },
     "metadata": {},
     "output_type": "display_data"
    },
    {
     "data": {
      "text/html": [
       "<pre>recommendations finished on 2000/556591 queries. users per second: 23478.6</pre>"
      ],
      "text/plain": [
       "recommendations finished on 2000/556591 queries. users per second: 23478.6"
      ]
     },
     "metadata": {},
     "output_type": "display_data"
    },
    {
     "data": {
      "text/html": [
       "<pre>recommendations finished on 3000/556591 queries. users per second: 24686.1</pre>"
      ],
      "text/plain": [
       "recommendations finished on 3000/556591 queries. users per second: 24686.1"
      ]
     },
     "metadata": {},
     "output_type": "display_data"
    },
    {
     "data": {
      "text/html": [
       "<pre>recommendations finished on 4000/556591 queries. users per second: 22374.5</pre>"
      ],
      "text/plain": [
       "recommendations finished on 4000/556591 queries. users per second: 22374.5"
      ]
     },
     "metadata": {},
     "output_type": "display_data"
    },
    {
     "data": {
      "text/html": [
       "<pre>recommendations finished on 5000/556591 queries. users per second: 22923.1</pre>"
      ],
      "text/plain": [
       "recommendations finished on 5000/556591 queries. users per second: 22923.1"
      ]
     },
     "metadata": {},
     "output_type": "display_data"
    },
    {
     "data": {
      "text/html": [
       "<pre>recommendations finished on 6000/556591 queries. users per second: 23398</pre>"
      ],
      "text/plain": [
       "recommendations finished on 6000/556591 queries. users per second: 23398"
      ]
     },
     "metadata": {},
     "output_type": "display_data"
    },
    {
     "data": {
      "text/html": [
       "<pre>recommendations finished on 7000/556591 queries. users per second: 23969.6</pre>"
      ],
      "text/plain": [
       "recommendations finished on 7000/556591 queries. users per second: 23969.6"
      ]
     },
     "metadata": {},
     "output_type": "display_data"
    },
    {
     "data": {
      "text/html": [
       "<pre>recommendations finished on 8000/556591 queries. users per second: 24391.7</pre>"
      ],
      "text/plain": [
       "recommendations finished on 8000/556591 queries. users per second: 24391.7"
      ]
     },
     "metadata": {},
     "output_type": "display_data"
    },
    {
     "data": {
      "text/html": [
       "<pre>recommendations finished on 9000/556591 queries. users per second: 24708.6</pre>"
      ],
      "text/plain": [
       "recommendations finished on 9000/556591 queries. users per second: 24708.6"
      ]
     },
     "metadata": {},
     "output_type": "display_data"
    },
    {
     "data": {
      "text/html": [
       "<pre>recommendations finished on 10000/556591 queries. users per second: 24661.2</pre>"
      ],
      "text/plain": [
       "recommendations finished on 10000/556591 queries. users per second: 24661.2"
      ]
     },
     "metadata": {},
     "output_type": "display_data"
    },
    {
     "data": {
      "text/html": [
       "<pre>recommendations finished on 11000/556591 queries. users per second: 24814.4</pre>"
      ],
      "text/plain": [
       "recommendations finished on 11000/556591 queries. users per second: 24814.4"
      ]
     },
     "metadata": {},
     "output_type": "display_data"
    },
    {
     "data": {
      "text/html": [
       "<pre>recommendations finished on 12000/556591 queries. users per second: 25016.2</pre>"
      ],
      "text/plain": [
       "recommendations finished on 12000/556591 queries. users per second: 25016.2"
      ]
     },
     "metadata": {},
     "output_type": "display_data"
    },
    {
     "data": {
      "text/html": [
       "<pre>recommendations finished on 13000/556591 queries. users per second: 25142.3</pre>"
      ],
      "text/plain": [
       "recommendations finished on 13000/556591 queries. users per second: 25142.3"
      ]
     },
     "metadata": {},
     "output_type": "display_data"
    },
    {
     "data": {
      "text/html": [
       "<pre>recommendations finished on 14000/556591 queries. users per second: 25372.7</pre>"
      ],
      "text/plain": [
       "recommendations finished on 14000/556591 queries. users per second: 25372.7"
      ]
     },
     "metadata": {},
     "output_type": "display_data"
    },
    {
     "data": {
      "text/html": [
       "<pre>recommendations finished on 15000/556591 queries. users per second: 25548.2</pre>"
      ],
      "text/plain": [
       "recommendations finished on 15000/556591 queries. users per second: 25548.2"
      ]
     },
     "metadata": {},
     "output_type": "display_data"
    },
    {
     "data": {
      "text/html": [
       "<pre>recommendations finished on 16000/556591 queries. users per second: 25752</pre>"
      ],
      "text/plain": [
       "recommendations finished on 16000/556591 queries. users per second: 25752"
      ]
     },
     "metadata": {},
     "output_type": "display_data"
    },
    {
     "data": {
      "text/html": [
       "<pre>recommendations finished on 17000/556591 queries. users per second: 25647.6</pre>"
      ],
      "text/plain": [
       "recommendations finished on 17000/556591 queries. users per second: 25647.6"
      ]
     },
     "metadata": {},
     "output_type": "display_data"
    },
    {
     "data": {
      "text/html": [
       "<pre>recommendations finished on 18000/556591 queries. users per second: 25720.6</pre>"
      ],
      "text/plain": [
       "recommendations finished on 18000/556591 queries. users per second: 25720.6"
      ]
     },
     "metadata": {},
     "output_type": "display_data"
    },
    {
     "data": {
      "text/html": [
       "<pre>recommendations finished on 19000/556591 queries. users per second: 25796</pre>"
      ],
      "text/plain": [
       "recommendations finished on 19000/556591 queries. users per second: 25796"
      ]
     },
     "metadata": {},
     "output_type": "display_data"
    },
    {
     "data": {
      "text/html": [
       "<pre>recommendations finished on 20000/556591 queries. users per second: 25773.5</pre>"
      ],
      "text/plain": [
       "recommendations finished on 20000/556591 queries. users per second: 25773.5"
      ]
     },
     "metadata": {},
     "output_type": "display_data"
    },
    {
     "data": {
      "text/html": [
       "<pre>recommendations finished on 21000/556591 queries. users per second: 25845.7</pre>"
      ],
      "text/plain": [
       "recommendations finished on 21000/556591 queries. users per second: 25845.7"
      ]
     },
     "metadata": {},
     "output_type": "display_data"
    },
    {
     "data": {
      "text/html": [
       "<pre>recommendations finished on 22000/556591 queries. users per second: 25895.2</pre>"
      ],
      "text/plain": [
       "recommendations finished on 22000/556591 queries. users per second: 25895.2"
      ]
     },
     "metadata": {},
     "output_type": "display_data"
    },
    {
     "data": {
      "text/html": [
       "<pre>recommendations finished on 23000/556591 queries. users per second: 25915.3</pre>"
      ],
      "text/plain": [
       "recommendations finished on 23000/556591 queries. users per second: 25915.3"
      ]
     },
     "metadata": {},
     "output_type": "display_data"
    },
    {
     "data": {
      "text/html": [
       "<pre>recommendations finished on 24000/556591 queries. users per second: 26078.9</pre>"
      ],
      "text/plain": [
       "recommendations finished on 24000/556591 queries. users per second: 26078.9"
      ]
     },
     "metadata": {},
     "output_type": "display_data"
    },
    {
     "data": {
      "text/html": [
       "<pre>recommendations finished on 25000/556591 queries. users per second: 26140.7</pre>"
      ],
      "text/plain": [
       "recommendations finished on 25000/556591 queries. users per second: 26140.7"
      ]
     },
     "metadata": {},
     "output_type": "display_data"
    },
    {
     "data": {
      "text/html": [
       "<pre>recommendations finished on 26000/556591 queries. users per second: 26185.8</pre>"
      ],
      "text/plain": [
       "recommendations finished on 26000/556591 queries. users per second: 26185.8"
      ]
     },
     "metadata": {},
     "output_type": "display_data"
    },
    {
     "data": {
      "text/html": [
       "<pre>recommendations finished on 27000/556591 queries. users per second: 26087.1</pre>"
      ],
      "text/plain": [
       "recommendations finished on 27000/556591 queries. users per second: 26087.1"
      ]
     },
     "metadata": {},
     "output_type": "display_data"
    },
    {
     "data": {
      "text/html": [
       "<pre>recommendations finished on 28000/556591 queries. users per second: 26127</pre>"
      ],
      "text/plain": [
       "recommendations finished on 28000/556591 queries. users per second: 26127"
      ]
     },
     "metadata": {},
     "output_type": "display_data"
    },
    {
     "data": {
      "text/html": [
       "<pre>recommendations finished on 29000/556591 queries. users per second: 26210.7</pre>"
      ],
      "text/plain": [
       "recommendations finished on 29000/556591 queries. users per second: 26210.7"
      ]
     },
     "metadata": {},
     "output_type": "display_data"
    },
    {
     "data": {
      "text/html": [
       "<pre>recommendations finished on 30000/556591 queries. users per second: 26195.6</pre>"
      ],
      "text/plain": [
       "recommendations finished on 30000/556591 queries. users per second: 26195.6"
      ]
     },
     "metadata": {},
     "output_type": "display_data"
    },
    {
     "data": {
      "text/html": [
       "<pre>recommendations finished on 31000/556591 queries. users per second: 26166.5</pre>"
      ],
      "text/plain": [
       "recommendations finished on 31000/556591 queries. users per second: 26166.5"
      ]
     },
     "metadata": {},
     "output_type": "display_data"
    },
    {
     "data": {
      "text/html": [
       "<pre>recommendations finished on 32000/556591 queries. users per second: 26047.4</pre>"
      ],
      "text/plain": [
       "recommendations finished on 32000/556591 queries. users per second: 26047.4"
      ]
     },
     "metadata": {},
     "output_type": "display_data"
    },
    {
     "data": {
      "text/html": [
       "<pre>recommendations finished on 33000/556591 queries. users per second: 25938.3</pre>"
      ],
      "text/plain": [
       "recommendations finished on 33000/556591 queries. users per second: 25938.3"
      ]
     },
     "metadata": {},
     "output_type": "display_data"
    },
    {
     "data": {
      "text/html": [
       "<pre>recommendations finished on 34000/556591 queries. users per second: 25890.2</pre>"
      ],
      "text/plain": [
       "recommendations finished on 34000/556591 queries. users per second: 25890.2"
      ]
     },
     "metadata": {},
     "output_type": "display_data"
    },
    {
     "data": {
      "text/html": [
       "<pre>recommendations finished on 35000/556591 queries. users per second: 25829.4</pre>"
      ],
      "text/plain": [
       "recommendations finished on 35000/556591 queries. users per second: 25829.4"
      ]
     },
     "metadata": {},
     "output_type": "display_data"
    },
    {
     "data": {
      "text/html": [
       "<pre>recommendations finished on 36000/556591 queries. users per second: 25809.7</pre>"
      ],
      "text/plain": [
       "recommendations finished on 36000/556591 queries. users per second: 25809.7"
      ]
     },
     "metadata": {},
     "output_type": "display_data"
    },
    {
     "data": {
      "text/html": [
       "<pre>recommendations finished on 37000/556591 queries. users per second: 25792.2</pre>"
      ],
      "text/plain": [
       "recommendations finished on 37000/556591 queries. users per second: 25792.2"
      ]
     },
     "metadata": {},
     "output_type": "display_data"
    },
    {
     "data": {
      "text/html": [
       "<pre>recommendations finished on 38000/556591 queries. users per second: 25757.3</pre>"
      ],
      "text/plain": [
       "recommendations finished on 38000/556591 queries. users per second: 25757.3"
      ]
     },
     "metadata": {},
     "output_type": "display_data"
    },
    {
     "data": {
      "text/html": [
       "<pre>recommendations finished on 39000/556591 queries. users per second: 25761.1</pre>"
      ],
      "text/plain": [
       "recommendations finished on 39000/556591 queries. users per second: 25761.1"
      ]
     },
     "metadata": {},
     "output_type": "display_data"
    },
    {
     "data": {
      "text/html": [
       "<pre>recommendations finished on 40000/556591 queries. users per second: 25761.2</pre>"
      ],
      "text/plain": [
       "recommendations finished on 40000/556591 queries. users per second: 25761.2"
      ]
     },
     "metadata": {},
     "output_type": "display_data"
    },
    {
     "data": {
      "text/html": [
       "<pre>recommendations finished on 41000/556591 queries. users per second: 25768.4</pre>"
      ],
      "text/plain": [
       "recommendations finished on 41000/556591 queries. users per second: 25768.4"
      ]
     },
     "metadata": {},
     "output_type": "display_data"
    },
    {
     "data": {
      "text/html": [
       "<pre>recommendations finished on 42000/556591 queries. users per second: 25763.5</pre>"
      ],
      "text/plain": [
       "recommendations finished on 42000/556591 queries. users per second: 25763.5"
      ]
     },
     "metadata": {},
     "output_type": "display_data"
    },
    {
     "data": {
      "text/html": [
       "<pre>recommendations finished on 43000/556591 queries. users per second: 25760.6</pre>"
      ],
      "text/plain": [
       "recommendations finished on 43000/556591 queries. users per second: 25760.6"
      ]
     },
     "metadata": {},
     "output_type": "display_data"
    },
    {
     "data": {
      "text/html": [
       "<pre>recommendations finished on 44000/556591 queries. users per second: 25810</pre>"
      ],
      "text/plain": [
       "recommendations finished on 44000/556591 queries. users per second: 25810"
      ]
     },
     "metadata": {},
     "output_type": "display_data"
    },
    {
     "data": {
      "text/html": [
       "<pre>recommendations finished on 45000/556591 queries. users per second: 25814.9</pre>"
      ],
      "text/plain": [
       "recommendations finished on 45000/556591 queries. users per second: 25814.9"
      ]
     },
     "metadata": {},
     "output_type": "display_data"
    },
    {
     "data": {
      "text/html": [
       "<pre>recommendations finished on 46000/556591 queries. users per second: 25735.4</pre>"
      ],
      "text/plain": [
       "recommendations finished on 46000/556591 queries. users per second: 25735.4"
      ]
     },
     "metadata": {},
     "output_type": "display_data"
    },
    {
     "data": {
      "text/html": [
       "<pre>recommendations finished on 47000/556591 queries. users per second: 25734.1</pre>"
      ],
      "text/plain": [
       "recommendations finished on 47000/556591 queries. users per second: 25734.1"
      ]
     },
     "metadata": {},
     "output_type": "display_data"
    },
    {
     "data": {
      "text/html": [
       "<pre>recommendations finished on 48000/556591 queries. users per second: 25738</pre>"
      ],
      "text/plain": [
       "recommendations finished on 48000/556591 queries. users per second: 25738"
      ]
     },
     "metadata": {},
     "output_type": "display_data"
    },
    {
     "data": {
      "text/html": [
       "<pre>recommendations finished on 49000/556591 queries. users per second: 25708.8</pre>"
      ],
      "text/plain": [
       "recommendations finished on 49000/556591 queries. users per second: 25708.8"
      ]
     },
     "metadata": {},
     "output_type": "display_data"
    },
    {
     "data": {
      "text/html": [
       "<pre>recommendations finished on 50000/556591 queries. users per second: 25624.8</pre>"
      ],
      "text/plain": [
       "recommendations finished on 50000/556591 queries. users per second: 25624.8"
      ]
     },
     "metadata": {},
     "output_type": "display_data"
    },
    {
     "data": {
      "text/html": [
       "<pre>recommendations finished on 51000/556591 queries. users per second: 25581.4</pre>"
      ],
      "text/plain": [
       "recommendations finished on 51000/556591 queries. users per second: 25581.4"
      ]
     },
     "metadata": {},
     "output_type": "display_data"
    },
    {
     "data": {
      "text/html": [
       "<pre>recommendations finished on 52000/556591 queries. users per second: 25556.6</pre>"
      ],
      "text/plain": [
       "recommendations finished on 52000/556591 queries. users per second: 25556.6"
      ]
     },
     "metadata": {},
     "output_type": "display_data"
    },
    {
     "data": {
      "text/html": [
       "<pre>recommendations finished on 53000/556591 queries. users per second: 25487.4</pre>"
      ],
      "text/plain": [
       "recommendations finished on 53000/556591 queries. users per second: 25487.4"
      ]
     },
     "metadata": {},
     "output_type": "display_data"
    },
    {
     "data": {
      "text/html": [
       "<pre>recommendations finished on 54000/556591 queries. users per second: 25432.1</pre>"
      ],
      "text/plain": [
       "recommendations finished on 54000/556591 queries. users per second: 25432.1"
      ]
     },
     "metadata": {},
     "output_type": "display_data"
    },
    {
     "data": {
      "text/html": [
       "<pre>recommendations finished on 55000/556591 queries. users per second: 25413</pre>"
      ],
      "text/plain": [
       "recommendations finished on 55000/556591 queries. users per second: 25413"
      ]
     },
     "metadata": {},
     "output_type": "display_data"
    },
    {
     "data": {
      "text/html": [
       "<pre>recommendations finished on 56000/556591 queries. users per second: 25411.9</pre>"
      ],
      "text/plain": [
       "recommendations finished on 56000/556591 queries. users per second: 25411.9"
      ]
     },
     "metadata": {},
     "output_type": "display_data"
    },
    {
     "data": {
      "text/html": [
       "<pre>recommendations finished on 57000/556591 queries. users per second: 25389.9</pre>"
      ],
      "text/plain": [
       "recommendations finished on 57000/556591 queries. users per second: 25389.9"
      ]
     },
     "metadata": {},
     "output_type": "display_data"
    },
    {
     "data": {
      "text/html": [
       "<pre>recommendations finished on 58000/556591 queries. users per second: 25372.1</pre>"
      ],
      "text/plain": [
       "recommendations finished on 58000/556591 queries. users per second: 25372.1"
      ]
     },
     "metadata": {},
     "output_type": "display_data"
    },
    {
     "data": {
      "text/html": [
       "<pre>recommendations finished on 59000/556591 queries. users per second: 25341.2</pre>"
      ],
      "text/plain": [
       "recommendations finished on 59000/556591 queries. users per second: 25341.2"
      ]
     },
     "metadata": {},
     "output_type": "display_data"
    },
    {
     "data": {
      "text/html": [
       "<pre>recommendations finished on 60000/556591 queries. users per second: 25312.6</pre>"
      ],
      "text/plain": [
       "recommendations finished on 60000/556591 queries. users per second: 25312.6"
      ]
     },
     "metadata": {},
     "output_type": "display_data"
    },
    {
     "data": {
      "text/html": [
       "<pre>recommendations finished on 61000/556591 queries. users per second: 25322.2</pre>"
      ],
      "text/plain": [
       "recommendations finished on 61000/556591 queries. users per second: 25322.2"
      ]
     },
     "metadata": {},
     "output_type": "display_data"
    },
    {
     "data": {
      "text/html": [
       "<pre>recommendations finished on 62000/556591 queries. users per second: 25330.2</pre>"
      ],
      "text/plain": [
       "recommendations finished on 62000/556591 queries. users per second: 25330.2"
      ]
     },
     "metadata": {},
     "output_type": "display_data"
    },
    {
     "data": {
      "text/html": [
       "<pre>recommendations finished on 63000/556591 queries. users per second: 25352.8</pre>"
      ],
      "text/plain": [
       "recommendations finished on 63000/556591 queries. users per second: 25352.8"
      ]
     },
     "metadata": {},
     "output_type": "display_data"
    },
    {
     "data": {
      "text/html": [
       "<pre>recommendations finished on 64000/556591 queries. users per second: 25339.7</pre>"
      ],
      "text/plain": [
       "recommendations finished on 64000/556591 queries. users per second: 25339.7"
      ]
     },
     "metadata": {},
     "output_type": "display_data"
    },
    {
     "data": {
      "text/html": [
       "<pre>recommendations finished on 65000/556591 queries. users per second: 25328.4</pre>"
      ],
      "text/plain": [
       "recommendations finished on 65000/556591 queries. users per second: 25328.4"
      ]
     },
     "metadata": {},
     "output_type": "display_data"
    },
    {
     "data": {
      "text/html": [
       "<pre>recommendations finished on 66000/556591 queries. users per second: 25316.9</pre>"
      ],
      "text/plain": [
       "recommendations finished on 66000/556591 queries. users per second: 25316.9"
      ]
     },
     "metadata": {},
     "output_type": "display_data"
    },
    {
     "data": {
      "text/html": [
       "<pre>recommendations finished on 67000/556591 queries. users per second: 25292</pre>"
      ],
      "text/plain": [
       "recommendations finished on 67000/556591 queries. users per second: 25292"
      ]
     },
     "metadata": {},
     "output_type": "display_data"
    },
    {
     "data": {
      "text/html": [
       "<pre>recommendations finished on 68000/556591 queries. users per second: 25304.5</pre>"
      ],
      "text/plain": [
       "recommendations finished on 68000/556591 queries. users per second: 25304.5"
      ]
     },
     "metadata": {},
     "output_type": "display_data"
    },
    {
     "data": {
      "text/html": [
       "<pre>recommendations finished on 69000/556591 queries. users per second: 25327.1</pre>"
      ],
      "text/plain": [
       "recommendations finished on 69000/556591 queries. users per second: 25327.1"
      ]
     },
     "metadata": {},
     "output_type": "display_data"
    },
    {
     "data": {
      "text/html": [
       "<pre>recommendations finished on 70000/556591 queries. users per second: 25344.6</pre>"
      ],
      "text/plain": [
       "recommendations finished on 70000/556591 queries. users per second: 25344.6"
      ]
     },
     "metadata": {},
     "output_type": "display_data"
    },
    {
     "data": {
      "text/html": [
       "<pre>recommendations finished on 71000/556591 queries. users per second: 25358.2</pre>"
      ],
      "text/plain": [
       "recommendations finished on 71000/556591 queries. users per second: 25358.2"
      ]
     },
     "metadata": {},
     "output_type": "display_data"
    },
    {
     "data": {
      "text/html": [
       "<pre>recommendations finished on 72000/556591 queries. users per second: 25378.9</pre>"
      ],
      "text/plain": [
       "recommendations finished on 72000/556591 queries. users per second: 25378.9"
      ]
     },
     "metadata": {},
     "output_type": "display_data"
    },
    {
     "data": {
      "text/html": [
       "<pre>recommendations finished on 73000/556591 queries. users per second: 25380.8</pre>"
      ],
      "text/plain": [
       "recommendations finished on 73000/556591 queries. users per second: 25380.8"
      ]
     },
     "metadata": {},
     "output_type": "display_data"
    },
    {
     "data": {
      "text/html": [
       "<pre>recommendations finished on 74000/556591 queries. users per second: 25401.9</pre>"
      ],
      "text/plain": [
       "recommendations finished on 74000/556591 queries. users per second: 25401.9"
      ]
     },
     "metadata": {},
     "output_type": "display_data"
    },
    {
     "data": {
      "text/html": [
       "<pre>recommendations finished on 75000/556591 queries. users per second: 25445.4</pre>"
      ],
      "text/plain": [
       "recommendations finished on 75000/556591 queries. users per second: 25445.4"
      ]
     },
     "metadata": {},
     "output_type": "display_data"
    },
    {
     "data": {
      "text/html": [
       "<pre>recommendations finished on 76000/556591 queries. users per second: 25472.9</pre>"
      ],
      "text/plain": [
       "recommendations finished on 76000/556591 queries. users per second: 25472.9"
      ]
     },
     "metadata": {},
     "output_type": "display_data"
    },
    {
     "data": {
      "text/html": [
       "<pre>recommendations finished on 77000/556591 queries. users per second: 25490.4</pre>"
      ],
      "text/plain": [
       "recommendations finished on 77000/556591 queries. users per second: 25490.4"
      ]
     },
     "metadata": {},
     "output_type": "display_data"
    },
    {
     "data": {
      "text/html": [
       "<pre>recommendations finished on 78000/556591 queries. users per second: 25458.8</pre>"
      ],
      "text/plain": [
       "recommendations finished on 78000/556591 queries. users per second: 25458.8"
      ]
     },
     "metadata": {},
     "output_type": "display_data"
    },
    {
     "data": {
      "text/html": [
       "<pre>recommendations finished on 79000/556591 queries. users per second: 25431.1</pre>"
      ],
      "text/plain": [
       "recommendations finished on 79000/556591 queries. users per second: 25431.1"
      ]
     },
     "metadata": {},
     "output_type": "display_data"
    },
    {
     "data": {
      "text/html": [
       "<pre>recommendations finished on 80000/556591 queries. users per second: 25400.4</pre>"
      ],
      "text/plain": [
       "recommendations finished on 80000/556591 queries. users per second: 25400.4"
      ]
     },
     "metadata": {},
     "output_type": "display_data"
    },
    {
     "data": {
      "text/html": [
       "<pre>recommendations finished on 81000/556591 queries. users per second: 25359.8</pre>"
      ],
      "text/plain": [
       "recommendations finished on 81000/556591 queries. users per second: 25359.8"
      ]
     },
     "metadata": {},
     "output_type": "display_data"
    },
    {
     "data": {
      "text/html": [
       "<pre>recommendations finished on 82000/556591 queries. users per second: 25350.3</pre>"
      ],
      "text/plain": [
       "recommendations finished on 82000/556591 queries. users per second: 25350.3"
      ]
     },
     "metadata": {},
     "output_type": "display_data"
    },
    {
     "data": {
      "text/html": [
       "<pre>recommendations finished on 83000/556591 queries. users per second: 25328.2</pre>"
      ],
      "text/plain": [
       "recommendations finished on 83000/556591 queries. users per second: 25328.2"
      ]
     },
     "metadata": {},
     "output_type": "display_data"
    },
    {
     "data": {
      "text/html": [
       "<pre>recommendations finished on 84000/556591 queries. users per second: 25324.3</pre>"
      ],
      "text/plain": [
       "recommendations finished on 84000/556591 queries. users per second: 25324.3"
      ]
     },
     "metadata": {},
     "output_type": "display_data"
    },
    {
     "data": {
      "text/html": [
       "<pre>recommendations finished on 85000/556591 queries. users per second: 25278.5</pre>"
      ],
      "text/plain": [
       "recommendations finished on 85000/556591 queries. users per second: 25278.5"
      ]
     },
     "metadata": {},
     "output_type": "display_data"
    },
    {
     "data": {
      "text/html": [
       "<pre>recommendations finished on 86000/556591 queries. users per second: 25259.2</pre>"
      ],
      "text/plain": [
       "recommendations finished on 86000/556591 queries. users per second: 25259.2"
      ]
     },
     "metadata": {},
     "output_type": "display_data"
    },
    {
     "data": {
      "text/html": [
       "<pre>recommendations finished on 87000/556591 queries. users per second: 25253.9</pre>"
      ],
      "text/plain": [
       "recommendations finished on 87000/556591 queries. users per second: 25253.9"
      ]
     },
     "metadata": {},
     "output_type": "display_data"
    },
    {
     "data": {
      "text/html": [
       "<pre>recommendations finished on 88000/556591 queries. users per second: 25256.2</pre>"
      ],
      "text/plain": [
       "recommendations finished on 88000/556591 queries. users per second: 25256.2"
      ]
     },
     "metadata": {},
     "output_type": "display_data"
    },
    {
     "data": {
      "text/html": [
       "<pre>recommendations finished on 89000/556591 queries. users per second: 25212.3</pre>"
      ],
      "text/plain": [
       "recommendations finished on 89000/556591 queries. users per second: 25212.3"
      ]
     },
     "metadata": {},
     "output_type": "display_data"
    },
    {
     "data": {
      "text/html": [
       "<pre>recommendations finished on 90000/556591 queries. users per second: 25192.2</pre>"
      ],
      "text/plain": [
       "recommendations finished on 90000/556591 queries. users per second: 25192.2"
      ]
     },
     "metadata": {},
     "output_type": "display_data"
    },
    {
     "data": {
      "text/html": [
       "<pre>recommendations finished on 91000/556591 queries. users per second: 25179.3</pre>"
      ],
      "text/plain": [
       "recommendations finished on 91000/556591 queries. users per second: 25179.3"
      ]
     },
     "metadata": {},
     "output_type": "display_data"
    },
    {
     "data": {
      "text/html": [
       "<pre>recommendations finished on 92000/556591 queries. users per second: 25164.8</pre>"
      ],
      "text/plain": [
       "recommendations finished on 92000/556591 queries. users per second: 25164.8"
      ]
     },
     "metadata": {},
     "output_type": "display_data"
    },
    {
     "data": {
      "text/html": [
       "<pre>recommendations finished on 93000/556591 queries. users per second: 25153.7</pre>"
      ],
      "text/plain": [
       "recommendations finished on 93000/556591 queries. users per second: 25153.7"
      ]
     },
     "metadata": {},
     "output_type": "display_data"
    },
    {
     "data": {
      "text/html": [
       "<pre>recommendations finished on 94000/556591 queries. users per second: 25138.3</pre>"
      ],
      "text/plain": [
       "recommendations finished on 94000/556591 queries. users per second: 25138.3"
      ]
     },
     "metadata": {},
     "output_type": "display_data"
    },
    {
     "data": {
      "text/html": [
       "<pre>recommendations finished on 95000/556591 queries. users per second: 25131.4</pre>"
      ],
      "text/plain": [
       "recommendations finished on 95000/556591 queries. users per second: 25131.4"
      ]
     },
     "metadata": {},
     "output_type": "display_data"
    },
    {
     "data": {
      "text/html": [
       "<pre>recommendations finished on 96000/556591 queries. users per second: 25113.7</pre>"
      ],
      "text/plain": [
       "recommendations finished on 96000/556591 queries. users per second: 25113.7"
      ]
     },
     "metadata": {},
     "output_type": "display_data"
    },
    {
     "data": {
      "text/html": [
       "<pre>recommendations finished on 97000/556591 queries. users per second: 25091.1</pre>"
      ],
      "text/plain": [
       "recommendations finished on 97000/556591 queries. users per second: 25091.1"
      ]
     },
     "metadata": {},
     "output_type": "display_data"
    },
    {
     "data": {
      "text/html": [
       "<pre>recommendations finished on 98000/556591 queries. users per second: 25058.1</pre>"
      ],
      "text/plain": [
       "recommendations finished on 98000/556591 queries. users per second: 25058.1"
      ]
     },
     "metadata": {},
     "output_type": "display_data"
    },
    {
     "data": {
      "text/html": [
       "<pre>recommendations finished on 99000/556591 queries. users per second: 25058.7</pre>"
      ],
      "text/plain": [
       "recommendations finished on 99000/556591 queries. users per second: 25058.7"
      ]
     },
     "metadata": {},
     "output_type": "display_data"
    },
    {
     "data": {
      "text/html": [
       "<pre>recommendations finished on 100000/556591 queries. users per second: 25042.3</pre>"
      ],
      "text/plain": [
       "recommendations finished on 100000/556591 queries. users per second: 25042.3"
      ]
     },
     "metadata": {},
     "output_type": "display_data"
    },
    {
     "data": {
      "text/html": [
       "<pre>recommendations finished on 101000/556591 queries. users per second: 25035.5</pre>"
      ],
      "text/plain": [
       "recommendations finished on 101000/556591 queries. users per second: 25035.5"
      ]
     },
     "metadata": {},
     "output_type": "display_data"
    },
    {
     "data": {
      "text/html": [
       "<pre>recommendations finished on 102000/556591 queries. users per second: 25032</pre>"
      ],
      "text/plain": [
       "recommendations finished on 102000/556591 queries. users per second: 25032"
      ]
     },
     "metadata": {},
     "output_type": "display_data"
    },
    {
     "data": {
      "text/html": [
       "<pre>recommendations finished on 103000/556591 queries. users per second: 25013.3</pre>"
      ],
      "text/plain": [
       "recommendations finished on 103000/556591 queries. users per second: 25013.3"
      ]
     },
     "metadata": {},
     "output_type": "display_data"
    },
    {
     "data": {
      "text/html": [
       "<pre>recommendations finished on 104000/556591 queries. users per second: 24974.1</pre>"
      ],
      "text/plain": [
       "recommendations finished on 104000/556591 queries. users per second: 24974.1"
      ]
     },
     "metadata": {},
     "output_type": "display_data"
    },
    {
     "data": {
      "text/html": [
       "<pre>recommendations finished on 105000/556591 queries. users per second: 24953.8</pre>"
      ],
      "text/plain": [
       "recommendations finished on 105000/556591 queries. users per second: 24953.8"
      ]
     },
     "metadata": {},
     "output_type": "display_data"
    },
    {
     "data": {
      "text/html": [
       "<pre>recommendations finished on 106000/556591 queries. users per second: 24942.5</pre>"
      ],
      "text/plain": [
       "recommendations finished on 106000/556591 queries. users per second: 24942.5"
      ]
     },
     "metadata": {},
     "output_type": "display_data"
    },
    {
     "data": {
      "text/html": [
       "<pre>recommendations finished on 107000/556591 queries. users per second: 24895.9</pre>"
      ],
      "text/plain": [
       "recommendations finished on 107000/556591 queries. users per second: 24895.9"
      ]
     },
     "metadata": {},
     "output_type": "display_data"
    },
    {
     "data": {
      "text/html": [
       "<pre>recommendations finished on 108000/556591 queries. users per second: 24890.4</pre>"
      ],
      "text/plain": [
       "recommendations finished on 108000/556591 queries. users per second: 24890.4"
      ]
     },
     "metadata": {},
     "output_type": "display_data"
    },
    {
     "data": {
      "text/html": [
       "<pre>recommendations finished on 109000/556591 queries. users per second: 24867.7</pre>"
      ],
      "text/plain": [
       "recommendations finished on 109000/556591 queries. users per second: 24867.7"
      ]
     },
     "metadata": {},
     "output_type": "display_data"
    },
    {
     "data": {
      "text/html": [
       "<pre>recommendations finished on 110000/556591 queries. users per second: 24838.3</pre>"
      ],
      "text/plain": [
       "recommendations finished on 110000/556591 queries. users per second: 24838.3"
      ]
     },
     "metadata": {},
     "output_type": "display_data"
    },
    {
     "data": {
      "text/html": [
       "<pre>recommendations finished on 111000/556591 queries. users per second: 24836.2</pre>"
      ],
      "text/plain": [
       "recommendations finished on 111000/556591 queries. users per second: 24836.2"
      ]
     },
     "metadata": {},
     "output_type": "display_data"
    },
    {
     "data": {
      "text/html": [
       "<pre>recommendations finished on 112000/556591 queries. users per second: 24823.4</pre>"
      ],
      "text/plain": [
       "recommendations finished on 112000/556591 queries. users per second: 24823.4"
      ]
     },
     "metadata": {},
     "output_type": "display_data"
    },
    {
     "data": {
      "text/html": [
       "<pre>recommendations finished on 113000/556591 queries. users per second: 24820.5</pre>"
      ],
      "text/plain": [
       "recommendations finished on 113000/556591 queries. users per second: 24820.5"
      ]
     },
     "metadata": {},
     "output_type": "display_data"
    },
    {
     "data": {
      "text/html": [
       "<pre>recommendations finished on 114000/556591 queries. users per second: 24814</pre>"
      ],
      "text/plain": [
       "recommendations finished on 114000/556591 queries. users per second: 24814"
      ]
     },
     "metadata": {},
     "output_type": "display_data"
    },
    {
     "data": {
      "text/html": [
       "<pre>recommendations finished on 115000/556591 queries. users per second: 24807.2</pre>"
      ],
      "text/plain": [
       "recommendations finished on 115000/556591 queries. users per second: 24807.2"
      ]
     },
     "metadata": {},
     "output_type": "display_data"
    },
    {
     "data": {
      "text/html": [
       "<pre>recommendations finished on 116000/556591 queries. users per second: 24785</pre>"
      ],
      "text/plain": [
       "recommendations finished on 116000/556591 queries. users per second: 24785"
      ]
     },
     "metadata": {},
     "output_type": "display_data"
    },
    {
     "data": {
      "text/html": [
       "<pre>recommendations finished on 117000/556591 queries. users per second: 24781.8</pre>"
      ],
      "text/plain": [
       "recommendations finished on 117000/556591 queries. users per second: 24781.8"
      ]
     },
     "metadata": {},
     "output_type": "display_data"
    },
    {
     "data": {
      "text/html": [
       "<pre>recommendations finished on 118000/556591 queries. users per second: 24779.7</pre>"
      ],
      "text/plain": [
       "recommendations finished on 118000/556591 queries. users per second: 24779.7"
      ]
     },
     "metadata": {},
     "output_type": "display_data"
    },
    {
     "data": {
      "text/html": [
       "<pre>recommendations finished on 119000/556591 queries. users per second: 24782.4</pre>"
      ],
      "text/plain": [
       "recommendations finished on 119000/556591 queries. users per second: 24782.4"
      ]
     },
     "metadata": {},
     "output_type": "display_data"
    },
    {
     "data": {
      "text/html": [
       "<pre>recommendations finished on 120000/556591 queries. users per second: 24766.3</pre>"
      ],
      "text/plain": [
       "recommendations finished on 120000/556591 queries. users per second: 24766.3"
      ]
     },
     "metadata": {},
     "output_type": "display_data"
    },
    {
     "data": {
      "text/html": [
       "<pre>recommendations finished on 121000/556591 queries. users per second: 24753.8</pre>"
      ],
      "text/plain": [
       "recommendations finished on 121000/556591 queries. users per second: 24753.8"
      ]
     },
     "metadata": {},
     "output_type": "display_data"
    },
    {
     "data": {
      "text/html": [
       "<pre>recommendations finished on 122000/556591 queries. users per second: 24733.1</pre>"
      ],
      "text/plain": [
       "recommendations finished on 122000/556591 queries. users per second: 24733.1"
      ]
     },
     "metadata": {},
     "output_type": "display_data"
    },
    {
     "data": {
      "text/html": [
       "<pre>recommendations finished on 123000/556591 queries. users per second: 24706.6</pre>"
      ],
      "text/plain": [
       "recommendations finished on 123000/556591 queries. users per second: 24706.6"
      ]
     },
     "metadata": {},
     "output_type": "display_data"
    },
    {
     "data": {
      "text/html": [
       "<pre>recommendations finished on 124000/556591 queries. users per second: 24706.1</pre>"
      ],
      "text/plain": [
       "recommendations finished on 124000/556591 queries. users per second: 24706.1"
      ]
     },
     "metadata": {},
     "output_type": "display_data"
    },
    {
     "data": {
      "text/html": [
       "<pre>recommendations finished on 125000/556591 queries. users per second: 24697.8</pre>"
      ],
      "text/plain": [
       "recommendations finished on 125000/556591 queries. users per second: 24697.8"
      ]
     },
     "metadata": {},
     "output_type": "display_data"
    },
    {
     "data": {
      "text/html": [
       "<pre>recommendations finished on 126000/556591 queries. users per second: 24686.5</pre>"
      ],
      "text/plain": [
       "recommendations finished on 126000/556591 queries. users per second: 24686.5"
      ]
     },
     "metadata": {},
     "output_type": "display_data"
    },
    {
     "data": {
      "text/html": [
       "<pre>recommendations finished on 127000/556591 queries. users per second: 24686.6</pre>"
      ],
      "text/plain": [
       "recommendations finished on 127000/556591 queries. users per second: 24686.6"
      ]
     },
     "metadata": {},
     "output_type": "display_data"
    },
    {
     "data": {
      "text/html": [
       "<pre>recommendations finished on 128000/556591 queries. users per second: 24674.2</pre>"
      ],
      "text/plain": [
       "recommendations finished on 128000/556591 queries. users per second: 24674.2"
      ]
     },
     "metadata": {},
     "output_type": "display_data"
    },
    {
     "data": {
      "text/html": [
       "<pre>recommendations finished on 129000/556591 queries. users per second: 24658.8</pre>"
      ],
      "text/plain": [
       "recommendations finished on 129000/556591 queries. users per second: 24658.8"
      ]
     },
     "metadata": {},
     "output_type": "display_data"
    },
    {
     "data": {
      "text/html": [
       "<pre>recommendations finished on 130000/556591 queries. users per second: 24660.1</pre>"
      ],
      "text/plain": [
       "recommendations finished on 130000/556591 queries. users per second: 24660.1"
      ]
     },
     "metadata": {},
     "output_type": "display_data"
    },
    {
     "data": {
      "text/html": [
       "<pre>recommendations finished on 131000/556591 queries. users per second: 24650</pre>"
      ],
      "text/plain": [
       "recommendations finished on 131000/556591 queries. users per second: 24650"
      ]
     },
     "metadata": {},
     "output_type": "display_data"
    },
    {
     "data": {
      "text/html": [
       "<pre>recommendations finished on 132000/556591 queries. users per second: 24643</pre>"
      ],
      "text/plain": [
       "recommendations finished on 132000/556591 queries. users per second: 24643"
      ]
     },
     "metadata": {},
     "output_type": "display_data"
    },
    {
     "data": {
      "text/html": [
       "<pre>recommendations finished on 133000/556591 queries. users per second: 24644.1</pre>"
      ],
      "text/plain": [
       "recommendations finished on 133000/556591 queries. users per second: 24644.1"
      ]
     },
     "metadata": {},
     "output_type": "display_data"
    },
    {
     "data": {
      "text/html": [
       "<pre>recommendations finished on 134000/556591 queries. users per second: 24628.6</pre>"
      ],
      "text/plain": [
       "recommendations finished on 134000/556591 queries. users per second: 24628.6"
      ]
     },
     "metadata": {},
     "output_type": "display_data"
    },
    {
     "data": {
      "text/html": [
       "<pre>recommendations finished on 135000/556591 queries. users per second: 24603.9</pre>"
      ],
      "text/plain": [
       "recommendations finished on 135000/556591 queries. users per second: 24603.9"
      ]
     },
     "metadata": {},
     "output_type": "display_data"
    },
    {
     "data": {
      "text/html": [
       "<pre>recommendations finished on 136000/556591 queries. users per second: 24594.6</pre>"
      ],
      "text/plain": [
       "recommendations finished on 136000/556591 queries. users per second: 24594.6"
      ]
     },
     "metadata": {},
     "output_type": "display_data"
    },
    {
     "data": {
      "text/html": [
       "<pre>recommendations finished on 137000/556591 queries. users per second: 24587.8</pre>"
      ],
      "text/plain": [
       "recommendations finished on 137000/556591 queries. users per second: 24587.8"
      ]
     },
     "metadata": {},
     "output_type": "display_data"
    },
    {
     "data": {
      "text/html": [
       "<pre>recommendations finished on 138000/556591 queries. users per second: 24582.8</pre>"
      ],
      "text/plain": [
       "recommendations finished on 138000/556591 queries. users per second: 24582.8"
      ]
     },
     "metadata": {},
     "output_type": "display_data"
    },
    {
     "data": {
      "text/html": [
       "<pre>recommendations finished on 139000/556591 queries. users per second: 24581.2</pre>"
      ],
      "text/plain": [
       "recommendations finished on 139000/556591 queries. users per second: 24581.2"
      ]
     },
     "metadata": {},
     "output_type": "display_data"
    },
    {
     "data": {
      "text/html": [
       "<pre>recommendations finished on 140000/556591 queries. users per second: 24583.8</pre>"
      ],
      "text/plain": [
       "recommendations finished on 140000/556591 queries. users per second: 24583.8"
      ]
     },
     "metadata": {},
     "output_type": "display_data"
    },
    {
     "data": {
      "text/html": [
       "<pre>recommendations finished on 141000/556591 queries. users per second: 24589.9</pre>"
      ],
      "text/plain": [
       "recommendations finished on 141000/556591 queries. users per second: 24589.9"
      ]
     },
     "metadata": {},
     "output_type": "display_data"
    },
    {
     "data": {
      "text/html": [
       "<pre>recommendations finished on 142000/556591 queries. users per second: 24568</pre>"
      ],
      "text/plain": [
       "recommendations finished on 142000/556591 queries. users per second: 24568"
      ]
     },
     "metadata": {},
     "output_type": "display_data"
    },
    {
     "data": {
      "text/html": [
       "<pre>recommendations finished on 143000/556591 queries. users per second: 24549.8</pre>"
      ],
      "text/plain": [
       "recommendations finished on 143000/556591 queries. users per second: 24549.8"
      ]
     },
     "metadata": {},
     "output_type": "display_data"
    },
    {
     "data": {
      "text/html": [
       "<pre>recommendations finished on 144000/556591 queries. users per second: 24550.2</pre>"
      ],
      "text/plain": [
       "recommendations finished on 144000/556591 queries. users per second: 24550.2"
      ]
     },
     "metadata": {},
     "output_type": "display_data"
    },
    {
     "data": {
      "text/html": [
       "<pre>recommendations finished on 145000/556591 queries. users per second: 24526.7</pre>"
      ],
      "text/plain": [
       "recommendations finished on 145000/556591 queries. users per second: 24526.7"
      ]
     },
     "metadata": {},
     "output_type": "display_data"
    },
    {
     "data": {
      "text/html": [
       "<pre>recommendations finished on 146000/556591 queries. users per second: 24529.6</pre>"
      ],
      "text/plain": [
       "recommendations finished on 146000/556591 queries. users per second: 24529.6"
      ]
     },
     "metadata": {},
     "output_type": "display_data"
    },
    {
     "data": {
      "text/html": [
       "<pre>recommendations finished on 147000/556591 queries. users per second: 24513.3</pre>"
      ],
      "text/plain": [
       "recommendations finished on 147000/556591 queries. users per second: 24513.3"
      ]
     },
     "metadata": {},
     "output_type": "display_data"
    },
    {
     "data": {
      "text/html": [
       "<pre>recommendations finished on 148000/556591 queries. users per second: 24500.5</pre>"
      ],
      "text/plain": [
       "recommendations finished on 148000/556591 queries. users per second: 24500.5"
      ]
     },
     "metadata": {},
     "output_type": "display_data"
    },
    {
     "data": {
      "text/html": [
       "<pre>recommendations finished on 149000/556591 queries. users per second: 24380.7</pre>"
      ],
      "text/plain": [
       "recommendations finished on 149000/556591 queries. users per second: 24380.7"
      ]
     },
     "metadata": {},
     "output_type": "display_data"
    },
    {
     "data": {
      "text/html": [
       "<pre>recommendations finished on 150000/556591 queries. users per second: 24378.1</pre>"
      ],
      "text/plain": [
       "recommendations finished on 150000/556591 queries. users per second: 24378.1"
      ]
     },
     "metadata": {},
     "output_type": "display_data"
    },
    {
     "data": {
      "text/html": [
       "<pre>recommendations finished on 151000/556591 queries. users per second: 24378.1</pre>"
      ],
      "text/plain": [
       "recommendations finished on 151000/556591 queries. users per second: 24378.1"
      ]
     },
     "metadata": {},
     "output_type": "display_data"
    },
    {
     "data": {
      "text/html": [
       "<pre>recommendations finished on 152000/556591 queries. users per second: 24380.3</pre>"
      ],
      "text/plain": [
       "recommendations finished on 152000/556591 queries. users per second: 24380.3"
      ]
     },
     "metadata": {},
     "output_type": "display_data"
    },
    {
     "data": {
      "text/html": [
       "<pre>recommendations finished on 153000/556591 queries. users per second: 24360.7</pre>"
      ],
      "text/plain": [
       "recommendations finished on 153000/556591 queries. users per second: 24360.7"
      ]
     },
     "metadata": {},
     "output_type": "display_data"
    },
    {
     "data": {
      "text/html": [
       "<pre>recommendations finished on 154000/556591 queries. users per second: 24361.6</pre>"
      ],
      "text/plain": [
       "recommendations finished on 154000/556591 queries. users per second: 24361.6"
      ]
     },
     "metadata": {},
     "output_type": "display_data"
    },
    {
     "data": {
      "text/html": [
       "<pre>recommendations finished on 155000/556591 queries. users per second: 24352.7</pre>"
      ],
      "text/plain": [
       "recommendations finished on 155000/556591 queries. users per second: 24352.7"
      ]
     },
     "metadata": {},
     "output_type": "display_data"
    },
    {
     "data": {
      "text/html": [
       "<pre>recommendations finished on 156000/556591 queries. users per second: 24345.9</pre>"
      ],
      "text/plain": [
       "recommendations finished on 156000/556591 queries. users per second: 24345.9"
      ]
     },
     "metadata": {},
     "output_type": "display_data"
    },
    {
     "data": {
      "text/html": [
       "<pre>recommendations finished on 157000/556591 queries. users per second: 24340.2</pre>"
      ],
      "text/plain": [
       "recommendations finished on 157000/556591 queries. users per second: 24340.2"
      ]
     },
     "metadata": {},
     "output_type": "display_data"
    },
    {
     "data": {
      "text/html": [
       "<pre>recommendations finished on 158000/556591 queries. users per second: 24337.7</pre>"
      ],
      "text/plain": [
       "recommendations finished on 158000/556591 queries. users per second: 24337.7"
      ]
     },
     "metadata": {},
     "output_type": "display_data"
    },
    {
     "data": {
      "text/html": [
       "<pre>recommendations finished on 159000/556591 queries. users per second: 24341</pre>"
      ],
      "text/plain": [
       "recommendations finished on 159000/556591 queries. users per second: 24341"
      ]
     },
     "metadata": {},
     "output_type": "display_data"
    },
    {
     "data": {
      "text/html": [
       "<pre>recommendations finished on 160000/556591 queries. users per second: 24330.9</pre>"
      ],
      "text/plain": [
       "recommendations finished on 160000/556591 queries. users per second: 24330.9"
      ]
     },
     "metadata": {},
     "output_type": "display_data"
    },
    {
     "data": {
      "text/html": [
       "<pre>recommendations finished on 161000/556591 queries. users per second: 24327.2</pre>"
      ],
      "text/plain": [
       "recommendations finished on 161000/556591 queries. users per second: 24327.2"
      ]
     },
     "metadata": {},
     "output_type": "display_data"
    },
    {
     "data": {
      "text/html": [
       "<pre>recommendations finished on 162000/556591 queries. users per second: 24316.9</pre>"
      ],
      "text/plain": [
       "recommendations finished on 162000/556591 queries. users per second: 24316.9"
      ]
     },
     "metadata": {},
     "output_type": "display_data"
    },
    {
     "data": {
      "text/html": [
       "<pre>recommendations finished on 163000/556591 queries. users per second: 24319.8</pre>"
      ],
      "text/plain": [
       "recommendations finished on 163000/556591 queries. users per second: 24319.8"
      ]
     },
     "metadata": {},
     "output_type": "display_data"
    },
    {
     "data": {
      "text/html": [
       "<pre>recommendations finished on 164000/556591 queries. users per second: 24310.7</pre>"
      ],
      "text/plain": [
       "recommendations finished on 164000/556591 queries. users per second: 24310.7"
      ]
     },
     "metadata": {},
     "output_type": "display_data"
    },
    {
     "data": {
      "text/html": [
       "<pre>recommendations finished on 165000/556591 queries. users per second: 24313.8</pre>"
      ],
      "text/plain": [
       "recommendations finished on 165000/556591 queries. users per second: 24313.8"
      ]
     },
     "metadata": {},
     "output_type": "display_data"
    },
    {
     "data": {
      "text/html": [
       "<pre>recommendations finished on 166000/556591 queries. users per second: 24304.5</pre>"
      ],
      "text/plain": [
       "recommendations finished on 166000/556591 queries. users per second: 24304.5"
      ]
     },
     "metadata": {},
     "output_type": "display_data"
    },
    {
     "data": {
      "text/html": [
       "<pre>recommendations finished on 167000/556591 queries. users per second: 24267.2</pre>"
      ],
      "text/plain": [
       "recommendations finished on 167000/556591 queries. users per second: 24267.2"
      ]
     },
     "metadata": {},
     "output_type": "display_data"
    },
    {
     "data": {
      "text/html": [
       "<pre>recommendations finished on 168000/556591 queries. users per second: 24258.1</pre>"
      ],
      "text/plain": [
       "recommendations finished on 168000/556591 queries. users per second: 24258.1"
      ]
     },
     "metadata": {},
     "output_type": "display_data"
    },
    {
     "data": {
      "text/html": [
       "<pre>recommendations finished on 169000/556591 queries. users per second: 24253.9</pre>"
      ],
      "text/plain": [
       "recommendations finished on 169000/556591 queries. users per second: 24253.9"
      ]
     },
     "metadata": {},
     "output_type": "display_data"
    },
    {
     "data": {
      "text/html": [
       "<pre>recommendations finished on 170000/556591 queries. users per second: 24243.4</pre>"
      ],
      "text/plain": [
       "recommendations finished on 170000/556591 queries. users per second: 24243.4"
      ]
     },
     "metadata": {},
     "output_type": "display_data"
    },
    {
     "data": {
      "text/html": [
       "<pre>recommendations finished on 171000/556591 queries. users per second: 24232.6</pre>"
      ],
      "text/plain": [
       "recommendations finished on 171000/556591 queries. users per second: 24232.6"
      ]
     },
     "metadata": {},
     "output_type": "display_data"
    },
    {
     "data": {
      "text/html": [
       "<pre>recommendations finished on 172000/556591 queries. users per second: 24230.3</pre>"
      ],
      "text/plain": [
       "recommendations finished on 172000/556591 queries. users per second: 24230.3"
      ]
     },
     "metadata": {},
     "output_type": "display_data"
    },
    {
     "data": {
      "text/html": [
       "<pre>recommendations finished on 173000/556591 queries. users per second: 24225.2</pre>"
      ],
      "text/plain": [
       "recommendations finished on 173000/556591 queries. users per second: 24225.2"
      ]
     },
     "metadata": {},
     "output_type": "display_data"
    },
    {
     "data": {
      "text/html": [
       "<pre>recommendations finished on 174000/556591 queries. users per second: 24223.1</pre>"
      ],
      "text/plain": [
       "recommendations finished on 174000/556591 queries. users per second: 24223.1"
      ]
     },
     "metadata": {},
     "output_type": "display_data"
    },
    {
     "data": {
      "text/html": [
       "<pre>recommendations finished on 175000/556591 queries. users per second: 24214.6</pre>"
      ],
      "text/plain": [
       "recommendations finished on 175000/556591 queries. users per second: 24214.6"
      ]
     },
     "metadata": {},
     "output_type": "display_data"
    },
    {
     "data": {
      "text/html": [
       "<pre>recommendations finished on 176000/556591 queries. users per second: 24219</pre>"
      ],
      "text/plain": [
       "recommendations finished on 176000/556591 queries. users per second: 24219"
      ]
     },
     "metadata": {},
     "output_type": "display_data"
    },
    {
     "data": {
      "text/html": [
       "<pre>recommendations finished on 177000/556591 queries. users per second: 24203.8</pre>"
      ],
      "text/plain": [
       "recommendations finished on 177000/556591 queries. users per second: 24203.8"
      ]
     },
     "metadata": {},
     "output_type": "display_data"
    },
    {
     "data": {
      "text/html": [
       "<pre>recommendations finished on 178000/556591 queries. users per second: 24204.5</pre>"
      ],
      "text/plain": [
       "recommendations finished on 178000/556591 queries. users per second: 24204.5"
      ]
     },
     "metadata": {},
     "output_type": "display_data"
    },
    {
     "data": {
      "text/html": [
       "<pre>recommendations finished on 179000/556591 queries. users per second: 24197.3</pre>"
      ],
      "text/plain": [
       "recommendations finished on 179000/556591 queries. users per second: 24197.3"
      ]
     },
     "metadata": {},
     "output_type": "display_data"
    },
    {
     "data": {
      "text/html": [
       "<pre>recommendations finished on 180000/556591 queries. users per second: 24192</pre>"
      ],
      "text/plain": [
       "recommendations finished on 180000/556591 queries. users per second: 24192"
      ]
     },
     "metadata": {},
     "output_type": "display_data"
    },
    {
     "data": {
      "text/html": [
       "<pre>recommendations finished on 181000/556591 queries. users per second: 24189.8</pre>"
      ],
      "text/plain": [
       "recommendations finished on 181000/556591 queries. users per second: 24189.8"
      ]
     },
     "metadata": {},
     "output_type": "display_data"
    },
    {
     "data": {
      "text/html": [
       "<pre>recommendations finished on 182000/556591 queries. users per second: 24182.1</pre>"
      ],
      "text/plain": [
       "recommendations finished on 182000/556591 queries. users per second: 24182.1"
      ]
     },
     "metadata": {},
     "output_type": "display_data"
    },
    {
     "data": {
      "text/html": [
       "<pre>recommendations finished on 183000/556591 queries. users per second: 24181.7</pre>"
      ],
      "text/plain": [
       "recommendations finished on 183000/556591 queries. users per second: 24181.7"
      ]
     },
     "metadata": {},
     "output_type": "display_data"
    },
    {
     "data": {
      "text/html": [
       "<pre>recommendations finished on 184000/556591 queries. users per second: 24174.9</pre>"
      ],
      "text/plain": [
       "recommendations finished on 184000/556591 queries. users per second: 24174.9"
      ]
     },
     "metadata": {},
     "output_type": "display_data"
    },
    {
     "data": {
      "text/html": [
       "<pre>recommendations finished on 185000/556591 queries. users per second: 24179.4</pre>"
      ],
      "text/plain": [
       "recommendations finished on 185000/556591 queries. users per second: 24179.4"
      ]
     },
     "metadata": {},
     "output_type": "display_data"
    },
    {
     "data": {
      "text/html": [
       "<pre>recommendations finished on 186000/556591 queries. users per second: 24179.2</pre>"
      ],
      "text/plain": [
       "recommendations finished on 186000/556591 queries. users per second: 24179.2"
      ]
     },
     "metadata": {},
     "output_type": "display_data"
    },
    {
     "data": {
      "text/html": [
       "<pre>recommendations finished on 187000/556591 queries. users per second: 24185.8</pre>"
      ],
      "text/plain": [
       "recommendations finished on 187000/556591 queries. users per second: 24185.8"
      ]
     },
     "metadata": {},
     "output_type": "display_data"
    },
    {
     "data": {
      "text/html": [
       "<pre>recommendations finished on 188000/556591 queries. users per second: 24196.3</pre>"
      ],
      "text/plain": [
       "recommendations finished on 188000/556591 queries. users per second: 24196.3"
      ]
     },
     "metadata": {},
     "output_type": "display_data"
    },
    {
     "data": {
      "text/html": [
       "<pre>recommendations finished on 189000/556591 queries. users per second: 24206</pre>"
      ],
      "text/plain": [
       "recommendations finished on 189000/556591 queries. users per second: 24206"
      ]
     },
     "metadata": {},
     "output_type": "display_data"
    },
    {
     "data": {
      "text/html": [
       "<pre>recommendations finished on 190000/556591 queries. users per second: 24215.3</pre>"
      ],
      "text/plain": [
       "recommendations finished on 190000/556591 queries. users per second: 24215.3"
      ]
     },
     "metadata": {},
     "output_type": "display_data"
    },
    {
     "data": {
      "text/html": [
       "<pre>recommendations finished on 191000/556591 queries. users per second: 24209.8</pre>"
      ],
      "text/plain": [
       "recommendations finished on 191000/556591 queries. users per second: 24209.8"
      ]
     },
     "metadata": {},
     "output_type": "display_data"
    },
    {
     "data": {
      "text/html": [
       "<pre>recommendations finished on 192000/556591 queries. users per second: 24202.4</pre>"
      ],
      "text/plain": [
       "recommendations finished on 192000/556591 queries. users per second: 24202.4"
      ]
     },
     "metadata": {},
     "output_type": "display_data"
    },
    {
     "data": {
      "text/html": [
       "<pre>recommendations finished on 193000/556591 queries. users per second: 24189.4</pre>"
      ],
      "text/plain": [
       "recommendations finished on 193000/556591 queries. users per second: 24189.4"
      ]
     },
     "metadata": {},
     "output_type": "display_data"
    },
    {
     "data": {
      "text/html": [
       "<pre>recommendations finished on 194000/556591 queries. users per second: 24182.9</pre>"
      ],
      "text/plain": [
       "recommendations finished on 194000/556591 queries. users per second: 24182.9"
      ]
     },
     "metadata": {},
     "output_type": "display_data"
    },
    {
     "data": {
      "text/html": [
       "<pre>recommendations finished on 195000/556591 queries. users per second: 24185.7</pre>"
      ],
      "text/plain": [
       "recommendations finished on 195000/556591 queries. users per second: 24185.7"
      ]
     },
     "metadata": {},
     "output_type": "display_data"
    },
    {
     "data": {
      "text/html": [
       "<pre>recommendations finished on 196000/556591 queries. users per second: 24192.3</pre>"
      ],
      "text/plain": [
       "recommendations finished on 196000/556591 queries. users per second: 24192.3"
      ]
     },
     "metadata": {},
     "output_type": "display_data"
    },
    {
     "data": {
      "text/html": [
       "<pre>recommendations finished on 197000/556591 queries. users per second: 24194</pre>"
      ],
      "text/plain": [
       "recommendations finished on 197000/556591 queries. users per second: 24194"
      ]
     },
     "metadata": {},
     "output_type": "display_data"
    },
    {
     "data": {
      "text/html": [
       "<pre>recommendations finished on 198000/556591 queries. users per second: 24196.7</pre>"
      ],
      "text/plain": [
       "recommendations finished on 198000/556591 queries. users per second: 24196.7"
      ]
     },
     "metadata": {},
     "output_type": "display_data"
    },
    {
     "data": {
      "text/html": [
       "<pre>recommendations finished on 199000/556591 queries. users per second: 24192.1</pre>"
      ],
      "text/plain": [
       "recommendations finished on 199000/556591 queries. users per second: 24192.1"
      ]
     },
     "metadata": {},
     "output_type": "display_data"
    },
    {
     "data": {
      "text/html": [
       "<pre>recommendations finished on 200000/556591 queries. users per second: 24191.7</pre>"
      ],
      "text/plain": [
       "recommendations finished on 200000/556591 queries. users per second: 24191.7"
      ]
     },
     "metadata": {},
     "output_type": "display_data"
    },
    {
     "data": {
      "text/html": [
       "<pre>recommendations finished on 201000/556591 queries. users per second: 24184.8</pre>"
      ],
      "text/plain": [
       "recommendations finished on 201000/556591 queries. users per second: 24184.8"
      ]
     },
     "metadata": {},
     "output_type": "display_data"
    },
    {
     "data": {
      "text/html": [
       "<pre>recommendations finished on 202000/556591 queries. users per second: 24185.3</pre>"
      ],
      "text/plain": [
       "recommendations finished on 202000/556591 queries. users per second: 24185.3"
      ]
     },
     "metadata": {},
     "output_type": "display_data"
    },
    {
     "data": {
      "text/html": [
       "<pre>recommendations finished on 203000/556591 queries. users per second: 24180</pre>"
      ],
      "text/plain": [
       "recommendations finished on 203000/556591 queries. users per second: 24180"
      ]
     },
     "metadata": {},
     "output_type": "display_data"
    },
    {
     "data": {
      "text/html": [
       "<pre>recommendations finished on 204000/556591 queries. users per second: 24179.3</pre>"
      ],
      "text/plain": [
       "recommendations finished on 204000/556591 queries. users per second: 24179.3"
      ]
     },
     "metadata": {},
     "output_type": "display_data"
    },
    {
     "data": {
      "text/html": [
       "<pre>recommendations finished on 205000/556591 queries. users per second: 24179</pre>"
      ],
      "text/plain": [
       "recommendations finished on 205000/556591 queries. users per second: 24179"
      ]
     },
     "metadata": {},
     "output_type": "display_data"
    },
    {
     "data": {
      "text/html": [
       "<pre>recommendations finished on 206000/556591 queries. users per second: 24178</pre>"
      ],
      "text/plain": [
       "recommendations finished on 206000/556591 queries. users per second: 24178"
      ]
     },
     "metadata": {},
     "output_type": "display_data"
    },
    {
     "data": {
      "text/html": [
       "<pre>recommendations finished on 207000/556591 queries. users per second: 24173.4</pre>"
      ],
      "text/plain": [
       "recommendations finished on 207000/556591 queries. users per second: 24173.4"
      ]
     },
     "metadata": {},
     "output_type": "display_data"
    },
    {
     "data": {
      "text/html": [
       "<pre>recommendations finished on 208000/556591 queries. users per second: 24165.5</pre>"
      ],
      "text/plain": [
       "recommendations finished on 208000/556591 queries. users per second: 24165.5"
      ]
     },
     "metadata": {},
     "output_type": "display_data"
    },
    {
     "data": {
      "text/html": [
       "<pre>recommendations finished on 209000/556591 queries. users per second: 24131.4</pre>"
      ],
      "text/plain": [
       "recommendations finished on 209000/556591 queries. users per second: 24131.4"
      ]
     },
     "metadata": {},
     "output_type": "display_data"
    },
    {
     "data": {
      "text/html": [
       "<pre>recommendations finished on 210000/556591 queries. users per second: 24118.8</pre>"
      ],
      "text/plain": [
       "recommendations finished on 210000/556591 queries. users per second: 24118.8"
      ]
     },
     "metadata": {},
     "output_type": "display_data"
    },
    {
     "data": {
      "text/html": [
       "<pre>recommendations finished on 211000/556591 queries. users per second: 24119.5</pre>"
      ],
      "text/plain": [
       "recommendations finished on 211000/556591 queries. users per second: 24119.5"
      ]
     },
     "metadata": {},
     "output_type": "display_data"
    },
    {
     "data": {
      "text/html": [
       "<pre>recommendations finished on 212000/556591 queries. users per second: 24114.4</pre>"
      ],
      "text/plain": [
       "recommendations finished on 212000/556591 queries. users per second: 24114.4"
      ]
     },
     "metadata": {},
     "output_type": "display_data"
    },
    {
     "data": {
      "text/html": [
       "<pre>recommendations finished on 213000/556591 queries. users per second: 24103.6</pre>"
      ],
      "text/plain": [
       "recommendations finished on 213000/556591 queries. users per second: 24103.6"
      ]
     },
     "metadata": {},
     "output_type": "display_data"
    },
    {
     "data": {
      "text/html": [
       "<pre>recommendations finished on 214000/556591 queries. users per second: 24093.9</pre>"
      ],
      "text/plain": [
       "recommendations finished on 214000/556591 queries. users per second: 24093.9"
      ]
     },
     "metadata": {},
     "output_type": "display_data"
    },
    {
     "data": {
      "text/html": [
       "<pre>recommendations finished on 215000/556591 queries. users per second: 24098.3</pre>"
      ],
      "text/plain": [
       "recommendations finished on 215000/556591 queries. users per second: 24098.3"
      ]
     },
     "metadata": {},
     "output_type": "display_data"
    },
    {
     "data": {
      "text/html": [
       "<pre>recommendations finished on 216000/556591 queries. users per second: 24090</pre>"
      ],
      "text/plain": [
       "recommendations finished on 216000/556591 queries. users per second: 24090"
      ]
     },
     "metadata": {},
     "output_type": "display_data"
    },
    {
     "data": {
      "text/html": [
       "<pre>recommendations finished on 217000/556591 queries. users per second: 24077.9</pre>"
      ],
      "text/plain": [
       "recommendations finished on 217000/556591 queries. users per second: 24077.9"
      ]
     },
     "metadata": {},
     "output_type": "display_data"
    },
    {
     "data": {
      "text/html": [
       "<pre>recommendations finished on 218000/556591 queries. users per second: 24068.7</pre>"
      ],
      "text/plain": [
       "recommendations finished on 218000/556591 queries. users per second: 24068.7"
      ]
     },
     "metadata": {},
     "output_type": "display_data"
    },
    {
     "data": {
      "text/html": [
       "<pre>recommendations finished on 219000/556591 queries. users per second: 24072.2</pre>"
      ],
      "text/plain": [
       "recommendations finished on 219000/556591 queries. users per second: 24072.2"
      ]
     },
     "metadata": {},
     "output_type": "display_data"
    },
    {
     "data": {
      "text/html": [
       "<pre>recommendations finished on 220000/556591 queries. users per second: 24070.3</pre>"
      ],
      "text/plain": [
       "recommendations finished on 220000/556591 queries. users per second: 24070.3"
      ]
     },
     "metadata": {},
     "output_type": "display_data"
    },
    {
     "data": {
      "text/html": [
       "<pre>recommendations finished on 221000/556591 queries. users per second: 24072.9</pre>"
      ],
      "text/plain": [
       "recommendations finished on 221000/556591 queries. users per second: 24072.9"
      ]
     },
     "metadata": {},
     "output_type": "display_data"
    },
    {
     "data": {
      "text/html": [
       "<pre>recommendations finished on 222000/556591 queries. users per second: 24084.4</pre>"
      ],
      "text/plain": [
       "recommendations finished on 222000/556591 queries. users per second: 24084.4"
      ]
     },
     "metadata": {},
     "output_type": "display_data"
    },
    {
     "data": {
      "text/html": [
       "<pre>recommendations finished on 223000/556591 queries. users per second: 24086.3</pre>"
      ],
      "text/plain": [
       "recommendations finished on 223000/556591 queries. users per second: 24086.3"
      ]
     },
     "metadata": {},
     "output_type": "display_data"
    },
    {
     "data": {
      "text/html": [
       "<pre>recommendations finished on 224000/556591 queries. users per second: 24090.7</pre>"
      ],
      "text/plain": [
       "recommendations finished on 224000/556591 queries. users per second: 24090.7"
      ]
     },
     "metadata": {},
     "output_type": "display_data"
    },
    {
     "data": {
      "text/html": [
       "<pre>recommendations finished on 225000/556591 queries. users per second: 24089.2</pre>"
      ],
      "text/plain": [
       "recommendations finished on 225000/556591 queries. users per second: 24089.2"
      ]
     },
     "metadata": {},
     "output_type": "display_data"
    },
    {
     "data": {
      "text/html": [
       "<pre>recommendations finished on 226000/556591 queries. users per second: 24089</pre>"
      ],
      "text/plain": [
       "recommendations finished on 226000/556591 queries. users per second: 24089"
      ]
     },
     "metadata": {},
     "output_type": "display_data"
    },
    {
     "data": {
      "text/html": [
       "<pre>recommendations finished on 227000/556591 queries. users per second: 24085.1</pre>"
      ],
      "text/plain": [
       "recommendations finished on 227000/556591 queries. users per second: 24085.1"
      ]
     },
     "metadata": {},
     "output_type": "display_data"
    },
    {
     "data": {
      "text/html": [
       "<pre>recommendations finished on 228000/556591 queries. users per second: 24082.2</pre>"
      ],
      "text/plain": [
       "recommendations finished on 228000/556591 queries. users per second: 24082.2"
      ]
     },
     "metadata": {},
     "output_type": "display_data"
    },
    {
     "data": {
      "text/html": [
       "<pre>recommendations finished on 229000/556591 queries. users per second: 24075.5</pre>"
      ],
      "text/plain": [
       "recommendations finished on 229000/556591 queries. users per second: 24075.5"
      ]
     },
     "metadata": {},
     "output_type": "display_data"
    },
    {
     "data": {
      "text/html": [
       "<pre>recommendations finished on 230000/556591 queries. users per second: 24077.2</pre>"
      ],
      "text/plain": [
       "recommendations finished on 230000/556591 queries. users per second: 24077.2"
      ]
     },
     "metadata": {},
     "output_type": "display_data"
    },
    {
     "data": {
      "text/html": [
       "<pre>recommendations finished on 231000/556591 queries. users per second: 24076.8</pre>"
      ],
      "text/plain": [
       "recommendations finished on 231000/556591 queries. users per second: 24076.8"
      ]
     },
     "metadata": {},
     "output_type": "display_data"
    },
    {
     "data": {
      "text/html": [
       "<pre>recommendations finished on 232000/556591 queries. users per second: 24083.2</pre>"
      ],
      "text/plain": [
       "recommendations finished on 232000/556591 queries. users per second: 24083.2"
      ]
     },
     "metadata": {},
     "output_type": "display_data"
    },
    {
     "data": {
      "text/html": [
       "<pre>recommendations finished on 233000/556591 queries. users per second: 24075.6</pre>"
      ],
      "text/plain": [
       "recommendations finished on 233000/556591 queries. users per second: 24075.6"
      ]
     },
     "metadata": {},
     "output_type": "display_data"
    },
    {
     "data": {
      "text/html": [
       "<pre>recommendations finished on 234000/556591 queries. users per second: 24075.2</pre>"
      ],
      "text/plain": [
       "recommendations finished on 234000/556591 queries. users per second: 24075.2"
      ]
     },
     "metadata": {},
     "output_type": "display_data"
    },
    {
     "data": {
      "text/html": [
       "<pre>recommendations finished on 235000/556591 queries. users per second: 24070.2</pre>"
      ],
      "text/plain": [
       "recommendations finished on 235000/556591 queries. users per second: 24070.2"
      ]
     },
     "metadata": {},
     "output_type": "display_data"
    },
    {
     "data": {
      "text/html": [
       "<pre>recommendations finished on 236000/556591 queries. users per second: 24068.1</pre>"
      ],
      "text/plain": [
       "recommendations finished on 236000/556591 queries. users per second: 24068.1"
      ]
     },
     "metadata": {},
     "output_type": "display_data"
    },
    {
     "data": {
      "text/html": [
       "<pre>recommendations finished on 237000/556591 queries. users per second: 24069.7</pre>"
      ],
      "text/plain": [
       "recommendations finished on 237000/556591 queries. users per second: 24069.7"
      ]
     },
     "metadata": {},
     "output_type": "display_data"
    },
    {
     "data": {
      "text/html": [
       "<pre>recommendations finished on 238000/556591 queries. users per second: 24073.9</pre>"
      ],
      "text/plain": [
       "recommendations finished on 238000/556591 queries. users per second: 24073.9"
      ]
     },
     "metadata": {},
     "output_type": "display_data"
    },
    {
     "data": {
      "text/html": [
       "<pre>recommendations finished on 239000/556591 queries. users per second: 24061.8</pre>"
      ],
      "text/plain": [
       "recommendations finished on 239000/556591 queries. users per second: 24061.8"
      ]
     },
     "metadata": {},
     "output_type": "display_data"
    },
    {
     "data": {
      "text/html": [
       "<pre>recommendations finished on 240000/556591 queries. users per second: 24050.9</pre>"
      ],
      "text/plain": [
       "recommendations finished on 240000/556591 queries. users per second: 24050.9"
      ]
     },
     "metadata": {},
     "output_type": "display_data"
    },
    {
     "data": {
      "text/html": [
       "<pre>recommendations finished on 241000/556591 queries. users per second: 24044.8</pre>"
      ],
      "text/plain": [
       "recommendations finished on 241000/556591 queries. users per second: 24044.8"
      ]
     },
     "metadata": {},
     "output_type": "display_data"
    },
    {
     "data": {
      "text/html": [
       "<pre>recommendations finished on 242000/556591 queries. users per second: 24047.9</pre>"
      ],
      "text/plain": [
       "recommendations finished on 242000/556591 queries. users per second: 24047.9"
      ]
     },
     "metadata": {},
     "output_type": "display_data"
    },
    {
     "data": {
      "text/html": [
       "<pre>recommendations finished on 243000/556591 queries. users per second: 24050.2</pre>"
      ],
      "text/plain": [
       "recommendations finished on 243000/556591 queries. users per second: 24050.2"
      ]
     },
     "metadata": {},
     "output_type": "display_data"
    },
    {
     "data": {
      "text/html": [
       "<pre>recommendations finished on 244000/556591 queries. users per second: 24046.9</pre>"
      ],
      "text/plain": [
       "recommendations finished on 244000/556591 queries. users per second: 24046.9"
      ]
     },
     "metadata": {},
     "output_type": "display_data"
    },
    {
     "data": {
      "text/html": [
       "<pre>recommendations finished on 245000/556591 queries. users per second: 24036.1</pre>"
      ],
      "text/plain": [
       "recommendations finished on 245000/556591 queries. users per second: 24036.1"
      ]
     },
     "metadata": {},
     "output_type": "display_data"
    },
    {
     "data": {
      "text/html": [
       "<pre>recommendations finished on 246000/556591 queries. users per second: 24028.7</pre>"
      ],
      "text/plain": [
       "recommendations finished on 246000/556591 queries. users per second: 24028.7"
      ]
     },
     "metadata": {},
     "output_type": "display_data"
    },
    {
     "data": {
      "text/html": [
       "<pre>recommendations finished on 247000/556591 queries. users per second: 24021.3</pre>"
      ],
      "text/plain": [
       "recommendations finished on 247000/556591 queries. users per second: 24021.3"
      ]
     },
     "metadata": {},
     "output_type": "display_data"
    },
    {
     "data": {
      "text/html": [
       "<pre>recommendations finished on 248000/556591 queries. users per second: 24013</pre>"
      ],
      "text/plain": [
       "recommendations finished on 248000/556591 queries. users per second: 24013"
      ]
     },
     "metadata": {},
     "output_type": "display_data"
    },
    {
     "data": {
      "text/html": [
       "<pre>recommendations finished on 249000/556591 queries. users per second: 24012.2</pre>"
      ],
      "text/plain": [
       "recommendations finished on 249000/556591 queries. users per second: 24012.2"
      ]
     },
     "metadata": {},
     "output_type": "display_data"
    },
    {
     "data": {
      "text/html": [
       "<pre>recommendations finished on 250000/556591 queries. users per second: 24003.3</pre>"
      ],
      "text/plain": [
       "recommendations finished on 250000/556591 queries. users per second: 24003.3"
      ]
     },
     "metadata": {},
     "output_type": "display_data"
    },
    {
     "data": {
      "text/html": [
       "<pre>recommendations finished on 251000/556591 queries. users per second: 23994.6</pre>"
      ],
      "text/plain": [
       "recommendations finished on 251000/556591 queries. users per second: 23994.6"
      ]
     },
     "metadata": {},
     "output_type": "display_data"
    },
    {
     "data": {
      "text/html": [
       "<pre>recommendations finished on 252000/556591 queries. users per second: 23999</pre>"
      ],
      "text/plain": [
       "recommendations finished on 252000/556591 queries. users per second: 23999"
      ]
     },
     "metadata": {},
     "output_type": "display_data"
    },
    {
     "data": {
      "text/html": [
       "<pre>recommendations finished on 253000/556591 queries. users per second: 23995.6</pre>"
      ],
      "text/plain": [
       "recommendations finished on 253000/556591 queries. users per second: 23995.6"
      ]
     },
     "metadata": {},
     "output_type": "display_data"
    },
    {
     "data": {
      "text/html": [
       "<pre>recommendations finished on 254000/556591 queries. users per second: 23997.1</pre>"
      ],
      "text/plain": [
       "recommendations finished on 254000/556591 queries. users per second: 23997.1"
      ]
     },
     "metadata": {},
     "output_type": "display_data"
    },
    {
     "data": {
      "text/html": [
       "<pre>recommendations finished on 255000/556591 queries. users per second: 23996.5</pre>"
      ],
      "text/plain": [
       "recommendations finished on 255000/556591 queries. users per second: 23996.5"
      ]
     },
     "metadata": {},
     "output_type": "display_data"
    },
    {
     "data": {
      "text/html": [
       "<pre>recommendations finished on 256000/556591 queries. users per second: 23997.3</pre>"
      ],
      "text/plain": [
       "recommendations finished on 256000/556591 queries. users per second: 23997.3"
      ]
     },
     "metadata": {},
     "output_type": "display_data"
    },
    {
     "data": {
      "text/html": [
       "<pre>recommendations finished on 257000/556591 queries. users per second: 23980.7</pre>"
      ],
      "text/plain": [
       "recommendations finished on 257000/556591 queries. users per second: 23980.7"
      ]
     },
     "metadata": {},
     "output_type": "display_data"
    },
    {
     "data": {
      "text/html": [
       "<pre>recommendations finished on 258000/556591 queries. users per second: 23963</pre>"
      ],
      "text/plain": [
       "recommendations finished on 258000/556591 queries. users per second: 23963"
      ]
     },
     "metadata": {},
     "output_type": "display_data"
    },
    {
     "data": {
      "text/html": [
       "<pre>recommendations finished on 259000/556591 queries. users per second: 23947.1</pre>"
      ],
      "text/plain": [
       "recommendations finished on 259000/556591 queries. users per second: 23947.1"
      ]
     },
     "metadata": {},
     "output_type": "display_data"
    },
    {
     "data": {
      "text/html": [
       "<pre>recommendations finished on 260000/556591 queries. users per second: 23935.6</pre>"
      ],
      "text/plain": [
       "recommendations finished on 260000/556591 queries. users per second: 23935.6"
      ]
     },
     "metadata": {},
     "output_type": "display_data"
    },
    {
     "data": {
      "text/html": [
       "<pre>recommendations finished on 261000/556591 queries. users per second: 23923.9</pre>"
      ],
      "text/plain": [
       "recommendations finished on 261000/556591 queries. users per second: 23923.9"
      ]
     },
     "metadata": {},
     "output_type": "display_data"
    },
    {
     "data": {
      "text/html": [
       "<pre>recommendations finished on 262000/556591 queries. users per second: 23896.2</pre>"
      ],
      "text/plain": [
       "recommendations finished on 262000/556591 queries. users per second: 23896.2"
      ]
     },
     "metadata": {},
     "output_type": "display_data"
    },
    {
     "data": {
      "text/html": [
       "<pre>recommendations finished on 263000/556591 queries. users per second: 23871.6</pre>"
      ],
      "text/plain": [
       "recommendations finished on 263000/556591 queries. users per second: 23871.6"
      ]
     },
     "metadata": {},
     "output_type": "display_data"
    },
    {
     "data": {
      "text/html": [
       "<pre>recommendations finished on 264000/556591 queries. users per second: 23846.5</pre>"
      ],
      "text/plain": [
       "recommendations finished on 264000/556591 queries. users per second: 23846.5"
      ]
     },
     "metadata": {},
     "output_type": "display_data"
    },
    {
     "data": {
      "text/html": [
       "<pre>recommendations finished on 265000/556591 queries. users per second: 23831.8</pre>"
      ],
      "text/plain": [
       "recommendations finished on 265000/556591 queries. users per second: 23831.8"
      ]
     },
     "metadata": {},
     "output_type": "display_data"
    },
    {
     "data": {
      "text/html": [
       "<pre>recommendations finished on 266000/556591 queries. users per second: 23815.7</pre>"
      ],
      "text/plain": [
       "recommendations finished on 266000/556591 queries. users per second: 23815.7"
      ]
     },
     "metadata": {},
     "output_type": "display_data"
    },
    {
     "data": {
      "text/html": [
       "<pre>recommendations finished on 267000/556591 queries. users per second: 23801.4</pre>"
      ],
      "text/plain": [
       "recommendations finished on 267000/556591 queries. users per second: 23801.4"
      ]
     },
     "metadata": {},
     "output_type": "display_data"
    },
    {
     "data": {
      "text/html": [
       "<pre>recommendations finished on 268000/556591 queries. users per second: 23788.6</pre>"
      ],
      "text/plain": [
       "recommendations finished on 268000/556591 queries. users per second: 23788.6"
      ]
     },
     "metadata": {},
     "output_type": "display_data"
    },
    {
     "data": {
      "text/html": [
       "<pre>recommendations finished on 269000/556591 queries. users per second: 23776.3</pre>"
      ],
      "text/plain": [
       "recommendations finished on 269000/556591 queries. users per second: 23776.3"
      ]
     },
     "metadata": {},
     "output_type": "display_data"
    },
    {
     "data": {
      "text/html": [
       "<pre>recommendations finished on 270000/556591 queries. users per second: 23723.8</pre>"
      ],
      "text/plain": [
       "recommendations finished on 270000/556591 queries. users per second: 23723.8"
      ]
     },
     "metadata": {},
     "output_type": "display_data"
    },
    {
     "data": {
      "text/html": [
       "<pre>recommendations finished on 271000/556591 queries. users per second: 23683.9</pre>"
      ],
      "text/plain": [
       "recommendations finished on 271000/556591 queries. users per second: 23683.9"
      ]
     },
     "metadata": {},
     "output_type": "display_data"
    },
    {
     "data": {
      "text/html": [
       "<pre>recommendations finished on 272000/556591 queries. users per second: 23625.5</pre>"
      ],
      "text/plain": [
       "recommendations finished on 272000/556591 queries. users per second: 23625.5"
      ]
     },
     "metadata": {},
     "output_type": "display_data"
    },
    {
     "data": {
      "text/html": [
       "<pre>recommendations finished on 273000/556591 queries. users per second: 23569.6</pre>"
      ],
      "text/plain": [
       "recommendations finished on 273000/556591 queries. users per second: 23569.6"
      ]
     },
     "metadata": {},
     "output_type": "display_data"
    },
    {
     "data": {
      "text/html": [
       "<pre>recommendations finished on 274000/556591 queries. users per second: 23556.1</pre>"
      ],
      "text/plain": [
       "recommendations finished on 274000/556591 queries. users per second: 23556.1"
      ]
     },
     "metadata": {},
     "output_type": "display_data"
    },
    {
     "data": {
      "text/html": [
       "<pre>recommendations finished on 275000/556591 queries. users per second: 23553</pre>"
      ],
      "text/plain": [
       "recommendations finished on 275000/556591 queries. users per second: 23553"
      ]
     },
     "metadata": {},
     "output_type": "display_data"
    },
    {
     "data": {
      "text/html": [
       "<pre>recommendations finished on 276000/556591 queries. users per second: 23550.9</pre>"
      ],
      "text/plain": [
       "recommendations finished on 276000/556591 queries. users per second: 23550.9"
      ]
     },
     "metadata": {},
     "output_type": "display_data"
    },
    {
     "data": {
      "text/html": [
       "<pre>recommendations finished on 277000/556591 queries. users per second: 23549.6</pre>"
      ],
      "text/plain": [
       "recommendations finished on 277000/556591 queries. users per second: 23549.6"
      ]
     },
     "metadata": {},
     "output_type": "display_data"
    },
    {
     "data": {
      "text/html": [
       "<pre>recommendations finished on 278000/556591 queries. users per second: 23550.4</pre>"
      ],
      "text/plain": [
       "recommendations finished on 278000/556591 queries. users per second: 23550.4"
      ]
     },
     "metadata": {},
     "output_type": "display_data"
    },
    {
     "data": {
      "text/html": [
       "<pre>recommendations finished on 279000/556591 queries. users per second: 23551.4</pre>"
      ],
      "text/plain": [
       "recommendations finished on 279000/556591 queries. users per second: 23551.4"
      ]
     },
     "metadata": {},
     "output_type": "display_data"
    },
    {
     "data": {
      "text/html": [
       "<pre>recommendations finished on 280000/556591 queries. users per second: 23552.2</pre>"
      ],
      "text/plain": [
       "recommendations finished on 280000/556591 queries. users per second: 23552.2"
      ]
     },
     "metadata": {},
     "output_type": "display_data"
    },
    {
     "data": {
      "text/html": [
       "<pre>recommendations finished on 281000/556591 queries. users per second: 23552.6</pre>"
      ],
      "text/plain": [
       "recommendations finished on 281000/556591 queries. users per second: 23552.6"
      ]
     },
     "metadata": {},
     "output_type": "display_data"
    },
    {
     "data": {
      "text/html": [
       "<pre>recommendations finished on 282000/556591 queries. users per second: 23535.7</pre>"
      ],
      "text/plain": [
       "recommendations finished on 282000/556591 queries. users per second: 23535.7"
      ]
     },
     "metadata": {},
     "output_type": "display_data"
    },
    {
     "data": {
      "text/html": [
       "<pre>recommendations finished on 283000/556591 queries. users per second: 23533.9</pre>"
      ],
      "text/plain": [
       "recommendations finished on 283000/556591 queries. users per second: 23533.9"
      ]
     },
     "metadata": {},
     "output_type": "display_data"
    },
    {
     "data": {
      "text/html": [
       "<pre>recommendations finished on 284000/556591 queries. users per second: 23532</pre>"
      ],
      "text/plain": [
       "recommendations finished on 284000/556591 queries. users per second: 23532"
      ]
     },
     "metadata": {},
     "output_type": "display_data"
    },
    {
     "data": {
      "text/html": [
       "<pre>recommendations finished on 285000/556591 queries. users per second: 23519.9</pre>"
      ],
      "text/plain": [
       "recommendations finished on 285000/556591 queries. users per second: 23519.9"
      ]
     },
     "metadata": {},
     "output_type": "display_data"
    },
    {
     "data": {
      "text/html": [
       "<pre>recommendations finished on 286000/556591 queries. users per second: 23508.8</pre>"
      ],
      "text/plain": [
       "recommendations finished on 286000/556591 queries. users per second: 23508.8"
      ]
     },
     "metadata": {},
     "output_type": "display_data"
    },
    {
     "data": {
      "text/html": [
       "<pre>recommendations finished on 287000/556591 queries. users per second: 23502.9</pre>"
      ],
      "text/plain": [
       "recommendations finished on 287000/556591 queries. users per second: 23502.9"
      ]
     },
     "metadata": {},
     "output_type": "display_data"
    },
    {
     "data": {
      "text/html": [
       "<pre>recommendations finished on 288000/556591 queries. users per second: 23502.1</pre>"
      ],
      "text/plain": [
       "recommendations finished on 288000/556591 queries. users per second: 23502.1"
      ]
     },
     "metadata": {},
     "output_type": "display_data"
    },
    {
     "data": {
      "text/html": [
       "<pre>recommendations finished on 289000/556591 queries. users per second: 23499.7</pre>"
      ],
      "text/plain": [
       "recommendations finished on 289000/556591 queries. users per second: 23499.7"
      ]
     },
     "metadata": {},
     "output_type": "display_data"
    },
    {
     "data": {
      "text/html": [
       "<pre>recommendations finished on 290000/556591 queries. users per second: 23502.9</pre>"
      ],
      "text/plain": [
       "recommendations finished on 290000/556591 queries. users per second: 23502.9"
      ]
     },
     "metadata": {},
     "output_type": "display_data"
    },
    {
     "data": {
      "text/html": [
       "<pre>recommendations finished on 291000/556591 queries. users per second: 23513.7</pre>"
      ],
      "text/plain": [
       "recommendations finished on 291000/556591 queries. users per second: 23513.7"
      ]
     },
     "metadata": {},
     "output_type": "display_data"
    },
    {
     "data": {
      "text/html": [
       "<pre>recommendations finished on 292000/556591 queries. users per second: 23515.7</pre>"
      ],
      "text/plain": [
       "recommendations finished on 292000/556591 queries. users per second: 23515.7"
      ]
     },
     "metadata": {},
     "output_type": "display_data"
    },
    {
     "data": {
      "text/html": [
       "<pre>recommendations finished on 293000/556591 queries. users per second: 23513.2</pre>"
      ],
      "text/plain": [
       "recommendations finished on 293000/556591 queries. users per second: 23513.2"
      ]
     },
     "metadata": {},
     "output_type": "display_data"
    },
    {
     "data": {
      "text/html": [
       "<pre>recommendations finished on 294000/556591 queries. users per second: 23503.6</pre>"
      ],
      "text/plain": [
       "recommendations finished on 294000/556591 queries. users per second: 23503.6"
      ]
     },
     "metadata": {},
     "output_type": "display_data"
    },
    {
     "data": {
      "text/html": [
       "<pre>recommendations finished on 295000/556591 queries. users per second: 23505.8</pre>"
      ],
      "text/plain": [
       "recommendations finished on 295000/556591 queries. users per second: 23505.8"
      ]
     },
     "metadata": {},
     "output_type": "display_data"
    },
    {
     "data": {
      "text/html": [
       "<pre>recommendations finished on 296000/556591 queries. users per second: 23508.6</pre>"
      ],
      "text/plain": [
       "recommendations finished on 296000/556591 queries. users per second: 23508.6"
      ]
     },
     "metadata": {},
     "output_type": "display_data"
    },
    {
     "data": {
      "text/html": [
       "<pre>recommendations finished on 297000/556591 queries. users per second: 23510.2</pre>"
      ],
      "text/plain": [
       "recommendations finished on 297000/556591 queries. users per second: 23510.2"
      ]
     },
     "metadata": {},
     "output_type": "display_data"
    },
    {
     "data": {
      "text/html": [
       "<pre>recommendations finished on 298000/556591 queries. users per second: 23510</pre>"
      ],
      "text/plain": [
       "recommendations finished on 298000/556591 queries. users per second: 23510"
      ]
     },
     "metadata": {},
     "output_type": "display_data"
    },
    {
     "data": {
      "text/html": [
       "<pre>recommendations finished on 299000/556591 queries. users per second: 23479</pre>"
      ],
      "text/plain": [
       "recommendations finished on 299000/556591 queries. users per second: 23479"
      ]
     },
     "metadata": {},
     "output_type": "display_data"
    },
    {
     "data": {
      "text/html": [
       "<pre>recommendations finished on 300000/556591 queries. users per second: 23478.2</pre>"
      ],
      "text/plain": [
       "recommendations finished on 300000/556591 queries. users per second: 23478.2"
      ]
     },
     "metadata": {},
     "output_type": "display_data"
    },
    {
     "data": {
      "text/html": [
       "<pre>recommendations finished on 301000/556591 queries. users per second: 23474.5</pre>"
      ],
      "text/plain": [
       "recommendations finished on 301000/556591 queries. users per second: 23474.5"
      ]
     },
     "metadata": {},
     "output_type": "display_data"
    },
    {
     "data": {
      "text/html": [
       "<pre>recommendations finished on 302000/556591 queries. users per second: 23471.1</pre>"
      ],
      "text/plain": [
       "recommendations finished on 302000/556591 queries. users per second: 23471.1"
      ]
     },
     "metadata": {},
     "output_type": "display_data"
    },
    {
     "data": {
      "text/html": [
       "<pre>recommendations finished on 303000/556591 queries. users per second: 23466.6</pre>"
      ],
      "text/plain": [
       "recommendations finished on 303000/556591 queries. users per second: 23466.6"
      ]
     },
     "metadata": {},
     "output_type": "display_data"
    },
    {
     "data": {
      "text/html": [
       "<pre>recommendations finished on 304000/556591 queries. users per second: 23459.3</pre>"
      ],
      "text/plain": [
       "recommendations finished on 304000/556591 queries. users per second: 23459.3"
      ]
     },
     "metadata": {},
     "output_type": "display_data"
    },
    {
     "data": {
      "text/html": [
       "<pre>recommendations finished on 305000/556591 queries. users per second: 23455.9</pre>"
      ],
      "text/plain": [
       "recommendations finished on 305000/556591 queries. users per second: 23455.9"
      ]
     },
     "metadata": {},
     "output_type": "display_data"
    },
    {
     "data": {
      "text/html": [
       "<pre>recommendations finished on 306000/556591 queries. users per second: 23443.9</pre>"
      ],
      "text/plain": [
       "recommendations finished on 306000/556591 queries. users per second: 23443.9"
      ]
     },
     "metadata": {},
     "output_type": "display_data"
    },
    {
     "data": {
      "text/html": [
       "<pre>recommendations finished on 307000/556591 queries. users per second: 23439.3</pre>"
      ],
      "text/plain": [
       "recommendations finished on 307000/556591 queries. users per second: 23439.3"
      ]
     },
     "metadata": {},
     "output_type": "display_data"
    },
    {
     "data": {
      "text/html": [
       "<pre>recommendations finished on 308000/556591 queries. users per second: 23433.7</pre>"
      ],
      "text/plain": [
       "recommendations finished on 308000/556591 queries. users per second: 23433.7"
      ]
     },
     "metadata": {},
     "output_type": "display_data"
    },
    {
     "data": {
      "text/html": [
       "<pre>recommendations finished on 309000/556591 queries. users per second: 23433.2</pre>"
      ],
      "text/plain": [
       "recommendations finished on 309000/556591 queries. users per second: 23433.2"
      ]
     },
     "metadata": {},
     "output_type": "display_data"
    },
    {
     "data": {
      "text/html": [
       "<pre>recommendations finished on 310000/556591 queries. users per second: 23426.6</pre>"
      ],
      "text/plain": [
       "recommendations finished on 310000/556591 queries. users per second: 23426.6"
      ]
     },
     "metadata": {},
     "output_type": "display_data"
    },
    {
     "data": {
      "text/html": [
       "<pre>recommendations finished on 311000/556591 queries. users per second: 23423.6</pre>"
      ],
      "text/plain": [
       "recommendations finished on 311000/556591 queries. users per second: 23423.6"
      ]
     },
     "metadata": {},
     "output_type": "display_data"
    },
    {
     "data": {
      "text/html": [
       "<pre>recommendations finished on 312000/556591 queries. users per second: 23421.3</pre>"
      ],
      "text/plain": [
       "recommendations finished on 312000/556591 queries. users per second: 23421.3"
      ]
     },
     "metadata": {},
     "output_type": "display_data"
    },
    {
     "data": {
      "text/html": [
       "<pre>recommendations finished on 313000/556591 queries. users per second: 23413.4</pre>"
      ],
      "text/plain": [
       "recommendations finished on 313000/556591 queries. users per second: 23413.4"
      ]
     },
     "metadata": {},
     "output_type": "display_data"
    },
    {
     "data": {
      "text/html": [
       "<pre>recommendations finished on 314000/556591 queries. users per second: 23404</pre>"
      ],
      "text/plain": [
       "recommendations finished on 314000/556591 queries. users per second: 23404"
      ]
     },
     "metadata": {},
     "output_type": "display_data"
    },
    {
     "data": {
      "text/html": [
       "<pre>recommendations finished on 315000/556591 queries. users per second: 23398.3</pre>"
      ],
      "text/plain": [
       "recommendations finished on 315000/556591 queries. users per second: 23398.3"
      ]
     },
     "metadata": {},
     "output_type": "display_data"
    },
    {
     "data": {
      "text/html": [
       "<pre>recommendations finished on 316000/556591 queries. users per second: 23383.2</pre>"
      ],
      "text/plain": [
       "recommendations finished on 316000/556591 queries. users per second: 23383.2"
      ]
     },
     "metadata": {},
     "output_type": "display_data"
    },
    {
     "data": {
      "text/html": [
       "<pre>recommendations finished on 317000/556591 queries. users per second: 23376.4</pre>"
      ],
      "text/plain": [
       "recommendations finished on 317000/556591 queries. users per second: 23376.4"
      ]
     },
     "metadata": {},
     "output_type": "display_data"
    },
    {
     "data": {
      "text/html": [
       "<pre>recommendations finished on 318000/556591 queries. users per second: 23375.7</pre>"
      ],
      "text/plain": [
       "recommendations finished on 318000/556591 queries. users per second: 23375.7"
      ]
     },
     "metadata": {},
     "output_type": "display_data"
    },
    {
     "data": {
      "text/html": [
       "<pre>recommendations finished on 319000/556591 queries. users per second: 23360.8</pre>"
      ],
      "text/plain": [
       "recommendations finished on 319000/556591 queries. users per second: 23360.8"
      ]
     },
     "metadata": {},
     "output_type": "display_data"
    },
    {
     "data": {
      "text/html": [
       "<pre>recommendations finished on 320000/556591 queries. users per second: 23345</pre>"
      ],
      "text/plain": [
       "recommendations finished on 320000/556591 queries. users per second: 23345"
      ]
     },
     "metadata": {},
     "output_type": "display_data"
    },
    {
     "data": {
      "text/html": [
       "<pre>recommendations finished on 321000/556591 queries. users per second: 23339</pre>"
      ],
      "text/plain": [
       "recommendations finished on 321000/556591 queries. users per second: 23339"
      ]
     },
     "metadata": {},
     "output_type": "display_data"
    },
    {
     "data": {
      "text/html": [
       "<pre>recommendations finished on 322000/556591 queries. users per second: 23332.3</pre>"
      ],
      "text/plain": [
       "recommendations finished on 322000/556591 queries. users per second: 23332.3"
      ]
     },
     "metadata": {},
     "output_type": "display_data"
    },
    {
     "data": {
      "text/html": [
       "<pre>recommendations finished on 323000/556591 queries. users per second: 23308.5</pre>"
      ],
      "text/plain": [
       "recommendations finished on 323000/556591 queries. users per second: 23308.5"
      ]
     },
     "metadata": {},
     "output_type": "display_data"
    },
    {
     "data": {
      "text/html": [
       "<pre>recommendations finished on 324000/556591 queries. users per second: 23294.2</pre>"
      ],
      "text/plain": [
       "recommendations finished on 324000/556591 queries. users per second: 23294.2"
      ]
     },
     "metadata": {},
     "output_type": "display_data"
    },
    {
     "data": {
      "text/html": [
       "<pre>recommendations finished on 325000/556591 queries. users per second: 23277.4</pre>"
      ],
      "text/plain": [
       "recommendations finished on 325000/556591 queries. users per second: 23277.4"
      ]
     },
     "metadata": {},
     "output_type": "display_data"
    },
    {
     "data": {
      "text/html": [
       "<pre>recommendations finished on 326000/556591 queries. users per second: 23268.4</pre>"
      ],
      "text/plain": [
       "recommendations finished on 326000/556591 queries. users per second: 23268.4"
      ]
     },
     "metadata": {},
     "output_type": "display_data"
    },
    {
     "data": {
      "text/html": [
       "<pre>recommendations finished on 327000/556591 queries. users per second: 23264</pre>"
      ],
      "text/plain": [
       "recommendations finished on 327000/556591 queries. users per second: 23264"
      ]
     },
     "metadata": {},
     "output_type": "display_data"
    },
    {
     "data": {
      "text/html": [
       "<pre>recommendations finished on 328000/556591 queries. users per second: 23267.7</pre>"
      ],
      "text/plain": [
       "recommendations finished on 328000/556591 queries. users per second: 23267.7"
      ]
     },
     "metadata": {},
     "output_type": "display_data"
    },
    {
     "data": {
      "text/html": [
       "<pre>recommendations finished on 329000/556591 queries. users per second: 23257.5</pre>"
      ],
      "text/plain": [
       "recommendations finished on 329000/556591 queries. users per second: 23257.5"
      ]
     },
     "metadata": {},
     "output_type": "display_data"
    },
    {
     "data": {
      "text/html": [
       "<pre>recommendations finished on 330000/556591 queries. users per second: 23253.2</pre>"
      ],
      "text/plain": [
       "recommendations finished on 330000/556591 queries. users per second: 23253.2"
      ]
     },
     "metadata": {},
     "output_type": "display_data"
    },
    {
     "data": {
      "text/html": [
       "<pre>recommendations finished on 331000/556591 queries. users per second: 23247.5</pre>"
      ],
      "text/plain": [
       "recommendations finished on 331000/556591 queries. users per second: 23247.5"
      ]
     },
     "metadata": {},
     "output_type": "display_data"
    },
    {
     "data": {
      "text/html": [
       "<pre>recommendations finished on 332000/556591 queries. users per second: 23242.9</pre>"
      ],
      "text/plain": [
       "recommendations finished on 332000/556591 queries. users per second: 23242.9"
      ]
     },
     "metadata": {},
     "output_type": "display_data"
    },
    {
     "data": {
      "text/html": [
       "<pre>recommendations finished on 333000/556591 queries. users per second: 23236.5</pre>"
      ],
      "text/plain": [
       "recommendations finished on 333000/556591 queries. users per second: 23236.5"
      ]
     },
     "metadata": {},
     "output_type": "display_data"
    },
    {
     "data": {
      "text/html": [
       "<pre>recommendations finished on 334000/556591 queries. users per second: 23231.8</pre>"
      ],
      "text/plain": [
       "recommendations finished on 334000/556591 queries. users per second: 23231.8"
      ]
     },
     "metadata": {},
     "output_type": "display_data"
    },
    {
     "data": {
      "text/html": [
       "<pre>recommendations finished on 335000/556591 queries. users per second: 23230.2</pre>"
      ],
      "text/plain": [
       "recommendations finished on 335000/556591 queries. users per second: 23230.2"
      ]
     },
     "metadata": {},
     "output_type": "display_data"
    },
    {
     "data": {
      "text/html": [
       "<pre>recommendations finished on 336000/556591 queries. users per second: 23221.5</pre>"
      ],
      "text/plain": [
       "recommendations finished on 336000/556591 queries. users per second: 23221.5"
      ]
     },
     "metadata": {},
     "output_type": "display_data"
    },
    {
     "data": {
      "text/html": [
       "<pre>recommendations finished on 337000/556591 queries. users per second: 23215.5</pre>"
      ],
      "text/plain": [
       "recommendations finished on 337000/556591 queries. users per second: 23215.5"
      ]
     },
     "metadata": {},
     "output_type": "display_data"
    },
    {
     "data": {
      "text/html": [
       "<pre>recommendations finished on 338000/556591 queries. users per second: 23207.9</pre>"
      ],
      "text/plain": [
       "recommendations finished on 338000/556591 queries. users per second: 23207.9"
      ]
     },
     "metadata": {},
     "output_type": "display_data"
    },
    {
     "data": {
      "text/html": [
       "<pre>recommendations finished on 339000/556591 queries. users per second: 23206.9</pre>"
      ],
      "text/plain": [
       "recommendations finished on 339000/556591 queries. users per second: 23206.9"
      ]
     },
     "metadata": {},
     "output_type": "display_data"
    },
    {
     "data": {
      "text/html": [
       "<pre>recommendations finished on 340000/556591 queries. users per second: 23205.4</pre>"
      ],
      "text/plain": [
       "recommendations finished on 340000/556591 queries. users per second: 23205.4"
      ]
     },
     "metadata": {},
     "output_type": "display_data"
    },
    {
     "data": {
      "text/html": [
       "<pre>recommendations finished on 341000/556591 queries. users per second: 23200.7</pre>"
      ],
      "text/plain": [
       "recommendations finished on 341000/556591 queries. users per second: 23200.7"
      ]
     },
     "metadata": {},
     "output_type": "display_data"
    },
    {
     "data": {
      "text/html": [
       "<pre>recommendations finished on 342000/556591 queries. users per second: 23194</pre>"
      ],
      "text/plain": [
       "recommendations finished on 342000/556591 queries. users per second: 23194"
      ]
     },
     "metadata": {},
     "output_type": "display_data"
    },
    {
     "data": {
      "text/html": [
       "<pre>recommendations finished on 343000/556591 queries. users per second: 23185.9</pre>"
      ],
      "text/plain": [
       "recommendations finished on 343000/556591 queries. users per second: 23185.9"
      ]
     },
     "metadata": {},
     "output_type": "display_data"
    },
    {
     "data": {
      "text/html": [
       "<pre>recommendations finished on 344000/556591 queries. users per second: 23183.7</pre>"
      ],
      "text/plain": [
       "recommendations finished on 344000/556591 queries. users per second: 23183.7"
      ]
     },
     "metadata": {},
     "output_type": "display_data"
    },
    {
     "data": {
      "text/html": [
       "<pre>recommendations finished on 345000/556591 queries. users per second: 23170.8</pre>"
      ],
      "text/plain": [
       "recommendations finished on 345000/556591 queries. users per second: 23170.8"
      ]
     },
     "metadata": {},
     "output_type": "display_data"
    },
    {
     "data": {
      "text/html": [
       "<pre>recommendations finished on 346000/556591 queries. users per second: 23162.9</pre>"
      ],
      "text/plain": [
       "recommendations finished on 346000/556591 queries. users per second: 23162.9"
      ]
     },
     "metadata": {},
     "output_type": "display_data"
    },
    {
     "data": {
      "text/html": [
       "<pre>recommendations finished on 347000/556591 queries. users per second: 23156</pre>"
      ],
      "text/plain": [
       "recommendations finished on 347000/556591 queries. users per second: 23156"
      ]
     },
     "metadata": {},
     "output_type": "display_data"
    },
    {
     "data": {
      "text/html": [
       "<pre>recommendations finished on 348000/556591 queries. users per second: 23152</pre>"
      ],
      "text/plain": [
       "recommendations finished on 348000/556591 queries. users per second: 23152"
      ]
     },
     "metadata": {},
     "output_type": "display_data"
    },
    {
     "data": {
      "text/html": [
       "<pre>recommendations finished on 349000/556591 queries. users per second: 23145.8</pre>"
      ],
      "text/plain": [
       "recommendations finished on 349000/556591 queries. users per second: 23145.8"
      ]
     },
     "metadata": {},
     "output_type": "display_data"
    },
    {
     "data": {
      "text/html": [
       "<pre>recommendations finished on 350000/556591 queries. users per second: 23144.8</pre>"
      ],
      "text/plain": [
       "recommendations finished on 350000/556591 queries. users per second: 23144.8"
      ]
     },
     "metadata": {},
     "output_type": "display_data"
    },
    {
     "data": {
      "text/html": [
       "<pre>recommendations finished on 351000/556591 queries. users per second: 23130.6</pre>"
      ],
      "text/plain": [
       "recommendations finished on 351000/556591 queries. users per second: 23130.6"
      ]
     },
     "metadata": {},
     "output_type": "display_data"
    },
    {
     "data": {
      "text/html": [
       "<pre>recommendations finished on 352000/556591 queries. users per second: 23126.2</pre>"
      ],
      "text/plain": [
       "recommendations finished on 352000/556591 queries. users per second: 23126.2"
      ]
     },
     "metadata": {},
     "output_type": "display_data"
    },
    {
     "data": {
      "text/html": [
       "<pre>recommendations finished on 353000/556591 queries. users per second: 23122</pre>"
      ],
      "text/plain": [
       "recommendations finished on 353000/556591 queries. users per second: 23122"
      ]
     },
     "metadata": {},
     "output_type": "display_data"
    },
    {
     "data": {
      "text/html": [
       "<pre>recommendations finished on 354000/556591 queries. users per second: 23113.9</pre>"
      ],
      "text/plain": [
       "recommendations finished on 354000/556591 queries. users per second: 23113.9"
      ]
     },
     "metadata": {},
     "output_type": "display_data"
    },
    {
     "data": {
      "text/html": [
       "<pre>recommendations finished on 355000/556591 queries. users per second: 23109</pre>"
      ],
      "text/plain": [
       "recommendations finished on 355000/556591 queries. users per second: 23109"
      ]
     },
     "metadata": {},
     "output_type": "display_data"
    },
    {
     "data": {
      "text/html": [
       "<pre>recommendations finished on 356000/556591 queries. users per second: 23106.3</pre>"
      ],
      "text/plain": [
       "recommendations finished on 356000/556591 queries. users per second: 23106.3"
      ]
     },
     "metadata": {},
     "output_type": "display_data"
    },
    {
     "data": {
      "text/html": [
       "<pre>recommendations finished on 357000/556591 queries. users per second: 23091.5</pre>"
      ],
      "text/plain": [
       "recommendations finished on 357000/556591 queries. users per second: 23091.5"
      ]
     },
     "metadata": {},
     "output_type": "display_data"
    },
    {
     "data": {
      "text/html": [
       "<pre>recommendations finished on 358000/556591 queries. users per second: 23088.1</pre>"
      ],
      "text/plain": [
       "recommendations finished on 358000/556591 queries. users per second: 23088.1"
      ]
     },
     "metadata": {},
     "output_type": "display_data"
    },
    {
     "data": {
      "text/html": [
       "<pre>recommendations finished on 359000/556591 queries. users per second: 23080</pre>"
      ],
      "text/plain": [
       "recommendations finished on 359000/556591 queries. users per second: 23080"
      ]
     },
     "metadata": {},
     "output_type": "display_data"
    },
    {
     "data": {
      "text/html": [
       "<pre>recommendations finished on 360000/556591 queries. users per second: 23074.6</pre>"
      ],
      "text/plain": [
       "recommendations finished on 360000/556591 queries. users per second: 23074.6"
      ]
     },
     "metadata": {},
     "output_type": "display_data"
    },
    {
     "data": {
      "text/html": [
       "<pre>recommendations finished on 361000/556591 queries. users per second: 23068.7</pre>"
      ],
      "text/plain": [
       "recommendations finished on 361000/556591 queries. users per second: 23068.7"
      ]
     },
     "metadata": {},
     "output_type": "display_data"
    },
    {
     "data": {
      "text/html": [
       "<pre>recommendations finished on 362000/556591 queries. users per second: 23062.9</pre>"
      ],
      "text/plain": [
       "recommendations finished on 362000/556591 queries. users per second: 23062.9"
      ]
     },
     "metadata": {},
     "output_type": "display_data"
    },
    {
     "data": {
      "text/html": [
       "<pre>recommendations finished on 363000/556591 queries. users per second: 23057.9</pre>"
      ],
      "text/plain": [
       "recommendations finished on 363000/556591 queries. users per second: 23057.9"
      ]
     },
     "metadata": {},
     "output_type": "display_data"
    },
    {
     "data": {
      "text/html": [
       "<pre>recommendations finished on 364000/556591 queries. users per second: 23051.2</pre>"
      ],
      "text/plain": [
       "recommendations finished on 364000/556591 queries. users per second: 23051.2"
      ]
     },
     "metadata": {},
     "output_type": "display_data"
    },
    {
     "data": {
      "text/html": [
       "<pre>recommendations finished on 365000/556591 queries. users per second: 23040</pre>"
      ],
      "text/plain": [
       "recommendations finished on 365000/556591 queries. users per second: 23040"
      ]
     },
     "metadata": {},
     "output_type": "display_data"
    },
    {
     "data": {
      "text/html": [
       "<pre>recommendations finished on 366000/556591 queries. users per second: 23030.6</pre>"
      ],
      "text/plain": [
       "recommendations finished on 366000/556591 queries. users per second: 23030.6"
      ]
     },
     "metadata": {},
     "output_type": "display_data"
    },
    {
     "data": {
      "text/html": [
       "<pre>recommendations finished on 367000/556591 queries. users per second: 23029.6</pre>"
      ],
      "text/plain": [
       "recommendations finished on 367000/556591 queries. users per second: 23029.6"
      ]
     },
     "metadata": {},
     "output_type": "display_data"
    },
    {
     "data": {
      "text/html": [
       "<pre>recommendations finished on 368000/556591 queries. users per second: 23023</pre>"
      ],
      "text/plain": [
       "recommendations finished on 368000/556591 queries. users per second: 23023"
      ]
     },
     "metadata": {},
     "output_type": "display_data"
    },
    {
     "data": {
      "text/html": [
       "<pre>recommendations finished on 369000/556591 queries. users per second: 23014.8</pre>"
      ],
      "text/plain": [
       "recommendations finished on 369000/556591 queries. users per second: 23014.8"
      ]
     },
     "metadata": {},
     "output_type": "display_data"
    },
    {
     "data": {
      "text/html": [
       "<pre>recommendations finished on 370000/556591 queries. users per second: 23010.5</pre>"
      ],
      "text/plain": [
       "recommendations finished on 370000/556591 queries. users per second: 23010.5"
      ]
     },
     "metadata": {},
     "output_type": "display_data"
    },
    {
     "data": {
      "text/html": [
       "<pre>recommendations finished on 371000/556591 queries. users per second: 23000.2</pre>"
      ],
      "text/plain": [
       "recommendations finished on 371000/556591 queries. users per second: 23000.2"
      ]
     },
     "metadata": {},
     "output_type": "display_data"
    },
    {
     "data": {
      "text/html": [
       "<pre>recommendations finished on 372000/556591 queries. users per second: 22991.4</pre>"
      ],
      "text/plain": [
       "recommendations finished on 372000/556591 queries. users per second: 22991.4"
      ]
     },
     "metadata": {},
     "output_type": "display_data"
    },
    {
     "data": {
      "text/html": [
       "<pre>recommendations finished on 373000/556591 queries. users per second: 22988.5</pre>"
      ],
      "text/plain": [
       "recommendations finished on 373000/556591 queries. users per second: 22988.5"
      ]
     },
     "metadata": {},
     "output_type": "display_data"
    },
    {
     "data": {
      "text/html": [
       "<pre>recommendations finished on 374000/556591 queries. users per second: 22983.7</pre>"
      ],
      "text/plain": [
       "recommendations finished on 374000/556591 queries. users per second: 22983.7"
      ]
     },
     "metadata": {},
     "output_type": "display_data"
    },
    {
     "data": {
      "text/html": [
       "<pre>recommendations finished on 375000/556591 queries. users per second: 22983.7</pre>"
      ],
      "text/plain": [
       "recommendations finished on 375000/556591 queries. users per second: 22983.7"
      ]
     },
     "metadata": {},
     "output_type": "display_data"
    },
    {
     "data": {
      "text/html": [
       "<pre>recommendations finished on 376000/556591 queries. users per second: 22976.3</pre>"
      ],
      "text/plain": [
       "recommendations finished on 376000/556591 queries. users per second: 22976.3"
      ]
     },
     "metadata": {},
     "output_type": "display_data"
    },
    {
     "data": {
      "text/html": [
       "<pre>recommendations finished on 377000/556591 queries. users per second: 22970.4</pre>"
      ],
      "text/plain": [
       "recommendations finished on 377000/556591 queries. users per second: 22970.4"
      ]
     },
     "metadata": {},
     "output_type": "display_data"
    },
    {
     "data": {
      "text/html": [
       "<pre>recommendations finished on 378000/556591 queries. users per second: 22962.7</pre>"
      ],
      "text/plain": [
       "recommendations finished on 378000/556591 queries. users per second: 22962.7"
      ]
     },
     "metadata": {},
     "output_type": "display_data"
    },
    {
     "data": {
      "text/html": [
       "<pre>recommendations finished on 379000/556591 queries. users per second: 22957.3</pre>"
      ],
      "text/plain": [
       "recommendations finished on 379000/556591 queries. users per second: 22957.3"
      ]
     },
     "metadata": {},
     "output_type": "display_data"
    },
    {
     "data": {
      "text/html": [
       "<pre>recommendations finished on 380000/556591 queries. users per second: 22950.4</pre>"
      ],
      "text/plain": [
       "recommendations finished on 380000/556591 queries. users per second: 22950.4"
      ]
     },
     "metadata": {},
     "output_type": "display_data"
    },
    {
     "data": {
      "text/html": [
       "<pre>recommendations finished on 381000/556591 queries. users per second: 22945.7</pre>"
      ],
      "text/plain": [
       "recommendations finished on 381000/556591 queries. users per second: 22945.7"
      ]
     },
     "metadata": {},
     "output_type": "display_data"
    },
    {
     "data": {
      "text/html": [
       "<pre>recommendations finished on 382000/556591 queries. users per second: 22935.1</pre>"
      ],
      "text/plain": [
       "recommendations finished on 382000/556591 queries. users per second: 22935.1"
      ]
     },
     "metadata": {},
     "output_type": "display_data"
    },
    {
     "data": {
      "text/html": [
       "<pre>recommendations finished on 383000/556591 queries. users per second: 22926.2</pre>"
      ],
      "text/plain": [
       "recommendations finished on 383000/556591 queries. users per second: 22926.2"
      ]
     },
     "metadata": {},
     "output_type": "display_data"
    },
    {
     "data": {
      "text/html": [
       "<pre>recommendations finished on 384000/556591 queries. users per second: 22921.7</pre>"
      ],
      "text/plain": [
       "recommendations finished on 384000/556591 queries. users per second: 22921.7"
      ]
     },
     "metadata": {},
     "output_type": "display_data"
    },
    {
     "data": {
      "text/html": [
       "<pre>recommendations finished on 385000/556591 queries. users per second: 22913.1</pre>"
      ],
      "text/plain": [
       "recommendations finished on 385000/556591 queries. users per second: 22913.1"
      ]
     },
     "metadata": {},
     "output_type": "display_data"
    },
    {
     "data": {
      "text/html": [
       "<pre>recommendations finished on 386000/556591 queries. users per second: 22911.2</pre>"
      ],
      "text/plain": [
       "recommendations finished on 386000/556591 queries. users per second: 22911.2"
      ]
     },
     "metadata": {},
     "output_type": "display_data"
    },
    {
     "data": {
      "text/html": [
       "<pre>recommendations finished on 387000/556591 queries. users per second: 22905.9</pre>"
      ],
      "text/plain": [
       "recommendations finished on 387000/556591 queries. users per second: 22905.9"
      ]
     },
     "metadata": {},
     "output_type": "display_data"
    },
    {
     "data": {
      "text/html": [
       "<pre>recommendations finished on 388000/556591 queries. users per second: 22898</pre>"
      ],
      "text/plain": [
       "recommendations finished on 388000/556591 queries. users per second: 22898"
      ]
     },
     "metadata": {},
     "output_type": "display_data"
    },
    {
     "data": {
      "text/html": [
       "<pre>recommendations finished on 389000/556591 queries. users per second: 22882.6</pre>"
      ],
      "text/plain": [
       "recommendations finished on 389000/556591 queries. users per second: 22882.6"
      ]
     },
     "metadata": {},
     "output_type": "display_data"
    },
    {
     "data": {
      "text/html": [
       "<pre>recommendations finished on 390000/556591 queries. users per second: 22874.1</pre>"
      ],
      "text/plain": [
       "recommendations finished on 390000/556591 queries. users per second: 22874.1"
      ]
     },
     "metadata": {},
     "output_type": "display_data"
    },
    {
     "data": {
      "text/html": [
       "<pre>recommendations finished on 391000/556591 queries. users per second: 22869.9</pre>"
      ],
      "text/plain": [
       "recommendations finished on 391000/556591 queries. users per second: 22869.9"
      ]
     },
     "metadata": {},
     "output_type": "display_data"
    },
    {
     "data": {
      "text/html": [
       "<pre>recommendations finished on 392000/556591 queries. users per second: 22866.7</pre>"
      ],
      "text/plain": [
       "recommendations finished on 392000/556591 queries. users per second: 22866.7"
      ]
     },
     "metadata": {},
     "output_type": "display_data"
    },
    {
     "data": {
      "text/html": [
       "<pre>recommendations finished on 393000/556591 queries. users per second: 22863.3</pre>"
      ],
      "text/plain": [
       "recommendations finished on 393000/556591 queries. users per second: 22863.3"
      ]
     },
     "metadata": {},
     "output_type": "display_data"
    },
    {
     "data": {
      "text/html": [
       "<pre>recommendations finished on 394000/556591 queries. users per second: 22860.7</pre>"
      ],
      "text/plain": [
       "recommendations finished on 394000/556591 queries. users per second: 22860.7"
      ]
     },
     "metadata": {},
     "output_type": "display_data"
    },
    {
     "data": {
      "text/html": [
       "<pre>recommendations finished on 395000/556591 queries. users per second: 22855.2</pre>"
      ],
      "text/plain": [
       "recommendations finished on 395000/556591 queries. users per second: 22855.2"
      ]
     },
     "metadata": {},
     "output_type": "display_data"
    },
    {
     "data": {
      "text/html": [
       "<pre>recommendations finished on 396000/556591 queries. users per second: 22854.1</pre>"
      ],
      "text/plain": [
       "recommendations finished on 396000/556591 queries. users per second: 22854.1"
      ]
     },
     "metadata": {},
     "output_type": "display_data"
    },
    {
     "data": {
      "text/html": [
       "<pre>recommendations finished on 397000/556591 queries. users per second: 22851.5</pre>"
      ],
      "text/plain": [
       "recommendations finished on 397000/556591 queries. users per second: 22851.5"
      ]
     },
     "metadata": {},
     "output_type": "display_data"
    },
    {
     "data": {
      "text/html": [
       "<pre>recommendations finished on 398000/556591 queries. users per second: 22846.7</pre>"
      ],
      "text/plain": [
       "recommendations finished on 398000/556591 queries. users per second: 22846.7"
      ]
     },
     "metadata": {},
     "output_type": "display_data"
    },
    {
     "data": {
      "text/html": [
       "<pre>recommendations finished on 399000/556591 queries. users per second: 22842.8</pre>"
      ],
      "text/plain": [
       "recommendations finished on 399000/556591 queries. users per second: 22842.8"
      ]
     },
     "metadata": {},
     "output_type": "display_data"
    },
    {
     "data": {
      "text/html": [
       "<pre>recommendations finished on 400000/556591 queries. users per second: 22836.3</pre>"
      ],
      "text/plain": [
       "recommendations finished on 400000/556591 queries. users per second: 22836.3"
      ]
     },
     "metadata": {},
     "output_type": "display_data"
    },
    {
     "data": {
      "text/html": [
       "<pre>recommendations finished on 401000/556591 queries. users per second: 22829.3</pre>"
      ],
      "text/plain": [
       "recommendations finished on 401000/556591 queries. users per second: 22829.3"
      ]
     },
     "metadata": {},
     "output_type": "display_data"
    },
    {
     "data": {
      "text/html": [
       "<pre>recommendations finished on 402000/556591 queries. users per second: 22827.3</pre>"
      ],
      "text/plain": [
       "recommendations finished on 402000/556591 queries. users per second: 22827.3"
      ]
     },
     "metadata": {},
     "output_type": "display_data"
    },
    {
     "data": {
      "text/html": [
       "<pre>recommendations finished on 403000/556591 queries. users per second: 22822.7</pre>"
      ],
      "text/plain": [
       "recommendations finished on 403000/556591 queries. users per second: 22822.7"
      ]
     },
     "metadata": {},
     "output_type": "display_data"
    },
    {
     "data": {
      "text/html": [
       "<pre>recommendations finished on 404000/556591 queries. users per second: 22822.8</pre>"
      ],
      "text/plain": [
       "recommendations finished on 404000/556591 queries. users per second: 22822.8"
      ]
     },
     "metadata": {},
     "output_type": "display_data"
    },
    {
     "data": {
      "text/html": [
       "<pre>recommendations finished on 405000/556591 queries. users per second: 22821</pre>"
      ],
      "text/plain": [
       "recommendations finished on 405000/556591 queries. users per second: 22821"
      ]
     },
     "metadata": {},
     "output_type": "display_data"
    },
    {
     "data": {
      "text/html": [
       "<pre>recommendations finished on 406000/556591 queries. users per second: 22809.5</pre>"
      ],
      "text/plain": [
       "recommendations finished on 406000/556591 queries. users per second: 22809.5"
      ]
     },
     "metadata": {},
     "output_type": "display_data"
    },
    {
     "data": {
      "text/html": [
       "<pre>recommendations finished on 407000/556591 queries. users per second: 22808.1</pre>"
      ],
      "text/plain": [
       "recommendations finished on 407000/556591 queries. users per second: 22808.1"
      ]
     },
     "metadata": {},
     "output_type": "display_data"
    },
    {
     "data": {
      "text/html": [
       "<pre>recommendations finished on 408000/556591 queries. users per second: 22799.8</pre>"
      ],
      "text/plain": [
       "recommendations finished on 408000/556591 queries. users per second: 22799.8"
      ]
     },
     "metadata": {},
     "output_type": "display_data"
    },
    {
     "data": {
      "text/html": [
       "<pre>recommendations finished on 409000/556591 queries. users per second: 22790.3</pre>"
      ],
      "text/plain": [
       "recommendations finished on 409000/556591 queries. users per second: 22790.3"
      ]
     },
     "metadata": {},
     "output_type": "display_data"
    },
    {
     "data": {
      "text/html": [
       "<pre>recommendations finished on 410000/556591 queries. users per second: 22787.3</pre>"
      ],
      "text/plain": [
       "recommendations finished on 410000/556591 queries. users per second: 22787.3"
      ]
     },
     "metadata": {},
     "output_type": "display_data"
    },
    {
     "data": {
      "text/html": [
       "<pre>recommendations finished on 411000/556591 queries. users per second: 22775.8</pre>"
      ],
      "text/plain": [
       "recommendations finished on 411000/556591 queries. users per second: 22775.8"
      ]
     },
     "metadata": {},
     "output_type": "display_data"
    },
    {
     "data": {
      "text/html": [
       "<pre>recommendations finished on 412000/556591 queries. users per second: 22770.3</pre>"
      ],
      "text/plain": [
       "recommendations finished on 412000/556591 queries. users per second: 22770.3"
      ]
     },
     "metadata": {},
     "output_type": "display_data"
    },
    {
     "data": {
      "text/html": [
       "<pre>recommendations finished on 413000/556591 queries. users per second: 22764.9</pre>"
      ],
      "text/plain": [
       "recommendations finished on 413000/556591 queries. users per second: 22764.9"
      ]
     },
     "metadata": {},
     "output_type": "display_data"
    },
    {
     "data": {
      "text/html": [
       "<pre>recommendations finished on 414000/556591 queries. users per second: 22753.9</pre>"
      ],
      "text/plain": [
       "recommendations finished on 414000/556591 queries. users per second: 22753.9"
      ]
     },
     "metadata": {},
     "output_type": "display_data"
    },
    {
     "data": {
      "text/html": [
       "<pre>recommendations finished on 415000/556591 queries. users per second: 22749.6</pre>"
      ],
      "text/plain": [
       "recommendations finished on 415000/556591 queries. users per second: 22749.6"
      ]
     },
     "metadata": {},
     "output_type": "display_data"
    },
    {
     "data": {
      "text/html": [
       "<pre>recommendations finished on 416000/556591 queries. users per second: 22738.4</pre>"
      ],
      "text/plain": [
       "recommendations finished on 416000/556591 queries. users per second: 22738.4"
      ]
     },
     "metadata": {},
     "output_type": "display_data"
    },
    {
     "data": {
      "text/html": [
       "<pre>recommendations finished on 417000/556591 queries. users per second: 22734</pre>"
      ],
      "text/plain": [
       "recommendations finished on 417000/556591 queries. users per second: 22734"
      ]
     },
     "metadata": {},
     "output_type": "display_data"
    },
    {
     "data": {
      "text/html": [
       "<pre>recommendations finished on 418000/556591 queries. users per second: 22729.2</pre>"
      ],
      "text/plain": [
       "recommendations finished on 418000/556591 queries. users per second: 22729.2"
      ]
     },
     "metadata": {},
     "output_type": "display_data"
    },
    {
     "data": {
      "text/html": [
       "<pre>recommendations finished on 419000/556591 queries. users per second: 22724.3</pre>"
      ],
      "text/plain": [
       "recommendations finished on 419000/556591 queries. users per second: 22724.3"
      ]
     },
     "metadata": {},
     "output_type": "display_data"
    },
    {
     "data": {
      "text/html": [
       "<pre>recommendations finished on 420000/556591 queries. users per second: 22717.9</pre>"
      ],
      "text/plain": [
       "recommendations finished on 420000/556591 queries. users per second: 22717.9"
      ]
     },
     "metadata": {},
     "output_type": "display_data"
    },
    {
     "data": {
      "text/html": [
       "<pre>recommendations finished on 421000/556591 queries. users per second: 22709.5</pre>"
      ],
      "text/plain": [
       "recommendations finished on 421000/556591 queries. users per second: 22709.5"
      ]
     },
     "metadata": {},
     "output_type": "display_data"
    },
    {
     "data": {
      "text/html": [
       "<pre>recommendations finished on 422000/556591 queries. users per second: 22704.2</pre>"
      ],
      "text/plain": [
       "recommendations finished on 422000/556591 queries. users per second: 22704.2"
      ]
     },
     "metadata": {},
     "output_type": "display_data"
    },
    {
     "data": {
      "text/html": [
       "<pre>recommendations finished on 423000/556591 queries. users per second: 22698.1</pre>"
      ],
      "text/plain": [
       "recommendations finished on 423000/556591 queries. users per second: 22698.1"
      ]
     },
     "metadata": {},
     "output_type": "display_data"
    },
    {
     "data": {
      "text/html": [
       "<pre>recommendations finished on 424000/556591 queries. users per second: 22693.2</pre>"
      ],
      "text/plain": [
       "recommendations finished on 424000/556591 queries. users per second: 22693.2"
      ]
     },
     "metadata": {},
     "output_type": "display_data"
    },
    {
     "data": {
      "text/html": [
       "<pre>recommendations finished on 425000/556591 queries. users per second: 22685.7</pre>"
      ],
      "text/plain": [
       "recommendations finished on 425000/556591 queries. users per second: 22685.7"
      ]
     },
     "metadata": {},
     "output_type": "display_data"
    },
    {
     "data": {
      "text/html": [
       "<pre>recommendations finished on 426000/556591 queries. users per second: 22679.6</pre>"
      ],
      "text/plain": [
       "recommendations finished on 426000/556591 queries. users per second: 22679.6"
      ]
     },
     "metadata": {},
     "output_type": "display_data"
    },
    {
     "data": {
      "text/html": [
       "<pre>recommendations finished on 427000/556591 queries. users per second: 22674.3</pre>"
      ],
      "text/plain": [
       "recommendations finished on 427000/556591 queries. users per second: 22674.3"
      ]
     },
     "metadata": {},
     "output_type": "display_data"
    },
    {
     "data": {
      "text/html": [
       "<pre>recommendations finished on 428000/556591 queries. users per second: 22669.4</pre>"
      ],
      "text/plain": [
       "recommendations finished on 428000/556591 queries. users per second: 22669.4"
      ]
     },
     "metadata": {},
     "output_type": "display_data"
    },
    {
     "data": {
      "text/html": [
       "<pre>recommendations finished on 429000/556591 queries. users per second: 22667.8</pre>"
      ],
      "text/plain": [
       "recommendations finished on 429000/556591 queries. users per second: 22667.8"
      ]
     },
     "metadata": {},
     "output_type": "display_data"
    },
    {
     "data": {
      "text/html": [
       "<pre>recommendations finished on 430000/556591 queries. users per second: 22665</pre>"
      ],
      "text/plain": [
       "recommendations finished on 430000/556591 queries. users per second: 22665"
      ]
     },
     "metadata": {},
     "output_type": "display_data"
    },
    {
     "data": {
      "text/html": [
       "<pre>recommendations finished on 431000/556591 queries. users per second: 22662.6</pre>"
      ],
      "text/plain": [
       "recommendations finished on 431000/556591 queries. users per second: 22662.6"
      ]
     },
     "metadata": {},
     "output_type": "display_data"
    },
    {
     "data": {
      "text/html": [
       "<pre>recommendations finished on 432000/556591 queries. users per second: 22661.8</pre>"
      ],
      "text/plain": [
       "recommendations finished on 432000/556591 queries. users per second: 22661.8"
      ]
     },
     "metadata": {},
     "output_type": "display_data"
    },
    {
     "data": {
      "text/html": [
       "<pre>recommendations finished on 433000/556591 queries. users per second: 22661.5</pre>"
      ],
      "text/plain": [
       "recommendations finished on 433000/556591 queries. users per second: 22661.5"
      ]
     },
     "metadata": {},
     "output_type": "display_data"
    },
    {
     "data": {
      "text/html": [
       "<pre>recommendations finished on 434000/556591 queries. users per second: 22660.6</pre>"
      ],
      "text/plain": [
       "recommendations finished on 434000/556591 queries. users per second: 22660.6"
      ]
     },
     "metadata": {},
     "output_type": "display_data"
    },
    {
     "data": {
      "text/html": [
       "<pre>recommendations finished on 435000/556591 queries. users per second: 22662.3</pre>"
      ],
      "text/plain": [
       "recommendations finished on 435000/556591 queries. users per second: 22662.3"
      ]
     },
     "metadata": {},
     "output_type": "display_data"
    },
    {
     "data": {
      "text/html": [
       "<pre>recommendations finished on 436000/556591 queries. users per second: 22661</pre>"
      ],
      "text/plain": [
       "recommendations finished on 436000/556591 queries. users per second: 22661"
      ]
     },
     "metadata": {},
     "output_type": "display_data"
    },
    {
     "data": {
      "text/html": [
       "<pre>recommendations finished on 437000/556591 queries. users per second: 22658.2</pre>"
      ],
      "text/plain": [
       "recommendations finished on 437000/556591 queries. users per second: 22658.2"
      ]
     },
     "metadata": {},
     "output_type": "display_data"
    },
    {
     "data": {
      "text/html": [
       "<pre>recommendations finished on 438000/556591 queries. users per second: 22659</pre>"
      ],
      "text/plain": [
       "recommendations finished on 438000/556591 queries. users per second: 22659"
      ]
     },
     "metadata": {},
     "output_type": "display_data"
    },
    {
     "data": {
      "text/html": [
       "<pre>recommendations finished on 439000/556591 queries. users per second: 22656.9</pre>"
      ],
      "text/plain": [
       "recommendations finished on 439000/556591 queries. users per second: 22656.9"
      ]
     },
     "metadata": {},
     "output_type": "display_data"
    },
    {
     "data": {
      "text/html": [
       "<pre>recommendations finished on 440000/556591 queries. users per second: 22658</pre>"
      ],
      "text/plain": [
       "recommendations finished on 440000/556591 queries. users per second: 22658"
      ]
     },
     "metadata": {},
     "output_type": "display_data"
    },
    {
     "data": {
      "text/html": [
       "<pre>recommendations finished on 441000/556591 queries. users per second: 22660</pre>"
      ],
      "text/plain": [
       "recommendations finished on 441000/556591 queries. users per second: 22660"
      ]
     },
     "metadata": {},
     "output_type": "display_data"
    },
    {
     "data": {
      "text/html": [
       "<pre>recommendations finished on 442000/556591 queries. users per second: 22661.5</pre>"
      ],
      "text/plain": [
       "recommendations finished on 442000/556591 queries. users per second: 22661.5"
      ]
     },
     "metadata": {},
     "output_type": "display_data"
    },
    {
     "data": {
      "text/html": [
       "<pre>recommendations finished on 443000/556591 queries. users per second: 22663.5</pre>"
      ],
      "text/plain": [
       "recommendations finished on 443000/556591 queries. users per second: 22663.5"
      ]
     },
     "metadata": {},
     "output_type": "display_data"
    },
    {
     "data": {
      "text/html": [
       "<pre>recommendations finished on 444000/556591 queries. users per second: 22662.1</pre>"
      ],
      "text/plain": [
       "recommendations finished on 444000/556591 queries. users per second: 22662.1"
      ]
     },
     "metadata": {},
     "output_type": "display_data"
    },
    {
     "data": {
      "text/html": [
       "<pre>recommendations finished on 445000/556591 queries. users per second: 22661.8</pre>"
      ],
      "text/plain": [
       "recommendations finished on 445000/556591 queries. users per second: 22661.8"
      ]
     },
     "metadata": {},
     "output_type": "display_data"
    },
    {
     "data": {
      "text/html": [
       "<pre>recommendations finished on 446000/556591 queries. users per second: 22656.2</pre>"
      ],
      "text/plain": [
       "recommendations finished on 446000/556591 queries. users per second: 22656.2"
      ]
     },
     "metadata": {},
     "output_type": "display_data"
    },
    {
     "data": {
      "text/html": [
       "<pre>recommendations finished on 447000/556591 queries. users per second: 22654</pre>"
      ],
      "text/plain": [
       "recommendations finished on 447000/556591 queries. users per second: 22654"
      ]
     },
     "metadata": {},
     "output_type": "display_data"
    },
    {
     "data": {
      "text/html": [
       "<pre>recommendations finished on 448000/556591 queries. users per second: 22650.8</pre>"
      ],
      "text/plain": [
       "recommendations finished on 448000/556591 queries. users per second: 22650.8"
      ]
     },
     "metadata": {},
     "output_type": "display_data"
    },
    {
     "data": {
      "text/html": [
       "<pre>recommendations finished on 449000/556591 queries. users per second: 22647.5</pre>"
      ],
      "text/plain": [
       "recommendations finished on 449000/556591 queries. users per second: 22647.5"
      ]
     },
     "metadata": {},
     "output_type": "display_data"
    },
    {
     "data": {
      "text/html": [
       "<pre>recommendations finished on 450000/556591 queries. users per second: 22646.7</pre>"
      ],
      "text/plain": [
       "recommendations finished on 450000/556591 queries. users per second: 22646.7"
      ]
     },
     "metadata": {},
     "output_type": "display_data"
    },
    {
     "data": {
      "text/html": [
       "<pre>recommendations finished on 451000/556591 queries. users per second: 22639.4</pre>"
      ],
      "text/plain": [
       "recommendations finished on 451000/556591 queries. users per second: 22639.4"
      ]
     },
     "metadata": {},
     "output_type": "display_data"
    },
    {
     "data": {
      "text/html": [
       "<pre>recommendations finished on 452000/556591 queries. users per second: 22626.3</pre>"
      ],
      "text/plain": [
       "recommendations finished on 452000/556591 queries. users per second: 22626.3"
      ]
     },
     "metadata": {},
     "output_type": "display_data"
    },
    {
     "data": {
      "text/html": [
       "<pre>recommendations finished on 453000/556591 queries. users per second: 22619.1</pre>"
      ],
      "text/plain": [
       "recommendations finished on 453000/556591 queries. users per second: 22619.1"
      ]
     },
     "metadata": {},
     "output_type": "display_data"
    },
    {
     "data": {
      "text/html": [
       "<pre>recommendations finished on 454000/556591 queries. users per second: 22616.3</pre>"
      ],
      "text/plain": [
       "recommendations finished on 454000/556591 queries. users per second: 22616.3"
      ]
     },
     "metadata": {},
     "output_type": "display_data"
    },
    {
     "data": {
      "text/html": [
       "<pre>recommendations finished on 455000/556591 queries. users per second: 22610.2</pre>"
      ],
      "text/plain": [
       "recommendations finished on 455000/556591 queries. users per second: 22610.2"
      ]
     },
     "metadata": {},
     "output_type": "display_data"
    },
    {
     "data": {
      "text/html": [
       "<pre>recommendations finished on 456000/556591 queries. users per second: 22603.6</pre>"
      ],
      "text/plain": [
       "recommendations finished on 456000/556591 queries. users per second: 22603.6"
      ]
     },
     "metadata": {},
     "output_type": "display_data"
    },
    {
     "data": {
      "text/html": [
       "<pre>recommendations finished on 457000/556591 queries. users per second: 22598.7</pre>"
      ],
      "text/plain": [
       "recommendations finished on 457000/556591 queries. users per second: 22598.7"
      ]
     },
     "metadata": {},
     "output_type": "display_data"
    },
    {
     "data": {
      "text/html": [
       "<pre>recommendations finished on 458000/556591 queries. users per second: 22593.6</pre>"
      ],
      "text/plain": [
       "recommendations finished on 458000/556591 queries. users per second: 22593.6"
      ]
     },
     "metadata": {},
     "output_type": "display_data"
    },
    {
     "data": {
      "text/html": [
       "<pre>recommendations finished on 459000/556591 queries. users per second: 22580.9</pre>"
      ],
      "text/plain": [
       "recommendations finished on 459000/556591 queries. users per second: 22580.9"
      ]
     },
     "metadata": {},
     "output_type": "display_data"
    },
    {
     "data": {
      "text/html": [
       "<pre>recommendations finished on 460000/556591 queries. users per second: 22573.3</pre>"
      ],
      "text/plain": [
       "recommendations finished on 460000/556591 queries. users per second: 22573.3"
      ]
     },
     "metadata": {},
     "output_type": "display_data"
    },
    {
     "data": {
      "text/html": [
       "<pre>recommendations finished on 461000/556591 queries. users per second: 22569.9</pre>"
      ],
      "text/plain": [
       "recommendations finished on 461000/556591 queries. users per second: 22569.9"
      ]
     },
     "metadata": {},
     "output_type": "display_data"
    },
    {
     "data": {
      "text/html": [
       "<pre>recommendations finished on 462000/556591 queries. users per second: 22564.4</pre>"
      ],
      "text/plain": [
       "recommendations finished on 462000/556591 queries. users per second: 22564.4"
      ]
     },
     "metadata": {},
     "output_type": "display_data"
    },
    {
     "data": {
      "text/html": [
       "<pre>recommendations finished on 463000/556591 queries. users per second: 22555.3</pre>"
      ],
      "text/plain": [
       "recommendations finished on 463000/556591 queries. users per second: 22555.3"
      ]
     },
     "metadata": {},
     "output_type": "display_data"
    },
    {
     "data": {
      "text/html": [
       "<pre>recommendations finished on 464000/556591 queries. users per second: 22545.8</pre>"
      ],
      "text/plain": [
       "recommendations finished on 464000/556591 queries. users per second: 22545.8"
      ]
     },
     "metadata": {},
     "output_type": "display_data"
    },
    {
     "data": {
      "text/html": [
       "<pre>recommendations finished on 465000/556591 queries. users per second: 22539.5</pre>"
      ],
      "text/plain": [
       "recommendations finished on 465000/556591 queries. users per second: 22539.5"
      ]
     },
     "metadata": {},
     "output_type": "display_data"
    },
    {
     "data": {
      "text/html": [
       "<pre>recommendations finished on 466000/556591 queries. users per second: 22533.9</pre>"
      ],
      "text/plain": [
       "recommendations finished on 466000/556591 queries. users per second: 22533.9"
      ]
     },
     "metadata": {},
     "output_type": "display_data"
    },
    {
     "data": {
      "text/html": [
       "<pre>recommendations finished on 467000/556591 queries. users per second: 22528</pre>"
      ],
      "text/plain": [
       "recommendations finished on 467000/556591 queries. users per second: 22528"
      ]
     },
     "metadata": {},
     "output_type": "display_data"
    },
    {
     "data": {
      "text/html": [
       "<pre>recommendations finished on 468000/556591 queries. users per second: 22522.5</pre>"
      ],
      "text/plain": [
       "recommendations finished on 468000/556591 queries. users per second: 22522.5"
      ]
     },
     "metadata": {},
     "output_type": "display_data"
    },
    {
     "data": {
      "text/html": [
       "<pre>recommendations finished on 469000/556591 queries. users per second: 22516.6</pre>"
      ],
      "text/plain": [
       "recommendations finished on 469000/556591 queries. users per second: 22516.6"
      ]
     },
     "metadata": {},
     "output_type": "display_data"
    },
    {
     "data": {
      "text/html": [
       "<pre>recommendations finished on 470000/556591 queries. users per second: 22519.8</pre>"
      ],
      "text/plain": [
       "recommendations finished on 470000/556591 queries. users per second: 22519.8"
      ]
     },
     "metadata": {},
     "output_type": "display_data"
    },
    {
     "data": {
      "text/html": [
       "<pre>recommendations finished on 471000/556591 queries. users per second: 22510.8</pre>"
      ],
      "text/plain": [
       "recommendations finished on 471000/556591 queries. users per second: 22510.8"
      ]
     },
     "metadata": {},
     "output_type": "display_data"
    },
    {
     "data": {
      "text/html": [
       "<pre>recommendations finished on 472000/556591 queries. users per second: 22507.5</pre>"
      ],
      "text/plain": [
       "recommendations finished on 472000/556591 queries. users per second: 22507.5"
      ]
     },
     "metadata": {},
     "output_type": "display_data"
    },
    {
     "data": {
      "text/html": [
       "<pre>recommendations finished on 473000/556591 queries. users per second: 22502.4</pre>"
      ],
      "text/plain": [
       "recommendations finished on 473000/556591 queries. users per second: 22502.4"
      ]
     },
     "metadata": {},
     "output_type": "display_data"
    },
    {
     "data": {
      "text/html": [
       "<pre>recommendations finished on 474000/556591 queries. users per second: 22501.4</pre>"
      ],
      "text/plain": [
       "recommendations finished on 474000/556591 queries. users per second: 22501.4"
      ]
     },
     "metadata": {},
     "output_type": "display_data"
    },
    {
     "data": {
      "text/html": [
       "<pre>recommendations finished on 475000/556591 queries. users per second: 22496.6</pre>"
      ],
      "text/plain": [
       "recommendations finished on 475000/556591 queries. users per second: 22496.6"
      ]
     },
     "metadata": {},
     "output_type": "display_data"
    },
    {
     "data": {
      "text/html": [
       "<pre>recommendations finished on 476000/556591 queries. users per second: 22492</pre>"
      ],
      "text/plain": [
       "recommendations finished on 476000/556591 queries. users per second: 22492"
      ]
     },
     "metadata": {},
     "output_type": "display_data"
    },
    {
     "data": {
      "text/html": [
       "<pre>recommendations finished on 477000/556591 queries. users per second: 22487.5</pre>"
      ],
      "text/plain": [
       "recommendations finished on 477000/556591 queries. users per second: 22487.5"
      ]
     },
     "metadata": {},
     "output_type": "display_data"
    },
    {
     "data": {
      "text/html": [
       "<pre>recommendations finished on 478000/556591 queries. users per second: 22484.7</pre>"
      ],
      "text/plain": [
       "recommendations finished on 478000/556591 queries. users per second: 22484.7"
      ]
     },
     "metadata": {},
     "output_type": "display_data"
    },
    {
     "data": {
      "text/html": [
       "<pre>recommendations finished on 479000/556591 queries. users per second: 22483.1</pre>"
      ],
      "text/plain": [
       "recommendations finished on 479000/556591 queries. users per second: 22483.1"
      ]
     },
     "metadata": {},
     "output_type": "display_data"
    },
    {
     "data": {
      "text/html": [
       "<pre>recommendations finished on 480000/556591 queries. users per second: 22476.6</pre>"
      ],
      "text/plain": [
       "recommendations finished on 480000/556591 queries. users per second: 22476.6"
      ]
     },
     "metadata": {},
     "output_type": "display_data"
    },
    {
     "data": {
      "text/html": [
       "<pre>recommendations finished on 481000/556591 queries. users per second: 22473.4</pre>"
      ],
      "text/plain": [
       "recommendations finished on 481000/556591 queries. users per second: 22473.4"
      ]
     },
     "metadata": {},
     "output_type": "display_data"
    },
    {
     "data": {
      "text/html": [
       "<pre>recommendations finished on 482000/556591 queries. users per second: 22469.4</pre>"
      ],
      "text/plain": [
       "recommendations finished on 482000/556591 queries. users per second: 22469.4"
      ]
     },
     "metadata": {},
     "output_type": "display_data"
    },
    {
     "data": {
      "text/html": [
       "<pre>recommendations finished on 483000/556591 queries. users per second: 22467.7</pre>"
      ],
      "text/plain": [
       "recommendations finished on 483000/556591 queries. users per second: 22467.7"
      ]
     },
     "metadata": {},
     "output_type": "display_data"
    },
    {
     "data": {
      "text/html": [
       "<pre>recommendations finished on 484000/556591 queries. users per second: 22464.1</pre>"
      ],
      "text/plain": [
       "recommendations finished on 484000/556591 queries. users per second: 22464.1"
      ]
     },
     "metadata": {},
     "output_type": "display_data"
    },
    {
     "data": {
      "text/html": [
       "<pre>recommendations finished on 485000/556591 queries. users per second: 22461.7</pre>"
      ],
      "text/plain": [
       "recommendations finished on 485000/556591 queries. users per second: 22461.7"
      ]
     },
     "metadata": {},
     "output_type": "display_data"
    },
    {
     "data": {
      "text/html": [
       "<pre>recommendations finished on 486000/556591 queries. users per second: 22453.5</pre>"
      ],
      "text/plain": [
       "recommendations finished on 486000/556591 queries. users per second: 22453.5"
      ]
     },
     "metadata": {},
     "output_type": "display_data"
    },
    {
     "data": {
      "text/html": [
       "<pre>recommendations finished on 487000/556591 queries. users per second: 22449.9</pre>"
      ],
      "text/plain": [
       "recommendations finished on 487000/556591 queries. users per second: 22449.9"
      ]
     },
     "metadata": {},
     "output_type": "display_data"
    },
    {
     "data": {
      "text/html": [
       "<pre>recommendations finished on 488000/556591 queries. users per second: 22449.5</pre>"
      ],
      "text/plain": [
       "recommendations finished on 488000/556591 queries. users per second: 22449.5"
      ]
     },
     "metadata": {},
     "output_type": "display_data"
    },
    {
     "data": {
      "text/html": [
       "<pre>recommendations finished on 489000/556591 queries. users per second: 22447.3</pre>"
      ],
      "text/plain": [
       "recommendations finished on 489000/556591 queries. users per second: 22447.3"
      ]
     },
     "metadata": {},
     "output_type": "display_data"
    },
    {
     "data": {
      "text/html": [
       "<pre>recommendations finished on 490000/556591 queries. users per second: 22446.7</pre>"
      ],
      "text/plain": [
       "recommendations finished on 490000/556591 queries. users per second: 22446.7"
      ]
     },
     "metadata": {},
     "output_type": "display_data"
    },
    {
     "data": {
      "text/html": [
       "<pre>recommendations finished on 491000/556591 queries. users per second: 22445.7</pre>"
      ],
      "text/plain": [
       "recommendations finished on 491000/556591 queries. users per second: 22445.7"
      ]
     },
     "metadata": {},
     "output_type": "display_data"
    },
    {
     "data": {
      "text/html": [
       "<pre>recommendations finished on 492000/556591 queries. users per second: 22437.1</pre>"
      ],
      "text/plain": [
       "recommendations finished on 492000/556591 queries. users per second: 22437.1"
      ]
     },
     "metadata": {},
     "output_type": "display_data"
    },
    {
     "data": {
      "text/html": [
       "<pre>recommendations finished on 493000/556591 queries. users per second: 22434.7</pre>"
      ],
      "text/plain": [
       "recommendations finished on 493000/556591 queries. users per second: 22434.7"
      ]
     },
     "metadata": {},
     "output_type": "display_data"
    },
    {
     "data": {
      "text/html": [
       "<pre>recommendations finished on 494000/556591 queries. users per second: 22428.9</pre>"
      ],
      "text/plain": [
       "recommendations finished on 494000/556591 queries. users per second: 22428.9"
      ]
     },
     "metadata": {},
     "output_type": "display_data"
    },
    {
     "data": {
      "text/html": [
       "<pre>recommendations finished on 495000/556591 queries. users per second: 22421.8</pre>"
      ],
      "text/plain": [
       "recommendations finished on 495000/556591 queries. users per second: 22421.8"
      ]
     },
     "metadata": {},
     "output_type": "display_data"
    },
    {
     "data": {
      "text/html": [
       "<pre>recommendations finished on 496000/556591 queries. users per second: 22420.2</pre>"
      ],
      "text/plain": [
       "recommendations finished on 496000/556591 queries. users per second: 22420.2"
      ]
     },
     "metadata": {},
     "output_type": "display_data"
    },
    {
     "data": {
      "text/html": [
       "<pre>recommendations finished on 497000/556591 queries. users per second: 22414.5</pre>"
      ],
      "text/plain": [
       "recommendations finished on 497000/556591 queries. users per second: 22414.5"
      ]
     },
     "metadata": {},
     "output_type": "display_data"
    },
    {
     "data": {
      "text/html": [
       "<pre>recommendations finished on 498000/556591 queries. users per second: 22412.6</pre>"
      ],
      "text/plain": [
       "recommendations finished on 498000/556591 queries. users per second: 22412.6"
      ]
     },
     "metadata": {},
     "output_type": "display_data"
    },
    {
     "data": {
      "text/html": [
       "<pre>recommendations finished on 499000/556591 queries. users per second: 22406.2</pre>"
      ],
      "text/plain": [
       "recommendations finished on 499000/556591 queries. users per second: 22406.2"
      ]
     },
     "metadata": {},
     "output_type": "display_data"
    },
    {
     "data": {
      "text/html": [
       "<pre>recommendations finished on 500000/556591 queries. users per second: 22405.8</pre>"
      ],
      "text/plain": [
       "recommendations finished on 500000/556591 queries. users per second: 22405.8"
      ]
     },
     "metadata": {},
     "output_type": "display_data"
    },
    {
     "data": {
      "text/html": [
       "<pre>recommendations finished on 501000/556591 queries. users per second: 22400.8</pre>"
      ],
      "text/plain": [
       "recommendations finished on 501000/556591 queries. users per second: 22400.8"
      ]
     },
     "metadata": {},
     "output_type": "display_data"
    },
    {
     "data": {
      "text/html": [
       "<pre>recommendations finished on 502000/556591 queries. users per second: 22397.2</pre>"
      ],
      "text/plain": [
       "recommendations finished on 502000/556591 queries. users per second: 22397.2"
      ]
     },
     "metadata": {},
     "output_type": "display_data"
    },
    {
     "data": {
      "text/html": [
       "<pre>recommendations finished on 503000/556591 queries. users per second: 22394.9</pre>"
      ],
      "text/plain": [
       "recommendations finished on 503000/556591 queries. users per second: 22394.9"
      ]
     },
     "metadata": {},
     "output_type": "display_data"
    },
    {
     "data": {
      "text/html": [
       "<pre>recommendations finished on 504000/556591 queries. users per second: 22392.8</pre>"
      ],
      "text/plain": [
       "recommendations finished on 504000/556591 queries. users per second: 22392.8"
      ]
     },
     "metadata": {},
     "output_type": "display_data"
    },
    {
     "data": {
      "text/html": [
       "<pre>recommendations finished on 505000/556591 queries. users per second: 22391</pre>"
      ],
      "text/plain": [
       "recommendations finished on 505000/556591 queries. users per second: 22391"
      ]
     },
     "metadata": {},
     "output_type": "display_data"
    },
    {
     "data": {
      "text/html": [
       "<pre>recommendations finished on 506000/556591 queries. users per second: 22381.8</pre>"
      ],
      "text/plain": [
       "recommendations finished on 506000/556591 queries. users per second: 22381.8"
      ]
     },
     "metadata": {},
     "output_type": "display_data"
    },
    {
     "data": {
      "text/html": [
       "<pre>recommendations finished on 507000/556591 queries. users per second: 22381.3</pre>"
      ],
      "text/plain": [
       "recommendations finished on 507000/556591 queries. users per second: 22381.3"
      ]
     },
     "metadata": {},
     "output_type": "display_data"
    },
    {
     "data": {
      "text/html": [
       "<pre>recommendations finished on 508000/556591 queries. users per second: 22376.2</pre>"
      ],
      "text/plain": [
       "recommendations finished on 508000/556591 queries. users per second: 22376.2"
      ]
     },
     "metadata": {},
     "output_type": "display_data"
    },
    {
     "data": {
      "text/html": [
       "<pre>recommendations finished on 509000/556591 queries. users per second: 22370.2</pre>"
      ],
      "text/plain": [
       "recommendations finished on 509000/556591 queries. users per second: 22370.2"
      ]
     },
     "metadata": {},
     "output_type": "display_data"
    },
    {
     "data": {
      "text/html": [
       "<pre>recommendations finished on 510000/556591 queries. users per second: 22367.2</pre>"
      ],
      "text/plain": [
       "recommendations finished on 510000/556591 queries. users per second: 22367.2"
      ]
     },
     "metadata": {},
     "output_type": "display_data"
    },
    {
     "data": {
      "text/html": [
       "<pre>recommendations finished on 511000/556591 queries. users per second: 22354.8</pre>"
      ],
      "text/plain": [
       "recommendations finished on 511000/556591 queries. users per second: 22354.8"
      ]
     },
     "metadata": {},
     "output_type": "display_data"
    },
    {
     "data": {
      "text/html": [
       "<pre>recommendations finished on 512000/556591 queries. users per second: 22340</pre>"
      ],
      "text/plain": [
       "recommendations finished on 512000/556591 queries. users per second: 22340"
      ]
     },
     "metadata": {},
     "output_type": "display_data"
    },
    {
     "data": {
      "text/html": [
       "<pre>recommendations finished on 513000/556591 queries. users per second: 22333.8</pre>"
      ],
      "text/plain": [
       "recommendations finished on 513000/556591 queries. users per second: 22333.8"
      ]
     },
     "metadata": {},
     "output_type": "display_data"
    },
    {
     "data": {
      "text/html": [
       "<pre>recommendations finished on 514000/556591 queries. users per second: 22333.7</pre>"
      ],
      "text/plain": [
       "recommendations finished on 514000/556591 queries. users per second: 22333.7"
      ]
     },
     "metadata": {},
     "output_type": "display_data"
    },
    {
     "data": {
      "text/html": [
       "<pre>recommendations finished on 515000/556591 queries. users per second: 22335</pre>"
      ],
      "text/plain": [
       "recommendations finished on 515000/556591 queries. users per second: 22335"
      ]
     },
     "metadata": {},
     "output_type": "display_data"
    },
    {
     "data": {
      "text/html": [
       "<pre>recommendations finished on 516000/556591 queries. users per second: 22329.7</pre>"
      ],
      "text/plain": [
       "recommendations finished on 516000/556591 queries. users per second: 22329.7"
      ]
     },
     "metadata": {},
     "output_type": "display_data"
    },
    {
     "data": {
      "text/html": [
       "<pre>recommendations finished on 517000/556591 queries. users per second: 22328.3</pre>"
      ],
      "text/plain": [
       "recommendations finished on 517000/556591 queries. users per second: 22328.3"
      ]
     },
     "metadata": {},
     "output_type": "display_data"
    },
    {
     "data": {
      "text/html": [
       "<pre>recommendations finished on 518000/556591 queries. users per second: 22324.5</pre>"
      ],
      "text/plain": [
       "recommendations finished on 518000/556591 queries. users per second: 22324.5"
      ]
     },
     "metadata": {},
     "output_type": "display_data"
    },
    {
     "data": {
      "text/html": [
       "<pre>recommendations finished on 519000/556591 queries. users per second: 22323.5</pre>"
      ],
      "text/plain": [
       "recommendations finished on 519000/556591 queries. users per second: 22323.5"
      ]
     },
     "metadata": {},
     "output_type": "display_data"
    },
    {
     "data": {
      "text/html": [
       "<pre>recommendations finished on 520000/556591 queries. users per second: 22319.5</pre>"
      ],
      "text/plain": [
       "recommendations finished on 520000/556591 queries. users per second: 22319.5"
      ]
     },
     "metadata": {},
     "output_type": "display_data"
    },
    {
     "data": {
      "text/html": [
       "<pre>recommendations finished on 521000/556591 queries. users per second: 22319.8</pre>"
      ],
      "text/plain": [
       "recommendations finished on 521000/556591 queries. users per second: 22319.8"
      ]
     },
     "metadata": {},
     "output_type": "display_data"
    },
    {
     "data": {
      "text/html": [
       "<pre>recommendations finished on 522000/556591 queries. users per second: 22317</pre>"
      ],
      "text/plain": [
       "recommendations finished on 522000/556591 queries. users per second: 22317"
      ]
     },
     "metadata": {},
     "output_type": "display_data"
    },
    {
     "data": {
      "text/html": [
       "<pre>recommendations finished on 523000/556591 queries. users per second: 22311.9</pre>"
      ],
      "text/plain": [
       "recommendations finished on 523000/556591 queries. users per second: 22311.9"
      ]
     },
     "metadata": {},
     "output_type": "display_data"
    },
    {
     "data": {
      "text/html": [
       "<pre>recommendations finished on 524000/556591 queries. users per second: 22311.9</pre>"
      ],
      "text/plain": [
       "recommendations finished on 524000/556591 queries. users per second: 22311.9"
      ]
     },
     "metadata": {},
     "output_type": "display_data"
    },
    {
     "data": {
      "text/html": [
       "<pre>recommendations finished on 525000/556591 queries. users per second: 22308.1</pre>"
      ],
      "text/plain": [
       "recommendations finished on 525000/556591 queries. users per second: 22308.1"
      ]
     },
     "metadata": {},
     "output_type": "display_data"
    },
    {
     "data": {
      "text/html": [
       "<pre>recommendations finished on 526000/556591 queries. users per second: 22307.9</pre>"
      ],
      "text/plain": [
       "recommendations finished on 526000/556591 queries. users per second: 22307.9"
      ]
     },
     "metadata": {},
     "output_type": "display_data"
    },
    {
     "data": {
      "text/html": [
       "<pre>recommendations finished on 527000/556591 queries. users per second: 22305.9</pre>"
      ],
      "text/plain": [
       "recommendations finished on 527000/556591 queries. users per second: 22305.9"
      ]
     },
     "metadata": {},
     "output_type": "display_data"
    },
    {
     "data": {
      "text/html": [
       "<pre>recommendations finished on 528000/556591 queries. users per second: 22303.6</pre>"
      ],
      "text/plain": [
       "recommendations finished on 528000/556591 queries. users per second: 22303.6"
      ]
     },
     "metadata": {},
     "output_type": "display_data"
    },
    {
     "data": {
      "text/html": [
       "<pre>recommendations finished on 529000/556591 queries. users per second: 22303.2</pre>"
      ],
      "text/plain": [
       "recommendations finished on 529000/556591 queries. users per second: 22303.2"
      ]
     },
     "metadata": {},
     "output_type": "display_data"
    },
    {
     "data": {
      "text/html": [
       "<pre>recommendations finished on 530000/556591 queries. users per second: 22304.4</pre>"
      ],
      "text/plain": [
       "recommendations finished on 530000/556591 queries. users per second: 22304.4"
      ]
     },
     "metadata": {},
     "output_type": "display_data"
    },
    {
     "data": {
      "text/html": [
       "<pre>recommendations finished on 531000/556591 queries. users per second: 22303</pre>"
      ],
      "text/plain": [
       "recommendations finished on 531000/556591 queries. users per second: 22303"
      ]
     },
     "metadata": {},
     "output_type": "display_data"
    },
    {
     "data": {
      "text/html": [
       "<pre>recommendations finished on 532000/556591 queries. users per second: 22299.5</pre>"
      ],
      "text/plain": [
       "recommendations finished on 532000/556591 queries. users per second: 22299.5"
      ]
     },
     "metadata": {},
     "output_type": "display_data"
    },
    {
     "data": {
      "text/html": [
       "<pre>recommendations finished on 533000/556591 queries. users per second: 22298.1</pre>"
      ],
      "text/plain": [
       "recommendations finished on 533000/556591 queries. users per second: 22298.1"
      ]
     },
     "metadata": {},
     "output_type": "display_data"
    },
    {
     "data": {
      "text/html": [
       "<pre>recommendations finished on 534000/556591 queries. users per second: 22294.2</pre>"
      ],
      "text/plain": [
       "recommendations finished on 534000/556591 queries. users per second: 22294.2"
      ]
     },
     "metadata": {},
     "output_type": "display_data"
    },
    {
     "data": {
      "text/html": [
       "<pre>recommendations finished on 535000/556591 queries. users per second: 22296.2</pre>"
      ],
      "text/plain": [
       "recommendations finished on 535000/556591 queries. users per second: 22296.2"
      ]
     },
     "metadata": {},
     "output_type": "display_data"
    },
    {
     "data": {
      "text/html": [
       "<pre>recommendations finished on 536000/556591 queries. users per second: 22291.7</pre>"
      ],
      "text/plain": [
       "recommendations finished on 536000/556591 queries. users per second: 22291.7"
      ]
     },
     "metadata": {},
     "output_type": "display_data"
    },
    {
     "data": {
      "text/html": [
       "<pre>recommendations finished on 537000/556591 queries. users per second: 22293</pre>"
      ],
      "text/plain": [
       "recommendations finished on 537000/556591 queries. users per second: 22293"
      ]
     },
     "metadata": {},
     "output_type": "display_data"
    },
    {
     "data": {
      "text/html": [
       "<pre>recommendations finished on 538000/556591 queries. users per second: 22289.8</pre>"
      ],
      "text/plain": [
       "recommendations finished on 538000/556591 queries. users per second: 22289.8"
      ]
     },
     "metadata": {},
     "output_type": "display_data"
    },
    {
     "data": {
      "text/html": [
       "<pre>recommendations finished on 539000/556591 queries. users per second: 22286.3</pre>"
      ],
      "text/plain": [
       "recommendations finished on 539000/556591 queries. users per second: 22286.3"
      ]
     },
     "metadata": {},
     "output_type": "display_data"
    },
    {
     "data": {
      "text/html": [
       "<pre>recommendations finished on 540000/556591 queries. users per second: 22286.2</pre>"
      ],
      "text/plain": [
       "recommendations finished on 540000/556591 queries. users per second: 22286.2"
      ]
     },
     "metadata": {},
     "output_type": "display_data"
    },
    {
     "data": {
      "text/html": [
       "<pre>recommendations finished on 541000/556591 queries. users per second: 22284.4</pre>"
      ],
      "text/plain": [
       "recommendations finished on 541000/556591 queries. users per second: 22284.4"
      ]
     },
     "metadata": {},
     "output_type": "display_data"
    },
    {
     "data": {
      "text/html": [
       "<pre>recommendations finished on 542000/556591 queries. users per second: 22284.5</pre>"
      ],
      "text/plain": [
       "recommendations finished on 542000/556591 queries. users per second: 22284.5"
      ]
     },
     "metadata": {},
     "output_type": "display_data"
    },
    {
     "data": {
      "text/html": [
       "<pre>recommendations finished on 543000/556591 queries. users per second: 22282.3</pre>"
      ],
      "text/plain": [
       "recommendations finished on 543000/556591 queries. users per second: 22282.3"
      ]
     },
     "metadata": {},
     "output_type": "display_data"
    },
    {
     "data": {
      "text/html": [
       "<pre>recommendations finished on 544000/556591 queries. users per second: 22277.9</pre>"
      ],
      "text/plain": [
       "recommendations finished on 544000/556591 queries. users per second: 22277.9"
      ]
     },
     "metadata": {},
     "output_type": "display_data"
    },
    {
     "data": {
      "text/html": [
       "<pre>recommendations finished on 545000/556591 queries. users per second: 22280</pre>"
      ],
      "text/plain": [
       "recommendations finished on 545000/556591 queries. users per second: 22280"
      ]
     },
     "metadata": {},
     "output_type": "display_data"
    },
    {
     "data": {
      "text/html": [
       "<pre>recommendations finished on 546000/556591 queries. users per second: 22279.1</pre>"
      ],
      "text/plain": [
       "recommendations finished on 546000/556591 queries. users per second: 22279.1"
      ]
     },
     "metadata": {},
     "output_type": "display_data"
    },
    {
     "data": {
      "text/html": [
       "<pre>recommendations finished on 547000/556591 queries. users per second: 22267.9</pre>"
      ],
      "text/plain": [
       "recommendations finished on 547000/556591 queries. users per second: 22267.9"
      ]
     },
     "metadata": {},
     "output_type": "display_data"
    },
    {
     "data": {
      "text/html": [
       "<pre>recommendations finished on 548000/556591 queries. users per second: 22267.7</pre>"
      ],
      "text/plain": [
       "recommendations finished on 548000/556591 queries. users per second: 22267.7"
      ]
     },
     "metadata": {},
     "output_type": "display_data"
    },
    {
     "data": {
      "text/html": [
       "<pre>recommendations finished on 549000/556591 queries. users per second: 22268.4</pre>"
      ],
      "text/plain": [
       "recommendations finished on 549000/556591 queries. users per second: 22268.4"
      ]
     },
     "metadata": {},
     "output_type": "display_data"
    },
    {
     "data": {
      "text/html": [
       "<pre>recommendations finished on 550000/556591 queries. users per second: 22264.2</pre>"
      ],
      "text/plain": [
       "recommendations finished on 550000/556591 queries. users per second: 22264.2"
      ]
     },
     "metadata": {},
     "output_type": "display_data"
    },
    {
     "data": {
      "text/html": [
       "<pre>recommendations finished on 551000/556591 queries. users per second: 22259</pre>"
      ],
      "text/plain": [
       "recommendations finished on 551000/556591 queries. users per second: 22259"
      ]
     },
     "metadata": {},
     "output_type": "display_data"
    },
    {
     "data": {
      "text/html": [
       "<pre>recommendations finished on 552000/556591 queries. users per second: 22247</pre>"
      ],
      "text/plain": [
       "recommendations finished on 552000/556591 queries. users per second: 22247"
      ]
     },
     "metadata": {},
     "output_type": "display_data"
    },
    {
     "data": {
      "text/html": [
       "<pre>recommendations finished on 553000/556591 queries. users per second: 22237.2</pre>"
      ],
      "text/plain": [
       "recommendations finished on 553000/556591 queries. users per second: 22237.2"
      ]
     },
     "metadata": {},
     "output_type": "display_data"
    },
    {
     "data": {
      "text/html": [
       "<pre>recommendations finished on 554000/556591 queries. users per second: 22230.1</pre>"
      ],
      "text/plain": [
       "recommendations finished on 554000/556591 queries. users per second: 22230.1"
      ]
     },
     "metadata": {},
     "output_type": "display_data"
    },
    {
     "data": {
      "text/html": [
       "<pre>recommendations finished on 555000/556591 queries. users per second: 22220.8</pre>"
      ],
      "text/plain": [
       "recommendations finished on 555000/556591 queries. users per second: 22220.8"
      ]
     },
     "metadata": {},
     "output_type": "display_data"
    },
    {
     "data": {
      "text/html": [
       "<pre>recommendations finished on 556000/556591 queries. users per second: 22202.9</pre>"
      ],
      "text/plain": [
       "recommendations finished on 556000/556591 queries. users per second: 22202.9"
      ]
     },
     "metadata": {},
     "output_type": "display_data"
    },
    {
     "name": "stdout",
     "output_type": "stream",
     "text": [
      "+-----------+------------+-------+------+\n",
      "|  user_id  | product_id | score | rank |\n",
      "+-----------+------------+-------+------+\n",
      "| 543272936 |  17301130  |  35.0 |  1   |\n",
      "| 543272936 |  6500548   |  29.0 |  2   |\n",
      "| 543272936 |  12708501  |  27.0 |  3   |\n",
      "| 543272936 |  14700842  |  25.0 |  4   |\n",
      "| 543272936 |  1306613   |  25.0 |  5   |\n",
      "+-----------+------------+-------+------+\n",
      "[5565910 rows x 4 columns]\n",
      "\n"
     ]
    }
   ],
   "source": [
    "# Get recommendations for a list of users to recommend (from customers file)\n",
    "# Printed below is head / top 30 rows for first 3 customers with 10 recommendations each\n",
    "\n",
    "popularity_recomm = popularity_model.recommend(users=users_to_recommend, k=n_rec)\n",
    "popularity_recomm.print_rows(5)"
   ]
  },
  {
   "cell_type": "code",
   "execution_count": 48,
   "metadata": {},
   "outputs": [],
   "source": [
    "# Since turicreate is very accessible library, we can define a model selection function as below\n",
    "\n",
    "def model(train_data, name, user_id, item_id, target, users_to_recommend, n_rec, n_display):\n",
    "    if name == 'popularity':\n",
    "        model = tc.popularity_recommender.create(train_data, \n",
    "                                                    user_id=user_id, \n",
    "                                                    item_id=item_id, \n",
    "                                                    target=target)\n",
    "    elif name == 'cosine':\n",
    "        model = tc.item_similarity_recommender.create(train_data, \n",
    "                                                    user_id=user_id, \n",
    "                                                    item_id=item_id, \n",
    "                                                    target=target, \n",
    "                                                    similarity_type='cosine')\n",
    "    elif name == 'pearson':\n",
    "        model = tc.item_similarity_recommender.create(train_data, \n",
    "                                                    user_id=user_id, \n",
    "                                                    item_id=item_id, \n",
    "                                                    target=target, \n",
    "                                                    similarity_type='pearson')\n",
    "        \n",
    "    recom = model.recommend(users=users_to_recommend, k=n_rec)\n",
    "    recom.print_rows(n_display)\n",
    "    return model"
   ]
  },
  {
   "cell_type": "code",
   "execution_count": 56,
   "metadata": {},
   "outputs": [],
   "source": [
    "# variables to define field names\n",
    "# constant variables include:\n",
    "user_id = 'user_id'\n",
    "item_id = 'product_id'\n",
    "users_to_recommend = list(threshold_data_interations[user_id])\n",
    "n_rec = 10 # number of items to recommend\n",
    "n_display = 20 # to print the head / first few rows in a defined dataset"
   ]
  },
  {
   "cell_type": "markdown",
   "metadata": {},
   "source": [
    "## 6. Collaborative Filtering Model\n",
    "\n",
    "* In collaborative filtering, we would recommend items based on how similar users purchase items. For instance, if customer 1 and customer 2 bought similar items, e.g. 1 bought X, Y, Z and 2 bought X, Y, we would recommend an item Z to customer 2.\n",
    "\n",
    "* To define similarity across users, we use the following steps:\n",
    "    1. Create a user-item matrix, where index values represent unique customer IDs and column values represent unique product IDs\n",
    "    \n",
    "    2. Create an item-to-item similarity matrix. The idea is to calculate how similar a product is to another product. There are a number of ways of calculating this. In steps 6.1 and 6.2, we use cosine and pearson similarity measure, respectively.  \n",
    "    \n",
    "        * To calculate similarity between products X and Y, look at all customers who have rated both these items. For example, both X and Y have been rated by customers 1 and 2. \n",
    "        * We then create two item-vectors, v1 for item X and v2 for item Y, in the user-space of (1, 2) and then find the `cosine` or `pearson` angle/distance between these vectors. A zero angle or overlapping vectors with cosine value of 1 means total similarity (or per user, across all items, there is same rating) and an angle of 90 degree would mean cosine of 0 or no similarity.\n",
    "        \n",
    "    3. For each customer, we then predict his likelihood to buy a product (or his purchase counts) for products that he had not bought. \n",
    "    \n",
    "        * For our example, we will calculate rating for user 2 in the case of item Z (target item). To calculate this we weigh the just-calculated similarity-measure between the target item and other items that customer has already bought. The weighing factor is the purchase counts given by the user to items already bought by him. \n",
    "        * We then scale this weighted sum with the sum of similarity-measures so that the calculated rating remains within a predefined limits. Thus, the predicted rating for item Z for user 2 would be calculated using similarity measures.\n",
    "\n",
    "* While I wrote python scripts for all the process including finding similarity using python scripts (which can be found in `scripts` folder, we can use `turicreate` library for now to capture different measures like using `cosine` and `pearson` distance, and evaluate the best model."
   ]
  },
  {
   "cell_type": "markdown",
   "metadata": {},
   "source": [
    "### 6.1. `Cosine` similarity\n",
    "* Similarity is the cosine of the angle between the 2 vectors of the item vectors of A and B\n",
    "* It is defined by the following formula\n",
    "![](https://encrypted-tbn0.gstatic.com/images?q=tbn:ANd9GcTnRHSAx1c084UXF2wIHYwaHJLmq2qKtNk_YIv3RjHUO00xwlkt)\n",
    "* Closer the vectors, smaller will be the angle and larger the cosine"
   ]
  },
  {
   "cell_type": "code",
   "execution_count": 54,
   "metadata": {},
   "outputs": [
    {
     "data": {
      "text/html": [
       "<pre>Preparing data set.</pre>"
      ],
      "text/plain": [
       "Preparing data set."
      ]
     },
     "metadata": {},
     "output_type": "display_data"
    },
    {
     "data": {
      "text/html": [
       "<pre>    Data has 328569 observations with 55108 users and 21062 items.</pre>"
      ],
      "text/plain": [
       "    Data has 328569 observations with 55108 users and 21062 items."
      ]
     },
     "metadata": {},
     "output_type": "display_data"
    },
    {
     "data": {
      "text/html": [
       "<pre>    Data prepared in: 0.255261s</pre>"
      ],
      "text/plain": [
       "    Data prepared in: 0.255261s"
      ]
     },
     "metadata": {},
     "output_type": "display_data"
    },
    {
     "data": {
      "text/html": [
       "<pre>Training model from provided data.</pre>"
      ],
      "text/plain": [
       "Training model from provided data."
      ]
     },
     "metadata": {},
     "output_type": "display_data"
    },
    {
     "data": {
      "text/html": [
       "<pre>Gathering per-item and per-user statistics.</pre>"
      ],
      "text/plain": [
       "Gathering per-item and per-user statistics."
      ]
     },
     "metadata": {},
     "output_type": "display_data"
    },
    {
     "data": {
      "text/html": [
       "<pre>+--------------------------------+------------+</pre>"
      ],
      "text/plain": [
       "+--------------------------------+------------+"
      ]
     },
     "metadata": {},
     "output_type": "display_data"
    },
    {
     "data": {
      "text/html": [
       "<pre>| Elapsed Time (Item Statistics) | % Complete |</pre>"
      ],
      "text/plain": [
       "| Elapsed Time (Item Statistics) | % Complete |"
      ]
     },
     "metadata": {},
     "output_type": "display_data"
    },
    {
     "data": {
      "text/html": [
       "<pre>+--------------------------------+------------+</pre>"
      ],
      "text/plain": [
       "+--------------------------------+------------+"
      ]
     },
     "metadata": {},
     "output_type": "display_data"
    },
    {
     "data": {
      "text/html": [
       "<pre>| 2.591ms                        | 1.75       |</pre>"
      ],
      "text/plain": [
       "| 2.591ms                        | 1.75       |"
      ]
     },
     "metadata": {},
     "output_type": "display_data"
    },
    {
     "data": {
      "text/html": [
       "<pre>| 16.402ms                       | 100        |</pre>"
      ],
      "text/plain": [
       "| 16.402ms                       | 100        |"
      ]
     },
     "metadata": {},
     "output_type": "display_data"
    },
    {
     "data": {
      "text/html": [
       "<pre>+--------------------------------+------------+</pre>"
      ],
      "text/plain": [
       "+--------------------------------+------------+"
      ]
     },
     "metadata": {},
     "output_type": "display_data"
    },
    {
     "data": {
      "text/html": [
       "<pre>Setting up lookup tables.</pre>"
      ],
      "text/plain": [
       "Setting up lookup tables."
      ]
     },
     "metadata": {},
     "output_type": "display_data"
    },
    {
     "data": {
      "text/html": [
       "<pre>Processing data in one pass using dense lookup tables.</pre>"
      ],
      "text/plain": [
       "Processing data in one pass using dense lookup tables."
      ]
     },
     "metadata": {},
     "output_type": "display_data"
    },
    {
     "data": {
      "text/html": [
       "<pre>+-------------------------------------+------------------+-----------------+</pre>"
      ],
      "text/plain": [
       "+-------------------------------------+------------------+-----------------+"
      ]
     },
     "metadata": {},
     "output_type": "display_data"
    },
    {
     "data": {
      "text/html": [
       "<pre>| Elapsed Time (Constructing Lookups) | Total % Complete | Items Processed |</pre>"
      ],
      "text/plain": [
       "| Elapsed Time (Constructing Lookups) | Total % Complete | Items Processed |"
      ]
     },
     "metadata": {},
     "output_type": "display_data"
    },
    {
     "data": {
      "text/html": [
       "<pre>+-------------------------------------+------------------+-----------------+</pre>"
      ],
      "text/plain": [
       "+-------------------------------------+------------------+-----------------+"
      ]
     },
     "metadata": {},
     "output_type": "display_data"
    },
    {
     "data": {
      "text/html": [
       "<pre>| 807.652ms                           | 0                | 0               |</pre>"
      ],
      "text/plain": [
       "| 807.652ms                           | 0                | 0               |"
      ]
     },
     "metadata": {},
     "output_type": "display_data"
    },
    {
     "data": {
      "text/html": [
       "<pre>| 2.13s                               | 100              | 21062           |</pre>"
      ],
      "text/plain": [
       "| 2.13s                               | 100              | 21062           |"
      ]
     },
     "metadata": {},
     "output_type": "display_data"
    },
    {
     "data": {
      "text/html": [
       "<pre>+-------------------------------------+------------------+-----------------+</pre>"
      ],
      "text/plain": [
       "+-------------------------------------+------------------+-----------------+"
      ]
     },
     "metadata": {},
     "output_type": "display_data"
    },
    {
     "data": {
      "text/html": [
       "<pre>Finalizing lookup tables.</pre>"
      ],
      "text/plain": [
       "Finalizing lookup tables."
      ]
     },
     "metadata": {},
     "output_type": "display_data"
    },
    {
     "data": {
      "text/html": [
       "<pre>Generating candidate set for working with new users.</pre>"
      ],
      "text/plain": [
       "Generating candidate set for working with new users."
      ]
     },
     "metadata": {},
     "output_type": "display_data"
    },
    {
     "data": {
      "text/html": [
       "<pre>Finished training in 2.15765s</pre>"
      ],
      "text/plain": [
       "Finished training in 2.15765s"
      ]
     },
     "metadata": {},
     "output_type": "display_data"
    },
    {
     "data": {
      "text/html": [
       "<pre>recommendations finished on 1000/556591 queries. users per second: 15335.3</pre>"
      ],
      "text/plain": [
       "recommendations finished on 1000/556591 queries. users per second: 15335.3"
      ]
     },
     "metadata": {},
     "output_type": "display_data"
    },
    {
     "data": {
      "text/html": [
       "<pre>recommendations finished on 2000/556591 queries. users per second: 16816.2</pre>"
      ],
      "text/plain": [
       "recommendations finished on 2000/556591 queries. users per second: 16816.2"
      ]
     },
     "metadata": {},
     "output_type": "display_data"
    },
    {
     "data": {
      "text/html": [
       "<pre>recommendations finished on 3000/556591 queries. users per second: 18043.8</pre>"
      ],
      "text/plain": [
       "recommendations finished on 3000/556591 queries. users per second: 18043.8"
      ]
     },
     "metadata": {},
     "output_type": "display_data"
    },
    {
     "data": {
      "text/html": [
       "<pre>recommendations finished on 4000/556591 queries. users per second: 18477.9</pre>"
      ],
      "text/plain": [
       "recommendations finished on 4000/556591 queries. users per second: 18477.9"
      ]
     },
     "metadata": {},
     "output_type": "display_data"
    },
    {
     "data": {
      "text/html": [
       "<pre>recommendations finished on 5000/556591 queries. users per second: 18818.1</pre>"
      ],
      "text/plain": [
       "recommendations finished on 5000/556591 queries. users per second: 18818.1"
      ]
     },
     "metadata": {},
     "output_type": "display_data"
    },
    {
     "data": {
      "text/html": [
       "<pre>recommendations finished on 6000/556591 queries. users per second: 19166</pre>"
      ],
      "text/plain": [
       "recommendations finished on 6000/556591 queries. users per second: 19166"
      ]
     },
     "metadata": {},
     "output_type": "display_data"
    },
    {
     "data": {
      "text/html": [
       "<pre>recommendations finished on 7000/556591 queries. users per second: 19267.5</pre>"
      ],
      "text/plain": [
       "recommendations finished on 7000/556591 queries. users per second: 19267.5"
      ]
     },
     "metadata": {},
     "output_type": "display_data"
    },
    {
     "data": {
      "text/html": [
       "<pre>recommendations finished on 8000/556591 queries. users per second: 19425.5</pre>"
      ],
      "text/plain": [
       "recommendations finished on 8000/556591 queries. users per second: 19425.5"
      ]
     },
     "metadata": {},
     "output_type": "display_data"
    },
    {
     "data": {
      "text/html": [
       "<pre>recommendations finished on 9000/556591 queries. users per second: 19504.8</pre>"
      ],
      "text/plain": [
       "recommendations finished on 9000/556591 queries. users per second: 19504.8"
      ]
     },
     "metadata": {},
     "output_type": "display_data"
    },
    {
     "data": {
      "text/html": [
       "<pre>recommendations finished on 10000/556591 queries. users per second: 19538.5</pre>"
      ],
      "text/plain": [
       "recommendations finished on 10000/556591 queries. users per second: 19538.5"
      ]
     },
     "metadata": {},
     "output_type": "display_data"
    },
    {
     "data": {
      "text/html": [
       "<pre>recommendations finished on 11000/556591 queries. users per second: 19388.2</pre>"
      ],
      "text/plain": [
       "recommendations finished on 11000/556591 queries. users per second: 19388.2"
      ]
     },
     "metadata": {},
     "output_type": "display_data"
    },
    {
     "data": {
      "text/html": [
       "<pre>recommendations finished on 12000/556591 queries. users per second: 19236.8</pre>"
      ],
      "text/plain": [
       "recommendations finished on 12000/556591 queries. users per second: 19236.8"
      ]
     },
     "metadata": {},
     "output_type": "display_data"
    },
    {
     "data": {
      "text/html": [
       "<pre>recommendations finished on 13000/556591 queries. users per second: 19227</pre>"
      ],
      "text/plain": [
       "recommendations finished on 13000/556591 queries. users per second: 19227"
      ]
     },
     "metadata": {},
     "output_type": "display_data"
    },
    {
     "data": {
      "text/html": [
       "<pre>recommendations finished on 14000/556591 queries. users per second: 19270.1</pre>"
      ],
      "text/plain": [
       "recommendations finished on 14000/556591 queries. users per second: 19270.1"
      ]
     },
     "metadata": {},
     "output_type": "display_data"
    },
    {
     "data": {
      "text/html": [
       "<pre>recommendations finished on 15000/556591 queries. users per second: 19235.3</pre>"
      ],
      "text/plain": [
       "recommendations finished on 15000/556591 queries. users per second: 19235.3"
      ]
     },
     "metadata": {},
     "output_type": "display_data"
    },
    {
     "data": {
      "text/html": [
       "<pre>recommendations finished on 16000/556591 queries. users per second: 19425.1</pre>"
      ],
      "text/plain": [
       "recommendations finished on 16000/556591 queries. users per second: 19425.1"
      ]
     },
     "metadata": {},
     "output_type": "display_data"
    },
    {
     "data": {
      "text/html": [
       "<pre>recommendations finished on 17000/556591 queries. users per second: 19634.3</pre>"
      ],
      "text/plain": [
       "recommendations finished on 17000/556591 queries. users per second: 19634.3"
      ]
     },
     "metadata": {},
     "output_type": "display_data"
    },
    {
     "data": {
      "text/html": [
       "<pre>recommendations finished on 18000/556591 queries. users per second: 19795.6</pre>"
      ],
      "text/plain": [
       "recommendations finished on 18000/556591 queries. users per second: 19795.6"
      ]
     },
     "metadata": {},
     "output_type": "display_data"
    },
    {
     "data": {
      "text/html": [
       "<pre>recommendations finished on 19000/556591 queries. users per second: 19908</pre>"
      ],
      "text/plain": [
       "recommendations finished on 19000/556591 queries. users per second: 19908"
      ]
     },
     "metadata": {},
     "output_type": "display_data"
    },
    {
     "data": {
      "text/html": [
       "<pre>recommendations finished on 20000/556591 queries. users per second: 19982.7</pre>"
      ],
      "text/plain": [
       "recommendations finished on 20000/556591 queries. users per second: 19982.7"
      ]
     },
     "metadata": {},
     "output_type": "display_data"
    },
    {
     "data": {
      "text/html": [
       "<pre>recommendations finished on 21000/556591 queries. users per second: 19758.8</pre>"
      ],
      "text/plain": [
       "recommendations finished on 21000/556591 queries. users per second: 19758.8"
      ]
     },
     "metadata": {},
     "output_type": "display_data"
    },
    {
     "data": {
      "text/html": [
       "<pre>recommendations finished on 22000/556591 queries. users per second: 19649.3</pre>"
      ],
      "text/plain": [
       "recommendations finished on 22000/556591 queries. users per second: 19649.3"
      ]
     },
     "metadata": {},
     "output_type": "display_data"
    },
    {
     "data": {
      "text/html": [
       "<pre>recommendations finished on 23000/556591 queries. users per second: 19781.3</pre>"
      ],
      "text/plain": [
       "recommendations finished on 23000/556591 queries. users per second: 19781.3"
      ]
     },
     "metadata": {},
     "output_type": "display_data"
    },
    {
     "data": {
      "text/html": [
       "<pre>recommendations finished on 24000/556591 queries. users per second: 19907.2</pre>"
      ],
      "text/plain": [
       "recommendations finished on 24000/556591 queries. users per second: 19907.2"
      ]
     },
     "metadata": {},
     "output_type": "display_data"
    },
    {
     "data": {
      "text/html": [
       "<pre>recommendations finished on 25000/556591 queries. users per second: 20021.4</pre>"
      ],
      "text/plain": [
       "recommendations finished on 25000/556591 queries. users per second: 20021.4"
      ]
     },
     "metadata": {},
     "output_type": "display_data"
    },
    {
     "data": {
      "text/html": [
       "<pre>recommendations finished on 26000/556591 queries. users per second: 20108.9</pre>"
      ],
      "text/plain": [
       "recommendations finished on 26000/556591 queries. users per second: 20108.9"
      ]
     },
     "metadata": {},
     "output_type": "display_data"
    },
    {
     "data": {
      "text/html": [
       "<pre>recommendations finished on 27000/556591 queries. users per second: 20061.4</pre>"
      ],
      "text/plain": [
       "recommendations finished on 27000/556591 queries. users per second: 20061.4"
      ]
     },
     "metadata": {},
     "output_type": "display_data"
    },
    {
     "data": {
      "text/html": [
       "<pre>recommendations finished on 28000/556591 queries. users per second: 19930.5</pre>"
      ],
      "text/plain": [
       "recommendations finished on 28000/556591 queries. users per second: 19930.5"
      ]
     },
     "metadata": {},
     "output_type": "display_data"
    },
    {
     "data": {
      "text/html": [
       "<pre>recommendations finished on 29000/556591 queries. users per second: 19820.4</pre>"
      ],
      "text/plain": [
       "recommendations finished on 29000/556591 queries. users per second: 19820.4"
      ]
     },
     "metadata": {},
     "output_type": "display_data"
    },
    {
     "data": {
      "text/html": [
       "<pre>recommendations finished on 30000/556591 queries. users per second: 19800.2</pre>"
      ],
      "text/plain": [
       "recommendations finished on 30000/556591 queries. users per second: 19800.2"
      ]
     },
     "metadata": {},
     "output_type": "display_data"
    },
    {
     "data": {
      "text/html": [
       "<pre>recommendations finished on 31000/556591 queries. users per second: 19734</pre>"
      ],
      "text/plain": [
       "recommendations finished on 31000/556591 queries. users per second: 19734"
      ]
     },
     "metadata": {},
     "output_type": "display_data"
    },
    {
     "data": {
      "text/html": [
       "<pre>recommendations finished on 32000/556591 queries. users per second: 19697.7</pre>"
      ],
      "text/plain": [
       "recommendations finished on 32000/556591 queries. users per second: 19697.7"
      ]
     },
     "metadata": {},
     "output_type": "display_data"
    },
    {
     "data": {
      "text/html": [
       "<pre>recommendations finished on 33000/556591 queries. users per second: 19753.8</pre>"
      ],
      "text/plain": [
       "recommendations finished on 33000/556591 queries. users per second: 19753.8"
      ]
     },
     "metadata": {},
     "output_type": "display_data"
    },
    {
     "data": {
      "text/html": [
       "<pre>recommendations finished on 34000/556591 queries. users per second: 19658.6</pre>"
      ],
      "text/plain": [
       "recommendations finished on 34000/556591 queries. users per second: 19658.6"
      ]
     },
     "metadata": {},
     "output_type": "display_data"
    },
    {
     "data": {
      "text/html": [
       "<pre>recommendations finished on 35000/556591 queries. users per second: 19564.9</pre>"
      ],
      "text/plain": [
       "recommendations finished on 35000/556591 queries. users per second: 19564.9"
      ]
     },
     "metadata": {},
     "output_type": "display_data"
    },
    {
     "data": {
      "text/html": [
       "<pre>recommendations finished on 36000/556591 queries. users per second: 19546.2</pre>"
      ],
      "text/plain": [
       "recommendations finished on 36000/556591 queries. users per second: 19546.2"
      ]
     },
     "metadata": {},
     "output_type": "display_data"
    },
    {
     "data": {
      "text/html": [
       "<pre>recommendations finished on 37000/556591 queries. users per second: 19539.1</pre>"
      ],
      "text/plain": [
       "recommendations finished on 37000/556591 queries. users per second: 19539.1"
      ]
     },
     "metadata": {},
     "output_type": "display_data"
    },
    {
     "data": {
      "text/html": [
       "<pre>recommendations finished on 38000/556591 queries. users per second: 19521.4</pre>"
      ],
      "text/plain": [
       "recommendations finished on 38000/556591 queries. users per second: 19521.4"
      ]
     },
     "metadata": {},
     "output_type": "display_data"
    },
    {
     "data": {
      "text/html": [
       "<pre>recommendations finished on 39000/556591 queries. users per second: 19550.9</pre>"
      ],
      "text/plain": [
       "recommendations finished on 39000/556591 queries. users per second: 19550.9"
      ]
     },
     "metadata": {},
     "output_type": "display_data"
    },
    {
     "data": {
      "text/html": [
       "<pre>recommendations finished on 40000/556591 queries. users per second: 19605.1</pre>"
      ],
      "text/plain": [
       "recommendations finished on 40000/556591 queries. users per second: 19605.1"
      ]
     },
     "metadata": {},
     "output_type": "display_data"
    },
    {
     "data": {
      "text/html": [
       "<pre>recommendations finished on 41000/556591 queries. users per second: 19690.6</pre>"
      ],
      "text/plain": [
       "recommendations finished on 41000/556591 queries. users per second: 19690.6"
      ]
     },
     "metadata": {},
     "output_type": "display_data"
    },
    {
     "data": {
      "text/html": [
       "<pre>recommendations finished on 42000/556591 queries. users per second: 19745.3</pre>"
      ],
      "text/plain": [
       "recommendations finished on 42000/556591 queries. users per second: 19745.3"
      ]
     },
     "metadata": {},
     "output_type": "display_data"
    },
    {
     "data": {
      "text/html": [
       "<pre>recommendations finished on 43000/556591 queries. users per second: 19779.8</pre>"
      ],
      "text/plain": [
       "recommendations finished on 43000/556591 queries. users per second: 19779.8"
      ]
     },
     "metadata": {},
     "output_type": "display_data"
    },
    {
     "data": {
      "text/html": [
       "<pre>recommendations finished on 44000/556591 queries. users per second: 19742.5</pre>"
      ],
      "text/plain": [
       "recommendations finished on 44000/556591 queries. users per second: 19742.5"
      ]
     },
     "metadata": {},
     "output_type": "display_data"
    },
    {
     "data": {
      "text/html": [
       "<pre>recommendations finished on 45000/556591 queries. users per second: 19659.4</pre>"
      ],
      "text/plain": [
       "recommendations finished on 45000/556591 queries. users per second: 19659.4"
      ]
     },
     "metadata": {},
     "output_type": "display_data"
    },
    {
     "data": {
      "text/html": [
       "<pre>recommendations finished on 46000/556591 queries. users per second: 19673</pre>"
      ],
      "text/plain": [
       "recommendations finished on 46000/556591 queries. users per second: 19673"
      ]
     },
     "metadata": {},
     "output_type": "display_data"
    },
    {
     "data": {
      "text/html": [
       "<pre>recommendations finished on 47000/556591 queries. users per second: 19656.4</pre>"
      ],
      "text/plain": [
       "recommendations finished on 47000/556591 queries. users per second: 19656.4"
      ]
     },
     "metadata": {},
     "output_type": "display_data"
    },
    {
     "data": {
      "text/html": [
       "<pre>recommendations finished on 48000/556591 queries. users per second: 19603.3</pre>"
      ],
      "text/plain": [
       "recommendations finished on 48000/556591 queries. users per second: 19603.3"
      ]
     },
     "metadata": {},
     "output_type": "display_data"
    },
    {
     "data": {
      "text/html": [
       "<pre>recommendations finished on 49000/556591 queries. users per second: 19589</pre>"
      ],
      "text/plain": [
       "recommendations finished on 49000/556591 queries. users per second: 19589"
      ]
     },
     "metadata": {},
     "output_type": "display_data"
    },
    {
     "data": {
      "text/html": [
       "<pre>recommendations finished on 50000/556591 queries. users per second: 19511.8</pre>"
      ],
      "text/plain": [
       "recommendations finished on 50000/556591 queries. users per second: 19511.8"
      ]
     },
     "metadata": {},
     "output_type": "display_data"
    },
    {
     "data": {
      "text/html": [
       "<pre>recommendations finished on 51000/556591 queries. users per second: 19493.3</pre>"
      ],
      "text/plain": [
       "recommendations finished on 51000/556591 queries. users per second: 19493.3"
      ]
     },
     "metadata": {},
     "output_type": "display_data"
    },
    {
     "data": {
      "text/html": [
       "<pre>recommendations finished on 52000/556591 queries. users per second: 19482.6</pre>"
      ],
      "text/plain": [
       "recommendations finished on 52000/556591 queries. users per second: 19482.6"
      ]
     },
     "metadata": {},
     "output_type": "display_data"
    },
    {
     "data": {
      "text/html": [
       "<pre>recommendations finished on 53000/556591 queries. users per second: 19537</pre>"
      ],
      "text/plain": [
       "recommendations finished on 53000/556591 queries. users per second: 19537"
      ]
     },
     "metadata": {},
     "output_type": "display_data"
    },
    {
     "data": {
      "text/html": [
       "<pre>recommendations finished on 54000/556591 queries. users per second: 19569.4</pre>"
      ],
      "text/plain": [
       "recommendations finished on 54000/556591 queries. users per second: 19569.4"
      ]
     },
     "metadata": {},
     "output_type": "display_data"
    },
    {
     "data": {
      "text/html": [
       "<pre>recommendations finished on 55000/556591 queries. users per second: 19596.7</pre>"
      ],
      "text/plain": [
       "recommendations finished on 55000/556591 queries. users per second: 19596.7"
      ]
     },
     "metadata": {},
     "output_type": "display_data"
    },
    {
     "data": {
      "text/html": [
       "<pre>recommendations finished on 56000/556591 queries. users per second: 19626.5</pre>"
      ],
      "text/plain": [
       "recommendations finished on 56000/556591 queries. users per second: 19626.5"
      ]
     },
     "metadata": {},
     "output_type": "display_data"
    },
    {
     "data": {
      "text/html": [
       "<pre>recommendations finished on 57000/556591 queries. users per second: 19685.5</pre>"
      ],
      "text/plain": [
       "recommendations finished on 57000/556591 queries. users per second: 19685.5"
      ]
     },
     "metadata": {},
     "output_type": "display_data"
    },
    {
     "data": {
      "text/html": [
       "<pre>recommendations finished on 58000/556591 queries. users per second: 19738.7</pre>"
      ],
      "text/plain": [
       "recommendations finished on 58000/556591 queries. users per second: 19738.7"
      ]
     },
     "metadata": {},
     "output_type": "display_data"
    },
    {
     "data": {
      "text/html": [
       "<pre>recommendations finished on 59000/556591 queries. users per second: 19780</pre>"
      ],
      "text/plain": [
       "recommendations finished on 59000/556591 queries. users per second: 19780"
      ]
     },
     "metadata": {},
     "output_type": "display_data"
    },
    {
     "data": {
      "text/html": [
       "<pre>recommendations finished on 60000/556591 queries. users per second: 19836.7</pre>"
      ],
      "text/plain": [
       "recommendations finished on 60000/556591 queries. users per second: 19836.7"
      ]
     },
     "metadata": {},
     "output_type": "display_data"
    },
    {
     "data": {
      "text/html": [
       "<pre>recommendations finished on 61000/556591 queries. users per second: 19888.9</pre>"
      ],
      "text/plain": [
       "recommendations finished on 61000/556591 queries. users per second: 19888.9"
      ]
     },
     "metadata": {},
     "output_type": "display_data"
    },
    {
     "data": {
      "text/html": [
       "<pre>recommendations finished on 62000/556591 queries. users per second: 19937.2</pre>"
      ],
      "text/plain": [
       "recommendations finished on 62000/556591 queries. users per second: 19937.2"
      ]
     },
     "metadata": {},
     "output_type": "display_data"
    },
    {
     "data": {
      "text/html": [
       "<pre>recommendations finished on 63000/556591 queries. users per second: 19978.7</pre>"
      ],
      "text/plain": [
       "recommendations finished on 63000/556591 queries. users per second: 19978.7"
      ]
     },
     "metadata": {},
     "output_type": "display_data"
    },
    {
     "data": {
      "text/html": [
       "<pre>recommendations finished on 64000/556591 queries. users per second: 20009.8</pre>"
      ],
      "text/plain": [
       "recommendations finished on 64000/556591 queries. users per second: 20009.8"
      ]
     },
     "metadata": {},
     "output_type": "display_data"
    },
    {
     "data": {
      "text/html": [
       "<pre>recommendations finished on 65000/556591 queries. users per second: 20022.5</pre>"
      ],
      "text/plain": [
       "recommendations finished on 65000/556591 queries. users per second: 20022.5"
      ]
     },
     "metadata": {},
     "output_type": "display_data"
    },
    {
     "data": {
      "text/html": [
       "<pre>recommendations finished on 66000/556591 queries. users per second: 20041.5</pre>"
      ],
      "text/plain": [
       "recommendations finished on 66000/556591 queries. users per second: 20041.5"
      ]
     },
     "metadata": {},
     "output_type": "display_data"
    },
    {
     "data": {
      "text/html": [
       "<pre>recommendations finished on 67000/556591 queries. users per second: 20066.1</pre>"
      ],
      "text/plain": [
       "recommendations finished on 67000/556591 queries. users per second: 20066.1"
      ]
     },
     "metadata": {},
     "output_type": "display_data"
    },
    {
     "data": {
      "text/html": [
       "<pre>recommendations finished on 68000/556591 queries. users per second: 20081.3</pre>"
      ],
      "text/plain": [
       "recommendations finished on 68000/556591 queries. users per second: 20081.3"
      ]
     },
     "metadata": {},
     "output_type": "display_data"
    },
    {
     "data": {
      "text/html": [
       "<pre>recommendations finished on 69000/556591 queries. users per second: 20095</pre>"
      ],
      "text/plain": [
       "recommendations finished on 69000/556591 queries. users per second: 20095"
      ]
     },
     "metadata": {},
     "output_type": "display_data"
    },
    {
     "data": {
      "text/html": [
       "<pre>recommendations finished on 70000/556591 queries. users per second: 20139.1</pre>"
      ],
      "text/plain": [
       "recommendations finished on 70000/556591 queries. users per second: 20139.1"
      ]
     },
     "metadata": {},
     "output_type": "display_data"
    },
    {
     "data": {
      "text/html": [
       "<pre>recommendations finished on 71000/556591 queries. users per second: 20179</pre>"
      ],
      "text/plain": [
       "recommendations finished on 71000/556591 queries. users per second: 20179"
      ]
     },
     "metadata": {},
     "output_type": "display_data"
    },
    {
     "data": {
      "text/html": [
       "<pre>recommendations finished on 72000/556591 queries. users per second: 20219.5</pre>"
      ],
      "text/plain": [
       "recommendations finished on 72000/556591 queries. users per second: 20219.5"
      ]
     },
     "metadata": {},
     "output_type": "display_data"
    },
    {
     "data": {
      "text/html": [
       "<pre>recommendations finished on 73000/556591 queries. users per second: 20255.1</pre>"
      ],
      "text/plain": [
       "recommendations finished on 73000/556591 queries. users per second: 20255.1"
      ]
     },
     "metadata": {},
     "output_type": "display_data"
    },
    {
     "data": {
      "text/html": [
       "<pre>recommendations finished on 74000/556591 queries. users per second: 20292.8</pre>"
      ],
      "text/plain": [
       "recommendations finished on 74000/556591 queries. users per second: 20292.8"
      ]
     },
     "metadata": {},
     "output_type": "display_data"
    },
    {
     "data": {
      "text/html": [
       "<pre>recommendations finished on 75000/556591 queries. users per second: 20326.7</pre>"
      ],
      "text/plain": [
       "recommendations finished on 75000/556591 queries. users per second: 20326.7"
      ]
     },
     "metadata": {},
     "output_type": "display_data"
    },
    {
     "data": {
      "text/html": [
       "<pre>recommendations finished on 76000/556591 queries. users per second: 20362</pre>"
      ],
      "text/plain": [
       "recommendations finished on 76000/556591 queries. users per second: 20362"
      ]
     },
     "metadata": {},
     "output_type": "display_data"
    },
    {
     "data": {
      "text/html": [
       "<pre>recommendations finished on 77000/556591 queries. users per second: 20376.8</pre>"
      ],
      "text/plain": [
       "recommendations finished on 77000/556591 queries. users per second: 20376.8"
      ]
     },
     "metadata": {},
     "output_type": "display_data"
    },
    {
     "data": {
      "text/html": [
       "<pre>recommendations finished on 78000/556591 queries. users per second: 20386.5</pre>"
      ],
      "text/plain": [
       "recommendations finished on 78000/556591 queries. users per second: 20386.5"
      ]
     },
     "metadata": {},
     "output_type": "display_data"
    },
    {
     "data": {
      "text/html": [
       "<pre>recommendations finished on 79000/556591 queries. users per second: 20388</pre>"
      ],
      "text/plain": [
       "recommendations finished on 79000/556591 queries. users per second: 20388"
      ]
     },
     "metadata": {},
     "output_type": "display_data"
    },
    {
     "data": {
      "text/html": [
       "<pre>recommendations finished on 80000/556591 queries. users per second: 20417.4</pre>"
      ],
      "text/plain": [
       "recommendations finished on 80000/556591 queries. users per second: 20417.4"
      ]
     },
     "metadata": {},
     "output_type": "display_data"
    },
    {
     "data": {
      "text/html": [
       "<pre>recommendations finished on 81000/556591 queries. users per second: 20455.1</pre>"
      ],
      "text/plain": [
       "recommendations finished on 81000/556591 queries. users per second: 20455.1"
      ]
     },
     "metadata": {},
     "output_type": "display_data"
    },
    {
     "data": {
      "text/html": [
       "<pre>recommendations finished on 82000/556591 queries. users per second: 20481.8</pre>"
      ],
      "text/plain": [
       "recommendations finished on 82000/556591 queries. users per second: 20481.8"
      ]
     },
     "metadata": {},
     "output_type": "display_data"
    },
    {
     "data": {
      "text/html": [
       "<pre>recommendations finished on 83000/556591 queries. users per second: 20512.7</pre>"
      ],
      "text/plain": [
       "recommendations finished on 83000/556591 queries. users per second: 20512.7"
      ]
     },
     "metadata": {},
     "output_type": "display_data"
    },
    {
     "data": {
      "text/html": [
       "<pre>recommendations finished on 84000/556591 queries. users per second: 20547.4</pre>"
      ],
      "text/plain": [
       "recommendations finished on 84000/556591 queries. users per second: 20547.4"
      ]
     },
     "metadata": {},
     "output_type": "display_data"
    },
    {
     "data": {
      "text/html": [
       "<pre>recommendations finished on 85000/556591 queries. users per second: 20577.2</pre>"
      ],
      "text/plain": [
       "recommendations finished on 85000/556591 queries. users per second: 20577.2"
      ]
     },
     "metadata": {},
     "output_type": "display_data"
    },
    {
     "data": {
      "text/html": [
       "<pre>recommendations finished on 86000/556591 queries. users per second: 20604.4</pre>"
      ],
      "text/plain": [
       "recommendations finished on 86000/556591 queries. users per second: 20604.4"
      ]
     },
     "metadata": {},
     "output_type": "display_data"
    },
    {
     "data": {
      "text/html": [
       "<pre>recommendations finished on 87000/556591 queries. users per second: 20637.7</pre>"
      ],
      "text/plain": [
       "recommendations finished on 87000/556591 queries. users per second: 20637.7"
      ]
     },
     "metadata": {},
     "output_type": "display_data"
    },
    {
     "data": {
      "text/html": [
       "<pre>recommendations finished on 88000/556591 queries. users per second: 20665.5</pre>"
      ],
      "text/plain": [
       "recommendations finished on 88000/556591 queries. users per second: 20665.5"
      ]
     },
     "metadata": {},
     "output_type": "display_data"
    },
    {
     "data": {
      "text/html": [
       "<pre>recommendations finished on 89000/556591 queries. users per second: 20695</pre>"
      ],
      "text/plain": [
       "recommendations finished on 89000/556591 queries. users per second: 20695"
      ]
     },
     "metadata": {},
     "output_type": "display_data"
    },
    {
     "data": {
      "text/html": [
       "<pre>recommendations finished on 90000/556591 queries. users per second: 20725.3</pre>"
      ],
      "text/plain": [
       "recommendations finished on 90000/556591 queries. users per second: 20725.3"
      ]
     },
     "metadata": {},
     "output_type": "display_data"
    },
    {
     "data": {
      "text/html": [
       "<pre>recommendations finished on 91000/556591 queries. users per second: 20750.2</pre>"
      ],
      "text/plain": [
       "recommendations finished on 91000/556591 queries. users per second: 20750.2"
      ]
     },
     "metadata": {},
     "output_type": "display_data"
    },
    {
     "data": {
      "text/html": [
       "<pre>recommendations finished on 92000/556591 queries. users per second: 20777.6</pre>"
      ],
      "text/plain": [
       "recommendations finished on 92000/556591 queries. users per second: 20777.6"
      ]
     },
     "metadata": {},
     "output_type": "display_data"
    },
    {
     "data": {
      "text/html": [
       "<pre>recommendations finished on 93000/556591 queries. users per second: 20805.3</pre>"
      ],
      "text/plain": [
       "recommendations finished on 93000/556591 queries. users per second: 20805.3"
      ]
     },
     "metadata": {},
     "output_type": "display_data"
    },
    {
     "data": {
      "text/html": [
       "<pre>recommendations finished on 94000/556591 queries. users per second: 20833</pre>"
      ],
      "text/plain": [
       "recommendations finished on 94000/556591 queries. users per second: 20833"
      ]
     },
     "metadata": {},
     "output_type": "display_data"
    },
    {
     "data": {
      "text/html": [
       "<pre>recommendations finished on 95000/556591 queries. users per second: 20859.4</pre>"
      ],
      "text/plain": [
       "recommendations finished on 95000/556591 queries. users per second: 20859.4"
      ]
     },
     "metadata": {},
     "output_type": "display_data"
    },
    {
     "data": {
      "text/html": [
       "<pre>recommendations finished on 96000/556591 queries. users per second: 20884.2</pre>"
      ],
      "text/plain": [
       "recommendations finished on 96000/556591 queries. users per second: 20884.2"
      ]
     },
     "metadata": {},
     "output_type": "display_data"
    },
    {
     "data": {
      "text/html": [
       "<pre>recommendations finished on 97000/556591 queries. users per second: 20911.8</pre>"
      ],
      "text/plain": [
       "recommendations finished on 97000/556591 queries. users per second: 20911.8"
      ]
     },
     "metadata": {},
     "output_type": "display_data"
    },
    {
     "data": {
      "text/html": [
       "<pre>recommendations finished on 98000/556591 queries. users per second: 20934.6</pre>"
      ],
      "text/plain": [
       "recommendations finished on 98000/556591 queries. users per second: 20934.6"
      ]
     },
     "metadata": {},
     "output_type": "display_data"
    },
    {
     "data": {
      "text/html": [
       "<pre>recommendations finished on 99000/556591 queries. users per second: 20958.2</pre>"
      ],
      "text/plain": [
       "recommendations finished on 99000/556591 queries. users per second: 20958.2"
      ]
     },
     "metadata": {},
     "output_type": "display_data"
    },
    {
     "data": {
      "text/html": [
       "<pre>recommendations finished on 100000/556591 queries. users per second: 20977.9</pre>"
      ],
      "text/plain": [
       "recommendations finished on 100000/556591 queries. users per second: 20977.9"
      ]
     },
     "metadata": {},
     "output_type": "display_data"
    },
    {
     "data": {
      "text/html": [
       "<pre>recommendations finished on 101000/556591 queries. users per second: 20975.6</pre>"
      ],
      "text/plain": [
       "recommendations finished on 101000/556591 queries. users per second: 20975.6"
      ]
     },
     "metadata": {},
     "output_type": "display_data"
    },
    {
     "data": {
      "text/html": [
       "<pre>recommendations finished on 102000/556591 queries. users per second: 21001.3</pre>"
      ],
      "text/plain": [
       "recommendations finished on 102000/556591 queries. users per second: 21001.3"
      ]
     },
     "metadata": {},
     "output_type": "display_data"
    },
    {
     "data": {
      "text/html": [
       "<pre>recommendations finished on 103000/556591 queries. users per second: 21018.5</pre>"
      ],
      "text/plain": [
       "recommendations finished on 103000/556591 queries. users per second: 21018.5"
      ]
     },
     "metadata": {},
     "output_type": "display_data"
    },
    {
     "data": {
      "text/html": [
       "<pre>recommendations finished on 104000/556591 queries. users per second: 21036.7</pre>"
      ],
      "text/plain": [
       "recommendations finished on 104000/556591 queries. users per second: 21036.7"
      ]
     },
     "metadata": {},
     "output_type": "display_data"
    },
    {
     "data": {
      "text/html": [
       "<pre>recommendations finished on 105000/556591 queries. users per second: 21056.9</pre>"
      ],
      "text/plain": [
       "recommendations finished on 105000/556591 queries. users per second: 21056.9"
      ]
     },
     "metadata": {},
     "output_type": "display_data"
    },
    {
     "data": {
      "text/html": [
       "<pre>recommendations finished on 106000/556591 queries. users per second: 21073.7</pre>"
      ],
      "text/plain": [
       "recommendations finished on 106000/556591 queries. users per second: 21073.7"
      ]
     },
     "metadata": {},
     "output_type": "display_data"
    },
    {
     "data": {
      "text/html": [
       "<pre>recommendations finished on 107000/556591 queries. users per second: 21093.4</pre>"
      ],
      "text/plain": [
       "recommendations finished on 107000/556591 queries. users per second: 21093.4"
      ]
     },
     "metadata": {},
     "output_type": "display_data"
    },
    {
     "data": {
      "text/html": [
       "<pre>recommendations finished on 108000/556591 queries. users per second: 21105.4</pre>"
      ],
      "text/plain": [
       "recommendations finished on 108000/556591 queries. users per second: 21105.4"
      ]
     },
     "metadata": {},
     "output_type": "display_data"
    },
    {
     "data": {
      "text/html": [
       "<pre>recommendations finished on 109000/556591 queries. users per second: 21122.6</pre>"
      ],
      "text/plain": [
       "recommendations finished on 109000/556591 queries. users per second: 21122.6"
      ]
     },
     "metadata": {},
     "output_type": "display_data"
    },
    {
     "data": {
      "text/html": [
       "<pre>recommendations finished on 110000/556591 queries. users per second: 21140.3</pre>"
      ],
      "text/plain": [
       "recommendations finished on 110000/556591 queries. users per second: 21140.3"
      ]
     },
     "metadata": {},
     "output_type": "display_data"
    },
    {
     "data": {
      "text/html": [
       "<pre>recommendations finished on 111000/556591 queries. users per second: 21164.6</pre>"
      ],
      "text/plain": [
       "recommendations finished on 111000/556591 queries. users per second: 21164.6"
      ]
     },
     "metadata": {},
     "output_type": "display_data"
    },
    {
     "data": {
      "text/html": [
       "<pre>recommendations finished on 112000/556591 queries. users per second: 21178.1</pre>"
      ],
      "text/plain": [
       "recommendations finished on 112000/556591 queries. users per second: 21178.1"
      ]
     },
     "metadata": {},
     "output_type": "display_data"
    },
    {
     "data": {
      "text/html": [
       "<pre>recommendations finished on 113000/556591 queries. users per second: 21194.8</pre>"
      ],
      "text/plain": [
       "recommendations finished on 113000/556591 queries. users per second: 21194.8"
      ]
     },
     "metadata": {},
     "output_type": "display_data"
    },
    {
     "data": {
      "text/html": [
       "<pre>recommendations finished on 114000/556591 queries. users per second: 21213.8</pre>"
      ],
      "text/plain": [
       "recommendations finished on 114000/556591 queries. users per second: 21213.8"
      ]
     },
     "metadata": {},
     "output_type": "display_data"
    },
    {
     "data": {
      "text/html": [
       "<pre>recommendations finished on 115000/556591 queries. users per second: 21230.7</pre>"
      ],
      "text/plain": [
       "recommendations finished on 115000/556591 queries. users per second: 21230.7"
      ]
     },
     "metadata": {},
     "output_type": "display_data"
    },
    {
     "data": {
      "text/html": [
       "<pre>recommendations finished on 116000/556591 queries. users per second: 21249.6</pre>"
      ],
      "text/plain": [
       "recommendations finished on 116000/556591 queries. users per second: 21249.6"
      ]
     },
     "metadata": {},
     "output_type": "display_data"
    },
    {
     "data": {
      "text/html": [
       "<pre>recommendations finished on 117000/556591 queries. users per second: 21268.2</pre>"
      ],
      "text/plain": [
       "recommendations finished on 117000/556591 queries. users per second: 21268.2"
      ]
     },
     "metadata": {},
     "output_type": "display_data"
    },
    {
     "data": {
      "text/html": [
       "<pre>recommendations finished on 118000/556591 queries. users per second: 21286.1</pre>"
      ],
      "text/plain": [
       "recommendations finished on 118000/556591 queries. users per second: 21286.1"
      ]
     },
     "metadata": {},
     "output_type": "display_data"
    },
    {
     "data": {
      "text/html": [
       "<pre>recommendations finished on 119000/556591 queries. users per second: 21301.1</pre>"
      ],
      "text/plain": [
       "recommendations finished on 119000/556591 queries. users per second: 21301.1"
      ]
     },
     "metadata": {},
     "output_type": "display_data"
    },
    {
     "data": {
      "text/html": [
       "<pre>recommendations finished on 120000/556591 queries. users per second: 21317.9</pre>"
      ],
      "text/plain": [
       "recommendations finished on 120000/556591 queries. users per second: 21317.9"
      ]
     },
     "metadata": {},
     "output_type": "display_data"
    },
    {
     "data": {
      "text/html": [
       "<pre>recommendations finished on 121000/556591 queries. users per second: 21336.2</pre>"
      ],
      "text/plain": [
       "recommendations finished on 121000/556591 queries. users per second: 21336.2"
      ]
     },
     "metadata": {},
     "output_type": "display_data"
    },
    {
     "data": {
      "text/html": [
       "<pre>recommendations finished on 122000/556591 queries. users per second: 21350.6</pre>"
      ],
      "text/plain": [
       "recommendations finished on 122000/556591 queries. users per second: 21350.6"
      ]
     },
     "metadata": {},
     "output_type": "display_data"
    },
    {
     "data": {
      "text/html": [
       "<pre>recommendations finished on 123000/556591 queries. users per second: 21361.4</pre>"
      ],
      "text/plain": [
       "recommendations finished on 123000/556591 queries. users per second: 21361.4"
      ]
     },
     "metadata": {},
     "output_type": "display_data"
    },
    {
     "data": {
      "text/html": [
       "<pre>recommendations finished on 124000/556591 queries. users per second: 21374.4</pre>"
      ],
      "text/plain": [
       "recommendations finished on 124000/556591 queries. users per second: 21374.4"
      ]
     },
     "metadata": {},
     "output_type": "display_data"
    },
    {
     "data": {
      "text/html": [
       "<pre>recommendations finished on 125000/556591 queries. users per second: 21381.8</pre>"
      ],
      "text/plain": [
       "recommendations finished on 125000/556591 queries. users per second: 21381.8"
      ]
     },
     "metadata": {},
     "output_type": "display_data"
    },
    {
     "data": {
      "text/html": [
       "<pre>recommendations finished on 126000/556591 queries. users per second: 21398</pre>"
      ],
      "text/plain": [
       "recommendations finished on 126000/556591 queries. users per second: 21398"
      ]
     },
     "metadata": {},
     "output_type": "display_data"
    },
    {
     "data": {
      "text/html": [
       "<pre>recommendations finished on 127000/556591 queries. users per second: 21411.8</pre>"
      ],
      "text/plain": [
       "recommendations finished on 127000/556591 queries. users per second: 21411.8"
      ]
     },
     "metadata": {},
     "output_type": "display_data"
    },
    {
     "data": {
      "text/html": [
       "<pre>recommendations finished on 128000/556591 queries. users per second: 21425.9</pre>"
      ],
      "text/plain": [
       "recommendations finished on 128000/556591 queries. users per second: 21425.9"
      ]
     },
     "metadata": {},
     "output_type": "display_data"
    },
    {
     "data": {
      "text/html": [
       "<pre>recommendations finished on 129000/556591 queries. users per second: 21439.1</pre>"
      ],
      "text/plain": [
       "recommendations finished on 129000/556591 queries. users per second: 21439.1"
      ]
     },
     "metadata": {},
     "output_type": "display_data"
    },
    {
     "data": {
      "text/html": [
       "<pre>recommendations finished on 130000/556591 queries. users per second: 21454.3</pre>"
      ],
      "text/plain": [
       "recommendations finished on 130000/556591 queries. users per second: 21454.3"
      ]
     },
     "metadata": {},
     "output_type": "display_data"
    },
    {
     "data": {
      "text/html": [
       "<pre>recommendations finished on 131000/556591 queries. users per second: 21461.2</pre>"
      ],
      "text/plain": [
       "recommendations finished on 131000/556591 queries. users per second: 21461.2"
      ]
     },
     "metadata": {},
     "output_type": "display_data"
    },
    {
     "data": {
      "text/html": [
       "<pre>recommendations finished on 132000/556591 queries. users per second: 21476.1</pre>"
      ],
      "text/plain": [
       "recommendations finished on 132000/556591 queries. users per second: 21476.1"
      ]
     },
     "metadata": {},
     "output_type": "display_data"
    },
    {
     "data": {
      "text/html": [
       "<pre>recommendations finished on 133000/556591 queries. users per second: 21491.1</pre>"
      ],
      "text/plain": [
       "recommendations finished on 133000/556591 queries. users per second: 21491.1"
      ]
     },
     "metadata": {},
     "output_type": "display_data"
    },
    {
     "data": {
      "text/html": [
       "<pre>recommendations finished on 134000/556591 queries. users per second: 21505.1</pre>"
      ],
      "text/plain": [
       "recommendations finished on 134000/556591 queries. users per second: 21505.1"
      ]
     },
     "metadata": {},
     "output_type": "display_data"
    },
    {
     "data": {
      "text/html": [
       "<pre>recommendations finished on 135000/556591 queries. users per second: 21507.1</pre>"
      ],
      "text/plain": [
       "recommendations finished on 135000/556591 queries. users per second: 21507.1"
      ]
     },
     "metadata": {},
     "output_type": "display_data"
    },
    {
     "data": {
      "text/html": [
       "<pre>recommendations finished on 136000/556591 queries. users per second: 21477.9</pre>"
      ],
      "text/plain": [
       "recommendations finished on 136000/556591 queries. users per second: 21477.9"
      ]
     },
     "metadata": {},
     "output_type": "display_data"
    },
    {
     "data": {
      "text/html": [
       "<pre>recommendations finished on 137000/556591 queries. users per second: 21418.2</pre>"
      ],
      "text/plain": [
       "recommendations finished on 137000/556591 queries. users per second: 21418.2"
      ]
     },
     "metadata": {},
     "output_type": "display_data"
    },
    {
     "data": {
      "text/html": [
       "<pre>recommendations finished on 138000/556591 queries. users per second: 21353</pre>"
      ],
      "text/plain": [
       "recommendations finished on 138000/556591 queries. users per second: 21353"
      ]
     },
     "metadata": {},
     "output_type": "display_data"
    },
    {
     "data": {
      "text/html": [
       "<pre>recommendations finished on 139000/556591 queries. users per second: 21323.5</pre>"
      ],
      "text/plain": [
       "recommendations finished on 139000/556591 queries. users per second: 21323.5"
      ]
     },
     "metadata": {},
     "output_type": "display_data"
    },
    {
     "data": {
      "text/html": [
       "<pre>recommendations finished on 140000/556591 queries. users per second: 21279.2</pre>"
      ],
      "text/plain": [
       "recommendations finished on 140000/556591 queries. users per second: 21279.2"
      ]
     },
     "metadata": {},
     "output_type": "display_data"
    },
    {
     "data": {
      "text/html": [
       "<pre>recommendations finished on 141000/556591 queries. users per second: 21248.1</pre>"
      ],
      "text/plain": [
       "recommendations finished on 141000/556591 queries. users per second: 21248.1"
      ]
     },
     "metadata": {},
     "output_type": "display_data"
    },
    {
     "data": {
      "text/html": [
       "<pre>recommendations finished on 142000/556591 queries. users per second: 21220</pre>"
      ],
      "text/plain": [
       "recommendations finished on 142000/556591 queries. users per second: 21220"
      ]
     },
     "metadata": {},
     "output_type": "display_data"
    },
    {
     "data": {
      "text/html": [
       "<pre>recommendations finished on 143000/556591 queries. users per second: 21198.3</pre>"
      ],
      "text/plain": [
       "recommendations finished on 143000/556591 queries. users per second: 21198.3"
      ]
     },
     "metadata": {},
     "output_type": "display_data"
    },
    {
     "data": {
      "text/html": [
       "<pre>recommendations finished on 144000/556591 queries. users per second: 21170.4</pre>"
      ],
      "text/plain": [
       "recommendations finished on 144000/556591 queries. users per second: 21170.4"
      ]
     },
     "metadata": {},
     "output_type": "display_data"
    },
    {
     "data": {
      "text/html": [
       "<pre>recommendations finished on 145000/556591 queries. users per second: 21137.8</pre>"
      ],
      "text/plain": [
       "recommendations finished on 145000/556591 queries. users per second: 21137.8"
      ]
     },
     "metadata": {},
     "output_type": "display_data"
    },
    {
     "data": {
      "text/html": [
       "<pre>recommendations finished on 146000/556591 queries. users per second: 21110.5</pre>"
      ],
      "text/plain": [
       "recommendations finished on 146000/556591 queries. users per second: 21110.5"
      ]
     },
     "metadata": {},
     "output_type": "display_data"
    },
    {
     "data": {
      "text/html": [
       "<pre>recommendations finished on 147000/556591 queries. users per second: 21099</pre>"
      ],
      "text/plain": [
       "recommendations finished on 147000/556591 queries. users per second: 21099"
      ]
     },
     "metadata": {},
     "output_type": "display_data"
    },
    {
     "data": {
      "text/html": [
       "<pre>recommendations finished on 148000/556591 queries. users per second: 21075.8</pre>"
      ],
      "text/plain": [
       "recommendations finished on 148000/556591 queries. users per second: 21075.8"
      ]
     },
     "metadata": {},
     "output_type": "display_data"
    },
    {
     "data": {
      "text/html": [
       "<pre>recommendations finished on 149000/556591 queries. users per second: 21048.8</pre>"
      ],
      "text/plain": [
       "recommendations finished on 149000/556591 queries. users per second: 21048.8"
      ]
     },
     "metadata": {},
     "output_type": "display_data"
    },
    {
     "data": {
      "text/html": [
       "<pre>recommendations finished on 150000/556591 queries. users per second: 20986.4</pre>"
      ],
      "text/plain": [
       "recommendations finished on 150000/556591 queries. users per second: 20986.4"
      ]
     },
     "metadata": {},
     "output_type": "display_data"
    },
    {
     "data": {
      "text/html": [
       "<pre>recommendations finished on 151000/556591 queries. users per second: 20951.8</pre>"
      ],
      "text/plain": [
       "recommendations finished on 151000/556591 queries. users per second: 20951.8"
      ]
     },
     "metadata": {},
     "output_type": "display_data"
    },
    {
     "data": {
      "text/html": [
       "<pre>recommendations finished on 152000/556591 queries. users per second: 20938.5</pre>"
      ],
      "text/plain": [
       "recommendations finished on 152000/556591 queries. users per second: 20938.5"
      ]
     },
     "metadata": {},
     "output_type": "display_data"
    },
    {
     "data": {
      "text/html": [
       "<pre>recommendations finished on 153000/556591 queries. users per second: 20929</pre>"
      ],
      "text/plain": [
       "recommendations finished on 153000/556591 queries. users per second: 20929"
      ]
     },
     "metadata": {},
     "output_type": "display_data"
    },
    {
     "data": {
      "text/html": [
       "<pre>recommendations finished on 154000/556591 queries. users per second: 20942.5</pre>"
      ],
      "text/plain": [
       "recommendations finished on 154000/556591 queries. users per second: 20942.5"
      ]
     },
     "metadata": {},
     "output_type": "display_data"
    },
    {
     "data": {
      "text/html": [
       "<pre>recommendations finished on 155000/556591 queries. users per second: 20958.4</pre>"
      ],
      "text/plain": [
       "recommendations finished on 155000/556591 queries. users per second: 20958.4"
      ]
     },
     "metadata": {},
     "output_type": "display_data"
    },
    {
     "data": {
      "text/html": [
       "<pre>recommendations finished on 156000/556591 queries. users per second: 20967.1</pre>"
      ],
      "text/plain": [
       "recommendations finished on 156000/556591 queries. users per second: 20967.1"
      ]
     },
     "metadata": {},
     "output_type": "display_data"
    },
    {
     "data": {
      "text/html": [
       "<pre>recommendations finished on 157000/556591 queries. users per second: 20979</pre>"
      ],
      "text/plain": [
       "recommendations finished on 157000/556591 queries. users per second: 20979"
      ]
     },
     "metadata": {},
     "output_type": "display_data"
    },
    {
     "data": {
      "text/html": [
       "<pre>recommendations finished on 158000/556591 queries. users per second: 20989.1</pre>"
      ],
      "text/plain": [
       "recommendations finished on 158000/556591 queries. users per second: 20989.1"
      ]
     },
     "metadata": {},
     "output_type": "display_data"
    },
    {
     "data": {
      "text/html": [
       "<pre>recommendations finished on 159000/556591 queries. users per second: 21000.4</pre>"
      ],
      "text/plain": [
       "recommendations finished on 159000/556591 queries. users per second: 21000.4"
      ]
     },
     "metadata": {},
     "output_type": "display_data"
    },
    {
     "data": {
      "text/html": [
       "<pre>recommendations finished on 160000/556591 queries. users per second: 21014.8</pre>"
      ],
      "text/plain": [
       "recommendations finished on 160000/556591 queries. users per second: 21014.8"
      ]
     },
     "metadata": {},
     "output_type": "display_data"
    },
    {
     "data": {
      "text/html": [
       "<pre>recommendations finished on 161000/556591 queries. users per second: 21022.3</pre>"
      ],
      "text/plain": [
       "recommendations finished on 161000/556591 queries. users per second: 21022.3"
      ]
     },
     "metadata": {},
     "output_type": "display_data"
    },
    {
     "data": {
      "text/html": [
       "<pre>recommendations finished on 162000/556591 queries. users per second: 21036.3</pre>"
      ],
      "text/plain": [
       "recommendations finished on 162000/556591 queries. users per second: 21036.3"
      ]
     },
     "metadata": {},
     "output_type": "display_data"
    },
    {
     "data": {
      "text/html": [
       "<pre>recommendations finished on 163000/556591 queries. users per second: 21047.3</pre>"
      ],
      "text/plain": [
       "recommendations finished on 163000/556591 queries. users per second: 21047.3"
      ]
     },
     "metadata": {},
     "output_type": "display_data"
    },
    {
     "data": {
      "text/html": [
       "<pre>recommendations finished on 164000/556591 queries. users per second: 21055.5</pre>"
      ],
      "text/plain": [
       "recommendations finished on 164000/556591 queries. users per second: 21055.5"
      ]
     },
     "metadata": {},
     "output_type": "display_data"
    },
    {
     "data": {
      "text/html": [
       "<pre>recommendations finished on 165000/556591 queries. users per second: 21044.4</pre>"
      ],
      "text/plain": [
       "recommendations finished on 165000/556591 queries. users per second: 21044.4"
      ]
     },
     "metadata": {},
     "output_type": "display_data"
    },
    {
     "data": {
      "text/html": [
       "<pre>recommendations finished on 166000/556591 queries. users per second: 21019.5</pre>"
      ],
      "text/plain": [
       "recommendations finished on 166000/556591 queries. users per second: 21019.5"
      ]
     },
     "metadata": {},
     "output_type": "display_data"
    },
    {
     "data": {
      "text/html": [
       "<pre>recommendations finished on 167000/556591 queries. users per second: 20961.1</pre>"
      ],
      "text/plain": [
       "recommendations finished on 167000/556591 queries. users per second: 20961.1"
      ]
     },
     "metadata": {},
     "output_type": "display_data"
    },
    {
     "data": {
      "text/html": [
       "<pre>recommendations finished on 168000/556591 queries. users per second: 20929.7</pre>"
      ],
      "text/plain": [
       "recommendations finished on 168000/556591 queries. users per second: 20929.7"
      ]
     },
     "metadata": {},
     "output_type": "display_data"
    },
    {
     "data": {
      "text/html": [
       "<pre>recommendations finished on 169000/556591 queries. users per second: 20934.8</pre>"
      ],
      "text/plain": [
       "recommendations finished on 169000/556591 queries. users per second: 20934.8"
      ]
     },
     "metadata": {},
     "output_type": "display_data"
    },
    {
     "data": {
      "text/html": [
       "<pre>recommendations finished on 170000/556591 queries. users per second: 20947.6</pre>"
      ],
      "text/plain": [
       "recommendations finished on 170000/556591 queries. users per second: 20947.6"
      ]
     },
     "metadata": {},
     "output_type": "display_data"
    },
    {
     "data": {
      "text/html": [
       "<pre>recommendations finished on 171000/556591 queries. users per second: 20956</pre>"
      ],
      "text/plain": [
       "recommendations finished on 171000/556591 queries. users per second: 20956"
      ]
     },
     "metadata": {},
     "output_type": "display_data"
    },
    {
     "data": {
      "text/html": [
       "<pre>recommendations finished on 172000/556591 queries. users per second: 20967.4</pre>"
      ],
      "text/plain": [
       "recommendations finished on 172000/556591 queries. users per second: 20967.4"
      ]
     },
     "metadata": {},
     "output_type": "display_data"
    },
    {
     "data": {
      "text/html": [
       "<pre>recommendations finished on 173000/556591 queries. users per second: 20973.5</pre>"
      ],
      "text/plain": [
       "recommendations finished on 173000/556591 queries. users per second: 20973.5"
      ]
     },
     "metadata": {},
     "output_type": "display_data"
    },
    {
     "data": {
      "text/html": [
       "<pre>recommendations finished on 174000/556591 queries. users per second: 20980.9</pre>"
      ],
      "text/plain": [
       "recommendations finished on 174000/556591 queries. users per second: 20980.9"
      ]
     },
     "metadata": {},
     "output_type": "display_data"
    },
    {
     "data": {
      "text/html": [
       "<pre>recommendations finished on 175000/556591 queries. users per second: 20955</pre>"
      ],
      "text/plain": [
       "recommendations finished on 175000/556591 queries. users per second: 20955"
      ]
     },
     "metadata": {},
     "output_type": "display_data"
    },
    {
     "data": {
      "text/html": [
       "<pre>recommendations finished on 176000/556591 queries. users per second: 20924.8</pre>"
      ],
      "text/plain": [
       "recommendations finished on 176000/556591 queries. users per second: 20924.8"
      ]
     },
     "metadata": {},
     "output_type": "display_data"
    },
    {
     "data": {
      "text/html": [
       "<pre>recommendations finished on 177000/556591 queries. users per second: 20888.6</pre>"
      ],
      "text/plain": [
       "recommendations finished on 177000/556591 queries. users per second: 20888.6"
      ]
     },
     "metadata": {},
     "output_type": "display_data"
    },
    {
     "data": {
      "text/html": [
       "<pre>recommendations finished on 178000/556591 queries. users per second: 20858.7</pre>"
      ],
      "text/plain": [
       "recommendations finished on 178000/556591 queries. users per second: 20858.7"
      ]
     },
     "metadata": {},
     "output_type": "display_data"
    },
    {
     "data": {
      "text/html": [
       "<pre>recommendations finished on 179000/556591 queries. users per second: 20839.6</pre>"
      ],
      "text/plain": [
       "recommendations finished on 179000/556591 queries. users per second: 20839.6"
      ]
     },
     "metadata": {},
     "output_type": "display_data"
    },
    {
     "data": {
      "text/html": [
       "<pre>recommendations finished on 180000/556591 queries. users per second: 20818.3</pre>"
      ],
      "text/plain": [
       "recommendations finished on 180000/556591 queries. users per second: 20818.3"
      ]
     },
     "metadata": {},
     "output_type": "display_data"
    },
    {
     "data": {
      "text/html": [
       "<pre>recommendations finished on 181000/556591 queries. users per second: 20799.6</pre>"
      ],
      "text/plain": [
       "recommendations finished on 181000/556591 queries. users per second: 20799.6"
      ]
     },
     "metadata": {},
     "output_type": "display_data"
    },
    {
     "data": {
      "text/html": [
       "<pre>recommendations finished on 182000/556591 queries. users per second: 20784.6</pre>"
      ],
      "text/plain": [
       "recommendations finished on 182000/556591 queries. users per second: 20784.6"
      ]
     },
     "metadata": {},
     "output_type": "display_data"
    },
    {
     "data": {
      "text/html": [
       "<pre>recommendations finished on 183000/556591 queries. users per second: 20774.7</pre>"
      ],
      "text/plain": [
       "recommendations finished on 183000/556591 queries. users per second: 20774.7"
      ]
     },
     "metadata": {},
     "output_type": "display_data"
    },
    {
     "data": {
      "text/html": [
       "<pre>recommendations finished on 184000/556591 queries. users per second: 20765.7</pre>"
      ],
      "text/plain": [
       "recommendations finished on 184000/556591 queries. users per second: 20765.7"
      ]
     },
     "metadata": {},
     "output_type": "display_data"
    },
    {
     "data": {
      "text/html": [
       "<pre>recommendations finished on 185000/556591 queries. users per second: 20759.4</pre>"
      ],
      "text/plain": [
       "recommendations finished on 185000/556591 queries. users per second: 20759.4"
      ]
     },
     "metadata": {},
     "output_type": "display_data"
    },
    {
     "data": {
      "text/html": [
       "<pre>recommendations finished on 186000/556591 queries. users per second: 20768.5</pre>"
      ],
      "text/plain": [
       "recommendations finished on 186000/556591 queries. users per second: 20768.5"
      ]
     },
     "metadata": {},
     "output_type": "display_data"
    },
    {
     "data": {
      "text/html": [
       "<pre>recommendations finished on 187000/556591 queries. users per second: 20774.7</pre>"
      ],
      "text/plain": [
       "recommendations finished on 187000/556591 queries. users per second: 20774.7"
      ]
     },
     "metadata": {},
     "output_type": "display_data"
    },
    {
     "data": {
      "text/html": [
       "<pre>recommendations finished on 188000/556591 queries. users per second: 20768.4</pre>"
      ],
      "text/plain": [
       "recommendations finished on 188000/556591 queries. users per second: 20768.4"
      ]
     },
     "metadata": {},
     "output_type": "display_data"
    },
    {
     "data": {
      "text/html": [
       "<pre>recommendations finished on 189000/556591 queries. users per second: 20774.1</pre>"
      ],
      "text/plain": [
       "recommendations finished on 189000/556591 queries. users per second: 20774.1"
      ]
     },
     "metadata": {},
     "output_type": "display_data"
    },
    {
     "data": {
      "text/html": [
       "<pre>recommendations finished on 190000/556591 queries. users per second: 20785.8</pre>"
      ],
      "text/plain": [
       "recommendations finished on 190000/556591 queries. users per second: 20785.8"
      ]
     },
     "metadata": {},
     "output_type": "display_data"
    },
    {
     "data": {
      "text/html": [
       "<pre>recommendations finished on 191000/556591 queries. users per second: 20752.5</pre>"
      ],
      "text/plain": [
       "recommendations finished on 191000/556591 queries. users per second: 20752.5"
      ]
     },
     "metadata": {},
     "output_type": "display_data"
    },
    {
     "data": {
      "text/html": [
       "<pre>recommendations finished on 192000/556591 queries. users per second: 20740.5</pre>"
      ],
      "text/plain": [
       "recommendations finished on 192000/556591 queries. users per second: 20740.5"
      ]
     },
     "metadata": {},
     "output_type": "display_data"
    },
    {
     "data": {
      "text/html": [
       "<pre>recommendations finished on 193000/556591 queries. users per second: 20731.3</pre>"
      ],
      "text/plain": [
       "recommendations finished on 193000/556591 queries. users per second: 20731.3"
      ]
     },
     "metadata": {},
     "output_type": "display_data"
    },
    {
     "data": {
      "text/html": [
       "<pre>recommendations finished on 194000/556591 queries. users per second: 20728.3</pre>"
      ],
      "text/plain": [
       "recommendations finished on 194000/556591 queries. users per second: 20728.3"
      ]
     },
     "metadata": {},
     "output_type": "display_data"
    },
    {
     "data": {
      "text/html": [
       "<pre>recommendations finished on 195000/556591 queries. users per second: 20728.9</pre>"
      ],
      "text/plain": [
       "recommendations finished on 195000/556591 queries. users per second: 20728.9"
      ]
     },
     "metadata": {},
     "output_type": "display_data"
    },
    {
     "data": {
      "text/html": [
       "<pre>recommendations finished on 196000/556591 queries. users per second: 20708</pre>"
      ],
      "text/plain": [
       "recommendations finished on 196000/556591 queries. users per second: 20708"
      ]
     },
     "metadata": {},
     "output_type": "display_data"
    },
    {
     "data": {
      "text/html": [
       "<pre>recommendations finished on 197000/556591 queries. users per second: 20693.9</pre>"
      ],
      "text/plain": [
       "recommendations finished on 197000/556591 queries. users per second: 20693.9"
      ]
     },
     "metadata": {},
     "output_type": "display_data"
    },
    {
     "data": {
      "text/html": [
       "<pre>recommendations finished on 198000/556591 queries. users per second: 20669.5</pre>"
      ],
      "text/plain": [
       "recommendations finished on 198000/556591 queries. users per second: 20669.5"
      ]
     },
     "metadata": {},
     "output_type": "display_data"
    },
    {
     "data": {
      "text/html": [
       "<pre>recommendations finished on 199000/556591 queries. users per second: 20655.3</pre>"
      ],
      "text/plain": [
       "recommendations finished on 199000/556591 queries. users per second: 20655.3"
      ]
     },
     "metadata": {},
     "output_type": "display_data"
    },
    {
     "data": {
      "text/html": [
       "<pre>recommendations finished on 200000/556591 queries. users per second: 20663.6</pre>"
      ],
      "text/plain": [
       "recommendations finished on 200000/556591 queries. users per second: 20663.6"
      ]
     },
     "metadata": {},
     "output_type": "display_data"
    },
    {
     "data": {
      "text/html": [
       "<pre>recommendations finished on 201000/556591 queries. users per second: 20670.2</pre>"
      ],
      "text/plain": [
       "recommendations finished on 201000/556591 queries. users per second: 20670.2"
      ]
     },
     "metadata": {},
     "output_type": "display_data"
    },
    {
     "data": {
      "text/html": [
       "<pre>recommendations finished on 202000/556591 queries. users per second: 20665.3</pre>"
      ],
      "text/plain": [
       "recommendations finished on 202000/556591 queries. users per second: 20665.3"
      ]
     },
     "metadata": {},
     "output_type": "display_data"
    },
    {
     "data": {
      "text/html": [
       "<pre>recommendations finished on 203000/556591 queries. users per second: 20648.2</pre>"
      ],
      "text/plain": [
       "recommendations finished on 203000/556591 queries. users per second: 20648.2"
      ]
     },
     "metadata": {},
     "output_type": "display_data"
    },
    {
     "data": {
      "text/html": [
       "<pre>recommendations finished on 204000/556591 queries. users per second: 20630.7</pre>"
      ],
      "text/plain": [
       "recommendations finished on 204000/556591 queries. users per second: 20630.7"
      ]
     },
     "metadata": {},
     "output_type": "display_data"
    },
    {
     "data": {
      "text/html": [
       "<pre>recommendations finished on 205000/556591 queries. users per second: 20612.4</pre>"
      ],
      "text/plain": [
       "recommendations finished on 205000/556591 queries. users per second: 20612.4"
      ]
     },
     "metadata": {},
     "output_type": "display_data"
    },
    {
     "data": {
      "text/html": [
       "<pre>recommendations finished on 206000/556591 queries. users per second: 20589.9</pre>"
      ],
      "text/plain": [
       "recommendations finished on 206000/556591 queries. users per second: 20589.9"
      ]
     },
     "metadata": {},
     "output_type": "display_data"
    },
    {
     "data": {
      "text/html": [
       "<pre>recommendations finished on 207000/556591 queries. users per second: 20580.1</pre>"
      ],
      "text/plain": [
       "recommendations finished on 207000/556591 queries. users per second: 20580.1"
      ]
     },
     "metadata": {},
     "output_type": "display_data"
    },
    {
     "data": {
      "text/html": [
       "<pre>recommendations finished on 208000/556591 queries. users per second: 20586.8</pre>"
      ],
      "text/plain": [
       "recommendations finished on 208000/556591 queries. users per second: 20586.8"
      ]
     },
     "metadata": {},
     "output_type": "display_data"
    },
    {
     "data": {
      "text/html": [
       "<pre>recommendations finished on 209000/556591 queries. users per second: 20565.2</pre>"
      ],
      "text/plain": [
       "recommendations finished on 209000/556591 queries. users per second: 20565.2"
      ]
     },
     "metadata": {},
     "output_type": "display_data"
    },
    {
     "data": {
      "text/html": [
       "<pre>recommendations finished on 210000/556591 queries. users per second: 20546.9</pre>"
      ],
      "text/plain": [
       "recommendations finished on 210000/556591 queries. users per second: 20546.9"
      ]
     },
     "metadata": {},
     "output_type": "display_data"
    },
    {
     "data": {
      "text/html": [
       "<pre>recommendations finished on 211000/556591 queries. users per second: 20533.7</pre>"
      ],
      "text/plain": [
       "recommendations finished on 211000/556591 queries. users per second: 20533.7"
      ]
     },
     "metadata": {},
     "output_type": "display_data"
    },
    {
     "data": {
      "text/html": [
       "<pre>recommendations finished on 212000/556591 queries. users per second: 20520.5</pre>"
      ],
      "text/plain": [
       "recommendations finished on 212000/556591 queries. users per second: 20520.5"
      ]
     },
     "metadata": {},
     "output_type": "display_data"
    },
    {
     "data": {
      "text/html": [
       "<pre>recommendations finished on 213000/556591 queries. users per second: 20506</pre>"
      ],
      "text/plain": [
       "recommendations finished on 213000/556591 queries. users per second: 20506"
      ]
     },
     "metadata": {},
     "output_type": "display_data"
    },
    {
     "data": {
      "text/html": [
       "<pre>recommendations finished on 214000/556591 queries. users per second: 20495.2</pre>"
      ],
      "text/plain": [
       "recommendations finished on 214000/556591 queries. users per second: 20495.2"
      ]
     },
     "metadata": {},
     "output_type": "display_data"
    },
    {
     "data": {
      "text/html": [
       "<pre>recommendations finished on 215000/556591 queries. users per second: 20486.9</pre>"
      ],
      "text/plain": [
       "recommendations finished on 215000/556591 queries. users per second: 20486.9"
      ]
     },
     "metadata": {},
     "output_type": "display_data"
    },
    {
     "data": {
      "text/html": [
       "<pre>recommendations finished on 216000/556591 queries. users per second: 20470.8</pre>"
      ],
      "text/plain": [
       "recommendations finished on 216000/556591 queries. users per second: 20470.8"
      ]
     },
     "metadata": {},
     "output_type": "display_data"
    },
    {
     "data": {
      "text/html": [
       "<pre>recommendations finished on 217000/556591 queries. users per second: 20462.4</pre>"
      ],
      "text/plain": [
       "recommendations finished on 217000/556591 queries. users per second: 20462.4"
      ]
     },
     "metadata": {},
     "output_type": "display_data"
    },
    {
     "data": {
      "text/html": [
       "<pre>recommendations finished on 218000/556591 queries. users per second: 20445</pre>"
      ],
      "text/plain": [
       "recommendations finished on 218000/556591 queries. users per second: 20445"
      ]
     },
     "metadata": {},
     "output_type": "display_data"
    },
    {
     "data": {
      "text/html": [
       "<pre>recommendations finished on 219000/556591 queries. users per second: 20438.6</pre>"
      ],
      "text/plain": [
       "recommendations finished on 219000/556591 queries. users per second: 20438.6"
      ]
     },
     "metadata": {},
     "output_type": "display_data"
    },
    {
     "data": {
      "text/html": [
       "<pre>recommendations finished on 220000/556591 queries. users per second: 20416.1</pre>"
      ],
      "text/plain": [
       "recommendations finished on 220000/556591 queries. users per second: 20416.1"
      ]
     },
     "metadata": {},
     "output_type": "display_data"
    },
    {
     "data": {
      "text/html": [
       "<pre>recommendations finished on 221000/556591 queries. users per second: 20409.1</pre>"
      ],
      "text/plain": [
       "recommendations finished on 221000/556591 queries. users per second: 20409.1"
      ]
     },
     "metadata": {},
     "output_type": "display_data"
    },
    {
     "data": {
      "text/html": [
       "<pre>recommendations finished on 222000/556591 queries. users per second: 20397.1</pre>"
      ],
      "text/plain": [
       "recommendations finished on 222000/556591 queries. users per second: 20397.1"
      ]
     },
     "metadata": {},
     "output_type": "display_data"
    },
    {
     "data": {
      "text/html": [
       "<pre>recommendations finished on 223000/556591 queries. users per second: 20384.3</pre>"
      ],
      "text/plain": [
       "recommendations finished on 223000/556591 queries. users per second: 20384.3"
      ]
     },
     "metadata": {},
     "output_type": "display_data"
    },
    {
     "data": {
      "text/html": [
       "<pre>recommendations finished on 224000/556591 queries. users per second: 20369.7</pre>"
      ],
      "text/plain": [
       "recommendations finished on 224000/556591 queries. users per second: 20369.7"
      ]
     },
     "metadata": {},
     "output_type": "display_data"
    },
    {
     "data": {
      "text/html": [
       "<pre>recommendations finished on 225000/556591 queries. users per second: 20351.1</pre>"
      ],
      "text/plain": [
       "recommendations finished on 225000/556591 queries. users per second: 20351.1"
      ]
     },
     "metadata": {},
     "output_type": "display_data"
    },
    {
     "data": {
      "text/html": [
       "<pre>recommendations finished on 226000/556591 queries. users per second: 20341.9</pre>"
      ],
      "text/plain": [
       "recommendations finished on 226000/556591 queries. users per second: 20341.9"
      ]
     },
     "metadata": {},
     "output_type": "display_data"
    },
    {
     "data": {
      "text/html": [
       "<pre>recommendations finished on 227000/556591 queries. users per second: 20336.4</pre>"
      ],
      "text/plain": [
       "recommendations finished on 227000/556591 queries. users per second: 20336.4"
      ]
     },
     "metadata": {},
     "output_type": "display_data"
    },
    {
     "data": {
      "text/html": [
       "<pre>recommendations finished on 228000/556591 queries. users per second: 20331.1</pre>"
      ],
      "text/plain": [
       "recommendations finished on 228000/556591 queries. users per second: 20331.1"
      ]
     },
     "metadata": {},
     "output_type": "display_data"
    },
    {
     "data": {
      "text/html": [
       "<pre>recommendations finished on 229000/556591 queries. users per second: 20323.6</pre>"
      ],
      "text/plain": [
       "recommendations finished on 229000/556591 queries. users per second: 20323.6"
      ]
     },
     "metadata": {},
     "output_type": "display_data"
    },
    {
     "data": {
      "text/html": [
       "<pre>recommendations finished on 230000/556591 queries. users per second: 20316</pre>"
      ],
      "text/plain": [
       "recommendations finished on 230000/556591 queries. users per second: 20316"
      ]
     },
     "metadata": {},
     "output_type": "display_data"
    },
    {
     "data": {
      "text/html": [
       "<pre>recommendations finished on 231000/556591 queries. users per second: 20307.7</pre>"
      ],
      "text/plain": [
       "recommendations finished on 231000/556591 queries. users per second: 20307.7"
      ]
     },
     "metadata": {},
     "output_type": "display_data"
    },
    {
     "data": {
      "text/html": [
       "<pre>recommendations finished on 232000/556591 queries. users per second: 20297.6</pre>"
      ],
      "text/plain": [
       "recommendations finished on 232000/556591 queries. users per second: 20297.6"
      ]
     },
     "metadata": {},
     "output_type": "display_data"
    },
    {
     "data": {
      "text/html": [
       "<pre>recommendations finished on 233000/556591 queries. users per second: 20292</pre>"
      ],
      "text/plain": [
       "recommendations finished on 233000/556591 queries. users per second: 20292"
      ]
     },
     "metadata": {},
     "output_type": "display_data"
    },
    {
     "data": {
      "text/html": [
       "<pre>recommendations finished on 234000/556591 queries. users per second: 20285.7</pre>"
      ],
      "text/plain": [
       "recommendations finished on 234000/556591 queries. users per second: 20285.7"
      ]
     },
     "metadata": {},
     "output_type": "display_data"
    },
    {
     "data": {
      "text/html": [
       "<pre>recommendations finished on 235000/556591 queries. users per second: 20278.5</pre>"
      ],
      "text/plain": [
       "recommendations finished on 235000/556591 queries. users per second: 20278.5"
      ]
     },
     "metadata": {},
     "output_type": "display_data"
    },
    {
     "data": {
      "text/html": [
       "<pre>recommendations finished on 236000/556591 queries. users per second: 20288.7</pre>"
      ],
      "text/plain": [
       "recommendations finished on 236000/556591 queries. users per second: 20288.7"
      ]
     },
     "metadata": {},
     "output_type": "display_data"
    },
    {
     "data": {
      "text/html": [
       "<pre>recommendations finished on 237000/556591 queries. users per second: 20299.5</pre>"
      ],
      "text/plain": [
       "recommendations finished on 237000/556591 queries. users per second: 20299.5"
      ]
     },
     "metadata": {},
     "output_type": "display_data"
    },
    {
     "data": {
      "text/html": [
       "<pre>recommendations finished on 238000/556591 queries. users per second: 20311.1</pre>"
      ],
      "text/plain": [
       "recommendations finished on 238000/556591 queries. users per second: 20311.1"
      ]
     },
     "metadata": {},
     "output_type": "display_data"
    },
    {
     "data": {
      "text/html": [
       "<pre>recommendations finished on 239000/556591 queries. users per second: 20318.1</pre>"
      ],
      "text/plain": [
       "recommendations finished on 239000/556591 queries. users per second: 20318.1"
      ]
     },
     "metadata": {},
     "output_type": "display_data"
    },
    {
     "data": {
      "text/html": [
       "<pre>recommendations finished on 240000/556591 queries. users per second: 20327.3</pre>"
      ],
      "text/plain": [
       "recommendations finished on 240000/556591 queries. users per second: 20327.3"
      ]
     },
     "metadata": {},
     "output_type": "display_data"
    },
    {
     "data": {
      "text/html": [
       "<pre>recommendations finished on 241000/556591 queries. users per second: 20333.2</pre>"
      ],
      "text/plain": [
       "recommendations finished on 241000/556591 queries. users per second: 20333.2"
      ]
     },
     "metadata": {},
     "output_type": "display_data"
    },
    {
     "data": {
      "text/html": [
       "<pre>recommendations finished on 242000/556591 queries. users per second: 20343.6</pre>"
      ],
      "text/plain": [
       "recommendations finished on 242000/556591 queries. users per second: 20343.6"
      ]
     },
     "metadata": {},
     "output_type": "display_data"
    },
    {
     "data": {
      "text/html": [
       "<pre>recommendations finished on 243000/556591 queries. users per second: 20352.5</pre>"
      ],
      "text/plain": [
       "recommendations finished on 243000/556591 queries. users per second: 20352.5"
      ]
     },
     "metadata": {},
     "output_type": "display_data"
    },
    {
     "data": {
      "text/html": [
       "<pre>recommendations finished on 244000/556591 queries. users per second: 20347.8</pre>"
      ],
      "text/plain": [
       "recommendations finished on 244000/556591 queries. users per second: 20347.8"
      ]
     },
     "metadata": {},
     "output_type": "display_data"
    },
    {
     "data": {
      "text/html": [
       "<pre>recommendations finished on 245000/556591 queries. users per second: 20337.6</pre>"
      ],
      "text/plain": [
       "recommendations finished on 245000/556591 queries. users per second: 20337.6"
      ]
     },
     "metadata": {},
     "output_type": "display_data"
    },
    {
     "data": {
      "text/html": [
       "<pre>recommendations finished on 246000/556591 queries. users per second: 20327.6</pre>"
      ],
      "text/plain": [
       "recommendations finished on 246000/556591 queries. users per second: 20327.6"
      ]
     },
     "metadata": {},
     "output_type": "display_data"
    },
    {
     "data": {
      "text/html": [
       "<pre>recommendations finished on 247000/556591 queries. users per second: 20306.8</pre>"
      ],
      "text/plain": [
       "recommendations finished on 247000/556591 queries. users per second: 20306.8"
      ]
     },
     "metadata": {},
     "output_type": "display_data"
    },
    {
     "data": {
      "text/html": [
       "<pre>recommendations finished on 248000/556591 queries. users per second: 20291.8</pre>"
      ],
      "text/plain": [
       "recommendations finished on 248000/556591 queries. users per second: 20291.8"
      ]
     },
     "metadata": {},
     "output_type": "display_data"
    },
    {
     "data": {
      "text/html": [
       "<pre>recommendations finished on 249000/556591 queries. users per second: 20276.9</pre>"
      ],
      "text/plain": [
       "recommendations finished on 249000/556591 queries. users per second: 20276.9"
      ]
     },
     "metadata": {},
     "output_type": "display_data"
    },
    {
     "data": {
      "text/html": [
       "<pre>recommendations finished on 250000/556591 queries. users per second: 20244.6</pre>"
      ],
      "text/plain": [
       "recommendations finished on 250000/556591 queries. users per second: 20244.6"
      ]
     },
     "metadata": {},
     "output_type": "display_data"
    },
    {
     "data": {
      "text/html": [
       "<pre>recommendations finished on 251000/556591 queries. users per second: 20211.8</pre>"
      ],
      "text/plain": [
       "recommendations finished on 251000/556591 queries. users per second: 20211.8"
      ]
     },
     "metadata": {},
     "output_type": "display_data"
    },
    {
     "data": {
      "text/html": [
       "<pre>recommendations finished on 252000/556591 queries. users per second: 20184.9</pre>"
      ],
      "text/plain": [
       "recommendations finished on 252000/556591 queries. users per second: 20184.9"
      ]
     },
     "metadata": {},
     "output_type": "display_data"
    },
    {
     "data": {
      "text/html": [
       "<pre>recommendations finished on 253000/556591 queries. users per second: 20140.7</pre>"
      ],
      "text/plain": [
       "recommendations finished on 253000/556591 queries. users per second: 20140.7"
      ]
     },
     "metadata": {},
     "output_type": "display_data"
    },
    {
     "data": {
      "text/html": [
       "<pre>recommendations finished on 254000/556591 queries. users per second: 20111.3</pre>"
      ],
      "text/plain": [
       "recommendations finished on 254000/556591 queries. users per second: 20111.3"
      ]
     },
     "metadata": {},
     "output_type": "display_data"
    },
    {
     "data": {
      "text/html": [
       "<pre>recommendations finished on 255000/556591 queries. users per second: 20080</pre>"
      ],
      "text/plain": [
       "recommendations finished on 255000/556591 queries. users per second: 20080"
      ]
     },
     "metadata": {},
     "output_type": "display_data"
    },
    {
     "data": {
      "text/html": [
       "<pre>recommendations finished on 256000/556591 queries. users per second: 20036.1</pre>"
      ],
      "text/plain": [
       "recommendations finished on 256000/556591 queries. users per second: 20036.1"
      ]
     },
     "metadata": {},
     "output_type": "display_data"
    },
    {
     "data": {
      "text/html": [
       "<pre>recommendations finished on 257000/556591 queries. users per second: 20013.7</pre>"
      ],
      "text/plain": [
       "recommendations finished on 257000/556591 queries. users per second: 20013.7"
      ]
     },
     "metadata": {},
     "output_type": "display_data"
    },
    {
     "data": {
      "text/html": [
       "<pre>recommendations finished on 258000/556591 queries. users per second: 19996.2</pre>"
      ],
      "text/plain": [
       "recommendations finished on 258000/556591 queries. users per second: 19996.2"
      ]
     },
     "metadata": {},
     "output_type": "display_data"
    },
    {
     "data": {
      "text/html": [
       "<pre>recommendations finished on 259000/556591 queries. users per second: 19972.6</pre>"
      ],
      "text/plain": [
       "recommendations finished on 259000/556591 queries. users per second: 19972.6"
      ]
     },
     "metadata": {},
     "output_type": "display_data"
    },
    {
     "data": {
      "text/html": [
       "<pre>recommendations finished on 260000/556591 queries. users per second: 19957.8</pre>"
      ],
      "text/plain": [
       "recommendations finished on 260000/556591 queries. users per second: 19957.8"
      ]
     },
     "metadata": {},
     "output_type": "display_data"
    },
    {
     "data": {
      "text/html": [
       "<pre>recommendations finished on 261000/556591 queries. users per second: 19939.1</pre>"
      ],
      "text/plain": [
       "recommendations finished on 261000/556591 queries. users per second: 19939.1"
      ]
     },
     "metadata": {},
     "output_type": "display_data"
    },
    {
     "data": {
      "text/html": [
       "<pre>recommendations finished on 262000/556591 queries. users per second: 19914</pre>"
      ],
      "text/plain": [
       "recommendations finished on 262000/556591 queries. users per second: 19914"
      ]
     },
     "metadata": {},
     "output_type": "display_data"
    },
    {
     "data": {
      "text/html": [
       "<pre>recommendations finished on 263000/556591 queries. users per second: 19900.8</pre>"
      ],
      "text/plain": [
       "recommendations finished on 263000/556591 queries. users per second: 19900.8"
      ]
     },
     "metadata": {},
     "output_type": "display_data"
    },
    {
     "data": {
      "text/html": [
       "<pre>recommendations finished on 264000/556591 queries. users per second: 19890.6</pre>"
      ],
      "text/plain": [
       "recommendations finished on 264000/556591 queries. users per second: 19890.6"
      ]
     },
     "metadata": {},
     "output_type": "display_data"
    },
    {
     "data": {
      "text/html": [
       "<pre>recommendations finished on 265000/556591 queries. users per second: 19876.1</pre>"
      ],
      "text/plain": [
       "recommendations finished on 265000/556591 queries. users per second: 19876.1"
      ]
     },
     "metadata": {},
     "output_type": "display_data"
    },
    {
     "data": {
      "text/html": [
       "<pre>recommendations finished on 266000/556591 queries. users per second: 19861.1</pre>"
      ],
      "text/plain": [
       "recommendations finished on 266000/556591 queries. users per second: 19861.1"
      ]
     },
     "metadata": {},
     "output_type": "display_data"
    },
    {
     "data": {
      "text/html": [
       "<pre>recommendations finished on 267000/556591 queries. users per second: 19848.2</pre>"
      ],
      "text/plain": [
       "recommendations finished on 267000/556591 queries. users per second: 19848.2"
      ]
     },
     "metadata": {},
     "output_type": "display_data"
    },
    {
     "data": {
      "text/html": [
       "<pre>recommendations finished on 268000/556591 queries. users per second: 19838.6</pre>"
      ],
      "text/plain": [
       "recommendations finished on 268000/556591 queries. users per second: 19838.6"
      ]
     },
     "metadata": {},
     "output_type": "display_data"
    },
    {
     "data": {
      "text/html": [
       "<pre>recommendations finished on 269000/556591 queries. users per second: 19825</pre>"
      ],
      "text/plain": [
       "recommendations finished on 269000/556591 queries. users per second: 19825"
      ]
     },
     "metadata": {},
     "output_type": "display_data"
    },
    {
     "data": {
      "text/html": [
       "<pre>recommendations finished on 270000/556591 queries. users per second: 19817.2</pre>"
      ],
      "text/plain": [
       "recommendations finished on 270000/556591 queries. users per second: 19817.2"
      ]
     },
     "metadata": {},
     "output_type": "display_data"
    },
    {
     "data": {
      "text/html": [
       "<pre>recommendations finished on 271000/556591 queries. users per second: 19820.4</pre>"
      ],
      "text/plain": [
       "recommendations finished on 271000/556591 queries. users per second: 19820.4"
      ]
     },
     "metadata": {},
     "output_type": "display_data"
    },
    {
     "data": {
      "text/html": [
       "<pre>recommendations finished on 272000/556591 queries. users per second: 19805.6</pre>"
      ],
      "text/plain": [
       "recommendations finished on 272000/556591 queries. users per second: 19805.6"
      ]
     },
     "metadata": {},
     "output_type": "display_data"
    },
    {
     "data": {
      "text/html": [
       "<pre>recommendations finished on 273000/556591 queries. users per second: 19798.7</pre>"
      ],
      "text/plain": [
       "recommendations finished on 273000/556591 queries. users per second: 19798.7"
      ]
     },
     "metadata": {},
     "output_type": "display_data"
    },
    {
     "data": {
      "text/html": [
       "<pre>recommendations finished on 274000/556591 queries. users per second: 19800.4</pre>"
      ],
      "text/plain": [
       "recommendations finished on 274000/556591 queries. users per second: 19800.4"
      ]
     },
     "metadata": {},
     "output_type": "display_data"
    },
    {
     "data": {
      "text/html": [
       "<pre>recommendations finished on 275000/556591 queries. users per second: 19807.2</pre>"
      ],
      "text/plain": [
       "recommendations finished on 275000/556591 queries. users per second: 19807.2"
      ]
     },
     "metadata": {},
     "output_type": "display_data"
    },
    {
     "data": {
      "text/html": [
       "<pre>recommendations finished on 276000/556591 queries. users per second: 19811.4</pre>"
      ],
      "text/plain": [
       "recommendations finished on 276000/556591 queries. users per second: 19811.4"
      ]
     },
     "metadata": {},
     "output_type": "display_data"
    },
    {
     "data": {
      "text/html": [
       "<pre>recommendations finished on 277000/556591 queries. users per second: 19817.2</pre>"
      ],
      "text/plain": [
       "recommendations finished on 277000/556591 queries. users per second: 19817.2"
      ]
     },
     "metadata": {},
     "output_type": "display_data"
    },
    {
     "data": {
      "text/html": [
       "<pre>recommendations finished on 278000/556591 queries. users per second: 19824.1</pre>"
      ],
      "text/plain": [
       "recommendations finished on 278000/556591 queries. users per second: 19824.1"
      ]
     },
     "metadata": {},
     "output_type": "display_data"
    },
    {
     "data": {
      "text/html": [
       "<pre>recommendations finished on 279000/556591 queries. users per second: 19830.3</pre>"
      ],
      "text/plain": [
       "recommendations finished on 279000/556591 queries. users per second: 19830.3"
      ]
     },
     "metadata": {},
     "output_type": "display_data"
    },
    {
     "data": {
      "text/html": [
       "<pre>recommendations finished on 280000/556591 queries. users per second: 19833.5</pre>"
      ],
      "text/plain": [
       "recommendations finished on 280000/556591 queries. users per second: 19833.5"
      ]
     },
     "metadata": {},
     "output_type": "display_data"
    },
    {
     "data": {
      "text/html": [
       "<pre>recommendations finished on 281000/556591 queries. users per second: 19838.9</pre>"
      ],
      "text/plain": [
       "recommendations finished on 281000/556591 queries. users per second: 19838.9"
      ]
     },
     "metadata": {},
     "output_type": "display_data"
    },
    {
     "data": {
      "text/html": [
       "<pre>recommendations finished on 282000/556591 queries. users per second: 19846.3</pre>"
      ],
      "text/plain": [
       "recommendations finished on 282000/556591 queries. users per second: 19846.3"
      ]
     },
     "metadata": {},
     "output_type": "display_data"
    },
    {
     "data": {
      "text/html": [
       "<pre>recommendations finished on 283000/556591 queries. users per second: 19852.8</pre>"
      ],
      "text/plain": [
       "recommendations finished on 283000/556591 queries. users per second: 19852.8"
      ]
     },
     "metadata": {},
     "output_type": "display_data"
    },
    {
     "data": {
      "text/html": [
       "<pre>recommendations finished on 284000/556591 queries. users per second: 19850.4</pre>"
      ],
      "text/plain": [
       "recommendations finished on 284000/556591 queries. users per second: 19850.4"
      ]
     },
     "metadata": {},
     "output_type": "display_data"
    },
    {
     "data": {
      "text/html": [
       "<pre>recommendations finished on 285000/556591 queries. users per second: 19852.5</pre>"
      ],
      "text/plain": [
       "recommendations finished on 285000/556591 queries. users per second: 19852.5"
      ]
     },
     "metadata": {},
     "output_type": "display_data"
    },
    {
     "data": {
      "text/html": [
       "<pre>recommendations finished on 286000/556591 queries. users per second: 19855.1</pre>"
      ],
      "text/plain": [
       "recommendations finished on 286000/556591 queries. users per second: 19855.1"
      ]
     },
     "metadata": {},
     "output_type": "display_data"
    },
    {
     "data": {
      "text/html": [
       "<pre>recommendations finished on 287000/556591 queries. users per second: 19855.2</pre>"
      ],
      "text/plain": [
       "recommendations finished on 287000/556591 queries. users per second: 19855.2"
      ]
     },
     "metadata": {},
     "output_type": "display_data"
    },
    {
     "data": {
      "text/html": [
       "<pre>recommendations finished on 288000/556591 queries. users per second: 19851.9</pre>"
      ],
      "text/plain": [
       "recommendations finished on 288000/556591 queries. users per second: 19851.9"
      ]
     },
     "metadata": {},
     "output_type": "display_data"
    },
    {
     "data": {
      "text/html": [
       "<pre>recommendations finished on 289000/556591 queries. users per second: 19855.1</pre>"
      ],
      "text/plain": [
       "recommendations finished on 289000/556591 queries. users per second: 19855.1"
      ]
     },
     "metadata": {},
     "output_type": "display_data"
    },
    {
     "data": {
      "text/html": [
       "<pre>recommendations finished on 290000/556591 queries. users per second: 19858.6</pre>"
      ],
      "text/plain": [
       "recommendations finished on 290000/556591 queries. users per second: 19858.6"
      ]
     },
     "metadata": {},
     "output_type": "display_data"
    },
    {
     "data": {
      "text/html": [
       "<pre>recommendations finished on 291000/556591 queries. users per second: 19862</pre>"
      ],
      "text/plain": [
       "recommendations finished on 291000/556591 queries. users per second: 19862"
      ]
     },
     "metadata": {},
     "output_type": "display_data"
    },
    {
     "data": {
      "text/html": [
       "<pre>recommendations finished on 292000/556591 queries. users per second: 19869.7</pre>"
      ],
      "text/plain": [
       "recommendations finished on 292000/556591 queries. users per second: 19869.7"
      ]
     },
     "metadata": {},
     "output_type": "display_data"
    },
    {
     "data": {
      "text/html": [
       "<pre>recommendations finished on 293000/556591 queries. users per second: 19876.3</pre>"
      ],
      "text/plain": [
       "recommendations finished on 293000/556591 queries. users per second: 19876.3"
      ]
     },
     "metadata": {},
     "output_type": "display_data"
    },
    {
     "data": {
      "text/html": [
       "<pre>recommendations finished on 294000/556591 queries. users per second: 19882</pre>"
      ],
      "text/plain": [
       "recommendations finished on 294000/556591 queries. users per second: 19882"
      ]
     },
     "metadata": {},
     "output_type": "display_data"
    },
    {
     "data": {
      "text/html": [
       "<pre>recommendations finished on 295000/556591 queries. users per second: 19887.9</pre>"
      ],
      "text/plain": [
       "recommendations finished on 295000/556591 queries. users per second: 19887.9"
      ]
     },
     "metadata": {},
     "output_type": "display_data"
    },
    {
     "data": {
      "text/html": [
       "<pre>recommendations finished on 296000/556591 queries. users per second: 19889.6</pre>"
      ],
      "text/plain": [
       "recommendations finished on 296000/556591 queries. users per second: 19889.6"
      ]
     },
     "metadata": {},
     "output_type": "display_data"
    },
    {
     "data": {
      "text/html": [
       "<pre>recommendations finished on 297000/556591 queries. users per second: 19892.7</pre>"
      ],
      "text/plain": [
       "recommendations finished on 297000/556591 queries. users per second: 19892.7"
      ]
     },
     "metadata": {},
     "output_type": "display_data"
    },
    {
     "data": {
      "text/html": [
       "<pre>recommendations finished on 298000/556591 queries. users per second: 19896.5</pre>"
      ],
      "text/plain": [
       "recommendations finished on 298000/556591 queries. users per second: 19896.5"
      ]
     },
     "metadata": {},
     "output_type": "display_data"
    },
    {
     "data": {
      "text/html": [
       "<pre>recommendations finished on 299000/556591 queries. users per second: 19901.5</pre>"
      ],
      "text/plain": [
       "recommendations finished on 299000/556591 queries. users per second: 19901.5"
      ]
     },
     "metadata": {},
     "output_type": "display_data"
    },
    {
     "data": {
      "text/html": [
       "<pre>recommendations finished on 300000/556591 queries. users per second: 19906.9</pre>"
      ],
      "text/plain": [
       "recommendations finished on 300000/556591 queries. users per second: 19906.9"
      ]
     },
     "metadata": {},
     "output_type": "display_data"
    },
    {
     "data": {
      "text/html": [
       "<pre>recommendations finished on 301000/556591 queries. users per second: 19909.8</pre>"
      ],
      "text/plain": [
       "recommendations finished on 301000/556591 queries. users per second: 19909.8"
      ]
     },
     "metadata": {},
     "output_type": "display_data"
    },
    {
     "data": {
      "text/html": [
       "<pre>recommendations finished on 302000/556591 queries. users per second: 19913.4</pre>"
      ],
      "text/plain": [
       "recommendations finished on 302000/556591 queries. users per second: 19913.4"
      ]
     },
     "metadata": {},
     "output_type": "display_data"
    },
    {
     "data": {
      "text/html": [
       "<pre>recommendations finished on 303000/556591 queries. users per second: 19918.1</pre>"
      ],
      "text/plain": [
       "recommendations finished on 303000/556591 queries. users per second: 19918.1"
      ]
     },
     "metadata": {},
     "output_type": "display_data"
    },
    {
     "data": {
      "text/html": [
       "<pre>recommendations finished on 304000/556591 queries. users per second: 19880.9</pre>"
      ],
      "text/plain": [
       "recommendations finished on 304000/556591 queries. users per second: 19880.9"
      ]
     },
     "metadata": {},
     "output_type": "display_data"
    },
    {
     "data": {
      "text/html": [
       "<pre>recommendations finished on 305000/556591 queries. users per second: 19885.1</pre>"
      ],
      "text/plain": [
       "recommendations finished on 305000/556591 queries. users per second: 19885.1"
      ]
     },
     "metadata": {},
     "output_type": "display_data"
    },
    {
     "data": {
      "text/html": [
       "<pre>recommendations finished on 306000/556591 queries. users per second: 19889</pre>"
      ],
      "text/plain": [
       "recommendations finished on 306000/556591 queries. users per second: 19889"
      ]
     },
     "metadata": {},
     "output_type": "display_data"
    },
    {
     "data": {
      "text/html": [
       "<pre>recommendations finished on 307000/556591 queries. users per second: 19891.3</pre>"
      ],
      "text/plain": [
       "recommendations finished on 307000/556591 queries. users per second: 19891.3"
      ]
     },
     "metadata": {},
     "output_type": "display_data"
    },
    {
     "data": {
      "text/html": [
       "<pre>recommendations finished on 308000/556591 queries. users per second: 19894.6</pre>"
      ],
      "text/plain": [
       "recommendations finished on 308000/556591 queries. users per second: 19894.6"
      ]
     },
     "metadata": {},
     "output_type": "display_data"
    },
    {
     "data": {
      "text/html": [
       "<pre>recommendations finished on 309000/556591 queries. users per second: 19898.5</pre>"
      ],
      "text/plain": [
       "recommendations finished on 309000/556591 queries. users per second: 19898.5"
      ]
     },
     "metadata": {},
     "output_type": "display_data"
    },
    {
     "data": {
      "text/html": [
       "<pre>recommendations finished on 310000/556591 queries. users per second: 19895.8</pre>"
      ],
      "text/plain": [
       "recommendations finished on 310000/556591 queries. users per second: 19895.8"
      ]
     },
     "metadata": {},
     "output_type": "display_data"
    },
    {
     "data": {
      "text/html": [
       "<pre>recommendations finished on 311000/556591 queries. users per second: 19899.9</pre>"
      ],
      "text/plain": [
       "recommendations finished on 311000/556591 queries. users per second: 19899.9"
      ]
     },
     "metadata": {},
     "output_type": "display_data"
    },
    {
     "data": {
      "text/html": [
       "<pre>recommendations finished on 312000/556591 queries. users per second: 19903.7</pre>"
      ],
      "text/plain": [
       "recommendations finished on 312000/556591 queries. users per second: 19903.7"
      ]
     },
     "metadata": {},
     "output_type": "display_data"
    },
    {
     "data": {
      "text/html": [
       "<pre>recommendations finished on 313000/556591 queries. users per second: 19909.4</pre>"
      ],
      "text/plain": [
       "recommendations finished on 313000/556591 queries. users per second: 19909.4"
      ]
     },
     "metadata": {},
     "output_type": "display_data"
    },
    {
     "data": {
      "text/html": [
       "<pre>recommendations finished on 314000/556591 queries. users per second: 19914.6</pre>"
      ],
      "text/plain": [
       "recommendations finished on 314000/556591 queries. users per second: 19914.6"
      ]
     },
     "metadata": {},
     "output_type": "display_data"
    },
    {
     "data": {
      "text/html": [
       "<pre>recommendations finished on 315000/556591 queries. users per second: 19918.8</pre>"
      ],
      "text/plain": [
       "recommendations finished on 315000/556591 queries. users per second: 19918.8"
      ]
     },
     "metadata": {},
     "output_type": "display_data"
    },
    {
     "data": {
      "text/html": [
       "<pre>recommendations finished on 316000/556591 queries. users per second: 19922.7</pre>"
      ],
      "text/plain": [
       "recommendations finished on 316000/556591 queries. users per second: 19922.7"
      ]
     },
     "metadata": {},
     "output_type": "display_data"
    },
    {
     "data": {
      "text/html": [
       "<pre>recommendations finished on 317000/556591 queries. users per second: 19927.5</pre>"
      ],
      "text/plain": [
       "recommendations finished on 317000/556591 queries. users per second: 19927.5"
      ]
     },
     "metadata": {},
     "output_type": "display_data"
    },
    {
     "data": {
      "text/html": [
       "<pre>recommendations finished on 318000/556591 queries. users per second: 19931.1</pre>"
      ],
      "text/plain": [
       "recommendations finished on 318000/556591 queries. users per second: 19931.1"
      ]
     },
     "metadata": {},
     "output_type": "display_data"
    },
    {
     "data": {
      "text/html": [
       "<pre>recommendations finished on 319000/556591 queries. users per second: 19935</pre>"
      ],
      "text/plain": [
       "recommendations finished on 319000/556591 queries. users per second: 19935"
      ]
     },
     "metadata": {},
     "output_type": "display_data"
    },
    {
     "data": {
      "text/html": [
       "<pre>recommendations finished on 320000/556591 queries. users per second: 19938.5</pre>"
      ],
      "text/plain": [
       "recommendations finished on 320000/556591 queries. users per second: 19938.5"
      ]
     },
     "metadata": {},
     "output_type": "display_data"
    },
    {
     "data": {
      "text/html": [
       "<pre>recommendations finished on 321000/556591 queries. users per second: 19944</pre>"
      ],
      "text/plain": [
       "recommendations finished on 321000/556591 queries. users per second: 19944"
      ]
     },
     "metadata": {},
     "output_type": "display_data"
    },
    {
     "data": {
      "text/html": [
       "<pre>recommendations finished on 322000/556591 queries. users per second: 19949.7</pre>"
      ],
      "text/plain": [
       "recommendations finished on 322000/556591 queries. users per second: 19949.7"
      ]
     },
     "metadata": {},
     "output_type": "display_data"
    },
    {
     "data": {
      "text/html": [
       "<pre>recommendations finished on 323000/556591 queries. users per second: 19953.5</pre>"
      ],
      "text/plain": [
       "recommendations finished on 323000/556591 queries. users per second: 19953.5"
      ]
     },
     "metadata": {},
     "output_type": "display_data"
    },
    {
     "data": {
      "text/html": [
       "<pre>recommendations finished on 324000/556591 queries. users per second: 19960.3</pre>"
      ],
      "text/plain": [
       "recommendations finished on 324000/556591 queries. users per second: 19960.3"
      ]
     },
     "metadata": {},
     "output_type": "display_data"
    },
    {
     "data": {
      "text/html": [
       "<pre>recommendations finished on 325000/556591 queries. users per second: 19964.8</pre>"
      ],
      "text/plain": [
       "recommendations finished on 325000/556591 queries. users per second: 19964.8"
      ]
     },
     "metadata": {},
     "output_type": "display_data"
    },
    {
     "data": {
      "text/html": [
       "<pre>recommendations finished on 326000/556591 queries. users per second: 19969</pre>"
      ],
      "text/plain": [
       "recommendations finished on 326000/556591 queries. users per second: 19969"
      ]
     },
     "metadata": {},
     "output_type": "display_data"
    },
    {
     "data": {
      "text/html": [
       "<pre>recommendations finished on 327000/556591 queries. users per second: 19974.8</pre>"
      ],
      "text/plain": [
       "recommendations finished on 327000/556591 queries. users per second: 19974.8"
      ]
     },
     "metadata": {},
     "output_type": "display_data"
    },
    {
     "data": {
      "text/html": [
       "<pre>recommendations finished on 328000/556591 queries. users per second: 19980.6</pre>"
      ],
      "text/plain": [
       "recommendations finished on 328000/556591 queries. users per second: 19980.6"
      ]
     },
     "metadata": {},
     "output_type": "display_data"
    },
    {
     "data": {
      "text/html": [
       "<pre>recommendations finished on 329000/556591 queries. users per second: 19982.9</pre>"
      ],
      "text/plain": [
       "recommendations finished on 329000/556591 queries. users per second: 19982.9"
      ]
     },
     "metadata": {},
     "output_type": "display_data"
    },
    {
     "data": {
      "text/html": [
       "<pre>recommendations finished on 330000/556591 queries. users per second: 19989.6</pre>"
      ],
      "text/plain": [
       "recommendations finished on 330000/556591 queries. users per second: 19989.6"
      ]
     },
     "metadata": {},
     "output_type": "display_data"
    },
    {
     "data": {
      "text/html": [
       "<pre>recommendations finished on 331000/556591 queries. users per second: 19995</pre>"
      ],
      "text/plain": [
       "recommendations finished on 331000/556591 queries. users per second: 19995"
      ]
     },
     "metadata": {},
     "output_type": "display_data"
    },
    {
     "data": {
      "text/html": [
       "<pre>recommendations finished on 332000/556591 queries. users per second: 20001.1</pre>"
      ],
      "text/plain": [
       "recommendations finished on 332000/556591 queries. users per second: 20001.1"
      ]
     },
     "metadata": {},
     "output_type": "display_data"
    },
    {
     "data": {
      "text/html": [
       "<pre>recommendations finished on 333000/556591 queries. users per second: 20007.3</pre>"
      ],
      "text/plain": [
       "recommendations finished on 333000/556591 queries. users per second: 20007.3"
      ]
     },
     "metadata": {},
     "output_type": "display_data"
    },
    {
     "data": {
      "text/html": [
       "<pre>recommendations finished on 334000/556591 queries. users per second: 20013</pre>"
      ],
      "text/plain": [
       "recommendations finished on 334000/556591 queries. users per second: 20013"
      ]
     },
     "metadata": {},
     "output_type": "display_data"
    },
    {
     "data": {
      "text/html": [
       "<pre>recommendations finished on 335000/556591 queries. users per second: 20017.1</pre>"
      ],
      "text/plain": [
       "recommendations finished on 335000/556591 queries. users per second: 20017.1"
      ]
     },
     "metadata": {},
     "output_type": "display_data"
    },
    {
     "data": {
      "text/html": [
       "<pre>recommendations finished on 336000/556591 queries. users per second: 20023.7</pre>"
      ],
      "text/plain": [
       "recommendations finished on 336000/556591 queries. users per second: 20023.7"
      ]
     },
     "metadata": {},
     "output_type": "display_data"
    },
    {
     "data": {
      "text/html": [
       "<pre>recommendations finished on 337000/556591 queries. users per second: 20029.7</pre>"
      ],
      "text/plain": [
       "recommendations finished on 337000/556591 queries. users per second: 20029.7"
      ]
     },
     "metadata": {},
     "output_type": "display_data"
    },
    {
     "data": {
      "text/html": [
       "<pre>recommendations finished on 338000/556591 queries. users per second: 20036</pre>"
      ],
      "text/plain": [
       "recommendations finished on 338000/556591 queries. users per second: 20036"
      ]
     },
     "metadata": {},
     "output_type": "display_data"
    },
    {
     "data": {
      "text/html": [
       "<pre>recommendations finished on 339000/556591 queries. users per second: 20040.9</pre>"
      ],
      "text/plain": [
       "recommendations finished on 339000/556591 queries. users per second: 20040.9"
      ]
     },
     "metadata": {},
     "output_type": "display_data"
    },
    {
     "data": {
      "text/html": [
       "<pre>recommendations finished on 340000/556591 queries. users per second: 20041.1</pre>"
      ],
      "text/plain": [
       "recommendations finished on 340000/556591 queries. users per second: 20041.1"
      ]
     },
     "metadata": {},
     "output_type": "display_data"
    },
    {
     "data": {
      "text/html": [
       "<pre>recommendations finished on 341000/556591 queries. users per second: 20044.8</pre>"
      ],
      "text/plain": [
       "recommendations finished on 341000/556591 queries. users per second: 20044.8"
      ]
     },
     "metadata": {},
     "output_type": "display_data"
    },
    {
     "data": {
      "text/html": [
       "<pre>recommendations finished on 342000/556591 queries. users per second: 20049.5</pre>"
      ],
      "text/plain": [
       "recommendations finished on 342000/556591 queries. users per second: 20049.5"
      ]
     },
     "metadata": {},
     "output_type": "display_data"
    },
    {
     "data": {
      "text/html": [
       "<pre>recommendations finished on 343000/556591 queries. users per second: 20055.8</pre>"
      ],
      "text/plain": [
       "recommendations finished on 343000/556591 queries. users per second: 20055.8"
      ]
     },
     "metadata": {},
     "output_type": "display_data"
    },
    {
     "data": {
      "text/html": [
       "<pre>recommendations finished on 344000/556591 queries. users per second: 20058.2</pre>"
      ],
      "text/plain": [
       "recommendations finished on 344000/556591 queries. users per second: 20058.2"
      ]
     },
     "metadata": {},
     "output_type": "display_data"
    },
    {
     "data": {
      "text/html": [
       "<pre>recommendations finished on 345000/556591 queries. users per second: 20060.9</pre>"
      ],
      "text/plain": [
       "recommendations finished on 345000/556591 queries. users per second: 20060.9"
      ]
     },
     "metadata": {},
     "output_type": "display_data"
    },
    {
     "data": {
      "text/html": [
       "<pre>recommendations finished on 346000/556591 queries. users per second: 20065.6</pre>"
      ],
      "text/plain": [
       "recommendations finished on 346000/556591 queries. users per second: 20065.6"
      ]
     },
     "metadata": {},
     "output_type": "display_data"
    },
    {
     "data": {
      "text/html": [
       "<pre>recommendations finished on 347000/556591 queries. users per second: 20069.9</pre>"
      ],
      "text/plain": [
       "recommendations finished on 347000/556591 queries. users per second: 20069.9"
      ]
     },
     "metadata": {},
     "output_type": "display_data"
    },
    {
     "data": {
      "text/html": [
       "<pre>recommendations finished on 348000/556591 queries. users per second: 20073.6</pre>"
      ],
      "text/plain": [
       "recommendations finished on 348000/556591 queries. users per second: 20073.6"
      ]
     },
     "metadata": {},
     "output_type": "display_data"
    },
    {
     "data": {
      "text/html": [
       "<pre>recommendations finished on 349000/556591 queries. users per second: 20076.8</pre>"
      ],
      "text/plain": [
       "recommendations finished on 349000/556591 queries. users per second: 20076.8"
      ]
     },
     "metadata": {},
     "output_type": "display_data"
    },
    {
     "data": {
      "text/html": [
       "<pre>recommendations finished on 350000/556591 queries. users per second: 20081.3</pre>"
      ],
      "text/plain": [
       "recommendations finished on 350000/556591 queries. users per second: 20081.3"
      ]
     },
     "metadata": {},
     "output_type": "display_data"
    },
    {
     "data": {
      "text/html": [
       "<pre>recommendations finished on 351000/556591 queries. users per second: 20085.9</pre>"
      ],
      "text/plain": [
       "recommendations finished on 351000/556591 queries. users per second: 20085.9"
      ]
     },
     "metadata": {},
     "output_type": "display_data"
    },
    {
     "data": {
      "text/html": [
       "<pre>recommendations finished on 352000/556591 queries. users per second: 20090.4</pre>"
      ],
      "text/plain": [
       "recommendations finished on 352000/556591 queries. users per second: 20090.4"
      ]
     },
     "metadata": {},
     "output_type": "display_data"
    },
    {
     "data": {
      "text/html": [
       "<pre>recommendations finished on 353000/556591 queries. users per second: 20092.8</pre>"
      ],
      "text/plain": [
       "recommendations finished on 353000/556591 queries. users per second: 20092.8"
      ]
     },
     "metadata": {},
     "output_type": "display_data"
    },
    {
     "data": {
      "text/html": [
       "<pre>recommendations finished on 354000/556591 queries. users per second: 20095.2</pre>"
      ],
      "text/plain": [
       "recommendations finished on 354000/556591 queries. users per second: 20095.2"
      ]
     },
     "metadata": {},
     "output_type": "display_data"
    },
    {
     "data": {
      "text/html": [
       "<pre>recommendations finished on 355000/556591 queries. users per second: 20093.9</pre>"
      ],
      "text/plain": [
       "recommendations finished on 355000/556591 queries. users per second: 20093.9"
      ]
     },
     "metadata": {},
     "output_type": "display_data"
    },
    {
     "data": {
      "text/html": [
       "<pre>recommendations finished on 356000/556591 queries. users per second: 20093.7</pre>"
      ],
      "text/plain": [
       "recommendations finished on 356000/556591 queries. users per second: 20093.7"
      ]
     },
     "metadata": {},
     "output_type": "display_data"
    },
    {
     "data": {
      "text/html": [
       "<pre>recommendations finished on 357000/556591 queries. users per second: 20095</pre>"
      ],
      "text/plain": [
       "recommendations finished on 357000/556591 queries. users per second: 20095"
      ]
     },
     "metadata": {},
     "output_type": "display_data"
    },
    {
     "data": {
      "text/html": [
       "<pre>recommendations finished on 358000/556591 queries. users per second: 20098</pre>"
      ],
      "text/plain": [
       "recommendations finished on 358000/556591 queries. users per second: 20098"
      ]
     },
     "metadata": {},
     "output_type": "display_data"
    },
    {
     "data": {
      "text/html": [
       "<pre>recommendations finished on 359000/556591 queries. users per second: 20102.2</pre>"
      ],
      "text/plain": [
       "recommendations finished on 359000/556591 queries. users per second: 20102.2"
      ]
     },
     "metadata": {},
     "output_type": "display_data"
    },
    {
     "data": {
      "text/html": [
       "<pre>recommendations finished on 360000/556591 queries. users per second: 20104.8</pre>"
      ],
      "text/plain": [
       "recommendations finished on 360000/556591 queries. users per second: 20104.8"
      ]
     },
     "metadata": {},
     "output_type": "display_data"
    },
    {
     "data": {
      "text/html": [
       "<pre>recommendations finished on 361000/556591 queries. users per second: 20108.2</pre>"
      ],
      "text/plain": [
       "recommendations finished on 361000/556591 queries. users per second: 20108.2"
      ]
     },
     "metadata": {},
     "output_type": "display_data"
    },
    {
     "data": {
      "text/html": [
       "<pre>recommendations finished on 362000/556591 queries. users per second: 20110.3</pre>"
      ],
      "text/plain": [
       "recommendations finished on 362000/556591 queries. users per second: 20110.3"
      ]
     },
     "metadata": {},
     "output_type": "display_data"
    },
    {
     "data": {
      "text/html": [
       "<pre>recommendations finished on 363000/556591 queries. users per second: 20108.8</pre>"
      ],
      "text/plain": [
       "recommendations finished on 363000/556591 queries. users per second: 20108.8"
      ]
     },
     "metadata": {},
     "output_type": "display_data"
    },
    {
     "data": {
      "text/html": [
       "<pre>recommendations finished on 364000/556591 queries. users per second: 20107.4</pre>"
      ],
      "text/plain": [
       "recommendations finished on 364000/556591 queries. users per second: 20107.4"
      ]
     },
     "metadata": {},
     "output_type": "display_data"
    },
    {
     "data": {
      "text/html": [
       "<pre>recommendations finished on 365000/556591 queries. users per second: 20106.2</pre>"
      ],
      "text/plain": [
       "recommendations finished on 365000/556591 queries. users per second: 20106.2"
      ]
     },
     "metadata": {},
     "output_type": "display_data"
    },
    {
     "data": {
      "text/html": [
       "<pre>recommendations finished on 366000/556591 queries. users per second: 20106.5</pre>"
      ],
      "text/plain": [
       "recommendations finished on 366000/556591 queries. users per second: 20106.5"
      ]
     },
     "metadata": {},
     "output_type": "display_data"
    },
    {
     "data": {
      "text/html": [
       "<pre>recommendations finished on 367000/556591 queries. users per second: 20109.9</pre>"
      ],
      "text/plain": [
       "recommendations finished on 367000/556591 queries. users per second: 20109.9"
      ]
     },
     "metadata": {},
     "output_type": "display_data"
    },
    {
     "data": {
      "text/html": [
       "<pre>recommendations finished on 368000/556591 queries. users per second: 20112.9</pre>"
      ],
      "text/plain": [
       "recommendations finished on 368000/556591 queries. users per second: 20112.9"
      ]
     },
     "metadata": {},
     "output_type": "display_data"
    },
    {
     "data": {
      "text/html": [
       "<pre>recommendations finished on 369000/556591 queries. users per second: 20112.7</pre>"
      ],
      "text/plain": [
       "recommendations finished on 369000/556591 queries. users per second: 20112.7"
      ]
     },
     "metadata": {},
     "output_type": "display_data"
    },
    {
     "data": {
      "text/html": [
       "<pre>recommendations finished on 370000/556591 queries. users per second: 20112.3</pre>"
      ],
      "text/plain": [
       "recommendations finished on 370000/556591 queries. users per second: 20112.3"
      ]
     },
     "metadata": {},
     "output_type": "display_data"
    },
    {
     "data": {
      "text/html": [
       "<pre>recommendations finished on 371000/556591 queries. users per second: 20105.3</pre>"
      ],
      "text/plain": [
       "recommendations finished on 371000/556591 queries. users per second: 20105.3"
      ]
     },
     "metadata": {},
     "output_type": "display_data"
    },
    {
     "data": {
      "text/html": [
       "<pre>recommendations finished on 372000/556591 queries. users per second: 20094.6</pre>"
      ],
      "text/plain": [
       "recommendations finished on 372000/556591 queries. users per second: 20094.6"
      ]
     },
     "metadata": {},
     "output_type": "display_data"
    },
    {
     "data": {
      "text/html": [
       "<pre>recommendations finished on 373000/556591 queries. users per second: 20090.5</pre>"
      ],
      "text/plain": [
       "recommendations finished on 373000/556591 queries. users per second: 20090.5"
      ]
     },
     "metadata": {},
     "output_type": "display_data"
    },
    {
     "data": {
      "text/html": [
       "<pre>recommendations finished on 374000/556591 queries. users per second: 20081.8</pre>"
      ],
      "text/plain": [
       "recommendations finished on 374000/556591 queries. users per second: 20081.8"
      ]
     },
     "metadata": {},
     "output_type": "display_data"
    },
    {
     "data": {
      "text/html": [
       "<pre>recommendations finished on 375000/556591 queries. users per second: 20072.6</pre>"
      ],
      "text/plain": [
       "recommendations finished on 375000/556591 queries. users per second: 20072.6"
      ]
     },
     "metadata": {},
     "output_type": "display_data"
    },
    {
     "data": {
      "text/html": [
       "<pre>recommendations finished on 376000/556591 queries. users per second: 20072.6</pre>"
      ],
      "text/plain": [
       "recommendations finished on 376000/556591 queries. users per second: 20072.6"
      ]
     },
     "metadata": {},
     "output_type": "display_data"
    },
    {
     "data": {
      "text/html": [
       "<pre>recommendations finished on 377000/556591 queries. users per second: 20075.5</pre>"
      ],
      "text/plain": [
       "recommendations finished on 377000/556591 queries. users per second: 20075.5"
      ]
     },
     "metadata": {},
     "output_type": "display_data"
    },
    {
     "data": {
      "text/html": [
       "<pre>recommendations finished on 378000/556591 queries. users per second: 20078.9</pre>"
      ],
      "text/plain": [
       "recommendations finished on 378000/556591 queries. users per second: 20078.9"
      ]
     },
     "metadata": {},
     "output_type": "display_data"
    },
    {
     "data": {
      "text/html": [
       "<pre>recommendations finished on 379000/556591 queries. users per second: 20071.7</pre>"
      ],
      "text/plain": [
       "recommendations finished on 379000/556591 queries. users per second: 20071.7"
      ]
     },
     "metadata": {},
     "output_type": "display_data"
    },
    {
     "data": {
      "text/html": [
       "<pre>recommendations finished on 380000/556591 queries. users per second: 20067.6</pre>"
      ],
      "text/plain": [
       "recommendations finished on 380000/556591 queries. users per second: 20067.6"
      ]
     },
     "metadata": {},
     "output_type": "display_data"
    },
    {
     "data": {
      "text/html": [
       "<pre>recommendations finished on 381000/556591 queries. users per second: 20067.6</pre>"
      ],
      "text/plain": [
       "recommendations finished on 381000/556591 queries. users per second: 20067.6"
      ]
     },
     "metadata": {},
     "output_type": "display_data"
    },
    {
     "data": {
      "text/html": [
       "<pre>recommendations finished on 382000/556591 queries. users per second: 20045.3</pre>"
      ],
      "text/plain": [
       "recommendations finished on 382000/556591 queries. users per second: 20045.3"
      ]
     },
     "metadata": {},
     "output_type": "display_data"
    },
    {
     "data": {
      "text/html": [
       "<pre>recommendations finished on 383000/556591 queries. users per second: 20036.4</pre>"
      ],
      "text/plain": [
       "recommendations finished on 383000/556591 queries. users per second: 20036.4"
      ]
     },
     "metadata": {},
     "output_type": "display_data"
    },
    {
     "data": {
      "text/html": [
       "<pre>recommendations finished on 384000/556591 queries. users per second: 20031.4</pre>"
      ],
      "text/plain": [
       "recommendations finished on 384000/556591 queries. users per second: 20031.4"
      ]
     },
     "metadata": {},
     "output_type": "display_data"
    },
    {
     "data": {
      "text/html": [
       "<pre>recommendations finished on 385000/556591 queries. users per second: 20019.2</pre>"
      ],
      "text/plain": [
       "recommendations finished on 385000/556591 queries. users per second: 20019.2"
      ]
     },
     "metadata": {},
     "output_type": "display_data"
    },
    {
     "data": {
      "text/html": [
       "<pre>recommendations finished on 386000/556591 queries. users per second: 20002.6</pre>"
      ],
      "text/plain": [
       "recommendations finished on 386000/556591 queries. users per second: 20002.6"
      ]
     },
     "metadata": {},
     "output_type": "display_data"
    },
    {
     "data": {
      "text/html": [
       "<pre>recommendations finished on 387000/556591 queries. users per second: 19999.9</pre>"
      ],
      "text/plain": [
       "recommendations finished on 387000/556591 queries. users per second: 19999.9"
      ]
     },
     "metadata": {},
     "output_type": "display_data"
    },
    {
     "data": {
      "text/html": [
       "<pre>recommendations finished on 388000/556591 queries. users per second: 20003.8</pre>"
      ],
      "text/plain": [
       "recommendations finished on 388000/556591 queries. users per second: 20003.8"
      ]
     },
     "metadata": {},
     "output_type": "display_data"
    },
    {
     "data": {
      "text/html": [
       "<pre>recommendations finished on 389000/556591 queries. users per second: 19999.8</pre>"
      ],
      "text/plain": [
       "recommendations finished on 389000/556591 queries. users per second: 19999.8"
      ]
     },
     "metadata": {},
     "output_type": "display_data"
    },
    {
     "data": {
      "text/html": [
       "<pre>recommendations finished on 390000/556591 queries. users per second: 19990.9</pre>"
      ],
      "text/plain": [
       "recommendations finished on 390000/556591 queries. users per second: 19990.9"
      ]
     },
     "metadata": {},
     "output_type": "display_data"
    },
    {
     "data": {
      "text/html": [
       "<pre>recommendations finished on 391000/556591 queries. users per second: 19985.8</pre>"
      ],
      "text/plain": [
       "recommendations finished on 391000/556591 queries. users per second: 19985.8"
      ]
     },
     "metadata": {},
     "output_type": "display_data"
    },
    {
     "data": {
      "text/html": [
       "<pre>recommendations finished on 392000/556591 queries. users per second: 19984.9</pre>"
      ],
      "text/plain": [
       "recommendations finished on 392000/556591 queries. users per second: 19984.9"
      ]
     },
     "metadata": {},
     "output_type": "display_data"
    },
    {
     "data": {
      "text/html": [
       "<pre>recommendations finished on 393000/556591 queries. users per second: 19984.4</pre>"
      ],
      "text/plain": [
       "recommendations finished on 393000/556591 queries. users per second: 19984.4"
      ]
     },
     "metadata": {},
     "output_type": "display_data"
    },
    {
     "data": {
      "text/html": [
       "<pre>recommendations finished on 394000/556591 queries. users per second: 19984.6</pre>"
      ],
      "text/plain": [
       "recommendations finished on 394000/556591 queries. users per second: 19984.6"
      ]
     },
     "metadata": {},
     "output_type": "display_data"
    },
    {
     "data": {
      "text/html": [
       "<pre>recommendations finished on 395000/556591 queries. users per second: 19984.4</pre>"
      ],
      "text/plain": [
       "recommendations finished on 395000/556591 queries. users per second: 19984.4"
      ]
     },
     "metadata": {},
     "output_type": "display_data"
    },
    {
     "data": {
      "text/html": [
       "<pre>recommendations finished on 396000/556591 queries. users per second: 19986.4</pre>"
      ],
      "text/plain": [
       "recommendations finished on 396000/556591 queries. users per second: 19986.4"
      ]
     },
     "metadata": {},
     "output_type": "display_data"
    },
    {
     "data": {
      "text/html": [
       "<pre>recommendations finished on 397000/556591 queries. users per second: 19975.2</pre>"
      ],
      "text/plain": [
       "recommendations finished on 397000/556591 queries. users per second: 19975.2"
      ]
     },
     "metadata": {},
     "output_type": "display_data"
    },
    {
     "data": {
      "text/html": [
       "<pre>recommendations finished on 398000/556591 queries. users per second: 19961.6</pre>"
      ],
      "text/plain": [
       "recommendations finished on 398000/556591 queries. users per second: 19961.6"
      ]
     },
     "metadata": {},
     "output_type": "display_data"
    },
    {
     "data": {
      "text/html": [
       "<pre>recommendations finished on 399000/556591 queries. users per second: 19949.5</pre>"
      ],
      "text/plain": [
       "recommendations finished on 399000/556591 queries. users per second: 19949.5"
      ]
     },
     "metadata": {},
     "output_type": "display_data"
    },
    {
     "data": {
      "text/html": [
       "<pre>recommendations finished on 400000/556591 queries. users per second: 19931.5</pre>"
      ],
      "text/plain": [
       "recommendations finished on 400000/556591 queries. users per second: 19931.5"
      ]
     },
     "metadata": {},
     "output_type": "display_data"
    },
    {
     "data": {
      "text/html": [
       "<pre>recommendations finished on 401000/556591 queries. users per second: 19912.6</pre>"
      ],
      "text/plain": [
       "recommendations finished on 401000/556591 queries. users per second: 19912.6"
      ]
     },
     "metadata": {},
     "output_type": "display_data"
    },
    {
     "data": {
      "text/html": [
       "<pre>recommendations finished on 402000/556591 queries. users per second: 19898.9</pre>"
      ],
      "text/plain": [
       "recommendations finished on 402000/556591 queries. users per second: 19898.9"
      ]
     },
     "metadata": {},
     "output_type": "display_data"
    },
    {
     "data": {
      "text/html": [
       "<pre>recommendations finished on 403000/556591 queries. users per second: 19897.3</pre>"
      ],
      "text/plain": [
       "recommendations finished on 403000/556591 queries. users per second: 19897.3"
      ]
     },
     "metadata": {},
     "output_type": "display_data"
    },
    {
     "data": {
      "text/html": [
       "<pre>recommendations finished on 404000/556591 queries. users per second: 19895.4</pre>"
      ],
      "text/plain": [
       "recommendations finished on 404000/556591 queries. users per second: 19895.4"
      ]
     },
     "metadata": {},
     "output_type": "display_data"
    },
    {
     "data": {
      "text/html": [
       "<pre>recommendations finished on 405000/556591 queries. users per second: 19888.7</pre>"
      ],
      "text/plain": [
       "recommendations finished on 405000/556591 queries. users per second: 19888.7"
      ]
     },
     "metadata": {},
     "output_type": "display_data"
    },
    {
     "data": {
      "text/html": [
       "<pre>recommendations finished on 406000/556591 queries. users per second: 19888</pre>"
      ],
      "text/plain": [
       "recommendations finished on 406000/556591 queries. users per second: 19888"
      ]
     },
     "metadata": {},
     "output_type": "display_data"
    },
    {
     "data": {
      "text/html": [
       "<pre>recommendations finished on 407000/556591 queries. users per second: 19886.9</pre>"
      ],
      "text/plain": [
       "recommendations finished on 407000/556591 queries. users per second: 19886.9"
      ]
     },
     "metadata": {},
     "output_type": "display_data"
    },
    {
     "data": {
      "text/html": [
       "<pre>recommendations finished on 408000/556591 queries. users per second: 19884.1</pre>"
      ],
      "text/plain": [
       "recommendations finished on 408000/556591 queries. users per second: 19884.1"
      ]
     },
     "metadata": {},
     "output_type": "display_data"
    },
    {
     "data": {
      "text/html": [
       "<pre>recommendations finished on 409000/556591 queries. users per second: 19884.1</pre>"
      ],
      "text/plain": [
       "recommendations finished on 409000/556591 queries. users per second: 19884.1"
      ]
     },
     "metadata": {},
     "output_type": "display_data"
    },
    {
     "data": {
      "text/html": [
       "<pre>recommendations finished on 410000/556591 queries. users per second: 19885.1</pre>"
      ],
      "text/plain": [
       "recommendations finished on 410000/556591 queries. users per second: 19885.1"
      ]
     },
     "metadata": {},
     "output_type": "display_data"
    },
    {
     "data": {
      "text/html": [
       "<pre>recommendations finished on 411000/556591 queries. users per second: 19888</pre>"
      ],
      "text/plain": [
       "recommendations finished on 411000/556591 queries. users per second: 19888"
      ]
     },
     "metadata": {},
     "output_type": "display_data"
    },
    {
     "data": {
      "text/html": [
       "<pre>recommendations finished on 412000/556591 queries. users per second: 19892.1</pre>"
      ],
      "text/plain": [
       "recommendations finished on 412000/556591 queries. users per second: 19892.1"
      ]
     },
     "metadata": {},
     "output_type": "display_data"
    },
    {
     "data": {
      "text/html": [
       "<pre>recommendations finished on 413000/556591 queries. users per second: 19897</pre>"
      ],
      "text/plain": [
       "recommendations finished on 413000/556591 queries. users per second: 19897"
      ]
     },
     "metadata": {},
     "output_type": "display_data"
    },
    {
     "data": {
      "text/html": [
       "<pre>recommendations finished on 414000/556591 queries. users per second: 19895</pre>"
      ],
      "text/plain": [
       "recommendations finished on 414000/556591 queries. users per second: 19895"
      ]
     },
     "metadata": {},
     "output_type": "display_data"
    },
    {
     "data": {
      "text/html": [
       "<pre>recommendations finished on 415000/556591 queries. users per second: 19882.9</pre>"
      ],
      "text/plain": [
       "recommendations finished on 415000/556591 queries. users per second: 19882.9"
      ]
     },
     "metadata": {},
     "output_type": "display_data"
    },
    {
     "data": {
      "text/html": [
       "<pre>recommendations finished on 416000/556591 queries. users per second: 19876</pre>"
      ],
      "text/plain": [
       "recommendations finished on 416000/556591 queries. users per second: 19876"
      ]
     },
     "metadata": {},
     "output_type": "display_data"
    },
    {
     "data": {
      "text/html": [
       "<pre>recommendations finished on 417000/556591 queries. users per second: 19858.9</pre>"
      ],
      "text/plain": [
       "recommendations finished on 417000/556591 queries. users per second: 19858.9"
      ]
     },
     "metadata": {},
     "output_type": "display_data"
    },
    {
     "data": {
      "text/html": [
       "<pre>recommendations finished on 418000/556591 queries. users per second: 19852.7</pre>"
      ],
      "text/plain": [
       "recommendations finished on 418000/556591 queries. users per second: 19852.7"
      ]
     },
     "metadata": {},
     "output_type": "display_data"
    },
    {
     "data": {
      "text/html": [
       "<pre>recommendations finished on 419000/556591 queries. users per second: 19839.1</pre>"
      ],
      "text/plain": [
       "recommendations finished on 419000/556591 queries. users per second: 19839.1"
      ]
     },
     "metadata": {},
     "output_type": "display_data"
    },
    {
     "data": {
      "text/html": [
       "<pre>recommendations finished on 420000/556591 queries. users per second: 19825.6</pre>"
      ],
      "text/plain": [
       "recommendations finished on 420000/556591 queries. users per second: 19825.6"
      ]
     },
     "metadata": {},
     "output_type": "display_data"
    },
    {
     "data": {
      "text/html": [
       "<pre>recommendations finished on 421000/556591 queries. users per second: 19819.8</pre>"
      ],
      "text/plain": [
       "recommendations finished on 421000/556591 queries. users per second: 19819.8"
      ]
     },
     "metadata": {},
     "output_type": "display_data"
    },
    {
     "data": {
      "text/html": [
       "<pre>recommendations finished on 422000/556591 queries. users per second: 19819</pre>"
      ],
      "text/plain": [
       "recommendations finished on 422000/556591 queries. users per second: 19819"
      ]
     },
     "metadata": {},
     "output_type": "display_data"
    },
    {
     "data": {
      "text/html": [
       "<pre>recommendations finished on 423000/556591 queries. users per second: 19819.4</pre>"
      ],
      "text/plain": [
       "recommendations finished on 423000/556591 queries. users per second: 19819.4"
      ]
     },
     "metadata": {},
     "output_type": "display_data"
    },
    {
     "data": {
      "text/html": [
       "<pre>recommendations finished on 424000/556591 queries. users per second: 19819.6</pre>"
      ],
      "text/plain": [
       "recommendations finished on 424000/556591 queries. users per second: 19819.6"
      ]
     },
     "metadata": {},
     "output_type": "display_data"
    },
    {
     "data": {
      "text/html": [
       "<pre>recommendations finished on 425000/556591 queries. users per second: 19819.4</pre>"
      ],
      "text/plain": [
       "recommendations finished on 425000/556591 queries. users per second: 19819.4"
      ]
     },
     "metadata": {},
     "output_type": "display_data"
    },
    {
     "data": {
      "text/html": [
       "<pre>recommendations finished on 426000/556591 queries. users per second: 19818.3</pre>"
      ],
      "text/plain": [
       "recommendations finished on 426000/556591 queries. users per second: 19818.3"
      ]
     },
     "metadata": {},
     "output_type": "display_data"
    },
    {
     "data": {
      "text/html": [
       "<pre>recommendations finished on 427000/556591 queries. users per second: 19819.2</pre>"
      ],
      "text/plain": [
       "recommendations finished on 427000/556591 queries. users per second: 19819.2"
      ]
     },
     "metadata": {},
     "output_type": "display_data"
    },
    {
     "data": {
      "text/html": [
       "<pre>recommendations finished on 428000/556591 queries. users per second: 19821.3</pre>"
      ],
      "text/plain": [
       "recommendations finished on 428000/556591 queries. users per second: 19821.3"
      ]
     },
     "metadata": {},
     "output_type": "display_data"
    },
    {
     "data": {
      "text/html": [
       "<pre>recommendations finished on 429000/556591 queries. users per second: 19821</pre>"
      ],
      "text/plain": [
       "recommendations finished on 429000/556591 queries. users per second: 19821"
      ]
     },
     "metadata": {},
     "output_type": "display_data"
    },
    {
     "data": {
      "text/html": [
       "<pre>recommendations finished on 430000/556591 queries. users per second: 19817.4</pre>"
      ],
      "text/plain": [
       "recommendations finished on 430000/556591 queries. users per second: 19817.4"
      ]
     },
     "metadata": {},
     "output_type": "display_data"
    },
    {
     "data": {
      "text/html": [
       "<pre>recommendations finished on 431000/556591 queries. users per second: 19812.8</pre>"
      ],
      "text/plain": [
       "recommendations finished on 431000/556591 queries. users per second: 19812.8"
      ]
     },
     "metadata": {},
     "output_type": "display_data"
    },
    {
     "data": {
      "text/html": [
       "<pre>recommendations finished on 432000/556591 queries. users per second: 19811</pre>"
      ],
      "text/plain": [
       "recommendations finished on 432000/556591 queries. users per second: 19811"
      ]
     },
     "metadata": {},
     "output_type": "display_data"
    },
    {
     "data": {
      "text/html": [
       "<pre>recommendations finished on 433000/556591 queries. users per second: 19810</pre>"
      ],
      "text/plain": [
       "recommendations finished on 433000/556591 queries. users per second: 19810"
      ]
     },
     "metadata": {},
     "output_type": "display_data"
    },
    {
     "data": {
      "text/html": [
       "<pre>recommendations finished on 434000/556591 queries. users per second: 19810.8</pre>"
      ],
      "text/plain": [
       "recommendations finished on 434000/556591 queries. users per second: 19810.8"
      ]
     },
     "metadata": {},
     "output_type": "display_data"
    },
    {
     "data": {
      "text/html": [
       "<pre>recommendations finished on 435000/556591 queries. users per second: 19812.1</pre>"
      ],
      "text/plain": [
       "recommendations finished on 435000/556591 queries. users per second: 19812.1"
      ]
     },
     "metadata": {},
     "output_type": "display_data"
    },
    {
     "data": {
      "text/html": [
       "<pre>recommendations finished on 436000/556591 queries. users per second: 19814.5</pre>"
      ],
      "text/plain": [
       "recommendations finished on 436000/556591 queries. users per second: 19814.5"
      ]
     },
     "metadata": {},
     "output_type": "display_data"
    },
    {
     "data": {
      "text/html": [
       "<pre>recommendations finished on 437000/556591 queries. users per second: 19805.7</pre>"
      ],
      "text/plain": [
       "recommendations finished on 437000/556591 queries. users per second: 19805.7"
      ]
     },
     "metadata": {},
     "output_type": "display_data"
    },
    {
     "data": {
      "text/html": [
       "<pre>recommendations finished on 438000/556591 queries. users per second: 19796</pre>"
      ],
      "text/plain": [
       "recommendations finished on 438000/556591 queries. users per second: 19796"
      ]
     },
     "metadata": {},
     "output_type": "display_data"
    },
    {
     "data": {
      "text/html": [
       "<pre>recommendations finished on 439000/556591 queries. users per second: 19784.2</pre>"
      ],
      "text/plain": [
       "recommendations finished on 439000/556591 queries. users per second: 19784.2"
      ]
     },
     "metadata": {},
     "output_type": "display_data"
    },
    {
     "data": {
      "text/html": [
       "<pre>recommendations finished on 440000/556591 queries. users per second: 19772.1</pre>"
      ],
      "text/plain": [
       "recommendations finished on 440000/556591 queries. users per second: 19772.1"
      ]
     },
     "metadata": {},
     "output_type": "display_data"
    },
    {
     "data": {
      "text/html": [
       "<pre>recommendations finished on 441000/556591 queries. users per second: 19767.2</pre>"
      ],
      "text/plain": [
       "recommendations finished on 441000/556591 queries. users per second: 19767.2"
      ]
     },
     "metadata": {},
     "output_type": "display_data"
    },
    {
     "data": {
      "text/html": [
       "<pre>recommendations finished on 442000/556591 queries. users per second: 19763.2</pre>"
      ],
      "text/plain": [
       "recommendations finished on 442000/556591 queries. users per second: 19763.2"
      ]
     },
     "metadata": {},
     "output_type": "display_data"
    },
    {
     "data": {
      "text/html": [
       "<pre>recommendations finished on 443000/556591 queries. users per second: 19767.2</pre>"
      ],
      "text/plain": [
       "recommendations finished on 443000/556591 queries. users per second: 19767.2"
      ]
     },
     "metadata": {},
     "output_type": "display_data"
    },
    {
     "data": {
      "text/html": [
       "<pre>recommendations finished on 444000/556591 queries. users per second: 19770.3</pre>"
      ],
      "text/plain": [
       "recommendations finished on 444000/556591 queries. users per second: 19770.3"
      ]
     },
     "metadata": {},
     "output_type": "display_data"
    },
    {
     "data": {
      "text/html": [
       "<pre>recommendations finished on 445000/556591 queries. users per second: 19769.2</pre>"
      ],
      "text/plain": [
       "recommendations finished on 445000/556591 queries. users per second: 19769.2"
      ]
     },
     "metadata": {},
     "output_type": "display_data"
    },
    {
     "data": {
      "text/html": [
       "<pre>recommendations finished on 446000/556591 queries. users per second: 19768.2</pre>"
      ],
      "text/plain": [
       "recommendations finished on 446000/556591 queries. users per second: 19768.2"
      ]
     },
     "metadata": {},
     "output_type": "display_data"
    },
    {
     "data": {
      "text/html": [
       "<pre>recommendations finished on 447000/556591 queries. users per second: 19767.3</pre>"
      ],
      "text/plain": [
       "recommendations finished on 447000/556591 queries. users per second: 19767.3"
      ]
     },
     "metadata": {},
     "output_type": "display_data"
    },
    {
     "data": {
      "text/html": [
       "<pre>recommendations finished on 448000/556591 queries. users per second: 19766.1</pre>"
      ],
      "text/plain": [
       "recommendations finished on 448000/556591 queries. users per second: 19766.1"
      ]
     },
     "metadata": {},
     "output_type": "display_data"
    },
    {
     "data": {
      "text/html": [
       "<pre>recommendations finished on 449000/556591 queries. users per second: 19764</pre>"
      ],
      "text/plain": [
       "recommendations finished on 449000/556591 queries. users per second: 19764"
      ]
     },
     "metadata": {},
     "output_type": "display_data"
    },
    {
     "data": {
      "text/html": [
       "<pre>recommendations finished on 450000/556591 queries. users per second: 19766.5</pre>"
      ],
      "text/plain": [
       "recommendations finished on 450000/556591 queries. users per second: 19766.5"
      ]
     },
     "metadata": {},
     "output_type": "display_data"
    },
    {
     "data": {
      "text/html": [
       "<pre>recommendations finished on 451000/556591 queries. users per second: 19762.8</pre>"
      ],
      "text/plain": [
       "recommendations finished on 451000/556591 queries. users per second: 19762.8"
      ]
     },
     "metadata": {},
     "output_type": "display_data"
    },
    {
     "data": {
      "text/html": [
       "<pre>recommendations finished on 452000/556591 queries. users per second: 19760.1</pre>"
      ],
      "text/plain": [
       "recommendations finished on 452000/556591 queries. users per second: 19760.1"
      ]
     },
     "metadata": {},
     "output_type": "display_data"
    },
    {
     "data": {
      "text/html": [
       "<pre>recommendations finished on 453000/556591 queries. users per second: 19758.2</pre>"
      ],
      "text/plain": [
       "recommendations finished on 453000/556591 queries. users per second: 19758.2"
      ]
     },
     "metadata": {},
     "output_type": "display_data"
    },
    {
     "data": {
      "text/html": [
       "<pre>recommendations finished on 454000/556591 queries. users per second: 19758.8</pre>"
      ],
      "text/plain": [
       "recommendations finished on 454000/556591 queries. users per second: 19758.8"
      ]
     },
     "metadata": {},
     "output_type": "display_data"
    },
    {
     "data": {
      "text/html": [
       "<pre>recommendations finished on 455000/556591 queries. users per second: 19758.4</pre>"
      ],
      "text/plain": [
       "recommendations finished on 455000/556591 queries. users per second: 19758.4"
      ]
     },
     "metadata": {},
     "output_type": "display_data"
    },
    {
     "data": {
      "text/html": [
       "<pre>recommendations finished on 456000/556591 queries. users per second: 19757.3</pre>"
      ],
      "text/plain": [
       "recommendations finished on 456000/556591 queries. users per second: 19757.3"
      ]
     },
     "metadata": {},
     "output_type": "display_data"
    },
    {
     "data": {
      "text/html": [
       "<pre>recommendations finished on 457000/556591 queries. users per second: 19757.2</pre>"
      ],
      "text/plain": [
       "recommendations finished on 457000/556591 queries. users per second: 19757.2"
      ]
     },
     "metadata": {},
     "output_type": "display_data"
    },
    {
     "data": {
      "text/html": [
       "<pre>recommendations finished on 458000/556591 queries. users per second: 19758.9</pre>"
      ],
      "text/plain": [
       "recommendations finished on 458000/556591 queries. users per second: 19758.9"
      ]
     },
     "metadata": {},
     "output_type": "display_data"
    },
    {
     "data": {
      "text/html": [
       "<pre>recommendations finished on 459000/556591 queries. users per second: 19761.3</pre>"
      ],
      "text/plain": [
       "recommendations finished on 459000/556591 queries. users per second: 19761.3"
      ]
     },
     "metadata": {},
     "output_type": "display_data"
    },
    {
     "data": {
      "text/html": [
       "<pre>recommendations finished on 460000/556591 queries. users per second: 19763.8</pre>"
      ],
      "text/plain": [
       "recommendations finished on 460000/556591 queries. users per second: 19763.8"
      ]
     },
     "metadata": {},
     "output_type": "display_data"
    },
    {
     "data": {
      "text/html": [
       "<pre>recommendations finished on 461000/556591 queries. users per second: 19764.4</pre>"
      ],
      "text/plain": [
       "recommendations finished on 461000/556591 queries. users per second: 19764.4"
      ]
     },
     "metadata": {},
     "output_type": "display_data"
    },
    {
     "data": {
      "text/html": [
       "<pre>recommendations finished on 462000/556591 queries. users per second: 19763.2</pre>"
      ],
      "text/plain": [
       "recommendations finished on 462000/556591 queries. users per second: 19763.2"
      ]
     },
     "metadata": {},
     "output_type": "display_data"
    },
    {
     "data": {
      "text/html": [
       "<pre>recommendations finished on 463000/556591 queries. users per second: 19756.6</pre>"
      ],
      "text/plain": [
       "recommendations finished on 463000/556591 queries. users per second: 19756.6"
      ]
     },
     "metadata": {},
     "output_type": "display_data"
    },
    {
     "data": {
      "text/html": [
       "<pre>recommendations finished on 464000/556591 queries. users per second: 19759.2</pre>"
      ],
      "text/plain": [
       "recommendations finished on 464000/556591 queries. users per second: 19759.2"
      ]
     },
     "metadata": {},
     "output_type": "display_data"
    },
    {
     "data": {
      "text/html": [
       "<pre>recommendations finished on 465000/556591 queries. users per second: 19761.1</pre>"
      ],
      "text/plain": [
       "recommendations finished on 465000/556591 queries. users per second: 19761.1"
      ]
     },
     "metadata": {},
     "output_type": "display_data"
    },
    {
     "data": {
      "text/html": [
       "<pre>recommendations finished on 466000/556591 queries. users per second: 19762.6</pre>"
      ],
      "text/plain": [
       "recommendations finished on 466000/556591 queries. users per second: 19762.6"
      ]
     },
     "metadata": {},
     "output_type": "display_data"
    },
    {
     "data": {
      "text/html": [
       "<pre>recommendations finished on 467000/556591 queries. users per second: 19764.7</pre>"
      ],
      "text/plain": [
       "recommendations finished on 467000/556591 queries. users per second: 19764.7"
      ]
     },
     "metadata": {},
     "output_type": "display_data"
    },
    {
     "data": {
      "text/html": [
       "<pre>recommendations finished on 468000/556591 queries. users per second: 19767.3</pre>"
      ],
      "text/plain": [
       "recommendations finished on 468000/556591 queries. users per second: 19767.3"
      ]
     },
     "metadata": {},
     "output_type": "display_data"
    },
    {
     "data": {
      "text/html": [
       "<pre>recommendations finished on 469000/556591 queries. users per second: 19767.6</pre>"
      ],
      "text/plain": [
       "recommendations finished on 469000/556591 queries. users per second: 19767.6"
      ]
     },
     "metadata": {},
     "output_type": "display_data"
    },
    {
     "data": {
      "text/html": [
       "<pre>recommendations finished on 470000/556591 queries. users per second: 19767.7</pre>"
      ],
      "text/plain": [
       "recommendations finished on 470000/556591 queries. users per second: 19767.7"
      ]
     },
     "metadata": {},
     "output_type": "display_data"
    },
    {
     "data": {
      "text/html": [
       "<pre>recommendations finished on 471000/556591 queries. users per second: 19766.8</pre>"
      ],
      "text/plain": [
       "recommendations finished on 471000/556591 queries. users per second: 19766.8"
      ]
     },
     "metadata": {},
     "output_type": "display_data"
    },
    {
     "data": {
      "text/html": [
       "<pre>recommendations finished on 472000/556591 queries. users per second: 19765.9</pre>"
      ],
      "text/plain": [
       "recommendations finished on 472000/556591 queries. users per second: 19765.9"
      ]
     },
     "metadata": {},
     "output_type": "display_data"
    },
    {
     "data": {
      "text/html": [
       "<pre>recommendations finished on 473000/556591 queries. users per second: 19764.5</pre>"
      ],
      "text/plain": [
       "recommendations finished on 473000/556591 queries. users per second: 19764.5"
      ]
     },
     "metadata": {},
     "output_type": "display_data"
    },
    {
     "data": {
      "text/html": [
       "<pre>recommendations finished on 474000/556591 queries. users per second: 19760.6</pre>"
      ],
      "text/plain": [
       "recommendations finished on 474000/556591 queries. users per second: 19760.6"
      ]
     },
     "metadata": {},
     "output_type": "display_data"
    },
    {
     "data": {
      "text/html": [
       "<pre>recommendations finished on 475000/556591 queries. users per second: 19755.7</pre>"
      ],
      "text/plain": [
       "recommendations finished on 475000/556591 queries. users per second: 19755.7"
      ]
     },
     "metadata": {},
     "output_type": "display_data"
    },
    {
     "data": {
      "text/html": [
       "<pre>recommendations finished on 476000/556591 queries. users per second: 19751</pre>"
      ],
      "text/plain": [
       "recommendations finished on 476000/556591 queries. users per second: 19751"
      ]
     },
     "metadata": {},
     "output_type": "display_data"
    },
    {
     "data": {
      "text/html": [
       "<pre>recommendations finished on 477000/556591 queries. users per second: 19747.8</pre>"
      ],
      "text/plain": [
       "recommendations finished on 477000/556591 queries. users per second: 19747.8"
      ]
     },
     "metadata": {},
     "output_type": "display_data"
    },
    {
     "data": {
      "text/html": [
       "<pre>recommendations finished on 478000/556591 queries. users per second: 19742</pre>"
      ],
      "text/plain": [
       "recommendations finished on 478000/556591 queries. users per second: 19742"
      ]
     },
     "metadata": {},
     "output_type": "display_data"
    },
    {
     "data": {
      "text/html": [
       "<pre>recommendations finished on 479000/556591 queries. users per second: 19740.3</pre>"
      ],
      "text/plain": [
       "recommendations finished on 479000/556591 queries. users per second: 19740.3"
      ]
     },
     "metadata": {},
     "output_type": "display_data"
    },
    {
     "data": {
      "text/html": [
       "<pre>recommendations finished on 480000/556591 queries. users per second: 19738.9</pre>"
      ],
      "text/plain": [
       "recommendations finished on 480000/556591 queries. users per second: 19738.9"
      ]
     },
     "metadata": {},
     "output_type": "display_data"
    },
    {
     "data": {
      "text/html": [
       "<pre>recommendations finished on 481000/556591 queries. users per second: 19735.8</pre>"
      ],
      "text/plain": [
       "recommendations finished on 481000/556591 queries. users per second: 19735.8"
      ]
     },
     "metadata": {},
     "output_type": "display_data"
    },
    {
     "data": {
      "text/html": [
       "<pre>recommendations finished on 482000/556591 queries. users per second: 19736.5</pre>"
      ],
      "text/plain": [
       "recommendations finished on 482000/556591 queries. users per second: 19736.5"
      ]
     },
     "metadata": {},
     "output_type": "display_data"
    },
    {
     "data": {
      "text/html": [
       "<pre>recommendations finished on 483000/556591 queries. users per second: 19738</pre>"
      ],
      "text/plain": [
       "recommendations finished on 483000/556591 queries. users per second: 19738"
      ]
     },
     "metadata": {},
     "output_type": "display_data"
    },
    {
     "data": {
      "text/html": [
       "<pre>recommendations finished on 484000/556591 queries. users per second: 19739.7</pre>"
      ],
      "text/plain": [
       "recommendations finished on 484000/556591 queries. users per second: 19739.7"
      ]
     },
     "metadata": {},
     "output_type": "display_data"
    },
    {
     "data": {
      "text/html": [
       "<pre>recommendations finished on 485000/556591 queries. users per second: 19739.8</pre>"
      ],
      "text/plain": [
       "recommendations finished on 485000/556591 queries. users per second: 19739.8"
      ]
     },
     "metadata": {},
     "output_type": "display_data"
    },
    {
     "data": {
      "text/html": [
       "<pre>recommendations finished on 486000/556591 queries. users per second: 19729.5</pre>"
      ],
      "text/plain": [
       "recommendations finished on 486000/556591 queries. users per second: 19729.5"
      ]
     },
     "metadata": {},
     "output_type": "display_data"
    },
    {
     "data": {
      "text/html": [
       "<pre>recommendations finished on 487000/556591 queries. users per second: 19728.7</pre>"
      ],
      "text/plain": [
       "recommendations finished on 487000/556591 queries. users per second: 19728.7"
      ]
     },
     "metadata": {},
     "output_type": "display_data"
    },
    {
     "data": {
      "text/html": [
       "<pre>recommendations finished on 488000/556591 queries. users per second: 19729.8</pre>"
      ],
      "text/plain": [
       "recommendations finished on 488000/556591 queries. users per second: 19729.8"
      ]
     },
     "metadata": {},
     "output_type": "display_data"
    },
    {
     "data": {
      "text/html": [
       "<pre>recommendations finished on 489000/556591 queries. users per second: 19731.3</pre>"
      ],
      "text/plain": [
       "recommendations finished on 489000/556591 queries. users per second: 19731.3"
      ]
     },
     "metadata": {},
     "output_type": "display_data"
    },
    {
     "data": {
      "text/html": [
       "<pre>recommendations finished on 490000/556591 queries. users per second: 19733.9</pre>"
      ],
      "text/plain": [
       "recommendations finished on 490000/556591 queries. users per second: 19733.9"
      ]
     },
     "metadata": {},
     "output_type": "display_data"
    },
    {
     "data": {
      "text/html": [
       "<pre>recommendations finished on 491000/556591 queries. users per second: 19736.3</pre>"
      ],
      "text/plain": [
       "recommendations finished on 491000/556591 queries. users per second: 19736.3"
      ]
     },
     "metadata": {},
     "output_type": "display_data"
    },
    {
     "data": {
      "text/html": [
       "<pre>recommendations finished on 492000/556591 queries. users per second: 19738.5</pre>"
      ],
      "text/plain": [
       "recommendations finished on 492000/556591 queries. users per second: 19738.5"
      ]
     },
     "metadata": {},
     "output_type": "display_data"
    },
    {
     "data": {
      "text/html": [
       "<pre>recommendations finished on 493000/556591 queries. users per second: 19740.2</pre>"
      ],
      "text/plain": [
       "recommendations finished on 493000/556591 queries. users per second: 19740.2"
      ]
     },
     "metadata": {},
     "output_type": "display_data"
    },
    {
     "data": {
      "text/html": [
       "<pre>recommendations finished on 494000/556591 queries. users per second: 19742.2</pre>"
      ],
      "text/plain": [
       "recommendations finished on 494000/556591 queries. users per second: 19742.2"
      ]
     },
     "metadata": {},
     "output_type": "display_data"
    },
    {
     "data": {
      "text/html": [
       "<pre>recommendations finished on 495000/556591 queries. users per second: 19743.2</pre>"
      ],
      "text/plain": [
       "recommendations finished on 495000/556591 queries. users per second: 19743.2"
      ]
     },
     "metadata": {},
     "output_type": "display_data"
    },
    {
     "data": {
      "text/html": [
       "<pre>recommendations finished on 496000/556591 queries. users per second: 19744.3</pre>"
      ],
      "text/plain": [
       "recommendations finished on 496000/556591 queries. users per second: 19744.3"
      ]
     },
     "metadata": {},
     "output_type": "display_data"
    },
    {
     "data": {
      "text/html": [
       "<pre>recommendations finished on 497000/556591 queries. users per second: 19744.5</pre>"
      ],
      "text/plain": [
       "recommendations finished on 497000/556591 queries. users per second: 19744.5"
      ]
     },
     "metadata": {},
     "output_type": "display_data"
    },
    {
     "data": {
      "text/html": [
       "<pre>recommendations finished on 498000/556591 queries. users per second: 19743.6</pre>"
      ],
      "text/plain": [
       "recommendations finished on 498000/556591 queries. users per second: 19743.6"
      ]
     },
     "metadata": {},
     "output_type": "display_data"
    },
    {
     "data": {
      "text/html": [
       "<pre>recommendations finished on 499000/556591 queries. users per second: 19744.4</pre>"
      ],
      "text/plain": [
       "recommendations finished on 499000/556591 queries. users per second: 19744.4"
      ]
     },
     "metadata": {},
     "output_type": "display_data"
    },
    {
     "data": {
      "text/html": [
       "<pre>recommendations finished on 500000/556591 queries. users per second: 19744.9</pre>"
      ],
      "text/plain": [
       "recommendations finished on 500000/556591 queries. users per second: 19744.9"
      ]
     },
     "metadata": {},
     "output_type": "display_data"
    },
    {
     "data": {
      "text/html": [
       "<pre>recommendations finished on 501000/556591 queries. users per second: 19745.8</pre>"
      ],
      "text/plain": [
       "recommendations finished on 501000/556591 queries. users per second: 19745.8"
      ]
     },
     "metadata": {},
     "output_type": "display_data"
    },
    {
     "data": {
      "text/html": [
       "<pre>recommendations finished on 502000/556591 queries. users per second: 19745.6</pre>"
      ],
      "text/plain": [
       "recommendations finished on 502000/556591 queries. users per second: 19745.6"
      ]
     },
     "metadata": {},
     "output_type": "display_data"
    },
    {
     "data": {
      "text/html": [
       "<pre>recommendations finished on 503000/556591 queries. users per second: 19747.5</pre>"
      ],
      "text/plain": [
       "recommendations finished on 503000/556591 queries. users per second: 19747.5"
      ]
     },
     "metadata": {},
     "output_type": "display_data"
    },
    {
     "data": {
      "text/html": [
       "<pre>recommendations finished on 504000/556591 queries. users per second: 19746.7</pre>"
      ],
      "text/plain": [
       "recommendations finished on 504000/556591 queries. users per second: 19746.7"
      ]
     },
     "metadata": {},
     "output_type": "display_data"
    },
    {
     "data": {
      "text/html": [
       "<pre>recommendations finished on 505000/556591 queries. users per second: 19737.5</pre>"
      ],
      "text/plain": [
       "recommendations finished on 505000/556591 queries. users per second: 19737.5"
      ]
     },
     "metadata": {},
     "output_type": "display_data"
    },
    {
     "data": {
      "text/html": [
       "<pre>recommendations finished on 506000/556591 queries. users per second: 19731</pre>"
      ],
      "text/plain": [
       "recommendations finished on 506000/556591 queries. users per second: 19731"
      ]
     },
     "metadata": {},
     "output_type": "display_data"
    },
    {
     "data": {
      "text/html": [
       "<pre>recommendations finished on 507000/556591 queries. users per second: 19730.9</pre>"
      ],
      "text/plain": [
       "recommendations finished on 507000/556591 queries. users per second: 19730.9"
      ]
     },
     "metadata": {},
     "output_type": "display_data"
    },
    {
     "data": {
      "text/html": [
       "<pre>recommendations finished on 508000/556591 queries. users per second: 19731.6</pre>"
      ],
      "text/plain": [
       "recommendations finished on 508000/556591 queries. users per second: 19731.6"
      ]
     },
     "metadata": {},
     "output_type": "display_data"
    },
    {
     "data": {
      "text/html": [
       "<pre>recommendations finished on 509000/556591 queries. users per second: 19733.6</pre>"
      ],
      "text/plain": [
       "recommendations finished on 509000/556591 queries. users per second: 19733.6"
      ]
     },
     "metadata": {},
     "output_type": "display_data"
    },
    {
     "data": {
      "text/html": [
       "<pre>recommendations finished on 510000/556591 queries. users per second: 19735.2</pre>"
      ],
      "text/plain": [
       "recommendations finished on 510000/556591 queries. users per second: 19735.2"
      ]
     },
     "metadata": {},
     "output_type": "display_data"
    },
    {
     "data": {
      "text/html": [
       "<pre>recommendations finished on 511000/556591 queries. users per second: 19737.2</pre>"
      ],
      "text/plain": [
       "recommendations finished on 511000/556591 queries. users per second: 19737.2"
      ]
     },
     "metadata": {},
     "output_type": "display_data"
    },
    {
     "data": {
      "text/html": [
       "<pre>recommendations finished on 512000/556591 queries. users per second: 19724.7</pre>"
      ],
      "text/plain": [
       "recommendations finished on 512000/556591 queries. users per second: 19724.7"
      ]
     },
     "metadata": {},
     "output_type": "display_data"
    },
    {
     "data": {
      "text/html": [
       "<pre>recommendations finished on 513000/556591 queries. users per second: 19710.4</pre>"
      ],
      "text/plain": [
       "recommendations finished on 513000/556591 queries. users per second: 19710.4"
      ]
     },
     "metadata": {},
     "output_type": "display_data"
    },
    {
     "data": {
      "text/html": [
       "<pre>recommendations finished on 514000/556591 queries. users per second: 19712.7</pre>"
      ],
      "text/plain": [
       "recommendations finished on 514000/556591 queries. users per second: 19712.7"
      ]
     },
     "metadata": {},
     "output_type": "display_data"
    },
    {
     "data": {
      "text/html": [
       "<pre>recommendations finished on 515000/556591 queries. users per second: 19712.7</pre>"
      ],
      "text/plain": [
       "recommendations finished on 515000/556591 queries. users per second: 19712.7"
      ]
     },
     "metadata": {},
     "output_type": "display_data"
    },
    {
     "data": {
      "text/html": [
       "<pre>recommendations finished on 516000/556591 queries. users per second: 19714</pre>"
      ],
      "text/plain": [
       "recommendations finished on 516000/556591 queries. users per second: 19714"
      ]
     },
     "metadata": {},
     "output_type": "display_data"
    },
    {
     "data": {
      "text/html": [
       "<pre>recommendations finished on 517000/556591 queries. users per second: 19709</pre>"
      ],
      "text/plain": [
       "recommendations finished on 517000/556591 queries. users per second: 19709"
      ]
     },
     "metadata": {},
     "output_type": "display_data"
    },
    {
     "data": {
      "text/html": [
       "<pre>recommendations finished on 518000/556591 queries. users per second: 19698.2</pre>"
      ],
      "text/plain": [
       "recommendations finished on 518000/556591 queries. users per second: 19698.2"
      ]
     },
     "metadata": {},
     "output_type": "display_data"
    },
    {
     "data": {
      "text/html": [
       "<pre>recommendations finished on 519000/556591 queries. users per second: 19687.8</pre>"
      ],
      "text/plain": [
       "recommendations finished on 519000/556591 queries. users per second: 19687.8"
      ]
     },
     "metadata": {},
     "output_type": "display_data"
    },
    {
     "data": {
      "text/html": [
       "<pre>recommendations finished on 520000/556591 queries. users per second: 19681.1</pre>"
      ],
      "text/plain": [
       "recommendations finished on 520000/556591 queries. users per second: 19681.1"
      ]
     },
     "metadata": {},
     "output_type": "display_data"
    },
    {
     "data": {
      "text/html": [
       "<pre>recommendations finished on 521000/556591 queries. users per second: 19680.1</pre>"
      ],
      "text/plain": [
       "recommendations finished on 521000/556591 queries. users per second: 19680.1"
      ]
     },
     "metadata": {},
     "output_type": "display_data"
    },
    {
     "data": {
      "text/html": [
       "<pre>recommendations finished on 522000/556591 queries. users per second: 19676.5</pre>"
      ],
      "text/plain": [
       "recommendations finished on 522000/556591 queries. users per second: 19676.5"
      ]
     },
     "metadata": {},
     "output_type": "display_data"
    },
    {
     "data": {
      "text/html": [
       "<pre>recommendations finished on 523000/556591 queries. users per second: 19676.9</pre>"
      ],
      "text/plain": [
       "recommendations finished on 523000/556591 queries. users per second: 19676.9"
      ]
     },
     "metadata": {},
     "output_type": "display_data"
    },
    {
     "data": {
      "text/html": [
       "<pre>recommendations finished on 524000/556591 queries. users per second: 19676.1</pre>"
      ],
      "text/plain": [
       "recommendations finished on 524000/556591 queries. users per second: 19676.1"
      ]
     },
     "metadata": {},
     "output_type": "display_data"
    },
    {
     "data": {
      "text/html": [
       "<pre>recommendations finished on 525000/556591 queries. users per second: 19678</pre>"
      ],
      "text/plain": [
       "recommendations finished on 525000/556591 queries. users per second: 19678"
      ]
     },
     "metadata": {},
     "output_type": "display_data"
    },
    {
     "data": {
      "text/html": [
       "<pre>recommendations finished on 526000/556591 queries. users per second: 19679.3</pre>"
      ],
      "text/plain": [
       "recommendations finished on 526000/556591 queries. users per second: 19679.3"
      ]
     },
     "metadata": {},
     "output_type": "display_data"
    },
    {
     "data": {
      "text/html": [
       "<pre>recommendations finished on 527000/556591 queries. users per second: 19666.5</pre>"
      ],
      "text/plain": [
       "recommendations finished on 527000/556591 queries. users per second: 19666.5"
      ]
     },
     "metadata": {},
     "output_type": "display_data"
    },
    {
     "data": {
      "text/html": [
       "<pre>recommendations finished on 528000/556591 queries. users per second: 19666.1</pre>"
      ],
      "text/plain": [
       "recommendations finished on 528000/556591 queries. users per second: 19666.1"
      ]
     },
     "metadata": {},
     "output_type": "display_data"
    },
    {
     "data": {
      "text/html": [
       "<pre>recommendations finished on 529000/556591 queries. users per second: 19668.3</pre>"
      ],
      "text/plain": [
       "recommendations finished on 529000/556591 queries. users per second: 19668.3"
      ]
     },
     "metadata": {},
     "output_type": "display_data"
    },
    {
     "data": {
      "text/html": [
       "<pre>recommendations finished on 530000/556591 queries. users per second: 19670</pre>"
      ],
      "text/plain": [
       "recommendations finished on 530000/556591 queries. users per second: 19670"
      ]
     },
     "metadata": {},
     "output_type": "display_data"
    },
    {
     "data": {
      "text/html": [
       "<pre>recommendations finished on 531000/556591 queries. users per second: 19671</pre>"
      ],
      "text/plain": [
       "recommendations finished on 531000/556591 queries. users per second: 19671"
      ]
     },
     "metadata": {},
     "output_type": "display_data"
    },
    {
     "data": {
      "text/html": [
       "<pre>recommendations finished on 532000/556591 queries. users per second: 19672.9</pre>"
      ],
      "text/plain": [
       "recommendations finished on 532000/556591 queries. users per second: 19672.9"
      ]
     },
     "metadata": {},
     "output_type": "display_data"
    },
    {
     "data": {
      "text/html": [
       "<pre>recommendations finished on 533000/556591 queries. users per second: 19674.9</pre>"
      ],
      "text/plain": [
       "recommendations finished on 533000/556591 queries. users per second: 19674.9"
      ]
     },
     "metadata": {},
     "output_type": "display_data"
    },
    {
     "data": {
      "text/html": [
       "<pre>recommendations finished on 534000/556591 queries. users per second: 19676.6</pre>"
      ],
      "text/plain": [
       "recommendations finished on 534000/556591 queries. users per second: 19676.6"
      ]
     },
     "metadata": {},
     "output_type": "display_data"
    },
    {
     "data": {
      "text/html": [
       "<pre>recommendations finished on 535000/556591 queries. users per second: 19677.3</pre>"
      ],
      "text/plain": [
       "recommendations finished on 535000/556591 queries. users per second: 19677.3"
      ]
     },
     "metadata": {},
     "output_type": "display_data"
    },
    {
     "data": {
      "text/html": [
       "<pre>recommendations finished on 536000/556591 queries. users per second: 19680.4</pre>"
      ],
      "text/plain": [
       "recommendations finished on 536000/556591 queries. users per second: 19680.4"
      ]
     },
     "metadata": {},
     "output_type": "display_data"
    },
    {
     "data": {
      "text/html": [
       "<pre>recommendations finished on 537000/556591 queries. users per second: 19678.5</pre>"
      ],
      "text/plain": [
       "recommendations finished on 537000/556591 queries. users per second: 19678.5"
      ]
     },
     "metadata": {},
     "output_type": "display_data"
    },
    {
     "data": {
      "text/html": [
       "<pre>recommendations finished on 538000/556591 queries. users per second: 19679.8</pre>"
      ],
      "text/plain": [
       "recommendations finished on 538000/556591 queries. users per second: 19679.8"
      ]
     },
     "metadata": {},
     "output_type": "display_data"
    },
    {
     "data": {
      "text/html": [
       "<pre>recommendations finished on 539000/556591 queries. users per second: 19677</pre>"
      ],
      "text/plain": [
       "recommendations finished on 539000/556591 queries. users per second: 19677"
      ]
     },
     "metadata": {},
     "output_type": "display_data"
    },
    {
     "data": {
      "text/html": [
       "<pre>recommendations finished on 540000/556591 queries. users per second: 19679.1</pre>"
      ],
      "text/plain": [
       "recommendations finished on 540000/556591 queries. users per second: 19679.1"
      ]
     },
     "metadata": {},
     "output_type": "display_data"
    },
    {
     "data": {
      "text/html": [
       "<pre>recommendations finished on 541000/556591 queries. users per second: 19680.9</pre>"
      ],
      "text/plain": [
       "recommendations finished on 541000/556591 queries. users per second: 19680.9"
      ]
     },
     "metadata": {},
     "output_type": "display_data"
    },
    {
     "data": {
      "text/html": [
       "<pre>recommendations finished on 542000/556591 queries. users per second: 19678.8</pre>"
      ],
      "text/plain": [
       "recommendations finished on 542000/556591 queries. users per second: 19678.8"
      ]
     },
     "metadata": {},
     "output_type": "display_data"
    },
    {
     "data": {
      "text/html": [
       "<pre>recommendations finished on 543000/556591 queries. users per second: 19679.6</pre>"
      ],
      "text/plain": [
       "recommendations finished on 543000/556591 queries. users per second: 19679.6"
      ]
     },
     "metadata": {},
     "output_type": "display_data"
    },
    {
     "data": {
      "text/html": [
       "<pre>recommendations finished on 544000/556591 queries. users per second: 19672</pre>"
      ],
      "text/plain": [
       "recommendations finished on 544000/556591 queries. users per second: 19672"
      ]
     },
     "metadata": {},
     "output_type": "display_data"
    },
    {
     "data": {
      "text/html": [
       "<pre>recommendations finished on 545000/556591 queries. users per second: 19665.3</pre>"
      ],
      "text/plain": [
       "recommendations finished on 545000/556591 queries. users per second: 19665.3"
      ]
     },
     "metadata": {},
     "output_type": "display_data"
    },
    {
     "data": {
      "text/html": [
       "<pre>recommendations finished on 546000/556591 queries. users per second: 19656.5</pre>"
      ],
      "text/plain": [
       "recommendations finished on 546000/556591 queries. users per second: 19656.5"
      ]
     },
     "metadata": {},
     "output_type": "display_data"
    },
    {
     "data": {
      "text/html": [
       "<pre>recommendations finished on 547000/556591 queries. users per second: 19649.2</pre>"
      ],
      "text/plain": [
       "recommendations finished on 547000/556591 queries. users per second: 19649.2"
      ]
     },
     "metadata": {},
     "output_type": "display_data"
    },
    {
     "data": {
      "text/html": [
       "<pre>recommendations finished on 548000/556591 queries. users per second: 19643.3</pre>"
      ],
      "text/plain": [
       "recommendations finished on 548000/556591 queries. users per second: 19643.3"
      ]
     },
     "metadata": {},
     "output_type": "display_data"
    },
    {
     "data": {
      "text/html": [
       "<pre>recommendations finished on 549000/556591 queries. users per second: 19634.6</pre>"
      ],
      "text/plain": [
       "recommendations finished on 549000/556591 queries. users per second: 19634.6"
      ]
     },
     "metadata": {},
     "output_type": "display_data"
    },
    {
     "data": {
      "text/html": [
       "<pre>recommendations finished on 550000/556591 queries. users per second: 19627.8</pre>"
      ],
      "text/plain": [
       "recommendations finished on 550000/556591 queries. users per second: 19627.8"
      ]
     },
     "metadata": {},
     "output_type": "display_data"
    },
    {
     "data": {
      "text/html": [
       "<pre>recommendations finished on 551000/556591 queries. users per second: 19620.5</pre>"
      ],
      "text/plain": [
       "recommendations finished on 551000/556591 queries. users per second: 19620.5"
      ]
     },
     "metadata": {},
     "output_type": "display_data"
    },
    {
     "data": {
      "text/html": [
       "<pre>recommendations finished on 552000/556591 queries. users per second: 19614.4</pre>"
      ],
      "text/plain": [
       "recommendations finished on 552000/556591 queries. users per second: 19614.4"
      ]
     },
     "metadata": {},
     "output_type": "display_data"
    },
    {
     "data": {
      "text/html": [
       "<pre>recommendations finished on 553000/556591 queries. users per second: 19605.7</pre>"
      ],
      "text/plain": [
       "recommendations finished on 553000/556591 queries. users per second: 19605.7"
      ]
     },
     "metadata": {},
     "output_type": "display_data"
    },
    {
     "data": {
      "text/html": [
       "<pre>recommendations finished on 554000/556591 queries. users per second: 19599.5</pre>"
      ],
      "text/plain": [
       "recommendations finished on 554000/556591 queries. users per second: 19599.5"
      ]
     },
     "metadata": {},
     "output_type": "display_data"
    },
    {
     "data": {
      "text/html": [
       "<pre>recommendations finished on 555000/556591 queries. users per second: 19593.3</pre>"
      ],
      "text/plain": [
       "recommendations finished on 555000/556591 queries. users per second: 19593.3"
      ]
     },
     "metadata": {},
     "output_type": "display_data"
    },
    {
     "data": {
      "text/html": [
       "<pre>recommendations finished on 556000/556591 queries. users per second: 19559.8</pre>"
      ],
      "text/plain": [
       "recommendations finished on 556000/556591 queries. users per second: 19559.8"
      ]
     },
     "metadata": {},
     "output_type": "display_data"
    },
    {
     "name": "stdout",
     "output_type": "stream",
     "text": [
      "+-----------+------------+----------------------+------+\n",
      "|  user_id  | product_id |        score         | rank |\n",
      "+-----------+------------+----------------------+------+\n",
      "| 543272936 |  1004833   |  3.668076127767563   |  1   |\n",
      "| 543272936 |  1004767   |  2.7470069229602814  |  2   |\n",
      "| 543272936 |  1004858   |  2.0656363666057587  |  3   |\n",
      "| 543272936 |  1004750   |  1.8056735396385193  |  4   |\n",
      "| 543272936 |  1004857   |  1.7164364755153656  |  5   |\n",
      "| 543272936 |  1005100   |  1.7118978798389435  |  6   |\n",
      "| 543272936 |  1004836   |  1.4483079314231873  |  7   |\n",
      "| 543272936 |  1004834   |  1.3835522830486298  |  8   |\n",
      "| 543272936 |  2701735   |  1.3820402324199677  |  9   |\n",
      "| 543272936 |  1004238   |  1.253294199705124   |  10  |\n",
      "| 551377651 |  1004434   | 0.07582694292068481  |  1   |\n",
      "| 551377651 |  1004833   | 0.05733774767981635  |  2   |\n",
      "| 551377651 |  1004767   | 0.056982212596469455 |  3   |\n",
      "| 551377651 |  8800911   | 0.05633528365029229  |  4   |\n",
      "| 551377651 |  1005169   | 0.04162413544125027  |  5   |\n",
      "| 551377651 |  1002535   | 0.041554278797573514 |  6   |\n",
      "| 551377651 |  15700044  | 0.04085675875345866  |  7   |\n",
      "| 551377651 |  1002544   | 0.040738986598120794 |  8   |\n",
      "| 551377651 |  26402838  | 0.04029895861943563  |  9   |\n",
      "| 551377651 |  1005100   |  0.0370474656422933  |  10  |\n",
      "| 551377651 |  1004434   | 0.07582694292068481  |  1   |\n",
      "| 551377651 |  1004833   | 0.05733774767981635  |  2   |\n",
      "| 551377651 |  1004767   | 0.056982212596469455 |  3   |\n",
      "| 551377651 |  8800911   | 0.05633528365029229  |  4   |\n",
      "| 551377651 |  1005169   | 0.04162413544125027  |  5   |\n",
      "| 551377651 |  1002535   | 0.041554278797573514 |  6   |\n",
      "| 551377651 |  15700044  | 0.04085675875345866  |  7   |\n",
      "| 551377651 |  1002544   | 0.040738986598120794 |  8   |\n",
      "| 551377651 |  26402838  | 0.04029895861943563  |  9   |\n",
      "| 551377651 |  1005100   |  0.0370474656422933  |  10  |\n",
      "+-----------+------------+----------------------+------+\n",
      "[5565910 rows x 4 columns]\n",
      "\n"
     ]
    }
   ],
   "source": [
    "# these variables will change accordingly\n",
    "name = 'cosine'\n",
    "target = 'purchase_count'\n",
    "cos = model(train_data, name, user_id, item_id, target, users_to_recommend, n_rec, n_display)"
   ]
  },
  {
   "cell_type": "markdown",
   "metadata": {},
   "source": [
    "### 6.2. `Pearson` similarity\n",
    "* Similarity is the pearson coefficient between the two vectors.\n",
    "* It is defined by the following formula\n",
    "</br>\n",
    "\n",
    "![](http://critical-numbers.group.shef.ac.uk/glossary/images/correlationKT1.png)"
   ]
  },
  {
   "cell_type": "code",
   "execution_count": 55,
   "metadata": {},
   "outputs": [
    {
     "data": {
      "text/html": [
       "<pre>Preparing data set.</pre>"
      ],
      "text/plain": [
       "Preparing data set."
      ]
     },
     "metadata": {},
     "output_type": "display_data"
    },
    {
     "data": {
      "text/html": [
       "<pre>    Data has 328569 observations with 55108 users and 21062 items.</pre>"
      ],
      "text/plain": [
       "    Data has 328569 observations with 55108 users and 21062 items."
      ]
     },
     "metadata": {},
     "output_type": "display_data"
    },
    {
     "data": {
      "text/html": [
       "<pre>    Data prepared in: 0.247259s</pre>"
      ],
      "text/plain": [
       "    Data prepared in: 0.247259s"
      ]
     },
     "metadata": {},
     "output_type": "display_data"
    },
    {
     "data": {
      "text/html": [
       "<pre>Training model from provided data.</pre>"
      ],
      "text/plain": [
       "Training model from provided data."
      ]
     },
     "metadata": {},
     "output_type": "display_data"
    },
    {
     "data": {
      "text/html": [
       "<pre>Gathering per-item and per-user statistics.</pre>"
      ],
      "text/plain": [
       "Gathering per-item and per-user statistics."
      ]
     },
     "metadata": {},
     "output_type": "display_data"
    },
    {
     "data": {
      "text/html": [
       "<pre>+--------------------------------+------------+</pre>"
      ],
      "text/plain": [
       "+--------------------------------+------------+"
      ]
     },
     "metadata": {},
     "output_type": "display_data"
    },
    {
     "data": {
      "text/html": [
       "<pre>| Elapsed Time (Item Statistics) | % Complete |</pre>"
      ],
      "text/plain": [
       "| Elapsed Time (Item Statistics) | % Complete |"
      ]
     },
     "metadata": {},
     "output_type": "display_data"
    },
    {
     "data": {
      "text/html": [
       "<pre>+--------------------------------+------------+</pre>"
      ],
      "text/plain": [
       "+--------------------------------+------------+"
      ]
     },
     "metadata": {},
     "output_type": "display_data"
    },
    {
     "data": {
      "text/html": [
       "<pre>| 1.548ms                        | 1.75       |</pre>"
      ],
      "text/plain": [
       "| 1.548ms                        | 1.75       |"
      ]
     },
     "metadata": {},
     "output_type": "display_data"
    },
    {
     "data": {
      "text/html": [
       "<pre>| 15.39ms                        | 100        |</pre>"
      ],
      "text/plain": [
       "| 15.39ms                        | 100        |"
      ]
     },
     "metadata": {},
     "output_type": "display_data"
    },
    {
     "data": {
      "text/html": [
       "<pre>+--------------------------------+------------+</pre>"
      ],
      "text/plain": [
       "+--------------------------------+------------+"
      ]
     },
     "metadata": {},
     "output_type": "display_data"
    },
    {
     "data": {
      "text/html": [
       "<pre>Setting up lookup tables.</pre>"
      ],
      "text/plain": [
       "Setting up lookup tables."
      ]
     },
     "metadata": {},
     "output_type": "display_data"
    },
    {
     "data": {
      "text/html": [
       "<pre>Processing data in one pass using dense lookup tables.</pre>"
      ],
      "text/plain": [
       "Processing data in one pass using dense lookup tables."
      ]
     },
     "metadata": {},
     "output_type": "display_data"
    },
    {
     "data": {
      "text/html": [
       "<pre>+-------------------------------------+------------------+-----------------+</pre>"
      ],
      "text/plain": [
       "+-------------------------------------+------------------+-----------------+"
      ]
     },
     "metadata": {},
     "output_type": "display_data"
    },
    {
     "data": {
      "text/html": [
       "<pre>| Elapsed Time (Constructing Lookups) | Total % Complete | Items Processed |</pre>"
      ],
      "text/plain": [
       "| Elapsed Time (Constructing Lookups) | Total % Complete | Items Processed |"
      ]
     },
     "metadata": {},
     "output_type": "display_data"
    },
    {
     "data": {
      "text/html": [
       "<pre>+-------------------------------------+------------------+-----------------+</pre>"
      ],
      "text/plain": [
       "+-------------------------------------+------------------+-----------------+"
      ]
     },
     "metadata": {},
     "output_type": "display_data"
    },
    {
     "data": {
      "text/html": [
       "<pre>| 821.958ms                           | 0                | 0               |</pre>"
      ],
      "text/plain": [
       "| 821.958ms                           | 0                | 0               |"
      ]
     },
     "metadata": {},
     "output_type": "display_data"
    },
    {
     "data": {
      "text/html": [
       "<pre>| 2.09s                               | 100              | 21062           |</pre>"
      ],
      "text/plain": [
       "| 2.09s                               | 100              | 21062           |"
      ]
     },
     "metadata": {},
     "output_type": "display_data"
    },
    {
     "data": {
      "text/html": [
       "<pre>+-------------------------------------+------------------+-----------------+</pre>"
      ],
      "text/plain": [
       "+-------------------------------------+------------------+-----------------+"
      ]
     },
     "metadata": {},
     "output_type": "display_data"
    },
    {
     "data": {
      "text/html": [
       "<pre>Finalizing lookup tables.</pre>"
      ],
      "text/plain": [
       "Finalizing lookup tables."
      ]
     },
     "metadata": {},
     "output_type": "display_data"
    },
    {
     "data": {
      "text/html": [
       "<pre>Generating candidate set for working with new users.</pre>"
      ],
      "text/plain": [
       "Generating candidate set for working with new users."
      ]
     },
     "metadata": {},
     "output_type": "display_data"
    },
    {
     "data": {
      "text/html": [
       "<pre>Finished training in 2.11398s</pre>"
      ],
      "text/plain": [
       "Finished training in 2.11398s"
      ]
     },
     "metadata": {},
     "output_type": "display_data"
    },
    {
     "data": {
      "text/html": [
       "<pre>recommendations finished on 1000/556591 queries. users per second: 15801.3</pre>"
      ],
      "text/plain": [
       "recommendations finished on 1000/556591 queries. users per second: 15801.3"
      ]
     },
     "metadata": {},
     "output_type": "display_data"
    },
    {
     "data": {
      "text/html": [
       "<pre>recommendations finished on 2000/556591 queries. users per second: 16314.3</pre>"
      ],
      "text/plain": [
       "recommendations finished on 2000/556591 queries. users per second: 16314.3"
      ]
     },
     "metadata": {},
     "output_type": "display_data"
    },
    {
     "data": {
      "text/html": [
       "<pre>recommendations finished on 3000/556591 queries. users per second: 16974.8</pre>"
      ],
      "text/plain": [
       "recommendations finished on 3000/556591 queries. users per second: 16974.8"
      ]
     },
     "metadata": {},
     "output_type": "display_data"
    },
    {
     "data": {
      "text/html": [
       "<pre>recommendations finished on 4000/556591 queries. users per second: 16799.9</pre>"
      ],
      "text/plain": [
       "recommendations finished on 4000/556591 queries. users per second: 16799.9"
      ]
     },
     "metadata": {},
     "output_type": "display_data"
    },
    {
     "data": {
      "text/html": [
       "<pre>recommendations finished on 5000/556591 queries. users per second: 17114.6</pre>"
      ],
      "text/plain": [
       "recommendations finished on 5000/556591 queries. users per second: 17114.6"
      ]
     },
     "metadata": {},
     "output_type": "display_data"
    },
    {
     "data": {
      "text/html": [
       "<pre>recommendations finished on 6000/556591 queries. users per second: 17221.1</pre>"
      ],
      "text/plain": [
       "recommendations finished on 6000/556591 queries. users per second: 17221.1"
      ]
     },
     "metadata": {},
     "output_type": "display_data"
    },
    {
     "data": {
      "text/html": [
       "<pre>recommendations finished on 7000/556591 queries. users per second: 17177.4</pre>"
      ],
      "text/plain": [
       "recommendations finished on 7000/556591 queries. users per second: 17177.4"
      ]
     },
     "metadata": {},
     "output_type": "display_data"
    },
    {
     "data": {
      "text/html": [
       "<pre>recommendations finished on 8000/556591 queries. users per second: 17317.2</pre>"
      ],
      "text/plain": [
       "recommendations finished on 8000/556591 queries. users per second: 17317.2"
      ]
     },
     "metadata": {},
     "output_type": "display_data"
    },
    {
     "data": {
      "text/html": [
       "<pre>recommendations finished on 9000/556591 queries. users per second: 17182.9</pre>"
      ],
      "text/plain": [
       "recommendations finished on 9000/556591 queries. users per second: 17182.9"
      ]
     },
     "metadata": {},
     "output_type": "display_data"
    },
    {
     "data": {
      "text/html": [
       "<pre>recommendations finished on 10000/556591 queries. users per second: 17342.7</pre>"
      ],
      "text/plain": [
       "recommendations finished on 10000/556591 queries. users per second: 17342.7"
      ]
     },
     "metadata": {},
     "output_type": "display_data"
    },
    {
     "data": {
      "text/html": [
       "<pre>recommendations finished on 11000/556591 queries. users per second: 17461.3</pre>"
      ],
      "text/plain": [
       "recommendations finished on 11000/556591 queries. users per second: 17461.3"
      ]
     },
     "metadata": {},
     "output_type": "display_data"
    },
    {
     "data": {
      "text/html": [
       "<pre>recommendations finished on 12000/556591 queries. users per second: 17495.8</pre>"
      ],
      "text/plain": [
       "recommendations finished on 12000/556591 queries. users per second: 17495.8"
      ]
     },
     "metadata": {},
     "output_type": "display_data"
    },
    {
     "data": {
      "text/html": [
       "<pre>recommendations finished on 13000/556591 queries. users per second: 17594</pre>"
      ],
      "text/plain": [
       "recommendations finished on 13000/556591 queries. users per second: 17594"
      ]
     },
     "metadata": {},
     "output_type": "display_data"
    },
    {
     "data": {
      "text/html": [
       "<pre>recommendations finished on 14000/556591 queries. users per second: 17657</pre>"
      ],
      "text/plain": [
       "recommendations finished on 14000/556591 queries. users per second: 17657"
      ]
     },
     "metadata": {},
     "output_type": "display_data"
    },
    {
     "data": {
      "text/html": [
       "<pre>recommendations finished on 15000/556591 queries. users per second: 17777.3</pre>"
      ],
      "text/plain": [
       "recommendations finished on 15000/556591 queries. users per second: 17777.3"
      ]
     },
     "metadata": {},
     "output_type": "display_data"
    },
    {
     "data": {
      "text/html": [
       "<pre>recommendations finished on 16000/556591 queries. users per second: 17860.5</pre>"
      ],
      "text/plain": [
       "recommendations finished on 16000/556591 queries. users per second: 17860.5"
      ]
     },
     "metadata": {},
     "output_type": "display_data"
    },
    {
     "data": {
      "text/html": [
       "<pre>recommendations finished on 17000/556591 queries. users per second: 17854.5</pre>"
      ],
      "text/plain": [
       "recommendations finished on 17000/556591 queries. users per second: 17854.5"
      ]
     },
     "metadata": {},
     "output_type": "display_data"
    },
    {
     "data": {
      "text/html": [
       "<pre>recommendations finished on 18000/556591 queries. users per second: 17916</pre>"
      ],
      "text/plain": [
       "recommendations finished on 18000/556591 queries. users per second: 17916"
      ]
     },
     "metadata": {},
     "output_type": "display_data"
    },
    {
     "data": {
      "text/html": [
       "<pre>recommendations finished on 19000/556591 queries. users per second: 17992.6</pre>"
      ],
      "text/plain": [
       "recommendations finished on 19000/556591 queries. users per second: 17992.6"
      ]
     },
     "metadata": {},
     "output_type": "display_data"
    },
    {
     "data": {
      "text/html": [
       "<pre>recommendations finished on 20000/556591 queries. users per second: 18052.5</pre>"
      ],
      "text/plain": [
       "recommendations finished on 20000/556591 queries. users per second: 18052.5"
      ]
     },
     "metadata": {},
     "output_type": "display_data"
    },
    {
     "data": {
      "text/html": [
       "<pre>recommendations finished on 21000/556591 queries. users per second: 18085.7</pre>"
      ],
      "text/plain": [
       "recommendations finished on 21000/556591 queries. users per second: 18085.7"
      ]
     },
     "metadata": {},
     "output_type": "display_data"
    },
    {
     "data": {
      "text/html": [
       "<pre>recommendations finished on 22000/556591 queries. users per second: 18104.8</pre>"
      ],
      "text/plain": [
       "recommendations finished on 22000/556591 queries. users per second: 18104.8"
      ]
     },
     "metadata": {},
     "output_type": "display_data"
    },
    {
     "data": {
      "text/html": [
       "<pre>recommendations finished on 23000/556591 queries. users per second: 18134.9</pre>"
      ],
      "text/plain": [
       "recommendations finished on 23000/556591 queries. users per second: 18134.9"
      ]
     },
     "metadata": {},
     "output_type": "display_data"
    },
    {
     "data": {
      "text/html": [
       "<pre>recommendations finished on 24000/556591 queries. users per second: 18144</pre>"
      ],
      "text/plain": [
       "recommendations finished on 24000/556591 queries. users per second: 18144"
      ]
     },
     "metadata": {},
     "output_type": "display_data"
    },
    {
     "data": {
      "text/html": [
       "<pre>recommendations finished on 25000/556591 queries. users per second: 18191.3</pre>"
      ],
      "text/plain": [
       "recommendations finished on 25000/556591 queries. users per second: 18191.3"
      ]
     },
     "metadata": {},
     "output_type": "display_data"
    },
    {
     "data": {
      "text/html": [
       "<pre>recommendations finished on 26000/556591 queries. users per second: 18254.2</pre>"
      ],
      "text/plain": [
       "recommendations finished on 26000/556591 queries. users per second: 18254.2"
      ]
     },
     "metadata": {},
     "output_type": "display_data"
    },
    {
     "data": {
      "text/html": [
       "<pre>recommendations finished on 27000/556591 queries. users per second: 18269.6</pre>"
      ],
      "text/plain": [
       "recommendations finished on 27000/556591 queries. users per second: 18269.6"
      ]
     },
     "metadata": {},
     "output_type": "display_data"
    },
    {
     "data": {
      "text/html": [
       "<pre>recommendations finished on 28000/556591 queries. users per second: 18291.1</pre>"
      ],
      "text/plain": [
       "recommendations finished on 28000/556591 queries. users per second: 18291.1"
      ]
     },
     "metadata": {},
     "output_type": "display_data"
    },
    {
     "data": {
      "text/html": [
       "<pre>recommendations finished on 29000/556591 queries. users per second: 18242.6</pre>"
      ],
      "text/plain": [
       "recommendations finished on 29000/556591 queries. users per second: 18242.6"
      ]
     },
     "metadata": {},
     "output_type": "display_data"
    },
    {
     "data": {
      "text/html": [
       "<pre>recommendations finished on 30000/556591 queries. users per second: 18230.1</pre>"
      ],
      "text/plain": [
       "recommendations finished on 30000/556591 queries. users per second: 18230.1"
      ]
     },
     "metadata": {},
     "output_type": "display_data"
    },
    {
     "data": {
      "text/html": [
       "<pre>recommendations finished on 31000/556591 queries. users per second: 18205.8</pre>"
      ],
      "text/plain": [
       "recommendations finished on 31000/556591 queries. users per second: 18205.8"
      ]
     },
     "metadata": {},
     "output_type": "display_data"
    },
    {
     "data": {
      "text/html": [
       "<pre>recommendations finished on 32000/556591 queries. users per second: 18183</pre>"
      ],
      "text/plain": [
       "recommendations finished on 32000/556591 queries. users per second: 18183"
      ]
     },
     "metadata": {},
     "output_type": "display_data"
    },
    {
     "data": {
      "text/html": [
       "<pre>recommendations finished on 33000/556591 queries. users per second: 18173.4</pre>"
      ],
      "text/plain": [
       "recommendations finished on 33000/556591 queries. users per second: 18173.4"
      ]
     },
     "metadata": {},
     "output_type": "display_data"
    },
    {
     "data": {
      "text/html": [
       "<pre>recommendations finished on 34000/556591 queries. users per second: 18169.1</pre>"
      ],
      "text/plain": [
       "recommendations finished on 34000/556591 queries. users per second: 18169.1"
      ]
     },
     "metadata": {},
     "output_type": "display_data"
    },
    {
     "data": {
      "text/html": [
       "<pre>recommendations finished on 35000/556591 queries. users per second: 18190.5</pre>"
      ],
      "text/plain": [
       "recommendations finished on 35000/556591 queries. users per second: 18190.5"
      ]
     },
     "metadata": {},
     "output_type": "display_data"
    },
    {
     "data": {
      "text/html": [
       "<pre>recommendations finished on 36000/556591 queries. users per second: 18195.7</pre>"
      ],
      "text/plain": [
       "recommendations finished on 36000/556591 queries. users per second: 18195.7"
      ]
     },
     "metadata": {},
     "output_type": "display_data"
    },
    {
     "data": {
      "text/html": [
       "<pre>recommendations finished on 37000/556591 queries. users per second: 18195.1</pre>"
      ],
      "text/plain": [
       "recommendations finished on 37000/556591 queries. users per second: 18195.1"
      ]
     },
     "metadata": {},
     "output_type": "display_data"
    },
    {
     "data": {
      "text/html": [
       "<pre>recommendations finished on 38000/556591 queries. users per second: 18235.8</pre>"
      ],
      "text/plain": [
       "recommendations finished on 38000/556591 queries. users per second: 18235.8"
      ]
     },
     "metadata": {},
     "output_type": "display_data"
    },
    {
     "data": {
      "text/html": [
       "<pre>recommendations finished on 39000/556591 queries. users per second: 18202.3</pre>"
      ],
      "text/plain": [
       "recommendations finished on 39000/556591 queries. users per second: 18202.3"
      ]
     },
     "metadata": {},
     "output_type": "display_data"
    },
    {
     "data": {
      "text/html": [
       "<pre>recommendations finished on 40000/556591 queries. users per second: 18176.4</pre>"
      ],
      "text/plain": [
       "recommendations finished on 40000/556591 queries. users per second: 18176.4"
      ]
     },
     "metadata": {},
     "output_type": "display_data"
    },
    {
     "data": {
      "text/html": [
       "<pre>recommendations finished on 41000/556591 queries. users per second: 18211.1</pre>"
      ],
      "text/plain": [
       "recommendations finished on 41000/556591 queries. users per second: 18211.1"
      ]
     },
     "metadata": {},
     "output_type": "display_data"
    },
    {
     "data": {
      "text/html": [
       "<pre>recommendations finished on 42000/556591 queries. users per second: 18221.4</pre>"
      ],
      "text/plain": [
       "recommendations finished on 42000/556591 queries. users per second: 18221.4"
      ]
     },
     "metadata": {},
     "output_type": "display_data"
    },
    {
     "data": {
      "text/html": [
       "<pre>recommendations finished on 43000/556591 queries. users per second: 18224.3</pre>"
      ],
      "text/plain": [
       "recommendations finished on 43000/556591 queries. users per second: 18224.3"
      ]
     },
     "metadata": {},
     "output_type": "display_data"
    },
    {
     "data": {
      "text/html": [
       "<pre>recommendations finished on 44000/556591 queries. users per second: 18238.6</pre>"
      ],
      "text/plain": [
       "recommendations finished on 44000/556591 queries. users per second: 18238.6"
      ]
     },
     "metadata": {},
     "output_type": "display_data"
    },
    {
     "data": {
      "text/html": [
       "<pre>recommendations finished on 45000/556591 queries. users per second: 18225.1</pre>"
      ],
      "text/plain": [
       "recommendations finished on 45000/556591 queries. users per second: 18225.1"
      ]
     },
     "metadata": {},
     "output_type": "display_data"
    },
    {
     "data": {
      "text/html": [
       "<pre>recommendations finished on 46000/556591 queries. users per second: 18222.2</pre>"
      ],
      "text/plain": [
       "recommendations finished on 46000/556591 queries. users per second: 18222.2"
      ]
     },
     "metadata": {},
     "output_type": "display_data"
    },
    {
     "data": {
      "text/html": [
       "<pre>recommendations finished on 47000/556591 queries. users per second: 18202.1</pre>"
      ],
      "text/plain": [
       "recommendations finished on 47000/556591 queries. users per second: 18202.1"
      ]
     },
     "metadata": {},
     "output_type": "display_data"
    },
    {
     "data": {
      "text/html": [
       "<pre>recommendations finished on 48000/556591 queries. users per second: 18207.8</pre>"
      ],
      "text/plain": [
       "recommendations finished on 48000/556591 queries. users per second: 18207.8"
      ]
     },
     "metadata": {},
     "output_type": "display_data"
    },
    {
     "data": {
      "text/html": [
       "<pre>recommendations finished on 49000/556591 queries. users per second: 18216.6</pre>"
      ],
      "text/plain": [
       "recommendations finished on 49000/556591 queries. users per second: 18216.6"
      ]
     },
     "metadata": {},
     "output_type": "display_data"
    },
    {
     "data": {
      "text/html": [
       "<pre>recommendations finished on 50000/556591 queries. users per second: 18219.1</pre>"
      ],
      "text/plain": [
       "recommendations finished on 50000/556591 queries. users per second: 18219.1"
      ]
     },
     "metadata": {},
     "output_type": "display_data"
    },
    {
     "data": {
      "text/html": [
       "<pre>recommendations finished on 51000/556591 queries. users per second: 18246.1</pre>"
      ],
      "text/plain": [
       "recommendations finished on 51000/556591 queries. users per second: 18246.1"
      ]
     },
     "metadata": {},
     "output_type": "display_data"
    },
    {
     "data": {
      "text/html": [
       "<pre>recommendations finished on 52000/556591 queries. users per second: 18262.5</pre>"
      ],
      "text/plain": [
       "recommendations finished on 52000/556591 queries. users per second: 18262.5"
      ]
     },
     "metadata": {},
     "output_type": "display_data"
    },
    {
     "data": {
      "text/html": [
       "<pre>recommendations finished on 53000/556591 queries. users per second: 18261.3</pre>"
      ],
      "text/plain": [
       "recommendations finished on 53000/556591 queries. users per second: 18261.3"
      ]
     },
     "metadata": {},
     "output_type": "display_data"
    },
    {
     "data": {
      "text/html": [
       "<pre>recommendations finished on 54000/556591 queries. users per second: 18244.3</pre>"
      ],
      "text/plain": [
       "recommendations finished on 54000/556591 queries. users per second: 18244.3"
      ]
     },
     "metadata": {},
     "output_type": "display_data"
    },
    {
     "data": {
      "text/html": [
       "<pre>recommendations finished on 55000/556591 queries. users per second: 18291.5</pre>"
      ],
      "text/plain": [
       "recommendations finished on 55000/556591 queries. users per second: 18291.5"
      ]
     },
     "metadata": {},
     "output_type": "display_data"
    },
    {
     "data": {
      "text/html": [
       "<pre>recommendations finished on 56000/556591 queries. users per second: 18306.6</pre>"
      ],
      "text/plain": [
       "recommendations finished on 56000/556591 queries. users per second: 18306.6"
      ]
     },
     "metadata": {},
     "output_type": "display_data"
    },
    {
     "data": {
      "text/html": [
       "<pre>recommendations finished on 57000/556591 queries. users per second: 18329.8</pre>"
      ],
      "text/plain": [
       "recommendations finished on 57000/556591 queries. users per second: 18329.8"
      ]
     },
     "metadata": {},
     "output_type": "display_data"
    },
    {
     "data": {
      "text/html": [
       "<pre>recommendations finished on 58000/556591 queries. users per second: 18352.9</pre>"
      ],
      "text/plain": [
       "recommendations finished on 58000/556591 queries. users per second: 18352.9"
      ]
     },
     "metadata": {},
     "output_type": "display_data"
    },
    {
     "data": {
      "text/html": [
       "<pre>recommendations finished on 59000/556591 queries. users per second: 18338</pre>"
      ],
      "text/plain": [
       "recommendations finished on 59000/556591 queries. users per second: 18338"
      ]
     },
     "metadata": {},
     "output_type": "display_data"
    },
    {
     "data": {
      "text/html": [
       "<pre>recommendations finished on 60000/556591 queries. users per second: 18334.1</pre>"
      ],
      "text/plain": [
       "recommendations finished on 60000/556591 queries. users per second: 18334.1"
      ]
     },
     "metadata": {},
     "output_type": "display_data"
    },
    {
     "data": {
      "text/html": [
       "<pre>recommendations finished on 61000/556591 queries. users per second: 18343.2</pre>"
      ],
      "text/plain": [
       "recommendations finished on 61000/556591 queries. users per second: 18343.2"
      ]
     },
     "metadata": {},
     "output_type": "display_data"
    },
    {
     "data": {
      "text/html": [
       "<pre>recommendations finished on 62000/556591 queries. users per second: 18342.2</pre>"
      ],
      "text/plain": [
       "recommendations finished on 62000/556591 queries. users per second: 18342.2"
      ]
     },
     "metadata": {},
     "output_type": "display_data"
    },
    {
     "data": {
      "text/html": [
       "<pre>recommendations finished on 63000/556591 queries. users per second: 18359.2</pre>"
      ],
      "text/plain": [
       "recommendations finished on 63000/556591 queries. users per second: 18359.2"
      ]
     },
     "metadata": {},
     "output_type": "display_data"
    },
    {
     "data": {
      "text/html": [
       "<pre>recommendations finished on 64000/556591 queries. users per second: 18359.6</pre>"
      ],
      "text/plain": [
       "recommendations finished on 64000/556591 queries. users per second: 18359.6"
      ]
     },
     "metadata": {},
     "output_type": "display_data"
    },
    {
     "data": {
      "text/html": [
       "<pre>recommendations finished on 65000/556591 queries. users per second: 18324.7</pre>"
      ],
      "text/plain": [
       "recommendations finished on 65000/556591 queries. users per second: 18324.7"
      ]
     },
     "metadata": {},
     "output_type": "display_data"
    },
    {
     "data": {
      "text/html": [
       "<pre>recommendations finished on 66000/556591 queries. users per second: 18253.6</pre>"
      ],
      "text/plain": [
       "recommendations finished on 66000/556591 queries. users per second: 18253.6"
      ]
     },
     "metadata": {},
     "output_type": "display_data"
    },
    {
     "data": {
      "text/html": [
       "<pre>recommendations finished on 67000/556591 queries. users per second: 18240</pre>"
      ],
      "text/plain": [
       "recommendations finished on 67000/556591 queries. users per second: 18240"
      ]
     },
     "metadata": {},
     "output_type": "display_data"
    },
    {
     "data": {
      "text/html": [
       "<pre>recommendations finished on 68000/556591 queries. users per second: 18253.7</pre>"
      ],
      "text/plain": [
       "recommendations finished on 68000/556591 queries. users per second: 18253.7"
      ]
     },
     "metadata": {},
     "output_type": "display_data"
    },
    {
     "data": {
      "text/html": [
       "<pre>recommendations finished on 69000/556591 queries. users per second: 18249.6</pre>"
      ],
      "text/plain": [
       "recommendations finished on 69000/556591 queries. users per second: 18249.6"
      ]
     },
     "metadata": {},
     "output_type": "display_data"
    },
    {
     "data": {
      "text/html": [
       "<pre>recommendations finished on 70000/556591 queries. users per second: 18241.6</pre>"
      ],
      "text/plain": [
       "recommendations finished on 70000/556591 queries. users per second: 18241.6"
      ]
     },
     "metadata": {},
     "output_type": "display_data"
    },
    {
     "data": {
      "text/html": [
       "<pre>recommendations finished on 71000/556591 queries. users per second: 18239.2</pre>"
      ],
      "text/plain": [
       "recommendations finished on 71000/556591 queries. users per second: 18239.2"
      ]
     },
     "metadata": {},
     "output_type": "display_data"
    },
    {
     "data": {
      "text/html": [
       "<pre>recommendations finished on 72000/556591 queries. users per second: 18255.2</pre>"
      ],
      "text/plain": [
       "recommendations finished on 72000/556591 queries. users per second: 18255.2"
      ]
     },
     "metadata": {},
     "output_type": "display_data"
    },
    {
     "data": {
      "text/html": [
       "<pre>recommendations finished on 73000/556591 queries. users per second: 18255.6</pre>"
      ],
      "text/plain": [
       "recommendations finished on 73000/556591 queries. users per second: 18255.6"
      ]
     },
     "metadata": {},
     "output_type": "display_data"
    },
    {
     "data": {
      "text/html": [
       "<pre>recommendations finished on 74000/556591 queries. users per second: 18260.2</pre>"
      ],
      "text/plain": [
       "recommendations finished on 74000/556591 queries. users per second: 18260.2"
      ]
     },
     "metadata": {},
     "output_type": "display_data"
    },
    {
     "data": {
      "text/html": [
       "<pre>recommendations finished on 75000/556591 queries. users per second: 18278.5</pre>"
      ],
      "text/plain": [
       "recommendations finished on 75000/556591 queries. users per second: 18278.5"
      ]
     },
     "metadata": {},
     "output_type": "display_data"
    },
    {
     "data": {
      "text/html": [
       "<pre>recommendations finished on 76000/556591 queries. users per second: 18291.1</pre>"
      ],
      "text/plain": [
       "recommendations finished on 76000/556591 queries. users per second: 18291.1"
      ]
     },
     "metadata": {},
     "output_type": "display_data"
    },
    {
     "data": {
      "text/html": [
       "<pre>recommendations finished on 77000/556591 queries. users per second: 18298.1</pre>"
      ],
      "text/plain": [
       "recommendations finished on 77000/556591 queries. users per second: 18298.1"
      ]
     },
     "metadata": {},
     "output_type": "display_data"
    },
    {
     "data": {
      "text/html": [
       "<pre>recommendations finished on 78000/556591 queries. users per second: 18303.5</pre>"
      ],
      "text/plain": [
       "recommendations finished on 78000/556591 queries. users per second: 18303.5"
      ]
     },
     "metadata": {},
     "output_type": "display_data"
    },
    {
     "data": {
      "text/html": [
       "<pre>recommendations finished on 79000/556591 queries. users per second: 18322.6</pre>"
      ],
      "text/plain": [
       "recommendations finished on 79000/556591 queries. users per second: 18322.6"
      ]
     },
     "metadata": {},
     "output_type": "display_data"
    },
    {
     "data": {
      "text/html": [
       "<pre>recommendations finished on 80000/556591 queries. users per second: 18345.4</pre>"
      ],
      "text/plain": [
       "recommendations finished on 80000/556591 queries. users per second: 18345.4"
      ]
     },
     "metadata": {},
     "output_type": "display_data"
    },
    {
     "data": {
      "text/html": [
       "<pre>recommendations finished on 81000/556591 queries. users per second: 18361.5</pre>"
      ],
      "text/plain": [
       "recommendations finished on 81000/556591 queries. users per second: 18361.5"
      ]
     },
     "metadata": {},
     "output_type": "display_data"
    },
    {
     "data": {
      "text/html": [
       "<pre>recommendations finished on 82000/556591 queries. users per second: 18379.5</pre>"
      ],
      "text/plain": [
       "recommendations finished on 82000/556591 queries. users per second: 18379.5"
      ]
     },
     "metadata": {},
     "output_type": "display_data"
    },
    {
     "data": {
      "text/html": [
       "<pre>recommendations finished on 83000/556591 queries. users per second: 18392.8</pre>"
      ],
      "text/plain": [
       "recommendations finished on 83000/556591 queries. users per second: 18392.8"
      ]
     },
     "metadata": {},
     "output_type": "display_data"
    },
    {
     "data": {
      "text/html": [
       "<pre>recommendations finished on 84000/556591 queries. users per second: 18387.4</pre>"
      ],
      "text/plain": [
       "recommendations finished on 84000/556591 queries. users per second: 18387.4"
      ]
     },
     "metadata": {},
     "output_type": "display_data"
    },
    {
     "data": {
      "text/html": [
       "<pre>recommendations finished on 85000/556591 queries. users per second: 18408.9</pre>"
      ],
      "text/plain": [
       "recommendations finished on 85000/556591 queries. users per second: 18408.9"
      ]
     },
     "metadata": {},
     "output_type": "display_data"
    },
    {
     "data": {
      "text/html": [
       "<pre>recommendations finished on 86000/556591 queries. users per second: 18430.8</pre>"
      ],
      "text/plain": [
       "recommendations finished on 86000/556591 queries. users per second: 18430.8"
      ]
     },
     "metadata": {},
     "output_type": "display_data"
    },
    {
     "data": {
      "text/html": [
       "<pre>recommendations finished on 87000/556591 queries. users per second: 18446.4</pre>"
      ],
      "text/plain": [
       "recommendations finished on 87000/556591 queries. users per second: 18446.4"
      ]
     },
     "metadata": {},
     "output_type": "display_data"
    },
    {
     "data": {
      "text/html": [
       "<pre>recommendations finished on 88000/556591 queries. users per second: 18458.6</pre>"
      ],
      "text/plain": [
       "recommendations finished on 88000/556591 queries. users per second: 18458.6"
      ]
     },
     "metadata": {},
     "output_type": "display_data"
    },
    {
     "data": {
      "text/html": [
       "<pre>recommendations finished on 89000/556591 queries. users per second: 18475</pre>"
      ],
      "text/plain": [
       "recommendations finished on 89000/556591 queries. users per second: 18475"
      ]
     },
     "metadata": {},
     "output_type": "display_data"
    },
    {
     "data": {
      "text/html": [
       "<pre>recommendations finished on 90000/556591 queries. users per second: 18488</pre>"
      ],
      "text/plain": [
       "recommendations finished on 90000/556591 queries. users per second: 18488"
      ]
     },
     "metadata": {},
     "output_type": "display_data"
    },
    {
     "data": {
      "text/html": [
       "<pre>recommendations finished on 91000/556591 queries. users per second: 18501.5</pre>"
      ],
      "text/plain": [
       "recommendations finished on 91000/556591 queries. users per second: 18501.5"
      ]
     },
     "metadata": {},
     "output_type": "display_data"
    },
    {
     "data": {
      "text/html": [
       "<pre>recommendations finished on 92000/556591 queries. users per second: 18506.8</pre>"
      ],
      "text/plain": [
       "recommendations finished on 92000/556591 queries. users per second: 18506.8"
      ]
     },
     "metadata": {},
     "output_type": "display_data"
    },
    {
     "data": {
      "text/html": [
       "<pre>recommendations finished on 93000/556591 queries. users per second: 18525.1</pre>"
      ],
      "text/plain": [
       "recommendations finished on 93000/556591 queries. users per second: 18525.1"
      ]
     },
     "metadata": {},
     "output_type": "display_data"
    },
    {
     "data": {
      "text/html": [
       "<pre>recommendations finished on 94000/556591 queries. users per second: 18514.9</pre>"
      ],
      "text/plain": [
       "recommendations finished on 94000/556591 queries. users per second: 18514.9"
      ]
     },
     "metadata": {},
     "output_type": "display_data"
    },
    {
     "data": {
      "text/html": [
       "<pre>recommendations finished on 95000/556591 queries. users per second: 18495.9</pre>"
      ],
      "text/plain": [
       "recommendations finished on 95000/556591 queries. users per second: 18495.9"
      ]
     },
     "metadata": {},
     "output_type": "display_data"
    },
    {
     "data": {
      "text/html": [
       "<pre>recommendations finished on 96000/556591 queries. users per second: 18506.4</pre>"
      ],
      "text/plain": [
       "recommendations finished on 96000/556591 queries. users per second: 18506.4"
      ]
     },
     "metadata": {},
     "output_type": "display_data"
    },
    {
     "data": {
      "text/html": [
       "<pre>recommendations finished on 97000/556591 queries. users per second: 18501</pre>"
      ],
      "text/plain": [
       "recommendations finished on 97000/556591 queries. users per second: 18501"
      ]
     },
     "metadata": {},
     "output_type": "display_data"
    },
    {
     "data": {
      "text/html": [
       "<pre>recommendations finished on 98000/556591 queries. users per second: 18497.5</pre>"
      ],
      "text/plain": [
       "recommendations finished on 98000/556591 queries. users per second: 18497.5"
      ]
     },
     "metadata": {},
     "output_type": "display_data"
    },
    {
     "data": {
      "text/html": [
       "<pre>recommendations finished on 99000/556591 queries. users per second: 18521.3</pre>"
      ],
      "text/plain": [
       "recommendations finished on 99000/556591 queries. users per second: 18521.3"
      ]
     },
     "metadata": {},
     "output_type": "display_data"
    },
    {
     "data": {
      "text/html": [
       "<pre>recommendations finished on 100000/556591 queries. users per second: 18546.1</pre>"
      ],
      "text/plain": [
       "recommendations finished on 100000/556591 queries. users per second: 18546.1"
      ]
     },
     "metadata": {},
     "output_type": "display_data"
    },
    {
     "data": {
      "text/html": [
       "<pre>recommendations finished on 101000/556591 queries. users per second: 18581.5</pre>"
      ],
      "text/plain": [
       "recommendations finished on 101000/556591 queries. users per second: 18581.5"
      ]
     },
     "metadata": {},
     "output_type": "display_data"
    },
    {
     "data": {
      "text/html": [
       "<pre>recommendations finished on 102000/556591 queries. users per second: 18618.8</pre>"
      ],
      "text/plain": [
       "recommendations finished on 102000/556591 queries. users per second: 18618.8"
      ]
     },
     "metadata": {},
     "output_type": "display_data"
    },
    {
     "data": {
      "text/html": [
       "<pre>recommendations finished on 103000/556591 queries. users per second: 18646.7</pre>"
      ],
      "text/plain": [
       "recommendations finished on 103000/556591 queries. users per second: 18646.7"
      ]
     },
     "metadata": {},
     "output_type": "display_data"
    },
    {
     "data": {
      "text/html": [
       "<pre>recommendations finished on 104000/556591 queries. users per second: 18678</pre>"
      ],
      "text/plain": [
       "recommendations finished on 104000/556591 queries. users per second: 18678"
      ]
     },
     "metadata": {},
     "output_type": "display_data"
    },
    {
     "data": {
      "text/html": [
       "<pre>recommendations finished on 105000/556591 queries. users per second: 18704</pre>"
      ],
      "text/plain": [
       "recommendations finished on 105000/556591 queries. users per second: 18704"
      ]
     },
     "metadata": {},
     "output_type": "display_data"
    },
    {
     "data": {
      "text/html": [
       "<pre>recommendations finished on 106000/556591 queries. users per second: 18735</pre>"
      ],
      "text/plain": [
       "recommendations finished on 106000/556591 queries. users per second: 18735"
      ]
     },
     "metadata": {},
     "output_type": "display_data"
    },
    {
     "data": {
      "text/html": [
       "<pre>recommendations finished on 107000/556591 queries. users per second: 18712.8</pre>"
      ],
      "text/plain": [
       "recommendations finished on 107000/556591 queries. users per second: 18712.8"
      ]
     },
     "metadata": {},
     "output_type": "display_data"
    },
    {
     "data": {
      "text/html": [
       "<pre>recommendations finished on 108000/556591 queries. users per second: 18687.2</pre>"
      ],
      "text/plain": [
       "recommendations finished on 108000/556591 queries. users per second: 18687.2"
      ]
     },
     "metadata": {},
     "output_type": "display_data"
    },
    {
     "data": {
      "text/html": [
       "<pre>recommendations finished on 109000/556591 queries. users per second: 18709.3</pre>"
      ],
      "text/plain": [
       "recommendations finished on 109000/556591 queries. users per second: 18709.3"
      ]
     },
     "metadata": {},
     "output_type": "display_data"
    },
    {
     "data": {
      "text/html": [
       "<pre>recommendations finished on 110000/556591 queries. users per second: 18741.5</pre>"
      ],
      "text/plain": [
       "recommendations finished on 110000/556591 queries. users per second: 18741.5"
      ]
     },
     "metadata": {},
     "output_type": "display_data"
    },
    {
     "data": {
      "text/html": [
       "<pre>recommendations finished on 111000/556591 queries. users per second: 18774.3</pre>"
      ],
      "text/plain": [
       "recommendations finished on 111000/556591 queries. users per second: 18774.3"
      ]
     },
     "metadata": {},
     "output_type": "display_data"
    },
    {
     "data": {
      "text/html": [
       "<pre>recommendations finished on 112000/556591 queries. users per second: 18802.8</pre>"
      ],
      "text/plain": [
       "recommendations finished on 112000/556591 queries. users per second: 18802.8"
      ]
     },
     "metadata": {},
     "output_type": "display_data"
    },
    {
     "data": {
      "text/html": [
       "<pre>recommendations finished on 113000/556591 queries. users per second: 18824</pre>"
      ],
      "text/plain": [
       "recommendations finished on 113000/556591 queries. users per second: 18824"
      ]
     },
     "metadata": {},
     "output_type": "display_data"
    },
    {
     "data": {
      "text/html": [
       "<pre>recommendations finished on 114000/556591 queries. users per second: 18811.3</pre>"
      ],
      "text/plain": [
       "recommendations finished on 114000/556591 queries. users per second: 18811.3"
      ]
     },
     "metadata": {},
     "output_type": "display_data"
    },
    {
     "data": {
      "text/html": [
       "<pre>recommendations finished on 115000/556591 queries. users per second: 18790.5</pre>"
      ],
      "text/plain": [
       "recommendations finished on 115000/556591 queries. users per second: 18790.5"
      ]
     },
     "metadata": {},
     "output_type": "display_data"
    },
    {
     "data": {
      "text/html": [
       "<pre>recommendations finished on 116000/556591 queries. users per second: 18776</pre>"
      ],
      "text/plain": [
       "recommendations finished on 116000/556591 queries. users per second: 18776"
      ]
     },
     "metadata": {},
     "output_type": "display_data"
    },
    {
     "data": {
      "text/html": [
       "<pre>recommendations finished on 117000/556591 queries. users per second: 18756.3</pre>"
      ],
      "text/plain": [
       "recommendations finished on 117000/556591 queries. users per second: 18756.3"
      ]
     },
     "metadata": {},
     "output_type": "display_data"
    },
    {
     "data": {
      "text/html": [
       "<pre>recommendations finished on 118000/556591 queries. users per second: 18756.4</pre>"
      ],
      "text/plain": [
       "recommendations finished on 118000/556591 queries. users per second: 18756.4"
      ]
     },
     "metadata": {},
     "output_type": "display_data"
    },
    {
     "data": {
      "text/html": [
       "<pre>recommendations finished on 119000/556591 queries. users per second: 18752.8</pre>"
      ],
      "text/plain": [
       "recommendations finished on 119000/556591 queries. users per second: 18752.8"
      ]
     },
     "metadata": {},
     "output_type": "display_data"
    },
    {
     "data": {
      "text/html": [
       "<pre>recommendations finished on 120000/556591 queries. users per second: 18759.9</pre>"
      ],
      "text/plain": [
       "recommendations finished on 120000/556591 queries. users per second: 18759.9"
      ]
     },
     "metadata": {},
     "output_type": "display_data"
    },
    {
     "data": {
      "text/html": [
       "<pre>recommendations finished on 121000/556591 queries. users per second: 18742.9</pre>"
      ],
      "text/plain": [
       "recommendations finished on 121000/556591 queries. users per second: 18742.9"
      ]
     },
     "metadata": {},
     "output_type": "display_data"
    },
    {
     "data": {
      "text/html": [
       "<pre>recommendations finished on 122000/556591 queries. users per second: 18723.9</pre>"
      ],
      "text/plain": [
       "recommendations finished on 122000/556591 queries. users per second: 18723.9"
      ]
     },
     "metadata": {},
     "output_type": "display_data"
    },
    {
     "data": {
      "text/html": [
       "<pre>recommendations finished on 123000/556591 queries. users per second: 18717.8</pre>"
      ],
      "text/plain": [
       "recommendations finished on 123000/556591 queries. users per second: 18717.8"
      ]
     },
     "metadata": {},
     "output_type": "display_data"
    },
    {
     "data": {
      "text/html": [
       "<pre>recommendations finished on 124000/556591 queries. users per second: 18713.7</pre>"
      ],
      "text/plain": [
       "recommendations finished on 124000/556591 queries. users per second: 18713.7"
      ]
     },
     "metadata": {},
     "output_type": "display_data"
    },
    {
     "data": {
      "text/html": [
       "<pre>recommendations finished on 125000/556591 queries. users per second: 18708.3</pre>"
      ],
      "text/plain": [
       "recommendations finished on 125000/556591 queries. users per second: 18708.3"
      ]
     },
     "metadata": {},
     "output_type": "display_data"
    },
    {
     "data": {
      "text/html": [
       "<pre>recommendations finished on 126000/556591 queries. users per second: 18688.2</pre>"
      ],
      "text/plain": [
       "recommendations finished on 126000/556591 queries. users per second: 18688.2"
      ]
     },
     "metadata": {},
     "output_type": "display_data"
    },
    {
     "data": {
      "text/html": [
       "<pre>recommendations finished on 127000/556591 queries. users per second: 18708.8</pre>"
      ],
      "text/plain": [
       "recommendations finished on 127000/556591 queries. users per second: 18708.8"
      ]
     },
     "metadata": {},
     "output_type": "display_data"
    },
    {
     "data": {
      "text/html": [
       "<pre>recommendations finished on 128000/556591 queries. users per second: 18734.7</pre>"
      ],
      "text/plain": [
       "recommendations finished on 128000/556591 queries. users per second: 18734.7"
      ]
     },
     "metadata": {},
     "output_type": "display_data"
    },
    {
     "data": {
      "text/html": [
       "<pre>recommendations finished on 129000/556591 queries. users per second: 18761.8</pre>"
      ],
      "text/plain": [
       "recommendations finished on 129000/556591 queries. users per second: 18761.8"
      ]
     },
     "metadata": {},
     "output_type": "display_data"
    },
    {
     "data": {
      "text/html": [
       "<pre>recommendations finished on 130000/556591 queries. users per second: 18772.1</pre>"
      ],
      "text/plain": [
       "recommendations finished on 130000/556591 queries. users per second: 18772.1"
      ]
     },
     "metadata": {},
     "output_type": "display_data"
    },
    {
     "data": {
      "text/html": [
       "<pre>recommendations finished on 131000/556591 queries. users per second: 18743.2</pre>"
      ],
      "text/plain": [
       "recommendations finished on 131000/556591 queries. users per second: 18743.2"
      ]
     },
     "metadata": {},
     "output_type": "display_data"
    },
    {
     "data": {
      "text/html": [
       "<pre>recommendations finished on 132000/556591 queries. users per second: 18724.1</pre>"
      ],
      "text/plain": [
       "recommendations finished on 132000/556591 queries. users per second: 18724.1"
      ]
     },
     "metadata": {},
     "output_type": "display_data"
    },
    {
     "data": {
      "text/html": [
       "<pre>recommendations finished on 133000/556591 queries. users per second: 18713.3</pre>"
      ],
      "text/plain": [
       "recommendations finished on 133000/556591 queries. users per second: 18713.3"
      ]
     },
     "metadata": {},
     "output_type": "display_data"
    },
    {
     "data": {
      "text/html": [
       "<pre>recommendations finished on 134000/556591 queries. users per second: 18711.7</pre>"
      ],
      "text/plain": [
       "recommendations finished on 134000/556591 queries. users per second: 18711.7"
      ]
     },
     "metadata": {},
     "output_type": "display_data"
    },
    {
     "data": {
      "text/html": [
       "<pre>recommendations finished on 135000/556591 queries. users per second: 18705.2</pre>"
      ],
      "text/plain": [
       "recommendations finished on 135000/556591 queries. users per second: 18705.2"
      ]
     },
     "metadata": {},
     "output_type": "display_data"
    },
    {
     "data": {
      "text/html": [
       "<pre>recommendations finished on 136000/556591 queries. users per second: 18705.9</pre>"
      ],
      "text/plain": [
       "recommendations finished on 136000/556591 queries. users per second: 18705.9"
      ]
     },
     "metadata": {},
     "output_type": "display_data"
    },
    {
     "data": {
      "text/html": [
       "<pre>recommendations finished on 137000/556591 queries. users per second: 18697.9</pre>"
      ],
      "text/plain": [
       "recommendations finished on 137000/556591 queries. users per second: 18697.9"
      ]
     },
     "metadata": {},
     "output_type": "display_data"
    },
    {
     "data": {
      "text/html": [
       "<pre>recommendations finished on 138000/556591 queries. users per second: 18699</pre>"
      ],
      "text/plain": [
       "recommendations finished on 138000/556591 queries. users per second: 18699"
      ]
     },
     "metadata": {},
     "output_type": "display_data"
    },
    {
     "data": {
      "text/html": [
       "<pre>recommendations finished on 139000/556591 queries. users per second: 18686.1</pre>"
      ],
      "text/plain": [
       "recommendations finished on 139000/556591 queries. users per second: 18686.1"
      ]
     },
     "metadata": {},
     "output_type": "display_data"
    },
    {
     "data": {
      "text/html": [
       "<pre>recommendations finished on 140000/556591 queries. users per second: 18706.6</pre>"
      ],
      "text/plain": [
       "recommendations finished on 140000/556591 queries. users per second: 18706.6"
      ]
     },
     "metadata": {},
     "output_type": "display_data"
    },
    {
     "data": {
      "text/html": [
       "<pre>recommendations finished on 141000/556591 queries. users per second: 18733.4</pre>"
      ],
      "text/plain": [
       "recommendations finished on 141000/556591 queries. users per second: 18733.4"
      ]
     },
     "metadata": {},
     "output_type": "display_data"
    },
    {
     "data": {
      "text/html": [
       "<pre>recommendations finished on 142000/556591 queries. users per second: 18755.8</pre>"
      ],
      "text/plain": [
       "recommendations finished on 142000/556591 queries. users per second: 18755.8"
      ]
     },
     "metadata": {},
     "output_type": "display_data"
    },
    {
     "data": {
      "text/html": [
       "<pre>recommendations finished on 143000/556591 queries. users per second: 18764.7</pre>"
      ],
      "text/plain": [
       "recommendations finished on 143000/556591 queries. users per second: 18764.7"
      ]
     },
     "metadata": {},
     "output_type": "display_data"
    },
    {
     "data": {
      "text/html": [
       "<pre>recommendations finished on 144000/556591 queries. users per second: 18737.6</pre>"
      ],
      "text/plain": [
       "recommendations finished on 144000/556591 queries. users per second: 18737.6"
      ]
     },
     "metadata": {},
     "output_type": "display_data"
    },
    {
     "data": {
      "text/html": [
       "<pre>recommendations finished on 145000/556591 queries. users per second: 18698.1</pre>"
      ],
      "text/plain": [
       "recommendations finished on 145000/556591 queries. users per second: 18698.1"
      ]
     },
     "metadata": {},
     "output_type": "display_data"
    },
    {
     "data": {
      "text/html": [
       "<pre>recommendations finished on 146000/556591 queries. users per second: 18673.4</pre>"
      ],
      "text/plain": [
       "recommendations finished on 146000/556591 queries. users per second: 18673.4"
      ]
     },
     "metadata": {},
     "output_type": "display_data"
    },
    {
     "data": {
      "text/html": [
       "<pre>recommendations finished on 147000/556591 queries. users per second: 18664.1</pre>"
      ],
      "text/plain": [
       "recommendations finished on 147000/556591 queries. users per second: 18664.1"
      ]
     },
     "metadata": {},
     "output_type": "display_data"
    },
    {
     "data": {
      "text/html": [
       "<pre>recommendations finished on 148000/556591 queries. users per second: 18660.2</pre>"
      ],
      "text/plain": [
       "recommendations finished on 148000/556591 queries. users per second: 18660.2"
      ]
     },
     "metadata": {},
     "output_type": "display_data"
    },
    {
     "data": {
      "text/html": [
       "<pre>recommendations finished on 149000/556591 queries. users per second: 18654.9</pre>"
      ],
      "text/plain": [
       "recommendations finished on 149000/556591 queries. users per second: 18654.9"
      ]
     },
     "metadata": {},
     "output_type": "display_data"
    },
    {
     "data": {
      "text/html": [
       "<pre>recommendations finished on 150000/556591 queries. users per second: 18650.6</pre>"
      ],
      "text/plain": [
       "recommendations finished on 150000/556591 queries. users per second: 18650.6"
      ]
     },
     "metadata": {},
     "output_type": "display_data"
    },
    {
     "data": {
      "text/html": [
       "<pre>recommendations finished on 151000/556591 queries. users per second: 18640.4</pre>"
      ],
      "text/plain": [
       "recommendations finished on 151000/556591 queries. users per second: 18640.4"
      ]
     },
     "metadata": {},
     "output_type": "display_data"
    },
    {
     "data": {
      "text/html": [
       "<pre>recommendations finished on 152000/556591 queries. users per second: 18642.4</pre>"
      ],
      "text/plain": [
       "recommendations finished on 152000/556591 queries. users per second: 18642.4"
      ]
     },
     "metadata": {},
     "output_type": "display_data"
    },
    {
     "data": {
      "text/html": [
       "<pre>recommendations finished on 153000/556591 queries. users per second: 18647.9</pre>"
      ],
      "text/plain": [
       "recommendations finished on 153000/556591 queries. users per second: 18647.9"
      ]
     },
     "metadata": {},
     "output_type": "display_data"
    },
    {
     "data": {
      "text/html": [
       "<pre>recommendations finished on 154000/556591 queries. users per second: 18667.4</pre>"
      ],
      "text/plain": [
       "recommendations finished on 154000/556591 queries. users per second: 18667.4"
      ]
     },
     "metadata": {},
     "output_type": "display_data"
    },
    {
     "data": {
      "text/html": [
       "<pre>recommendations finished on 155000/556591 queries. users per second: 18676.2</pre>"
      ],
      "text/plain": [
       "recommendations finished on 155000/556591 queries. users per second: 18676.2"
      ]
     },
     "metadata": {},
     "output_type": "display_data"
    },
    {
     "data": {
      "text/html": [
       "<pre>recommendations finished on 156000/556591 queries. users per second: 18692.3</pre>"
      ],
      "text/plain": [
       "recommendations finished on 156000/556591 queries. users per second: 18692.3"
      ]
     },
     "metadata": {},
     "output_type": "display_data"
    },
    {
     "data": {
      "text/html": [
       "<pre>recommendations finished on 157000/556591 queries. users per second: 18670</pre>"
      ],
      "text/plain": [
       "recommendations finished on 157000/556591 queries. users per second: 18670"
      ]
     },
     "metadata": {},
     "output_type": "display_data"
    },
    {
     "data": {
      "text/html": [
       "<pre>recommendations finished on 158000/556591 queries. users per second: 18653.2</pre>"
      ],
      "text/plain": [
       "recommendations finished on 158000/556591 queries. users per second: 18653.2"
      ]
     },
     "metadata": {},
     "output_type": "display_data"
    },
    {
     "data": {
      "text/html": [
       "<pre>recommendations finished on 159000/556591 queries. users per second: 18641.6</pre>"
      ],
      "text/plain": [
       "recommendations finished on 159000/556591 queries. users per second: 18641.6"
      ]
     },
     "metadata": {},
     "output_type": "display_data"
    },
    {
     "data": {
      "text/html": [
       "<pre>recommendations finished on 160000/556591 queries. users per second: 18626.5</pre>"
      ],
      "text/plain": [
       "recommendations finished on 160000/556591 queries. users per second: 18626.5"
      ]
     },
     "metadata": {},
     "output_type": "display_data"
    },
    {
     "data": {
      "text/html": [
       "<pre>recommendations finished on 161000/556591 queries. users per second: 18625.7</pre>"
      ],
      "text/plain": [
       "recommendations finished on 161000/556591 queries. users per second: 18625.7"
      ]
     },
     "metadata": {},
     "output_type": "display_data"
    },
    {
     "data": {
      "text/html": [
       "<pre>recommendations finished on 162000/556591 queries. users per second: 18644.9</pre>"
      ],
      "text/plain": [
       "recommendations finished on 162000/556591 queries. users per second: 18644.9"
      ]
     },
     "metadata": {},
     "output_type": "display_data"
    },
    {
     "data": {
      "text/html": [
       "<pre>recommendations finished on 163000/556591 queries. users per second: 18661.5</pre>"
      ],
      "text/plain": [
       "recommendations finished on 163000/556591 queries. users per second: 18661.5"
      ]
     },
     "metadata": {},
     "output_type": "display_data"
    },
    {
     "data": {
      "text/html": [
       "<pre>recommendations finished on 164000/556591 queries. users per second: 18660.6</pre>"
      ],
      "text/plain": [
       "recommendations finished on 164000/556591 queries. users per second: 18660.6"
      ]
     },
     "metadata": {},
     "output_type": "display_data"
    },
    {
     "data": {
      "text/html": [
       "<pre>recommendations finished on 165000/556591 queries. users per second: 18667</pre>"
      ],
      "text/plain": [
       "recommendations finished on 165000/556591 queries. users per second: 18667"
      ]
     },
     "metadata": {},
     "output_type": "display_data"
    },
    {
     "data": {
      "text/html": [
       "<pre>recommendations finished on 166000/556591 queries. users per second: 18688.6</pre>"
      ],
      "text/plain": [
       "recommendations finished on 166000/556591 queries. users per second: 18688.6"
      ]
     },
     "metadata": {},
     "output_type": "display_data"
    },
    {
     "data": {
      "text/html": [
       "<pre>recommendations finished on 167000/556591 queries. users per second: 18697.5</pre>"
      ],
      "text/plain": [
       "recommendations finished on 167000/556591 queries. users per second: 18697.5"
      ]
     },
     "metadata": {},
     "output_type": "display_data"
    },
    {
     "data": {
      "text/html": [
       "<pre>recommendations finished on 168000/556591 queries. users per second: 18713.3</pre>"
      ],
      "text/plain": [
       "recommendations finished on 168000/556591 queries. users per second: 18713.3"
      ]
     },
     "metadata": {},
     "output_type": "display_data"
    },
    {
     "data": {
      "text/html": [
       "<pre>recommendations finished on 169000/556591 queries. users per second: 18726.1</pre>"
      ],
      "text/plain": [
       "recommendations finished on 169000/556591 queries. users per second: 18726.1"
      ]
     },
     "metadata": {},
     "output_type": "display_data"
    },
    {
     "data": {
      "text/html": [
       "<pre>recommendations finished on 170000/556591 queries. users per second: 18738.8</pre>"
      ],
      "text/plain": [
       "recommendations finished on 170000/556591 queries. users per second: 18738.8"
      ]
     },
     "metadata": {},
     "output_type": "display_data"
    },
    {
     "data": {
      "text/html": [
       "<pre>recommendations finished on 171000/556591 queries. users per second: 18739.5</pre>"
      ],
      "text/plain": [
       "recommendations finished on 171000/556591 queries. users per second: 18739.5"
      ]
     },
     "metadata": {},
     "output_type": "display_data"
    },
    {
     "data": {
      "text/html": [
       "<pre>recommendations finished on 172000/556591 queries. users per second: 18710.3</pre>"
      ],
      "text/plain": [
       "recommendations finished on 172000/556591 queries. users per second: 18710.3"
      ]
     },
     "metadata": {},
     "output_type": "display_data"
    },
    {
     "data": {
      "text/html": [
       "<pre>recommendations finished on 173000/556591 queries. users per second: 18707.8</pre>"
      ],
      "text/plain": [
       "recommendations finished on 173000/556591 queries. users per second: 18707.8"
      ]
     },
     "metadata": {},
     "output_type": "display_data"
    },
    {
     "data": {
      "text/html": [
       "<pre>recommendations finished on 174000/556591 queries. users per second: 18701.2</pre>"
      ],
      "text/plain": [
       "recommendations finished on 174000/556591 queries. users per second: 18701.2"
      ]
     },
     "metadata": {},
     "output_type": "display_data"
    },
    {
     "data": {
      "text/html": [
       "<pre>recommendations finished on 175000/556591 queries. users per second: 18701.5</pre>"
      ],
      "text/plain": [
       "recommendations finished on 175000/556591 queries. users per second: 18701.5"
      ]
     },
     "metadata": {},
     "output_type": "display_data"
    },
    {
     "data": {
      "text/html": [
       "<pre>recommendations finished on 176000/556591 queries. users per second: 18692.4</pre>"
      ],
      "text/plain": [
       "recommendations finished on 176000/556591 queries. users per second: 18692.4"
      ]
     },
     "metadata": {},
     "output_type": "display_data"
    },
    {
     "data": {
      "text/html": [
       "<pre>recommendations finished on 177000/556591 queries. users per second: 18676.9</pre>"
      ],
      "text/plain": [
       "recommendations finished on 177000/556591 queries. users per second: 18676.9"
      ]
     },
     "metadata": {},
     "output_type": "display_data"
    },
    {
     "data": {
      "text/html": [
       "<pre>recommendations finished on 178000/556591 queries. users per second: 18654.1</pre>"
      ],
      "text/plain": [
       "recommendations finished on 178000/556591 queries. users per second: 18654.1"
      ]
     },
     "metadata": {},
     "output_type": "display_data"
    },
    {
     "data": {
      "text/html": [
       "<pre>recommendations finished on 179000/556591 queries. users per second: 18623.8</pre>"
      ],
      "text/plain": [
       "recommendations finished on 179000/556591 queries. users per second: 18623.8"
      ]
     },
     "metadata": {},
     "output_type": "display_data"
    },
    {
     "data": {
      "text/html": [
       "<pre>recommendations finished on 180000/556591 queries. users per second: 18611.6</pre>"
      ],
      "text/plain": [
       "recommendations finished on 180000/556591 queries. users per second: 18611.6"
      ]
     },
     "metadata": {},
     "output_type": "display_data"
    },
    {
     "data": {
      "text/html": [
       "<pre>recommendations finished on 181000/556591 queries. users per second: 18604.6</pre>"
      ],
      "text/plain": [
       "recommendations finished on 181000/556591 queries. users per second: 18604.6"
      ]
     },
     "metadata": {},
     "output_type": "display_data"
    },
    {
     "data": {
      "text/html": [
       "<pre>recommendations finished on 182000/556591 queries. users per second: 18589.8</pre>"
      ],
      "text/plain": [
       "recommendations finished on 182000/556591 queries. users per second: 18589.8"
      ]
     },
     "metadata": {},
     "output_type": "display_data"
    },
    {
     "data": {
      "text/html": [
       "<pre>recommendations finished on 183000/556591 queries. users per second: 18578.2</pre>"
      ],
      "text/plain": [
       "recommendations finished on 183000/556591 queries. users per second: 18578.2"
      ]
     },
     "metadata": {},
     "output_type": "display_data"
    },
    {
     "data": {
      "text/html": [
       "<pre>recommendations finished on 184000/556591 queries. users per second: 18576.4</pre>"
      ],
      "text/plain": [
       "recommendations finished on 184000/556591 queries. users per second: 18576.4"
      ]
     },
     "metadata": {},
     "output_type": "display_data"
    },
    {
     "data": {
      "text/html": [
       "<pre>recommendations finished on 185000/556591 queries. users per second: 18569.6</pre>"
      ],
      "text/plain": [
       "recommendations finished on 185000/556591 queries. users per second: 18569.6"
      ]
     },
     "metadata": {},
     "output_type": "display_data"
    },
    {
     "data": {
      "text/html": [
       "<pre>recommendations finished on 186000/556591 queries. users per second: 18545.6</pre>"
      ],
      "text/plain": [
       "recommendations finished on 186000/556591 queries. users per second: 18545.6"
      ]
     },
     "metadata": {},
     "output_type": "display_data"
    },
    {
     "data": {
      "text/html": [
       "<pre>recommendations finished on 187000/556591 queries. users per second: 18526.9</pre>"
      ],
      "text/plain": [
       "recommendations finished on 187000/556591 queries. users per second: 18526.9"
      ]
     },
     "metadata": {},
     "output_type": "display_data"
    },
    {
     "data": {
      "text/html": [
       "<pre>recommendations finished on 188000/556591 queries. users per second: 18532</pre>"
      ],
      "text/plain": [
       "recommendations finished on 188000/556591 queries. users per second: 18532"
      ]
     },
     "metadata": {},
     "output_type": "display_data"
    },
    {
     "data": {
      "text/html": [
       "<pre>recommendations finished on 189000/556591 queries. users per second: 18538</pre>"
      ],
      "text/plain": [
       "recommendations finished on 189000/556591 queries. users per second: 18538"
      ]
     },
     "metadata": {},
     "output_type": "display_data"
    },
    {
     "data": {
      "text/html": [
       "<pre>recommendations finished on 190000/556591 queries. users per second: 18522.3</pre>"
      ],
      "text/plain": [
       "recommendations finished on 190000/556591 queries. users per second: 18522.3"
      ]
     },
     "metadata": {},
     "output_type": "display_data"
    },
    {
     "data": {
      "text/html": [
       "<pre>recommendations finished on 191000/556591 queries. users per second: 18488.3</pre>"
      ],
      "text/plain": [
       "recommendations finished on 191000/556591 queries. users per second: 18488.3"
      ]
     },
     "metadata": {},
     "output_type": "display_data"
    },
    {
     "data": {
      "text/html": [
       "<pre>recommendations finished on 192000/556591 queries. users per second: 18441.7</pre>"
      ],
      "text/plain": [
       "recommendations finished on 192000/556591 queries. users per second: 18441.7"
      ]
     },
     "metadata": {},
     "output_type": "display_data"
    },
    {
     "data": {
      "text/html": [
       "<pre>recommendations finished on 193000/556591 queries. users per second: 18418.6</pre>"
      ],
      "text/plain": [
       "recommendations finished on 193000/556591 queries. users per second: 18418.6"
      ]
     },
     "metadata": {},
     "output_type": "display_data"
    },
    {
     "data": {
      "text/html": [
       "<pre>recommendations finished on 194000/556591 queries. users per second: 18408</pre>"
      ],
      "text/plain": [
       "recommendations finished on 194000/556591 queries. users per second: 18408"
      ]
     },
     "metadata": {},
     "output_type": "display_data"
    },
    {
     "data": {
      "text/html": [
       "<pre>recommendations finished on 195000/556591 queries. users per second: 18416.2</pre>"
      ],
      "text/plain": [
       "recommendations finished on 195000/556591 queries. users per second: 18416.2"
      ]
     },
     "metadata": {},
     "output_type": "display_data"
    },
    {
     "data": {
      "text/html": [
       "<pre>recommendations finished on 196000/556591 queries. users per second: 18414.3</pre>"
      ],
      "text/plain": [
       "recommendations finished on 196000/556591 queries. users per second: 18414.3"
      ]
     },
     "metadata": {},
     "output_type": "display_data"
    },
    {
     "data": {
      "text/html": [
       "<pre>recommendations finished on 197000/556591 queries. users per second: 18390.6</pre>"
      ],
      "text/plain": [
       "recommendations finished on 197000/556591 queries. users per second: 18390.6"
      ]
     },
     "metadata": {},
     "output_type": "display_data"
    },
    {
     "data": {
      "text/html": [
       "<pre>recommendations finished on 198000/556591 queries. users per second: 18374</pre>"
      ],
      "text/plain": [
       "recommendations finished on 198000/556591 queries. users per second: 18374"
      ]
     },
     "metadata": {},
     "output_type": "display_data"
    },
    {
     "data": {
      "text/html": [
       "<pre>recommendations finished on 199000/556591 queries. users per second: 18364.5</pre>"
      ],
      "text/plain": [
       "recommendations finished on 199000/556591 queries. users per second: 18364.5"
      ]
     },
     "metadata": {},
     "output_type": "display_data"
    },
    {
     "data": {
      "text/html": [
       "<pre>recommendations finished on 200000/556591 queries. users per second: 18345.8</pre>"
      ],
      "text/plain": [
       "recommendations finished on 200000/556591 queries. users per second: 18345.8"
      ]
     },
     "metadata": {},
     "output_type": "display_data"
    },
    {
     "data": {
      "text/html": [
       "<pre>recommendations finished on 201000/556591 queries. users per second: 18334.1</pre>"
      ],
      "text/plain": [
       "recommendations finished on 201000/556591 queries. users per second: 18334.1"
      ]
     },
     "metadata": {},
     "output_type": "display_data"
    },
    {
     "data": {
      "text/html": [
       "<pre>recommendations finished on 202000/556591 queries. users per second: 18323.7</pre>"
      ],
      "text/plain": [
       "recommendations finished on 202000/556591 queries. users per second: 18323.7"
      ]
     },
     "metadata": {},
     "output_type": "display_data"
    },
    {
     "data": {
      "text/html": [
       "<pre>recommendations finished on 203000/556591 queries. users per second: 18315.7</pre>"
      ],
      "text/plain": [
       "recommendations finished on 203000/556591 queries. users per second: 18315.7"
      ]
     },
     "metadata": {},
     "output_type": "display_data"
    },
    {
     "data": {
      "text/html": [
       "<pre>recommendations finished on 204000/556591 queries. users per second: 18305.4</pre>"
      ],
      "text/plain": [
       "recommendations finished on 204000/556591 queries. users per second: 18305.4"
      ]
     },
     "metadata": {},
     "output_type": "display_data"
    },
    {
     "data": {
      "text/html": [
       "<pre>recommendations finished on 205000/556591 queries. users per second: 18304.9</pre>"
      ],
      "text/plain": [
       "recommendations finished on 205000/556591 queries. users per second: 18304.9"
      ]
     },
     "metadata": {},
     "output_type": "display_data"
    },
    {
     "data": {
      "text/html": [
       "<pre>recommendations finished on 206000/556591 queries. users per second: 18294.1</pre>"
      ],
      "text/plain": [
       "recommendations finished on 206000/556591 queries. users per second: 18294.1"
      ]
     },
     "metadata": {},
     "output_type": "display_data"
    },
    {
     "data": {
      "text/html": [
       "<pre>recommendations finished on 207000/556591 queries. users per second: 18300.9</pre>"
      ],
      "text/plain": [
       "recommendations finished on 207000/556591 queries. users per second: 18300.9"
      ]
     },
     "metadata": {},
     "output_type": "display_data"
    },
    {
     "data": {
      "text/html": [
       "<pre>recommendations finished on 208000/556591 queries. users per second: 18311</pre>"
      ],
      "text/plain": [
       "recommendations finished on 208000/556591 queries. users per second: 18311"
      ]
     },
     "metadata": {},
     "output_type": "display_data"
    },
    {
     "data": {
      "text/html": [
       "<pre>recommendations finished on 209000/556591 queries. users per second: 18319.8</pre>"
      ],
      "text/plain": [
       "recommendations finished on 209000/556591 queries. users per second: 18319.8"
      ]
     },
     "metadata": {},
     "output_type": "display_data"
    },
    {
     "data": {
      "text/html": [
       "<pre>recommendations finished on 210000/556591 queries. users per second: 18331.6</pre>"
      ],
      "text/plain": [
       "recommendations finished on 210000/556591 queries. users per second: 18331.6"
      ]
     },
     "metadata": {},
     "output_type": "display_data"
    },
    {
     "data": {
      "text/html": [
       "<pre>recommendations finished on 211000/556591 queries. users per second: 18343.2</pre>"
      ],
      "text/plain": [
       "recommendations finished on 211000/556591 queries. users per second: 18343.2"
      ]
     },
     "metadata": {},
     "output_type": "display_data"
    },
    {
     "data": {
      "text/html": [
       "<pre>recommendations finished on 212000/556591 queries. users per second: 18357.1</pre>"
      ],
      "text/plain": [
       "recommendations finished on 212000/556591 queries. users per second: 18357.1"
      ]
     },
     "metadata": {},
     "output_type": "display_data"
    },
    {
     "data": {
      "text/html": [
       "<pre>recommendations finished on 213000/556591 queries. users per second: 18367.8</pre>"
      ],
      "text/plain": [
       "recommendations finished on 213000/556591 queries. users per second: 18367.8"
      ]
     },
     "metadata": {},
     "output_type": "display_data"
    },
    {
     "data": {
      "text/html": [
       "<pre>recommendations finished on 214000/556591 queries. users per second: 18343.7</pre>"
      ],
      "text/plain": [
       "recommendations finished on 214000/556591 queries. users per second: 18343.7"
      ]
     },
     "metadata": {},
     "output_type": "display_data"
    },
    {
     "data": {
      "text/html": [
       "<pre>recommendations finished on 215000/556591 queries. users per second: 18313.9</pre>"
      ],
      "text/plain": [
       "recommendations finished on 215000/556591 queries. users per second: 18313.9"
      ]
     },
     "metadata": {},
     "output_type": "display_data"
    },
    {
     "data": {
      "text/html": [
       "<pre>recommendations finished on 216000/556591 queries. users per second: 18301.2</pre>"
      ],
      "text/plain": [
       "recommendations finished on 216000/556591 queries. users per second: 18301.2"
      ]
     },
     "metadata": {},
     "output_type": "display_data"
    },
    {
     "data": {
      "text/html": [
       "<pre>recommendations finished on 217000/556591 queries. users per second: 18300.1</pre>"
      ],
      "text/plain": [
       "recommendations finished on 217000/556591 queries. users per second: 18300.1"
      ]
     },
     "metadata": {},
     "output_type": "display_data"
    },
    {
     "data": {
      "text/html": [
       "<pre>recommendations finished on 218000/556591 queries. users per second: 18288</pre>"
      ],
      "text/plain": [
       "recommendations finished on 218000/556591 queries. users per second: 18288"
      ]
     },
     "metadata": {},
     "output_type": "display_data"
    },
    {
     "data": {
      "text/html": [
       "<pre>recommendations finished on 219000/556591 queries. users per second: 18277.4</pre>"
      ],
      "text/plain": [
       "recommendations finished on 219000/556591 queries. users per second: 18277.4"
      ]
     },
     "metadata": {},
     "output_type": "display_data"
    },
    {
     "data": {
      "text/html": [
       "<pre>recommendations finished on 220000/556591 queries. users per second: 18264.9</pre>"
      ],
      "text/plain": [
       "recommendations finished on 220000/556591 queries. users per second: 18264.9"
      ]
     },
     "metadata": {},
     "output_type": "display_data"
    },
    {
     "data": {
      "text/html": [
       "<pre>recommendations finished on 221000/556591 queries. users per second: 18255.5</pre>"
      ],
      "text/plain": [
       "recommendations finished on 221000/556591 queries. users per second: 18255.5"
      ]
     },
     "metadata": {},
     "output_type": "display_data"
    },
    {
     "data": {
      "text/html": [
       "<pre>recommendations finished on 222000/556591 queries. users per second: 18248.8</pre>"
      ],
      "text/plain": [
       "recommendations finished on 222000/556591 queries. users per second: 18248.8"
      ]
     },
     "metadata": {},
     "output_type": "display_data"
    },
    {
     "data": {
      "text/html": [
       "<pre>recommendations finished on 223000/556591 queries. users per second: 18232.3</pre>"
      ],
      "text/plain": [
       "recommendations finished on 223000/556591 queries. users per second: 18232.3"
      ]
     },
     "metadata": {},
     "output_type": "display_data"
    },
    {
     "data": {
      "text/html": [
       "<pre>recommendations finished on 224000/556591 queries. users per second: 18226.8</pre>"
      ],
      "text/plain": [
       "recommendations finished on 224000/556591 queries. users per second: 18226.8"
      ]
     },
     "metadata": {},
     "output_type": "display_data"
    },
    {
     "data": {
      "text/html": [
       "<pre>recommendations finished on 225000/556591 queries. users per second: 18213.7</pre>"
      ],
      "text/plain": [
       "recommendations finished on 225000/556591 queries. users per second: 18213.7"
      ]
     },
     "metadata": {},
     "output_type": "display_data"
    },
    {
     "data": {
      "text/html": [
       "<pre>recommendations finished on 226000/556591 queries. users per second: 18204.7</pre>"
      ],
      "text/plain": [
       "recommendations finished on 226000/556591 queries. users per second: 18204.7"
      ]
     },
     "metadata": {},
     "output_type": "display_data"
    },
    {
     "data": {
      "text/html": [
       "<pre>recommendations finished on 227000/556591 queries. users per second: 18194.2</pre>"
      ],
      "text/plain": [
       "recommendations finished on 227000/556591 queries. users per second: 18194.2"
      ]
     },
     "metadata": {},
     "output_type": "display_data"
    },
    {
     "data": {
      "text/html": [
       "<pre>recommendations finished on 228000/556591 queries. users per second: 18178.7</pre>"
      ],
      "text/plain": [
       "recommendations finished on 228000/556591 queries. users per second: 18178.7"
      ]
     },
     "metadata": {},
     "output_type": "display_data"
    },
    {
     "data": {
      "text/html": [
       "<pre>recommendations finished on 229000/556591 queries. users per second: 18172.8</pre>"
      ],
      "text/plain": [
       "recommendations finished on 229000/556591 queries. users per second: 18172.8"
      ]
     },
     "metadata": {},
     "output_type": "display_data"
    },
    {
     "data": {
      "text/html": [
       "<pre>recommendations finished on 230000/556591 queries. users per second: 18164.7</pre>"
      ],
      "text/plain": [
       "recommendations finished on 230000/556591 queries. users per second: 18164.7"
      ]
     },
     "metadata": {},
     "output_type": "display_data"
    },
    {
     "data": {
      "text/html": [
       "<pre>recommendations finished on 231000/556591 queries. users per second: 18152.2</pre>"
      ],
      "text/plain": [
       "recommendations finished on 231000/556591 queries. users per second: 18152.2"
      ]
     },
     "metadata": {},
     "output_type": "display_data"
    },
    {
     "data": {
      "text/html": [
       "<pre>recommendations finished on 232000/556591 queries. users per second: 18144.2</pre>"
      ],
      "text/plain": [
       "recommendations finished on 232000/556591 queries. users per second: 18144.2"
      ]
     },
     "metadata": {},
     "output_type": "display_data"
    },
    {
     "data": {
      "text/html": [
       "<pre>recommendations finished on 233000/556591 queries. users per second: 18135.4</pre>"
      ],
      "text/plain": [
       "recommendations finished on 233000/556591 queries. users per second: 18135.4"
      ]
     },
     "metadata": {},
     "output_type": "display_data"
    },
    {
     "data": {
      "text/html": [
       "<pre>recommendations finished on 234000/556591 queries. users per second: 18116.9</pre>"
      ],
      "text/plain": [
       "recommendations finished on 234000/556591 queries. users per second: 18116.9"
      ]
     },
     "metadata": {},
     "output_type": "display_data"
    },
    {
     "data": {
      "text/html": [
       "<pre>recommendations finished on 235000/556591 queries. users per second: 18112.3</pre>"
      ],
      "text/plain": [
       "recommendations finished on 235000/556591 queries. users per second: 18112.3"
      ]
     },
     "metadata": {},
     "output_type": "display_data"
    },
    {
     "data": {
      "text/html": [
       "<pre>recommendations finished on 236000/556591 queries. users per second: 18106.3</pre>"
      ],
      "text/plain": [
       "recommendations finished on 236000/556591 queries. users per second: 18106.3"
      ]
     },
     "metadata": {},
     "output_type": "display_data"
    },
    {
     "data": {
      "text/html": [
       "<pre>recommendations finished on 237000/556591 queries. users per second: 18102.2</pre>"
      ],
      "text/plain": [
       "recommendations finished on 237000/556591 queries. users per second: 18102.2"
      ]
     },
     "metadata": {},
     "output_type": "display_data"
    },
    {
     "data": {
      "text/html": [
       "<pre>recommendations finished on 238000/556591 queries. users per second: 18093.7</pre>"
      ],
      "text/plain": [
       "recommendations finished on 238000/556591 queries. users per second: 18093.7"
      ]
     },
     "metadata": {},
     "output_type": "display_data"
    },
    {
     "data": {
      "text/html": [
       "<pre>recommendations finished on 239000/556591 queries. users per second: 18089.4</pre>"
      ],
      "text/plain": [
       "recommendations finished on 239000/556591 queries. users per second: 18089.4"
      ]
     },
     "metadata": {},
     "output_type": "display_data"
    },
    {
     "data": {
      "text/html": [
       "<pre>recommendations finished on 240000/556591 queries. users per second: 18084.5</pre>"
      ],
      "text/plain": [
       "recommendations finished on 240000/556591 queries. users per second: 18084.5"
      ]
     },
     "metadata": {},
     "output_type": "display_data"
    },
    {
     "data": {
      "text/html": [
       "<pre>recommendations finished on 241000/556591 queries. users per second: 18077.2</pre>"
      ],
      "text/plain": [
       "recommendations finished on 241000/556591 queries. users per second: 18077.2"
      ]
     },
     "metadata": {},
     "output_type": "display_data"
    },
    {
     "data": {
      "text/html": [
       "<pre>recommendations finished on 242000/556591 queries. users per second: 18074.7</pre>"
      ],
      "text/plain": [
       "recommendations finished on 242000/556591 queries. users per second: 18074.7"
      ]
     },
     "metadata": {},
     "output_type": "display_data"
    },
    {
     "data": {
      "text/html": [
       "<pre>recommendations finished on 243000/556591 queries. users per second: 18065</pre>"
      ],
      "text/plain": [
       "recommendations finished on 243000/556591 queries. users per second: 18065"
      ]
     },
     "metadata": {},
     "output_type": "display_data"
    },
    {
     "data": {
      "text/html": [
       "<pre>recommendations finished on 244000/556591 queries. users per second: 18075.2</pre>"
      ],
      "text/plain": [
       "recommendations finished on 244000/556591 queries. users per second: 18075.2"
      ]
     },
     "metadata": {},
     "output_type": "display_data"
    },
    {
     "data": {
      "text/html": [
       "<pre>recommendations finished on 245000/556591 queries. users per second: 18083.9</pre>"
      ],
      "text/plain": [
       "recommendations finished on 245000/556591 queries. users per second: 18083.9"
      ]
     },
     "metadata": {},
     "output_type": "display_data"
    },
    {
     "data": {
      "text/html": [
       "<pre>recommendations finished on 246000/556591 queries. users per second: 18093.4</pre>"
      ],
      "text/plain": [
       "recommendations finished on 246000/556591 queries. users per second: 18093.4"
      ]
     },
     "metadata": {},
     "output_type": "display_data"
    },
    {
     "data": {
      "text/html": [
       "<pre>recommendations finished on 247000/556591 queries. users per second: 18100.6</pre>"
      ],
      "text/plain": [
       "recommendations finished on 247000/556591 queries. users per second: 18100.6"
      ]
     },
     "metadata": {},
     "output_type": "display_data"
    },
    {
     "data": {
      "text/html": [
       "<pre>recommendations finished on 248000/556591 queries. users per second: 18100.2</pre>"
      ],
      "text/plain": [
       "recommendations finished on 248000/556591 queries. users per second: 18100.2"
      ]
     },
     "metadata": {},
     "output_type": "display_data"
    },
    {
     "data": {
      "text/html": [
       "<pre>recommendations finished on 249000/556591 queries. users per second: 18110.1</pre>"
      ],
      "text/plain": [
       "recommendations finished on 249000/556591 queries. users per second: 18110.1"
      ]
     },
     "metadata": {},
     "output_type": "display_data"
    },
    {
     "data": {
      "text/html": [
       "<pre>recommendations finished on 250000/556591 queries. users per second: 18120.3</pre>"
      ],
      "text/plain": [
       "recommendations finished on 250000/556591 queries. users per second: 18120.3"
      ]
     },
     "metadata": {},
     "output_type": "display_data"
    },
    {
     "data": {
      "text/html": [
       "<pre>recommendations finished on 251000/556591 queries. users per second: 18129.8</pre>"
      ],
      "text/plain": [
       "recommendations finished on 251000/556591 queries. users per second: 18129.8"
      ]
     },
     "metadata": {},
     "output_type": "display_data"
    },
    {
     "data": {
      "text/html": [
       "<pre>recommendations finished on 252000/556591 queries. users per second: 18138.1</pre>"
      ],
      "text/plain": [
       "recommendations finished on 252000/556591 queries. users per second: 18138.1"
      ]
     },
     "metadata": {},
     "output_type": "display_data"
    },
    {
     "data": {
      "text/html": [
       "<pre>recommendations finished on 253000/556591 queries. users per second: 18145.6</pre>"
      ],
      "text/plain": [
       "recommendations finished on 253000/556591 queries. users per second: 18145.6"
      ]
     },
     "metadata": {},
     "output_type": "display_data"
    },
    {
     "data": {
      "text/html": [
       "<pre>recommendations finished on 254000/556591 queries. users per second: 18153.8</pre>"
      ],
      "text/plain": [
       "recommendations finished on 254000/556591 queries. users per second: 18153.8"
      ]
     },
     "metadata": {},
     "output_type": "display_data"
    },
    {
     "data": {
      "text/html": [
       "<pre>recommendations finished on 255000/556591 queries. users per second: 18160.2</pre>"
      ],
      "text/plain": [
       "recommendations finished on 255000/556591 queries. users per second: 18160.2"
      ]
     },
     "metadata": {},
     "output_type": "display_data"
    },
    {
     "data": {
      "text/html": [
       "<pre>recommendations finished on 256000/556591 queries. users per second: 18165.6</pre>"
      ],
      "text/plain": [
       "recommendations finished on 256000/556591 queries. users per second: 18165.6"
      ]
     },
     "metadata": {},
     "output_type": "display_data"
    },
    {
     "data": {
      "text/html": [
       "<pre>recommendations finished on 257000/556591 queries. users per second: 18160.9</pre>"
      ],
      "text/plain": [
       "recommendations finished on 257000/556591 queries. users per second: 18160.9"
      ]
     },
     "metadata": {},
     "output_type": "display_data"
    },
    {
     "data": {
      "text/html": [
       "<pre>recommendations finished on 258000/556591 queries. users per second: 18133.6</pre>"
      ],
      "text/plain": [
       "recommendations finished on 258000/556591 queries. users per second: 18133.6"
      ]
     },
     "metadata": {},
     "output_type": "display_data"
    },
    {
     "data": {
      "text/html": [
       "<pre>recommendations finished on 259000/556591 queries. users per second: 18125.9</pre>"
      ],
      "text/plain": [
       "recommendations finished on 259000/556591 queries. users per second: 18125.9"
      ]
     },
     "metadata": {},
     "output_type": "display_data"
    },
    {
     "data": {
      "text/html": [
       "<pre>recommendations finished on 260000/556591 queries. users per second: 18113.5</pre>"
      ],
      "text/plain": [
       "recommendations finished on 260000/556591 queries. users per second: 18113.5"
      ]
     },
     "metadata": {},
     "output_type": "display_data"
    },
    {
     "data": {
      "text/html": [
       "<pre>recommendations finished on 261000/556591 queries. users per second: 18108.2</pre>"
      ],
      "text/plain": [
       "recommendations finished on 261000/556591 queries. users per second: 18108.2"
      ]
     },
     "metadata": {},
     "output_type": "display_data"
    },
    {
     "data": {
      "text/html": [
       "<pre>recommendations finished on 262000/556591 queries. users per second: 18102.2</pre>"
      ],
      "text/plain": [
       "recommendations finished on 262000/556591 queries. users per second: 18102.2"
      ]
     },
     "metadata": {},
     "output_type": "display_data"
    },
    {
     "data": {
      "text/html": [
       "<pre>recommendations finished on 263000/556591 queries. users per second: 18091.3</pre>"
      ],
      "text/plain": [
       "recommendations finished on 263000/556591 queries. users per second: 18091.3"
      ]
     },
     "metadata": {},
     "output_type": "display_data"
    },
    {
     "data": {
      "text/html": [
       "<pre>recommendations finished on 264000/556591 queries. users per second: 18083.1</pre>"
      ],
      "text/plain": [
       "recommendations finished on 264000/556591 queries. users per second: 18083.1"
      ]
     },
     "metadata": {},
     "output_type": "display_data"
    },
    {
     "data": {
      "text/html": [
       "<pre>recommendations finished on 265000/556591 queries. users per second: 18075.7</pre>"
      ],
      "text/plain": [
       "recommendations finished on 265000/556591 queries. users per second: 18075.7"
      ]
     },
     "metadata": {},
     "output_type": "display_data"
    },
    {
     "data": {
      "text/html": [
       "<pre>recommendations finished on 266000/556591 queries. users per second: 18064.3</pre>"
      ],
      "text/plain": [
       "recommendations finished on 266000/556591 queries. users per second: 18064.3"
      ]
     },
     "metadata": {},
     "output_type": "display_data"
    },
    {
     "data": {
      "text/html": [
       "<pre>recommendations finished on 267000/556591 queries. users per second: 18059</pre>"
      ],
      "text/plain": [
       "recommendations finished on 267000/556591 queries. users per second: 18059"
      ]
     },
     "metadata": {},
     "output_type": "display_data"
    },
    {
     "data": {
      "text/html": [
       "<pre>recommendations finished on 268000/556591 queries. users per second: 18049.1</pre>"
      ],
      "text/plain": [
       "recommendations finished on 268000/556591 queries. users per second: 18049.1"
      ]
     },
     "metadata": {},
     "output_type": "display_data"
    },
    {
     "data": {
      "text/html": [
       "<pre>recommendations finished on 269000/556591 queries. users per second: 18042.7</pre>"
      ],
      "text/plain": [
       "recommendations finished on 269000/556591 queries. users per second: 18042.7"
      ]
     },
     "metadata": {},
     "output_type": "display_data"
    },
    {
     "data": {
      "text/html": [
       "<pre>recommendations finished on 270000/556591 queries. users per second: 18038</pre>"
      ],
      "text/plain": [
       "recommendations finished on 270000/556591 queries. users per second: 18038"
      ]
     },
     "metadata": {},
     "output_type": "display_data"
    },
    {
     "data": {
      "text/html": [
       "<pre>recommendations finished on 271000/556591 queries. users per second: 18034.5</pre>"
      ],
      "text/plain": [
       "recommendations finished on 271000/556591 queries. users per second: 18034.5"
      ]
     },
     "metadata": {},
     "output_type": "display_data"
    },
    {
     "data": {
      "text/html": [
       "<pre>recommendations finished on 272000/556591 queries. users per second: 18027.8</pre>"
      ],
      "text/plain": [
       "recommendations finished on 272000/556591 queries. users per second: 18027.8"
      ]
     },
     "metadata": {},
     "output_type": "display_data"
    },
    {
     "data": {
      "text/html": [
       "<pre>recommendations finished on 273000/556591 queries. users per second: 18019.1</pre>"
      ],
      "text/plain": [
       "recommendations finished on 273000/556591 queries. users per second: 18019.1"
      ]
     },
     "metadata": {},
     "output_type": "display_data"
    },
    {
     "data": {
      "text/html": [
       "<pre>recommendations finished on 274000/556591 queries. users per second: 18009.3</pre>"
      ],
      "text/plain": [
       "recommendations finished on 274000/556591 queries. users per second: 18009.3"
      ]
     },
     "metadata": {},
     "output_type": "display_data"
    },
    {
     "data": {
      "text/html": [
       "<pre>recommendations finished on 275000/556591 queries. users per second: 18001.6</pre>"
      ],
      "text/plain": [
       "recommendations finished on 275000/556591 queries. users per second: 18001.6"
      ]
     },
     "metadata": {},
     "output_type": "display_data"
    },
    {
     "data": {
      "text/html": [
       "<pre>recommendations finished on 276000/556591 queries. users per second: 17996.5</pre>"
      ],
      "text/plain": [
       "recommendations finished on 276000/556591 queries. users per second: 17996.5"
      ]
     },
     "metadata": {},
     "output_type": "display_data"
    },
    {
     "data": {
      "text/html": [
       "<pre>recommendations finished on 277000/556591 queries. users per second: 17994.8</pre>"
      ],
      "text/plain": [
       "recommendations finished on 277000/556591 queries. users per second: 17994.8"
      ]
     },
     "metadata": {},
     "output_type": "display_data"
    },
    {
     "data": {
      "text/html": [
       "<pre>recommendations finished on 278000/556591 queries. users per second: 17981.9</pre>"
      ],
      "text/plain": [
       "recommendations finished on 278000/556591 queries. users per second: 17981.9"
      ]
     },
     "metadata": {},
     "output_type": "display_data"
    },
    {
     "data": {
      "text/html": [
       "<pre>recommendations finished on 279000/556591 queries. users per second: 17972.5</pre>"
      ],
      "text/plain": [
       "recommendations finished on 279000/556591 queries. users per second: 17972.5"
      ]
     },
     "metadata": {},
     "output_type": "display_data"
    },
    {
     "data": {
      "text/html": [
       "<pre>recommendations finished on 280000/556591 queries. users per second: 17959.7</pre>"
      ],
      "text/plain": [
       "recommendations finished on 280000/556591 queries. users per second: 17959.7"
      ]
     },
     "metadata": {},
     "output_type": "display_data"
    },
    {
     "data": {
      "text/html": [
       "<pre>recommendations finished on 281000/556591 queries. users per second: 17955.2</pre>"
      ],
      "text/plain": [
       "recommendations finished on 281000/556591 queries. users per second: 17955.2"
      ]
     },
     "metadata": {},
     "output_type": "display_data"
    },
    {
     "data": {
      "text/html": [
       "<pre>recommendations finished on 282000/556591 queries. users per second: 17951.3</pre>"
      ],
      "text/plain": [
       "recommendations finished on 282000/556591 queries. users per second: 17951.3"
      ]
     },
     "metadata": {},
     "output_type": "display_data"
    },
    {
     "data": {
      "text/html": [
       "<pre>recommendations finished on 283000/556591 queries. users per second: 17947.5</pre>"
      ],
      "text/plain": [
       "recommendations finished on 283000/556591 queries. users per second: 17947.5"
      ]
     },
     "metadata": {},
     "output_type": "display_data"
    },
    {
     "data": {
      "text/html": [
       "<pre>recommendations finished on 284000/556591 queries. users per second: 17946.2</pre>"
      ],
      "text/plain": [
       "recommendations finished on 284000/556591 queries. users per second: 17946.2"
      ]
     },
     "metadata": {},
     "output_type": "display_data"
    },
    {
     "data": {
      "text/html": [
       "<pre>recommendations finished on 285000/556591 queries. users per second: 17955.8</pre>"
      ],
      "text/plain": [
       "recommendations finished on 285000/556591 queries. users per second: 17955.8"
      ]
     },
     "metadata": {},
     "output_type": "display_data"
    },
    {
     "data": {
      "text/html": [
       "<pre>recommendations finished on 286000/556591 queries. users per second: 17965.3</pre>"
      ],
      "text/plain": [
       "recommendations finished on 286000/556591 queries. users per second: 17965.3"
      ]
     },
     "metadata": {},
     "output_type": "display_data"
    },
    {
     "data": {
      "text/html": [
       "<pre>recommendations finished on 287000/556591 queries. users per second: 17970.7</pre>"
      ],
      "text/plain": [
       "recommendations finished on 287000/556591 queries. users per second: 17970.7"
      ]
     },
     "metadata": {},
     "output_type": "display_data"
    },
    {
     "data": {
      "text/html": [
       "<pre>recommendations finished on 288000/556591 queries. users per second: 17974.7</pre>"
      ],
      "text/plain": [
       "recommendations finished on 288000/556591 queries. users per second: 17974.7"
      ]
     },
     "metadata": {},
     "output_type": "display_data"
    },
    {
     "data": {
      "text/html": [
       "<pre>recommendations finished on 289000/556591 queries. users per second: 17980.2</pre>"
      ],
      "text/plain": [
       "recommendations finished on 289000/556591 queries. users per second: 17980.2"
      ]
     },
     "metadata": {},
     "output_type": "display_data"
    },
    {
     "data": {
      "text/html": [
       "<pre>recommendations finished on 290000/556591 queries. users per second: 17981.8</pre>"
      ],
      "text/plain": [
       "recommendations finished on 290000/556591 queries. users per second: 17981.8"
      ]
     },
     "metadata": {},
     "output_type": "display_data"
    },
    {
     "data": {
      "text/html": [
       "<pre>recommendations finished on 291000/556591 queries. users per second: 17967</pre>"
      ],
      "text/plain": [
       "recommendations finished on 291000/556591 queries. users per second: 17967"
      ]
     },
     "metadata": {},
     "output_type": "display_data"
    },
    {
     "data": {
      "text/html": [
       "<pre>recommendations finished on 292000/556591 queries. users per second: 17952.9</pre>"
      ],
      "text/plain": [
       "recommendations finished on 292000/556591 queries. users per second: 17952.9"
      ]
     },
     "metadata": {},
     "output_type": "display_data"
    },
    {
     "data": {
      "text/html": [
       "<pre>recommendations finished on 293000/556591 queries. users per second: 17943.4</pre>"
      ],
      "text/plain": [
       "recommendations finished on 293000/556591 queries. users per second: 17943.4"
      ]
     },
     "metadata": {},
     "output_type": "display_data"
    },
    {
     "data": {
      "text/html": [
       "<pre>recommendations finished on 294000/556591 queries. users per second: 17936.8</pre>"
      ],
      "text/plain": [
       "recommendations finished on 294000/556591 queries. users per second: 17936.8"
      ]
     },
     "metadata": {},
     "output_type": "display_data"
    },
    {
     "data": {
      "text/html": [
       "<pre>recommendations finished on 295000/556591 queries. users per second: 17928.7</pre>"
      ],
      "text/plain": [
       "recommendations finished on 295000/556591 queries. users per second: 17928.7"
      ]
     },
     "metadata": {},
     "output_type": "display_data"
    },
    {
     "data": {
      "text/html": [
       "<pre>recommendations finished on 296000/556591 queries. users per second: 17918.6</pre>"
      ],
      "text/plain": [
       "recommendations finished on 296000/556591 queries. users per second: 17918.6"
      ]
     },
     "metadata": {},
     "output_type": "display_data"
    },
    {
     "data": {
      "text/html": [
       "<pre>recommendations finished on 297000/556591 queries. users per second: 17902.8</pre>"
      ],
      "text/plain": [
       "recommendations finished on 297000/556591 queries. users per second: 17902.8"
      ]
     },
     "metadata": {},
     "output_type": "display_data"
    },
    {
     "data": {
      "text/html": [
       "<pre>recommendations finished on 298000/556591 queries. users per second: 17894.1</pre>"
      ],
      "text/plain": [
       "recommendations finished on 298000/556591 queries. users per second: 17894.1"
      ]
     },
     "metadata": {},
     "output_type": "display_data"
    },
    {
     "data": {
      "text/html": [
       "<pre>recommendations finished on 299000/556591 queries. users per second: 17885.3</pre>"
      ],
      "text/plain": [
       "recommendations finished on 299000/556591 queries. users per second: 17885.3"
      ]
     },
     "metadata": {},
     "output_type": "display_data"
    },
    {
     "data": {
      "text/html": [
       "<pre>recommendations finished on 300000/556591 queries. users per second: 17880.1</pre>"
      ],
      "text/plain": [
       "recommendations finished on 300000/556591 queries. users per second: 17880.1"
      ]
     },
     "metadata": {},
     "output_type": "display_data"
    },
    {
     "data": {
      "text/html": [
       "<pre>recommendations finished on 301000/556591 queries. users per second: 17885</pre>"
      ],
      "text/plain": [
       "recommendations finished on 301000/556591 queries. users per second: 17885"
      ]
     },
     "metadata": {},
     "output_type": "display_data"
    },
    {
     "data": {
      "text/html": [
       "<pre>recommendations finished on 302000/556591 queries. users per second: 17888.5</pre>"
      ],
      "text/plain": [
       "recommendations finished on 302000/556591 queries. users per second: 17888.5"
      ]
     },
     "metadata": {},
     "output_type": "display_data"
    },
    {
     "data": {
      "text/html": [
       "<pre>recommendations finished on 303000/556591 queries. users per second: 17895.2</pre>"
      ],
      "text/plain": [
       "recommendations finished on 303000/556591 queries. users per second: 17895.2"
      ]
     },
     "metadata": {},
     "output_type": "display_data"
    },
    {
     "data": {
      "text/html": [
       "<pre>recommendations finished on 304000/556591 queries. users per second: 17900.2</pre>"
      ],
      "text/plain": [
       "recommendations finished on 304000/556591 queries. users per second: 17900.2"
      ]
     },
     "metadata": {},
     "output_type": "display_data"
    },
    {
     "data": {
      "text/html": [
       "<pre>recommendations finished on 305000/556591 queries. users per second: 17909.7</pre>"
      ],
      "text/plain": [
       "recommendations finished on 305000/556591 queries. users per second: 17909.7"
      ]
     },
     "metadata": {},
     "output_type": "display_data"
    },
    {
     "data": {
      "text/html": [
       "<pre>recommendations finished on 306000/556591 queries. users per second: 17918.8</pre>"
      ],
      "text/plain": [
       "recommendations finished on 306000/556591 queries. users per second: 17918.8"
      ]
     },
     "metadata": {},
     "output_type": "display_data"
    },
    {
     "data": {
      "text/html": [
       "<pre>recommendations finished on 307000/556591 queries. users per second: 17927.9</pre>"
      ],
      "text/plain": [
       "recommendations finished on 307000/556591 queries. users per second: 17927.9"
      ]
     },
     "metadata": {},
     "output_type": "display_data"
    },
    {
     "data": {
      "text/html": [
       "<pre>recommendations finished on 308000/556591 queries. users per second: 17936.2</pre>"
      ],
      "text/plain": [
       "recommendations finished on 308000/556591 queries. users per second: 17936.2"
      ]
     },
     "metadata": {},
     "output_type": "display_data"
    },
    {
     "data": {
      "text/html": [
       "<pre>recommendations finished on 309000/556591 queries. users per second: 17943.3</pre>"
      ],
      "text/plain": [
       "recommendations finished on 309000/556591 queries. users per second: 17943.3"
      ]
     },
     "metadata": {},
     "output_type": "display_data"
    },
    {
     "data": {
      "text/html": [
       "<pre>recommendations finished on 310000/556591 queries. users per second: 17948.6</pre>"
      ],
      "text/plain": [
       "recommendations finished on 310000/556591 queries. users per second: 17948.6"
      ]
     },
     "metadata": {},
     "output_type": "display_data"
    },
    {
     "data": {
      "text/html": [
       "<pre>recommendations finished on 311000/556591 queries. users per second: 17937.5</pre>"
      ],
      "text/plain": [
       "recommendations finished on 311000/556591 queries. users per second: 17937.5"
      ]
     },
     "metadata": {},
     "output_type": "display_data"
    },
    {
     "data": {
      "text/html": [
       "<pre>recommendations finished on 312000/556591 queries. users per second: 17935.3</pre>"
      ],
      "text/plain": [
       "recommendations finished on 312000/556591 queries. users per second: 17935.3"
      ]
     },
     "metadata": {},
     "output_type": "display_data"
    },
    {
     "data": {
      "text/html": [
       "<pre>recommendations finished on 313000/556591 queries. users per second: 17923.3</pre>"
      ],
      "text/plain": [
       "recommendations finished on 313000/556591 queries. users per second: 17923.3"
      ]
     },
     "metadata": {},
     "output_type": "display_data"
    },
    {
     "data": {
      "text/html": [
       "<pre>recommendations finished on 314000/556591 queries. users per second: 17917.9</pre>"
      ],
      "text/plain": [
       "recommendations finished on 314000/556591 queries. users per second: 17917.9"
      ]
     },
     "metadata": {},
     "output_type": "display_data"
    },
    {
     "data": {
      "text/html": [
       "<pre>recommendations finished on 315000/556591 queries. users per second: 17915.4</pre>"
      ],
      "text/plain": [
       "recommendations finished on 315000/556591 queries. users per second: 17915.4"
      ]
     },
     "metadata": {},
     "output_type": "display_data"
    },
    {
     "data": {
      "text/html": [
       "<pre>recommendations finished on 316000/556591 queries. users per second: 17907.4</pre>"
      ],
      "text/plain": [
       "recommendations finished on 316000/556591 queries. users per second: 17907.4"
      ]
     },
     "metadata": {},
     "output_type": "display_data"
    },
    {
     "data": {
      "text/html": [
       "<pre>recommendations finished on 317000/556591 queries. users per second: 17899.8</pre>"
      ],
      "text/plain": [
       "recommendations finished on 317000/556591 queries. users per second: 17899.8"
      ]
     },
     "metadata": {},
     "output_type": "display_data"
    },
    {
     "data": {
      "text/html": [
       "<pre>recommendations finished on 318000/556591 queries. users per second: 17894.2</pre>"
      ],
      "text/plain": [
       "recommendations finished on 318000/556591 queries. users per second: 17894.2"
      ]
     },
     "metadata": {},
     "output_type": "display_data"
    },
    {
     "data": {
      "text/html": [
       "<pre>recommendations finished on 319000/556591 queries. users per second: 17894.3</pre>"
      ],
      "text/plain": [
       "recommendations finished on 319000/556591 queries. users per second: 17894.3"
      ]
     },
     "metadata": {},
     "output_type": "display_data"
    },
    {
     "data": {
      "text/html": [
       "<pre>recommendations finished on 320000/556591 queries. users per second: 17897.4</pre>"
      ],
      "text/plain": [
       "recommendations finished on 320000/556591 queries. users per second: 17897.4"
      ]
     },
     "metadata": {},
     "output_type": "display_data"
    },
    {
     "data": {
      "text/html": [
       "<pre>recommendations finished on 321000/556591 queries. users per second: 17905.3</pre>"
      ],
      "text/plain": [
       "recommendations finished on 321000/556591 queries. users per second: 17905.3"
      ]
     },
     "metadata": {},
     "output_type": "display_data"
    },
    {
     "data": {
      "text/html": [
       "<pre>recommendations finished on 322000/556591 queries. users per second: 17914</pre>"
      ],
      "text/plain": [
       "recommendations finished on 322000/556591 queries. users per second: 17914"
      ]
     },
     "metadata": {},
     "output_type": "display_data"
    },
    {
     "data": {
      "text/html": [
       "<pre>recommendations finished on 323000/556591 queries. users per second: 17920.4</pre>"
      ],
      "text/plain": [
       "recommendations finished on 323000/556591 queries. users per second: 17920.4"
      ]
     },
     "metadata": {},
     "output_type": "display_data"
    },
    {
     "data": {
      "text/html": [
       "<pre>recommendations finished on 324000/556591 queries. users per second: 17926.2</pre>"
      ],
      "text/plain": [
       "recommendations finished on 324000/556591 queries. users per second: 17926.2"
      ]
     },
     "metadata": {},
     "output_type": "display_data"
    },
    {
     "data": {
      "text/html": [
       "<pre>recommendations finished on 325000/556591 queries. users per second: 17931.8</pre>"
      ],
      "text/plain": [
       "recommendations finished on 325000/556591 queries. users per second: 17931.8"
      ]
     },
     "metadata": {},
     "output_type": "display_data"
    },
    {
     "data": {
      "text/html": [
       "<pre>recommendations finished on 326000/556591 queries. users per second: 17937.2</pre>"
      ],
      "text/plain": [
       "recommendations finished on 326000/556591 queries. users per second: 17937.2"
      ]
     },
     "metadata": {},
     "output_type": "display_data"
    },
    {
     "data": {
      "text/html": [
       "<pre>recommendations finished on 327000/556591 queries. users per second: 17942.3</pre>"
      ],
      "text/plain": [
       "recommendations finished on 327000/556591 queries. users per second: 17942.3"
      ]
     },
     "metadata": {},
     "output_type": "display_data"
    },
    {
     "data": {
      "text/html": [
       "<pre>recommendations finished on 328000/556591 queries. users per second: 17947.5</pre>"
      ],
      "text/plain": [
       "recommendations finished on 328000/556591 queries. users per second: 17947.5"
      ]
     },
     "metadata": {},
     "output_type": "display_data"
    },
    {
     "data": {
      "text/html": [
       "<pre>recommendations finished on 329000/556591 queries. users per second: 17949.9</pre>"
      ],
      "text/plain": [
       "recommendations finished on 329000/556591 queries. users per second: 17949.9"
      ]
     },
     "metadata": {},
     "output_type": "display_data"
    },
    {
     "data": {
      "text/html": [
       "<pre>recommendations finished on 330000/556591 queries. users per second: 17951.8</pre>"
      ],
      "text/plain": [
       "recommendations finished on 330000/556591 queries. users per second: 17951.8"
      ]
     },
     "metadata": {},
     "output_type": "display_data"
    },
    {
     "data": {
      "text/html": [
       "<pre>recommendations finished on 331000/556591 queries. users per second: 17941.2</pre>"
      ],
      "text/plain": [
       "recommendations finished on 331000/556591 queries. users per second: 17941.2"
      ]
     },
     "metadata": {},
     "output_type": "display_data"
    },
    {
     "data": {
      "text/html": [
       "<pre>recommendations finished on 332000/556591 queries. users per second: 17932.6</pre>"
      ],
      "text/plain": [
       "recommendations finished on 332000/556591 queries. users per second: 17932.6"
      ]
     },
     "metadata": {},
     "output_type": "display_data"
    },
    {
     "data": {
      "text/html": [
       "<pre>recommendations finished on 333000/556591 queries. users per second: 17914.8</pre>"
      ],
      "text/plain": [
       "recommendations finished on 333000/556591 queries. users per second: 17914.8"
      ]
     },
     "metadata": {},
     "output_type": "display_data"
    },
    {
     "data": {
      "text/html": [
       "<pre>recommendations finished on 334000/556591 queries. users per second: 17903.8</pre>"
      ],
      "text/plain": [
       "recommendations finished on 334000/556591 queries. users per second: 17903.8"
      ]
     },
     "metadata": {},
     "output_type": "display_data"
    },
    {
     "data": {
      "text/html": [
       "<pre>recommendations finished on 335000/556591 queries. users per second: 17904.5</pre>"
      ],
      "text/plain": [
       "recommendations finished on 335000/556591 queries. users per second: 17904.5"
      ]
     },
     "metadata": {},
     "output_type": "display_data"
    },
    {
     "data": {
      "text/html": [
       "<pre>recommendations finished on 336000/556591 queries. users per second: 17900.9</pre>"
      ],
      "text/plain": [
       "recommendations finished on 336000/556591 queries. users per second: 17900.9"
      ]
     },
     "metadata": {},
     "output_type": "display_data"
    },
    {
     "data": {
      "text/html": [
       "<pre>recommendations finished on 337000/556591 queries. users per second: 17896.3</pre>"
      ],
      "text/plain": [
       "recommendations finished on 337000/556591 queries. users per second: 17896.3"
      ]
     },
     "metadata": {},
     "output_type": "display_data"
    },
    {
     "data": {
      "text/html": [
       "<pre>recommendations finished on 338000/556591 queries. users per second: 17895.5</pre>"
      ],
      "text/plain": [
       "recommendations finished on 338000/556591 queries. users per second: 17895.5"
      ]
     },
     "metadata": {},
     "output_type": "display_data"
    },
    {
     "data": {
      "text/html": [
       "<pre>recommendations finished on 339000/556591 queries. users per second: 17893.2</pre>"
      ],
      "text/plain": [
       "recommendations finished on 339000/556591 queries. users per second: 17893.2"
      ]
     },
     "metadata": {},
     "output_type": "display_data"
    },
    {
     "data": {
      "text/html": [
       "<pre>recommendations finished on 340000/556591 queries. users per second: 17893.4</pre>"
      ],
      "text/plain": [
       "recommendations finished on 340000/556591 queries. users per second: 17893.4"
      ]
     },
     "metadata": {},
     "output_type": "display_data"
    },
    {
     "data": {
      "text/html": [
       "<pre>recommendations finished on 341000/556591 queries. users per second: 17889.4</pre>"
      ],
      "text/plain": [
       "recommendations finished on 341000/556591 queries. users per second: 17889.4"
      ]
     },
     "metadata": {},
     "output_type": "display_data"
    },
    {
     "data": {
      "text/html": [
       "<pre>recommendations finished on 342000/556591 queries. users per second: 17891.1</pre>"
      ],
      "text/plain": [
       "recommendations finished on 342000/556591 queries. users per second: 17891.1"
      ]
     },
     "metadata": {},
     "output_type": "display_data"
    },
    {
     "data": {
      "text/html": [
       "<pre>recommendations finished on 343000/556591 queries. users per second: 17883.2</pre>"
      ],
      "text/plain": [
       "recommendations finished on 343000/556591 queries. users per second: 17883.2"
      ]
     },
     "metadata": {},
     "output_type": "display_data"
    },
    {
     "data": {
      "text/html": [
       "<pre>recommendations finished on 344000/556591 queries. users per second: 17878</pre>"
      ],
      "text/plain": [
       "recommendations finished on 344000/556591 queries. users per second: 17878"
      ]
     },
     "metadata": {},
     "output_type": "display_data"
    },
    {
     "data": {
      "text/html": [
       "<pre>recommendations finished on 345000/556591 queries. users per second: 17870.8</pre>"
      ],
      "text/plain": [
       "recommendations finished on 345000/556591 queries. users per second: 17870.8"
      ]
     },
     "metadata": {},
     "output_type": "display_data"
    },
    {
     "data": {
      "text/html": [
       "<pre>recommendations finished on 346000/556591 queries. users per second: 17868.3</pre>"
      ],
      "text/plain": [
       "recommendations finished on 346000/556591 queries. users per second: 17868.3"
      ]
     },
     "metadata": {},
     "output_type": "display_data"
    },
    {
     "data": {
      "text/html": [
       "<pre>recommendations finished on 347000/556591 queries. users per second: 17863.7</pre>"
      ],
      "text/plain": [
       "recommendations finished on 347000/556591 queries. users per second: 17863.7"
      ]
     },
     "metadata": {},
     "output_type": "display_data"
    },
    {
     "data": {
      "text/html": [
       "<pre>recommendations finished on 348000/556591 queries. users per second: 17860.8</pre>"
      ],
      "text/plain": [
       "recommendations finished on 348000/556591 queries. users per second: 17860.8"
      ]
     },
     "metadata": {},
     "output_type": "display_data"
    },
    {
     "data": {
      "text/html": [
       "<pre>recommendations finished on 349000/556591 queries. users per second: 17861.2</pre>"
      ],
      "text/plain": [
       "recommendations finished on 349000/556591 queries. users per second: 17861.2"
      ]
     },
     "metadata": {},
     "output_type": "display_data"
    },
    {
     "data": {
      "text/html": [
       "<pre>recommendations finished on 350000/556591 queries. users per second: 17863.2</pre>"
      ],
      "text/plain": [
       "recommendations finished on 350000/556591 queries. users per second: 17863.2"
      ]
     },
     "metadata": {},
     "output_type": "display_data"
    },
    {
     "data": {
      "text/html": [
       "<pre>recommendations finished on 351000/556591 queries. users per second: 17865.7</pre>"
      ],
      "text/plain": [
       "recommendations finished on 351000/556591 queries. users per second: 17865.7"
      ]
     },
     "metadata": {},
     "output_type": "display_data"
    },
    {
     "data": {
      "text/html": [
       "<pre>recommendations finished on 352000/556591 queries. users per second: 17868.2</pre>"
      ],
      "text/plain": [
       "recommendations finished on 352000/556591 queries. users per second: 17868.2"
      ]
     },
     "metadata": {},
     "output_type": "display_data"
    },
    {
     "data": {
      "text/html": [
       "<pre>recommendations finished on 353000/556591 queries. users per second: 17870.8</pre>"
      ],
      "text/plain": [
       "recommendations finished on 353000/556591 queries. users per second: 17870.8"
      ]
     },
     "metadata": {},
     "output_type": "display_data"
    },
    {
     "data": {
      "text/html": [
       "<pre>recommendations finished on 354000/556591 queries. users per second: 17873.6</pre>"
      ],
      "text/plain": [
       "recommendations finished on 354000/556591 queries. users per second: 17873.6"
      ]
     },
     "metadata": {},
     "output_type": "display_data"
    },
    {
     "data": {
      "text/html": [
       "<pre>recommendations finished on 355000/556591 queries. users per second: 17867.8</pre>"
      ],
      "text/plain": [
       "recommendations finished on 355000/556591 queries. users per second: 17867.8"
      ]
     },
     "metadata": {},
     "output_type": "display_data"
    },
    {
     "data": {
      "text/html": [
       "<pre>recommendations finished on 356000/556591 queries. users per second: 17869.8</pre>"
      ],
      "text/plain": [
       "recommendations finished on 356000/556591 queries. users per second: 17869.8"
      ]
     },
     "metadata": {},
     "output_type": "display_data"
    },
    {
     "data": {
      "text/html": [
       "<pre>recommendations finished on 357000/556591 queries. users per second: 17871</pre>"
      ],
      "text/plain": [
       "recommendations finished on 357000/556591 queries. users per second: 17871"
      ]
     },
     "metadata": {},
     "output_type": "display_data"
    },
    {
     "data": {
      "text/html": [
       "<pre>recommendations finished on 358000/556591 queries. users per second: 17873.2</pre>"
      ],
      "text/plain": [
       "recommendations finished on 358000/556591 queries. users per second: 17873.2"
      ]
     },
     "metadata": {},
     "output_type": "display_data"
    },
    {
     "data": {
      "text/html": [
       "<pre>recommendations finished on 359000/556591 queries. users per second: 17874.7</pre>"
      ],
      "text/plain": [
       "recommendations finished on 359000/556591 queries. users per second: 17874.7"
      ]
     },
     "metadata": {},
     "output_type": "display_data"
    },
    {
     "data": {
      "text/html": [
       "<pre>recommendations finished on 360000/556591 queries. users per second: 17874.7</pre>"
      ],
      "text/plain": [
       "recommendations finished on 360000/556591 queries. users per second: 17874.7"
      ]
     },
     "metadata": {},
     "output_type": "display_data"
    },
    {
     "data": {
      "text/html": [
       "<pre>recommendations finished on 361000/556591 queries. users per second: 17875.4</pre>"
      ],
      "text/plain": [
       "recommendations finished on 361000/556591 queries. users per second: 17875.4"
      ]
     },
     "metadata": {},
     "output_type": "display_data"
    },
    {
     "data": {
      "text/html": [
       "<pre>recommendations finished on 362000/556591 queries. users per second: 17877.6</pre>"
      ],
      "text/plain": [
       "recommendations finished on 362000/556591 queries. users per second: 17877.6"
      ]
     },
     "metadata": {},
     "output_type": "display_data"
    },
    {
     "data": {
      "text/html": [
       "<pre>recommendations finished on 363000/556591 queries. users per second: 17879.7</pre>"
      ],
      "text/plain": [
       "recommendations finished on 363000/556591 queries. users per second: 17879.7"
      ]
     },
     "metadata": {},
     "output_type": "display_data"
    },
    {
     "data": {
      "text/html": [
       "<pre>recommendations finished on 364000/556591 queries. users per second: 17881.5</pre>"
      ],
      "text/plain": [
       "recommendations finished on 364000/556591 queries. users per second: 17881.5"
      ]
     },
     "metadata": {},
     "output_type": "display_data"
    },
    {
     "data": {
      "text/html": [
       "<pre>recommendations finished on 365000/556591 queries. users per second: 17883.5</pre>"
      ],
      "text/plain": [
       "recommendations finished on 365000/556591 queries. users per second: 17883.5"
      ]
     },
     "metadata": {},
     "output_type": "display_data"
    },
    {
     "data": {
      "text/html": [
       "<pre>recommendations finished on 366000/556591 queries. users per second: 17885</pre>"
      ],
      "text/plain": [
       "recommendations finished on 366000/556591 queries. users per second: 17885"
      ]
     },
     "metadata": {},
     "output_type": "display_data"
    },
    {
     "data": {
      "text/html": [
       "<pre>recommendations finished on 367000/556591 queries. users per second: 17884.5</pre>"
      ],
      "text/plain": [
       "recommendations finished on 367000/556591 queries. users per second: 17884.5"
      ]
     },
     "metadata": {},
     "output_type": "display_data"
    },
    {
     "data": {
      "text/html": [
       "<pre>recommendations finished on 368000/556591 queries. users per second: 17885.9</pre>"
      ],
      "text/plain": [
       "recommendations finished on 368000/556591 queries. users per second: 17885.9"
      ]
     },
     "metadata": {},
     "output_type": "display_data"
    },
    {
     "data": {
      "text/html": [
       "<pre>recommendations finished on 369000/556591 queries. users per second: 17889</pre>"
      ],
      "text/plain": [
       "recommendations finished on 369000/556591 queries. users per second: 17889"
      ]
     },
     "metadata": {},
     "output_type": "display_data"
    },
    {
     "data": {
      "text/html": [
       "<pre>recommendations finished on 370000/556591 queries. users per second: 17890.9</pre>"
      ],
      "text/plain": [
       "recommendations finished on 370000/556591 queries. users per second: 17890.9"
      ]
     },
     "metadata": {},
     "output_type": "display_data"
    },
    {
     "data": {
      "text/html": [
       "<pre>recommendations finished on 371000/556591 queries. users per second: 17890.7</pre>"
      ],
      "text/plain": [
       "recommendations finished on 371000/556591 queries. users per second: 17890.7"
      ]
     },
     "metadata": {},
     "output_type": "display_data"
    },
    {
     "data": {
      "text/html": [
       "<pre>recommendations finished on 372000/556591 queries. users per second: 17892.9</pre>"
      ],
      "text/plain": [
       "recommendations finished on 372000/556591 queries. users per second: 17892.9"
      ]
     },
     "metadata": {},
     "output_type": "display_data"
    },
    {
     "data": {
      "text/html": [
       "<pre>recommendations finished on 373000/556591 queries. users per second: 17893.8</pre>"
      ],
      "text/plain": [
       "recommendations finished on 373000/556591 queries. users per second: 17893.8"
      ]
     },
     "metadata": {},
     "output_type": "display_data"
    },
    {
     "data": {
      "text/html": [
       "<pre>recommendations finished on 374000/556591 queries. users per second: 17895.1</pre>"
      ],
      "text/plain": [
       "recommendations finished on 374000/556591 queries. users per second: 17895.1"
      ]
     },
     "metadata": {},
     "output_type": "display_data"
    },
    {
     "data": {
      "text/html": [
       "<pre>recommendations finished on 375000/556591 queries. users per second: 17895.7</pre>"
      ],
      "text/plain": [
       "recommendations finished on 375000/556591 queries. users per second: 17895.7"
      ]
     },
     "metadata": {},
     "output_type": "display_data"
    },
    {
     "data": {
      "text/html": [
       "<pre>recommendations finished on 376000/556591 queries. users per second: 17896.9</pre>"
      ],
      "text/plain": [
       "recommendations finished on 376000/556591 queries. users per second: 17896.9"
      ]
     },
     "metadata": {},
     "output_type": "display_data"
    },
    {
     "data": {
      "text/html": [
       "<pre>recommendations finished on 377000/556591 queries. users per second: 17899.3</pre>"
      ],
      "text/plain": [
       "recommendations finished on 377000/556591 queries. users per second: 17899.3"
      ]
     },
     "metadata": {},
     "output_type": "display_data"
    },
    {
     "data": {
      "text/html": [
       "<pre>recommendations finished on 378000/556591 queries. users per second: 17899.2</pre>"
      ],
      "text/plain": [
       "recommendations finished on 378000/556591 queries. users per second: 17899.2"
      ]
     },
     "metadata": {},
     "output_type": "display_data"
    },
    {
     "data": {
      "text/html": [
       "<pre>recommendations finished on 379000/556591 queries. users per second: 17892.3</pre>"
      ],
      "text/plain": [
       "recommendations finished on 379000/556591 queries. users per second: 17892.3"
      ]
     },
     "metadata": {},
     "output_type": "display_data"
    },
    {
     "data": {
      "text/html": [
       "<pre>recommendations finished on 380000/556591 queries. users per second: 17877</pre>"
      ],
      "text/plain": [
       "recommendations finished on 380000/556591 queries. users per second: 17877"
      ]
     },
     "metadata": {},
     "output_type": "display_data"
    },
    {
     "data": {
      "text/html": [
       "<pre>recommendations finished on 381000/556591 queries. users per second: 17878.1</pre>"
      ],
      "text/plain": [
       "recommendations finished on 381000/556591 queries. users per second: 17878.1"
      ]
     },
     "metadata": {},
     "output_type": "display_data"
    },
    {
     "data": {
      "text/html": [
       "<pre>recommendations finished on 382000/556591 queries. users per second: 17878.5</pre>"
      ],
      "text/plain": [
       "recommendations finished on 382000/556591 queries. users per second: 17878.5"
      ]
     },
     "metadata": {},
     "output_type": "display_data"
    },
    {
     "data": {
      "text/html": [
       "<pre>recommendations finished on 383000/556591 queries. users per second: 17878.8</pre>"
      ],
      "text/plain": [
       "recommendations finished on 383000/556591 queries. users per second: 17878.8"
      ]
     },
     "metadata": {},
     "output_type": "display_data"
    },
    {
     "data": {
      "text/html": [
       "<pre>recommendations finished on 384000/556591 queries. users per second: 17871.1</pre>"
      ],
      "text/plain": [
       "recommendations finished on 384000/556591 queries. users per second: 17871.1"
      ]
     },
     "metadata": {},
     "output_type": "display_data"
    },
    {
     "data": {
      "text/html": [
       "<pre>recommendations finished on 385000/556591 queries. users per second: 17864.9</pre>"
      ],
      "text/plain": [
       "recommendations finished on 385000/556591 queries. users per second: 17864.9"
      ]
     },
     "metadata": {},
     "output_type": "display_data"
    },
    {
     "data": {
      "text/html": [
       "<pre>recommendations finished on 386000/556591 queries. users per second: 17863.6</pre>"
      ],
      "text/plain": [
       "recommendations finished on 386000/556591 queries. users per second: 17863.6"
      ]
     },
     "metadata": {},
     "output_type": "display_data"
    },
    {
     "data": {
      "text/html": [
       "<pre>recommendations finished on 387000/556591 queries. users per second: 17867.3</pre>"
      ],
      "text/plain": [
       "recommendations finished on 387000/556591 queries. users per second: 17867.3"
      ]
     },
     "metadata": {},
     "output_type": "display_data"
    },
    {
     "data": {
      "text/html": [
       "<pre>recommendations finished on 388000/556591 queries. users per second: 17869.7</pre>"
      ],
      "text/plain": [
       "recommendations finished on 388000/556591 queries. users per second: 17869.7"
      ]
     },
     "metadata": {},
     "output_type": "display_data"
    },
    {
     "data": {
      "text/html": [
       "<pre>recommendations finished on 389000/556591 queries. users per second: 17873.8</pre>"
      ],
      "text/plain": [
       "recommendations finished on 389000/556591 queries. users per second: 17873.8"
      ]
     },
     "metadata": {},
     "output_type": "display_data"
    },
    {
     "data": {
      "text/html": [
       "<pre>recommendations finished on 390000/556591 queries. users per second: 17876.7</pre>"
      ],
      "text/plain": [
       "recommendations finished on 390000/556591 queries. users per second: 17876.7"
      ]
     },
     "metadata": {},
     "output_type": "display_data"
    },
    {
     "data": {
      "text/html": [
       "<pre>recommendations finished on 391000/556591 queries. users per second: 17881.3</pre>"
      ],
      "text/plain": [
       "recommendations finished on 391000/556591 queries. users per second: 17881.3"
      ]
     },
     "metadata": {},
     "output_type": "display_data"
    },
    {
     "data": {
      "text/html": [
       "<pre>recommendations finished on 392000/556591 queries. users per second: 17885.6</pre>"
      ],
      "text/plain": [
       "recommendations finished on 392000/556591 queries. users per second: 17885.6"
      ]
     },
     "metadata": {},
     "output_type": "display_data"
    },
    {
     "data": {
      "text/html": [
       "<pre>recommendations finished on 393000/556591 queries. users per second: 17890.2</pre>"
      ],
      "text/plain": [
       "recommendations finished on 393000/556591 queries. users per second: 17890.2"
      ]
     },
     "metadata": {},
     "output_type": "display_data"
    },
    {
     "data": {
      "text/html": [
       "<pre>recommendations finished on 394000/556591 queries. users per second: 17894.1</pre>"
      ],
      "text/plain": [
       "recommendations finished on 394000/556591 queries. users per second: 17894.1"
      ]
     },
     "metadata": {},
     "output_type": "display_data"
    },
    {
     "data": {
      "text/html": [
       "<pre>recommendations finished on 395000/556591 queries. users per second: 17899.7</pre>"
      ],
      "text/plain": [
       "recommendations finished on 395000/556591 queries. users per second: 17899.7"
      ]
     },
     "metadata": {},
     "output_type": "display_data"
    },
    {
     "data": {
      "text/html": [
       "<pre>recommendations finished on 396000/556591 queries. users per second: 17905.7</pre>"
      ],
      "text/plain": [
       "recommendations finished on 396000/556591 queries. users per second: 17905.7"
      ]
     },
     "metadata": {},
     "output_type": "display_data"
    },
    {
     "data": {
      "text/html": [
       "<pre>recommendations finished on 397000/556591 queries. users per second: 17911.8</pre>"
      ],
      "text/plain": [
       "recommendations finished on 397000/556591 queries. users per second: 17911.8"
      ]
     },
     "metadata": {},
     "output_type": "display_data"
    },
    {
     "data": {
      "text/html": [
       "<pre>recommendations finished on 398000/556591 queries. users per second: 17917.6</pre>"
      ],
      "text/plain": [
       "recommendations finished on 398000/556591 queries. users per second: 17917.6"
      ]
     },
     "metadata": {},
     "output_type": "display_data"
    },
    {
     "data": {
      "text/html": [
       "<pre>recommendations finished on 399000/556591 queries. users per second: 17921.3</pre>"
      ],
      "text/plain": [
       "recommendations finished on 399000/556591 queries. users per second: 17921.3"
      ]
     },
     "metadata": {},
     "output_type": "display_data"
    },
    {
     "data": {
      "text/html": [
       "<pre>recommendations finished on 400000/556591 queries. users per second: 17924.3</pre>"
      ],
      "text/plain": [
       "recommendations finished on 400000/556591 queries. users per second: 17924.3"
      ]
     },
     "metadata": {},
     "output_type": "display_data"
    },
    {
     "data": {
      "text/html": [
       "<pre>recommendations finished on 401000/556591 queries. users per second: 17929.4</pre>"
      ],
      "text/plain": [
       "recommendations finished on 401000/556591 queries. users per second: 17929.4"
      ]
     },
     "metadata": {},
     "output_type": "display_data"
    },
    {
     "data": {
      "text/html": [
       "<pre>recommendations finished on 402000/556591 queries. users per second: 17934.6</pre>"
      ],
      "text/plain": [
       "recommendations finished on 402000/556591 queries. users per second: 17934.6"
      ]
     },
     "metadata": {},
     "output_type": "display_data"
    },
    {
     "data": {
      "text/html": [
       "<pre>recommendations finished on 403000/556591 queries. users per second: 17939</pre>"
      ],
      "text/plain": [
       "recommendations finished on 403000/556591 queries. users per second: 17939"
      ]
     },
     "metadata": {},
     "output_type": "display_data"
    },
    {
     "data": {
      "text/html": [
       "<pre>recommendations finished on 404000/556591 queries. users per second: 17944.5</pre>"
      ],
      "text/plain": [
       "recommendations finished on 404000/556591 queries. users per second: 17944.5"
      ]
     },
     "metadata": {},
     "output_type": "display_data"
    },
    {
     "data": {
      "text/html": [
       "<pre>recommendations finished on 405000/556591 queries. users per second: 17949.9</pre>"
      ],
      "text/plain": [
       "recommendations finished on 405000/556591 queries. users per second: 17949.9"
      ]
     },
     "metadata": {},
     "output_type": "display_data"
    },
    {
     "data": {
      "text/html": [
       "<pre>recommendations finished on 406000/556591 queries. users per second: 17954.4</pre>"
      ],
      "text/plain": [
       "recommendations finished on 406000/556591 queries. users per second: 17954.4"
      ]
     },
     "metadata": {},
     "output_type": "display_data"
    },
    {
     "data": {
      "text/html": [
       "<pre>recommendations finished on 407000/556591 queries. users per second: 17959.5</pre>"
      ],
      "text/plain": [
       "recommendations finished on 407000/556591 queries. users per second: 17959.5"
      ]
     },
     "metadata": {},
     "output_type": "display_data"
    },
    {
     "data": {
      "text/html": [
       "<pre>recommendations finished on 408000/556591 queries. users per second: 17965.4</pre>"
      ],
      "text/plain": [
       "recommendations finished on 408000/556591 queries. users per second: 17965.4"
      ]
     },
     "metadata": {},
     "output_type": "display_data"
    },
    {
     "data": {
      "text/html": [
       "<pre>recommendations finished on 409000/556591 queries. users per second: 17971.2</pre>"
      ],
      "text/plain": [
       "recommendations finished on 409000/556591 queries. users per second: 17971.2"
      ]
     },
     "metadata": {},
     "output_type": "display_data"
    },
    {
     "data": {
      "text/html": [
       "<pre>recommendations finished on 410000/556591 queries. users per second: 17976.4</pre>"
      ],
      "text/plain": [
       "recommendations finished on 410000/556591 queries. users per second: 17976.4"
      ]
     },
     "metadata": {},
     "output_type": "display_data"
    },
    {
     "data": {
      "text/html": [
       "<pre>recommendations finished on 411000/556591 queries. users per second: 17980.4</pre>"
      ],
      "text/plain": [
       "recommendations finished on 411000/556591 queries. users per second: 17980.4"
      ]
     },
     "metadata": {},
     "output_type": "display_data"
    },
    {
     "data": {
      "text/html": [
       "<pre>recommendations finished on 412000/556591 queries. users per second: 17983.3</pre>"
      ],
      "text/plain": [
       "recommendations finished on 412000/556591 queries. users per second: 17983.3"
      ]
     },
     "metadata": {},
     "output_type": "display_data"
    },
    {
     "data": {
      "text/html": [
       "<pre>recommendations finished on 413000/556591 queries. users per second: 17982.7</pre>"
      ],
      "text/plain": [
       "recommendations finished on 413000/556591 queries. users per second: 17982.7"
      ]
     },
     "metadata": {},
     "output_type": "display_data"
    },
    {
     "data": {
      "text/html": [
       "<pre>recommendations finished on 414000/556591 queries. users per second: 17977.8</pre>"
      ],
      "text/plain": [
       "recommendations finished on 414000/556591 queries. users per second: 17977.8"
      ]
     },
     "metadata": {},
     "output_type": "display_data"
    },
    {
     "data": {
      "text/html": [
       "<pre>recommendations finished on 415000/556591 queries. users per second: 17981.9</pre>"
      ],
      "text/plain": [
       "recommendations finished on 415000/556591 queries. users per second: 17981.9"
      ]
     },
     "metadata": {},
     "output_type": "display_data"
    },
    {
     "data": {
      "text/html": [
       "<pre>recommendations finished on 416000/556591 queries. users per second: 17985.2</pre>"
      ],
      "text/plain": [
       "recommendations finished on 416000/556591 queries. users per second: 17985.2"
      ]
     },
     "metadata": {},
     "output_type": "display_data"
    },
    {
     "data": {
      "text/html": [
       "<pre>recommendations finished on 417000/556591 queries. users per second: 17984.8</pre>"
      ],
      "text/plain": [
       "recommendations finished on 417000/556591 queries. users per second: 17984.8"
      ]
     },
     "metadata": {},
     "output_type": "display_data"
    },
    {
     "data": {
      "text/html": [
       "<pre>recommendations finished on 418000/556591 queries. users per second: 17976</pre>"
      ],
      "text/plain": [
       "recommendations finished on 418000/556591 queries. users per second: 17976"
      ]
     },
     "metadata": {},
     "output_type": "display_data"
    },
    {
     "data": {
      "text/html": [
       "<pre>recommendations finished on 419000/556591 queries. users per second: 17976.1</pre>"
      ],
      "text/plain": [
       "recommendations finished on 419000/556591 queries. users per second: 17976.1"
      ]
     },
     "metadata": {},
     "output_type": "display_data"
    },
    {
     "data": {
      "text/html": [
       "<pre>recommendations finished on 420000/556591 queries. users per second: 17981</pre>"
      ],
      "text/plain": [
       "recommendations finished on 420000/556591 queries. users per second: 17981"
      ]
     },
     "metadata": {},
     "output_type": "display_data"
    },
    {
     "data": {
      "text/html": [
       "<pre>recommendations finished on 421000/556591 queries. users per second: 17985.7</pre>"
      ],
      "text/plain": [
       "recommendations finished on 421000/556591 queries. users per second: 17985.7"
      ]
     },
     "metadata": {},
     "output_type": "display_data"
    },
    {
     "data": {
      "text/html": [
       "<pre>recommendations finished on 422000/556591 queries. users per second: 17990.7</pre>"
      ],
      "text/plain": [
       "recommendations finished on 422000/556591 queries. users per second: 17990.7"
      ]
     },
     "metadata": {},
     "output_type": "display_data"
    },
    {
     "data": {
      "text/html": [
       "<pre>recommendations finished on 423000/556591 queries. users per second: 17995.7</pre>"
      ],
      "text/plain": [
       "recommendations finished on 423000/556591 queries. users per second: 17995.7"
      ]
     },
     "metadata": {},
     "output_type": "display_data"
    },
    {
     "data": {
      "text/html": [
       "<pre>recommendations finished on 424000/556591 queries. users per second: 18000.5</pre>"
      ],
      "text/plain": [
       "recommendations finished on 424000/556591 queries. users per second: 18000.5"
      ]
     },
     "metadata": {},
     "output_type": "display_data"
    },
    {
     "data": {
      "text/html": [
       "<pre>recommendations finished on 425000/556591 queries. users per second: 18003.9</pre>"
      ],
      "text/plain": [
       "recommendations finished on 425000/556591 queries. users per second: 18003.9"
      ]
     },
     "metadata": {},
     "output_type": "display_data"
    },
    {
     "data": {
      "text/html": [
       "<pre>recommendations finished on 426000/556591 queries. users per second: 18006.1</pre>"
      ],
      "text/plain": [
       "recommendations finished on 426000/556591 queries. users per second: 18006.1"
      ]
     },
     "metadata": {},
     "output_type": "display_data"
    },
    {
     "data": {
      "text/html": [
       "<pre>recommendations finished on 427000/556591 queries. users per second: 18007.6</pre>"
      ],
      "text/plain": [
       "recommendations finished on 427000/556591 queries. users per second: 18007.6"
      ]
     },
     "metadata": {},
     "output_type": "display_data"
    },
    {
     "data": {
      "text/html": [
       "<pre>recommendations finished on 428000/556591 queries. users per second: 18005.8</pre>"
      ],
      "text/plain": [
       "recommendations finished on 428000/556591 queries. users per second: 18005.8"
      ]
     },
     "metadata": {},
     "output_type": "display_data"
    },
    {
     "data": {
      "text/html": [
       "<pre>recommendations finished on 429000/556591 queries. users per second: 18004.5</pre>"
      ],
      "text/plain": [
       "recommendations finished on 429000/556591 queries. users per second: 18004.5"
      ]
     },
     "metadata": {},
     "output_type": "display_data"
    },
    {
     "data": {
      "text/html": [
       "<pre>recommendations finished on 430000/556591 queries. users per second: 18006.6</pre>"
      ],
      "text/plain": [
       "recommendations finished on 430000/556591 queries. users per second: 18006.6"
      ]
     },
     "metadata": {},
     "output_type": "display_data"
    },
    {
     "data": {
      "text/html": [
       "<pre>recommendations finished on 431000/556591 queries. users per second: 18009.6</pre>"
      ],
      "text/plain": [
       "recommendations finished on 431000/556591 queries. users per second: 18009.6"
      ]
     },
     "metadata": {},
     "output_type": "display_data"
    },
    {
     "data": {
      "text/html": [
       "<pre>recommendations finished on 432000/556591 queries. users per second: 18014</pre>"
      ],
      "text/plain": [
       "recommendations finished on 432000/556591 queries. users per second: 18014"
      ]
     },
     "metadata": {},
     "output_type": "display_data"
    },
    {
     "data": {
      "text/html": [
       "<pre>recommendations finished on 433000/556591 queries. users per second: 18017.2</pre>"
      ],
      "text/plain": [
       "recommendations finished on 433000/556591 queries. users per second: 18017.2"
      ]
     },
     "metadata": {},
     "output_type": "display_data"
    },
    {
     "data": {
      "text/html": [
       "<pre>recommendations finished on 434000/556591 queries. users per second: 18016.9</pre>"
      ],
      "text/plain": [
       "recommendations finished on 434000/556591 queries. users per second: 18016.9"
      ]
     },
     "metadata": {},
     "output_type": "display_data"
    },
    {
     "data": {
      "text/html": [
       "<pre>recommendations finished on 435000/556591 queries. users per second: 18013</pre>"
      ],
      "text/plain": [
       "recommendations finished on 435000/556591 queries. users per second: 18013"
      ]
     },
     "metadata": {},
     "output_type": "display_data"
    },
    {
     "data": {
      "text/html": [
       "<pre>recommendations finished on 436000/556591 queries. users per second: 18016.4</pre>"
      ],
      "text/plain": [
       "recommendations finished on 436000/556591 queries. users per second: 18016.4"
      ]
     },
     "metadata": {},
     "output_type": "display_data"
    },
    {
     "data": {
      "text/html": [
       "<pre>recommendations finished on 437000/556591 queries. users per second: 18019.1</pre>"
      ],
      "text/plain": [
       "recommendations finished on 437000/556591 queries. users per second: 18019.1"
      ]
     },
     "metadata": {},
     "output_type": "display_data"
    },
    {
     "data": {
      "text/html": [
       "<pre>recommendations finished on 438000/556591 queries. users per second: 18024</pre>"
      ],
      "text/plain": [
       "recommendations finished on 438000/556591 queries. users per second: 18024"
      ]
     },
     "metadata": {},
     "output_type": "display_data"
    },
    {
     "data": {
      "text/html": [
       "<pre>recommendations finished on 439000/556591 queries. users per second: 18028.5</pre>"
      ],
      "text/plain": [
       "recommendations finished on 439000/556591 queries. users per second: 18028.5"
      ]
     },
     "metadata": {},
     "output_type": "display_data"
    },
    {
     "data": {
      "text/html": [
       "<pre>recommendations finished on 440000/556591 queries. users per second: 18033.1</pre>"
      ],
      "text/plain": [
       "recommendations finished on 440000/556591 queries. users per second: 18033.1"
      ]
     },
     "metadata": {},
     "output_type": "display_data"
    },
    {
     "data": {
      "text/html": [
       "<pre>recommendations finished on 441000/556591 queries. users per second: 18038</pre>"
      ],
      "text/plain": [
       "recommendations finished on 441000/556591 queries. users per second: 18038"
      ]
     },
     "metadata": {},
     "output_type": "display_data"
    },
    {
     "data": {
      "text/html": [
       "<pre>recommendations finished on 442000/556591 queries. users per second: 18041.5</pre>"
      ],
      "text/plain": [
       "recommendations finished on 442000/556591 queries. users per second: 18041.5"
      ]
     },
     "metadata": {},
     "output_type": "display_data"
    },
    {
     "data": {
      "text/html": [
       "<pre>recommendations finished on 443000/556591 queries. users per second: 18046</pre>"
      ],
      "text/plain": [
       "recommendations finished on 443000/556591 queries. users per second: 18046"
      ]
     },
     "metadata": {},
     "output_type": "display_data"
    },
    {
     "data": {
      "text/html": [
       "<pre>recommendations finished on 444000/556591 queries. users per second: 18049</pre>"
      ],
      "text/plain": [
       "recommendations finished on 444000/556591 queries. users per second: 18049"
      ]
     },
     "metadata": {},
     "output_type": "display_data"
    },
    {
     "data": {
      "text/html": [
       "<pre>recommendations finished on 445000/556591 queries. users per second: 18049.4</pre>"
      ],
      "text/plain": [
       "recommendations finished on 445000/556591 queries. users per second: 18049.4"
      ]
     },
     "metadata": {},
     "output_type": "display_data"
    },
    {
     "data": {
      "text/html": [
       "<pre>recommendations finished on 446000/556591 queries. users per second: 18052.2</pre>"
      ],
      "text/plain": [
       "recommendations finished on 446000/556591 queries. users per second: 18052.2"
      ]
     },
     "metadata": {},
     "output_type": "display_data"
    },
    {
     "data": {
      "text/html": [
       "<pre>recommendations finished on 447000/556591 queries. users per second: 18055.6</pre>"
      ],
      "text/plain": [
       "recommendations finished on 447000/556591 queries. users per second: 18055.6"
      ]
     },
     "metadata": {},
     "output_type": "display_data"
    },
    {
     "data": {
      "text/html": [
       "<pre>recommendations finished on 448000/556591 queries. users per second: 18059.7</pre>"
      ],
      "text/plain": [
       "recommendations finished on 448000/556591 queries. users per second: 18059.7"
      ]
     },
     "metadata": {},
     "output_type": "display_data"
    },
    {
     "data": {
      "text/html": [
       "<pre>recommendations finished on 449000/556591 queries. users per second: 18064.3</pre>"
      ],
      "text/plain": [
       "recommendations finished on 449000/556591 queries. users per second: 18064.3"
      ]
     },
     "metadata": {},
     "output_type": "display_data"
    },
    {
     "data": {
      "text/html": [
       "<pre>recommendations finished on 450000/556591 queries. users per second: 18059.5</pre>"
      ],
      "text/plain": [
       "recommendations finished on 450000/556591 queries. users per second: 18059.5"
      ]
     },
     "metadata": {},
     "output_type": "display_data"
    },
    {
     "data": {
      "text/html": [
       "<pre>recommendations finished on 451000/556591 queries. users per second: 18061.8</pre>"
      ],
      "text/plain": [
       "recommendations finished on 451000/556591 queries. users per second: 18061.8"
      ]
     },
     "metadata": {},
     "output_type": "display_data"
    },
    {
     "data": {
      "text/html": [
       "<pre>recommendations finished on 452000/556591 queries. users per second: 18062.8</pre>"
      ],
      "text/plain": [
       "recommendations finished on 452000/556591 queries. users per second: 18062.8"
      ]
     },
     "metadata": {},
     "output_type": "display_data"
    },
    {
     "data": {
      "text/html": [
       "<pre>recommendations finished on 453000/556591 queries. users per second: 18064.1</pre>"
      ],
      "text/plain": [
       "recommendations finished on 453000/556591 queries. users per second: 18064.1"
      ]
     },
     "metadata": {},
     "output_type": "display_data"
    },
    {
     "data": {
      "text/html": [
       "<pre>recommendations finished on 454000/556591 queries. users per second: 18064.7</pre>"
      ],
      "text/plain": [
       "recommendations finished on 454000/556591 queries. users per second: 18064.7"
      ]
     },
     "metadata": {},
     "output_type": "display_data"
    },
    {
     "data": {
      "text/html": [
       "<pre>recommendations finished on 455000/556591 queries. users per second: 18064.9</pre>"
      ],
      "text/plain": [
       "recommendations finished on 455000/556591 queries. users per second: 18064.9"
      ]
     },
     "metadata": {},
     "output_type": "display_data"
    },
    {
     "data": {
      "text/html": [
       "<pre>recommendations finished on 456000/556591 queries. users per second: 18066.2</pre>"
      ],
      "text/plain": [
       "recommendations finished on 456000/556591 queries. users per second: 18066.2"
      ]
     },
     "metadata": {},
     "output_type": "display_data"
    },
    {
     "data": {
      "text/html": [
       "<pre>recommendations finished on 457000/556591 queries. users per second: 18069.5</pre>"
      ],
      "text/plain": [
       "recommendations finished on 457000/556591 queries. users per second: 18069.5"
      ]
     },
     "metadata": {},
     "output_type": "display_data"
    },
    {
     "data": {
      "text/html": [
       "<pre>recommendations finished on 458000/556591 queries. users per second: 18073.2</pre>"
      ],
      "text/plain": [
       "recommendations finished on 458000/556591 queries. users per second: 18073.2"
      ]
     },
     "metadata": {},
     "output_type": "display_data"
    },
    {
     "data": {
      "text/html": [
       "<pre>recommendations finished on 459000/556591 queries. users per second: 18077.7</pre>"
      ],
      "text/plain": [
       "recommendations finished on 459000/556591 queries. users per second: 18077.7"
      ]
     },
     "metadata": {},
     "output_type": "display_data"
    },
    {
     "data": {
      "text/html": [
       "<pre>recommendations finished on 460000/556591 queries. users per second: 18078.3</pre>"
      ],
      "text/plain": [
       "recommendations finished on 460000/556591 queries. users per second: 18078.3"
      ]
     },
     "metadata": {},
     "output_type": "display_data"
    },
    {
     "data": {
      "text/html": [
       "<pre>recommendations finished on 461000/556591 queries. users per second: 18081.1</pre>"
      ],
      "text/plain": [
       "recommendations finished on 461000/556591 queries. users per second: 18081.1"
      ]
     },
     "metadata": {},
     "output_type": "display_data"
    },
    {
     "data": {
      "text/html": [
       "<pre>recommendations finished on 462000/556591 queries. users per second: 18085</pre>"
      ],
      "text/plain": [
       "recommendations finished on 462000/556591 queries. users per second: 18085"
      ]
     },
     "metadata": {},
     "output_type": "display_data"
    },
    {
     "data": {
      "text/html": [
       "<pre>recommendations finished on 463000/556591 queries. users per second: 18087.9</pre>"
      ],
      "text/plain": [
       "recommendations finished on 463000/556591 queries. users per second: 18087.9"
      ]
     },
     "metadata": {},
     "output_type": "display_data"
    },
    {
     "data": {
      "text/html": [
       "<pre>recommendations finished on 464000/556591 queries. users per second: 18092.5</pre>"
      ],
      "text/plain": [
       "recommendations finished on 464000/556591 queries. users per second: 18092.5"
      ]
     },
     "metadata": {},
     "output_type": "display_data"
    },
    {
     "data": {
      "text/html": [
       "<pre>recommendations finished on 465000/556591 queries. users per second: 18096</pre>"
      ],
      "text/plain": [
       "recommendations finished on 465000/556591 queries. users per second: 18096"
      ]
     },
     "metadata": {},
     "output_type": "display_data"
    },
    {
     "data": {
      "text/html": [
       "<pre>recommendations finished on 466000/556591 queries. users per second: 18096.6</pre>"
      ],
      "text/plain": [
       "recommendations finished on 466000/556591 queries. users per second: 18096.6"
      ]
     },
     "metadata": {},
     "output_type": "display_data"
    },
    {
     "data": {
      "text/html": [
       "<pre>recommendations finished on 467000/556591 queries. users per second: 18100.8</pre>"
      ],
      "text/plain": [
       "recommendations finished on 467000/556591 queries. users per second: 18100.8"
      ]
     },
     "metadata": {},
     "output_type": "display_data"
    },
    {
     "data": {
      "text/html": [
       "<pre>recommendations finished on 468000/556591 queries. users per second: 18105.4</pre>"
      ],
      "text/plain": [
       "recommendations finished on 468000/556591 queries. users per second: 18105.4"
      ]
     },
     "metadata": {},
     "output_type": "display_data"
    },
    {
     "data": {
      "text/html": [
       "<pre>recommendations finished on 469000/556591 queries. users per second: 18108.5</pre>"
      ],
      "text/plain": [
       "recommendations finished on 469000/556591 queries. users per second: 18108.5"
      ]
     },
     "metadata": {},
     "output_type": "display_data"
    },
    {
     "data": {
      "text/html": [
       "<pre>recommendations finished on 470000/556591 queries. users per second: 18110.6</pre>"
      ],
      "text/plain": [
       "recommendations finished on 470000/556591 queries. users per second: 18110.6"
      ]
     },
     "metadata": {},
     "output_type": "display_data"
    },
    {
     "data": {
      "text/html": [
       "<pre>recommendations finished on 471000/556591 queries. users per second: 18111.8</pre>"
      ],
      "text/plain": [
       "recommendations finished on 471000/556591 queries. users per second: 18111.8"
      ]
     },
     "metadata": {},
     "output_type": "display_data"
    },
    {
     "data": {
      "text/html": [
       "<pre>recommendations finished on 472000/556591 queries. users per second: 18115.8</pre>"
      ],
      "text/plain": [
       "recommendations finished on 472000/556591 queries. users per second: 18115.8"
      ]
     },
     "metadata": {},
     "output_type": "display_data"
    },
    {
     "data": {
      "text/html": [
       "<pre>recommendations finished on 473000/556591 queries. users per second: 18119.7</pre>"
      ],
      "text/plain": [
       "recommendations finished on 473000/556591 queries. users per second: 18119.7"
      ]
     },
     "metadata": {},
     "output_type": "display_data"
    },
    {
     "data": {
      "text/html": [
       "<pre>recommendations finished on 474000/556591 queries. users per second: 18122.7</pre>"
      ],
      "text/plain": [
       "recommendations finished on 474000/556591 queries. users per second: 18122.7"
      ]
     },
     "metadata": {},
     "output_type": "display_data"
    },
    {
     "data": {
      "text/html": [
       "<pre>recommendations finished on 475000/556591 queries. users per second: 18126.4</pre>"
      ],
      "text/plain": [
       "recommendations finished on 475000/556591 queries. users per second: 18126.4"
      ]
     },
     "metadata": {},
     "output_type": "display_data"
    },
    {
     "data": {
      "text/html": [
       "<pre>recommendations finished on 476000/556591 queries. users per second: 18126.1</pre>"
      ],
      "text/plain": [
       "recommendations finished on 476000/556591 queries. users per second: 18126.1"
      ]
     },
     "metadata": {},
     "output_type": "display_data"
    },
    {
     "data": {
      "text/html": [
       "<pre>recommendations finished on 477000/556591 queries. users per second: 18129.9</pre>"
      ],
      "text/plain": [
       "recommendations finished on 477000/556591 queries. users per second: 18129.9"
      ]
     },
     "metadata": {},
     "output_type": "display_data"
    },
    {
     "data": {
      "text/html": [
       "<pre>recommendations finished on 478000/556591 queries. users per second: 18131.3</pre>"
      ],
      "text/plain": [
       "recommendations finished on 478000/556591 queries. users per second: 18131.3"
      ]
     },
     "metadata": {},
     "output_type": "display_data"
    },
    {
     "data": {
      "text/html": [
       "<pre>recommendations finished on 479000/556591 queries. users per second: 18135.1</pre>"
      ],
      "text/plain": [
       "recommendations finished on 479000/556591 queries. users per second: 18135.1"
      ]
     },
     "metadata": {},
     "output_type": "display_data"
    },
    {
     "data": {
      "text/html": [
       "<pre>recommendations finished on 480000/556591 queries. users per second: 18132</pre>"
      ],
      "text/plain": [
       "recommendations finished on 480000/556591 queries. users per second: 18132"
      ]
     },
     "metadata": {},
     "output_type": "display_data"
    },
    {
     "data": {
      "text/html": [
       "<pre>recommendations finished on 481000/556591 queries. users per second: 18130.6</pre>"
      ],
      "text/plain": [
       "recommendations finished on 481000/556591 queries. users per second: 18130.6"
      ]
     },
     "metadata": {},
     "output_type": "display_data"
    },
    {
     "data": {
      "text/html": [
       "<pre>recommendations finished on 482000/556591 queries. users per second: 18133.9</pre>"
      ],
      "text/plain": [
       "recommendations finished on 482000/556591 queries. users per second: 18133.9"
      ]
     },
     "metadata": {},
     "output_type": "display_data"
    },
    {
     "data": {
      "text/html": [
       "<pre>recommendations finished on 483000/556591 queries. users per second: 18136.6</pre>"
      ],
      "text/plain": [
       "recommendations finished on 483000/556591 queries. users per second: 18136.6"
      ]
     },
     "metadata": {},
     "output_type": "display_data"
    },
    {
     "data": {
      "text/html": [
       "<pre>recommendations finished on 484000/556591 queries. users per second: 18138.1</pre>"
      ],
      "text/plain": [
       "recommendations finished on 484000/556591 queries. users per second: 18138.1"
      ]
     },
     "metadata": {},
     "output_type": "display_data"
    },
    {
     "data": {
      "text/html": [
       "<pre>recommendations finished on 485000/556591 queries. users per second: 18140.2</pre>"
      ],
      "text/plain": [
       "recommendations finished on 485000/556591 queries. users per second: 18140.2"
      ]
     },
     "metadata": {},
     "output_type": "display_data"
    },
    {
     "data": {
      "text/html": [
       "<pre>recommendations finished on 486000/556591 queries. users per second: 18142.2</pre>"
      ],
      "text/plain": [
       "recommendations finished on 486000/556591 queries. users per second: 18142.2"
      ]
     },
     "metadata": {},
     "output_type": "display_data"
    },
    {
     "data": {
      "text/html": [
       "<pre>recommendations finished on 487000/556591 queries. users per second: 18144.9</pre>"
      ],
      "text/plain": [
       "recommendations finished on 487000/556591 queries. users per second: 18144.9"
      ]
     },
     "metadata": {},
     "output_type": "display_data"
    },
    {
     "data": {
      "text/html": [
       "<pre>recommendations finished on 488000/556591 queries. users per second: 18148.5</pre>"
      ],
      "text/plain": [
       "recommendations finished on 488000/556591 queries. users per second: 18148.5"
      ]
     },
     "metadata": {},
     "output_type": "display_data"
    },
    {
     "data": {
      "text/html": [
       "<pre>recommendations finished on 489000/556591 queries. users per second: 18152.1</pre>"
      ],
      "text/plain": [
       "recommendations finished on 489000/556591 queries. users per second: 18152.1"
      ]
     },
     "metadata": {},
     "output_type": "display_data"
    },
    {
     "data": {
      "text/html": [
       "<pre>recommendations finished on 490000/556591 queries. users per second: 18154.6</pre>"
      ],
      "text/plain": [
       "recommendations finished on 490000/556591 queries. users per second: 18154.6"
      ]
     },
     "metadata": {},
     "output_type": "display_data"
    },
    {
     "data": {
      "text/html": [
       "<pre>recommendations finished on 491000/556591 queries. users per second: 18155</pre>"
      ],
      "text/plain": [
       "recommendations finished on 491000/556591 queries. users per second: 18155"
      ]
     },
     "metadata": {},
     "output_type": "display_data"
    },
    {
     "data": {
      "text/html": [
       "<pre>recommendations finished on 492000/556591 queries. users per second: 18157.7</pre>"
      ],
      "text/plain": [
       "recommendations finished on 492000/556591 queries. users per second: 18157.7"
      ]
     },
     "metadata": {},
     "output_type": "display_data"
    },
    {
     "data": {
      "text/html": [
       "<pre>recommendations finished on 493000/556591 queries. users per second: 18159.6</pre>"
      ],
      "text/plain": [
       "recommendations finished on 493000/556591 queries. users per second: 18159.6"
      ]
     },
     "metadata": {},
     "output_type": "display_data"
    },
    {
     "data": {
      "text/html": [
       "<pre>recommendations finished on 494000/556591 queries. users per second: 18161.9</pre>"
      ],
      "text/plain": [
       "recommendations finished on 494000/556591 queries. users per second: 18161.9"
      ]
     },
     "metadata": {},
     "output_type": "display_data"
    },
    {
     "data": {
      "text/html": [
       "<pre>recommendations finished on 495000/556591 queries. users per second: 18154.5</pre>"
      ],
      "text/plain": [
       "recommendations finished on 495000/556591 queries. users per second: 18154.5"
      ]
     },
     "metadata": {},
     "output_type": "display_data"
    },
    {
     "data": {
      "text/html": [
       "<pre>recommendations finished on 496000/556591 queries. users per second: 18142.1</pre>"
      ],
      "text/plain": [
       "recommendations finished on 496000/556591 queries. users per second: 18142.1"
      ]
     },
     "metadata": {},
     "output_type": "display_data"
    },
    {
     "data": {
      "text/html": [
       "<pre>recommendations finished on 497000/556591 queries. users per second: 18139.9</pre>"
      ],
      "text/plain": [
       "recommendations finished on 497000/556591 queries. users per second: 18139.9"
      ]
     },
     "metadata": {},
     "output_type": "display_data"
    },
    {
     "data": {
      "text/html": [
       "<pre>recommendations finished on 498000/556591 queries. users per second: 18143.2</pre>"
      ],
      "text/plain": [
       "recommendations finished on 498000/556591 queries. users per second: 18143.2"
      ]
     },
     "metadata": {},
     "output_type": "display_data"
    },
    {
     "data": {
      "text/html": [
       "<pre>recommendations finished on 499000/556591 queries. users per second: 18146.2</pre>"
      ],
      "text/plain": [
       "recommendations finished on 499000/556591 queries. users per second: 18146.2"
      ]
     },
     "metadata": {},
     "output_type": "display_data"
    },
    {
     "data": {
      "text/html": [
       "<pre>recommendations finished on 500000/556591 queries. users per second: 18147.3</pre>"
      ],
      "text/plain": [
       "recommendations finished on 500000/556591 queries. users per second: 18147.3"
      ]
     },
     "metadata": {},
     "output_type": "display_data"
    },
    {
     "data": {
      "text/html": [
       "<pre>recommendations finished on 501000/556591 queries. users per second: 18151.1</pre>"
      ],
      "text/plain": [
       "recommendations finished on 501000/556591 queries. users per second: 18151.1"
      ]
     },
     "metadata": {},
     "output_type": "display_data"
    },
    {
     "data": {
      "text/html": [
       "<pre>recommendations finished on 502000/556591 queries. users per second: 18153.7</pre>"
      ],
      "text/plain": [
       "recommendations finished on 502000/556591 queries. users per second: 18153.7"
      ]
     },
     "metadata": {},
     "output_type": "display_data"
    },
    {
     "data": {
      "text/html": [
       "<pre>recommendations finished on 503000/556591 queries. users per second: 18156.8</pre>"
      ],
      "text/plain": [
       "recommendations finished on 503000/556591 queries. users per second: 18156.8"
      ]
     },
     "metadata": {},
     "output_type": "display_data"
    },
    {
     "data": {
      "text/html": [
       "<pre>recommendations finished on 504000/556591 queries. users per second: 18159.3</pre>"
      ],
      "text/plain": [
       "recommendations finished on 504000/556591 queries. users per second: 18159.3"
      ]
     },
     "metadata": {},
     "output_type": "display_data"
    },
    {
     "data": {
      "text/html": [
       "<pre>recommendations finished on 505000/556591 queries. users per second: 18162.3</pre>"
      ],
      "text/plain": [
       "recommendations finished on 505000/556591 queries. users per second: 18162.3"
      ]
     },
     "metadata": {},
     "output_type": "display_data"
    },
    {
     "data": {
      "text/html": [
       "<pre>recommendations finished on 506000/556591 queries. users per second: 18165.7</pre>"
      ],
      "text/plain": [
       "recommendations finished on 506000/556591 queries. users per second: 18165.7"
      ]
     },
     "metadata": {},
     "output_type": "display_data"
    },
    {
     "data": {
      "text/html": [
       "<pre>recommendations finished on 507000/556591 queries. users per second: 18169.1</pre>"
      ],
      "text/plain": [
       "recommendations finished on 507000/556591 queries. users per second: 18169.1"
      ]
     },
     "metadata": {},
     "output_type": "display_data"
    },
    {
     "data": {
      "text/html": [
       "<pre>recommendations finished on 508000/556591 queries. users per second: 18172.1</pre>"
      ],
      "text/plain": [
       "recommendations finished on 508000/556591 queries. users per second: 18172.1"
      ]
     },
     "metadata": {},
     "output_type": "display_data"
    },
    {
     "data": {
      "text/html": [
       "<pre>recommendations finished on 509000/556591 queries. users per second: 18174.7</pre>"
      ],
      "text/plain": [
       "recommendations finished on 509000/556591 queries. users per second: 18174.7"
      ]
     },
     "metadata": {},
     "output_type": "display_data"
    },
    {
     "data": {
      "text/html": [
       "<pre>recommendations finished on 510000/556591 queries. users per second: 18177.6</pre>"
      ],
      "text/plain": [
       "recommendations finished on 510000/556591 queries. users per second: 18177.6"
      ]
     },
     "metadata": {},
     "output_type": "display_data"
    },
    {
     "data": {
      "text/html": [
       "<pre>recommendations finished on 511000/556591 queries. users per second: 18180.6</pre>"
      ],
      "text/plain": [
       "recommendations finished on 511000/556591 queries. users per second: 18180.6"
      ]
     },
     "metadata": {},
     "output_type": "display_data"
    },
    {
     "data": {
      "text/html": [
       "<pre>recommendations finished on 512000/556591 queries. users per second: 18184.1</pre>"
      ],
      "text/plain": [
       "recommendations finished on 512000/556591 queries. users per second: 18184.1"
      ]
     },
     "metadata": {},
     "output_type": "display_data"
    },
    {
     "data": {
      "text/html": [
       "<pre>recommendations finished on 513000/556591 queries. users per second: 18187.1</pre>"
      ],
      "text/plain": [
       "recommendations finished on 513000/556591 queries. users per second: 18187.1"
      ]
     },
     "metadata": {},
     "output_type": "display_data"
    },
    {
     "data": {
      "text/html": [
       "<pre>recommendations finished on 514000/556591 queries. users per second: 18186.8</pre>"
      ],
      "text/plain": [
       "recommendations finished on 514000/556591 queries. users per second: 18186.8"
      ]
     },
     "metadata": {},
     "output_type": "display_data"
    },
    {
     "data": {
      "text/html": [
       "<pre>recommendations finished on 515000/556591 queries. users per second: 18189.9</pre>"
      ],
      "text/plain": [
       "recommendations finished on 515000/556591 queries. users per second: 18189.9"
      ]
     },
     "metadata": {},
     "output_type": "display_data"
    },
    {
     "data": {
      "text/html": [
       "<pre>recommendations finished on 516000/556591 queries. users per second: 18192.9</pre>"
      ],
      "text/plain": [
       "recommendations finished on 516000/556591 queries. users per second: 18192.9"
      ]
     },
     "metadata": {},
     "output_type": "display_data"
    },
    {
     "data": {
      "text/html": [
       "<pre>recommendations finished on 517000/556591 queries. users per second: 18195.4</pre>"
      ],
      "text/plain": [
       "recommendations finished on 517000/556591 queries. users per second: 18195.4"
      ]
     },
     "metadata": {},
     "output_type": "display_data"
    },
    {
     "data": {
      "text/html": [
       "<pre>recommendations finished on 518000/556591 queries. users per second: 18197.9</pre>"
      ],
      "text/plain": [
       "recommendations finished on 518000/556591 queries. users per second: 18197.9"
      ]
     },
     "metadata": {},
     "output_type": "display_data"
    },
    {
     "data": {
      "text/html": [
       "<pre>recommendations finished on 519000/556591 queries. users per second: 18200.9</pre>"
      ],
      "text/plain": [
       "recommendations finished on 519000/556591 queries. users per second: 18200.9"
      ]
     },
     "metadata": {},
     "output_type": "display_data"
    },
    {
     "data": {
      "text/html": [
       "<pre>recommendations finished on 520000/556591 queries. users per second: 18203.9</pre>"
      ],
      "text/plain": [
       "recommendations finished on 520000/556591 queries. users per second: 18203.9"
      ]
     },
     "metadata": {},
     "output_type": "display_data"
    },
    {
     "data": {
      "text/html": [
       "<pre>recommendations finished on 521000/556591 queries. users per second: 18207.3</pre>"
      ],
      "text/plain": [
       "recommendations finished on 521000/556591 queries. users per second: 18207.3"
      ]
     },
     "metadata": {},
     "output_type": "display_data"
    },
    {
     "data": {
      "text/html": [
       "<pre>recommendations finished on 522000/556591 queries. users per second: 18208.7</pre>"
      ],
      "text/plain": [
       "recommendations finished on 522000/556591 queries. users per second: 18208.7"
      ]
     },
     "metadata": {},
     "output_type": "display_data"
    },
    {
     "data": {
      "text/html": [
       "<pre>recommendations finished on 523000/556591 queries. users per second: 18211.8</pre>"
      ],
      "text/plain": [
       "recommendations finished on 523000/556591 queries. users per second: 18211.8"
      ]
     },
     "metadata": {},
     "output_type": "display_data"
    },
    {
     "data": {
      "text/html": [
       "<pre>recommendations finished on 524000/556591 queries. users per second: 18213.2</pre>"
      ],
      "text/plain": [
       "recommendations finished on 524000/556591 queries. users per second: 18213.2"
      ]
     },
     "metadata": {},
     "output_type": "display_data"
    },
    {
     "data": {
      "text/html": [
       "<pre>recommendations finished on 525000/556591 queries. users per second: 18216.2</pre>"
      ],
      "text/plain": [
       "recommendations finished on 525000/556591 queries. users per second: 18216.2"
      ]
     },
     "metadata": {},
     "output_type": "display_data"
    },
    {
     "data": {
      "text/html": [
       "<pre>recommendations finished on 526000/556591 queries. users per second: 18218.8</pre>"
      ],
      "text/plain": [
       "recommendations finished on 526000/556591 queries. users per second: 18218.8"
      ]
     },
     "metadata": {},
     "output_type": "display_data"
    },
    {
     "data": {
      "text/html": [
       "<pre>recommendations finished on 527000/556591 queries. users per second: 18221.5</pre>"
      ],
      "text/plain": [
       "recommendations finished on 527000/556591 queries. users per second: 18221.5"
      ]
     },
     "metadata": {},
     "output_type": "display_data"
    },
    {
     "data": {
      "text/html": [
       "<pre>recommendations finished on 528000/556591 queries. users per second: 18223.4</pre>"
      ],
      "text/plain": [
       "recommendations finished on 528000/556591 queries. users per second: 18223.4"
      ]
     },
     "metadata": {},
     "output_type": "display_data"
    },
    {
     "data": {
      "text/html": [
       "<pre>recommendations finished on 529000/556591 queries. users per second: 18226.1</pre>"
      ],
      "text/plain": [
       "recommendations finished on 529000/556591 queries. users per second: 18226.1"
      ]
     },
     "metadata": {},
     "output_type": "display_data"
    },
    {
     "data": {
      "text/html": [
       "<pre>recommendations finished on 530000/556591 queries. users per second: 18229.1</pre>"
      ],
      "text/plain": [
       "recommendations finished on 530000/556591 queries. users per second: 18229.1"
      ]
     },
     "metadata": {},
     "output_type": "display_data"
    },
    {
     "data": {
      "text/html": [
       "<pre>recommendations finished on 531000/556591 queries. users per second: 18231.7</pre>"
      ],
      "text/plain": [
       "recommendations finished on 531000/556591 queries. users per second: 18231.7"
      ]
     },
     "metadata": {},
     "output_type": "display_data"
    },
    {
     "data": {
      "text/html": [
       "<pre>recommendations finished on 532000/556591 queries. users per second: 18234.5</pre>"
      ],
      "text/plain": [
       "recommendations finished on 532000/556591 queries. users per second: 18234.5"
      ]
     },
     "metadata": {},
     "output_type": "display_data"
    },
    {
     "data": {
      "text/html": [
       "<pre>recommendations finished on 533000/556591 queries. users per second: 18237.3</pre>"
      ],
      "text/plain": [
       "recommendations finished on 533000/556591 queries. users per second: 18237.3"
      ]
     },
     "metadata": {},
     "output_type": "display_data"
    },
    {
     "data": {
      "text/html": [
       "<pre>recommendations finished on 534000/556591 queries. users per second: 18239.6</pre>"
      ],
      "text/plain": [
       "recommendations finished on 534000/556591 queries. users per second: 18239.6"
      ]
     },
     "metadata": {},
     "output_type": "display_data"
    },
    {
     "data": {
      "text/html": [
       "<pre>recommendations finished on 535000/556591 queries. users per second: 18242.6</pre>"
      ],
      "text/plain": [
       "recommendations finished on 535000/556591 queries. users per second: 18242.6"
      ]
     },
     "metadata": {},
     "output_type": "display_data"
    },
    {
     "data": {
      "text/html": [
       "<pre>recommendations finished on 536000/556591 queries. users per second: 18245</pre>"
      ],
      "text/plain": [
       "recommendations finished on 536000/556591 queries. users per second: 18245"
      ]
     },
     "metadata": {},
     "output_type": "display_data"
    },
    {
     "data": {
      "text/html": [
       "<pre>recommendations finished on 537000/556591 queries. users per second: 18247.8</pre>"
      ],
      "text/plain": [
       "recommendations finished on 537000/556591 queries. users per second: 18247.8"
      ]
     },
     "metadata": {},
     "output_type": "display_data"
    },
    {
     "data": {
      "text/html": [
       "<pre>recommendations finished on 538000/556591 queries. users per second: 18250.5</pre>"
      ],
      "text/plain": [
       "recommendations finished on 538000/556591 queries. users per second: 18250.5"
      ]
     },
     "metadata": {},
     "output_type": "display_data"
    },
    {
     "data": {
      "text/html": [
       "<pre>recommendations finished on 539000/556591 queries. users per second: 18252.7</pre>"
      ],
      "text/plain": [
       "recommendations finished on 539000/556591 queries. users per second: 18252.7"
      ]
     },
     "metadata": {},
     "output_type": "display_data"
    },
    {
     "data": {
      "text/html": [
       "<pre>recommendations finished on 540000/556591 queries. users per second: 18255.2</pre>"
      ],
      "text/plain": [
       "recommendations finished on 540000/556591 queries. users per second: 18255.2"
      ]
     },
     "metadata": {},
     "output_type": "display_data"
    },
    {
     "data": {
      "text/html": [
       "<pre>recommendations finished on 541000/556591 queries. users per second: 18258.2</pre>"
      ],
      "text/plain": [
       "recommendations finished on 541000/556591 queries. users per second: 18258.2"
      ]
     },
     "metadata": {},
     "output_type": "display_data"
    },
    {
     "data": {
      "text/html": [
       "<pre>recommendations finished on 542000/556591 queries. users per second: 18261.3</pre>"
      ],
      "text/plain": [
       "recommendations finished on 542000/556591 queries. users per second: 18261.3"
      ]
     },
     "metadata": {},
     "output_type": "display_data"
    },
    {
     "data": {
      "text/html": [
       "<pre>recommendations finished on 543000/556591 queries. users per second: 18262.1</pre>"
      ],
      "text/plain": [
       "recommendations finished on 543000/556591 queries. users per second: 18262.1"
      ]
     },
     "metadata": {},
     "output_type": "display_data"
    },
    {
     "data": {
      "text/html": [
       "<pre>recommendations finished on 544000/556591 queries. users per second: 18265</pre>"
      ],
      "text/plain": [
       "recommendations finished on 544000/556591 queries. users per second: 18265"
      ]
     },
     "metadata": {},
     "output_type": "display_data"
    },
    {
     "data": {
      "text/html": [
       "<pre>recommendations finished on 545000/556591 queries. users per second: 18266.2</pre>"
      ],
      "text/plain": [
       "recommendations finished on 545000/556591 queries. users per second: 18266.2"
      ]
     },
     "metadata": {},
     "output_type": "display_data"
    },
    {
     "data": {
      "text/html": [
       "<pre>recommendations finished on 546000/556591 queries. users per second: 18265.9</pre>"
      ],
      "text/plain": [
       "recommendations finished on 546000/556591 queries. users per second: 18265.9"
      ]
     },
     "metadata": {},
     "output_type": "display_data"
    },
    {
     "data": {
      "text/html": [
       "<pre>recommendations finished on 547000/556591 queries. users per second: 18265.2</pre>"
      ],
      "text/plain": [
       "recommendations finished on 547000/556591 queries. users per second: 18265.2"
      ]
     },
     "metadata": {},
     "output_type": "display_data"
    },
    {
     "data": {
      "text/html": [
       "<pre>recommendations finished on 548000/556591 queries. users per second: 18261.1</pre>"
      ],
      "text/plain": [
       "recommendations finished on 548000/556591 queries. users per second: 18261.1"
      ]
     },
     "metadata": {},
     "output_type": "display_data"
    },
    {
     "data": {
      "text/html": [
       "<pre>recommendations finished on 549000/556591 queries. users per second: 18256.4</pre>"
      ],
      "text/plain": [
       "recommendations finished on 549000/556591 queries. users per second: 18256.4"
      ]
     },
     "metadata": {},
     "output_type": "display_data"
    },
    {
     "data": {
      "text/html": [
       "<pre>recommendations finished on 550000/556591 queries. users per second: 18253.3</pre>"
      ],
      "text/plain": [
       "recommendations finished on 550000/556591 queries. users per second: 18253.3"
      ]
     },
     "metadata": {},
     "output_type": "display_data"
    },
    {
     "data": {
      "text/html": [
       "<pre>recommendations finished on 551000/556591 queries. users per second: 18249.4</pre>"
      ],
      "text/plain": [
       "recommendations finished on 551000/556591 queries. users per second: 18249.4"
      ]
     },
     "metadata": {},
     "output_type": "display_data"
    },
    {
     "data": {
      "text/html": [
       "<pre>recommendations finished on 552000/556591 queries. users per second: 18247</pre>"
      ],
      "text/plain": [
       "recommendations finished on 552000/556591 queries. users per second: 18247"
      ]
     },
     "metadata": {},
     "output_type": "display_data"
    },
    {
     "data": {
      "text/html": [
       "<pre>recommendations finished on 553000/556591 queries. users per second: 18243.9</pre>"
      ],
      "text/plain": [
       "recommendations finished on 553000/556591 queries. users per second: 18243.9"
      ]
     },
     "metadata": {},
     "output_type": "display_data"
    },
    {
     "data": {
      "text/html": [
       "<pre>recommendations finished on 554000/556591 queries. users per second: 18241.3</pre>"
      ],
      "text/plain": [
       "recommendations finished on 554000/556591 queries. users per second: 18241.3"
      ]
     },
     "metadata": {},
     "output_type": "display_data"
    },
    {
     "data": {
      "text/html": [
       "<pre>recommendations finished on 555000/556591 queries. users per second: 18238.7</pre>"
      ],
      "text/plain": [
       "recommendations finished on 555000/556591 queries. users per second: 18238.7"
      ]
     },
     "metadata": {},
     "output_type": "display_data"
    },
    {
     "data": {
      "text/html": [
       "<pre>recommendations finished on 556000/556591 queries. users per second: 18234.8</pre>"
      ],
      "text/plain": [
       "recommendations finished on 556000/556591 queries. users per second: 18234.8"
      ]
     },
     "metadata": {},
     "output_type": "display_data"
    },
    {
     "name": "stdout",
     "output_type": "stream",
     "text": [
      "+-----------+------------+-------+------+\n",
      "|  user_id  | product_id | score | rank |\n",
      "+-----------+------------+-------+------+\n",
      "| 543272936 |  17301130  |  35.0 |  1   |\n",
      "| 543272936 |  6500548   |  29.0 |  2   |\n",
      "| 543272936 |  12708501  |  27.0 |  3   |\n",
      "| 543272936 |  14700842  |  25.0 |  4   |\n",
      "| 543272936 |  1306613   |  25.0 |  5   |\n",
      "| 543272936 |  28300780  |  22.0 |  6   |\n",
      "| 543272936 |  18000904  |  20.0 |  7   |\n",
      "| 543272936 |  50300160  |  20.0 |  8   |\n",
      "| 543272936 |  13700159  |  18.0 |  9   |\n",
      "| 543272936 |  28720765  |  17.0 |  10  |\n",
      "| 551377651 |  17301130  |  35.0 |  1   |\n",
      "| 551377651 |  6500548   |  29.0 |  2   |\n",
      "| 551377651 |  12708501  |  27.0 |  3   |\n",
      "| 551377651 |  14700842  |  25.0 |  4   |\n",
      "| 551377651 |  1306613   |  25.0 |  5   |\n",
      "| 551377651 |  28300780  |  22.0 |  6   |\n",
      "| 551377651 |  18000904  |  20.0 |  7   |\n",
      "| 551377651 |  50300160  |  20.0 |  8   |\n",
      "| 551377651 |  13700159  |  18.0 |  9   |\n",
      "| 551377651 |  28720765  |  17.0 |  10  |\n",
      "| 551377651 |  17301130  |  35.0 |  1   |\n",
      "| 551377651 |  6500548   |  29.0 |  2   |\n",
      "| 551377651 |  12708501  |  27.0 |  3   |\n",
      "| 551377651 |  14700842  |  25.0 |  4   |\n",
      "| 551377651 |  1306613   |  25.0 |  5   |\n",
      "| 551377651 |  28300780  |  22.0 |  6   |\n",
      "| 551377651 |  18000904  |  20.0 |  7   |\n",
      "| 551377651 |  50300160  |  20.0 |  8   |\n",
      "| 551377651 |  13700159  |  18.0 |  9   |\n",
      "| 551377651 |  28720765  |  17.0 |  10  |\n",
      "+-----------+------------+-------+------+\n",
      "[5565910 rows x 4 columns]\n",
      "\n"
     ]
    }
   ],
   "source": [
    "# these variables will change accordingly\n",
    "name = 'pearson'\n",
    "target = 'purchase_count'\n",
    "pear = model(train_data, name, user_id, item_id, target, users_to_recommend, n_rec, n_display)"
   ]
  },
  {
   "cell_type": "markdown",
   "metadata": {},
   "source": [
    "#### Note\n",
    "* In collaborative filtering above, we used two approaches: cosine and pearson distance. We also got to apply them on training_data.\n",
    "* We can see that the recommendations are different for each user. This suggests that personalization does exist. \n",
    "* But how good is this model compared to the baseline, and to each other? We need some means of evaluating a recommendation engine. Lets focus on that in the next section."
   ]
  },
  {
   "cell_type": "markdown",
   "metadata": {},
   "source": [
    "## 7. Model Evaluation\n",
    "For evaluating recommendation engines, we can use the concept of precision-recall.\n",
    "\n",
    "* RMSE (Root Mean Squared Errors)\n",
    "    * Measures the error of predicted values\n",
    "    * Lesser the RMSE value, better the recommendations\n",
    "* Recall\n",
    "    * What percentage of products that a user buys are actually recommended?\n",
    "    * If a customer buys 5 products and the recommendation decided to show 3 of them, then the recall is 0.6\n",
    "* Precision\n",
    "    * Out of all the recommended items, how many the user actually liked?\n",
    "    * If 5 products were recommended to the customer out of which he buys 4 of them, then precision is 0.8\n",
    "    \n",
    "* Why are both recall and precision important?\n",
    "    * Consider a case where we recommend all products, so our customers will surely cover the items that they liked and bought. In this case, we have 100% recall! Does this mean our model is good?\n",
    "    * We have to consider precision. If we recommend 300 items but user likes and buys only 3 of them, then precision is 0.1%! This very low precision indicates that the model is not great, despite their excellent recall.\n",
    "    * So our aim has to be optimizing both recall and precision (to be close to 1 as possible).\n",
    "\n",
    "Lets compare all the models we have built based on precision-recall characteristics:"
   ]
  },
  {
   "cell_type": "code",
   "execution_count": 58,
   "metadata": {},
   "outputs": [],
   "source": [
    "models_w_counts = [popularity_model, cos, pear]\n",
    "names_w_counts = ['Popularity Model on Purchase Counts', 'Cosine Similarity on Purchase Counts', 'Pearson Similarity on Purchase Counts']"
   ]
  },
  {
   "cell_type": "code",
   "execution_count": 59,
   "metadata": {},
   "outputs": [
    {
     "name": "stdout",
     "output_type": "stream",
     "text": [
      "PROGRESS: Evaluate model Popularity Model on Purchase Counts\n"
     ]
    },
    {
     "data": {
      "text/html": [
       "<pre>recommendations finished on 1000/36559 queries. users per second: 15086.1</pre>"
      ],
      "text/plain": [
       "recommendations finished on 1000/36559 queries. users per second: 15086.1"
      ]
     },
     "metadata": {},
     "output_type": "display_data"
    },
    {
     "data": {
      "text/html": [
       "<pre>recommendations finished on 2000/36559 queries. users per second: 15484.1</pre>"
      ],
      "text/plain": [
       "recommendations finished on 2000/36559 queries. users per second: 15484.1"
      ]
     },
     "metadata": {},
     "output_type": "display_data"
    },
    {
     "data": {
      "text/html": [
       "<pre>recommendations finished on 3000/36559 queries. users per second: 16264.6</pre>"
      ],
      "text/plain": [
       "recommendations finished on 3000/36559 queries. users per second: 16264.6"
      ]
     },
     "metadata": {},
     "output_type": "display_data"
    },
    {
     "data": {
      "text/html": [
       "<pre>recommendations finished on 4000/36559 queries. users per second: 15930.4</pre>"
      ],
      "text/plain": [
       "recommendations finished on 4000/36559 queries. users per second: 15930.4"
      ]
     },
     "metadata": {},
     "output_type": "display_data"
    },
    {
     "data": {
      "text/html": [
       "<pre>recommendations finished on 5000/36559 queries. users per second: 15346.7</pre>"
      ],
      "text/plain": [
       "recommendations finished on 5000/36559 queries. users per second: 15346.7"
      ]
     },
     "metadata": {},
     "output_type": "display_data"
    },
    {
     "data": {
      "text/html": [
       "<pre>recommendations finished on 6000/36559 queries. users per second: 14767</pre>"
      ],
      "text/plain": [
       "recommendations finished on 6000/36559 queries. users per second: 14767"
      ]
     },
     "metadata": {},
     "output_type": "display_data"
    },
    {
     "data": {
      "text/html": [
       "<pre>recommendations finished on 7000/36559 queries. users per second: 14751.2</pre>"
      ],
      "text/plain": [
       "recommendations finished on 7000/36559 queries. users per second: 14751.2"
      ]
     },
     "metadata": {},
     "output_type": "display_data"
    },
    {
     "data": {
      "text/html": [
       "<pre>recommendations finished on 8000/36559 queries. users per second: 14925.6</pre>"
      ],
      "text/plain": [
       "recommendations finished on 8000/36559 queries. users per second: 14925.6"
      ]
     },
     "metadata": {},
     "output_type": "display_data"
    },
    {
     "data": {
      "text/html": [
       "<pre>recommendations finished on 9000/36559 queries. users per second: 15174.8</pre>"
      ],
      "text/plain": [
       "recommendations finished on 9000/36559 queries. users per second: 15174.8"
      ]
     },
     "metadata": {},
     "output_type": "display_data"
    },
    {
     "data": {
      "text/html": [
       "<pre>recommendations finished on 10000/36559 queries. users per second: 15323.1</pre>"
      ],
      "text/plain": [
       "recommendations finished on 10000/36559 queries. users per second: 15323.1"
      ]
     },
     "metadata": {},
     "output_type": "display_data"
    },
    {
     "data": {
      "text/html": [
       "<pre>recommendations finished on 11000/36559 queries. users per second: 15481.2</pre>"
      ],
      "text/plain": [
       "recommendations finished on 11000/36559 queries. users per second: 15481.2"
      ]
     },
     "metadata": {},
     "output_type": "display_data"
    },
    {
     "data": {
      "text/html": [
       "<pre>recommendations finished on 12000/36559 queries. users per second: 15532.5</pre>"
      ],
      "text/plain": [
       "recommendations finished on 12000/36559 queries. users per second: 15532.5"
      ]
     },
     "metadata": {},
     "output_type": "display_data"
    },
    {
     "data": {
      "text/html": [
       "<pre>recommendations finished on 13000/36559 queries. users per second: 15657.7</pre>"
      ],
      "text/plain": [
       "recommendations finished on 13000/36559 queries. users per second: 15657.7"
      ]
     },
     "metadata": {},
     "output_type": "display_data"
    },
    {
     "data": {
      "text/html": [
       "<pre>recommendations finished on 14000/36559 queries. users per second: 15756</pre>"
      ],
      "text/plain": [
       "recommendations finished on 14000/36559 queries. users per second: 15756"
      ]
     },
     "metadata": {},
     "output_type": "display_data"
    },
    {
     "data": {
      "text/html": [
       "<pre>recommendations finished on 15000/36559 queries. users per second: 15871.6</pre>"
      ],
      "text/plain": [
       "recommendations finished on 15000/36559 queries. users per second: 15871.6"
      ]
     },
     "metadata": {},
     "output_type": "display_data"
    },
    {
     "data": {
      "text/html": [
       "<pre>recommendations finished on 16000/36559 queries. users per second: 15922.2</pre>"
      ],
      "text/plain": [
       "recommendations finished on 16000/36559 queries. users per second: 15922.2"
      ]
     },
     "metadata": {},
     "output_type": "display_data"
    },
    {
     "data": {
      "text/html": [
       "<pre>recommendations finished on 17000/36559 queries. users per second: 16002.7</pre>"
      ],
      "text/plain": [
       "recommendations finished on 17000/36559 queries. users per second: 16002.7"
      ]
     },
     "metadata": {},
     "output_type": "display_data"
    },
    {
     "data": {
      "text/html": [
       "<pre>recommendations finished on 18000/36559 queries. users per second: 16041.2</pre>"
      ],
      "text/plain": [
       "recommendations finished on 18000/36559 queries. users per second: 16041.2"
      ]
     },
     "metadata": {},
     "output_type": "display_data"
    },
    {
     "data": {
      "text/html": [
       "<pre>recommendations finished on 19000/36559 queries. users per second: 16082.1</pre>"
      ],
      "text/plain": [
       "recommendations finished on 19000/36559 queries. users per second: 16082.1"
      ]
     },
     "metadata": {},
     "output_type": "display_data"
    },
    {
     "data": {
      "text/html": [
       "<pre>recommendations finished on 20000/36559 queries. users per second: 16153.8</pre>"
      ],
      "text/plain": [
       "recommendations finished on 20000/36559 queries. users per second: 16153.8"
      ]
     },
     "metadata": {},
     "output_type": "display_data"
    },
    {
     "data": {
      "text/html": [
       "<pre>recommendations finished on 21000/36559 queries. users per second: 16217.5</pre>"
      ],
      "text/plain": [
       "recommendations finished on 21000/36559 queries. users per second: 16217.5"
      ]
     },
     "metadata": {},
     "output_type": "display_data"
    },
    {
     "data": {
      "text/html": [
       "<pre>recommendations finished on 22000/36559 queries. users per second: 16270.2</pre>"
      ],
      "text/plain": [
       "recommendations finished on 22000/36559 queries. users per second: 16270.2"
      ]
     },
     "metadata": {},
     "output_type": "display_data"
    },
    {
     "data": {
      "text/html": [
       "<pre>recommendations finished on 23000/36559 queries. users per second: 16218.9</pre>"
      ],
      "text/plain": [
       "recommendations finished on 23000/36559 queries. users per second: 16218.9"
      ]
     },
     "metadata": {},
     "output_type": "display_data"
    },
    {
     "data": {
      "text/html": [
       "<pre>recommendations finished on 24000/36559 queries. users per second: 16228.1</pre>"
      ],
      "text/plain": [
       "recommendations finished on 24000/36559 queries. users per second: 16228.1"
      ]
     },
     "metadata": {},
     "output_type": "display_data"
    },
    {
     "data": {
      "text/html": [
       "<pre>recommendations finished on 25000/36559 queries. users per second: 16269.8</pre>"
      ],
      "text/plain": [
       "recommendations finished on 25000/36559 queries. users per second: 16269.8"
      ]
     },
     "metadata": {},
     "output_type": "display_data"
    },
    {
     "data": {
      "text/html": [
       "<pre>recommendations finished on 26000/36559 queries. users per second: 16300.5</pre>"
      ],
      "text/plain": [
       "recommendations finished on 26000/36559 queries. users per second: 16300.5"
      ]
     },
     "metadata": {},
     "output_type": "display_data"
    },
    {
     "data": {
      "text/html": [
       "<pre>recommendations finished on 27000/36559 queries. users per second: 16350.2</pre>"
      ],
      "text/plain": [
       "recommendations finished on 27000/36559 queries. users per second: 16350.2"
      ]
     },
     "metadata": {},
     "output_type": "display_data"
    },
    {
     "data": {
      "text/html": [
       "<pre>recommendations finished on 28000/36559 queries. users per second: 16359.5</pre>"
      ],
      "text/plain": [
       "recommendations finished on 28000/36559 queries. users per second: 16359.5"
      ]
     },
     "metadata": {},
     "output_type": "display_data"
    },
    {
     "data": {
      "text/html": [
       "<pre>recommendations finished on 29000/36559 queries. users per second: 16393.3</pre>"
      ],
      "text/plain": [
       "recommendations finished on 29000/36559 queries. users per second: 16393.3"
      ]
     },
     "metadata": {},
     "output_type": "display_data"
    },
    {
     "data": {
      "text/html": [
       "<pre>recommendations finished on 30000/36559 queries. users per second: 16444.6</pre>"
      ],
      "text/plain": [
       "recommendations finished on 30000/36559 queries. users per second: 16444.6"
      ]
     },
     "metadata": {},
     "output_type": "display_data"
    },
    {
     "data": {
      "text/html": [
       "<pre>recommendations finished on 31000/36559 queries. users per second: 16478.4</pre>"
      ],
      "text/plain": [
       "recommendations finished on 31000/36559 queries. users per second: 16478.4"
      ]
     },
     "metadata": {},
     "output_type": "display_data"
    },
    {
     "data": {
      "text/html": [
       "<pre>recommendations finished on 32000/36559 queries. users per second: 16490.5</pre>"
      ],
      "text/plain": [
       "recommendations finished on 32000/36559 queries. users per second: 16490.5"
      ]
     },
     "metadata": {},
     "output_type": "display_data"
    },
    {
     "data": {
      "text/html": [
       "<pre>recommendations finished on 33000/36559 queries. users per second: 16520.1</pre>"
      ],
      "text/plain": [
       "recommendations finished on 33000/36559 queries. users per second: 16520.1"
      ]
     },
     "metadata": {},
     "output_type": "display_data"
    },
    {
     "data": {
      "text/html": [
       "<pre>recommendations finished on 34000/36559 queries. users per second: 16556.7</pre>"
      ],
      "text/plain": [
       "recommendations finished on 34000/36559 queries. users per second: 16556.7"
      ]
     },
     "metadata": {},
     "output_type": "display_data"
    },
    {
     "data": {
      "text/html": [
       "<pre>recommendations finished on 35000/36559 queries. users per second: 16576.9</pre>"
      ],
      "text/plain": [
       "recommendations finished on 35000/36559 queries. users per second: 16576.9"
      ]
     },
     "metadata": {},
     "output_type": "display_data"
    },
    {
     "data": {
      "text/html": [
       "<pre>recommendations finished on 36000/36559 queries. users per second: 16586</pre>"
      ],
      "text/plain": [
       "recommendations finished on 36000/36559 queries. users per second: 16586"
      ]
     },
     "metadata": {},
     "output_type": "display_data"
    },
    {
     "name": "stdout",
     "output_type": "stream",
     "text": [
      "\n",
      "Precision and recall summary statistics by cutoff\n",
      "+--------+------------------------+------------------------+\n",
      "| cutoff |     mean_precision     |      mean_recall       |\n",
      "+--------+------------------------+------------------------+\n",
      "|   1    |          0.0           |          0.0           |\n",
      "|   2    |          0.0           |          0.0           |\n",
      "|   3    |          0.0           |          0.0           |\n",
      "|   4    |          0.0           |          0.0           |\n",
      "|   5    |          0.0           |          0.0           |\n",
      "|   6    |          0.0           |          0.0           |\n",
      "|   7    | 3.907577965949367e-06  | 1.3676522880822783e-05 |\n",
      "|   8    | 3.4191307202056957e-06 | 1.3676522880822783e-05 |\n",
      "|   9    | 3.0392273068495095e-06 | 1.3676522880822783e-05 |\n",
      "|   10   | 2.735304576164559e-06  | 1.3676522880822783e-05 |\n",
      "+--------+------------------------+------------------------+\n",
      "[10 rows x 3 columns]\n",
      "\n",
      "\n",
      "Overall RMSE: 1.5440161118616589\n",
      "\n",
      "Per User RMSE (best)\n",
      "+-----------+------+-------+\n",
      "|  user_id  | rmse | count |\n",
      "+-----------+------+-------+\n",
      "| 538499094 | 0.0  |   1   |\n",
      "+-----------+------+-------+\n",
      "[1 rows x 3 columns]\n",
      "\n",
      "\n",
      "Per User RMSE (worst)\n",
      "+-----------+-------------------+-------+\n",
      "|  user_id  |        rmse       | count |\n",
      "+-----------+-------------------+-------+\n",
      "| 535658024 | 85.76545166402536 |   1   |\n",
      "+-----------+-------------------+-------+\n",
      "[1 rows x 3 columns]\n",
      "\n",
      "\n",
      "Per Item RMSE (best)\n",
      "+------------+------+-------+\n",
      "| product_id | rmse | count |\n",
      "+------------+------+-------+\n",
      "|  5884061   | 0.0  |   2   |\n",
      "+------------+------+-------+\n",
      "[1 rows x 3 columns]\n",
      "\n",
      "\n",
      "Per Item RMSE (worst)\n",
      "+------------+--------------------+-------+\n",
      "| product_id |        rmse        | count |\n",
      "+------------+--------------------+-------+\n",
      "|  4201541   | 30.880594409938276 |   2   |\n",
      "+------------+--------------------+-------+\n",
      "[1 rows x 3 columns]\n",
      "\n",
      "PROGRESS: Evaluate model Cosine Similarity on Purchase Counts\n"
     ]
    },
    {
     "data": {
      "text/html": [
       "<pre>recommendations finished on 1000/36559 queries. users per second: 16024.6</pre>"
      ],
      "text/plain": [
       "recommendations finished on 1000/36559 queries. users per second: 16024.6"
      ]
     },
     "metadata": {},
     "output_type": "display_data"
    },
    {
     "data": {
      "text/html": [
       "<pre>recommendations finished on 2000/36559 queries. users per second: 16651.5</pre>"
      ],
      "text/plain": [
       "recommendations finished on 2000/36559 queries. users per second: 16651.5"
      ]
     },
     "metadata": {},
     "output_type": "display_data"
    },
    {
     "data": {
      "text/html": [
       "<pre>recommendations finished on 3000/36559 queries. users per second: 17296</pre>"
      ],
      "text/plain": [
       "recommendations finished on 3000/36559 queries. users per second: 17296"
      ]
     },
     "metadata": {},
     "output_type": "display_data"
    },
    {
     "data": {
      "text/html": [
       "<pre>recommendations finished on 4000/36559 queries. users per second: 17695.2</pre>"
      ],
      "text/plain": [
       "recommendations finished on 4000/36559 queries. users per second: 17695.2"
      ]
     },
     "metadata": {},
     "output_type": "display_data"
    },
    {
     "data": {
      "text/html": [
       "<pre>recommendations finished on 5000/36559 queries. users per second: 17851.3</pre>"
      ],
      "text/plain": [
       "recommendations finished on 5000/36559 queries. users per second: 17851.3"
      ]
     },
     "metadata": {},
     "output_type": "display_data"
    },
    {
     "data": {
      "text/html": [
       "<pre>recommendations finished on 6000/36559 queries. users per second: 18141.5</pre>"
      ],
      "text/plain": [
       "recommendations finished on 6000/36559 queries. users per second: 18141.5"
      ]
     },
     "metadata": {},
     "output_type": "display_data"
    },
    {
     "data": {
      "text/html": [
       "<pre>recommendations finished on 7000/36559 queries. users per second: 18274.2</pre>"
      ],
      "text/plain": [
       "recommendations finished on 7000/36559 queries. users per second: 18274.2"
      ]
     },
     "metadata": {},
     "output_type": "display_data"
    },
    {
     "data": {
      "text/html": [
       "<pre>recommendations finished on 8000/36559 queries. users per second: 18436.5</pre>"
      ],
      "text/plain": [
       "recommendations finished on 8000/36559 queries. users per second: 18436.5"
      ]
     },
     "metadata": {},
     "output_type": "display_data"
    },
    {
     "data": {
      "text/html": [
       "<pre>recommendations finished on 9000/36559 queries. users per second: 18450.7</pre>"
      ],
      "text/plain": [
       "recommendations finished on 9000/36559 queries. users per second: 18450.7"
      ]
     },
     "metadata": {},
     "output_type": "display_data"
    },
    {
     "data": {
      "text/html": [
       "<pre>recommendations finished on 10000/36559 queries. users per second: 18675.6</pre>"
      ],
      "text/plain": [
       "recommendations finished on 10000/36559 queries. users per second: 18675.6"
      ]
     },
     "metadata": {},
     "output_type": "display_data"
    },
    {
     "data": {
      "text/html": [
       "<pre>recommendations finished on 11000/36559 queries. users per second: 18588.5</pre>"
      ],
      "text/plain": [
       "recommendations finished on 11000/36559 queries. users per second: 18588.5"
      ]
     },
     "metadata": {},
     "output_type": "display_data"
    },
    {
     "data": {
      "text/html": [
       "<pre>recommendations finished on 12000/36559 queries. users per second: 18471.1</pre>"
      ],
      "text/plain": [
       "recommendations finished on 12000/36559 queries. users per second: 18471.1"
      ]
     },
     "metadata": {},
     "output_type": "display_data"
    },
    {
     "data": {
      "text/html": [
       "<pre>recommendations finished on 13000/36559 queries. users per second: 18563.2</pre>"
      ],
      "text/plain": [
       "recommendations finished on 13000/36559 queries. users per second: 18563.2"
      ]
     },
     "metadata": {},
     "output_type": "display_data"
    },
    {
     "data": {
      "text/html": [
       "<pre>recommendations finished on 14000/36559 queries. users per second: 18598.5</pre>"
      ],
      "text/plain": [
       "recommendations finished on 14000/36559 queries. users per second: 18598.5"
      ]
     },
     "metadata": {},
     "output_type": "display_data"
    },
    {
     "data": {
      "text/html": [
       "<pre>recommendations finished on 15000/36559 queries. users per second: 18611.7</pre>"
      ],
      "text/plain": [
       "recommendations finished on 15000/36559 queries. users per second: 18611.7"
      ]
     },
     "metadata": {},
     "output_type": "display_data"
    },
    {
     "data": {
      "text/html": [
       "<pre>recommendations finished on 16000/36559 queries. users per second: 18673.5</pre>"
      ],
      "text/plain": [
       "recommendations finished on 16000/36559 queries. users per second: 18673.5"
      ]
     },
     "metadata": {},
     "output_type": "display_data"
    },
    {
     "data": {
      "text/html": [
       "<pre>recommendations finished on 17000/36559 queries. users per second: 18627.6</pre>"
      ],
      "text/plain": [
       "recommendations finished on 17000/36559 queries. users per second: 18627.6"
      ]
     },
     "metadata": {},
     "output_type": "display_data"
    },
    {
     "data": {
      "text/html": [
       "<pre>recommendations finished on 18000/36559 queries. users per second: 18504.4</pre>"
      ],
      "text/plain": [
       "recommendations finished on 18000/36559 queries. users per second: 18504.4"
      ]
     },
     "metadata": {},
     "output_type": "display_data"
    },
    {
     "data": {
      "text/html": [
       "<pre>recommendations finished on 19000/36559 queries. users per second: 18499.6</pre>"
      ],
      "text/plain": [
       "recommendations finished on 19000/36559 queries. users per second: 18499.6"
      ]
     },
     "metadata": {},
     "output_type": "display_data"
    },
    {
     "data": {
      "text/html": [
       "<pre>recommendations finished on 20000/36559 queries. users per second: 18427.9</pre>"
      ],
      "text/plain": [
       "recommendations finished on 20000/36559 queries. users per second: 18427.9"
      ]
     },
     "metadata": {},
     "output_type": "display_data"
    },
    {
     "data": {
      "text/html": [
       "<pre>recommendations finished on 21000/36559 queries. users per second: 17853.3</pre>"
      ],
      "text/plain": [
       "recommendations finished on 21000/36559 queries. users per second: 17853.3"
      ]
     },
     "metadata": {},
     "output_type": "display_data"
    },
    {
     "data": {
      "text/html": [
       "<pre>recommendations finished on 22000/36559 queries. users per second: 17649.5</pre>"
      ],
      "text/plain": [
       "recommendations finished on 22000/36559 queries. users per second: 17649.5"
      ]
     },
     "metadata": {},
     "output_type": "display_data"
    },
    {
     "data": {
      "text/html": [
       "<pre>recommendations finished on 23000/36559 queries. users per second: 17252.2</pre>"
      ],
      "text/plain": [
       "recommendations finished on 23000/36559 queries. users per second: 17252.2"
      ]
     },
     "metadata": {},
     "output_type": "display_data"
    },
    {
     "data": {
      "text/html": [
       "<pre>recommendations finished on 24000/36559 queries. users per second: 17165.1</pre>"
      ],
      "text/plain": [
       "recommendations finished on 24000/36559 queries. users per second: 17165.1"
      ]
     },
     "metadata": {},
     "output_type": "display_data"
    },
    {
     "data": {
      "text/html": [
       "<pre>recommendations finished on 25000/36559 queries. users per second: 17117.4</pre>"
      ],
      "text/plain": [
       "recommendations finished on 25000/36559 queries. users per second: 17117.4"
      ]
     },
     "metadata": {},
     "output_type": "display_data"
    },
    {
     "data": {
      "text/html": [
       "<pre>recommendations finished on 26000/36559 queries. users per second: 17031.2</pre>"
      ],
      "text/plain": [
       "recommendations finished on 26000/36559 queries. users per second: 17031.2"
      ]
     },
     "metadata": {},
     "output_type": "display_data"
    },
    {
     "data": {
      "text/html": [
       "<pre>recommendations finished on 27000/36559 queries. users per second: 17008.6</pre>"
      ],
      "text/plain": [
       "recommendations finished on 27000/36559 queries. users per second: 17008.6"
      ]
     },
     "metadata": {},
     "output_type": "display_data"
    },
    {
     "data": {
      "text/html": [
       "<pre>recommendations finished on 28000/36559 queries. users per second: 16970.1</pre>"
      ],
      "text/plain": [
       "recommendations finished on 28000/36559 queries. users per second: 16970.1"
      ]
     },
     "metadata": {},
     "output_type": "display_data"
    },
    {
     "data": {
      "text/html": [
       "<pre>recommendations finished on 29000/36559 queries. users per second: 16932</pre>"
      ],
      "text/plain": [
       "recommendations finished on 29000/36559 queries. users per second: 16932"
      ]
     },
     "metadata": {},
     "output_type": "display_data"
    },
    {
     "data": {
      "text/html": [
       "<pre>recommendations finished on 30000/36559 queries. users per second: 16924.4</pre>"
      ],
      "text/plain": [
       "recommendations finished on 30000/36559 queries. users per second: 16924.4"
      ]
     },
     "metadata": {},
     "output_type": "display_data"
    },
    {
     "data": {
      "text/html": [
       "<pre>recommendations finished on 31000/36559 queries. users per second: 16944.6</pre>"
      ],
      "text/plain": [
       "recommendations finished on 31000/36559 queries. users per second: 16944.6"
      ]
     },
     "metadata": {},
     "output_type": "display_data"
    },
    {
     "data": {
      "text/html": [
       "<pre>recommendations finished on 32000/36559 queries. users per second: 16975.5</pre>"
      ],
      "text/plain": [
       "recommendations finished on 32000/36559 queries. users per second: 16975.5"
      ]
     },
     "metadata": {},
     "output_type": "display_data"
    },
    {
     "data": {
      "text/html": [
       "<pre>recommendations finished on 33000/36559 queries. users per second: 16972</pre>"
      ],
      "text/plain": [
       "recommendations finished on 33000/36559 queries. users per second: 16972"
      ]
     },
     "metadata": {},
     "output_type": "display_data"
    },
    {
     "data": {
      "text/html": [
       "<pre>recommendations finished on 34000/36559 queries. users per second: 16982.8</pre>"
      ],
      "text/plain": [
       "recommendations finished on 34000/36559 queries. users per second: 16982.8"
      ]
     },
     "metadata": {},
     "output_type": "display_data"
    },
    {
     "data": {
      "text/html": [
       "<pre>recommendations finished on 35000/36559 queries. users per second: 16971.5</pre>"
      ],
      "text/plain": [
       "recommendations finished on 35000/36559 queries. users per second: 16971.5"
      ]
     },
     "metadata": {},
     "output_type": "display_data"
    },
    {
     "data": {
      "text/html": [
       "<pre>recommendations finished on 36000/36559 queries. users per second: 16949.4</pre>"
      ],
      "text/plain": [
       "recommendations finished on 36000/36559 queries. users per second: 16949.4"
      ]
     },
     "metadata": {},
     "output_type": "display_data"
    },
    {
     "name": "stdout",
     "output_type": "stream",
     "text": [
      "\n",
      "Precision and recall summary statistics by cutoff\n",
      "+--------+----------------------+----------------------+\n",
      "| cutoff |    mean_precision    |     mean_recall      |\n",
      "+--------+----------------------+----------------------+\n",
      "|   1    | 0.06209141387893563  | 0.035684631929059955 |\n",
      "|   2    | 0.052463141770836205 | 0.05975919327922139  |\n",
      "|   3    | 0.045579291920821476 |  0.0770122176313907  |\n",
      "|   4    | 0.04141251128313149  | 0.09371952414254806  |\n",
      "|   5    | 0.03810826335512605  |  0.1079691854693925  |\n",
      "|   6    | 0.035276311350602295 | 0.11966847799720469  |\n",
      "|   7    |  0.0330346641241355  |  0.1302117044033948  |\n",
      "|   8    | 0.03112434694603231  | 0.14039219937908784  |\n",
      "|   9    | 0.029471387194518233 |  0.1495703150110693  |\n",
      "|   10   | 0.028121666347548573 | 0.15843346450398282  |\n",
      "+--------+----------------------+----------------------+\n",
      "[10 rows x 3 columns]\n",
      "\n",
      "\n",
      "Overall RMSE: 2.0622516357924594\n",
      "\n",
      "Per User RMSE (best)\n",
      "+-----------+---------------------+-------+\n",
      "|  user_id  |         rmse        | count |\n",
      "+-----------+---------------------+-------+\n",
      "| 531096746 | 0.03262460231781006 |   1   |\n",
      "+-----------+---------------------+-------+\n",
      "[1 rows x 3 columns]\n",
      "\n",
      "\n",
      "Per User RMSE (worst)\n",
      "+-----------+-------------------+-------+\n",
      "|  user_id  |        rmse       | count |\n",
      "+-----------+-------------------+-------+\n",
      "| 535658024 | 87.83632669448852 |   1   |\n",
      "+-----------+-------------------+-------+\n",
      "[1 rows x 3 columns]\n",
      "\n",
      "\n",
      "Per Item RMSE (best)\n",
      "+------------+---------------------+-------+\n",
      "| product_id |         rmse        | count |\n",
      "+------------+---------------------+-------+\n",
      "|  18500059  | 0.06066015362739563 |   1   |\n",
      "+------------+---------------------+-------+\n",
      "[1 rows x 3 columns]\n",
      "\n",
      "\n",
      "Per Item RMSE (worst)\n",
      "+------------+-------------------+-------+\n",
      "| product_id |        rmse       | count |\n",
      "+------------+-------------------+-------+\n",
      "|  4201541   | 32.33283045537342 |   2   |\n",
      "+------------+-------------------+-------+\n",
      "[1 rows x 3 columns]\n",
      "\n",
      "PROGRESS: Evaluate model Pearson Similarity on Purchase Counts\n"
     ]
    },
    {
     "data": {
      "text/html": [
       "<pre>recommendations finished on 1000/36559 queries. users per second: 11479.7</pre>"
      ],
      "text/plain": [
       "recommendations finished on 1000/36559 queries. users per second: 11479.7"
      ]
     },
     "metadata": {},
     "output_type": "display_data"
    },
    {
     "data": {
      "text/html": [
       "<pre>recommendations finished on 2000/36559 queries. users per second: 12502.8</pre>"
      ],
      "text/plain": [
       "recommendations finished on 2000/36559 queries. users per second: 12502.8"
      ]
     },
     "metadata": {},
     "output_type": "display_data"
    },
    {
     "data": {
      "text/html": [
       "<pre>recommendations finished on 3000/36559 queries. users per second: 12240.2</pre>"
      ],
      "text/plain": [
       "recommendations finished on 3000/36559 queries. users per second: 12240.2"
      ]
     },
     "metadata": {},
     "output_type": "display_data"
    },
    {
     "data": {
      "text/html": [
       "<pre>recommendations finished on 4000/36559 queries. users per second: 12603.5</pre>"
      ],
      "text/plain": [
       "recommendations finished on 4000/36559 queries. users per second: 12603.5"
      ]
     },
     "metadata": {},
     "output_type": "display_data"
    },
    {
     "data": {
      "text/html": [
       "<pre>recommendations finished on 5000/36559 queries. users per second: 12589.9</pre>"
      ],
      "text/plain": [
       "recommendations finished on 5000/36559 queries. users per second: 12589.9"
      ]
     },
     "metadata": {},
     "output_type": "display_data"
    },
    {
     "data": {
      "text/html": [
       "<pre>recommendations finished on 6000/36559 queries. users per second: 12542</pre>"
      ],
      "text/plain": [
       "recommendations finished on 6000/36559 queries. users per second: 12542"
      ]
     },
     "metadata": {},
     "output_type": "display_data"
    },
    {
     "data": {
      "text/html": [
       "<pre>recommendations finished on 7000/36559 queries. users per second: 12435.8</pre>"
      ],
      "text/plain": [
       "recommendations finished on 7000/36559 queries. users per second: 12435.8"
      ]
     },
     "metadata": {},
     "output_type": "display_data"
    },
    {
     "data": {
      "text/html": [
       "<pre>recommendations finished on 8000/36559 queries. users per second: 12329.6</pre>"
      ],
      "text/plain": [
       "recommendations finished on 8000/36559 queries. users per second: 12329.6"
      ]
     },
     "metadata": {},
     "output_type": "display_data"
    },
    {
     "data": {
      "text/html": [
       "<pre>recommendations finished on 9000/36559 queries. users per second: 12306.8</pre>"
      ],
      "text/plain": [
       "recommendations finished on 9000/36559 queries. users per second: 12306.8"
      ]
     },
     "metadata": {},
     "output_type": "display_data"
    },
    {
     "data": {
      "text/html": [
       "<pre>recommendations finished on 10000/36559 queries. users per second: 12484.5</pre>"
      ],
      "text/plain": [
       "recommendations finished on 10000/36559 queries. users per second: 12484.5"
      ]
     },
     "metadata": {},
     "output_type": "display_data"
    },
    {
     "data": {
      "text/html": [
       "<pre>recommendations finished on 11000/36559 queries. users per second: 12494.7</pre>"
      ],
      "text/plain": [
       "recommendations finished on 11000/36559 queries. users per second: 12494.7"
      ]
     },
     "metadata": {},
     "output_type": "display_data"
    },
    {
     "data": {
      "text/html": [
       "<pre>recommendations finished on 12000/36559 queries. users per second: 12492</pre>"
      ],
      "text/plain": [
       "recommendations finished on 12000/36559 queries. users per second: 12492"
      ]
     },
     "metadata": {},
     "output_type": "display_data"
    },
    {
     "data": {
      "text/html": [
       "<pre>recommendations finished on 13000/36559 queries. users per second: 12588.6</pre>"
      ],
      "text/plain": [
       "recommendations finished on 13000/36559 queries. users per second: 12588.6"
      ]
     },
     "metadata": {},
     "output_type": "display_data"
    },
    {
     "data": {
      "text/html": [
       "<pre>recommendations finished on 14000/36559 queries. users per second: 12652.8</pre>"
      ],
      "text/plain": [
       "recommendations finished on 14000/36559 queries. users per second: 12652.8"
      ]
     },
     "metadata": {},
     "output_type": "display_data"
    },
    {
     "data": {
      "text/html": [
       "<pre>recommendations finished on 15000/36559 queries. users per second: 12647.9</pre>"
      ],
      "text/plain": [
       "recommendations finished on 15000/36559 queries. users per second: 12647.9"
      ]
     },
     "metadata": {},
     "output_type": "display_data"
    },
    {
     "data": {
      "text/html": [
       "<pre>recommendations finished on 16000/36559 queries. users per second: 12657.1</pre>"
      ],
      "text/plain": [
       "recommendations finished on 16000/36559 queries. users per second: 12657.1"
      ]
     },
     "metadata": {},
     "output_type": "display_data"
    },
    {
     "data": {
      "text/html": [
       "<pre>recommendations finished on 17000/36559 queries. users per second: 12697</pre>"
      ],
      "text/plain": [
       "recommendations finished on 17000/36559 queries. users per second: 12697"
      ]
     },
     "metadata": {},
     "output_type": "display_data"
    },
    {
     "data": {
      "text/html": [
       "<pre>recommendations finished on 18000/36559 queries. users per second: 12762.2</pre>"
      ],
      "text/plain": [
       "recommendations finished on 18000/36559 queries. users per second: 12762.2"
      ]
     },
     "metadata": {},
     "output_type": "display_data"
    },
    {
     "data": {
      "text/html": [
       "<pre>recommendations finished on 19000/36559 queries. users per second: 12754.4</pre>"
      ],
      "text/plain": [
       "recommendations finished on 19000/36559 queries. users per second: 12754.4"
      ]
     },
     "metadata": {},
     "output_type": "display_data"
    },
    {
     "data": {
      "text/html": [
       "<pre>recommendations finished on 20000/36559 queries. users per second: 12740</pre>"
      ],
      "text/plain": [
       "recommendations finished on 20000/36559 queries. users per second: 12740"
      ]
     },
     "metadata": {},
     "output_type": "display_data"
    },
    {
     "data": {
      "text/html": [
       "<pre>recommendations finished on 21000/36559 queries. users per second: 12767.8</pre>"
      ],
      "text/plain": [
       "recommendations finished on 21000/36559 queries. users per second: 12767.8"
      ]
     },
     "metadata": {},
     "output_type": "display_data"
    },
    {
     "data": {
      "text/html": [
       "<pre>recommendations finished on 22000/36559 queries. users per second: 12802.7</pre>"
      ],
      "text/plain": [
       "recommendations finished on 22000/36559 queries. users per second: 12802.7"
      ]
     },
     "metadata": {},
     "output_type": "display_data"
    },
    {
     "data": {
      "text/html": [
       "<pre>recommendations finished on 23000/36559 queries. users per second: 12801.6</pre>"
      ],
      "text/plain": [
       "recommendations finished on 23000/36559 queries. users per second: 12801.6"
      ]
     },
     "metadata": {},
     "output_type": "display_data"
    },
    {
     "data": {
      "text/html": [
       "<pre>recommendations finished on 24000/36559 queries. users per second: 12810.2</pre>"
      ],
      "text/plain": [
       "recommendations finished on 24000/36559 queries. users per second: 12810.2"
      ]
     },
     "metadata": {},
     "output_type": "display_data"
    },
    {
     "data": {
      "text/html": [
       "<pre>recommendations finished on 25000/36559 queries. users per second: 12834.7</pre>"
      ],
      "text/plain": [
       "recommendations finished on 25000/36559 queries. users per second: 12834.7"
      ]
     },
     "metadata": {},
     "output_type": "display_data"
    },
    {
     "data": {
      "text/html": [
       "<pre>recommendations finished on 26000/36559 queries. users per second: 12860</pre>"
      ],
      "text/plain": [
       "recommendations finished on 26000/36559 queries. users per second: 12860"
      ]
     },
     "metadata": {},
     "output_type": "display_data"
    },
    {
     "data": {
      "text/html": [
       "<pre>recommendations finished on 27000/36559 queries. users per second: 12874.1</pre>"
      ],
      "text/plain": [
       "recommendations finished on 27000/36559 queries. users per second: 12874.1"
      ]
     },
     "metadata": {},
     "output_type": "display_data"
    },
    {
     "data": {
      "text/html": [
       "<pre>recommendations finished on 28000/36559 queries. users per second: 12867.8</pre>"
      ],
      "text/plain": [
       "recommendations finished on 28000/36559 queries. users per second: 12867.8"
      ]
     },
     "metadata": {},
     "output_type": "display_data"
    },
    {
     "data": {
      "text/html": [
       "<pre>recommendations finished on 29000/36559 queries. users per second: 12908.3</pre>"
      ],
      "text/plain": [
       "recommendations finished on 29000/36559 queries. users per second: 12908.3"
      ]
     },
     "metadata": {},
     "output_type": "display_data"
    },
    {
     "data": {
      "text/html": [
       "<pre>recommendations finished on 30000/36559 queries. users per second: 12937.8</pre>"
      ],
      "text/plain": [
       "recommendations finished on 30000/36559 queries. users per second: 12937.8"
      ]
     },
     "metadata": {},
     "output_type": "display_data"
    },
    {
     "data": {
      "text/html": [
       "<pre>recommendations finished on 31000/36559 queries. users per second: 12919.9</pre>"
      ],
      "text/plain": [
       "recommendations finished on 31000/36559 queries. users per second: 12919.9"
      ]
     },
     "metadata": {},
     "output_type": "display_data"
    },
    {
     "data": {
      "text/html": [
       "<pre>recommendations finished on 32000/36559 queries. users per second: 12935.7</pre>"
      ],
      "text/plain": [
       "recommendations finished on 32000/36559 queries. users per second: 12935.7"
      ]
     },
     "metadata": {},
     "output_type": "display_data"
    },
    {
     "data": {
      "text/html": [
       "<pre>recommendations finished on 33000/36559 queries. users per second: 12938.1</pre>"
      ],
      "text/plain": [
       "recommendations finished on 33000/36559 queries. users per second: 12938.1"
      ]
     },
     "metadata": {},
     "output_type": "display_data"
    },
    {
     "data": {
      "text/html": [
       "<pre>recommendations finished on 34000/36559 queries. users per second: 12951.6</pre>"
      ],
      "text/plain": [
       "recommendations finished on 34000/36559 queries. users per second: 12951.6"
      ]
     },
     "metadata": {},
     "output_type": "display_data"
    },
    {
     "data": {
      "text/html": [
       "<pre>recommendations finished on 35000/36559 queries. users per second: 12963.3</pre>"
      ],
      "text/plain": [
       "recommendations finished on 35000/36559 queries. users per second: 12963.3"
      ]
     },
     "metadata": {},
     "output_type": "display_data"
    },
    {
     "data": {
      "text/html": [
       "<pre>recommendations finished on 36000/36559 queries. users per second: 12935.6</pre>"
      ],
      "text/plain": [
       "recommendations finished on 36000/36559 queries. users per second: 12935.6"
      ]
     },
     "metadata": {},
     "output_type": "display_data"
    },
    {
     "name": "stdout",
     "output_type": "stream",
     "text": [
      "\n",
      "Precision and recall summary statistics by cutoff\n",
      "+--------+------------------------+------------------------+\n",
      "| cutoff |     mean_precision     |      mean_recall       |\n",
      "+--------+------------------------+------------------------+\n",
      "|   1    |          0.0           |          0.0           |\n",
      "|   2    |          0.0           |          0.0           |\n",
      "|   3    |          0.0           |          0.0           |\n",
      "|   4    |          0.0           |          0.0           |\n",
      "|   5    |          0.0           |          0.0           |\n",
      "|   6    |          0.0           |          0.0           |\n",
      "|   7    | 3.907577965949367e-06  | 1.3676522880822783e-05 |\n",
      "|   8    | 3.4191307202056957e-06 | 1.3676522880822783e-05 |\n",
      "|   9    | 3.0392273068494917e-06 | 1.3676522880822783e-05 |\n",
      "|   10   | 2.735304576164554e-06  | 1.3676522880822783e-05 |\n",
      "+--------+------------------------+------------------------+\n",
      "[10 rows x 3 columns]\n",
      "\n",
      "\n",
      "Overall RMSE: 1.550614476147725\n",
      "\n",
      "Per User RMSE (best)\n",
      "+-----------+------+-------+\n",
      "|  user_id  | rmse | count |\n",
      "+-----------+------+-------+\n",
      "| 538499094 | 0.0  |   1   |\n",
      "+-----------+------+-------+\n",
      "[1 rows x 3 columns]\n",
      "\n",
      "\n",
      "Per User RMSE (worst)\n",
      "+-----------+------------------+-------+\n",
      "|  user_id  |       rmse       | count |\n",
      "+-----------+------------------+-------+\n",
      "| 535658024 | 85.7707505169459 |   1   |\n",
      "+-----------+------------------+-------+\n",
      "[1 rows x 3 columns]\n",
      "\n",
      "\n",
      "Per Item RMSE (best)\n",
      "+------------+------+-------+\n",
      "| product_id | rmse | count |\n",
      "+------------+------+-------+\n",
      "|  5884061   | 0.0  |   2   |\n",
      "+------------+------+-------+\n",
      "[1 rows x 3 columns]\n",
      "\n",
      "\n",
      "Per Item RMSE (worst)\n",
      "+------------+--------------------+-------+\n",
      "| product_id |        rmse        | count |\n",
      "+------------+--------------------+-------+\n",
      "|  4201541   | 30.727508133587623 |   2   |\n",
      "+------------+--------------------+-------+\n",
      "[1 rows x 3 columns]\n",
      "\n"
     ]
    }
   ],
   "source": [
    "eval_counts = tc.recommender.util.compare_models(test_data, models_w_counts, model_names=names_w_counts)"
   ]
  },
  {
   "cell_type": "markdown",
   "metadata": {},
   "source": [
    "## 8. Model Selection\n",
    "### 8.1. Evaluation summary\n",
    "* Based on RMSE\n",
    "\n",
    "\n",
    "    1. Popularity on purchase counts: 1.5440161118616589\n",
    "    2. Cosine similarity on purchase counts: 2.0622516357924594\n",
    "    3. Pearson similarity on purchase counts: 1.5531102838192284"
   ]
  },
  {
   "cell_type": "code",
   "execution_count": 62,
   "metadata": {},
   "outputs": [
    {
     "data": {
      "text/html": [
       "<pre>Preparing data set.</pre>"
      ],
      "text/plain": [
       "Preparing data set."
      ]
     },
     "metadata": {},
     "output_type": "display_data"
    },
    {
     "data": {
      "text/html": [
       "<pre>    Data has 410712 observations with 56150 users and 21245 items.</pre>"
      ],
      "text/plain": [
       "    Data has 410712 observations with 56150 users and 21245 items."
      ]
     },
     "metadata": {},
     "output_type": "display_data"
    },
    {
     "data": {
      "text/html": [
       "<pre>    Data prepared in: 0.246699s</pre>"
      ],
      "text/plain": [
       "    Data prepared in: 0.246699s"
      ]
     },
     "metadata": {},
     "output_type": "display_data"
    },
    {
     "data": {
      "text/html": [
       "<pre>Training model from provided data.</pre>"
      ],
      "text/plain": [
       "Training model from provided data."
      ]
     },
     "metadata": {},
     "output_type": "display_data"
    },
    {
     "data": {
      "text/html": [
       "<pre>Gathering per-item and per-user statistics.</pre>"
      ],
      "text/plain": [
       "Gathering per-item and per-user statistics."
      ]
     },
     "metadata": {},
     "output_type": "display_data"
    },
    {
     "data": {
      "text/html": [
       "<pre>+--------------------------------+------------+</pre>"
      ],
      "text/plain": [
       "+--------------------------------+------------+"
      ]
     },
     "metadata": {},
     "output_type": "display_data"
    },
    {
     "data": {
      "text/html": [
       "<pre>| Elapsed Time (Item Statistics) | % Complete |</pre>"
      ],
      "text/plain": [
       "| Elapsed Time (Item Statistics) | % Complete |"
      ]
     },
     "metadata": {},
     "output_type": "display_data"
    },
    {
     "data": {
      "text/html": [
       "<pre>+--------------------------------+------------+</pre>"
      ],
      "text/plain": [
       "+--------------------------------+------------+"
      ]
     },
     "metadata": {},
     "output_type": "display_data"
    },
    {
     "data": {
      "text/html": [
       "<pre>| 835us                          | 1.75       |</pre>"
      ],
      "text/plain": [
       "| 835us                          | 1.75       |"
      ]
     },
     "metadata": {},
     "output_type": "display_data"
    },
    {
     "data": {
      "text/html": [
       "<pre>| 8.183ms                        | 100        |</pre>"
      ],
      "text/plain": [
       "| 8.183ms                        | 100        |"
      ]
     },
     "metadata": {},
     "output_type": "display_data"
    },
    {
     "data": {
      "text/html": [
       "<pre>+--------------------------------+------------+</pre>"
      ],
      "text/plain": [
       "+--------------------------------+------------+"
      ]
     },
     "metadata": {},
     "output_type": "display_data"
    },
    {
     "data": {
      "text/html": [
       "<pre>Setting up lookup tables.</pre>"
      ],
      "text/plain": [
       "Setting up lookup tables."
      ]
     },
     "metadata": {},
     "output_type": "display_data"
    },
    {
     "data": {
      "text/html": [
       "<pre>Processing data in one pass using dense lookup tables.</pre>"
      ],
      "text/plain": [
       "Processing data in one pass using dense lookup tables."
      ]
     },
     "metadata": {},
     "output_type": "display_data"
    },
    {
     "data": {
      "text/html": [
       "<pre>+-------------------------------------+------------------+-----------------+</pre>"
      ],
      "text/plain": [
       "+-------------------------------------+------------------+-----------------+"
      ]
     },
     "metadata": {},
     "output_type": "display_data"
    },
    {
     "data": {
      "text/html": [
       "<pre>| Elapsed Time (Constructing Lookups) | Total % Complete | Items Processed |</pre>"
      ],
      "text/plain": [
       "| Elapsed Time (Constructing Lookups) | Total % Complete | Items Processed |"
      ]
     },
     "metadata": {},
     "output_type": "display_data"
    },
    {
     "data": {
      "text/html": [
       "<pre>+-------------------------------------+------------------+-----------------+</pre>"
      ],
      "text/plain": [
       "+-------------------------------------+------------------+-----------------+"
      ]
     },
     "metadata": {},
     "output_type": "display_data"
    },
    {
     "data": {
      "text/html": [
       "<pre>| 949.594ms                           | 0                | 0               |</pre>"
      ],
      "text/plain": [
       "| 949.594ms                           | 0                | 0               |"
      ]
     },
     "metadata": {},
     "output_type": "display_data"
    },
    {
     "data": {
      "text/html": [
       "<pre>| 2.50s                               | 100              | 21245           |</pre>"
      ],
      "text/plain": [
       "| 2.50s                               | 100              | 21245           |"
      ]
     },
     "metadata": {},
     "output_type": "display_data"
    },
    {
     "data": {
      "text/html": [
       "<pre>+-------------------------------------+------------------+-----------------+</pre>"
      ],
      "text/plain": [
       "+-------------------------------------+------------------+-----------------+"
      ]
     },
     "metadata": {},
     "output_type": "display_data"
    },
    {
     "data": {
      "text/html": [
       "<pre>Finalizing lookup tables.</pre>"
      ],
      "text/plain": [
       "Finalizing lookup tables."
      ]
     },
     "metadata": {},
     "output_type": "display_data"
    },
    {
     "data": {
      "text/html": [
       "<pre>Generating candidate set for working with new users.</pre>"
      ],
      "text/plain": [
       "Generating candidate set for working with new users."
      ]
     },
     "metadata": {},
     "output_type": "display_data"
    },
    {
     "data": {
      "text/html": [
       "<pre>Finished training in 2.53515s</pre>"
      ],
      "text/plain": [
       "Finished training in 2.53515s"
      ]
     },
     "metadata": {},
     "output_type": "display_data"
    },
    {
     "data": {
      "text/html": [
       "<pre>recommendations finished on 1000/556591 queries. users per second: 13524.7</pre>"
      ],
      "text/plain": [
       "recommendations finished on 1000/556591 queries. users per second: 13524.7"
      ]
     },
     "metadata": {},
     "output_type": "display_data"
    },
    {
     "data": {
      "text/html": [
       "<pre>recommendations finished on 2000/556591 queries. users per second: 15637.7</pre>"
      ],
      "text/plain": [
       "recommendations finished on 2000/556591 queries. users per second: 15637.7"
      ]
     },
     "metadata": {},
     "output_type": "display_data"
    },
    {
     "data": {
      "text/html": [
       "<pre>recommendations finished on 3000/556591 queries. users per second: 16373.3</pre>"
      ],
      "text/plain": [
       "recommendations finished on 3000/556591 queries. users per second: 16373.3"
      ]
     },
     "metadata": {},
     "output_type": "display_data"
    },
    {
     "data": {
      "text/html": [
       "<pre>recommendations finished on 4000/556591 queries. users per second: 16856.8</pre>"
      ],
      "text/plain": [
       "recommendations finished on 4000/556591 queries. users per second: 16856.8"
      ]
     },
     "metadata": {},
     "output_type": "display_data"
    },
    {
     "data": {
      "text/html": [
       "<pre>recommendations finished on 5000/556591 queries. users per second: 17218</pre>"
      ],
      "text/plain": [
       "recommendations finished on 5000/556591 queries. users per second: 17218"
      ]
     },
     "metadata": {},
     "output_type": "display_data"
    },
    {
     "data": {
      "text/html": [
       "<pre>recommendations finished on 6000/556591 queries. users per second: 17138.5</pre>"
      ],
      "text/plain": [
       "recommendations finished on 6000/556591 queries. users per second: 17138.5"
      ]
     },
     "metadata": {},
     "output_type": "display_data"
    },
    {
     "data": {
      "text/html": [
       "<pre>recommendations finished on 7000/556591 queries. users per second: 17350.1</pre>"
      ],
      "text/plain": [
       "recommendations finished on 7000/556591 queries. users per second: 17350.1"
      ]
     },
     "metadata": {},
     "output_type": "display_data"
    },
    {
     "data": {
      "text/html": [
       "<pre>recommendations finished on 8000/556591 queries. users per second: 17538.4</pre>"
      ],
      "text/plain": [
       "recommendations finished on 8000/556591 queries. users per second: 17538.4"
      ]
     },
     "metadata": {},
     "output_type": "display_data"
    },
    {
     "data": {
      "text/html": [
       "<pre>recommendations finished on 9000/556591 queries. users per second: 17505.7</pre>"
      ],
      "text/plain": [
       "recommendations finished on 9000/556591 queries. users per second: 17505.7"
      ]
     },
     "metadata": {},
     "output_type": "display_data"
    },
    {
     "data": {
      "text/html": [
       "<pre>recommendations finished on 10000/556591 queries. users per second: 17535.1</pre>"
      ],
      "text/plain": [
       "recommendations finished on 10000/556591 queries. users per second: 17535.1"
      ]
     },
     "metadata": {},
     "output_type": "display_data"
    },
    {
     "data": {
      "text/html": [
       "<pre>recommendations finished on 11000/556591 queries. users per second: 17468.2</pre>"
      ],
      "text/plain": [
       "recommendations finished on 11000/556591 queries. users per second: 17468.2"
      ]
     },
     "metadata": {},
     "output_type": "display_data"
    },
    {
     "data": {
      "text/html": [
       "<pre>recommendations finished on 12000/556591 queries. users per second: 17391.1</pre>"
      ],
      "text/plain": [
       "recommendations finished on 12000/556591 queries. users per second: 17391.1"
      ]
     },
     "metadata": {},
     "output_type": "display_data"
    },
    {
     "data": {
      "text/html": [
       "<pre>recommendations finished on 13000/556591 queries. users per second: 17263.7</pre>"
      ],
      "text/plain": [
       "recommendations finished on 13000/556591 queries. users per second: 17263.7"
      ]
     },
     "metadata": {},
     "output_type": "display_data"
    },
    {
     "data": {
      "text/html": [
       "<pre>recommendations finished on 14000/556591 queries. users per second: 17178.1</pre>"
      ],
      "text/plain": [
       "recommendations finished on 14000/556591 queries. users per second: 17178.1"
      ]
     },
     "metadata": {},
     "output_type": "display_data"
    },
    {
     "data": {
      "text/html": [
       "<pre>recommendations finished on 15000/556591 queries. users per second: 17157.4</pre>"
      ],
      "text/plain": [
       "recommendations finished on 15000/556591 queries. users per second: 17157.4"
      ]
     },
     "metadata": {},
     "output_type": "display_data"
    },
    {
     "data": {
      "text/html": [
       "<pre>recommendations finished on 16000/556591 queries. users per second: 17223.7</pre>"
      ],
      "text/plain": [
       "recommendations finished on 16000/556591 queries. users per second: 17223.7"
      ]
     },
     "metadata": {},
     "output_type": "display_data"
    },
    {
     "data": {
      "text/html": [
       "<pre>recommendations finished on 17000/556591 queries. users per second: 17254.7</pre>"
      ],
      "text/plain": [
       "recommendations finished on 17000/556591 queries. users per second: 17254.7"
      ]
     },
     "metadata": {},
     "output_type": "display_data"
    },
    {
     "data": {
      "text/html": [
       "<pre>recommendations finished on 18000/556591 queries. users per second: 17021</pre>"
      ],
      "text/plain": [
       "recommendations finished on 18000/556591 queries. users per second: 17021"
      ]
     },
     "metadata": {},
     "output_type": "display_data"
    },
    {
     "data": {
      "text/html": [
       "<pre>recommendations finished on 19000/556591 queries. users per second: 17010.6</pre>"
      ],
      "text/plain": [
       "recommendations finished on 19000/556591 queries. users per second: 17010.6"
      ]
     },
     "metadata": {},
     "output_type": "display_data"
    },
    {
     "data": {
      "text/html": [
       "<pre>recommendations finished on 20000/556591 queries. users per second: 17163.5</pre>"
      ],
      "text/plain": [
       "recommendations finished on 20000/556591 queries. users per second: 17163.5"
      ]
     },
     "metadata": {},
     "output_type": "display_data"
    },
    {
     "data": {
      "text/html": [
       "<pre>recommendations finished on 21000/556591 queries. users per second: 17290.3</pre>"
      ],
      "text/plain": [
       "recommendations finished on 21000/556591 queries. users per second: 17290.3"
      ]
     },
     "metadata": {},
     "output_type": "display_data"
    },
    {
     "data": {
      "text/html": [
       "<pre>recommendations finished on 22000/556591 queries. users per second: 17364.1</pre>"
      ],
      "text/plain": [
       "recommendations finished on 22000/556591 queries. users per second: 17364.1"
      ]
     },
     "metadata": {},
     "output_type": "display_data"
    },
    {
     "data": {
      "text/html": [
       "<pre>recommendations finished on 23000/556591 queries. users per second: 17381.6</pre>"
      ],
      "text/plain": [
       "recommendations finished on 23000/556591 queries. users per second: 17381.6"
      ]
     },
     "metadata": {},
     "output_type": "display_data"
    },
    {
     "data": {
      "text/html": [
       "<pre>recommendations finished on 24000/556591 queries. users per second: 17260.9</pre>"
      ],
      "text/plain": [
       "recommendations finished on 24000/556591 queries. users per second: 17260.9"
      ]
     },
     "metadata": {},
     "output_type": "display_data"
    },
    {
     "data": {
      "text/html": [
       "<pre>recommendations finished on 25000/556591 queries. users per second: 17259</pre>"
      ],
      "text/plain": [
       "recommendations finished on 25000/556591 queries. users per second: 17259"
      ]
     },
     "metadata": {},
     "output_type": "display_data"
    },
    {
     "data": {
      "text/html": [
       "<pre>recommendations finished on 26000/556591 queries. users per second: 17235.8</pre>"
      ],
      "text/plain": [
       "recommendations finished on 26000/556591 queries. users per second: 17235.8"
      ]
     },
     "metadata": {},
     "output_type": "display_data"
    },
    {
     "data": {
      "text/html": [
       "<pre>recommendations finished on 27000/556591 queries. users per second: 17345.3</pre>"
      ],
      "text/plain": [
       "recommendations finished on 27000/556591 queries. users per second: 17345.3"
      ]
     },
     "metadata": {},
     "output_type": "display_data"
    },
    {
     "data": {
      "text/html": [
       "<pre>recommendations finished on 28000/556591 queries. users per second: 17400.3</pre>"
      ],
      "text/plain": [
       "recommendations finished on 28000/556591 queries. users per second: 17400.3"
      ]
     },
     "metadata": {},
     "output_type": "display_data"
    },
    {
     "data": {
      "text/html": [
       "<pre>recommendations finished on 29000/556591 queries. users per second: 17430.2</pre>"
      ],
      "text/plain": [
       "recommendations finished on 29000/556591 queries. users per second: 17430.2"
      ]
     },
     "metadata": {},
     "output_type": "display_data"
    },
    {
     "data": {
      "text/html": [
       "<pre>recommendations finished on 30000/556591 queries. users per second: 17480.6</pre>"
      ],
      "text/plain": [
       "recommendations finished on 30000/556591 queries. users per second: 17480.6"
      ]
     },
     "metadata": {},
     "output_type": "display_data"
    },
    {
     "data": {
      "text/html": [
       "<pre>recommendations finished on 31000/556591 queries. users per second: 17417.6</pre>"
      ],
      "text/plain": [
       "recommendations finished on 31000/556591 queries. users per second: 17417.6"
      ]
     },
     "metadata": {},
     "output_type": "display_data"
    },
    {
     "data": {
      "text/html": [
       "<pre>recommendations finished on 32000/556591 queries. users per second: 17426.5</pre>"
      ],
      "text/plain": [
       "recommendations finished on 32000/556591 queries. users per second: 17426.5"
      ]
     },
     "metadata": {},
     "output_type": "display_data"
    },
    {
     "data": {
      "text/html": [
       "<pre>recommendations finished on 33000/556591 queries. users per second: 17453.5</pre>"
      ],
      "text/plain": [
       "recommendations finished on 33000/556591 queries. users per second: 17453.5"
      ]
     },
     "metadata": {},
     "output_type": "display_data"
    },
    {
     "data": {
      "text/html": [
       "<pre>recommendations finished on 34000/556591 queries. users per second: 17522.9</pre>"
      ],
      "text/plain": [
       "recommendations finished on 34000/556591 queries. users per second: 17522.9"
      ]
     },
     "metadata": {},
     "output_type": "display_data"
    },
    {
     "data": {
      "text/html": [
       "<pre>recommendations finished on 35000/556591 queries. users per second: 17522.3</pre>"
      ],
      "text/plain": [
       "recommendations finished on 35000/556591 queries. users per second: 17522.3"
      ]
     },
     "metadata": {},
     "output_type": "display_data"
    },
    {
     "data": {
      "text/html": [
       "<pre>recommendations finished on 36000/556591 queries. users per second: 17537.4</pre>"
      ],
      "text/plain": [
       "recommendations finished on 36000/556591 queries. users per second: 17537.4"
      ]
     },
     "metadata": {},
     "output_type": "display_data"
    },
    {
     "data": {
      "text/html": [
       "<pre>recommendations finished on 37000/556591 queries. users per second: 17565.6</pre>"
      ],
      "text/plain": [
       "recommendations finished on 37000/556591 queries. users per second: 17565.6"
      ]
     },
     "metadata": {},
     "output_type": "display_data"
    },
    {
     "data": {
      "text/html": [
       "<pre>recommendations finished on 38000/556591 queries. users per second: 17569.6</pre>"
      ],
      "text/plain": [
       "recommendations finished on 38000/556591 queries. users per second: 17569.6"
      ]
     },
     "metadata": {},
     "output_type": "display_data"
    },
    {
     "data": {
      "text/html": [
       "<pre>recommendations finished on 39000/556591 queries. users per second: 17603.6</pre>"
      ],
      "text/plain": [
       "recommendations finished on 39000/556591 queries. users per second: 17603.6"
      ]
     },
     "metadata": {},
     "output_type": "display_data"
    },
    {
     "data": {
      "text/html": [
       "<pre>recommendations finished on 40000/556591 queries. users per second: 17623.2</pre>"
      ],
      "text/plain": [
       "recommendations finished on 40000/556591 queries. users per second: 17623.2"
      ]
     },
     "metadata": {},
     "output_type": "display_data"
    },
    {
     "data": {
      "text/html": [
       "<pre>recommendations finished on 41000/556591 queries. users per second: 17691.3</pre>"
      ],
      "text/plain": [
       "recommendations finished on 41000/556591 queries. users per second: 17691.3"
      ]
     },
     "metadata": {},
     "output_type": "display_data"
    },
    {
     "data": {
      "text/html": [
       "<pre>recommendations finished on 42000/556591 queries. users per second: 17714.5</pre>"
      ],
      "text/plain": [
       "recommendations finished on 42000/556591 queries. users per second: 17714.5"
      ]
     },
     "metadata": {},
     "output_type": "display_data"
    },
    {
     "data": {
      "text/html": [
       "<pre>recommendations finished on 43000/556591 queries. users per second: 17731.7</pre>"
      ],
      "text/plain": [
       "recommendations finished on 43000/556591 queries. users per second: 17731.7"
      ]
     },
     "metadata": {},
     "output_type": "display_data"
    },
    {
     "data": {
      "text/html": [
       "<pre>recommendations finished on 44000/556591 queries. users per second: 17764.4</pre>"
      ],
      "text/plain": [
       "recommendations finished on 44000/556591 queries. users per second: 17764.4"
      ]
     },
     "metadata": {},
     "output_type": "display_data"
    },
    {
     "data": {
      "text/html": [
       "<pre>recommendations finished on 45000/556591 queries. users per second: 17668</pre>"
      ],
      "text/plain": [
       "recommendations finished on 45000/556591 queries. users per second: 17668"
      ]
     },
     "metadata": {},
     "output_type": "display_data"
    },
    {
     "data": {
      "text/html": [
       "<pre>recommendations finished on 46000/556591 queries. users per second: 17693.9</pre>"
      ],
      "text/plain": [
       "recommendations finished on 46000/556591 queries. users per second: 17693.9"
      ]
     },
     "metadata": {},
     "output_type": "display_data"
    },
    {
     "data": {
      "text/html": [
       "<pre>recommendations finished on 47000/556591 queries. users per second: 17718.8</pre>"
      ],
      "text/plain": [
       "recommendations finished on 47000/556591 queries. users per second: 17718.8"
      ]
     },
     "metadata": {},
     "output_type": "display_data"
    },
    {
     "data": {
      "text/html": [
       "<pre>recommendations finished on 48000/556591 queries. users per second: 17740.9</pre>"
      ],
      "text/plain": [
       "recommendations finished on 48000/556591 queries. users per second: 17740.9"
      ]
     },
     "metadata": {},
     "output_type": "display_data"
    },
    {
     "data": {
      "text/html": [
       "<pre>recommendations finished on 49000/556591 queries. users per second: 17758.1</pre>"
      ],
      "text/plain": [
       "recommendations finished on 49000/556591 queries. users per second: 17758.1"
      ]
     },
     "metadata": {},
     "output_type": "display_data"
    },
    {
     "data": {
      "text/html": [
       "<pre>recommendations finished on 50000/556591 queries. users per second: 17748</pre>"
      ],
      "text/plain": [
       "recommendations finished on 50000/556591 queries. users per second: 17748"
      ]
     },
     "metadata": {},
     "output_type": "display_data"
    },
    {
     "data": {
      "text/html": [
       "<pre>recommendations finished on 51000/556591 queries. users per second: 17747.2</pre>"
      ],
      "text/plain": [
       "recommendations finished on 51000/556591 queries. users per second: 17747.2"
      ]
     },
     "metadata": {},
     "output_type": "display_data"
    },
    {
     "data": {
      "text/html": [
       "<pre>recommendations finished on 52000/556591 queries. users per second: 17721.4</pre>"
      ],
      "text/plain": [
       "recommendations finished on 52000/556591 queries. users per second: 17721.4"
      ]
     },
     "metadata": {},
     "output_type": "display_data"
    },
    {
     "data": {
      "text/html": [
       "<pre>recommendations finished on 53000/556591 queries. users per second: 17653.5</pre>"
      ],
      "text/plain": [
       "recommendations finished on 53000/556591 queries. users per second: 17653.5"
      ]
     },
     "metadata": {},
     "output_type": "display_data"
    },
    {
     "data": {
      "text/html": [
       "<pre>recommendations finished on 54000/556591 queries. users per second: 17666.7</pre>"
      ],
      "text/plain": [
       "recommendations finished on 54000/556591 queries. users per second: 17666.7"
      ]
     },
     "metadata": {},
     "output_type": "display_data"
    },
    {
     "data": {
      "text/html": [
       "<pre>recommendations finished on 55000/556591 queries. users per second: 17687.5</pre>"
      ],
      "text/plain": [
       "recommendations finished on 55000/556591 queries. users per second: 17687.5"
      ]
     },
     "metadata": {},
     "output_type": "display_data"
    },
    {
     "data": {
      "text/html": [
       "<pre>recommendations finished on 56000/556591 queries. users per second: 17691</pre>"
      ],
      "text/plain": [
       "recommendations finished on 56000/556591 queries. users per second: 17691"
      ]
     },
     "metadata": {},
     "output_type": "display_data"
    },
    {
     "data": {
      "text/html": [
       "<pre>recommendations finished on 57000/556591 queries. users per second: 17674.3</pre>"
      ],
      "text/plain": [
       "recommendations finished on 57000/556591 queries. users per second: 17674.3"
      ]
     },
     "metadata": {},
     "output_type": "display_data"
    },
    {
     "data": {
      "text/html": [
       "<pre>recommendations finished on 58000/556591 queries. users per second: 17658.2</pre>"
      ],
      "text/plain": [
       "recommendations finished on 58000/556591 queries. users per second: 17658.2"
      ]
     },
     "metadata": {},
     "output_type": "display_data"
    },
    {
     "data": {
      "text/html": [
       "<pre>recommendations finished on 59000/556591 queries. users per second: 17659.6</pre>"
      ],
      "text/plain": [
       "recommendations finished on 59000/556591 queries. users per second: 17659.6"
      ]
     },
     "metadata": {},
     "output_type": "display_data"
    },
    {
     "data": {
      "text/html": [
       "<pre>recommendations finished on 60000/556591 queries. users per second: 17671.7</pre>"
      ],
      "text/plain": [
       "recommendations finished on 60000/556591 queries. users per second: 17671.7"
      ]
     },
     "metadata": {},
     "output_type": "display_data"
    },
    {
     "data": {
      "text/html": [
       "<pre>recommendations finished on 61000/556591 queries. users per second: 17677.4</pre>"
      ],
      "text/plain": [
       "recommendations finished on 61000/556591 queries. users per second: 17677.4"
      ]
     },
     "metadata": {},
     "output_type": "display_data"
    },
    {
     "data": {
      "text/html": [
       "<pre>recommendations finished on 62000/556591 queries. users per second: 17701.9</pre>"
      ],
      "text/plain": [
       "recommendations finished on 62000/556591 queries. users per second: 17701.9"
      ]
     },
     "metadata": {},
     "output_type": "display_data"
    },
    {
     "data": {
      "text/html": [
       "<pre>recommendations finished on 63000/556591 queries. users per second: 17697.1</pre>"
      ],
      "text/plain": [
       "recommendations finished on 63000/556591 queries. users per second: 17697.1"
      ]
     },
     "metadata": {},
     "output_type": "display_data"
    },
    {
     "data": {
      "text/html": [
       "<pre>recommendations finished on 64000/556591 queries. users per second: 17696.2</pre>"
      ],
      "text/plain": [
       "recommendations finished on 64000/556591 queries. users per second: 17696.2"
      ]
     },
     "metadata": {},
     "output_type": "display_data"
    },
    {
     "data": {
      "text/html": [
       "<pre>recommendations finished on 65000/556591 queries. users per second: 17717.5</pre>"
      ],
      "text/plain": [
       "recommendations finished on 65000/556591 queries. users per second: 17717.5"
      ]
     },
     "metadata": {},
     "output_type": "display_data"
    },
    {
     "data": {
      "text/html": [
       "<pre>recommendations finished on 66000/556591 queries. users per second: 17735.9</pre>"
      ],
      "text/plain": [
       "recommendations finished on 66000/556591 queries. users per second: 17735.9"
      ]
     },
     "metadata": {},
     "output_type": "display_data"
    },
    {
     "data": {
      "text/html": [
       "<pre>recommendations finished on 67000/556591 queries. users per second: 17734.1</pre>"
      ],
      "text/plain": [
       "recommendations finished on 67000/556591 queries. users per second: 17734.1"
      ]
     },
     "metadata": {},
     "output_type": "display_data"
    },
    {
     "data": {
      "text/html": [
       "<pre>recommendations finished on 68000/556591 queries. users per second: 17657.5</pre>"
      ],
      "text/plain": [
       "recommendations finished on 68000/556591 queries. users per second: 17657.5"
      ]
     },
     "metadata": {},
     "output_type": "display_data"
    },
    {
     "data": {
      "text/html": [
       "<pre>recommendations finished on 69000/556591 queries. users per second: 17654.5</pre>"
      ],
      "text/plain": [
       "recommendations finished on 69000/556591 queries. users per second: 17654.5"
      ]
     },
     "metadata": {},
     "output_type": "display_data"
    },
    {
     "data": {
      "text/html": [
       "<pre>recommendations finished on 70000/556591 queries. users per second: 17657.3</pre>"
      ],
      "text/plain": [
       "recommendations finished on 70000/556591 queries. users per second: 17657.3"
      ]
     },
     "metadata": {},
     "output_type": "display_data"
    },
    {
     "data": {
      "text/html": [
       "<pre>recommendations finished on 71000/556591 queries. users per second: 17642</pre>"
      ],
      "text/plain": [
       "recommendations finished on 71000/556591 queries. users per second: 17642"
      ]
     },
     "metadata": {},
     "output_type": "display_data"
    },
    {
     "data": {
      "text/html": [
       "<pre>recommendations finished on 72000/556591 queries. users per second: 17653.4</pre>"
      ],
      "text/plain": [
       "recommendations finished on 72000/556591 queries. users per second: 17653.4"
      ]
     },
     "metadata": {},
     "output_type": "display_data"
    },
    {
     "data": {
      "text/html": [
       "<pre>recommendations finished on 73000/556591 queries. users per second: 17641.1</pre>"
      ],
      "text/plain": [
       "recommendations finished on 73000/556591 queries. users per second: 17641.1"
      ]
     },
     "metadata": {},
     "output_type": "display_data"
    },
    {
     "data": {
      "text/html": [
       "<pre>recommendations finished on 74000/556591 queries. users per second: 17639.4</pre>"
      ],
      "text/plain": [
       "recommendations finished on 74000/556591 queries. users per second: 17639.4"
      ]
     },
     "metadata": {},
     "output_type": "display_data"
    },
    {
     "data": {
      "text/html": [
       "<pre>recommendations finished on 75000/556591 queries. users per second: 17603.7</pre>"
      ],
      "text/plain": [
       "recommendations finished on 75000/556591 queries. users per second: 17603.7"
      ]
     },
     "metadata": {},
     "output_type": "display_data"
    },
    {
     "data": {
      "text/html": [
       "<pre>recommendations finished on 76000/556591 queries. users per second: 17590.2</pre>"
      ],
      "text/plain": [
       "recommendations finished on 76000/556591 queries. users per second: 17590.2"
      ]
     },
     "metadata": {},
     "output_type": "display_data"
    },
    {
     "data": {
      "text/html": [
       "<pre>recommendations finished on 77000/556591 queries. users per second: 17594</pre>"
      ],
      "text/plain": [
       "recommendations finished on 77000/556591 queries. users per second: 17594"
      ]
     },
     "metadata": {},
     "output_type": "display_data"
    },
    {
     "data": {
      "text/html": [
       "<pre>recommendations finished on 78000/556591 queries. users per second: 17593.8</pre>"
      ],
      "text/plain": [
       "recommendations finished on 78000/556591 queries. users per second: 17593.8"
      ]
     },
     "metadata": {},
     "output_type": "display_data"
    },
    {
     "data": {
      "text/html": [
       "<pre>recommendations finished on 79000/556591 queries. users per second: 17580.7</pre>"
      ],
      "text/plain": [
       "recommendations finished on 79000/556591 queries. users per second: 17580.7"
      ]
     },
     "metadata": {},
     "output_type": "display_data"
    },
    {
     "data": {
      "text/html": [
       "<pre>recommendations finished on 80000/556591 queries. users per second: 17556</pre>"
      ],
      "text/plain": [
       "recommendations finished on 80000/556591 queries. users per second: 17556"
      ]
     },
     "metadata": {},
     "output_type": "display_data"
    },
    {
     "data": {
      "text/html": [
       "<pre>recommendations finished on 81000/556591 queries. users per second: 17548.4</pre>"
      ],
      "text/plain": [
       "recommendations finished on 81000/556591 queries. users per second: 17548.4"
      ]
     },
     "metadata": {},
     "output_type": "display_data"
    },
    {
     "data": {
      "text/html": [
       "<pre>recommendations finished on 82000/556591 queries. users per second: 17542.3</pre>"
      ],
      "text/plain": [
       "recommendations finished on 82000/556591 queries. users per second: 17542.3"
      ]
     },
     "metadata": {},
     "output_type": "display_data"
    },
    {
     "data": {
      "text/html": [
       "<pre>recommendations finished on 83000/556591 queries. users per second: 17515.2</pre>"
      ],
      "text/plain": [
       "recommendations finished on 83000/556591 queries. users per second: 17515.2"
      ]
     },
     "metadata": {},
     "output_type": "display_data"
    },
    {
     "data": {
      "text/html": [
       "<pre>recommendations finished on 84000/556591 queries. users per second: 17504</pre>"
      ],
      "text/plain": [
       "recommendations finished on 84000/556591 queries. users per second: 17504"
      ]
     },
     "metadata": {},
     "output_type": "display_data"
    },
    {
     "data": {
      "text/html": [
       "<pre>recommendations finished on 85000/556591 queries. users per second: 17500.6</pre>"
      ],
      "text/plain": [
       "recommendations finished on 85000/556591 queries. users per second: 17500.6"
      ]
     },
     "metadata": {},
     "output_type": "display_data"
    },
    {
     "data": {
      "text/html": [
       "<pre>recommendations finished on 86000/556591 queries. users per second: 17482.3</pre>"
      ],
      "text/plain": [
       "recommendations finished on 86000/556591 queries. users per second: 17482.3"
      ]
     },
     "metadata": {},
     "output_type": "display_data"
    },
    {
     "data": {
      "text/html": [
       "<pre>recommendations finished on 87000/556591 queries. users per second: 17506</pre>"
      ],
      "text/plain": [
       "recommendations finished on 87000/556591 queries. users per second: 17506"
      ]
     },
     "metadata": {},
     "output_type": "display_data"
    },
    {
     "data": {
      "text/html": [
       "<pre>recommendations finished on 88000/556591 queries. users per second: 17513</pre>"
      ],
      "text/plain": [
       "recommendations finished on 88000/556591 queries. users per second: 17513"
      ]
     },
     "metadata": {},
     "output_type": "display_data"
    },
    {
     "data": {
      "text/html": [
       "<pre>recommendations finished on 89000/556591 queries. users per second: 17495.7</pre>"
      ],
      "text/plain": [
       "recommendations finished on 89000/556591 queries. users per second: 17495.7"
      ]
     },
     "metadata": {},
     "output_type": "display_data"
    },
    {
     "data": {
      "text/html": [
       "<pre>recommendations finished on 90000/556591 queries. users per second: 17481.8</pre>"
      ],
      "text/plain": [
       "recommendations finished on 90000/556591 queries. users per second: 17481.8"
      ]
     },
     "metadata": {},
     "output_type": "display_data"
    },
    {
     "data": {
      "text/html": [
       "<pre>recommendations finished on 91000/556591 queries. users per second: 17478</pre>"
      ],
      "text/plain": [
       "recommendations finished on 91000/556591 queries. users per second: 17478"
      ]
     },
     "metadata": {},
     "output_type": "display_data"
    },
    {
     "data": {
      "text/html": [
       "<pre>recommendations finished on 92000/556591 queries. users per second: 17454.8</pre>"
      ],
      "text/plain": [
       "recommendations finished on 92000/556591 queries. users per second: 17454.8"
      ]
     },
     "metadata": {},
     "output_type": "display_data"
    },
    {
     "data": {
      "text/html": [
       "<pre>recommendations finished on 93000/556591 queries. users per second: 17445.8</pre>"
      ],
      "text/plain": [
       "recommendations finished on 93000/556591 queries. users per second: 17445.8"
      ]
     },
     "metadata": {},
     "output_type": "display_data"
    },
    {
     "data": {
      "text/html": [
       "<pre>recommendations finished on 94000/556591 queries. users per second: 17445</pre>"
      ],
      "text/plain": [
       "recommendations finished on 94000/556591 queries. users per second: 17445"
      ]
     },
     "metadata": {},
     "output_type": "display_data"
    },
    {
     "data": {
      "text/html": [
       "<pre>recommendations finished on 95000/556591 queries. users per second: 17449.3</pre>"
      ],
      "text/plain": [
       "recommendations finished on 95000/556591 queries. users per second: 17449.3"
      ]
     },
     "metadata": {},
     "output_type": "display_data"
    },
    {
     "data": {
      "text/html": [
       "<pre>recommendations finished on 96000/556591 queries. users per second: 17456.4</pre>"
      ],
      "text/plain": [
       "recommendations finished on 96000/556591 queries. users per second: 17456.4"
      ]
     },
     "metadata": {},
     "output_type": "display_data"
    },
    {
     "data": {
      "text/html": [
       "<pre>recommendations finished on 97000/556591 queries. users per second: 17471.3</pre>"
      ],
      "text/plain": [
       "recommendations finished on 97000/556591 queries. users per second: 17471.3"
      ]
     },
     "metadata": {},
     "output_type": "display_data"
    },
    {
     "data": {
      "text/html": [
       "<pre>recommendations finished on 98000/556591 queries. users per second: 17475</pre>"
      ],
      "text/plain": [
       "recommendations finished on 98000/556591 queries. users per second: 17475"
      ]
     },
     "metadata": {},
     "output_type": "display_data"
    },
    {
     "data": {
      "text/html": [
       "<pre>recommendations finished on 99000/556591 queries. users per second: 17477</pre>"
      ],
      "text/plain": [
       "recommendations finished on 99000/556591 queries. users per second: 17477"
      ]
     },
     "metadata": {},
     "output_type": "display_data"
    },
    {
     "data": {
      "text/html": [
       "<pre>recommendations finished on 100000/556591 queries. users per second: 17482</pre>"
      ],
      "text/plain": [
       "recommendations finished on 100000/556591 queries. users per second: 17482"
      ]
     },
     "metadata": {},
     "output_type": "display_data"
    },
    {
     "data": {
      "text/html": [
       "<pre>recommendations finished on 101000/556591 queries. users per second: 17481.8</pre>"
      ],
      "text/plain": [
       "recommendations finished on 101000/556591 queries. users per second: 17481.8"
      ]
     },
     "metadata": {},
     "output_type": "display_data"
    },
    {
     "data": {
      "text/html": [
       "<pre>recommendations finished on 102000/556591 queries. users per second: 17510.3</pre>"
      ],
      "text/plain": [
       "recommendations finished on 102000/556591 queries. users per second: 17510.3"
      ]
     },
     "metadata": {},
     "output_type": "display_data"
    },
    {
     "data": {
      "text/html": [
       "<pre>recommendations finished on 103000/556591 queries. users per second: 17525.2</pre>"
      ],
      "text/plain": [
       "recommendations finished on 103000/556591 queries. users per second: 17525.2"
      ]
     },
     "metadata": {},
     "output_type": "display_data"
    },
    {
     "data": {
      "text/html": [
       "<pre>recommendations finished on 104000/556591 queries. users per second: 17524.6</pre>"
      ],
      "text/plain": [
       "recommendations finished on 104000/556591 queries. users per second: 17524.6"
      ]
     },
     "metadata": {},
     "output_type": "display_data"
    },
    {
     "data": {
      "text/html": [
       "<pre>recommendations finished on 105000/556591 queries. users per second: 17525.4</pre>"
      ],
      "text/plain": [
       "recommendations finished on 105000/556591 queries. users per second: 17525.4"
      ]
     },
     "metadata": {},
     "output_type": "display_data"
    },
    {
     "data": {
      "text/html": [
       "<pre>recommendations finished on 106000/556591 queries. users per second: 17529.9</pre>"
      ],
      "text/plain": [
       "recommendations finished on 106000/556591 queries. users per second: 17529.9"
      ]
     },
     "metadata": {},
     "output_type": "display_data"
    },
    {
     "data": {
      "text/html": [
       "<pre>recommendations finished on 107000/556591 queries. users per second: 17554.9</pre>"
      ],
      "text/plain": [
       "recommendations finished on 107000/556591 queries. users per second: 17554.9"
      ]
     },
     "metadata": {},
     "output_type": "display_data"
    },
    {
     "data": {
      "text/html": [
       "<pre>recommendations finished on 108000/556591 queries. users per second: 17559.2</pre>"
      ],
      "text/plain": [
       "recommendations finished on 108000/556591 queries. users per second: 17559.2"
      ]
     },
     "metadata": {},
     "output_type": "display_data"
    },
    {
     "data": {
      "text/html": [
       "<pre>recommendations finished on 109000/556591 queries. users per second: 17572.4</pre>"
      ],
      "text/plain": [
       "recommendations finished on 109000/556591 queries. users per second: 17572.4"
      ]
     },
     "metadata": {},
     "output_type": "display_data"
    },
    {
     "data": {
      "text/html": [
       "<pre>recommendations finished on 110000/556591 queries. users per second: 17572.4</pre>"
      ],
      "text/plain": [
       "recommendations finished on 110000/556591 queries. users per second: 17572.4"
      ]
     },
     "metadata": {},
     "output_type": "display_data"
    },
    {
     "data": {
      "text/html": [
       "<pre>recommendations finished on 111000/556591 queries. users per second: 17569.7</pre>"
      ],
      "text/plain": [
       "recommendations finished on 111000/556591 queries. users per second: 17569.7"
      ]
     },
     "metadata": {},
     "output_type": "display_data"
    },
    {
     "data": {
      "text/html": [
       "<pre>recommendations finished on 112000/556591 queries. users per second: 17567.3</pre>"
      ],
      "text/plain": [
       "recommendations finished on 112000/556591 queries. users per second: 17567.3"
      ]
     },
     "metadata": {},
     "output_type": "display_data"
    },
    {
     "data": {
      "text/html": [
       "<pre>recommendations finished on 113000/556591 queries. users per second: 17572.2</pre>"
      ],
      "text/plain": [
       "recommendations finished on 113000/556591 queries. users per second: 17572.2"
      ]
     },
     "metadata": {},
     "output_type": "display_data"
    },
    {
     "data": {
      "text/html": [
       "<pre>recommendations finished on 114000/556591 queries. users per second: 17578.5</pre>"
      ],
      "text/plain": [
       "recommendations finished on 114000/556591 queries. users per second: 17578.5"
      ]
     },
     "metadata": {},
     "output_type": "display_data"
    },
    {
     "data": {
      "text/html": [
       "<pre>recommendations finished on 115000/556591 queries. users per second: 17526.3</pre>"
      ],
      "text/plain": [
       "recommendations finished on 115000/556591 queries. users per second: 17526.3"
      ]
     },
     "metadata": {},
     "output_type": "display_data"
    },
    {
     "data": {
      "text/html": [
       "<pre>recommendations finished on 116000/556591 queries. users per second: 17475.8</pre>"
      ],
      "text/plain": [
       "recommendations finished on 116000/556591 queries. users per second: 17475.8"
      ]
     },
     "metadata": {},
     "output_type": "display_data"
    },
    {
     "data": {
      "text/html": [
       "<pre>recommendations finished on 117000/556591 queries. users per second: 17466.7</pre>"
      ],
      "text/plain": [
       "recommendations finished on 117000/556591 queries. users per second: 17466.7"
      ]
     },
     "metadata": {},
     "output_type": "display_data"
    },
    {
     "data": {
      "text/html": [
       "<pre>recommendations finished on 118000/556591 queries. users per second: 17466.1</pre>"
      ],
      "text/plain": [
       "recommendations finished on 118000/556591 queries. users per second: 17466.1"
      ]
     },
     "metadata": {},
     "output_type": "display_data"
    },
    {
     "data": {
      "text/html": [
       "<pre>recommendations finished on 119000/556591 queries. users per second: 17485.5</pre>"
      ],
      "text/plain": [
       "recommendations finished on 119000/556591 queries. users per second: 17485.5"
      ]
     },
     "metadata": {},
     "output_type": "display_data"
    },
    {
     "data": {
      "text/html": [
       "<pre>recommendations finished on 120000/556591 queries. users per second: 17518.1</pre>"
      ],
      "text/plain": [
       "recommendations finished on 120000/556591 queries. users per second: 17518.1"
      ]
     },
     "metadata": {},
     "output_type": "display_data"
    },
    {
     "data": {
      "text/html": [
       "<pre>recommendations finished on 121000/556591 queries. users per second: 17546.4</pre>"
      ],
      "text/plain": [
       "recommendations finished on 121000/556591 queries. users per second: 17546.4"
      ]
     },
     "metadata": {},
     "output_type": "display_data"
    },
    {
     "data": {
      "text/html": [
       "<pre>recommendations finished on 122000/556591 queries. users per second: 17564.1</pre>"
      ],
      "text/plain": [
       "recommendations finished on 122000/556591 queries. users per second: 17564.1"
      ]
     },
     "metadata": {},
     "output_type": "display_data"
    },
    {
     "data": {
      "text/html": [
       "<pre>recommendations finished on 123000/556591 queries. users per second: 17575.4</pre>"
      ],
      "text/plain": [
       "recommendations finished on 123000/556591 queries. users per second: 17575.4"
      ]
     },
     "metadata": {},
     "output_type": "display_data"
    },
    {
     "data": {
      "text/html": [
       "<pre>recommendations finished on 124000/556591 queries. users per second: 17570.5</pre>"
      ],
      "text/plain": [
       "recommendations finished on 124000/556591 queries. users per second: 17570.5"
      ]
     },
     "metadata": {},
     "output_type": "display_data"
    },
    {
     "data": {
      "text/html": [
       "<pre>recommendations finished on 125000/556591 queries. users per second: 17570.8</pre>"
      ],
      "text/plain": [
       "recommendations finished on 125000/556591 queries. users per second: 17570.8"
      ]
     },
     "metadata": {},
     "output_type": "display_data"
    },
    {
     "data": {
      "text/html": [
       "<pre>recommendations finished on 126000/556591 queries. users per second: 17571.6</pre>"
      ],
      "text/plain": [
       "recommendations finished on 126000/556591 queries. users per second: 17571.6"
      ]
     },
     "metadata": {},
     "output_type": "display_data"
    },
    {
     "data": {
      "text/html": [
       "<pre>recommendations finished on 127000/556591 queries. users per second: 17579.1</pre>"
      ],
      "text/plain": [
       "recommendations finished on 127000/556591 queries. users per second: 17579.1"
      ]
     },
     "metadata": {},
     "output_type": "display_data"
    },
    {
     "data": {
      "text/html": [
       "<pre>recommendations finished on 128000/556591 queries. users per second: 17572.1</pre>"
      ],
      "text/plain": [
       "recommendations finished on 128000/556591 queries. users per second: 17572.1"
      ]
     },
     "metadata": {},
     "output_type": "display_data"
    },
    {
     "data": {
      "text/html": [
       "<pre>recommendations finished on 129000/556591 queries. users per second: 17550.1</pre>"
      ],
      "text/plain": [
       "recommendations finished on 129000/556591 queries. users per second: 17550.1"
      ]
     },
     "metadata": {},
     "output_type": "display_data"
    },
    {
     "data": {
      "text/html": [
       "<pre>recommendations finished on 130000/556591 queries. users per second: 17548.6</pre>"
      ],
      "text/plain": [
       "recommendations finished on 130000/556591 queries. users per second: 17548.6"
      ]
     },
     "metadata": {},
     "output_type": "display_data"
    },
    {
     "data": {
      "text/html": [
       "<pre>recommendations finished on 131000/556591 queries. users per second: 17549.1</pre>"
      ],
      "text/plain": [
       "recommendations finished on 131000/556591 queries. users per second: 17549.1"
      ]
     },
     "metadata": {},
     "output_type": "display_data"
    },
    {
     "data": {
      "text/html": [
       "<pre>recommendations finished on 132000/556591 queries. users per second: 17551.3</pre>"
      ],
      "text/plain": [
       "recommendations finished on 132000/556591 queries. users per second: 17551.3"
      ]
     },
     "metadata": {},
     "output_type": "display_data"
    },
    {
     "data": {
      "text/html": [
       "<pre>recommendations finished on 133000/556591 queries. users per second: 17546.5</pre>"
      ],
      "text/plain": [
       "recommendations finished on 133000/556591 queries. users per second: 17546.5"
      ]
     },
     "metadata": {},
     "output_type": "display_data"
    },
    {
     "data": {
      "text/html": [
       "<pre>recommendations finished on 134000/556591 queries. users per second: 17531.8</pre>"
      ],
      "text/plain": [
       "recommendations finished on 134000/556591 queries. users per second: 17531.8"
      ]
     },
     "metadata": {},
     "output_type": "display_data"
    },
    {
     "data": {
      "text/html": [
       "<pre>recommendations finished on 135000/556591 queries. users per second: 17531.7</pre>"
      ],
      "text/plain": [
       "recommendations finished on 135000/556591 queries. users per second: 17531.7"
      ]
     },
     "metadata": {},
     "output_type": "display_data"
    },
    {
     "data": {
      "text/html": [
       "<pre>recommendations finished on 136000/556591 queries. users per second: 17528</pre>"
      ],
      "text/plain": [
       "recommendations finished on 136000/556591 queries. users per second: 17528"
      ]
     },
     "metadata": {},
     "output_type": "display_data"
    },
    {
     "data": {
      "text/html": [
       "<pre>recommendations finished on 137000/556591 queries. users per second: 17545.5</pre>"
      ],
      "text/plain": [
       "recommendations finished on 137000/556591 queries. users per second: 17545.5"
      ]
     },
     "metadata": {},
     "output_type": "display_data"
    },
    {
     "data": {
      "text/html": [
       "<pre>recommendations finished on 138000/556591 queries. users per second: 17563.4</pre>"
      ],
      "text/plain": [
       "recommendations finished on 138000/556591 queries. users per second: 17563.4"
      ]
     },
     "metadata": {},
     "output_type": "display_data"
    },
    {
     "data": {
      "text/html": [
       "<pre>recommendations finished on 139000/556591 queries. users per second: 17590.2</pre>"
      ],
      "text/plain": [
       "recommendations finished on 139000/556591 queries. users per second: 17590.2"
      ]
     },
     "metadata": {},
     "output_type": "display_data"
    },
    {
     "data": {
      "text/html": [
       "<pre>recommendations finished on 140000/556591 queries. users per second: 17614.1</pre>"
      ],
      "text/plain": [
       "recommendations finished on 140000/556591 queries. users per second: 17614.1"
      ]
     },
     "metadata": {},
     "output_type": "display_data"
    },
    {
     "data": {
      "text/html": [
       "<pre>recommendations finished on 141000/556591 queries. users per second: 17639.9</pre>"
      ],
      "text/plain": [
       "recommendations finished on 141000/556591 queries. users per second: 17639.9"
      ]
     },
     "metadata": {},
     "output_type": "display_data"
    },
    {
     "data": {
      "text/html": [
       "<pre>recommendations finished on 142000/556591 queries. users per second: 17665.1</pre>"
      ],
      "text/plain": [
       "recommendations finished on 142000/556591 queries. users per second: 17665.1"
      ]
     },
     "metadata": {},
     "output_type": "display_data"
    },
    {
     "data": {
      "text/html": [
       "<pre>recommendations finished on 143000/556591 queries. users per second: 17690.6</pre>"
      ],
      "text/plain": [
       "recommendations finished on 143000/556591 queries. users per second: 17690.6"
      ]
     },
     "metadata": {},
     "output_type": "display_data"
    },
    {
     "data": {
      "text/html": [
       "<pre>recommendations finished on 144000/556591 queries. users per second: 17715.1</pre>"
      ],
      "text/plain": [
       "recommendations finished on 144000/556591 queries. users per second: 17715.1"
      ]
     },
     "metadata": {},
     "output_type": "display_data"
    },
    {
     "data": {
      "text/html": [
       "<pre>recommendations finished on 145000/556591 queries. users per second: 17720</pre>"
      ],
      "text/plain": [
       "recommendations finished on 145000/556591 queries. users per second: 17720"
      ]
     },
     "metadata": {},
     "output_type": "display_data"
    },
    {
     "data": {
      "text/html": [
       "<pre>recommendations finished on 146000/556591 queries. users per second: 17702.5</pre>"
      ],
      "text/plain": [
       "recommendations finished on 146000/556591 queries. users per second: 17702.5"
      ]
     },
     "metadata": {},
     "output_type": "display_data"
    },
    {
     "data": {
      "text/html": [
       "<pre>recommendations finished on 147000/556591 queries. users per second: 17706.9</pre>"
      ],
      "text/plain": [
       "recommendations finished on 147000/556591 queries. users per second: 17706.9"
      ]
     },
     "metadata": {},
     "output_type": "display_data"
    },
    {
     "data": {
      "text/html": [
       "<pre>recommendations finished on 148000/556591 queries. users per second: 17730.4</pre>"
      ],
      "text/plain": [
       "recommendations finished on 148000/556591 queries. users per second: 17730.4"
      ]
     },
     "metadata": {},
     "output_type": "display_data"
    },
    {
     "data": {
      "text/html": [
       "<pre>recommendations finished on 149000/556591 queries. users per second: 17756.6</pre>"
      ],
      "text/plain": [
       "recommendations finished on 149000/556591 queries. users per second: 17756.6"
      ]
     },
     "metadata": {},
     "output_type": "display_data"
    },
    {
     "data": {
      "text/html": [
       "<pre>recommendations finished on 150000/556591 queries. users per second: 17768.1</pre>"
      ],
      "text/plain": [
       "recommendations finished on 150000/556591 queries. users per second: 17768.1"
      ]
     },
     "metadata": {},
     "output_type": "display_data"
    },
    {
     "data": {
      "text/html": [
       "<pre>recommendations finished on 151000/556591 queries. users per second: 17770</pre>"
      ],
      "text/plain": [
       "recommendations finished on 151000/556591 queries. users per second: 17770"
      ]
     },
     "metadata": {},
     "output_type": "display_data"
    },
    {
     "data": {
      "text/html": [
       "<pre>recommendations finished on 152000/556591 queries. users per second: 17678.6</pre>"
      ],
      "text/plain": [
       "recommendations finished on 152000/556591 queries. users per second: 17678.6"
      ]
     },
     "metadata": {},
     "output_type": "display_data"
    },
    {
     "data": {
      "text/html": [
       "<pre>recommendations finished on 153000/556591 queries. users per second: 17655.9</pre>"
      ],
      "text/plain": [
       "recommendations finished on 153000/556591 queries. users per second: 17655.9"
      ]
     },
     "metadata": {},
     "output_type": "display_data"
    },
    {
     "data": {
      "text/html": [
       "<pre>recommendations finished on 154000/556591 queries. users per second: 17649.1</pre>"
      ],
      "text/plain": [
       "recommendations finished on 154000/556591 queries. users per second: 17649.1"
      ]
     },
     "metadata": {},
     "output_type": "display_data"
    },
    {
     "data": {
      "text/html": [
       "<pre>recommendations finished on 155000/556591 queries. users per second: 17651.6</pre>"
      ],
      "text/plain": [
       "recommendations finished on 155000/556591 queries. users per second: 17651.6"
      ]
     },
     "metadata": {},
     "output_type": "display_data"
    },
    {
     "data": {
      "text/html": [
       "<pre>recommendations finished on 156000/556591 queries. users per second: 17655.3</pre>"
      ],
      "text/plain": [
       "recommendations finished on 156000/556591 queries. users per second: 17655.3"
      ]
     },
     "metadata": {},
     "output_type": "display_data"
    },
    {
     "data": {
      "text/html": [
       "<pre>recommendations finished on 157000/556591 queries. users per second: 17643.9</pre>"
      ],
      "text/plain": [
       "recommendations finished on 157000/556591 queries. users per second: 17643.9"
      ]
     },
     "metadata": {},
     "output_type": "display_data"
    },
    {
     "data": {
      "text/html": [
       "<pre>recommendations finished on 158000/556591 queries. users per second: 17616.5</pre>"
      ],
      "text/plain": [
       "recommendations finished on 158000/556591 queries. users per second: 17616.5"
      ]
     },
     "metadata": {},
     "output_type": "display_data"
    },
    {
     "data": {
      "text/html": [
       "<pre>recommendations finished on 159000/556591 queries. users per second: 17567.2</pre>"
      ],
      "text/plain": [
       "recommendations finished on 159000/556591 queries. users per second: 17567.2"
      ]
     },
     "metadata": {},
     "output_type": "display_data"
    },
    {
     "data": {
      "text/html": [
       "<pre>recommendations finished on 160000/556591 queries. users per second: 17535.1</pre>"
      ],
      "text/plain": [
       "recommendations finished on 160000/556591 queries. users per second: 17535.1"
      ]
     },
     "metadata": {},
     "output_type": "display_data"
    },
    {
     "data": {
      "text/html": [
       "<pre>recommendations finished on 161000/556591 queries. users per second: 17515.9</pre>"
      ],
      "text/plain": [
       "recommendations finished on 161000/556591 queries. users per second: 17515.9"
      ]
     },
     "metadata": {},
     "output_type": "display_data"
    },
    {
     "data": {
      "text/html": [
       "<pre>recommendations finished on 162000/556591 queries. users per second: 17495.5</pre>"
      ],
      "text/plain": [
       "recommendations finished on 162000/556591 queries. users per second: 17495.5"
      ]
     },
     "metadata": {},
     "output_type": "display_data"
    },
    {
     "data": {
      "text/html": [
       "<pre>recommendations finished on 163000/556591 queries. users per second: 17457.1</pre>"
      ],
      "text/plain": [
       "recommendations finished on 163000/556591 queries. users per second: 17457.1"
      ]
     },
     "metadata": {},
     "output_type": "display_data"
    },
    {
     "data": {
      "text/html": [
       "<pre>recommendations finished on 164000/556591 queries. users per second: 17439.4</pre>"
      ],
      "text/plain": [
       "recommendations finished on 164000/556591 queries. users per second: 17439.4"
      ]
     },
     "metadata": {},
     "output_type": "display_data"
    },
    {
     "data": {
      "text/html": [
       "<pre>recommendations finished on 165000/556591 queries. users per second: 17438.4</pre>"
      ],
      "text/plain": [
       "recommendations finished on 165000/556591 queries. users per second: 17438.4"
      ]
     },
     "metadata": {},
     "output_type": "display_data"
    },
    {
     "data": {
      "text/html": [
       "<pre>recommendations finished on 166000/556591 queries. users per second: 17445.6</pre>"
      ],
      "text/plain": [
       "recommendations finished on 166000/556591 queries. users per second: 17445.6"
      ]
     },
     "metadata": {},
     "output_type": "display_data"
    },
    {
     "data": {
      "text/html": [
       "<pre>recommendations finished on 167000/556591 queries. users per second: 17451.2</pre>"
      ],
      "text/plain": [
       "recommendations finished on 167000/556591 queries. users per second: 17451.2"
      ]
     },
     "metadata": {},
     "output_type": "display_data"
    },
    {
     "data": {
      "text/html": [
       "<pre>recommendations finished on 168000/556591 queries. users per second: 17447.1</pre>"
      ],
      "text/plain": [
       "recommendations finished on 168000/556591 queries. users per second: 17447.1"
      ]
     },
     "metadata": {},
     "output_type": "display_data"
    },
    {
     "data": {
      "text/html": [
       "<pre>recommendations finished on 169000/556591 queries. users per second: 17447.9</pre>"
      ],
      "text/plain": [
       "recommendations finished on 169000/556591 queries. users per second: 17447.9"
      ]
     },
     "metadata": {},
     "output_type": "display_data"
    },
    {
     "data": {
      "text/html": [
       "<pre>recommendations finished on 170000/556591 queries. users per second: 17447.6</pre>"
      ],
      "text/plain": [
       "recommendations finished on 170000/556591 queries. users per second: 17447.6"
      ]
     },
     "metadata": {},
     "output_type": "display_data"
    },
    {
     "data": {
      "text/html": [
       "<pre>recommendations finished on 171000/556591 queries. users per second: 17449.7</pre>"
      ],
      "text/plain": [
       "recommendations finished on 171000/556591 queries. users per second: 17449.7"
      ]
     },
     "metadata": {},
     "output_type": "display_data"
    },
    {
     "data": {
      "text/html": [
       "<pre>recommendations finished on 172000/556591 queries. users per second: 17454.2</pre>"
      ],
      "text/plain": [
       "recommendations finished on 172000/556591 queries. users per second: 17454.2"
      ]
     },
     "metadata": {},
     "output_type": "display_data"
    },
    {
     "data": {
      "text/html": [
       "<pre>recommendations finished on 173000/556591 queries. users per second: 17449.3</pre>"
      ],
      "text/plain": [
       "recommendations finished on 173000/556591 queries. users per second: 17449.3"
      ]
     },
     "metadata": {},
     "output_type": "display_data"
    },
    {
     "data": {
      "text/html": [
       "<pre>recommendations finished on 174000/556591 queries. users per second: 17442.6</pre>"
      ],
      "text/plain": [
       "recommendations finished on 174000/556591 queries. users per second: 17442.6"
      ]
     },
     "metadata": {},
     "output_type": "display_data"
    },
    {
     "data": {
      "text/html": [
       "<pre>recommendations finished on 175000/556591 queries. users per second: 17435.7</pre>"
      ],
      "text/plain": [
       "recommendations finished on 175000/556591 queries. users per second: 17435.7"
      ]
     },
     "metadata": {},
     "output_type": "display_data"
    },
    {
     "data": {
      "text/html": [
       "<pre>recommendations finished on 176000/556591 queries. users per second: 17434.5</pre>"
      ],
      "text/plain": [
       "recommendations finished on 176000/556591 queries. users per second: 17434.5"
      ]
     },
     "metadata": {},
     "output_type": "display_data"
    },
    {
     "data": {
      "text/html": [
       "<pre>recommendations finished on 177000/556591 queries. users per second: 17446.2</pre>"
      ],
      "text/plain": [
       "recommendations finished on 177000/556591 queries. users per second: 17446.2"
      ]
     },
     "metadata": {},
     "output_type": "display_data"
    },
    {
     "data": {
      "text/html": [
       "<pre>recommendations finished on 178000/556591 queries. users per second: 17460.8</pre>"
      ],
      "text/plain": [
       "recommendations finished on 178000/556591 queries. users per second: 17460.8"
      ]
     },
     "metadata": {},
     "output_type": "display_data"
    },
    {
     "data": {
      "text/html": [
       "<pre>recommendations finished on 179000/556591 queries. users per second: 17480.1</pre>"
      ],
      "text/plain": [
       "recommendations finished on 179000/556591 queries. users per second: 17480.1"
      ]
     },
     "metadata": {},
     "output_type": "display_data"
    },
    {
     "data": {
      "text/html": [
       "<pre>recommendations finished on 180000/556591 queries. users per second: 17500.2</pre>"
      ],
      "text/plain": [
       "recommendations finished on 180000/556591 queries. users per second: 17500.2"
      ]
     },
     "metadata": {},
     "output_type": "display_data"
    },
    {
     "data": {
      "text/html": [
       "<pre>recommendations finished on 181000/556591 queries. users per second: 17517.6</pre>"
      ],
      "text/plain": [
       "recommendations finished on 181000/556591 queries. users per second: 17517.6"
      ]
     },
     "metadata": {},
     "output_type": "display_data"
    },
    {
     "data": {
      "text/html": [
       "<pre>recommendations finished on 182000/556591 queries. users per second: 17534.1</pre>"
      ],
      "text/plain": [
       "recommendations finished on 182000/556591 queries. users per second: 17534.1"
      ]
     },
     "metadata": {},
     "output_type": "display_data"
    },
    {
     "data": {
      "text/html": [
       "<pre>recommendations finished on 183000/556591 queries. users per second: 17546.4</pre>"
      ],
      "text/plain": [
       "recommendations finished on 183000/556591 queries. users per second: 17546.4"
      ]
     },
     "metadata": {},
     "output_type": "display_data"
    },
    {
     "data": {
      "text/html": [
       "<pre>recommendations finished on 184000/556591 queries. users per second: 17552.3</pre>"
      ],
      "text/plain": [
       "recommendations finished on 184000/556591 queries. users per second: 17552.3"
      ]
     },
     "metadata": {},
     "output_type": "display_data"
    },
    {
     "data": {
      "text/html": [
       "<pre>recommendations finished on 185000/556591 queries. users per second: 17557</pre>"
      ],
      "text/plain": [
       "recommendations finished on 185000/556591 queries. users per second: 17557"
      ]
     },
     "metadata": {},
     "output_type": "display_data"
    },
    {
     "data": {
      "text/html": [
       "<pre>recommendations finished on 186000/556591 queries. users per second: 17550.4</pre>"
      ],
      "text/plain": [
       "recommendations finished on 186000/556591 queries. users per second: 17550.4"
      ]
     },
     "metadata": {},
     "output_type": "display_data"
    },
    {
     "data": {
      "text/html": [
       "<pre>recommendations finished on 187000/556591 queries. users per second: 17547.2</pre>"
      ],
      "text/plain": [
       "recommendations finished on 187000/556591 queries. users per second: 17547.2"
      ]
     },
     "metadata": {},
     "output_type": "display_data"
    },
    {
     "data": {
      "text/html": [
       "<pre>recommendations finished on 188000/556591 queries. users per second: 17552.7</pre>"
      ],
      "text/plain": [
       "recommendations finished on 188000/556591 queries. users per second: 17552.7"
      ]
     },
     "metadata": {},
     "output_type": "display_data"
    },
    {
     "data": {
      "text/html": [
       "<pre>recommendations finished on 189000/556591 queries. users per second: 17560.6</pre>"
      ],
      "text/plain": [
       "recommendations finished on 189000/556591 queries. users per second: 17560.6"
      ]
     },
     "metadata": {},
     "output_type": "display_data"
    },
    {
     "data": {
      "text/html": [
       "<pre>recommendations finished on 190000/556591 queries. users per second: 17567.5</pre>"
      ],
      "text/plain": [
       "recommendations finished on 190000/556591 queries. users per second: 17567.5"
      ]
     },
     "metadata": {},
     "output_type": "display_data"
    },
    {
     "data": {
      "text/html": [
       "<pre>recommendations finished on 191000/556591 queries. users per second: 17573.9</pre>"
      ],
      "text/plain": [
       "recommendations finished on 191000/556591 queries. users per second: 17573.9"
      ]
     },
     "metadata": {},
     "output_type": "display_data"
    },
    {
     "data": {
      "text/html": [
       "<pre>recommendations finished on 192000/556591 queries. users per second: 17580.2</pre>"
      ],
      "text/plain": [
       "recommendations finished on 192000/556591 queries. users per second: 17580.2"
      ]
     },
     "metadata": {},
     "output_type": "display_data"
    },
    {
     "data": {
      "text/html": [
       "<pre>recommendations finished on 193000/556591 queries. users per second: 17585.8</pre>"
      ],
      "text/plain": [
       "recommendations finished on 193000/556591 queries. users per second: 17585.8"
      ]
     },
     "metadata": {},
     "output_type": "display_data"
    },
    {
     "data": {
      "text/html": [
       "<pre>recommendations finished on 194000/556591 queries. users per second: 17585.6</pre>"
      ],
      "text/plain": [
       "recommendations finished on 194000/556591 queries. users per second: 17585.6"
      ]
     },
     "metadata": {},
     "output_type": "display_data"
    },
    {
     "data": {
      "text/html": [
       "<pre>recommendations finished on 195000/556591 queries. users per second: 17561.7</pre>"
      ],
      "text/plain": [
       "recommendations finished on 195000/556591 queries. users per second: 17561.7"
      ]
     },
     "metadata": {},
     "output_type": "display_data"
    },
    {
     "data": {
      "text/html": [
       "<pre>recommendations finished on 196000/556591 queries. users per second: 17532</pre>"
      ],
      "text/plain": [
       "recommendations finished on 196000/556591 queries. users per second: 17532"
      ]
     },
     "metadata": {},
     "output_type": "display_data"
    },
    {
     "data": {
      "text/html": [
       "<pre>recommendations finished on 197000/556591 queries. users per second: 17514.5</pre>"
      ],
      "text/plain": [
       "recommendations finished on 197000/556591 queries. users per second: 17514.5"
      ]
     },
     "metadata": {},
     "output_type": "display_data"
    },
    {
     "data": {
      "text/html": [
       "<pre>recommendations finished on 198000/556591 queries. users per second: 17504.4</pre>"
      ],
      "text/plain": [
       "recommendations finished on 198000/556591 queries. users per second: 17504.4"
      ]
     },
     "metadata": {},
     "output_type": "display_data"
    },
    {
     "data": {
      "text/html": [
       "<pre>recommendations finished on 199000/556591 queries. users per second: 17499.1</pre>"
      ],
      "text/plain": [
       "recommendations finished on 199000/556591 queries. users per second: 17499.1"
      ]
     },
     "metadata": {},
     "output_type": "display_data"
    },
    {
     "data": {
      "text/html": [
       "<pre>recommendations finished on 200000/556591 queries. users per second: 17501</pre>"
      ],
      "text/plain": [
       "recommendations finished on 200000/556591 queries. users per second: 17501"
      ]
     },
     "metadata": {},
     "output_type": "display_data"
    },
    {
     "data": {
      "text/html": [
       "<pre>recommendations finished on 201000/556591 queries. users per second: 17485.6</pre>"
      ],
      "text/plain": [
       "recommendations finished on 201000/556591 queries. users per second: 17485.6"
      ]
     },
     "metadata": {},
     "output_type": "display_data"
    },
    {
     "data": {
      "text/html": [
       "<pre>recommendations finished on 202000/556591 queries. users per second: 17464</pre>"
      ],
      "text/plain": [
       "recommendations finished on 202000/556591 queries. users per second: 17464"
      ]
     },
     "metadata": {},
     "output_type": "display_data"
    },
    {
     "data": {
      "text/html": [
       "<pre>recommendations finished on 203000/556591 queries. users per second: 17459.4</pre>"
      ],
      "text/plain": [
       "recommendations finished on 203000/556591 queries. users per second: 17459.4"
      ]
     },
     "metadata": {},
     "output_type": "display_data"
    },
    {
     "data": {
      "text/html": [
       "<pre>recommendations finished on 204000/556591 queries. users per second: 17453.8</pre>"
      ],
      "text/plain": [
       "recommendations finished on 204000/556591 queries. users per second: 17453.8"
      ]
     },
     "metadata": {},
     "output_type": "display_data"
    },
    {
     "data": {
      "text/html": [
       "<pre>recommendations finished on 205000/556591 queries. users per second: 17452.5</pre>"
      ],
      "text/plain": [
       "recommendations finished on 205000/556591 queries. users per second: 17452.5"
      ]
     },
     "metadata": {},
     "output_type": "display_data"
    },
    {
     "data": {
      "text/html": [
       "<pre>recommendations finished on 206000/556591 queries. users per second: 17448.1</pre>"
      ],
      "text/plain": [
       "recommendations finished on 206000/556591 queries. users per second: 17448.1"
      ]
     },
     "metadata": {},
     "output_type": "display_data"
    },
    {
     "data": {
      "text/html": [
       "<pre>recommendations finished on 207000/556591 queries. users per second: 17451.5</pre>"
      ],
      "text/plain": [
       "recommendations finished on 207000/556591 queries. users per second: 17451.5"
      ]
     },
     "metadata": {},
     "output_type": "display_data"
    },
    {
     "data": {
      "text/html": [
       "<pre>recommendations finished on 208000/556591 queries. users per second: 17464.4</pre>"
      ],
      "text/plain": [
       "recommendations finished on 208000/556591 queries. users per second: 17464.4"
      ]
     },
     "metadata": {},
     "output_type": "display_data"
    },
    {
     "data": {
      "text/html": [
       "<pre>recommendations finished on 209000/556591 queries. users per second: 17472.7</pre>"
      ],
      "text/plain": [
       "recommendations finished on 209000/556591 queries. users per second: 17472.7"
      ]
     },
     "metadata": {},
     "output_type": "display_data"
    },
    {
     "data": {
      "text/html": [
       "<pre>recommendations finished on 210000/556591 queries. users per second: 17463.5</pre>"
      ],
      "text/plain": [
       "recommendations finished on 210000/556591 queries. users per second: 17463.5"
      ]
     },
     "metadata": {},
     "output_type": "display_data"
    },
    {
     "data": {
      "text/html": [
       "<pre>recommendations finished on 211000/556591 queries. users per second: 17456.9</pre>"
      ],
      "text/plain": [
       "recommendations finished on 211000/556591 queries. users per second: 17456.9"
      ]
     },
     "metadata": {},
     "output_type": "display_data"
    },
    {
     "data": {
      "text/html": [
       "<pre>recommendations finished on 212000/556591 queries. users per second: 17447.4</pre>"
      ],
      "text/plain": [
       "recommendations finished on 212000/556591 queries. users per second: 17447.4"
      ]
     },
     "metadata": {},
     "output_type": "display_data"
    },
    {
     "data": {
      "text/html": [
       "<pre>recommendations finished on 213000/556591 queries. users per second: 17434.8</pre>"
      ],
      "text/plain": [
       "recommendations finished on 213000/556591 queries. users per second: 17434.8"
      ]
     },
     "metadata": {},
     "output_type": "display_data"
    },
    {
     "data": {
      "text/html": [
       "<pre>recommendations finished on 214000/556591 queries. users per second: 17427.5</pre>"
      ],
      "text/plain": [
       "recommendations finished on 214000/556591 queries. users per second: 17427.5"
      ]
     },
     "metadata": {},
     "output_type": "display_data"
    },
    {
     "data": {
      "text/html": [
       "<pre>recommendations finished on 215000/556591 queries. users per second: 17421.8</pre>"
      ],
      "text/plain": [
       "recommendations finished on 215000/556591 queries. users per second: 17421.8"
      ]
     },
     "metadata": {},
     "output_type": "display_data"
    },
    {
     "data": {
      "text/html": [
       "<pre>recommendations finished on 216000/556591 queries. users per second: 17417.5</pre>"
      ],
      "text/plain": [
       "recommendations finished on 216000/556591 queries. users per second: 17417.5"
      ]
     },
     "metadata": {},
     "output_type": "display_data"
    },
    {
     "data": {
      "text/html": [
       "<pre>recommendations finished on 217000/556591 queries. users per second: 17415.5</pre>"
      ],
      "text/plain": [
       "recommendations finished on 217000/556591 queries. users per second: 17415.5"
      ]
     },
     "metadata": {},
     "output_type": "display_data"
    },
    {
     "data": {
      "text/html": [
       "<pre>recommendations finished on 218000/556591 queries. users per second: 17411.7</pre>"
      ],
      "text/plain": [
       "recommendations finished on 218000/556591 queries. users per second: 17411.7"
      ]
     },
     "metadata": {},
     "output_type": "display_data"
    },
    {
     "data": {
      "text/html": [
       "<pre>recommendations finished on 219000/556591 queries. users per second: 17418.5</pre>"
      ],
      "text/plain": [
       "recommendations finished on 219000/556591 queries. users per second: 17418.5"
      ]
     },
     "metadata": {},
     "output_type": "display_data"
    },
    {
     "data": {
      "text/html": [
       "<pre>recommendations finished on 220000/556591 queries. users per second: 17425.2</pre>"
      ],
      "text/plain": [
       "recommendations finished on 220000/556591 queries. users per second: 17425.2"
      ]
     },
     "metadata": {},
     "output_type": "display_data"
    },
    {
     "data": {
      "text/html": [
       "<pre>recommendations finished on 221000/556591 queries. users per second: 17431.5</pre>"
      ],
      "text/plain": [
       "recommendations finished on 221000/556591 queries. users per second: 17431.5"
      ]
     },
     "metadata": {},
     "output_type": "display_data"
    },
    {
     "data": {
      "text/html": [
       "<pre>recommendations finished on 222000/556591 queries. users per second: 17425.2</pre>"
      ],
      "text/plain": [
       "recommendations finished on 222000/556591 queries. users per second: 17425.2"
      ]
     },
     "metadata": {},
     "output_type": "display_data"
    },
    {
     "data": {
      "text/html": [
       "<pre>recommendations finished on 223000/556591 queries. users per second: 17429.1</pre>"
      ],
      "text/plain": [
       "recommendations finished on 223000/556591 queries. users per second: 17429.1"
      ]
     },
     "metadata": {},
     "output_type": "display_data"
    },
    {
     "data": {
      "text/html": [
       "<pre>recommendations finished on 224000/556591 queries. users per second: 17434.3</pre>"
      ],
      "text/plain": [
       "recommendations finished on 224000/556591 queries. users per second: 17434.3"
      ]
     },
     "metadata": {},
     "output_type": "display_data"
    },
    {
     "data": {
      "text/html": [
       "<pre>recommendations finished on 225000/556591 queries. users per second: 17440.2</pre>"
      ],
      "text/plain": [
       "recommendations finished on 225000/556591 queries. users per second: 17440.2"
      ]
     },
     "metadata": {},
     "output_type": "display_data"
    },
    {
     "data": {
      "text/html": [
       "<pre>recommendations finished on 226000/556591 queries. users per second: 17446.8</pre>"
      ],
      "text/plain": [
       "recommendations finished on 226000/556591 queries. users per second: 17446.8"
      ]
     },
     "metadata": {},
     "output_type": "display_data"
    },
    {
     "data": {
      "text/html": [
       "<pre>recommendations finished on 227000/556591 queries. users per second: 17455.2</pre>"
      ],
      "text/plain": [
       "recommendations finished on 227000/556591 queries. users per second: 17455.2"
      ]
     },
     "metadata": {},
     "output_type": "display_data"
    },
    {
     "data": {
      "text/html": [
       "<pre>recommendations finished on 228000/556591 queries. users per second: 17457.7</pre>"
      ],
      "text/plain": [
       "recommendations finished on 228000/556591 queries. users per second: 17457.7"
      ]
     },
     "metadata": {},
     "output_type": "display_data"
    },
    {
     "data": {
      "text/html": [
       "<pre>recommendations finished on 229000/556591 queries. users per second: 17458.9</pre>"
      ],
      "text/plain": [
       "recommendations finished on 229000/556591 queries. users per second: 17458.9"
      ]
     },
     "metadata": {},
     "output_type": "display_data"
    },
    {
     "data": {
      "text/html": [
       "<pre>recommendations finished on 230000/556591 queries. users per second: 17460.9</pre>"
      ],
      "text/plain": [
       "recommendations finished on 230000/556591 queries. users per second: 17460.9"
      ]
     },
     "metadata": {},
     "output_type": "display_data"
    },
    {
     "data": {
      "text/html": [
       "<pre>recommendations finished on 231000/556591 queries. users per second: 17463.5</pre>"
      ],
      "text/plain": [
       "recommendations finished on 231000/556591 queries. users per second: 17463.5"
      ]
     },
     "metadata": {},
     "output_type": "display_data"
    },
    {
     "data": {
      "text/html": [
       "<pre>recommendations finished on 232000/556591 queries. users per second: 17466.3</pre>"
      ],
      "text/plain": [
       "recommendations finished on 232000/556591 queries. users per second: 17466.3"
      ]
     },
     "metadata": {},
     "output_type": "display_data"
    },
    {
     "data": {
      "text/html": [
       "<pre>recommendations finished on 233000/556591 queries. users per second: 17472.7</pre>"
      ],
      "text/plain": [
       "recommendations finished on 233000/556591 queries. users per second: 17472.7"
      ]
     },
     "metadata": {},
     "output_type": "display_data"
    },
    {
     "data": {
      "text/html": [
       "<pre>recommendations finished on 234000/556591 queries. users per second: 17481</pre>"
      ],
      "text/plain": [
       "recommendations finished on 234000/556591 queries. users per second: 17481"
      ]
     },
     "metadata": {},
     "output_type": "display_data"
    },
    {
     "data": {
      "text/html": [
       "<pre>recommendations finished on 235000/556591 queries. users per second: 17488.7</pre>"
      ],
      "text/plain": [
       "recommendations finished on 235000/556591 queries. users per second: 17488.7"
      ]
     },
     "metadata": {},
     "output_type": "display_data"
    },
    {
     "data": {
      "text/html": [
       "<pre>recommendations finished on 236000/556591 queries. users per second: 17497.6</pre>"
      ],
      "text/plain": [
       "recommendations finished on 236000/556591 queries. users per second: 17497.6"
      ]
     },
     "metadata": {},
     "output_type": "display_data"
    },
    {
     "data": {
      "text/html": [
       "<pre>recommendations finished on 237000/556591 queries. users per second: 17508</pre>"
      ],
      "text/plain": [
       "recommendations finished on 237000/556591 queries. users per second: 17508"
      ]
     },
     "metadata": {},
     "output_type": "display_data"
    },
    {
     "data": {
      "text/html": [
       "<pre>recommendations finished on 238000/556591 queries. users per second: 17519.9</pre>"
      ],
      "text/plain": [
       "recommendations finished on 238000/556591 queries. users per second: 17519.9"
      ]
     },
     "metadata": {},
     "output_type": "display_data"
    },
    {
     "data": {
      "text/html": [
       "<pre>recommendations finished on 239000/556591 queries. users per second: 17531.5</pre>"
      ],
      "text/plain": [
       "recommendations finished on 239000/556591 queries. users per second: 17531.5"
      ]
     },
     "metadata": {},
     "output_type": "display_data"
    },
    {
     "data": {
      "text/html": [
       "<pre>recommendations finished on 240000/556591 queries. users per second: 17542.9</pre>"
      ],
      "text/plain": [
       "recommendations finished on 240000/556591 queries. users per second: 17542.9"
      ]
     },
     "metadata": {},
     "output_type": "display_data"
    },
    {
     "data": {
      "text/html": [
       "<pre>recommendations finished on 241000/556591 queries. users per second: 17554</pre>"
      ],
      "text/plain": [
       "recommendations finished on 241000/556591 queries. users per second: 17554"
      ]
     },
     "metadata": {},
     "output_type": "display_data"
    },
    {
     "data": {
      "text/html": [
       "<pre>recommendations finished on 242000/556591 queries. users per second: 17563.6</pre>"
      ],
      "text/plain": [
       "recommendations finished on 242000/556591 queries. users per second: 17563.6"
      ]
     },
     "metadata": {},
     "output_type": "display_data"
    },
    {
     "data": {
      "text/html": [
       "<pre>recommendations finished on 243000/556591 queries. users per second: 17569.8</pre>"
      ],
      "text/plain": [
       "recommendations finished on 243000/556591 queries. users per second: 17569.8"
      ]
     },
     "metadata": {},
     "output_type": "display_data"
    },
    {
     "data": {
      "text/html": [
       "<pre>recommendations finished on 244000/556591 queries. users per second: 17579.6</pre>"
      ],
      "text/plain": [
       "recommendations finished on 244000/556591 queries. users per second: 17579.6"
      ]
     },
     "metadata": {},
     "output_type": "display_data"
    },
    {
     "data": {
      "text/html": [
       "<pre>recommendations finished on 245000/556591 queries. users per second: 17591.2</pre>"
      ],
      "text/plain": [
       "recommendations finished on 245000/556591 queries. users per second: 17591.2"
      ]
     },
     "metadata": {},
     "output_type": "display_data"
    },
    {
     "data": {
      "text/html": [
       "<pre>recommendations finished on 246000/556591 queries. users per second: 17598</pre>"
      ],
      "text/plain": [
       "recommendations finished on 246000/556591 queries. users per second: 17598"
      ]
     },
     "metadata": {},
     "output_type": "display_data"
    },
    {
     "data": {
      "text/html": [
       "<pre>recommendations finished on 247000/556591 queries. users per second: 17606.9</pre>"
      ],
      "text/plain": [
       "recommendations finished on 247000/556591 queries. users per second: 17606.9"
      ]
     },
     "metadata": {},
     "output_type": "display_data"
    },
    {
     "data": {
      "text/html": [
       "<pre>recommendations finished on 248000/556591 queries. users per second: 17618.1</pre>"
      ],
      "text/plain": [
       "recommendations finished on 248000/556591 queries. users per second: 17618.1"
      ]
     },
     "metadata": {},
     "output_type": "display_data"
    },
    {
     "data": {
      "text/html": [
       "<pre>recommendations finished on 249000/556591 queries. users per second: 17628.9</pre>"
      ],
      "text/plain": [
       "recommendations finished on 249000/556591 queries. users per second: 17628.9"
      ]
     },
     "metadata": {},
     "output_type": "display_data"
    },
    {
     "data": {
      "text/html": [
       "<pre>recommendations finished on 250000/556591 queries. users per second: 17634.4</pre>"
      ],
      "text/plain": [
       "recommendations finished on 250000/556591 queries. users per second: 17634.4"
      ]
     },
     "metadata": {},
     "output_type": "display_data"
    },
    {
     "data": {
      "text/html": [
       "<pre>recommendations finished on 251000/556591 queries. users per second: 17643.3</pre>"
      ],
      "text/plain": [
       "recommendations finished on 251000/556591 queries. users per second: 17643.3"
      ]
     },
     "metadata": {},
     "output_type": "display_data"
    },
    {
     "data": {
      "text/html": [
       "<pre>recommendations finished on 252000/556591 queries. users per second: 17652.5</pre>"
      ],
      "text/plain": [
       "recommendations finished on 252000/556591 queries. users per second: 17652.5"
      ]
     },
     "metadata": {},
     "output_type": "display_data"
    },
    {
     "data": {
      "text/html": [
       "<pre>recommendations finished on 253000/556591 queries. users per second: 17662.3</pre>"
      ],
      "text/plain": [
       "recommendations finished on 253000/556591 queries. users per second: 17662.3"
      ]
     },
     "metadata": {},
     "output_type": "display_data"
    },
    {
     "data": {
      "text/html": [
       "<pre>recommendations finished on 254000/556591 queries. users per second: 17673</pre>"
      ],
      "text/plain": [
       "recommendations finished on 254000/556591 queries. users per second: 17673"
      ]
     },
     "metadata": {},
     "output_type": "display_data"
    },
    {
     "data": {
      "text/html": [
       "<pre>recommendations finished on 255000/556591 queries. users per second: 17679.7</pre>"
      ],
      "text/plain": [
       "recommendations finished on 255000/556591 queries. users per second: 17679.7"
      ]
     },
     "metadata": {},
     "output_type": "display_data"
    },
    {
     "data": {
      "text/html": [
       "<pre>recommendations finished on 256000/556591 queries. users per second: 17688.9</pre>"
      ],
      "text/plain": [
       "recommendations finished on 256000/556591 queries. users per second: 17688.9"
      ]
     },
     "metadata": {},
     "output_type": "display_data"
    },
    {
     "data": {
      "text/html": [
       "<pre>recommendations finished on 257000/556591 queries. users per second: 17696.2</pre>"
      ],
      "text/plain": [
       "recommendations finished on 257000/556591 queries. users per second: 17696.2"
      ]
     },
     "metadata": {},
     "output_type": "display_data"
    },
    {
     "data": {
      "text/html": [
       "<pre>recommendations finished on 258000/556591 queries. users per second: 17699.7</pre>"
      ],
      "text/plain": [
       "recommendations finished on 258000/556591 queries. users per second: 17699.7"
      ]
     },
     "metadata": {},
     "output_type": "display_data"
    },
    {
     "data": {
      "text/html": [
       "<pre>recommendations finished on 259000/556591 queries. users per second: 17703.2</pre>"
      ],
      "text/plain": [
       "recommendations finished on 259000/556591 queries. users per second: 17703.2"
      ]
     },
     "metadata": {},
     "output_type": "display_data"
    },
    {
     "data": {
      "text/html": [
       "<pre>recommendations finished on 260000/556591 queries. users per second: 17707.3</pre>"
      ],
      "text/plain": [
       "recommendations finished on 260000/556591 queries. users per second: 17707.3"
      ]
     },
     "metadata": {},
     "output_type": "display_data"
    },
    {
     "data": {
      "text/html": [
       "<pre>recommendations finished on 261000/556591 queries. users per second: 17706.1</pre>"
      ],
      "text/plain": [
       "recommendations finished on 261000/556591 queries. users per second: 17706.1"
      ]
     },
     "metadata": {},
     "output_type": "display_data"
    },
    {
     "data": {
      "text/html": [
       "<pre>recommendations finished on 262000/556591 queries. users per second: 17710.1</pre>"
      ],
      "text/plain": [
       "recommendations finished on 262000/556591 queries. users per second: 17710.1"
      ]
     },
     "metadata": {},
     "output_type": "display_data"
    },
    {
     "data": {
      "text/html": [
       "<pre>recommendations finished on 263000/556591 queries. users per second: 17713.2</pre>"
      ],
      "text/plain": [
       "recommendations finished on 263000/556591 queries. users per second: 17713.2"
      ]
     },
     "metadata": {},
     "output_type": "display_data"
    },
    {
     "data": {
      "text/html": [
       "<pre>recommendations finished on 264000/556591 queries. users per second: 17716.5</pre>"
      ],
      "text/plain": [
       "recommendations finished on 264000/556591 queries. users per second: 17716.5"
      ]
     },
     "metadata": {},
     "output_type": "display_data"
    },
    {
     "data": {
      "text/html": [
       "<pre>recommendations finished on 265000/556591 queries. users per second: 17715.7</pre>"
      ],
      "text/plain": [
       "recommendations finished on 265000/556591 queries. users per second: 17715.7"
      ]
     },
     "metadata": {},
     "output_type": "display_data"
    },
    {
     "data": {
      "text/html": [
       "<pre>recommendations finished on 266000/556591 queries. users per second: 17718.7</pre>"
      ],
      "text/plain": [
       "recommendations finished on 266000/556591 queries. users per second: 17718.7"
      ]
     },
     "metadata": {},
     "output_type": "display_data"
    },
    {
     "data": {
      "text/html": [
       "<pre>recommendations finished on 267000/556591 queries. users per second: 17723.5</pre>"
      ],
      "text/plain": [
       "recommendations finished on 267000/556591 queries. users per second: 17723.5"
      ]
     },
     "metadata": {},
     "output_type": "display_data"
    },
    {
     "data": {
      "text/html": [
       "<pre>recommendations finished on 268000/556591 queries. users per second: 17728.2</pre>"
      ],
      "text/plain": [
       "recommendations finished on 268000/556591 queries. users per second: 17728.2"
      ]
     },
     "metadata": {},
     "output_type": "display_data"
    },
    {
     "data": {
      "text/html": [
       "<pre>recommendations finished on 269000/556591 queries. users per second: 17733.5</pre>"
      ],
      "text/plain": [
       "recommendations finished on 269000/556591 queries. users per second: 17733.5"
      ]
     },
     "metadata": {},
     "output_type": "display_data"
    },
    {
     "data": {
      "text/html": [
       "<pre>recommendations finished on 270000/556591 queries. users per second: 17738.7</pre>"
      ],
      "text/plain": [
       "recommendations finished on 270000/556591 queries. users per second: 17738.7"
      ]
     },
     "metadata": {},
     "output_type": "display_data"
    },
    {
     "data": {
      "text/html": [
       "<pre>recommendations finished on 271000/556591 queries. users per second: 17744.2</pre>"
      ],
      "text/plain": [
       "recommendations finished on 271000/556591 queries. users per second: 17744.2"
      ]
     },
     "metadata": {},
     "output_type": "display_data"
    },
    {
     "data": {
      "text/html": [
       "<pre>recommendations finished on 272000/556591 queries. users per second: 17748.7</pre>"
      ],
      "text/plain": [
       "recommendations finished on 272000/556591 queries. users per second: 17748.7"
      ]
     },
     "metadata": {},
     "output_type": "display_data"
    },
    {
     "data": {
      "text/html": [
       "<pre>recommendations finished on 273000/556591 queries. users per second: 17753.7</pre>"
      ],
      "text/plain": [
       "recommendations finished on 273000/556591 queries. users per second: 17753.7"
      ]
     },
     "metadata": {},
     "output_type": "display_data"
    },
    {
     "data": {
      "text/html": [
       "<pre>recommendations finished on 274000/556591 queries. users per second: 17760.1</pre>"
      ],
      "text/plain": [
       "recommendations finished on 274000/556591 queries. users per second: 17760.1"
      ]
     },
     "metadata": {},
     "output_type": "display_data"
    },
    {
     "data": {
      "text/html": [
       "<pre>recommendations finished on 275000/556591 queries. users per second: 17766.2</pre>"
      ],
      "text/plain": [
       "recommendations finished on 275000/556591 queries. users per second: 17766.2"
      ]
     },
     "metadata": {},
     "output_type": "display_data"
    },
    {
     "data": {
      "text/html": [
       "<pre>recommendations finished on 276000/556591 queries. users per second: 17773.7</pre>"
      ],
      "text/plain": [
       "recommendations finished on 276000/556591 queries. users per second: 17773.7"
      ]
     },
     "metadata": {},
     "output_type": "display_data"
    },
    {
     "data": {
      "text/html": [
       "<pre>recommendations finished on 277000/556591 queries. users per second: 17783.6</pre>"
      ],
      "text/plain": [
       "recommendations finished on 277000/556591 queries. users per second: 17783.6"
      ]
     },
     "metadata": {},
     "output_type": "display_data"
    },
    {
     "data": {
      "text/html": [
       "<pre>recommendations finished on 278000/556591 queries. users per second: 17794.3</pre>"
      ],
      "text/plain": [
       "recommendations finished on 278000/556591 queries. users per second: 17794.3"
      ]
     },
     "metadata": {},
     "output_type": "display_data"
    },
    {
     "data": {
      "text/html": [
       "<pre>recommendations finished on 279000/556591 queries. users per second: 17804.6</pre>"
      ],
      "text/plain": [
       "recommendations finished on 279000/556591 queries. users per second: 17804.6"
      ]
     },
     "metadata": {},
     "output_type": "display_data"
    },
    {
     "data": {
      "text/html": [
       "<pre>recommendations finished on 280000/556591 queries. users per second: 17814.1</pre>"
      ],
      "text/plain": [
       "recommendations finished on 280000/556591 queries. users per second: 17814.1"
      ]
     },
     "metadata": {},
     "output_type": "display_data"
    },
    {
     "data": {
      "text/html": [
       "<pre>recommendations finished on 281000/556591 queries. users per second: 17823.7</pre>"
      ],
      "text/plain": [
       "recommendations finished on 281000/556591 queries. users per second: 17823.7"
      ]
     },
     "metadata": {},
     "output_type": "display_data"
    },
    {
     "data": {
      "text/html": [
       "<pre>recommendations finished on 282000/556591 queries. users per second: 17833.2</pre>"
      ],
      "text/plain": [
       "recommendations finished on 282000/556591 queries. users per second: 17833.2"
      ]
     },
     "metadata": {},
     "output_type": "display_data"
    },
    {
     "data": {
      "text/html": [
       "<pre>recommendations finished on 283000/556591 queries. users per second: 17841.8</pre>"
      ],
      "text/plain": [
       "recommendations finished on 283000/556591 queries. users per second: 17841.8"
      ]
     },
     "metadata": {},
     "output_type": "display_data"
    },
    {
     "data": {
      "text/html": [
       "<pre>recommendations finished on 284000/556591 queries. users per second: 17852</pre>"
      ],
      "text/plain": [
       "recommendations finished on 284000/556591 queries. users per second: 17852"
      ]
     },
     "metadata": {},
     "output_type": "display_data"
    },
    {
     "data": {
      "text/html": [
       "<pre>recommendations finished on 285000/556591 queries. users per second: 17860.8</pre>"
      ],
      "text/plain": [
       "recommendations finished on 285000/556591 queries. users per second: 17860.8"
      ]
     },
     "metadata": {},
     "output_type": "display_data"
    },
    {
     "data": {
      "text/html": [
       "<pre>recommendations finished on 286000/556591 queries. users per second: 17870.2</pre>"
      ],
      "text/plain": [
       "recommendations finished on 286000/556591 queries. users per second: 17870.2"
      ]
     },
     "metadata": {},
     "output_type": "display_data"
    },
    {
     "data": {
      "text/html": [
       "<pre>recommendations finished on 287000/556591 queries. users per second: 17875.5</pre>"
      ],
      "text/plain": [
       "recommendations finished on 287000/556591 queries. users per second: 17875.5"
      ]
     },
     "metadata": {},
     "output_type": "display_data"
    },
    {
     "data": {
      "text/html": [
       "<pre>recommendations finished on 288000/556591 queries. users per second: 17883.6</pre>"
      ],
      "text/plain": [
       "recommendations finished on 288000/556591 queries. users per second: 17883.6"
      ]
     },
     "metadata": {},
     "output_type": "display_data"
    },
    {
     "data": {
      "text/html": [
       "<pre>recommendations finished on 289000/556591 queries. users per second: 17892.6</pre>"
      ],
      "text/plain": [
       "recommendations finished on 289000/556591 queries. users per second: 17892.6"
      ]
     },
     "metadata": {},
     "output_type": "display_data"
    },
    {
     "data": {
      "text/html": [
       "<pre>recommendations finished on 290000/556591 queries. users per second: 17899.5</pre>"
      ],
      "text/plain": [
       "recommendations finished on 290000/556591 queries. users per second: 17899.5"
      ]
     },
     "metadata": {},
     "output_type": "display_data"
    },
    {
     "data": {
      "text/html": [
       "<pre>recommendations finished on 291000/556591 queries. users per second: 17906.8</pre>"
      ],
      "text/plain": [
       "recommendations finished on 291000/556591 queries. users per second: 17906.8"
      ]
     },
     "metadata": {},
     "output_type": "display_data"
    },
    {
     "data": {
      "text/html": [
       "<pre>recommendations finished on 292000/556591 queries. users per second: 17915.5</pre>"
      ],
      "text/plain": [
       "recommendations finished on 292000/556591 queries. users per second: 17915.5"
      ]
     },
     "metadata": {},
     "output_type": "display_data"
    },
    {
     "data": {
      "text/html": [
       "<pre>recommendations finished on 293000/556591 queries. users per second: 17923</pre>"
      ],
      "text/plain": [
       "recommendations finished on 293000/556591 queries. users per second: 17923"
      ]
     },
     "metadata": {},
     "output_type": "display_data"
    },
    {
     "data": {
      "text/html": [
       "<pre>recommendations finished on 294000/556591 queries. users per second: 17930.2</pre>"
      ],
      "text/plain": [
       "recommendations finished on 294000/556591 queries. users per second: 17930.2"
      ]
     },
     "metadata": {},
     "output_type": "display_data"
    },
    {
     "data": {
      "text/html": [
       "<pre>recommendations finished on 295000/556591 queries. users per second: 17937</pre>"
      ],
      "text/plain": [
       "recommendations finished on 295000/556591 queries. users per second: 17937"
      ]
     },
     "metadata": {},
     "output_type": "display_data"
    },
    {
     "data": {
      "text/html": [
       "<pre>recommendations finished on 296000/556591 queries. users per second: 17944.8</pre>"
      ],
      "text/plain": [
       "recommendations finished on 296000/556591 queries. users per second: 17944.8"
      ]
     },
     "metadata": {},
     "output_type": "display_data"
    },
    {
     "data": {
      "text/html": [
       "<pre>recommendations finished on 297000/556591 queries. users per second: 17952.5</pre>"
      ],
      "text/plain": [
       "recommendations finished on 297000/556591 queries. users per second: 17952.5"
      ]
     },
     "metadata": {},
     "output_type": "display_data"
    },
    {
     "data": {
      "text/html": [
       "<pre>recommendations finished on 298000/556591 queries. users per second: 17956.4</pre>"
      ],
      "text/plain": [
       "recommendations finished on 298000/556591 queries. users per second: 17956.4"
      ]
     },
     "metadata": {},
     "output_type": "display_data"
    },
    {
     "data": {
      "text/html": [
       "<pre>recommendations finished on 299000/556591 queries. users per second: 17960.5</pre>"
      ],
      "text/plain": [
       "recommendations finished on 299000/556591 queries. users per second: 17960.5"
      ]
     },
     "metadata": {},
     "output_type": "display_data"
    },
    {
     "data": {
      "text/html": [
       "<pre>recommendations finished on 300000/556591 queries. users per second: 17964.3</pre>"
      ],
      "text/plain": [
       "recommendations finished on 300000/556591 queries. users per second: 17964.3"
      ]
     },
     "metadata": {},
     "output_type": "display_data"
    },
    {
     "data": {
      "text/html": [
       "<pre>recommendations finished on 301000/556591 queries. users per second: 17967.6</pre>"
      ],
      "text/plain": [
       "recommendations finished on 301000/556591 queries. users per second: 17967.6"
      ]
     },
     "metadata": {},
     "output_type": "display_data"
    },
    {
     "data": {
      "text/html": [
       "<pre>recommendations finished on 302000/556591 queries. users per second: 17971</pre>"
      ],
      "text/plain": [
       "recommendations finished on 302000/556591 queries. users per second: 17971"
      ]
     },
     "metadata": {},
     "output_type": "display_data"
    },
    {
     "data": {
      "text/html": [
       "<pre>recommendations finished on 303000/556591 queries. users per second: 17973.3</pre>"
      ],
      "text/plain": [
       "recommendations finished on 303000/556591 queries. users per second: 17973.3"
      ]
     },
     "metadata": {},
     "output_type": "display_data"
    },
    {
     "data": {
      "text/html": [
       "<pre>recommendations finished on 304000/556591 queries. users per second: 17976.7</pre>"
      ],
      "text/plain": [
       "recommendations finished on 304000/556591 queries. users per second: 17976.7"
      ]
     },
     "metadata": {},
     "output_type": "display_data"
    },
    {
     "data": {
      "text/html": [
       "<pre>recommendations finished on 305000/556591 queries. users per second: 17980.3</pre>"
      ],
      "text/plain": [
       "recommendations finished on 305000/556591 queries. users per second: 17980.3"
      ]
     },
     "metadata": {},
     "output_type": "display_data"
    },
    {
     "data": {
      "text/html": [
       "<pre>recommendations finished on 306000/556591 queries. users per second: 17982.5</pre>"
      ],
      "text/plain": [
       "recommendations finished on 306000/556591 queries. users per second: 17982.5"
      ]
     },
     "metadata": {},
     "output_type": "display_data"
    },
    {
     "data": {
      "text/html": [
       "<pre>recommendations finished on 307000/556591 queries. users per second: 17985.2</pre>"
      ],
      "text/plain": [
       "recommendations finished on 307000/556591 queries. users per second: 17985.2"
      ]
     },
     "metadata": {},
     "output_type": "display_data"
    },
    {
     "data": {
      "text/html": [
       "<pre>recommendations finished on 308000/556591 queries. users per second: 17983.9</pre>"
      ],
      "text/plain": [
       "recommendations finished on 308000/556591 queries. users per second: 17983.9"
      ]
     },
     "metadata": {},
     "output_type": "display_data"
    },
    {
     "data": {
      "text/html": [
       "<pre>recommendations finished on 309000/556591 queries. users per second: 17987.4</pre>"
      ],
      "text/plain": [
       "recommendations finished on 309000/556591 queries. users per second: 17987.4"
      ]
     },
     "metadata": {},
     "output_type": "display_data"
    },
    {
     "data": {
      "text/html": [
       "<pre>recommendations finished on 310000/556591 queries. users per second: 17991.5</pre>"
      ],
      "text/plain": [
       "recommendations finished on 310000/556591 queries. users per second: 17991.5"
      ]
     },
     "metadata": {},
     "output_type": "display_data"
    },
    {
     "data": {
      "text/html": [
       "<pre>recommendations finished on 311000/556591 queries. users per second: 17995.9</pre>"
      ],
      "text/plain": [
       "recommendations finished on 311000/556591 queries. users per second: 17995.9"
      ]
     },
     "metadata": {},
     "output_type": "display_data"
    },
    {
     "data": {
      "text/html": [
       "<pre>recommendations finished on 312000/556591 queries. users per second: 18001.3</pre>"
      ],
      "text/plain": [
       "recommendations finished on 312000/556591 queries. users per second: 18001.3"
      ]
     },
     "metadata": {},
     "output_type": "display_data"
    },
    {
     "data": {
      "text/html": [
       "<pre>recommendations finished on 313000/556591 queries. users per second: 18006.2</pre>"
      ],
      "text/plain": [
       "recommendations finished on 313000/556591 queries. users per second: 18006.2"
      ]
     },
     "metadata": {},
     "output_type": "display_data"
    },
    {
     "data": {
      "text/html": [
       "<pre>recommendations finished on 314000/556591 queries. users per second: 18009.9</pre>"
      ],
      "text/plain": [
       "recommendations finished on 314000/556591 queries. users per second: 18009.9"
      ]
     },
     "metadata": {},
     "output_type": "display_data"
    },
    {
     "data": {
      "text/html": [
       "<pre>recommendations finished on 315000/556591 queries. users per second: 18011.9</pre>"
      ],
      "text/plain": [
       "recommendations finished on 315000/556591 queries. users per second: 18011.9"
      ]
     },
     "metadata": {},
     "output_type": "display_data"
    },
    {
     "data": {
      "text/html": [
       "<pre>recommendations finished on 316000/556591 queries. users per second: 18017.4</pre>"
      ],
      "text/plain": [
       "recommendations finished on 316000/556591 queries. users per second: 18017.4"
      ]
     },
     "metadata": {},
     "output_type": "display_data"
    },
    {
     "data": {
      "text/html": [
       "<pre>recommendations finished on 317000/556591 queries. users per second: 18021.6</pre>"
      ],
      "text/plain": [
       "recommendations finished on 317000/556591 queries. users per second: 18021.6"
      ]
     },
     "metadata": {},
     "output_type": "display_data"
    },
    {
     "data": {
      "text/html": [
       "<pre>recommendations finished on 318000/556591 queries. users per second: 18026.6</pre>"
      ],
      "text/plain": [
       "recommendations finished on 318000/556591 queries. users per second: 18026.6"
      ]
     },
     "metadata": {},
     "output_type": "display_data"
    },
    {
     "data": {
      "text/html": [
       "<pre>recommendations finished on 319000/556591 queries. users per second: 18031.2</pre>"
      ],
      "text/plain": [
       "recommendations finished on 319000/556591 queries. users per second: 18031.2"
      ]
     },
     "metadata": {},
     "output_type": "display_data"
    },
    {
     "data": {
      "text/html": [
       "<pre>recommendations finished on 320000/556591 queries. users per second: 18036.4</pre>"
      ],
      "text/plain": [
       "recommendations finished on 320000/556591 queries. users per second: 18036.4"
      ]
     },
     "metadata": {},
     "output_type": "display_data"
    },
    {
     "data": {
      "text/html": [
       "<pre>recommendations finished on 321000/556591 queries. users per second: 18040.2</pre>"
      ],
      "text/plain": [
       "recommendations finished on 321000/556591 queries. users per second: 18040.2"
      ]
     },
     "metadata": {},
     "output_type": "display_data"
    },
    {
     "data": {
      "text/html": [
       "<pre>recommendations finished on 322000/556591 queries. users per second: 18039.4</pre>"
      ],
      "text/plain": [
       "recommendations finished on 322000/556591 queries. users per second: 18039.4"
      ]
     },
     "metadata": {},
     "output_type": "display_data"
    },
    {
     "data": {
      "text/html": [
       "<pre>recommendations finished on 323000/556591 queries. users per second: 18044.9</pre>"
      ],
      "text/plain": [
       "recommendations finished on 323000/556591 queries. users per second: 18044.9"
      ]
     },
     "metadata": {},
     "output_type": "display_data"
    },
    {
     "data": {
      "text/html": [
       "<pre>recommendations finished on 324000/556591 queries. users per second: 18051.4</pre>"
      ],
      "text/plain": [
       "recommendations finished on 324000/556591 queries. users per second: 18051.4"
      ]
     },
     "metadata": {},
     "output_type": "display_data"
    },
    {
     "data": {
      "text/html": [
       "<pre>recommendations finished on 325000/556591 queries. users per second: 18053.9</pre>"
      ],
      "text/plain": [
       "recommendations finished on 325000/556591 queries. users per second: 18053.9"
      ]
     },
     "metadata": {},
     "output_type": "display_data"
    },
    {
     "data": {
      "text/html": [
       "<pre>recommendations finished on 326000/556591 queries. users per second: 18059.6</pre>"
      ],
      "text/plain": [
       "recommendations finished on 326000/556591 queries. users per second: 18059.6"
      ]
     },
     "metadata": {},
     "output_type": "display_data"
    },
    {
     "data": {
      "text/html": [
       "<pre>recommendations finished on 327000/556591 queries. users per second: 18063.3</pre>"
      ],
      "text/plain": [
       "recommendations finished on 327000/556591 queries. users per second: 18063.3"
      ]
     },
     "metadata": {},
     "output_type": "display_data"
    },
    {
     "data": {
      "text/html": [
       "<pre>recommendations finished on 328000/556591 queries. users per second: 18069.3</pre>"
      ],
      "text/plain": [
       "recommendations finished on 328000/556591 queries. users per second: 18069.3"
      ]
     },
     "metadata": {},
     "output_type": "display_data"
    },
    {
     "data": {
      "text/html": [
       "<pre>recommendations finished on 329000/556591 queries. users per second: 18075.2</pre>"
      ],
      "text/plain": [
       "recommendations finished on 329000/556591 queries. users per second: 18075.2"
      ]
     },
     "metadata": {},
     "output_type": "display_data"
    },
    {
     "data": {
      "text/html": [
       "<pre>recommendations finished on 330000/556591 queries. users per second: 18081.2</pre>"
      ],
      "text/plain": [
       "recommendations finished on 330000/556591 queries. users per second: 18081.2"
      ]
     },
     "metadata": {},
     "output_type": "display_data"
    },
    {
     "data": {
      "text/html": [
       "<pre>recommendations finished on 331000/556591 queries. users per second: 18084.7</pre>"
      ],
      "text/plain": [
       "recommendations finished on 331000/556591 queries. users per second: 18084.7"
      ]
     },
     "metadata": {},
     "output_type": "display_data"
    },
    {
     "data": {
      "text/html": [
       "<pre>recommendations finished on 332000/556591 queries. users per second: 18088.9</pre>"
      ],
      "text/plain": [
       "recommendations finished on 332000/556591 queries. users per second: 18088.9"
      ]
     },
     "metadata": {},
     "output_type": "display_data"
    },
    {
     "data": {
      "text/html": [
       "<pre>recommendations finished on 333000/556591 queries. users per second: 18094.4</pre>"
      ],
      "text/plain": [
       "recommendations finished on 333000/556591 queries. users per second: 18094.4"
      ]
     },
     "metadata": {},
     "output_type": "display_data"
    },
    {
     "data": {
      "text/html": [
       "<pre>recommendations finished on 334000/556591 queries. users per second: 18100.6</pre>"
      ],
      "text/plain": [
       "recommendations finished on 334000/556591 queries. users per second: 18100.6"
      ]
     },
     "metadata": {},
     "output_type": "display_data"
    },
    {
     "data": {
      "text/html": [
       "<pre>recommendations finished on 335000/556591 queries. users per second: 18106.5</pre>"
      ],
      "text/plain": [
       "recommendations finished on 335000/556591 queries. users per second: 18106.5"
      ]
     },
     "metadata": {},
     "output_type": "display_data"
    },
    {
     "data": {
      "text/html": [
       "<pre>recommendations finished on 336000/556591 queries. users per second: 18111.5</pre>"
      ],
      "text/plain": [
       "recommendations finished on 336000/556591 queries. users per second: 18111.5"
      ]
     },
     "metadata": {},
     "output_type": "display_data"
    },
    {
     "data": {
      "text/html": [
       "<pre>recommendations finished on 337000/556591 queries. users per second: 18115</pre>"
      ],
      "text/plain": [
       "recommendations finished on 337000/556591 queries. users per second: 18115"
      ]
     },
     "metadata": {},
     "output_type": "display_data"
    },
    {
     "data": {
      "text/html": [
       "<pre>recommendations finished on 338000/556591 queries. users per second: 18118.5</pre>"
      ],
      "text/plain": [
       "recommendations finished on 338000/556591 queries. users per second: 18118.5"
      ]
     },
     "metadata": {},
     "output_type": "display_data"
    },
    {
     "data": {
      "text/html": [
       "<pre>recommendations finished on 339000/556591 queries. users per second: 18120.9</pre>"
      ],
      "text/plain": [
       "recommendations finished on 339000/556591 queries. users per second: 18120.9"
      ]
     },
     "metadata": {},
     "output_type": "display_data"
    },
    {
     "data": {
      "text/html": [
       "<pre>recommendations finished on 340000/556591 queries. users per second: 18123.1</pre>"
      ],
      "text/plain": [
       "recommendations finished on 340000/556591 queries. users per second: 18123.1"
      ]
     },
     "metadata": {},
     "output_type": "display_data"
    },
    {
     "data": {
      "text/html": [
       "<pre>recommendations finished on 341000/556591 queries. users per second: 18127.1</pre>"
      ],
      "text/plain": [
       "recommendations finished on 341000/556591 queries. users per second: 18127.1"
      ]
     },
     "metadata": {},
     "output_type": "display_data"
    },
    {
     "data": {
      "text/html": [
       "<pre>recommendations finished on 342000/556591 queries. users per second: 18129.7</pre>"
      ],
      "text/plain": [
       "recommendations finished on 342000/556591 queries. users per second: 18129.7"
      ]
     },
     "metadata": {},
     "output_type": "display_data"
    },
    {
     "data": {
      "text/html": [
       "<pre>recommendations finished on 343000/556591 queries. users per second: 18132.1</pre>"
      ],
      "text/plain": [
       "recommendations finished on 343000/556591 queries. users per second: 18132.1"
      ]
     },
     "metadata": {},
     "output_type": "display_data"
    },
    {
     "data": {
      "text/html": [
       "<pre>recommendations finished on 344000/556591 queries. users per second: 18133</pre>"
      ],
      "text/plain": [
       "recommendations finished on 344000/556591 queries. users per second: 18133"
      ]
     },
     "metadata": {},
     "output_type": "display_data"
    },
    {
     "data": {
      "text/html": [
       "<pre>recommendations finished on 345000/556591 queries. users per second: 18132.1</pre>"
      ],
      "text/plain": [
       "recommendations finished on 345000/556591 queries. users per second: 18132.1"
      ]
     },
     "metadata": {},
     "output_type": "display_data"
    },
    {
     "data": {
      "text/html": [
       "<pre>recommendations finished on 346000/556591 queries. users per second: 18134.3</pre>"
      ],
      "text/plain": [
       "recommendations finished on 346000/556591 queries. users per second: 18134.3"
      ]
     },
     "metadata": {},
     "output_type": "display_data"
    },
    {
     "data": {
      "text/html": [
       "<pre>recommendations finished on 347000/556591 queries. users per second: 18134.5</pre>"
      ],
      "text/plain": [
       "recommendations finished on 347000/556591 queries. users per second: 18134.5"
      ]
     },
     "metadata": {},
     "output_type": "display_data"
    },
    {
     "data": {
      "text/html": [
       "<pre>recommendations finished on 348000/556591 queries. users per second: 18136</pre>"
      ],
      "text/plain": [
       "recommendations finished on 348000/556591 queries. users per second: 18136"
      ]
     },
     "metadata": {},
     "output_type": "display_data"
    },
    {
     "data": {
      "text/html": [
       "<pre>recommendations finished on 349000/556591 queries. users per second: 18135.9</pre>"
      ],
      "text/plain": [
       "recommendations finished on 349000/556591 queries. users per second: 18135.9"
      ]
     },
     "metadata": {},
     "output_type": "display_data"
    },
    {
     "data": {
      "text/html": [
       "<pre>recommendations finished on 350000/556591 queries. users per second: 18138.3</pre>"
      ],
      "text/plain": [
       "recommendations finished on 350000/556591 queries. users per second: 18138.3"
      ]
     },
     "metadata": {},
     "output_type": "display_data"
    },
    {
     "data": {
      "text/html": [
       "<pre>recommendations finished on 351000/556591 queries. users per second: 18139.5</pre>"
      ],
      "text/plain": [
       "recommendations finished on 351000/556591 queries. users per second: 18139.5"
      ]
     },
     "metadata": {},
     "output_type": "display_data"
    },
    {
     "data": {
      "text/html": [
       "<pre>recommendations finished on 352000/556591 queries. users per second: 18142.6</pre>"
      ],
      "text/plain": [
       "recommendations finished on 352000/556591 queries. users per second: 18142.6"
      ]
     },
     "metadata": {},
     "output_type": "display_data"
    },
    {
     "data": {
      "text/html": [
       "<pre>recommendations finished on 353000/556591 queries. users per second: 18145.8</pre>"
      ],
      "text/plain": [
       "recommendations finished on 353000/556591 queries. users per second: 18145.8"
      ]
     },
     "metadata": {},
     "output_type": "display_data"
    },
    {
     "data": {
      "text/html": [
       "<pre>recommendations finished on 354000/556591 queries. users per second: 18148.3</pre>"
      ],
      "text/plain": [
       "recommendations finished on 354000/556591 queries. users per second: 18148.3"
      ]
     },
     "metadata": {},
     "output_type": "display_data"
    },
    {
     "data": {
      "text/html": [
       "<pre>recommendations finished on 355000/556591 queries. users per second: 18150.7</pre>"
      ],
      "text/plain": [
       "recommendations finished on 355000/556591 queries. users per second: 18150.7"
      ]
     },
     "metadata": {},
     "output_type": "display_data"
    },
    {
     "data": {
      "text/html": [
       "<pre>recommendations finished on 356000/556591 queries. users per second: 18153.3</pre>"
      ],
      "text/plain": [
       "recommendations finished on 356000/556591 queries. users per second: 18153.3"
      ]
     },
     "metadata": {},
     "output_type": "display_data"
    },
    {
     "data": {
      "text/html": [
       "<pre>recommendations finished on 357000/556591 queries. users per second: 18156.4</pre>"
      ],
      "text/plain": [
       "recommendations finished on 357000/556591 queries. users per second: 18156.4"
      ]
     },
     "metadata": {},
     "output_type": "display_data"
    },
    {
     "data": {
      "text/html": [
       "<pre>recommendations finished on 358000/556591 queries. users per second: 18158.3</pre>"
      ],
      "text/plain": [
       "recommendations finished on 358000/556591 queries. users per second: 18158.3"
      ]
     },
     "metadata": {},
     "output_type": "display_data"
    },
    {
     "data": {
      "text/html": [
       "<pre>recommendations finished on 359000/556591 queries. users per second: 18159.8</pre>"
      ],
      "text/plain": [
       "recommendations finished on 359000/556591 queries. users per second: 18159.8"
      ]
     },
     "metadata": {},
     "output_type": "display_data"
    },
    {
     "data": {
      "text/html": [
       "<pre>recommendations finished on 360000/556591 queries. users per second: 18161.2</pre>"
      ],
      "text/plain": [
       "recommendations finished on 360000/556591 queries. users per second: 18161.2"
      ]
     },
     "metadata": {},
     "output_type": "display_data"
    },
    {
     "data": {
      "text/html": [
       "<pre>recommendations finished on 361000/556591 queries. users per second: 18165.8</pre>"
      ],
      "text/plain": [
       "recommendations finished on 361000/556591 queries. users per second: 18165.8"
      ]
     },
     "metadata": {},
     "output_type": "display_data"
    },
    {
     "data": {
      "text/html": [
       "<pre>recommendations finished on 362000/556591 queries. users per second: 18170.2</pre>"
      ],
      "text/plain": [
       "recommendations finished on 362000/556591 queries. users per second: 18170.2"
      ]
     },
     "metadata": {},
     "output_type": "display_data"
    },
    {
     "data": {
      "text/html": [
       "<pre>recommendations finished on 363000/556591 queries. users per second: 18173.5</pre>"
      ],
      "text/plain": [
       "recommendations finished on 363000/556591 queries. users per second: 18173.5"
      ]
     },
     "metadata": {},
     "output_type": "display_data"
    },
    {
     "data": {
      "text/html": [
       "<pre>recommendations finished on 364000/556591 queries. users per second: 18176</pre>"
      ],
      "text/plain": [
       "recommendations finished on 364000/556591 queries. users per second: 18176"
      ]
     },
     "metadata": {},
     "output_type": "display_data"
    },
    {
     "data": {
      "text/html": [
       "<pre>recommendations finished on 365000/556591 queries. users per second: 18179.6</pre>"
      ],
      "text/plain": [
       "recommendations finished on 365000/556591 queries. users per second: 18179.6"
      ]
     },
     "metadata": {},
     "output_type": "display_data"
    },
    {
     "data": {
      "text/html": [
       "<pre>recommendations finished on 366000/556591 queries. users per second: 18182.9</pre>"
      ],
      "text/plain": [
       "recommendations finished on 366000/556591 queries. users per second: 18182.9"
      ]
     },
     "metadata": {},
     "output_type": "display_data"
    },
    {
     "data": {
      "text/html": [
       "<pre>recommendations finished on 367000/556591 queries. users per second: 18186.9</pre>"
      ],
      "text/plain": [
       "recommendations finished on 367000/556591 queries. users per second: 18186.9"
      ]
     },
     "metadata": {},
     "output_type": "display_data"
    },
    {
     "data": {
      "text/html": [
       "<pre>recommendations finished on 368000/556591 queries. users per second: 18189</pre>"
      ],
      "text/plain": [
       "recommendations finished on 368000/556591 queries. users per second: 18189"
      ]
     },
     "metadata": {},
     "output_type": "display_data"
    },
    {
     "data": {
      "text/html": [
       "<pre>recommendations finished on 369000/556591 queries. users per second: 18191.9</pre>"
      ],
      "text/plain": [
       "recommendations finished on 369000/556591 queries. users per second: 18191.9"
      ]
     },
     "metadata": {},
     "output_type": "display_data"
    },
    {
     "data": {
      "text/html": [
       "<pre>recommendations finished on 370000/556591 queries. users per second: 18195.5</pre>"
      ],
      "text/plain": [
       "recommendations finished on 370000/556591 queries. users per second: 18195.5"
      ]
     },
     "metadata": {},
     "output_type": "display_data"
    },
    {
     "data": {
      "text/html": [
       "<pre>recommendations finished on 371000/556591 queries. users per second: 18199.7</pre>"
      ],
      "text/plain": [
       "recommendations finished on 371000/556591 queries. users per second: 18199.7"
      ]
     },
     "metadata": {},
     "output_type": "display_data"
    },
    {
     "data": {
      "text/html": [
       "<pre>recommendations finished on 372000/556591 queries. users per second: 18202.8</pre>"
      ],
      "text/plain": [
       "recommendations finished on 372000/556591 queries. users per second: 18202.8"
      ]
     },
     "metadata": {},
     "output_type": "display_data"
    },
    {
     "data": {
      "text/html": [
       "<pre>recommendations finished on 373000/556591 queries. users per second: 18206</pre>"
      ],
      "text/plain": [
       "recommendations finished on 373000/556591 queries. users per second: 18206"
      ]
     },
     "metadata": {},
     "output_type": "display_data"
    },
    {
     "data": {
      "text/html": [
       "<pre>recommendations finished on 374000/556591 queries. users per second: 18209.6</pre>"
      ],
      "text/plain": [
       "recommendations finished on 374000/556591 queries. users per second: 18209.6"
      ]
     },
     "metadata": {},
     "output_type": "display_data"
    },
    {
     "data": {
      "text/html": [
       "<pre>recommendations finished on 375000/556591 queries. users per second: 18213.3</pre>"
      ],
      "text/plain": [
       "recommendations finished on 375000/556591 queries. users per second: 18213.3"
      ]
     },
     "metadata": {},
     "output_type": "display_data"
    },
    {
     "data": {
      "text/html": [
       "<pre>recommendations finished on 376000/556591 queries. users per second: 18216.7</pre>"
      ],
      "text/plain": [
       "recommendations finished on 376000/556591 queries. users per second: 18216.7"
      ]
     },
     "metadata": {},
     "output_type": "display_data"
    },
    {
     "data": {
      "text/html": [
       "<pre>recommendations finished on 377000/556591 queries. users per second: 18221</pre>"
      ],
      "text/plain": [
       "recommendations finished on 377000/556591 queries. users per second: 18221"
      ]
     },
     "metadata": {},
     "output_type": "display_data"
    },
    {
     "data": {
      "text/html": [
       "<pre>recommendations finished on 378000/556591 queries. users per second: 18224.5</pre>"
      ],
      "text/plain": [
       "recommendations finished on 378000/556591 queries. users per second: 18224.5"
      ]
     },
     "metadata": {},
     "output_type": "display_data"
    },
    {
     "data": {
      "text/html": [
       "<pre>recommendations finished on 379000/556591 queries. users per second: 18227.6</pre>"
      ],
      "text/plain": [
       "recommendations finished on 379000/556591 queries. users per second: 18227.6"
      ]
     },
     "metadata": {},
     "output_type": "display_data"
    },
    {
     "data": {
      "text/html": [
       "<pre>recommendations finished on 380000/556591 queries. users per second: 18230.6</pre>"
      ],
      "text/plain": [
       "recommendations finished on 380000/556591 queries. users per second: 18230.6"
      ]
     },
     "metadata": {},
     "output_type": "display_data"
    },
    {
     "data": {
      "text/html": [
       "<pre>recommendations finished on 381000/556591 queries. users per second: 18234.1</pre>"
      ],
      "text/plain": [
       "recommendations finished on 381000/556591 queries. users per second: 18234.1"
      ]
     },
     "metadata": {},
     "output_type": "display_data"
    },
    {
     "data": {
      "text/html": [
       "<pre>recommendations finished on 382000/556591 queries. users per second: 18238.7</pre>"
      ],
      "text/plain": [
       "recommendations finished on 382000/556591 queries. users per second: 18238.7"
      ]
     },
     "metadata": {},
     "output_type": "display_data"
    },
    {
     "data": {
      "text/html": [
       "<pre>recommendations finished on 383000/556591 queries. users per second: 18243.1</pre>"
      ],
      "text/plain": [
       "recommendations finished on 383000/556591 queries. users per second: 18243.1"
      ]
     },
     "metadata": {},
     "output_type": "display_data"
    },
    {
     "data": {
      "text/html": [
       "<pre>recommendations finished on 384000/556591 queries. users per second: 18244.4</pre>"
      ],
      "text/plain": [
       "recommendations finished on 384000/556591 queries. users per second: 18244.4"
      ]
     },
     "metadata": {},
     "output_type": "display_data"
    },
    {
     "data": {
      "text/html": [
       "<pre>recommendations finished on 385000/556591 queries. users per second: 18246</pre>"
      ],
      "text/plain": [
       "recommendations finished on 385000/556591 queries. users per second: 18246"
      ]
     },
     "metadata": {},
     "output_type": "display_data"
    },
    {
     "data": {
      "text/html": [
       "<pre>recommendations finished on 386000/556591 queries. users per second: 18249.1</pre>"
      ],
      "text/plain": [
       "recommendations finished on 386000/556591 queries. users per second: 18249.1"
      ]
     },
     "metadata": {},
     "output_type": "display_data"
    },
    {
     "data": {
      "text/html": [
       "<pre>recommendations finished on 387000/556591 queries. users per second: 18251.9</pre>"
      ],
      "text/plain": [
       "recommendations finished on 387000/556591 queries. users per second: 18251.9"
      ]
     },
     "metadata": {},
     "output_type": "display_data"
    },
    {
     "data": {
      "text/html": [
       "<pre>recommendations finished on 388000/556591 queries. users per second: 18252.9</pre>"
      ],
      "text/plain": [
       "recommendations finished on 388000/556591 queries. users per second: 18252.9"
      ]
     },
     "metadata": {},
     "output_type": "display_data"
    },
    {
     "data": {
      "text/html": [
       "<pre>recommendations finished on 389000/556591 queries. users per second: 18257</pre>"
      ],
      "text/plain": [
       "recommendations finished on 389000/556591 queries. users per second: 18257"
      ]
     },
     "metadata": {},
     "output_type": "display_data"
    },
    {
     "data": {
      "text/html": [
       "<pre>recommendations finished on 390000/556591 queries. users per second: 18256.2</pre>"
      ],
      "text/plain": [
       "recommendations finished on 390000/556591 queries. users per second: 18256.2"
      ]
     },
     "metadata": {},
     "output_type": "display_data"
    },
    {
     "data": {
      "text/html": [
       "<pre>recommendations finished on 391000/556591 queries. users per second: 18259.4</pre>"
      ],
      "text/plain": [
       "recommendations finished on 391000/556591 queries. users per second: 18259.4"
      ]
     },
     "metadata": {},
     "output_type": "display_data"
    },
    {
     "data": {
      "text/html": [
       "<pre>recommendations finished on 392000/556591 queries. users per second: 18260.7</pre>"
      ],
      "text/plain": [
       "recommendations finished on 392000/556591 queries. users per second: 18260.7"
      ]
     },
     "metadata": {},
     "output_type": "display_data"
    },
    {
     "data": {
      "text/html": [
       "<pre>recommendations finished on 393000/556591 queries. users per second: 18264.3</pre>"
      ],
      "text/plain": [
       "recommendations finished on 393000/556591 queries. users per second: 18264.3"
      ]
     },
     "metadata": {},
     "output_type": "display_data"
    },
    {
     "data": {
      "text/html": [
       "<pre>recommendations finished on 394000/556591 queries. users per second: 18268.8</pre>"
      ],
      "text/plain": [
       "recommendations finished on 394000/556591 queries. users per second: 18268.8"
      ]
     },
     "metadata": {},
     "output_type": "display_data"
    },
    {
     "data": {
      "text/html": [
       "<pre>recommendations finished on 395000/556591 queries. users per second: 18272.4</pre>"
      ],
      "text/plain": [
       "recommendations finished on 395000/556591 queries. users per second: 18272.4"
      ]
     },
     "metadata": {},
     "output_type": "display_data"
    },
    {
     "data": {
      "text/html": [
       "<pre>recommendations finished on 396000/556591 queries. users per second: 18276.4</pre>"
      ],
      "text/plain": [
       "recommendations finished on 396000/556591 queries. users per second: 18276.4"
      ]
     },
     "metadata": {},
     "output_type": "display_data"
    },
    {
     "data": {
      "text/html": [
       "<pre>recommendations finished on 397000/556591 queries. users per second: 18279.7</pre>"
      ],
      "text/plain": [
       "recommendations finished on 397000/556591 queries. users per second: 18279.7"
      ]
     },
     "metadata": {},
     "output_type": "display_data"
    },
    {
     "data": {
      "text/html": [
       "<pre>recommendations finished on 398000/556591 queries. users per second: 18282.6</pre>"
      ],
      "text/plain": [
       "recommendations finished on 398000/556591 queries. users per second: 18282.6"
      ]
     },
     "metadata": {},
     "output_type": "display_data"
    },
    {
     "data": {
      "text/html": [
       "<pre>recommendations finished on 399000/556591 queries. users per second: 18286</pre>"
      ],
      "text/plain": [
       "recommendations finished on 399000/556591 queries. users per second: 18286"
      ]
     },
     "metadata": {},
     "output_type": "display_data"
    },
    {
     "data": {
      "text/html": [
       "<pre>recommendations finished on 400000/556591 queries. users per second: 18288.7</pre>"
      ],
      "text/plain": [
       "recommendations finished on 400000/556591 queries. users per second: 18288.7"
      ]
     },
     "metadata": {},
     "output_type": "display_data"
    },
    {
     "data": {
      "text/html": [
       "<pre>recommendations finished on 401000/556591 queries. users per second: 18290.8</pre>"
      ],
      "text/plain": [
       "recommendations finished on 401000/556591 queries. users per second: 18290.8"
      ]
     },
     "metadata": {},
     "output_type": "display_data"
    },
    {
     "data": {
      "text/html": [
       "<pre>recommendations finished on 402000/556591 queries. users per second: 18292.1</pre>"
      ],
      "text/plain": [
       "recommendations finished on 402000/556591 queries. users per second: 18292.1"
      ]
     },
     "metadata": {},
     "output_type": "display_data"
    },
    {
     "data": {
      "text/html": [
       "<pre>recommendations finished on 403000/556591 queries. users per second: 18294.2</pre>"
      ],
      "text/plain": [
       "recommendations finished on 403000/556591 queries. users per second: 18294.2"
      ]
     },
     "metadata": {},
     "output_type": "display_data"
    },
    {
     "data": {
      "text/html": [
       "<pre>recommendations finished on 404000/556591 queries. users per second: 18297.1</pre>"
      ],
      "text/plain": [
       "recommendations finished on 404000/556591 queries. users per second: 18297.1"
      ]
     },
     "metadata": {},
     "output_type": "display_data"
    },
    {
     "data": {
      "text/html": [
       "<pre>recommendations finished on 405000/556591 queries. users per second: 18300.1</pre>"
      ],
      "text/plain": [
       "recommendations finished on 405000/556591 queries. users per second: 18300.1"
      ]
     },
     "metadata": {},
     "output_type": "display_data"
    },
    {
     "data": {
      "text/html": [
       "<pre>recommendations finished on 406000/556591 queries. users per second: 18302.2</pre>"
      ],
      "text/plain": [
       "recommendations finished on 406000/556591 queries. users per second: 18302.2"
      ]
     },
     "metadata": {},
     "output_type": "display_data"
    },
    {
     "data": {
      "text/html": [
       "<pre>recommendations finished on 407000/556591 queries. users per second: 18305</pre>"
      ],
      "text/plain": [
       "recommendations finished on 407000/556591 queries. users per second: 18305"
      ]
     },
     "metadata": {},
     "output_type": "display_data"
    },
    {
     "data": {
      "text/html": [
       "<pre>recommendations finished on 408000/556591 queries. users per second: 18307.1</pre>"
      ],
      "text/plain": [
       "recommendations finished on 408000/556591 queries. users per second: 18307.1"
      ]
     },
     "metadata": {},
     "output_type": "display_data"
    },
    {
     "data": {
      "text/html": [
       "<pre>recommendations finished on 409000/556591 queries. users per second: 18309.5</pre>"
      ],
      "text/plain": [
       "recommendations finished on 409000/556591 queries. users per second: 18309.5"
      ]
     },
     "metadata": {},
     "output_type": "display_data"
    },
    {
     "data": {
      "text/html": [
       "<pre>recommendations finished on 410000/556591 queries. users per second: 18313.3</pre>"
      ],
      "text/plain": [
       "recommendations finished on 410000/556591 queries. users per second: 18313.3"
      ]
     },
     "metadata": {},
     "output_type": "display_data"
    },
    {
     "data": {
      "text/html": [
       "<pre>recommendations finished on 411000/556591 queries. users per second: 18316.8</pre>"
      ],
      "text/plain": [
       "recommendations finished on 411000/556591 queries. users per second: 18316.8"
      ]
     },
     "metadata": {},
     "output_type": "display_data"
    },
    {
     "data": {
      "text/html": [
       "<pre>recommendations finished on 412000/556591 queries. users per second: 18319.5</pre>"
      ],
      "text/plain": [
       "recommendations finished on 412000/556591 queries. users per second: 18319.5"
      ]
     },
     "metadata": {},
     "output_type": "display_data"
    },
    {
     "data": {
      "text/html": [
       "<pre>recommendations finished on 413000/556591 queries. users per second: 18321.2</pre>"
      ],
      "text/plain": [
       "recommendations finished on 413000/556591 queries. users per second: 18321.2"
      ]
     },
     "metadata": {},
     "output_type": "display_data"
    },
    {
     "data": {
      "text/html": [
       "<pre>recommendations finished on 414000/556591 queries. users per second: 18318.3</pre>"
      ],
      "text/plain": [
       "recommendations finished on 414000/556591 queries. users per second: 18318.3"
      ]
     },
     "metadata": {},
     "output_type": "display_data"
    },
    {
     "data": {
      "text/html": [
       "<pre>recommendations finished on 415000/556591 queries. users per second: 18320.4</pre>"
      ],
      "text/plain": [
       "recommendations finished on 415000/556591 queries. users per second: 18320.4"
      ]
     },
     "metadata": {},
     "output_type": "display_data"
    },
    {
     "data": {
      "text/html": [
       "<pre>recommendations finished on 416000/556591 queries. users per second: 18321.9</pre>"
      ],
      "text/plain": [
       "recommendations finished on 416000/556591 queries. users per second: 18321.9"
      ]
     },
     "metadata": {},
     "output_type": "display_data"
    },
    {
     "data": {
      "text/html": [
       "<pre>recommendations finished on 417000/556591 queries. users per second: 18321.3</pre>"
      ],
      "text/plain": [
       "recommendations finished on 417000/556591 queries. users per second: 18321.3"
      ]
     },
     "metadata": {},
     "output_type": "display_data"
    },
    {
     "data": {
      "text/html": [
       "<pre>recommendations finished on 418000/556591 queries. users per second: 18320.5</pre>"
      ],
      "text/plain": [
       "recommendations finished on 418000/556591 queries. users per second: 18320.5"
      ]
     },
     "metadata": {},
     "output_type": "display_data"
    },
    {
     "data": {
      "text/html": [
       "<pre>recommendations finished on 419000/556591 queries. users per second: 18319.6</pre>"
      ],
      "text/plain": [
       "recommendations finished on 419000/556591 queries. users per second: 18319.6"
      ]
     },
     "metadata": {},
     "output_type": "display_data"
    },
    {
     "data": {
      "text/html": [
       "<pre>recommendations finished on 420000/556591 queries. users per second: 18317.5</pre>"
      ],
      "text/plain": [
       "recommendations finished on 420000/556591 queries. users per second: 18317.5"
      ]
     },
     "metadata": {},
     "output_type": "display_data"
    },
    {
     "data": {
      "text/html": [
       "<pre>recommendations finished on 421000/556591 queries. users per second: 18315.1</pre>"
      ],
      "text/plain": [
       "recommendations finished on 421000/556591 queries. users per second: 18315.1"
      ]
     },
     "metadata": {},
     "output_type": "display_data"
    },
    {
     "data": {
      "text/html": [
       "<pre>recommendations finished on 422000/556591 queries. users per second: 18317.3</pre>"
      ],
      "text/plain": [
       "recommendations finished on 422000/556591 queries. users per second: 18317.3"
      ]
     },
     "metadata": {},
     "output_type": "display_data"
    },
    {
     "data": {
      "text/html": [
       "<pre>recommendations finished on 423000/556591 queries. users per second: 18317.7</pre>"
      ],
      "text/plain": [
       "recommendations finished on 423000/556591 queries. users per second: 18317.7"
      ]
     },
     "metadata": {},
     "output_type": "display_data"
    },
    {
     "data": {
      "text/html": [
       "<pre>recommendations finished on 424000/556591 queries. users per second: 18317.6</pre>"
      ],
      "text/plain": [
       "recommendations finished on 424000/556591 queries. users per second: 18317.6"
      ]
     },
     "metadata": {},
     "output_type": "display_data"
    },
    {
     "data": {
      "text/html": [
       "<pre>recommendations finished on 425000/556591 queries. users per second: 18316.3</pre>"
      ],
      "text/plain": [
       "recommendations finished on 425000/556591 queries. users per second: 18316.3"
      ]
     },
     "metadata": {},
     "output_type": "display_data"
    },
    {
     "data": {
      "text/html": [
       "<pre>recommendations finished on 426000/556591 queries. users per second: 18315.2</pre>"
      ],
      "text/plain": [
       "recommendations finished on 426000/556591 queries. users per second: 18315.2"
      ]
     },
     "metadata": {},
     "output_type": "display_data"
    },
    {
     "data": {
      "text/html": [
       "<pre>recommendations finished on 427000/556591 queries. users per second: 18313.7</pre>"
      ],
      "text/plain": [
       "recommendations finished on 427000/556591 queries. users per second: 18313.7"
      ]
     },
     "metadata": {},
     "output_type": "display_data"
    },
    {
     "data": {
      "text/html": [
       "<pre>recommendations finished on 428000/556591 queries. users per second: 18311.9</pre>"
      ],
      "text/plain": [
       "recommendations finished on 428000/556591 queries. users per second: 18311.9"
      ]
     },
     "metadata": {},
     "output_type": "display_data"
    },
    {
     "data": {
      "text/html": [
       "<pre>recommendations finished on 429000/556591 queries. users per second: 18309.2</pre>"
      ],
      "text/plain": [
       "recommendations finished on 429000/556591 queries. users per second: 18309.2"
      ]
     },
     "metadata": {},
     "output_type": "display_data"
    },
    {
     "data": {
      "text/html": [
       "<pre>recommendations finished on 430000/556591 queries. users per second: 18308.9</pre>"
      ],
      "text/plain": [
       "recommendations finished on 430000/556591 queries. users per second: 18308.9"
      ]
     },
     "metadata": {},
     "output_type": "display_data"
    },
    {
     "data": {
      "text/html": [
       "<pre>recommendations finished on 431000/556591 queries. users per second: 18309.3</pre>"
      ],
      "text/plain": [
       "recommendations finished on 431000/556591 queries. users per second: 18309.3"
      ]
     },
     "metadata": {},
     "output_type": "display_data"
    },
    {
     "data": {
      "text/html": [
       "<pre>recommendations finished on 432000/556591 queries. users per second: 18308.3</pre>"
      ],
      "text/plain": [
       "recommendations finished on 432000/556591 queries. users per second: 18308.3"
      ]
     },
     "metadata": {},
     "output_type": "display_data"
    },
    {
     "data": {
      "text/html": [
       "<pre>recommendations finished on 433000/556591 queries. users per second: 18306.5</pre>"
      ],
      "text/plain": [
       "recommendations finished on 433000/556591 queries. users per second: 18306.5"
      ]
     },
     "metadata": {},
     "output_type": "display_data"
    },
    {
     "data": {
      "text/html": [
       "<pre>recommendations finished on 434000/556591 queries. users per second: 18305.9</pre>"
      ],
      "text/plain": [
       "recommendations finished on 434000/556591 queries. users per second: 18305.9"
      ]
     },
     "metadata": {},
     "output_type": "display_data"
    },
    {
     "data": {
      "text/html": [
       "<pre>recommendations finished on 435000/556591 queries. users per second: 18306.5</pre>"
      ],
      "text/plain": [
       "recommendations finished on 435000/556591 queries. users per second: 18306.5"
      ]
     },
     "metadata": {},
     "output_type": "display_data"
    },
    {
     "data": {
      "text/html": [
       "<pre>recommendations finished on 436000/556591 queries. users per second: 18308.2</pre>"
      ],
      "text/plain": [
       "recommendations finished on 436000/556591 queries. users per second: 18308.2"
      ]
     },
     "metadata": {},
     "output_type": "display_data"
    },
    {
     "data": {
      "text/html": [
       "<pre>recommendations finished on 437000/556591 queries. users per second: 18308.5</pre>"
      ],
      "text/plain": [
       "recommendations finished on 437000/556591 queries. users per second: 18308.5"
      ]
     },
     "metadata": {},
     "output_type": "display_data"
    },
    {
     "data": {
      "text/html": [
       "<pre>recommendations finished on 438000/556591 queries. users per second: 18306.7</pre>"
      ],
      "text/plain": [
       "recommendations finished on 438000/556591 queries. users per second: 18306.7"
      ]
     },
     "metadata": {},
     "output_type": "display_data"
    },
    {
     "data": {
      "text/html": [
       "<pre>recommendations finished on 439000/556591 queries. users per second: 18291.4</pre>"
      ],
      "text/plain": [
       "recommendations finished on 439000/556591 queries. users per second: 18291.4"
      ]
     },
     "metadata": {},
     "output_type": "display_data"
    },
    {
     "data": {
      "text/html": [
       "<pre>recommendations finished on 440000/556591 queries. users per second: 18278.1</pre>"
      ],
      "text/plain": [
       "recommendations finished on 440000/556591 queries. users per second: 18278.1"
      ]
     },
     "metadata": {},
     "output_type": "display_data"
    },
    {
     "data": {
      "text/html": [
       "<pre>recommendations finished on 441000/556591 queries. users per second: 18267.4</pre>"
      ],
      "text/plain": [
       "recommendations finished on 441000/556591 queries. users per second: 18267.4"
      ]
     },
     "metadata": {},
     "output_type": "display_data"
    },
    {
     "data": {
      "text/html": [
       "<pre>recommendations finished on 442000/556591 queries. users per second: 18258.2</pre>"
      ],
      "text/plain": [
       "recommendations finished on 442000/556591 queries. users per second: 18258.2"
      ]
     },
     "metadata": {},
     "output_type": "display_data"
    },
    {
     "data": {
      "text/html": [
       "<pre>recommendations finished on 443000/556591 queries. users per second: 18250.7</pre>"
      ],
      "text/plain": [
       "recommendations finished on 443000/556591 queries. users per second: 18250.7"
      ]
     },
     "metadata": {},
     "output_type": "display_data"
    },
    {
     "data": {
      "text/html": [
       "<pre>recommendations finished on 444000/556591 queries. users per second: 18243.4</pre>"
      ],
      "text/plain": [
       "recommendations finished on 444000/556591 queries. users per second: 18243.4"
      ]
     },
     "metadata": {},
     "output_type": "display_data"
    },
    {
     "data": {
      "text/html": [
       "<pre>recommendations finished on 445000/556591 queries. users per second: 18234.9</pre>"
      ],
      "text/plain": [
       "recommendations finished on 445000/556591 queries. users per second: 18234.9"
      ]
     },
     "metadata": {},
     "output_type": "display_data"
    },
    {
     "data": {
      "text/html": [
       "<pre>recommendations finished on 446000/556591 queries. users per second: 18226.4</pre>"
      ],
      "text/plain": [
       "recommendations finished on 446000/556591 queries. users per second: 18226.4"
      ]
     },
     "metadata": {},
     "output_type": "display_data"
    },
    {
     "data": {
      "text/html": [
       "<pre>recommendations finished on 447000/556591 queries. users per second: 18217</pre>"
      ],
      "text/plain": [
       "recommendations finished on 447000/556591 queries. users per second: 18217"
      ]
     },
     "metadata": {},
     "output_type": "display_data"
    },
    {
     "data": {
      "text/html": [
       "<pre>recommendations finished on 448000/556591 queries. users per second: 18215</pre>"
      ],
      "text/plain": [
       "recommendations finished on 448000/556591 queries. users per second: 18215"
      ]
     },
     "metadata": {},
     "output_type": "display_data"
    },
    {
     "data": {
      "text/html": [
       "<pre>recommendations finished on 449000/556591 queries. users per second: 18214.5</pre>"
      ],
      "text/plain": [
       "recommendations finished on 449000/556591 queries. users per second: 18214.5"
      ]
     },
     "metadata": {},
     "output_type": "display_data"
    },
    {
     "data": {
      "text/html": [
       "<pre>recommendations finished on 450000/556591 queries. users per second: 18210.5</pre>"
      ],
      "text/plain": [
       "recommendations finished on 450000/556591 queries. users per second: 18210.5"
      ]
     },
     "metadata": {},
     "output_type": "display_data"
    },
    {
     "data": {
      "text/html": [
       "<pre>recommendations finished on 451000/556591 queries. users per second: 18210.2</pre>"
      ],
      "text/plain": [
       "recommendations finished on 451000/556591 queries. users per second: 18210.2"
      ]
     },
     "metadata": {},
     "output_type": "display_data"
    },
    {
     "data": {
      "text/html": [
       "<pre>recommendations finished on 452000/556591 queries. users per second: 18210.5</pre>"
      ],
      "text/plain": [
       "recommendations finished on 452000/556591 queries. users per second: 18210.5"
      ]
     },
     "metadata": {},
     "output_type": "display_data"
    },
    {
     "data": {
      "text/html": [
       "<pre>recommendations finished on 453000/556591 queries. users per second: 18209.5</pre>"
      ],
      "text/plain": [
       "recommendations finished on 453000/556591 queries. users per second: 18209.5"
      ]
     },
     "metadata": {},
     "output_type": "display_data"
    },
    {
     "data": {
      "text/html": [
       "<pre>recommendations finished on 454000/556591 queries. users per second: 18210.7</pre>"
      ],
      "text/plain": [
       "recommendations finished on 454000/556591 queries. users per second: 18210.7"
      ]
     },
     "metadata": {},
     "output_type": "display_data"
    },
    {
     "data": {
      "text/html": [
       "<pre>recommendations finished on 455000/556591 queries. users per second: 18203.6</pre>"
      ],
      "text/plain": [
       "recommendations finished on 455000/556591 queries. users per second: 18203.6"
      ]
     },
     "metadata": {},
     "output_type": "display_data"
    },
    {
     "data": {
      "text/html": [
       "<pre>recommendations finished on 456000/556591 queries. users per second: 18197.2</pre>"
      ],
      "text/plain": [
       "recommendations finished on 456000/556591 queries. users per second: 18197.2"
      ]
     },
     "metadata": {},
     "output_type": "display_data"
    },
    {
     "data": {
      "text/html": [
       "<pre>recommendations finished on 457000/556591 queries. users per second: 18196.2</pre>"
      ],
      "text/plain": [
       "recommendations finished on 457000/556591 queries. users per second: 18196.2"
      ]
     },
     "metadata": {},
     "output_type": "display_data"
    },
    {
     "data": {
      "text/html": [
       "<pre>recommendations finished on 458000/556591 queries. users per second: 18196.3</pre>"
      ],
      "text/plain": [
       "recommendations finished on 458000/556591 queries. users per second: 18196.3"
      ]
     },
     "metadata": {},
     "output_type": "display_data"
    },
    {
     "data": {
      "text/html": [
       "<pre>recommendations finished on 459000/556591 queries. users per second: 18197.2</pre>"
      ],
      "text/plain": [
       "recommendations finished on 459000/556591 queries. users per second: 18197.2"
      ]
     },
     "metadata": {},
     "output_type": "display_data"
    },
    {
     "data": {
      "text/html": [
       "<pre>recommendations finished on 460000/556591 queries. users per second: 18198.6</pre>"
      ],
      "text/plain": [
       "recommendations finished on 460000/556591 queries. users per second: 18198.6"
      ]
     },
     "metadata": {},
     "output_type": "display_data"
    },
    {
     "data": {
      "text/html": [
       "<pre>recommendations finished on 461000/556591 queries. users per second: 18199.9</pre>"
      ],
      "text/plain": [
       "recommendations finished on 461000/556591 queries. users per second: 18199.9"
      ]
     },
     "metadata": {},
     "output_type": "display_data"
    },
    {
     "data": {
      "text/html": [
       "<pre>recommendations finished on 462000/556591 queries. users per second: 18202.3</pre>"
      ],
      "text/plain": [
       "recommendations finished on 462000/556591 queries. users per second: 18202.3"
      ]
     },
     "metadata": {},
     "output_type": "display_data"
    },
    {
     "data": {
      "text/html": [
       "<pre>recommendations finished on 463000/556591 queries. users per second: 18204.2</pre>"
      ],
      "text/plain": [
       "recommendations finished on 463000/556591 queries. users per second: 18204.2"
      ]
     },
     "metadata": {},
     "output_type": "display_data"
    },
    {
     "data": {
      "text/html": [
       "<pre>recommendations finished on 464000/556591 queries. users per second: 18205.8</pre>"
      ],
      "text/plain": [
       "recommendations finished on 464000/556591 queries. users per second: 18205.8"
      ]
     },
     "metadata": {},
     "output_type": "display_data"
    },
    {
     "data": {
      "text/html": [
       "<pre>recommendations finished on 465000/556591 queries. users per second: 18206</pre>"
      ],
      "text/plain": [
       "recommendations finished on 465000/556591 queries. users per second: 18206"
      ]
     },
     "metadata": {},
     "output_type": "display_data"
    },
    {
     "data": {
      "text/html": [
       "<pre>recommendations finished on 466000/556591 queries. users per second: 18204.5</pre>"
      ],
      "text/plain": [
       "recommendations finished on 466000/556591 queries. users per second: 18204.5"
      ]
     },
     "metadata": {},
     "output_type": "display_data"
    },
    {
     "data": {
      "text/html": [
       "<pre>recommendations finished on 467000/556591 queries. users per second: 18203.9</pre>"
      ],
      "text/plain": [
       "recommendations finished on 467000/556591 queries. users per second: 18203.9"
      ]
     },
     "metadata": {},
     "output_type": "display_data"
    },
    {
     "data": {
      "text/html": [
       "<pre>recommendations finished on 468000/556591 queries. users per second: 18203.3</pre>"
      ],
      "text/plain": [
       "recommendations finished on 468000/556591 queries. users per second: 18203.3"
      ]
     },
     "metadata": {},
     "output_type": "display_data"
    },
    {
     "data": {
      "text/html": [
       "<pre>recommendations finished on 469000/556591 queries. users per second: 18204.4</pre>"
      ],
      "text/plain": [
       "recommendations finished on 469000/556591 queries. users per second: 18204.4"
      ]
     },
     "metadata": {},
     "output_type": "display_data"
    },
    {
     "data": {
      "text/html": [
       "<pre>recommendations finished on 470000/556591 queries. users per second: 18205.8</pre>"
      ],
      "text/plain": [
       "recommendations finished on 470000/556591 queries. users per second: 18205.8"
      ]
     },
     "metadata": {},
     "output_type": "display_data"
    },
    {
     "data": {
      "text/html": [
       "<pre>recommendations finished on 471000/556591 queries. users per second: 18206.1</pre>"
      ],
      "text/plain": [
       "recommendations finished on 471000/556591 queries. users per second: 18206.1"
      ]
     },
     "metadata": {},
     "output_type": "display_data"
    },
    {
     "data": {
      "text/html": [
       "<pre>recommendations finished on 472000/556591 queries. users per second: 18207.5</pre>"
      ],
      "text/plain": [
       "recommendations finished on 472000/556591 queries. users per second: 18207.5"
      ]
     },
     "metadata": {},
     "output_type": "display_data"
    },
    {
     "data": {
      "text/html": [
       "<pre>recommendations finished on 473000/556591 queries. users per second: 18209.2</pre>"
      ],
      "text/plain": [
       "recommendations finished on 473000/556591 queries. users per second: 18209.2"
      ]
     },
     "metadata": {},
     "output_type": "display_data"
    },
    {
     "data": {
      "text/html": [
       "<pre>recommendations finished on 474000/556591 queries. users per second: 18206.7</pre>"
      ],
      "text/plain": [
       "recommendations finished on 474000/556591 queries. users per second: 18206.7"
      ]
     },
     "metadata": {},
     "output_type": "display_data"
    },
    {
     "data": {
      "text/html": [
       "<pre>recommendations finished on 475000/556591 queries. users per second: 18204.1</pre>"
      ],
      "text/plain": [
       "recommendations finished on 475000/556591 queries. users per second: 18204.1"
      ]
     },
     "metadata": {},
     "output_type": "display_data"
    },
    {
     "data": {
      "text/html": [
       "<pre>recommendations finished on 476000/556591 queries. users per second: 18204.3</pre>"
      ],
      "text/plain": [
       "recommendations finished on 476000/556591 queries. users per second: 18204.3"
      ]
     },
     "metadata": {},
     "output_type": "display_data"
    },
    {
     "data": {
      "text/html": [
       "<pre>recommendations finished on 477000/556591 queries. users per second: 18202.6</pre>"
      ],
      "text/plain": [
       "recommendations finished on 477000/556591 queries. users per second: 18202.6"
      ]
     },
     "metadata": {},
     "output_type": "display_data"
    },
    {
     "data": {
      "text/html": [
       "<pre>recommendations finished on 478000/556591 queries. users per second: 18201.4</pre>"
      ],
      "text/plain": [
       "recommendations finished on 478000/556591 queries. users per second: 18201.4"
      ]
     },
     "metadata": {},
     "output_type": "display_data"
    },
    {
     "data": {
      "text/html": [
       "<pre>recommendations finished on 479000/556591 queries. users per second: 18196.1</pre>"
      ],
      "text/plain": [
       "recommendations finished on 479000/556591 queries. users per second: 18196.1"
      ]
     },
     "metadata": {},
     "output_type": "display_data"
    },
    {
     "data": {
      "text/html": [
       "<pre>recommendations finished on 480000/556591 queries. users per second: 18192.5</pre>"
      ],
      "text/plain": [
       "recommendations finished on 480000/556591 queries. users per second: 18192.5"
      ]
     },
     "metadata": {},
     "output_type": "display_data"
    },
    {
     "data": {
      "text/html": [
       "<pre>recommendations finished on 481000/556591 queries. users per second: 18190.6</pre>"
      ],
      "text/plain": [
       "recommendations finished on 481000/556591 queries. users per second: 18190.6"
      ]
     },
     "metadata": {},
     "output_type": "display_data"
    },
    {
     "data": {
      "text/html": [
       "<pre>recommendations finished on 482000/556591 queries. users per second: 18188.4</pre>"
      ],
      "text/plain": [
       "recommendations finished on 482000/556591 queries. users per second: 18188.4"
      ]
     },
     "metadata": {},
     "output_type": "display_data"
    },
    {
     "data": {
      "text/html": [
       "<pre>recommendations finished on 483000/556591 queries. users per second: 18183.1</pre>"
      ],
      "text/plain": [
       "recommendations finished on 483000/556591 queries. users per second: 18183.1"
      ]
     },
     "metadata": {},
     "output_type": "display_data"
    },
    {
     "data": {
      "text/html": [
       "<pre>recommendations finished on 484000/556591 queries. users per second: 18180.4</pre>"
      ],
      "text/plain": [
       "recommendations finished on 484000/556591 queries. users per second: 18180.4"
      ]
     },
     "metadata": {},
     "output_type": "display_data"
    },
    {
     "data": {
      "text/html": [
       "<pre>recommendations finished on 485000/556591 queries. users per second: 18180.9</pre>"
      ],
      "text/plain": [
       "recommendations finished on 485000/556591 queries. users per second: 18180.9"
      ]
     },
     "metadata": {},
     "output_type": "display_data"
    },
    {
     "data": {
      "text/html": [
       "<pre>recommendations finished on 486000/556591 queries. users per second: 18180.8</pre>"
      ],
      "text/plain": [
       "recommendations finished on 486000/556591 queries. users per second: 18180.8"
      ]
     },
     "metadata": {},
     "output_type": "display_data"
    },
    {
     "data": {
      "text/html": [
       "<pre>recommendations finished on 487000/556591 queries. users per second: 18168.4</pre>"
      ],
      "text/plain": [
       "recommendations finished on 487000/556591 queries. users per second: 18168.4"
      ]
     },
     "metadata": {},
     "output_type": "display_data"
    },
    {
     "data": {
      "text/html": [
       "<pre>recommendations finished on 488000/556591 queries. users per second: 18161.1</pre>"
      ],
      "text/plain": [
       "recommendations finished on 488000/556591 queries. users per second: 18161.1"
      ]
     },
     "metadata": {},
     "output_type": "display_data"
    },
    {
     "data": {
      "text/html": [
       "<pre>recommendations finished on 489000/556591 queries. users per second: 18150</pre>"
      ],
      "text/plain": [
       "recommendations finished on 489000/556591 queries. users per second: 18150"
      ]
     },
     "metadata": {},
     "output_type": "display_data"
    },
    {
     "data": {
      "text/html": [
       "<pre>recommendations finished on 490000/556591 queries. users per second: 18139.1</pre>"
      ],
      "text/plain": [
       "recommendations finished on 490000/556591 queries. users per second: 18139.1"
      ]
     },
     "metadata": {},
     "output_type": "display_data"
    },
    {
     "data": {
      "text/html": [
       "<pre>recommendations finished on 491000/556591 queries. users per second: 18127.5</pre>"
      ],
      "text/plain": [
       "recommendations finished on 491000/556591 queries. users per second: 18127.5"
      ]
     },
     "metadata": {},
     "output_type": "display_data"
    },
    {
     "data": {
      "text/html": [
       "<pre>recommendations finished on 492000/556591 queries. users per second: 18117.5</pre>"
      ],
      "text/plain": [
       "recommendations finished on 492000/556591 queries. users per second: 18117.5"
      ]
     },
     "metadata": {},
     "output_type": "display_data"
    },
    {
     "data": {
      "text/html": [
       "<pre>recommendations finished on 493000/556591 queries. users per second: 18104.7</pre>"
      ],
      "text/plain": [
       "recommendations finished on 493000/556591 queries. users per second: 18104.7"
      ]
     },
     "metadata": {},
     "output_type": "display_data"
    },
    {
     "data": {
      "text/html": [
       "<pre>recommendations finished on 494000/556591 queries. users per second: 18097.2</pre>"
      ],
      "text/plain": [
       "recommendations finished on 494000/556591 queries. users per second: 18097.2"
      ]
     },
     "metadata": {},
     "output_type": "display_data"
    },
    {
     "data": {
      "text/html": [
       "<pre>recommendations finished on 495000/556591 queries. users per second: 18095.2</pre>"
      ],
      "text/plain": [
       "recommendations finished on 495000/556591 queries. users per second: 18095.2"
      ]
     },
     "metadata": {},
     "output_type": "display_data"
    },
    {
     "data": {
      "text/html": [
       "<pre>recommendations finished on 496000/556591 queries. users per second: 18095.6</pre>"
      ],
      "text/plain": [
       "recommendations finished on 496000/556591 queries. users per second: 18095.6"
      ]
     },
     "metadata": {},
     "output_type": "display_data"
    },
    {
     "data": {
      "text/html": [
       "<pre>recommendations finished on 497000/556591 queries. users per second: 18094.5</pre>"
      ],
      "text/plain": [
       "recommendations finished on 497000/556591 queries. users per second: 18094.5"
      ]
     },
     "metadata": {},
     "output_type": "display_data"
    },
    {
     "data": {
      "text/html": [
       "<pre>recommendations finished on 498000/556591 queries. users per second: 18096.1</pre>"
      ],
      "text/plain": [
       "recommendations finished on 498000/556591 queries. users per second: 18096.1"
      ]
     },
     "metadata": {},
     "output_type": "display_data"
    },
    {
     "data": {
      "text/html": [
       "<pre>recommendations finished on 499000/556591 queries. users per second: 18096.8</pre>"
      ],
      "text/plain": [
       "recommendations finished on 499000/556591 queries. users per second: 18096.8"
      ]
     },
     "metadata": {},
     "output_type": "display_data"
    },
    {
     "data": {
      "text/html": [
       "<pre>recommendations finished on 500000/556591 queries. users per second: 18098</pre>"
      ],
      "text/plain": [
       "recommendations finished on 500000/556591 queries. users per second: 18098"
      ]
     },
     "metadata": {},
     "output_type": "display_data"
    },
    {
     "data": {
      "text/html": [
       "<pre>recommendations finished on 501000/556591 queries. users per second: 18097</pre>"
      ],
      "text/plain": [
       "recommendations finished on 501000/556591 queries. users per second: 18097"
      ]
     },
     "metadata": {},
     "output_type": "display_data"
    },
    {
     "data": {
      "text/html": [
       "<pre>recommendations finished on 502000/556591 queries. users per second: 18096.3</pre>"
      ],
      "text/plain": [
       "recommendations finished on 502000/556591 queries. users per second: 18096.3"
      ]
     },
     "metadata": {},
     "output_type": "display_data"
    },
    {
     "data": {
      "text/html": [
       "<pre>recommendations finished on 503000/556591 queries. users per second: 18098.5</pre>"
      ],
      "text/plain": [
       "recommendations finished on 503000/556591 queries. users per second: 18098.5"
      ]
     },
     "metadata": {},
     "output_type": "display_data"
    },
    {
     "data": {
      "text/html": [
       "<pre>recommendations finished on 504000/556591 queries. users per second: 18095</pre>"
      ],
      "text/plain": [
       "recommendations finished on 504000/556591 queries. users per second: 18095"
      ]
     },
     "metadata": {},
     "output_type": "display_data"
    },
    {
     "data": {
      "text/html": [
       "<pre>recommendations finished on 505000/556591 queries. users per second: 18091.6</pre>"
      ],
      "text/plain": [
       "recommendations finished on 505000/556591 queries. users per second: 18091.6"
      ]
     },
     "metadata": {},
     "output_type": "display_data"
    },
    {
     "data": {
      "text/html": [
       "<pre>recommendations finished on 506000/556591 queries. users per second: 18090</pre>"
      ],
      "text/plain": [
       "recommendations finished on 506000/556591 queries. users per second: 18090"
      ]
     },
     "metadata": {},
     "output_type": "display_data"
    },
    {
     "data": {
      "text/html": [
       "<pre>recommendations finished on 507000/556591 queries. users per second: 18087.6</pre>"
      ],
      "text/plain": [
       "recommendations finished on 507000/556591 queries. users per second: 18087.6"
      ]
     },
     "metadata": {},
     "output_type": "display_data"
    },
    {
     "data": {
      "text/html": [
       "<pre>recommendations finished on 508000/556591 queries. users per second: 18084.8</pre>"
      ],
      "text/plain": [
       "recommendations finished on 508000/556591 queries. users per second: 18084.8"
      ]
     },
     "metadata": {},
     "output_type": "display_data"
    },
    {
     "data": {
      "text/html": [
       "<pre>recommendations finished on 509000/556591 queries. users per second: 18083.6</pre>"
      ],
      "text/plain": [
       "recommendations finished on 509000/556591 queries. users per second: 18083.6"
      ]
     },
     "metadata": {},
     "output_type": "display_data"
    },
    {
     "data": {
      "text/html": [
       "<pre>recommendations finished on 510000/556591 queries. users per second: 18083.7</pre>"
      ],
      "text/plain": [
       "recommendations finished on 510000/556591 queries. users per second: 18083.7"
      ]
     },
     "metadata": {},
     "output_type": "display_data"
    },
    {
     "data": {
      "text/html": [
       "<pre>recommendations finished on 511000/556591 queries. users per second: 18081.6</pre>"
      ],
      "text/plain": [
       "recommendations finished on 511000/556591 queries. users per second: 18081.6"
      ]
     },
     "metadata": {},
     "output_type": "display_data"
    },
    {
     "data": {
      "text/html": [
       "<pre>recommendations finished on 512000/556591 queries. users per second: 18082.4</pre>"
      ],
      "text/plain": [
       "recommendations finished on 512000/556591 queries. users per second: 18082.4"
      ]
     },
     "metadata": {},
     "output_type": "display_data"
    },
    {
     "data": {
      "text/html": [
       "<pre>recommendations finished on 513000/556591 queries. users per second: 18083.2</pre>"
      ],
      "text/plain": [
       "recommendations finished on 513000/556591 queries. users per second: 18083.2"
      ]
     },
     "metadata": {},
     "output_type": "display_data"
    },
    {
     "data": {
      "text/html": [
       "<pre>recommendations finished on 514000/556591 queries. users per second: 18082.2</pre>"
      ],
      "text/plain": [
       "recommendations finished on 514000/556591 queries. users per second: 18082.2"
      ]
     },
     "metadata": {},
     "output_type": "display_data"
    },
    {
     "data": {
      "text/html": [
       "<pre>recommendations finished on 515000/556591 queries. users per second: 18068.3</pre>"
      ],
      "text/plain": [
       "recommendations finished on 515000/556591 queries. users per second: 18068.3"
      ]
     },
     "metadata": {},
     "output_type": "display_data"
    },
    {
     "data": {
      "text/html": [
       "<pre>recommendations finished on 516000/556591 queries. users per second: 18056.4</pre>"
      ],
      "text/plain": [
       "recommendations finished on 516000/556591 queries. users per second: 18056.4"
      ]
     },
     "metadata": {},
     "output_type": "display_data"
    },
    {
     "data": {
      "text/html": [
       "<pre>recommendations finished on 517000/556591 queries. users per second: 18045.3</pre>"
      ],
      "text/plain": [
       "recommendations finished on 517000/556591 queries. users per second: 18045.3"
      ]
     },
     "metadata": {},
     "output_type": "display_data"
    },
    {
     "data": {
      "text/html": [
       "<pre>recommendations finished on 518000/556591 queries. users per second: 18037.6</pre>"
      ],
      "text/plain": [
       "recommendations finished on 518000/556591 queries. users per second: 18037.6"
      ]
     },
     "metadata": {},
     "output_type": "display_data"
    },
    {
     "data": {
      "text/html": [
       "<pre>recommendations finished on 519000/556591 queries. users per second: 18027.3</pre>"
      ],
      "text/plain": [
       "recommendations finished on 519000/556591 queries. users per second: 18027.3"
      ]
     },
     "metadata": {},
     "output_type": "display_data"
    },
    {
     "data": {
      "text/html": [
       "<pre>recommendations finished on 520000/556591 queries. users per second: 18023.6</pre>"
      ],
      "text/plain": [
       "recommendations finished on 520000/556591 queries. users per second: 18023.6"
      ]
     },
     "metadata": {},
     "output_type": "display_data"
    },
    {
     "data": {
      "text/html": [
       "<pre>recommendations finished on 521000/556591 queries. users per second: 18018.3</pre>"
      ],
      "text/plain": [
       "recommendations finished on 521000/556591 queries. users per second: 18018.3"
      ]
     },
     "metadata": {},
     "output_type": "display_data"
    },
    {
     "data": {
      "text/html": [
       "<pre>recommendations finished on 522000/556591 queries. users per second: 18017.5</pre>"
      ],
      "text/plain": [
       "recommendations finished on 522000/556591 queries. users per second: 18017.5"
      ]
     },
     "metadata": {},
     "output_type": "display_data"
    },
    {
     "data": {
      "text/html": [
       "<pre>recommendations finished on 523000/556591 queries. users per second: 18016.2</pre>"
      ],
      "text/plain": [
       "recommendations finished on 523000/556591 queries. users per second: 18016.2"
      ]
     },
     "metadata": {},
     "output_type": "display_data"
    },
    {
     "data": {
      "text/html": [
       "<pre>recommendations finished on 524000/556591 queries. users per second: 18014.6</pre>"
      ],
      "text/plain": [
       "recommendations finished on 524000/556591 queries. users per second: 18014.6"
      ]
     },
     "metadata": {},
     "output_type": "display_data"
    },
    {
     "data": {
      "text/html": [
       "<pre>recommendations finished on 525000/556591 queries. users per second: 18015.4</pre>"
      ],
      "text/plain": [
       "recommendations finished on 525000/556591 queries. users per second: 18015.4"
      ]
     },
     "metadata": {},
     "output_type": "display_data"
    },
    {
     "data": {
      "text/html": [
       "<pre>recommendations finished on 526000/556591 queries. users per second: 18015.5</pre>"
      ],
      "text/plain": [
       "recommendations finished on 526000/556591 queries. users per second: 18015.5"
      ]
     },
     "metadata": {},
     "output_type": "display_data"
    },
    {
     "data": {
      "text/html": [
       "<pre>recommendations finished on 527000/556591 queries. users per second: 18013.5</pre>"
      ],
      "text/plain": [
       "recommendations finished on 527000/556591 queries. users per second: 18013.5"
      ]
     },
     "metadata": {},
     "output_type": "display_data"
    },
    {
     "data": {
      "text/html": [
       "<pre>recommendations finished on 528000/556591 queries. users per second: 17999.2</pre>"
      ],
      "text/plain": [
       "recommendations finished on 528000/556591 queries. users per second: 17999.2"
      ]
     },
     "metadata": {},
     "output_type": "display_data"
    },
    {
     "data": {
      "text/html": [
       "<pre>recommendations finished on 529000/556591 queries. users per second: 17988.8</pre>"
      ],
      "text/plain": [
       "recommendations finished on 529000/556591 queries. users per second: 17988.8"
      ]
     },
     "metadata": {},
     "output_type": "display_data"
    },
    {
     "data": {
      "text/html": [
       "<pre>recommendations finished on 530000/556591 queries. users per second: 17980.3</pre>"
      ],
      "text/plain": [
       "recommendations finished on 530000/556591 queries. users per second: 17980.3"
      ]
     },
     "metadata": {},
     "output_type": "display_data"
    },
    {
     "data": {
      "text/html": [
       "<pre>recommendations finished on 531000/556591 queries. users per second: 17973.9</pre>"
      ],
      "text/plain": [
       "recommendations finished on 531000/556591 queries. users per second: 17973.9"
      ]
     },
     "metadata": {},
     "output_type": "display_data"
    },
    {
     "data": {
      "text/html": [
       "<pre>recommendations finished on 532000/556591 queries. users per second: 17967.1</pre>"
      ],
      "text/plain": [
       "recommendations finished on 532000/556591 queries. users per second: 17967.1"
      ]
     },
     "metadata": {},
     "output_type": "display_data"
    },
    {
     "data": {
      "text/html": [
       "<pre>recommendations finished on 533000/556591 queries. users per second: 17957.9</pre>"
      ],
      "text/plain": [
       "recommendations finished on 533000/556591 queries. users per second: 17957.9"
      ]
     },
     "metadata": {},
     "output_type": "display_data"
    },
    {
     "data": {
      "text/html": [
       "<pre>recommendations finished on 534000/556591 queries. users per second: 17949.9</pre>"
      ],
      "text/plain": [
       "recommendations finished on 534000/556591 queries. users per second: 17949.9"
      ]
     },
     "metadata": {},
     "output_type": "display_data"
    },
    {
     "data": {
      "text/html": [
       "<pre>recommendations finished on 535000/556591 queries. users per second: 17947</pre>"
      ],
      "text/plain": [
       "recommendations finished on 535000/556591 queries. users per second: 17947"
      ]
     },
     "metadata": {},
     "output_type": "display_data"
    },
    {
     "data": {
      "text/html": [
       "<pre>recommendations finished on 536000/556591 queries. users per second: 17946.1</pre>"
      ],
      "text/plain": [
       "recommendations finished on 536000/556591 queries. users per second: 17946.1"
      ]
     },
     "metadata": {},
     "output_type": "display_data"
    },
    {
     "data": {
      "text/html": [
       "<pre>recommendations finished on 537000/556591 queries. users per second: 17945.5</pre>"
      ],
      "text/plain": [
       "recommendations finished on 537000/556591 queries. users per second: 17945.5"
      ]
     },
     "metadata": {},
     "output_type": "display_data"
    },
    {
     "data": {
      "text/html": [
       "<pre>recommendations finished on 538000/556591 queries. users per second: 17942.3</pre>"
      ],
      "text/plain": [
       "recommendations finished on 538000/556591 queries. users per second: 17942.3"
      ]
     },
     "metadata": {},
     "output_type": "display_data"
    },
    {
     "data": {
      "text/html": [
       "<pre>recommendations finished on 539000/556591 queries. users per second: 17941</pre>"
      ],
      "text/plain": [
       "recommendations finished on 539000/556591 queries. users per second: 17941"
      ]
     },
     "metadata": {},
     "output_type": "display_data"
    },
    {
     "data": {
      "text/html": [
       "<pre>recommendations finished on 540000/556591 queries. users per second: 17938.6</pre>"
      ],
      "text/plain": [
       "recommendations finished on 540000/556591 queries. users per second: 17938.6"
      ]
     },
     "metadata": {},
     "output_type": "display_data"
    },
    {
     "data": {
      "text/html": [
       "<pre>recommendations finished on 541000/556591 queries. users per second: 17937.7</pre>"
      ],
      "text/plain": [
       "recommendations finished on 541000/556591 queries. users per second: 17937.7"
      ]
     },
     "metadata": {},
     "output_type": "display_data"
    },
    {
     "data": {
      "text/html": [
       "<pre>recommendations finished on 542000/556591 queries. users per second: 17936.4</pre>"
      ],
      "text/plain": [
       "recommendations finished on 542000/556591 queries. users per second: 17936.4"
      ]
     },
     "metadata": {},
     "output_type": "display_data"
    },
    {
     "data": {
      "text/html": [
       "<pre>recommendations finished on 543000/556591 queries. users per second: 17936.7</pre>"
      ],
      "text/plain": [
       "recommendations finished on 543000/556591 queries. users per second: 17936.7"
      ]
     },
     "metadata": {},
     "output_type": "display_data"
    },
    {
     "data": {
      "text/html": [
       "<pre>recommendations finished on 544000/556591 queries. users per second: 17928.1</pre>"
      ],
      "text/plain": [
       "recommendations finished on 544000/556591 queries. users per second: 17928.1"
      ]
     },
     "metadata": {},
     "output_type": "display_data"
    },
    {
     "data": {
      "text/html": [
       "<pre>recommendations finished on 545000/556591 queries. users per second: 17923.4</pre>"
      ],
      "text/plain": [
       "recommendations finished on 545000/556591 queries. users per second: 17923.4"
      ]
     },
     "metadata": {},
     "output_type": "display_data"
    },
    {
     "data": {
      "text/html": [
       "<pre>recommendations finished on 546000/556591 queries. users per second: 17921.1</pre>"
      ],
      "text/plain": [
       "recommendations finished on 546000/556591 queries. users per second: 17921.1"
      ]
     },
     "metadata": {},
     "output_type": "display_data"
    },
    {
     "data": {
      "text/html": [
       "<pre>recommendations finished on 547000/556591 queries. users per second: 17917</pre>"
      ],
      "text/plain": [
       "recommendations finished on 547000/556591 queries. users per second: 17917"
      ]
     },
     "metadata": {},
     "output_type": "display_data"
    },
    {
     "data": {
      "text/html": [
       "<pre>recommendations finished on 548000/556591 queries. users per second: 17909.1</pre>"
      ],
      "text/plain": [
       "recommendations finished on 548000/556591 queries. users per second: 17909.1"
      ]
     },
     "metadata": {},
     "output_type": "display_data"
    },
    {
     "data": {
      "text/html": [
       "<pre>recommendations finished on 549000/556591 queries. users per second: 17899.6</pre>"
      ],
      "text/plain": [
       "recommendations finished on 549000/556591 queries. users per second: 17899.6"
      ]
     },
     "metadata": {},
     "output_type": "display_data"
    },
    {
     "data": {
      "text/html": [
       "<pre>recommendations finished on 550000/556591 queries. users per second: 17887.7</pre>"
      ],
      "text/plain": [
       "recommendations finished on 550000/556591 queries. users per second: 17887.7"
      ]
     },
     "metadata": {},
     "output_type": "display_data"
    },
    {
     "data": {
      "text/html": [
       "<pre>recommendations finished on 551000/556591 queries. users per second: 17880.8</pre>"
      ],
      "text/plain": [
       "recommendations finished on 551000/556591 queries. users per second: 17880.8"
      ]
     },
     "metadata": {},
     "output_type": "display_data"
    },
    {
     "data": {
      "text/html": [
       "<pre>recommendations finished on 552000/556591 queries. users per second: 17872.7</pre>"
      ],
      "text/plain": [
       "recommendations finished on 552000/556591 queries. users per second: 17872.7"
      ]
     },
     "metadata": {},
     "output_type": "display_data"
    },
    {
     "data": {
      "text/html": [
       "<pre>recommendations finished on 553000/556591 queries. users per second: 17868</pre>"
      ],
      "text/plain": [
       "recommendations finished on 553000/556591 queries. users per second: 17868"
      ]
     },
     "metadata": {},
     "output_type": "display_data"
    },
    {
     "data": {
      "text/html": [
       "<pre>recommendations finished on 554000/556591 queries. users per second: 17863.2</pre>"
      ],
      "text/plain": [
       "recommendations finished on 554000/556591 queries. users per second: 17863.2"
      ]
     },
     "metadata": {},
     "output_type": "display_data"
    },
    {
     "data": {
      "text/html": [
       "<pre>recommendations finished on 555000/556591 queries. users per second: 17857.2</pre>"
      ],
      "text/plain": [
       "recommendations finished on 555000/556591 queries. users per second: 17857.2"
      ]
     },
     "metadata": {},
     "output_type": "display_data"
    },
    {
     "data": {
      "text/html": [
       "<pre>recommendations finished on 556000/556591 queries. users per second: 17852.8</pre>"
      ],
      "text/plain": [
       "recommendations finished on 556000/556591 queries. users per second: 17852.8"
      ]
     },
     "metadata": {},
     "output_type": "display_data"
    },
    {
     "name": "stdout",
     "output_type": "stream",
     "text": [
      "+-----------+------------+----------------------+------+\n",
      "|  user_id  | product_id |        score         | rank |\n",
      "+-----------+------------+----------------------+------+\n",
      "| 543272936 |  1004833   | 0.08455404043197631  |  1   |\n",
      "| 543272936 |  1004870   | 0.06114791631698609  |  2   |\n",
      "| 543272936 |  1004836   | 0.05349932909011841  |  3   |\n",
      "| 543272936 |  1004750   | 0.04826837778091431  |  4   |\n",
      "| 543272936 |  1004873   | 0.03947700262069702  |  5   |\n",
      "| 543272936 |  1005098   | 0.03814225196838379  |  6   |\n",
      "| 543272936 |  1004857   | 0.03758982419967651  |  7   |\n",
      "| 543272936 |  1004858   | 0.03724290132522583  |  8   |\n",
      "| 543272936 |  1004209   | 0.031753814220428465 |  9   |\n",
      "| 543272936 |  1002544   | 0.030005264282226562 |  10  |\n",
      "| 551377651 |  1004833   | 0.03707390481775457  |  1   |\n",
      "| 551377651 |  1004767   | 0.03470703146674416  |  2   |\n",
      "| 551377651 |  1002544   |  0.0309004621072249  |  3   |\n",
      "| 551377651 |  1004836   | 0.02744315971027721  |  4   |\n",
      "| 551377651 |  1004249   | 0.023450347510251133 |  5   |\n",
      "| 551377651 |  1002633   | 0.022966612469066273 |  6   |\n",
      "| 551377651 |  1005100   | 0.022679675709117542 |  7   |\n",
      "| 551377651 |  1003317   | 0.022277208891781895 |  8   |\n",
      "| 551377651 |  1005115   | 0.02088065039027821  |  9   |\n",
      "| 551377651 |  1004870   | 0.020642887462269176 |  10  |\n",
      "+-----------+------------+----------------------+------+\n",
      "[5565910 rows x 4 columns]\n",
      "\n"
     ]
    }
   ],
   "source": [
    "users_to_recommend = list(threshold_data_interations[user_id])\n",
    "\n",
    "final_model = tc.item_similarity_recommender.create(tc.SFrame(data), \n",
    "                                            user_id=user_id, \n",
    "                                            item_id=item_id, \n",
    "                                            target='purchase_count')\n",
    "\n",
    "recom = final_model.recommend(users=users_to_recommend, k=n_rec)\n",
    "recom.print_rows(n_display)"
   ]
  },
  {
   "cell_type": "code",
   "execution_count": 63,
   "metadata": {},
   "outputs": [
    {
     "name": "stdout",
     "output_type": "stream",
     "text": [
      "(5565910, 4)\n"
     ]
    },
    {
     "data": {
      "text/html": [
       "<div>\n",
       "<style scoped>\n",
       "    .dataframe tbody tr th:only-of-type {\n",
       "        vertical-align: middle;\n",
       "    }\n",
       "\n",
       "    .dataframe tbody tr th {\n",
       "        vertical-align: top;\n",
       "    }\n",
       "\n",
       "    .dataframe thead th {\n",
       "        text-align: right;\n",
       "    }\n",
       "</style>\n",
       "<table border=\"1\" class=\"dataframe\">\n",
       "  <thead>\n",
       "    <tr style=\"text-align: right;\">\n",
       "      <th></th>\n",
       "      <th>user_id</th>\n",
       "      <th>product_id</th>\n",
       "      <th>score</th>\n",
       "      <th>rank</th>\n",
       "    </tr>\n",
       "  </thead>\n",
       "  <tbody>\n",
       "    <tr>\n",
       "      <th>0</th>\n",
       "      <td>543272936</td>\n",
       "      <td>1004833</td>\n",
       "      <td>0.084554</td>\n",
       "      <td>1</td>\n",
       "    </tr>\n",
       "    <tr>\n",
       "      <th>1</th>\n",
       "      <td>543272936</td>\n",
       "      <td>1004870</td>\n",
       "      <td>0.061148</td>\n",
       "      <td>2</td>\n",
       "    </tr>\n",
       "    <tr>\n",
       "      <th>2</th>\n",
       "      <td>543272936</td>\n",
       "      <td>1004836</td>\n",
       "      <td>0.053499</td>\n",
       "      <td>3</td>\n",
       "    </tr>\n",
       "    <tr>\n",
       "      <th>3</th>\n",
       "      <td>543272936</td>\n",
       "      <td>1004750</td>\n",
       "      <td>0.048268</td>\n",
       "      <td>4</td>\n",
       "    </tr>\n",
       "    <tr>\n",
       "      <th>4</th>\n",
       "      <td>543272936</td>\n",
       "      <td>1004873</td>\n",
       "      <td>0.039477</td>\n",
       "      <td>5</td>\n",
       "    </tr>\n",
       "  </tbody>\n",
       "</table>\n",
       "</div>"
      ],
      "text/plain": [
       "     user_id  product_id     score  rank\n",
       "0  543272936     1004833  0.084554     1\n",
       "1  543272936     1004870  0.061148     2\n",
       "2  543272936     1004836  0.053499     3\n",
       "3  543272936     1004750  0.048268     4\n",
       "4  543272936     1004873  0.039477     5"
      ]
     },
     "execution_count": 63,
     "metadata": {},
     "output_type": "execute_result"
    }
   ],
   "source": [
    "df_rec = recom.to_dataframe()\n",
    "print(df_rec.shape)\n",
    "df_rec.head()"
   ]
  },
  {
   "cell_type": "code",
   "execution_count": 64,
   "metadata": {},
   "outputs": [],
   "source": [
    "df_rec['recommendedProducts'] = df_rec.groupby([user_id])[item_id].transform(lambda x: '|'.join(x.astype(str)))\n",
    "df_output = df_rec[['user_id', 'recommendedProducts']].drop_duplicates().sort_values('user_id').set_index('user_id')"
   ]
  },
  {
   "cell_type": "code",
   "execution_count": 65,
   "metadata": {},
   "outputs": [],
   "source": [
    "def customer_recomendation(customer_id):\n",
    "    if customer_id not in df_output.index:\n",
    "        print('Customer not found.')\n",
    "        return customer_id\n",
    "    return df_output.loc[customer_id]"
   ]
  },
  {
   "cell_type": "code",
   "execution_count": 66,
   "metadata": {},
   "outputs": [
    {
     "data": {
      "text/plain": [
       "recommendedProducts    1004856|1004873|1005100|32801121|1004768|10025...\n",
       "Name: 512577810, dtype: object"
      ]
     },
     "execution_count": 66,
     "metadata": {},
     "output_type": "execute_result"
    }
   ],
   "source": [
    "import random\n",
    "customer_recomendation(random.choice(users_to_recommend))"
   ]
  },
  {
   "cell_type": "code",
   "execution_count": null,
   "metadata": {},
   "outputs": [],
   "source": []
  }
 ],
 "metadata": {
  "kernelspec": {
   "display_name": "Python 3",
   "language": "python",
   "name": "python3"
  },
  "language_info": {
   "codemirror_mode": {
    "name": "ipython",
    "version": 3
   },
   "file_extension": ".py",
   "mimetype": "text/x-python",
   "name": "python",
   "nbconvert_exporter": "python",
   "pygments_lexer": "ipython3",
   "version": "3.8.5"
  }
 },
 "nbformat": 4,
 "nbformat_minor": 4
}
